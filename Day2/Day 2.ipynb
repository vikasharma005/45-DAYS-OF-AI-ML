{
 "cells": [
  {
   "cell_type": "code",
   "execution_count": null,
   "id": "7511ab26",
   "metadata": {},
   "outputs": [],
   "source": [
    "Data  : Any Kind of Information"
   ]
  },
  {
   "cell_type": "markdown",
   "id": "6d08f135",
   "metadata": {},
   "source": [
    "##### Data : Defined Data"
   ]
  },
  {
   "cell_type": "code",
   "execution_count": 2,
   "id": "b161c311",
   "metadata": {},
   "outputs": [
    {
     "ename": "NameError",
     "evalue": "name 'Mike' is not defined",
     "output_type": "error",
     "traceback": [
      "\u001b[1;31m---------------------------------------------------------------------------\u001b[0m",
      "\u001b[1;31mNameError\u001b[0m                                 Traceback (most recent call last)",
      "Input \u001b[1;32mIn [2]\u001b[0m, in \u001b[0;36m<cell line: 1>\u001b[1;34m()\u001b[0m\n\u001b[1;32m----> 1\u001b[0m \u001b[43mMike\u001b[49m\n",
      "\u001b[1;31mNameError\u001b[0m: name 'Mike' is not defined"
     ]
    }
   ],
   "source": [
    "Mike"
   ]
  },
  {
   "cell_type": "markdown",
   "id": "a28c3f3a",
   "metadata": {},
   "source": [
    "#### String Data "
   ]
  },
  {
   "cell_type": "code",
   "execution_count": null,
   "id": "46875809",
   "metadata": {},
   "outputs": [],
   "source": [
    "Data => Char\\Letters\\Words\n",
    "==> This Type of Data Is Known As String"
   ]
  },
  {
   "cell_type": "markdown",
   "id": "eaf89ac3",
   "metadata": {},
   "source": [
    "#### How To Make String`"
   ]
  },
  {
   "cell_type": "code",
   "execution_count": null,
   "id": "25effc67",
   "metadata": {},
   "outputs": [],
   "source": [
    "Single  Quote  :  '   '\n",
    "Double  Quote  : \"    \"\n",
    "Tripple Quote  : ''' '''"
   ]
  },
  {
   "cell_type": "code",
   "execution_count": null,
   "id": "2d1959a9",
   "metadata": {},
   "outputs": [],
   "source": [
    "Put Anytype of Data Inside This,It Will Make Into String Data Type."
   ]
  },
  {
   "cell_type": "code",
   "execution_count": 5,
   "id": "75b69674",
   "metadata": {},
   "outputs": [
    {
     "data": {
      "text/plain": [
       "'A'"
      ]
     },
     "execution_count": 5,
     "metadata": {},
     "output_type": "execute_result"
    }
   ],
   "source": [
    "'A'"
   ]
  },
  {
   "cell_type": "code",
   "execution_count": 6,
   "id": "a17bab85",
   "metadata": {},
   "outputs": [
    {
     "data": {
      "text/plain": [
       "'Mike'"
      ]
     },
     "execution_count": 6,
     "metadata": {},
     "output_type": "execute_result"
    }
   ],
   "source": [
    "'Mike'"
   ]
  },
  {
   "cell_type": "code",
   "execution_count": 7,
   "id": "d69898d3",
   "metadata": {},
   "outputs": [
    {
     "data": {
      "text/plain": [
       "'I Am Learning Python.'"
      ]
     },
     "execution_count": 7,
     "metadata": {},
     "output_type": "execute_result"
    }
   ],
   "source": [
    "\"I Am Learning Python.\""
   ]
  },
  {
   "cell_type": "code",
   "execution_count": 8,
   "id": "ce80205e",
   "metadata": {},
   "outputs": [
    {
     "name": "stdout",
     "output_type": "stream",
     "text": [
      "Mike\n"
     ]
    }
   ],
   "source": [
    "print('Mike')"
   ]
  },
  {
   "cell_type": "code",
   "execution_count": 9,
   "id": "04dd970e",
   "metadata": {},
   "outputs": [
    {
     "ename": "SyntaxError",
     "evalue": "invalid syntax (3239730560.py, line 2)",
     "output_type": "error",
     "traceback": [
      "\u001b[1;36m  Input \u001b[1;32mIn [9]\u001b[1;36m\u001b[0m\n\u001b[1;33m    Hello Jack)\u001b[0m\n\u001b[1;37m    ^\u001b[0m\n\u001b[1;31mSyntaxError\u001b[0m\u001b[1;31m:\u001b[0m invalid syntax\n"
     ]
    }
   ],
   "source": [
    "print('Mike'\n",
    "                  Hello Jack)"
   ]
  },
  {
   "cell_type": "code",
   "execution_count": 10,
   "id": "226aa7b9",
   "metadata": {},
   "outputs": [
    {
     "ename": "SyntaxError",
     "evalue": "EOL while scanning string literal (1882469516.py, line 1)",
     "output_type": "error",
     "traceback": [
      "\u001b[1;36m  Input \u001b[1;32mIn [10]\u001b[1;36m\u001b[0m\n\u001b[1;33m    print(\"Mike'\u001b[0m\n\u001b[1;37m                ^\u001b[0m\n\u001b[1;31mSyntaxError\u001b[0m\u001b[1;31m:\u001b[0m EOL while scanning string literal\n"
     ]
    }
   ],
   "source": [
    "print(\"Mike'\n",
    "                  Hello Jack\")"
   ]
  },
  {
   "cell_type": "code",
   "execution_count": 12,
   "id": "0c1b1580",
   "metadata": {},
   "outputs": [
    {
     "name": "stdout",
     "output_type": "stream",
     "text": [
      "Mike\n",
      "                  Hello Jack\n"
     ]
    }
   ],
   "source": [
    "print('''Mike\n",
    "                  Hello Jack''')"
   ]
  },
  {
   "cell_type": "code",
   "execution_count": 13,
   "id": "5b3b5307",
   "metadata": {},
   "outputs": [
    {
     "name": "stdout",
     "output_type": "stream",
     "text": [
      "\n",
      "                  *\n",
      "                 * *\n",
      "                *   *\n",
      "               * * * *\n",
      "              *       *\n",
      "             *         *   \n"
     ]
    }
   ],
   "source": [
    "print('''\n",
    "                  *\n",
    "                 * *\n",
    "                *   *\n",
    "               * * * *\n",
    "              *       *\n",
    "             *         *   ''')\n",
    "\n",
    "## ''' '''   Multiline String"
   ]
  },
  {
   "cell_type": "code",
   "execution_count": 14,
   "id": "2254bc7d",
   "metadata": {},
   "outputs": [
    {
     "name": "stdout",
     "output_type": "stream",
     "text": [
      "\n",
      "*\n",
      "*\n",
      "*       * *\n",
      "*     *     *\n",
      "*   *         *\n",
      "* *             *\n",
      "*************************************************\n",
      "*                  *                 *\n",
      "*                    *             *\n",
      "*                      *         *\n",
      "*                        *     *\n",
      "*                          * *\n",
      "*\n",
      "\n"
     ]
    }
   ],
   "source": [
    "print('''\n",
    "*\n",
    "*\n",
    "*       * *\n",
    "*     *     *\n",
    "*   *         *\n",
    "* *             *\n",
    "*************************************************\n",
    "*                  *                 *\n",
    "*                    *             *\n",
    "*                      *         *\n",
    "*                        *     *\n",
    "*                          * *\n",
    "*\n",
    "''')"
   ]
  },
  {
   "cell_type": "markdown",
   "id": "d8e73d32",
   "metadata": {},
   "source": [
    "#### Print Function"
   ]
  },
  {
   "cell_type": "code",
   "execution_count": null,
   "id": "30114a3d",
   "metadata": {},
   "outputs": [],
   "source": [
    "=> It Takes Data\\Input And Shows The Result On Display."
   ]
  },
  {
   "cell_type": "markdown",
   "id": "9a57f209",
   "metadata": {},
   "source": [
    "##### Syntax : print(data,.....,sep,end)"
   ]
  },
  {
   "cell_type": "code",
   "execution_count": 15,
   "id": "59b0c421",
   "metadata": {},
   "outputs": [
    {
     "name": "stdout",
     "output_type": "stream",
     "text": [
      "Hello We Are Learning Python..\n"
     ]
    }
   ],
   "source": [
    "\"Hello We Are Learning Python..\"\n",
    "print(\"Hello We Are Learning Python..\")"
   ]
  },
  {
   "cell_type": "code",
   "execution_count": 16,
   "id": "fc0d5439",
   "metadata": {},
   "outputs": [
    {
     "data": {
      "text/plain": [
       "'Hello Jack'"
      ]
     },
     "execution_count": 16,
     "metadata": {},
     "output_type": "execute_result"
    }
   ],
   "source": [
    "\"Hello Mike\"\n",
    "\"Hello Jack\""
   ]
  },
  {
   "cell_type": "code",
   "execution_count": 17,
   "id": "e897078a",
   "metadata": {},
   "outputs": [
    {
     "name": "stdout",
     "output_type": "stream",
     "text": [
      "Hello Mike\n",
      "Hello Jack\n"
     ]
    }
   ],
   "source": [
    "print(\"Hello Mike\")\n",
    "print(\"Hello Jack\")"
   ]
  },
  {
   "cell_type": "code",
   "execution_count": 18,
   "id": "1fce395b",
   "metadata": {},
   "outputs": [
    {
     "name": "stdout",
     "output_type": "stream",
     "text": [
      "Mike Jack Luke Peter Finn\n"
     ]
    }
   ],
   "source": [
    "print(\"Mike\",\"Jack\",\"Luke\",\"Peter\",\"Finn\")"
   ]
  },
  {
   "cell_type": "code",
   "execution_count": 19,
   "id": "ab709907",
   "metadata": {},
   "outputs": [
    {
     "data": {
      "text/plain": [
       "''"
      ]
     },
     "execution_count": 19,
     "metadata": {},
     "output_type": "execute_result"
    }
   ],
   "source": [
    "'''\n",
    "          print(data,....,sep,end)\n",
    "          \n",
    "          Here ,\n",
    "                        Data : Information\n",
    "                        \n",
    "                        sep  : ByDefault Sep Is Space\n",
    "                        \n",
    "                        end  : \"\\n\"  : New Line \\ Next Line\n",
    "\n",
    "'''\n",
    "\"\""
   ]
  },
  {
   "cell_type": "markdown",
   "id": "57a3c105",
   "metadata": {},
   "source": [
    "## Can We Change Sep's Value"
   ]
  },
  {
   "cell_type": "code",
   "execution_count": 20,
   "id": "f57795e7",
   "metadata": {},
   "outputs": [
    {
     "name": "stdout",
     "output_type": "stream",
     "text": [
      "Mike Jack Luke Peter Finn\n"
     ]
    }
   ],
   "source": [
    "print(\"Mike\",\"Jack\",\"Luke\",\"Peter\",\"Finn\")\n",
    "## Sep ==> *"
   ]
  },
  {
   "cell_type": "code",
   "execution_count": 21,
   "id": "fcef967a",
   "metadata": {},
   "outputs": [
    {
     "name": "stdout",
     "output_type": "stream",
     "text": [
      "Mike*Jack*Luke*Peter*Finn\n"
     ]
    }
   ],
   "source": [
    "print(\"Mike\",\"Jack\",\"Luke\",\"Peter\",\"Finn\",sep=\"*\")"
   ]
  },
  {
   "cell_type": "code",
   "execution_count": 22,
   "id": "4ec0150f",
   "metadata": {},
   "outputs": [
    {
     "name": "stdout",
     "output_type": "stream",
     "text": [
      "Mike * Jack * Luke * Peter * Finn\n"
     ]
    }
   ],
   "source": [
    "print(\"Mike\",\"Jack\",\"Luke\",\"Peter\",\"Finn\",sep=\" * \")"
   ]
  },
  {
   "cell_type": "code",
   "execution_count": 23,
   "id": "e23a8784",
   "metadata": {},
   "outputs": [
    {
     "name": "stdout",
     "output_type": "stream",
     "text": [
      "Mike\n",
      "Jack\n",
      "Luke\n",
      "Peter\n",
      "Finn\n"
     ]
    }
   ],
   "source": [
    "print(\"Mike\",\"Jack\",\"Luke\",\"Peter\",\"Finn\",sep=\"\\n\")"
   ]
  },
  {
   "cell_type": "code",
   "execution_count": 25,
   "id": "23c02506",
   "metadata": {},
   "outputs": [
    {
     "name": "stdout",
     "output_type": "stream",
     "text": [
      "Mike <-- Stud --> Jack <-- Stud --> Luke <-- Stud --> Peter <-- Stud --> Finn\n"
     ]
    }
   ],
   "source": [
    "print(\"Mike\",\"Jack\",\"Luke\",\"Peter\",\"Finn\",sep=\" <-- Stud --> \")"
   ]
  },
  {
   "cell_type": "code",
   "execution_count": 27,
   "id": "7ffe4260",
   "metadata": {},
   "outputs": [
    {
     "name": "stdout",
     "output_type": "stream",
     "text": [
      "Mike\n",
      "Stud --> Jack\n",
      "Stud --> Luke\n",
      "Stud --> Peter\n",
      "Stud --> Finn\n"
     ]
    }
   ],
   "source": [
    "print(\"Mike\",\"Jack\",\"Luke\",\"Peter\",\"Finn\",sep=\"\\nStud --> \")"
   ]
  },
  {
   "cell_type": "code",
   "execution_count": 28,
   "id": "c8befc41",
   "metadata": {},
   "outputs": [
    {
     "name": "stdout",
     "output_type": "stream",
     "text": [
      "Stud --> Mike\n",
      "Stud --> Jack\n",
      "Stud --> Luke\n",
      "Stud --> Peter\n",
      "Stud --> Finn\n"
     ]
    }
   ],
   "source": [
    "print(\"Stud --> Mike\",\"Jack\",\"Luke\",\"Peter\",\"Finn\",sep=\"\\nStud --> \")"
   ]
  },
  {
   "cell_type": "markdown",
   "id": "372ca3ac",
   "metadata": {},
   "source": [
    "## Tab : \"\\t\""
   ]
  },
  {
   "cell_type": "code",
   "execution_count": 29,
   "id": "84ffce48",
   "metadata": {},
   "outputs": [
    {
     "name": "stdout",
     "output_type": "stream",
     "text": [
      "Mike\t\t\t\tLuke\n"
     ]
    }
   ],
   "source": [
    "print(\"Mike\\t\\t\\t\\tLuke\")"
   ]
  },
  {
   "cell_type": "markdown",
   "id": "0ed645d3",
   "metadata": {},
   "source": [
    "#### +  In String\n",
    "##### Note :  +  Concate/Join"
   ]
  },
  {
   "cell_type": "code",
   "execution_count": 30,
   "id": "836831a6",
   "metadata": {},
   "outputs": [
    {
     "name": "stdout",
     "output_type": "stream",
     "text": [
      "MikeMike\n"
     ]
    }
   ],
   "source": [
    "print(\"Mike\"+\"Mike\")"
   ]
  },
  {
   "cell_type": "code",
   "execution_count": 31,
   "id": "496e7c89",
   "metadata": {},
   "outputs": [
    {
     "name": "stdout",
     "output_type": "stream",
     "text": [
      "Mike Mike\n"
     ]
    }
   ],
   "source": [
    "print(\"Mike\"+\" Mike\")"
   ]
  },
  {
   "cell_type": "markdown",
   "id": "3d74ffee",
   "metadata": {},
   "source": [
    "## * In String\n",
    "##### Note : No of Time Call"
   ]
  },
  {
   "cell_type": "code",
   "execution_count": 32,
   "id": "670674c5",
   "metadata": {},
   "outputs": [
    {
     "name": "stdout",
     "output_type": "stream",
     "text": [
      "MikeMikeMikeMikeMike\n"
     ]
    }
   ],
   "source": [
    "print(\"Mike\"*5)"
   ]
  },
  {
   "cell_type": "code",
   "execution_count": 33,
   "id": "28dc8690",
   "metadata": {},
   "outputs": [
    {
     "name": "stdout",
     "output_type": "stream",
     "text": [
      "Mike Mike Mike Mike Mike \n"
     ]
    }
   ],
   "source": [
    "print(\"Mike \"*5)"
   ]
  },
  {
   "cell_type": "code",
   "execution_count": 34,
   "id": "234265c7",
   "metadata": {},
   "outputs": [
    {
     "name": "stdout",
     "output_type": "stream",
     "text": [
      "Mike\n",
      "Mike\n",
      "Mike\n",
      "Mike\n",
      "Mike\n",
      "\n"
     ]
    }
   ],
   "source": [
    "print(\"Mike\\n\"*5)"
   ]
  },
  {
   "cell_type": "code",
   "execution_count": 41,
   "id": "0fdd9e0c",
   "metadata": {},
   "outputs": [
    {
     "name": "stdout",
     "output_type": "stream",
     "text": [
      "\t\t\t\t\t\t\t\t\tA Block 56\n",
      "\t\t\t\t\t\t\t\t\tSector 5\n",
      "\t\t\t\t\t\t\t\t\tGreen Park, New Delhi\n",
      "\n",
      "\t\t\t\t\t\t\t\t\t25 Dec 2025\n",
      "Dear Mike\n",
      "             Hello Mike !!! How Are You.\n"
     ]
    }
   ],
   "source": [
    "print(\"\\t\\t\\t\\t\\t\\t\\t\\t\\tA Block 56\")\n",
    "print(\"\\t\\t\\t\\t\\t\\t\\t\\t\\tSector 5\")\n",
    "print(\"\\t\\t\\t\\t\\t\\t\\t\\t\\tGreen Park, New Delhi\")\n",
    "print(\"\\n\\t\\t\\t\\t\\t\\t\\t\\t\\t25 Dec 2025\")\n",
    "print(\"Dear Mike\")\n",
    "print(\"             Hello Mike !!! How Are You.\")"
   ]
  },
  {
   "cell_type": "markdown",
   "id": "10057ad3",
   "metadata": {},
   "source": [
    "## Make Formal And Informal Letters With Different Types"
   ]
  },
  {
   "cell_type": "code",
   "execution_count": 47,
   "id": "5047ac4e",
   "metadata": {},
   "outputs": [
    {
     "name": "stdout",
     "output_type": "stream",
     "text": [
      "\t\t\t\t\t\t\t\t\t\t\tSector17\n",
      "\t\t\t\t\t\t\t\t\t\t\tVashi\n",
      "\t\t\t\t\t\t\t\t\t\t\tNew Bombay\n",
      "\n",
      "\t\t\t\t\t\t\t\t\t\t\th July,2023\n",
      "Dearest Maria,\n",
      "\n",
      "\n",
      "I was so glad to hear from my mother that you are back home after the trip. Hope you had a safe and enjoyable trip. I have been waiting to hear all about the trip from you.\n",
      "\n",
      "Since this was the first time you have been to a foreign land, I guess every little bit of the trip was as exciting as you expected it to be. I have heard from my friends residing there that the place is extremely beautiful and that the people there are very endearing. However, I was worried when I knew that there were a few bomb blasts during your stay there. Hope all of you there were safe. I hope everything else was fine except for this.\n",
      "\n",
      "I had spoken to your mother earlier, and she told me that you would be coming home after two weeks. I saw your pictures on Instagram as well. I can’t wait to meet you and hear all your stories. Wa\n",
      "I saw your pictures on Instagram as well. I can’t wait to meet you and hear all your stories. Waiting eagerly for your reply.\n",
      "\n",
      "\n",
      "Your loving cousin,\n",
      "\n",
      "Sarah\n"
     ]
    }
   ],
   "source": [
    "print('''\\t\\t\\t\\t\\t\\t\\t\\t\\t\\t\\tSector17\n",
    "\\t\\t\\t\\t\\t\\t\\t\\t\\t\\t\\tVashi\n",
    "\\t\\t\\t\\t\\t\\t\\t\\t\\t\\t\\tNew Bombay\\n\n",
    "\\t\\t\\t\\t\\t\\t\\t\\t\\t\\t\\th July,2023''')\n",
    "print('''Dearest Maria,\\n\n",
    "\n",
    "I was so glad to hear from my mother that you are back home after the trip. Hope you had a safe and enjoyable trip. I have been waiting to hear all about the trip from you.\n",
    "\n",
    "Since this was the first time you have been to a foreign land, I guess every little bit of the trip was as exciting as you expected it to be. I have heard from my friends residing there that the place is extremely beautiful and that the people there are very endearing. However, I was worried when I knew that there were a few bomb blasts during your stay there. Hope all of you there were safe. I hope everything else was fine except for this.\n",
    "\n",
    "I had spoken to your mother earlier, and she told me that you would be coming home after two weeks. I saw your pictures on Instagram as well. I can’t wait to meet you and hear all your stories. Wa\n",
    "I saw your pictures on Instagram as well. I can’t wait to meet you and hear all your stories. Waiting eagerly for your reply.\n",
    "\n",
    "\\nYour loving cousin,\n",
    "\n",
    "Sarah''')"
   ]
  },
  {
   "cell_type": "code",
   "execution_count": 48,
   "id": "b1920e67",
   "metadata": {},
   "outputs": [
    {
     "data": {
      "text/plain": [
       "'i am learning python.'"
      ]
     },
     "execution_count": 48,
     "metadata": {},
     "output_type": "execute_result"
    }
   ],
   "source": [
    "\"i am learning python.\""
   ]
  },
  {
   "cell_type": "markdown",
   "id": "79f8b822",
   "metadata": {},
   "source": [
    "## String In Upper Case"
   ]
  },
  {
   "cell_type": "markdown",
   "id": "e99613b6",
   "metadata": {},
   "source": [
    "##### Syntax : string_data.upper()"
   ]
  },
  {
   "cell_type": "code",
   "execution_count": 49,
   "id": "a7438140",
   "metadata": {},
   "outputs": [
    {
     "data": {
      "text/plain": [
       "'I AM LEARNING PYTHON.'"
      ]
     },
     "execution_count": 49,
     "metadata": {},
     "output_type": "execute_result"
    }
   ],
   "source": [
    "\"i am learning python.\".upper()"
   ]
  },
  {
   "cell_type": "markdown",
   "id": "4f84a21a",
   "metadata": {},
   "source": [
    "#### Lower Case\n",
    "##### Syntax : string_data.lower()"
   ]
  },
  {
   "cell_type": "code",
   "execution_count": 50,
   "id": "4ff75e10",
   "metadata": {},
   "outputs": [
    {
     "data": {
      "text/plain": [
       "'i am learning python.'"
      ]
     },
     "execution_count": 50,
     "metadata": {},
     "output_type": "execute_result"
    }
   ],
   "source": [
    "'I AM LEARNING PYTHON.'.lower()"
   ]
  },
  {
   "cell_type": "markdown",
   "id": "1d9f34f0",
   "metadata": {},
   "source": [
    "#### Title Case\n",
    "##### Syntax : string_data.title()"
   ]
  },
  {
   "cell_type": "code",
   "execution_count": 54,
   "id": "4321e9b1",
   "metadata": {},
   "outputs": [
    {
     "data": {
      "text/plain": [
       "'I Am Learning Python.'"
      ]
     },
     "execution_count": 54,
     "metadata": {},
     "output_type": "execute_result"
    }
   ],
   "source": [
    "'i am learning python.'.title()"
   ]
  },
  {
   "cell_type": "markdown",
   "id": "dd0c78f0",
   "metadata": {},
   "source": [
    "#### Capitalize Case\n",
    "##### Syntax : string_data.capitalize()"
   ]
  },
  {
   "cell_type": "code",
   "execution_count": 55,
   "id": "de197533",
   "metadata": {},
   "outputs": [
    {
     "data": {
      "text/plain": [
       "'I am learning python.'"
      ]
     },
     "execution_count": 55,
     "metadata": {},
     "output_type": "execute_result"
    }
   ],
   "source": [
    "'i am learning python.'.capitalize()"
   ]
  },
  {
   "cell_type": "markdown",
   "id": "5e698e57",
   "metadata": {},
   "source": [
    "## Variable"
   ]
  },
  {
   "cell_type": "markdown",
   "id": "dc5d03c3",
   "metadata": {},
   "source": [
    "=> This Is Object\\Containter\n",
    "=> Use To Store Data\n",
    "=> They Can Be Changeable\n",
    "=> Store Multiple Data With Different Types of Data"
   ]
  },
  {
   "cell_type": "markdown",
   "id": "c2a5fb9f",
   "metadata": {},
   "source": [
    "#### How To Make Variable"
   ]
  },
  {
   "cell_type": "markdown",
   "id": "ecc35e66",
   "metadata": {},
   "source": [
    "##### We Can Make Variable With Letter/Char/Word."
   ]
  },
  {
   "cell_type": "code",
   "execution_count": 56,
   "id": "64aa8577",
   "metadata": {},
   "outputs": [],
   "source": [
    "a = \"Mike\""
   ]
  },
  {
   "cell_type": "code",
   "execution_count": 57,
   "id": "387b39e9",
   "metadata": {},
   "outputs": [
    {
     "data": {
      "text/plain": [
       "'Mike'"
      ]
     },
     "execution_count": 57,
     "metadata": {},
     "output_type": "execute_result"
    }
   ],
   "source": [
    "a"
   ]
  },
  {
   "cell_type": "code",
   "execution_count": 59,
   "id": "77a4e337",
   "metadata": {},
   "outputs": [],
   "source": [
    "name = \"Finn Allen\""
   ]
  },
  {
   "cell_type": "code",
   "execution_count": 60,
   "id": "8e196757",
   "metadata": {},
   "outputs": [
    {
     "data": {
      "text/plain": [
       "'Finn Allen'"
      ]
     },
     "execution_count": 60,
     "metadata": {},
     "output_type": "execute_result"
    }
   ],
   "source": [
    "name"
   ]
  },
  {
   "cell_type": "code",
   "execution_count": 61,
   "id": "798b7549",
   "metadata": {},
   "outputs": [
    {
     "name": "stdout",
     "output_type": "stream",
     "text": [
      "My Name Is :\n"
     ]
    }
   ],
   "source": [
    "print(\"My Name Is :\")"
   ]
  },
  {
   "cell_type": "code",
   "execution_count": 62,
   "id": "8b21120c",
   "metadata": {},
   "outputs": [
    {
     "name": "stdout",
     "output_type": "stream",
     "text": [
      "My Name Is : Finn Allen\n"
     ]
    }
   ],
   "source": [
    "print(\"My Name Is :\",name)"
   ]
  },
  {
   "cell_type": "code",
   "execution_count": 63,
   "id": "93e83323",
   "metadata": {},
   "outputs": [
    {
     "ename": "NameError",
     "evalue": "name 'A' is not defined",
     "output_type": "error",
     "traceback": [
      "\u001b[1;31m---------------------------------------------------------------------------\u001b[0m",
      "\u001b[1;31mNameError\u001b[0m                                 Traceback (most recent call last)",
      "Input \u001b[1;32mIn [63]\u001b[0m, in \u001b[0;36m<cell line: 1>\u001b[1;34m()\u001b[0m\n\u001b[1;32m----> 1\u001b[0m \u001b[43mA\u001b[49m\n",
      "\u001b[1;31mNameError\u001b[0m: name 'A' is not defined"
     ]
    }
   ],
   "source": [
    "A"
   ]
  },
  {
   "cell_type": "markdown",
   "id": "6cf5e25b",
   "metadata": {},
   "source": [
    "#### Note : Python Is Highly Case Sensitive"
   ]
  },
  {
   "cell_type": "code",
   "execution_count": 64,
   "id": "00cab356",
   "metadata": {},
   "outputs": [
    {
     "data": {
      "text/plain": [
       "True"
      ]
     },
     "execution_count": 64,
     "metadata": {},
     "output_type": "execute_result"
    }
   ],
   "source": [
    "\"a\" > \"A\""
   ]
  },
  {
   "cell_type": "code",
   "execution_count": 65,
   "id": "de98c3a7",
   "metadata": {},
   "outputs": [
    {
     "data": {
      "text/plain": [
       "97"
      ]
     },
     "execution_count": 65,
     "metadata": {},
     "output_type": "execute_result"
    }
   ],
   "source": [
    "ord(\"a\")"
   ]
  },
  {
   "cell_type": "code",
   "execution_count": 66,
   "id": "1a9f4a75",
   "metadata": {},
   "outputs": [
    {
     "data": {
      "text/plain": [
       "65"
      ]
     },
     "execution_count": 66,
     "metadata": {},
     "output_type": "execute_result"
    }
   ],
   "source": [
    "ord(\"A\")"
   ]
  },
  {
   "cell_type": "code",
   "execution_count": 67,
   "id": "9b460a50",
   "metadata": {},
   "outputs": [
    {
     "data": {
      "text/plain": [
       "'0b1100001'"
      ]
     },
     "execution_count": 67,
     "metadata": {},
     "output_type": "execute_result"
    }
   ],
   "source": [
    "bin(97)"
   ]
  },
  {
   "cell_type": "code",
   "execution_count": 68,
   "id": "b896e214",
   "metadata": {},
   "outputs": [
    {
     "data": {
      "text/plain": [
       "'0b1000001'"
      ]
     },
     "execution_count": 68,
     "metadata": {},
     "output_type": "execute_result"
    }
   ],
   "source": [
    "bin(65)"
   ]
  },
  {
   "cell_type": "markdown",
   "id": "e6ac774e",
   "metadata": {},
   "source": [
    "## We Can Make Variable With Only Single Special Character\n",
    "##### Underscore _"
   ]
  },
  {
   "cell_type": "code",
   "execution_count": 69,
   "id": "f8a8167d",
   "metadata": {},
   "outputs": [
    {
     "ename": "SyntaxError",
     "evalue": "invalid syntax (2371254089.py, line 1)",
     "output_type": "error",
     "traceback": [
      "\u001b[1;36m  Input \u001b[1;32mIn [69]\u001b[1;36m\u001b[0m\n\u001b[1;33m    email id = \"sean@gmail.com\"\u001b[0m\n\u001b[1;37m          ^\u001b[0m\n\u001b[1;31mSyntaxError\u001b[0m\u001b[1;31m:\u001b[0m invalid syntax\n"
     ]
    }
   ],
   "source": [
    "email id = \"sean@gmail.com\""
   ]
  },
  {
   "cell_type": "code",
   "execution_count": 70,
   "id": "6332aef7",
   "metadata": {},
   "outputs": [],
   "source": [
    "email_id = \"sean@gmail.com\""
   ]
  },
  {
   "cell_type": "code",
   "execution_count": 71,
   "id": "b3c4b092",
   "metadata": {},
   "outputs": [
    {
     "data": {
      "text/plain": [
       "'sean@gmail.com'"
      ]
     },
     "execution_count": 71,
     "metadata": {},
     "output_type": "execute_result"
    }
   ],
   "source": [
    "email_id"
   ]
  },
  {
   "cell_type": "code",
   "execution_count": 72,
   "id": "2ac4e05b",
   "metadata": {},
   "outputs": [
    {
     "data": {
      "text/plain": [
       "'Hello Python'"
      ]
     },
     "execution_count": 72,
     "metadata": {},
     "output_type": "execute_result"
    }
   ],
   "source": [
    "\"Hello Python\""
   ]
  },
  {
   "cell_type": "code",
   "execution_count": 73,
   "id": "eb1cf431",
   "metadata": {},
   "outputs": [
    {
     "data": {
      "text/plain": [
       "'Hello Python'"
      ]
     },
     "execution_count": 73,
     "metadata": {},
     "output_type": "execute_result"
    }
   ],
   "source": [
    "_"
   ]
  },
  {
   "cell_type": "code",
   "execution_count": 74,
   "id": "d3d634fa",
   "metadata": {},
   "outputs": [
    {
     "data": {
      "text/plain": [
       "10000"
      ]
     },
     "execution_count": 74,
     "metadata": {},
     "output_type": "execute_result"
    }
   ],
   "source": [
    "10000"
   ]
  },
  {
   "cell_type": "code",
   "execution_count": 75,
   "id": "c36504f4",
   "metadata": {},
   "outputs": [
    {
     "data": {
      "text/plain": [
       "10000"
      ]
     },
     "execution_count": 75,
     "metadata": {},
     "output_type": "execute_result"
    }
   ],
   "source": [
    "_"
   ]
  },
  {
   "cell_type": "code",
   "execution_count": 76,
   "id": "c440b8e2",
   "metadata": {},
   "outputs": [],
   "source": [
    "_ = \"I Am Learning Python.\""
   ]
  },
  {
   "cell_type": "code",
   "execution_count": 77,
   "id": "a8300f1a",
   "metadata": {},
   "outputs": [
    {
     "data": {
      "text/plain": [
       "'I Am Learning Python.'"
      ]
     },
     "execution_count": 77,
     "metadata": {},
     "output_type": "execute_result"
    }
   ],
   "source": [
    "_"
   ]
  },
  {
   "cell_type": "code",
   "execution_count": 78,
   "id": "414c4966",
   "metadata": {},
   "outputs": [
    {
     "data": {
      "text/plain": [
       "25"
      ]
     },
     "execution_count": 78,
     "metadata": {},
     "output_type": "execute_result"
    }
   ],
   "source": [
    "25"
   ]
  },
  {
   "cell_type": "code",
   "execution_count": 79,
   "id": "da3116eb",
   "metadata": {},
   "outputs": [
    {
     "data": {
      "text/plain": [
       "'I Am Learning Python.'"
      ]
     },
     "execution_count": 79,
     "metadata": {},
     "output_type": "execute_result"
    }
   ],
   "source": [
    "_"
   ]
  },
  {
   "cell_type": "code",
   "execution_count": 80,
   "id": "4d51cd1c",
   "metadata": {},
   "outputs": [],
   "source": [
    "del(_)"
   ]
  },
  {
   "cell_type": "code",
   "execution_count": 81,
   "id": "dba2d363",
   "metadata": {},
   "outputs": [
    {
     "ename": "NameError",
     "evalue": "name '_' is not defined",
     "output_type": "error",
     "traceback": [
      "\u001b[1;31m---------------------------------------------------------------------------\u001b[0m",
      "\u001b[1;31mNameError\u001b[0m                                 Traceback (most recent call last)",
      "Input \u001b[1;32mIn [81]\u001b[0m, in \u001b[0;36m<cell line: 1>\u001b[1;34m()\u001b[0m\n\u001b[1;32m----> 1\u001b[0m \u001b[43m_\u001b[49m\n",
      "\u001b[1;31mNameError\u001b[0m: name '_' is not defined"
     ]
    }
   ],
   "source": [
    "_"
   ]
  },
  {
   "cell_type": "code",
   "execution_count": 82,
   "id": "f914c075",
   "metadata": {},
   "outputs": [
    {
     "data": {
      "text/plain": [
       "25"
      ]
     },
     "execution_count": 82,
     "metadata": {},
     "output_type": "execute_result"
    }
   ],
   "source": [
    "25"
   ]
  },
  {
   "cell_type": "code",
   "execution_count": 83,
   "id": "bac75150",
   "metadata": {},
   "outputs": [
    {
     "ename": "NameError",
     "evalue": "name '_' is not defined",
     "output_type": "error",
     "traceback": [
      "\u001b[1;31m---------------------------------------------------------------------------\u001b[0m",
      "\u001b[1;31mNameError\u001b[0m                                 Traceback (most recent call last)",
      "Input \u001b[1;32mIn [83]\u001b[0m, in \u001b[0;36m<cell line: 1>\u001b[1;34m()\u001b[0m\n\u001b[1;32m----> 1\u001b[0m \u001b[43m_\u001b[49m\n",
      "\u001b[1;31mNameError\u001b[0m: name '_' is not defined"
     ]
    }
   ],
   "source": [
    "_"
   ]
  },
  {
   "cell_type": "code",
   "execution_count": 84,
   "id": "d5a6da59",
   "metadata": {},
   "outputs": [],
   "source": [
    "_ = 20"
   ]
  },
  {
   "cell_type": "code",
   "execution_count": 85,
   "id": "d003bfe0",
   "metadata": {},
   "outputs": [
    {
     "data": {
      "text/plain": [
       "20"
      ]
     },
     "execution_count": 85,
     "metadata": {},
     "output_type": "execute_result"
    }
   ],
   "source": [
    "_"
   ]
  },
  {
   "cell_type": "markdown",
   "id": "ad96ea0c",
   "metadata": {},
   "source": [
    "## We Can Not Make Variable With Other Special Character"
   ]
  },
  {
   "cell_type": "code",
   "execution_count": 86,
   "id": "9ef727f8",
   "metadata": {},
   "outputs": [
    {
     "ename": "SyntaxError",
     "evalue": "invalid syntax (3852907542.py, line 1)",
     "output_type": "error",
     "traceback": [
      "\u001b[1;36m  Input \u001b[1;32mIn [86]\u001b[1;36m\u001b[0m\n\u001b[1;33m    @ = \"Mike\"\u001b[0m\n\u001b[1;37m      ^\u001b[0m\n\u001b[1;31mSyntaxError\u001b[0m\u001b[1;31m:\u001b[0m invalid syntax\n"
     ]
    }
   ],
   "source": [
    "@ = \"Mike\""
   ]
  },
  {
   "cell_type": "code",
   "execution_count": 87,
   "id": "92930d8c",
   "metadata": {},
   "outputs": [
    {
     "ename": "SyntaxError",
     "evalue": "invalid syntax (1195826763.py, line 1)",
     "output_type": "error",
     "traceback": [
      "\u001b[1;36m  Input \u001b[1;32mIn [87]\u001b[1;36m\u001b[0m\n\u001b[1;33m    k@ = 10\u001b[0m\n\u001b[1;37m       ^\u001b[0m\n\u001b[1;31mSyntaxError\u001b[0m\u001b[1;31m:\u001b[0m invalid syntax\n"
     ]
    }
   ],
   "source": [
    "k@ = 10"
   ]
  },
  {
   "cell_type": "markdown",
   "id": "9deda982",
   "metadata": {},
   "source": [
    "## We Can Not Make Variable With Numrals"
   ]
  },
  {
   "cell_type": "code",
   "execution_count": 88,
   "id": "a5a954cf",
   "metadata": {},
   "outputs": [
    {
     "ename": "SyntaxError",
     "evalue": "cannot assign to literal (23803170.py, line 1)",
     "output_type": "error",
     "traceback": [
      "\u001b[1;36m  Input \u001b[1;32mIn [88]\u001b[1;36m\u001b[0m\n\u001b[1;33m    10 = 100\u001b[0m\n\u001b[1;37m    ^\u001b[0m\n\u001b[1;31mSyntaxError\u001b[0m\u001b[1;31m:\u001b[0m cannot assign to literal\n"
     ]
    }
   ],
   "source": [
    "10 = 100"
   ]
  },
  {
   "cell_type": "code",
   "execution_count": 89,
   "id": "81bcd8fb",
   "metadata": {},
   "outputs": [
    {
     "ename": "SyntaxError",
     "evalue": "invalid syntax (2196683547.py, line 1)",
     "output_type": "error",
     "traceback": [
      "\u001b[1;36m  Input \u001b[1;32mIn [89]\u001b[1;36m\u001b[0m\n\u001b[1;33m    10k = 25\u001b[0m\n\u001b[1;37m      ^\u001b[0m\n\u001b[1;31mSyntaxError\u001b[0m\u001b[1;31m:\u001b[0m invalid syntax\n"
     ]
    }
   ],
   "source": [
    "10k = 25"
   ]
  },
  {
   "cell_type": "markdown",
   "id": "3f46d907",
   "metadata": {},
   "source": [
    "## We Can Not Make Varibale With Keywords"
   ]
  },
  {
   "cell_type": "code",
   "execution_count": null,
   "id": "d0968e79",
   "metadata": {},
   "outputs": [],
   "source": [
    "Like : def , del , is , is not , in , not in , yield , if , else , True , False , elif , while , for , etc.. "
   ]
  },
  {
   "cell_type": "code",
   "execution_count": 90,
   "id": "67fa4f23",
   "metadata": {},
   "outputs": [
    {
     "ename": "SyntaxError",
     "evalue": "invalid syntax (3286076907.py, line 1)",
     "output_type": "error",
     "traceback": [
      "\u001b[1;36m  Input \u001b[1;32mIn [90]\u001b[1;36m\u001b[0m\n\u001b[1;33m    del = \"Mike\"\u001b[0m\n\u001b[1;37m        ^\u001b[0m\n\u001b[1;31mSyntaxError\u001b[0m\u001b[1;31m:\u001b[0m invalid syntax\n"
     ]
    }
   ],
   "source": [
    "del = \"Mike\""
   ]
  },
  {
   "cell_type": "code",
   "execution_count": 91,
   "id": "af68e22d",
   "metadata": {},
   "outputs": [],
   "source": [
    "Del = \"Mike\""
   ]
  },
  {
   "cell_type": "code",
   "execution_count": 92,
   "id": "6ab0854e",
   "metadata": {},
   "outputs": [
    {
     "data": {
      "text/plain": [
       "'Mike'"
      ]
     },
     "execution_count": 92,
     "metadata": {},
     "output_type": "execute_result"
    }
   ],
   "source": [
    "Del"
   ]
  },
  {
   "cell_type": "code",
   "execution_count": 93,
   "id": "3f15063a",
   "metadata": {},
   "outputs": [],
   "source": [
    "max = 100"
   ]
  },
  {
   "cell_type": "code",
   "execution_count": 94,
   "id": "77a03a31",
   "metadata": {},
   "outputs": [
    {
     "data": {
      "text/plain": [
       "100"
      ]
     },
     "execution_count": 94,
     "metadata": {},
     "output_type": "execute_result"
    }
   ],
   "source": [
    "max"
   ]
  },
  {
   "cell_type": "code",
   "execution_count": 97,
   "id": "56b23c19",
   "metadata": {},
   "outputs": [],
   "source": [
    "del(max)"
   ]
  },
  {
   "cell_type": "code",
   "execution_count": 98,
   "id": "26be189e",
   "metadata": {},
   "outputs": [
    {
     "data": {
      "text/plain": [
       "120"
      ]
     },
     "execution_count": 98,
     "metadata": {},
     "output_type": "execute_result"
    }
   ],
   "source": [
    "max([100,120,-100,-25])"
   ]
  },
  {
   "cell_type": "markdown",
   "id": "2a2b1a02",
   "metadata": {},
   "source": [
    "## Note :\n",
    "   ##### We Can Make Varibale With Numerals After Vaild Variable."
   ]
  },
  {
   "cell_type": "code",
   "execution_count": 100,
   "id": "d5e0fe58",
   "metadata": {},
   "outputs": [],
   "source": [
    "Block1 = \"Mike\""
   ]
  },
  {
   "cell_type": "code",
   "execution_count": 101,
   "id": "9915bfa0",
   "metadata": {},
   "outputs": [
    {
     "data": {
      "text/plain": [
       "'Mike'"
      ]
     },
     "execution_count": 101,
     "metadata": {},
     "output_type": "execute_result"
    }
   ],
   "source": [
    "Block1"
   ]
  },
  {
   "cell_type": "code",
   "execution_count": 102,
   "id": "7e0f9d16",
   "metadata": {},
   "outputs": [],
   "source": [
    "A1 = \"Peter\""
   ]
  },
  {
   "cell_type": "code",
   "execution_count": 103,
   "id": "f5563adb",
   "metadata": {},
   "outputs": [
    {
     "data": {
      "text/plain": [
       "'Peter'"
      ]
     },
     "execution_count": 103,
     "metadata": {},
     "output_type": "execute_result"
    }
   ],
   "source": [
    "A1"
   ]
  },
  {
   "cell_type": "code",
   "execution_count": 104,
   "id": "cc9317c9",
   "metadata": {},
   "outputs": [],
   "source": [
    "new = \"\\n\"\n",
    "space = \"\\t\""
   ]
  },
  {
   "cell_type": "code",
   "execution_count": 105,
   "id": "9231558f",
   "metadata": {},
   "outputs": [
    {
     "name": "stdout",
     "output_type": "stream",
     "text": [
      "Mike \n",
      " Luke\n"
     ]
    }
   ],
   "source": [
    "print(\"Mike\",new,\"Luke\")"
   ]
  },
  {
   "cell_type": "code",
   "execution_count": 106,
   "id": "1131e845",
   "metadata": {},
   "outputs": [
    {
     "name": "stdout",
     "output_type": "stream",
     "text": [
      "Mike\n",
      "Luke\n"
     ]
    }
   ],
   "source": [
    "print(\"Mike\",new,\"Luke\",sep=\"\")"
   ]
  },
  {
   "cell_type": "markdown",
   "id": "4e488e0c",
   "metadata": {},
   "source": [
    "## Data Type"
   ]
  },
  {
   "cell_type": "code",
   "execution_count": null,
   "id": "2e840d67",
   "metadata": {},
   "outputs": [],
   "source": [
    "=> Integer\n",
    "=> Float\n",
    "=> Complex\n",
    "=> Boolean"
   ]
  },
  {
   "cell_type": "markdown",
   "id": "4035a596",
   "metadata": {},
   "source": [
    "## Integer"
   ]
  },
  {
   "cell_type": "code",
   "execution_count": null,
   "id": "e4363777",
   "metadata": {},
   "outputs": [],
   "source": [
    "=> All +Ve And -Ve Numbers Without Decimal And Fractions.\n",
    "=> Type : int\n",
    "    \n",
    "    Like : 100 , -25"
   ]
  },
  {
   "cell_type": "code",
   "execution_count": 107,
   "id": "163c3ca8",
   "metadata": {},
   "outputs": [],
   "source": [
    "a1 = 100"
   ]
  },
  {
   "cell_type": "code",
   "execution_count": 108,
   "id": "c1458749",
   "metadata": {},
   "outputs": [
    {
     "data": {
      "text/plain": [
       "100"
      ]
     },
     "execution_count": 108,
     "metadata": {},
     "output_type": "execute_result"
    }
   ],
   "source": [
    "a1"
   ]
  },
  {
   "cell_type": "code",
   "execution_count": 109,
   "id": "89da0adb",
   "metadata": {},
   "outputs": [],
   "source": [
    "b1 = -125"
   ]
  },
  {
   "cell_type": "code",
   "execution_count": 110,
   "id": "c0a1bd13",
   "metadata": {},
   "outputs": [
    {
     "data": {
      "text/plain": [
       "-125"
      ]
     },
     "execution_count": 110,
     "metadata": {},
     "output_type": "execute_result"
    }
   ],
   "source": [
    "b1"
   ]
  },
  {
   "cell_type": "markdown",
   "id": "280299ea",
   "metadata": {},
   "source": [
    "## How To Chcek Type of Data/Variable"
   ]
  },
  {
   "cell_type": "markdown",
   "id": "8d07a4d6",
   "metadata": {},
   "source": [
    "##### Use : type()"
   ]
  },
  {
   "cell_type": "code",
   "execution_count": null,
   "id": "90c690a5",
   "metadata": {},
   "outputs": [],
   "source": [
    "=> It Is Use For Chack Type of Data/Variable."
   ]
  },
  {
   "cell_type": "code",
   "execution_count": 111,
   "id": "5639db7d",
   "metadata": {},
   "outputs": [
    {
     "data": {
      "text/plain": [
       "int"
      ]
     },
     "execution_count": 111,
     "metadata": {},
     "output_type": "execute_result"
    }
   ],
   "source": [
    "type(a1)"
   ]
  },
  {
   "cell_type": "code",
   "execution_count": 112,
   "id": "a6790ee9",
   "metadata": {},
   "outputs": [
    {
     "data": {
      "text/plain": [
       "int"
      ]
     },
     "execution_count": 112,
     "metadata": {},
     "output_type": "execute_result"
    }
   ],
   "source": [
    "type(b1)"
   ]
  },
  {
   "cell_type": "code",
   "execution_count": 113,
   "id": "fa1670ec",
   "metadata": {},
   "outputs": [
    {
     "data": {
      "text/plain": [
       "'Peter'"
      ]
     },
     "execution_count": 113,
     "metadata": {},
     "output_type": "execute_result"
    }
   ],
   "source": [
    "A1"
   ]
  },
  {
   "cell_type": "code",
   "execution_count": 114,
   "id": "00e4dd5a",
   "metadata": {},
   "outputs": [
    {
     "name": "stdout",
     "output_type": "stream",
     "text": [
      "My Name Is : Peter\n"
     ]
    }
   ],
   "source": [
    "print(\"My Name Is :\",A1)"
   ]
  },
  {
   "cell_type": "code",
   "execution_count": 115,
   "id": "52bc4aec",
   "metadata": {},
   "outputs": [
    {
     "name": "stdout",
     "output_type": "stream",
     "text": [
      "My Name Is : A1\n"
     ]
    }
   ],
   "source": [
    "print(\"My Name Is : A1\")"
   ]
  },
  {
   "cell_type": "markdown",
   "id": "6d84809d",
   "metadata": {},
   "source": [
    "##### Syntax :  f\"String Data {Variable}\""
   ]
  },
  {
   "cell_type": "code",
   "execution_count": 116,
   "id": "0ff04231",
   "metadata": {},
   "outputs": [
    {
     "name": "stdout",
     "output_type": "stream",
     "text": [
      "My Name Is : Peter\n"
     ]
    }
   ],
   "source": [
    "print(f\"My Name Is : {A1}\")"
   ]
  },
  {
   "cell_type": "code",
   "execution_count": 120,
   "id": "fd653105",
   "metadata": {},
   "outputs": [
    {
     "name": "stdout",
     "output_type": "stream",
     "text": [
      "A1 Is : 100  ==> Type of 100 Is : <class 'int'>\n",
      "\n",
      "B1 Is : 20  ==> Type of 20 Is : <class 'int'>\n"
     ]
    }
   ],
   "source": [
    "A1 = 100\n",
    "B1 = 20\n",
    "print(\"A1 Is :\",A1,f\" ==> Type of {A1} Is : {type(A1)}\")\n",
    "print(\"\\nB1 Is :\",B1,f\" ==> Type of {B1} Is : {type(B1)}\")"
   ]
  },
  {
   "cell_type": "code",
   "execution_count": 122,
   "id": "6b61f305",
   "metadata": {},
   "outputs": [
    {
     "name": "stdout",
     "output_type": "stream",
     "text": [
      "A1 Is : 100  ==> Type of 100 Is : <class 'int'>\n",
      "\n",
      "B1 Is : 20  ==> Type of 20 Is : <class 'int'>\n",
      "\n",
      "Result Is : 5.0  ==> Type of 5.0 Is :<class 'float'>\n"
     ]
    }
   ],
   "source": [
    "A1 = 100\n",
    "B1 = 20\n",
    "print(\"A1 Is :\",A1,f\" ==> Type of {A1} Is : {type(A1)}\")\n",
    "print(\"\\nB1 Is :\",B1,f\" ==> Type of {B1} Is : {type(B1)}\")\n",
    "res = A1/B1\n",
    "print(\"\\nResult Is :\",res,f\" ==> Type of {res} Is :{type(res)}\")"
   ]
  },
  {
   "cell_type": "markdown",
   "id": "976f12b2",
   "metadata": {},
   "source": [
    "##### Note : Division ==> Fraction : Data => Float"
   ]
  },
  {
   "cell_type": "markdown",
   "id": "dc220d8c",
   "metadata": {},
   "source": [
    "## Float "
   ]
  },
  {
   "cell_type": "code",
   "execution_count": null,
   "id": "5649d0f8",
   "metadata": {},
   "outputs": [],
   "source": [
    "=> All +Ve And -Ve Numbers With Decimal And Fractions.\n",
    "=> Type : float\n",
    "    \n",
    "    Like : 100. , -25.56"
   ]
  },
  {
   "cell_type": "code",
   "execution_count": 123,
   "id": "42c28e4b",
   "metadata": {},
   "outputs": [],
   "source": [
    "a1 = 100."
   ]
  },
  {
   "cell_type": "code",
   "execution_count": 124,
   "id": "1367cbcd",
   "metadata": {},
   "outputs": [
    {
     "data": {
      "text/plain": [
       "100.0"
      ]
     },
     "execution_count": 124,
     "metadata": {},
     "output_type": "execute_result"
    }
   ],
   "source": [
    "a1"
   ]
  },
  {
   "cell_type": "code",
   "execution_count": 125,
   "id": "1df4befa",
   "metadata": {},
   "outputs": [
    {
     "data": {
      "text/plain": [
       "float"
      ]
     },
     "execution_count": 125,
     "metadata": {},
     "output_type": "execute_result"
    }
   ],
   "source": [
    "type(a1)"
   ]
  },
  {
   "cell_type": "code",
   "execution_count": 126,
   "id": "2c64d218",
   "metadata": {},
   "outputs": [],
   "source": [
    "b1 = -25.56"
   ]
  },
  {
   "cell_type": "code",
   "execution_count": 127,
   "id": "0b6822cc",
   "metadata": {},
   "outputs": [
    {
     "data": {
      "text/plain": [
       "-25.56"
      ]
     },
     "execution_count": 127,
     "metadata": {},
     "output_type": "execute_result"
    }
   ],
   "source": [
    "b1"
   ]
  },
  {
   "cell_type": "code",
   "execution_count": 128,
   "id": "cb7c1ce1",
   "metadata": {},
   "outputs": [
    {
     "data": {
      "text/plain": [
       "float"
      ]
     },
     "execution_count": 128,
     "metadata": {},
     "output_type": "execute_result"
    }
   ],
   "source": [
    "type(b1)"
   ]
  },
  {
   "cell_type": "code",
   "execution_count": 129,
   "id": "e0126df1",
   "metadata": {},
   "outputs": [
    {
     "data": {
      "text/plain": [
       "int"
      ]
     },
     "execution_count": 129,
     "metadata": {},
     "output_type": "execute_result"
    }
   ],
   "source": [
    "type(126)"
   ]
  },
  {
   "cell_type": "code",
   "execution_count": 130,
   "id": "e8880e9d",
   "metadata": {},
   "outputs": [
    {
     "data": {
      "text/plain": [
       "float"
      ]
     },
     "execution_count": 130,
     "metadata": {},
     "output_type": "execute_result"
    }
   ],
   "source": [
    "type(-100.)"
   ]
  },
  {
   "cell_type": "markdown",
   "id": "edad2432",
   "metadata": {},
   "source": [
    "#### Note :\n",
    "   #####    Opeartion     : Type\n",
    "    \n",
    "   #####  float + int        :  float\n",
    "   #####  float - int        :  float\n",
    "   #####  float * int       :  float\n",
    "   #####  float / int       :  float"
   ]
  },
  {
   "cell_type": "code",
   "execution_count": 131,
   "id": "56cb2251",
   "metadata": {},
   "outputs": [],
   "source": [
    "a1 = 100\n",
    "b1 = 25.\n",
    "add = a1+b1\n",
    "sub = a1-b1\n",
    "mul = a1*b1\n",
    "div = a1/b1"
   ]
  },
  {
   "cell_type": "code",
   "execution_count": 132,
   "id": "ae81a9a5",
   "metadata": {},
   "outputs": [
    {
     "name": "stdout",
     "output_type": "stream",
     "text": [
      "Add Is : 125.0 ==> Type Is : <class 'float'>\n",
      "Sub Is : 75.0 ==> Type Is : <class 'float'>\n",
      "Mul Is : 2500.0 ==> Type Is : <class 'float'>\n",
      "Div Is : 4.0 ==> Type Is : <class 'float'>\n"
     ]
    }
   ],
   "source": [
    "print(f\"Add Is : {add} ==> Type Is : {type(add)}\")\n",
    "print(f\"Sub Is : {sub} ==> Type Is : {type(sub)}\")\n",
    "print(f\"Mul Is : {mul} ==> Type Is : {type(mul)}\")\n",
    "print(f\"Div Is : {div} ==> Type Is : {type(div)}\")"
   ]
  },
  {
   "cell_type": "markdown",
   "id": "c0519914",
   "metadata": {},
   "source": [
    "## Complex "
   ]
  },
  {
   "cell_type": "code",
   "execution_count": 133,
   "id": "18a4c9f3",
   "metadata": {},
   "outputs": [
    {
     "data": {
      "text/plain": [
       "''"
      ]
     },
     "execution_count": 133,
     "metadata": {},
     "output_type": "execute_result"
    }
   ],
   "source": [
    "'''\n",
    "            Real Part  +  Imaginary Part\n",
    "            \n",
    "        =>      X      +     Yi\n",
    "        \n",
    "        In Python , \n",
    "                           =>  i = j\n",
    "                           \n",
    "        =>      X      +     Yj\n",
    "        \n",
    "        \n",
    "        Like :  5+10j , 10j , \n",
    "        \n",
    "        \n",
    "        Type : Complex\n",
    "\n",
    "'''\n",
    "\"\""
   ]
  },
  {
   "cell_type": "code",
   "execution_count": 134,
   "id": "e96260ea",
   "metadata": {},
   "outputs": [],
   "source": [
    "a1 = 10+5j"
   ]
  },
  {
   "cell_type": "code",
   "execution_count": 136,
   "id": "8628e015",
   "metadata": {},
   "outputs": [
    {
     "data": {
      "text/plain": [
       "(10+5j)"
      ]
     },
     "execution_count": 136,
     "metadata": {},
     "output_type": "execute_result"
    }
   ],
   "source": [
    "a1"
   ]
  },
  {
   "cell_type": "code",
   "execution_count": 137,
   "id": "64cc07e8",
   "metadata": {},
   "outputs": [],
   "source": [
    "b1 = 10j"
   ]
  },
  {
   "cell_type": "code",
   "execution_count": 138,
   "id": "2e32ed0f",
   "metadata": {},
   "outputs": [
    {
     "data": {
      "text/plain": [
       "10j"
      ]
     },
     "execution_count": 138,
     "metadata": {},
     "output_type": "execute_result"
    }
   ],
   "source": [
    "b1"
   ]
  },
  {
   "cell_type": "code",
   "execution_count": 139,
   "id": "49779ad9",
   "metadata": {},
   "outputs": [
    {
     "data": {
      "text/plain": [
       "complex"
      ]
     },
     "execution_count": 139,
     "metadata": {},
     "output_type": "execute_result"
    }
   ],
   "source": [
    "type(a1)"
   ]
  },
  {
   "cell_type": "code",
   "execution_count": 140,
   "id": "324605d1",
   "metadata": {},
   "outputs": [
    {
     "data": {
      "text/plain": [
       "complex"
      ]
     },
     "execution_count": 140,
     "metadata": {},
     "output_type": "execute_result"
    }
   ],
   "source": [
    "type(b1)"
   ]
  },
  {
   "cell_type": "code",
   "execution_count": 141,
   "id": "265c1845",
   "metadata": {},
   "outputs": [],
   "source": [
    "a1 = -10j"
   ]
  },
  {
   "cell_type": "code",
   "execution_count": 142,
   "id": "cd619fb6",
   "metadata": {},
   "outputs": [
    {
     "data": {
      "text/plain": [
       "(-0-10j)"
      ]
     },
     "execution_count": 142,
     "metadata": {},
     "output_type": "execute_result"
    }
   ],
   "source": [
    "a1"
   ]
  },
  {
   "cell_type": "code",
   "execution_count": 143,
   "id": "fe78aeac",
   "metadata": {},
   "outputs": [],
   "source": [
    "a1 = 10+5j\n",
    "b1 = 10-5j"
   ]
  },
  {
   "cell_type": "code",
   "execution_count": 144,
   "id": "67a71cd4",
   "metadata": {},
   "outputs": [
    {
     "data": {
      "text/plain": [
       "(20+0j)"
      ]
     },
     "execution_count": 144,
     "metadata": {},
     "output_type": "execute_result"
    }
   ],
   "source": [
    "add = a1+b1\n",
    "add"
   ]
  },
  {
   "cell_type": "code",
   "execution_count": 145,
   "id": "6d760fb5",
   "metadata": {},
   "outputs": [
    {
     "data": {
      "text/plain": [
       "10j"
      ]
     },
     "execution_count": 145,
     "metadata": {},
     "output_type": "execute_result"
    }
   ],
   "source": [
    "sub = a1-b1\n",
    "sub"
   ]
  },
  {
   "cell_type": "code",
   "execution_count": 147,
   "id": "78bae31b",
   "metadata": {},
   "outputs": [
    {
     "data": {
      "text/plain": [
       "(125+0j)"
      ]
     },
     "execution_count": 147,
     "metadata": {},
     "output_type": "execute_result"
    }
   ],
   "source": [
    "mul = a1*b1\n",
    "'''\n",
    "          mul  =  (10+5j)  x (10-5j)\n",
    "        \n",
    "    =>    mul  =   100 - 50j  + 50j  - 25(j^2)\n",
    "    \n",
    "    =>    mul  =   100 - 25(-1) + 0j   \n",
    "\n",
    "    =>    mul  =   100 + 25  + 0j\n",
    "    \n",
    "    =>    mul  =   125 + 0j|\n",
    "  \n",
    "'''\n",
    "mul"
   ]
  },
  {
   "cell_type": "code",
   "execution_count": 148,
   "id": "a7209776",
   "metadata": {},
   "outputs": [
    {
     "ename": "NameError",
     "evalue": "name 'j' is not defined",
     "output_type": "error",
     "traceback": [
      "\u001b[1;31m---------------------------------------------------------------------------\u001b[0m",
      "\u001b[1;31mNameError\u001b[0m                                 Traceback (most recent call last)",
      "Input \u001b[1;32mIn [148]\u001b[0m, in \u001b[0;36m<cell line: 1>\u001b[1;34m()\u001b[0m\n\u001b[1;32m----> 1\u001b[0m a1 \u001b[38;5;241m=\u001b[39m \u001b[38;5;241m10\u001b[39m\u001b[38;5;241m+\u001b[39m\u001b[43mj\u001b[49m\n\u001b[0;32m      2\u001b[0m a1\n",
      "\u001b[1;31mNameError\u001b[0m: name 'j' is not defined"
     ]
    }
   ],
   "source": [
    "a1 = 10+j\n",
    "a1"
   ]
  },
  {
   "cell_type": "code",
   "execution_count": 149,
   "id": "24b535f2",
   "metadata": {},
   "outputs": [],
   "source": [
    "a1 = 10+1j"
   ]
  },
  {
   "cell_type": "code",
   "execution_count": 150,
   "id": "5c7f7488",
   "metadata": {},
   "outputs": [
    {
     "data": {
      "text/plain": [
       "(10+1j)"
      ]
     },
     "execution_count": 150,
     "metadata": {},
     "output_type": "execute_result"
    }
   ],
   "source": [
    "a1"
   ]
  },
  {
   "cell_type": "markdown",
   "id": "702b2407",
   "metadata": {},
   "source": [
    "## Boolean"
   ]
  },
  {
   "cell_type": "code",
   "execution_count": null,
   "id": "600db967",
   "metadata": {},
   "outputs": [],
   "source": [
    "=> Work On Conditions.\n",
    "=> It Has Two Keywords :\n",
    "                             => True\n",
    "                             => False\n",
    "=> Type : bool"
   ]
  },
  {
   "cell_type": "code",
   "execution_count": 151,
   "id": "2bb76e3f",
   "metadata": {},
   "outputs": [
    {
     "data": {
      "text/plain": [
       "True"
      ]
     },
     "execution_count": 151,
     "metadata": {},
     "output_type": "execute_result"
    }
   ],
   "source": [
    "10>5"
   ]
  },
  {
   "cell_type": "code",
   "execution_count": 152,
   "id": "c1568af2",
   "metadata": {},
   "outputs": [
    {
     "name": "stdout",
     "output_type": "stream",
     "text": [
      "1st Result Is : True\n",
      "\n",
      "2nd Result Is : False\n"
     ]
    }
   ],
   "source": [
    "a1 = 10\n",
    "b1 = 100\n",
    "res = a1<b1   ## 10<100 => True\n",
    "res1 = a1>b1  ## 10>100 => False\n",
    "print(\"1st Result Is :\",res)\n",
    "print(\"\\n2nd Result Is :\",res1)"
   ]
  },
  {
   "cell_type": "code",
   "execution_count": 153,
   "id": "6fedb89c",
   "metadata": {},
   "outputs": [
    {
     "data": {
      "text/plain": [
       "bool"
      ]
     },
     "execution_count": 153,
     "metadata": {},
     "output_type": "execute_result"
    }
   ],
   "source": [
    "type(res)"
   ]
  },
  {
   "cell_type": "code",
   "execution_count": 154,
   "id": "80f1f1f1",
   "metadata": {},
   "outputs": [
    {
     "data": {
      "text/plain": [
       "bool"
      ]
     },
     "execution_count": 154,
     "metadata": {},
     "output_type": "execute_result"
    }
   ],
   "source": [
    "type(res1)"
   ]
  },
  {
   "cell_type": "code",
   "execution_count": 156,
   "id": "8c11c5dc",
   "metadata": {},
   "outputs": [
    {
     "data": {
      "text/plain": [
       "bool"
      ]
     },
     "execution_count": 156,
     "metadata": {},
     "output_type": "execute_result"
    }
   ],
   "source": [
    "type(True)"
   ]
  },
  {
   "cell_type": "code",
   "execution_count": 157,
   "id": "17cc9638",
   "metadata": {},
   "outputs": [
    {
     "data": {
      "text/plain": [
       "bool"
      ]
     },
     "execution_count": 157,
     "metadata": {},
     "output_type": "execute_result"
    }
   ],
   "source": [
    "type(False)"
   ]
  },
  {
   "cell_type": "code",
   "execution_count": 158,
   "id": "5667490c",
   "metadata": {},
   "outputs": [
    {
     "data": {
      "text/plain": [
       "bool"
      ]
     },
     "execution_count": 158,
     "metadata": {},
     "output_type": "execute_result"
    }
   ],
   "source": [
    "type(10==10)\n",
    "## type(True)\n",
    "## bool"
   ]
  },
  {
   "cell_type": "markdown",
   "id": "b7a8ab15",
   "metadata": {},
   "source": [
    "## Input Function"
   ]
  },
  {
   "cell_type": "code",
   "execution_count": null,
   "id": "c4bb07b1",
   "metadata": {},
   "outputs": [],
   "source": [
    "=> Takes Data From A User.\n",
    "=> It Takes Any Type of Data From User But Convert Into String Data Type"
   ]
  },
  {
   "cell_type": "markdown",
   "id": "2d4d3d3a",
   "metadata": {},
   "source": [
    "##### Syntax : input(prompt)"
   ]
  },
  {
   "cell_type": "code",
   "execution_count": 159,
   "id": "82188377",
   "metadata": {},
   "outputs": [
    {
     "name": "stdout",
     "output_type": "stream",
     "text": [
      "Mike\n"
     ]
    },
    {
     "data": {
      "text/plain": [
       "'Mike'"
      ]
     },
     "execution_count": 159,
     "metadata": {},
     "output_type": "execute_result"
    }
   ],
   "source": [
    "input()"
   ]
  },
  {
   "cell_type": "code",
   "execution_count": 160,
   "id": "dbc3d727",
   "metadata": {},
   "outputs": [
    {
     "name": "stdout",
     "output_type": "stream",
     "text": [
      "10\n"
     ]
    },
    {
     "data": {
      "text/plain": [
       "'10'"
      ]
     },
     "execution_count": 160,
     "metadata": {},
     "output_type": "execute_result"
    }
   ],
   "source": [
    "input()"
   ]
  },
  {
   "cell_type": "code",
   "execution_count": 164,
   "id": "356b1647",
   "metadata": {},
   "outputs": [
    {
     "name": "stdout",
     "output_type": "stream",
     "text": [
      "25\n",
      "\n",
      "Mike Age Is : 25\n",
      "Type Is <class 'str'>\n"
     ]
    }
   ],
   "source": [
    "age = input()\n",
    "print(f\"\\nMike Age Is : {age}\\nType Is {type(age)}\")"
   ]
  },
  {
   "cell_type": "code",
   "execution_count": 167,
   "id": "ce225e8d",
   "metadata": {},
   "outputs": [
    {
     "name": "stdout",
     "output_type": "stream",
     "text": [
      "Enter Name :Luke\n",
      "\n",
      "Enter Age :20\n",
      "\n",
      "Enter City :Jaipur\n",
      "\n",
      "Enter Email Id :luke@gmail.com\n",
      "\n",
      "Luke Is 20 Years Old.\n",
      "Luke Lives In Jaipur..\n",
      "Contact Me At This Mail_Id : luke@gmail.com\n"
     ]
    }
   ],
   "source": [
    "name = input(\"Enter Name :\")\n",
    "age = input(\"\\nEnter Age :\")\n",
    "city = input(\"\\nEnter City :\")\n",
    "email = input(\"\\nEnter Email Id :\")\n",
    "print(f\"\\n{name} Is {age} Years Old.\\n{name} Lives In {city}..\\nContact Me At This Mail_Id : {email}\")"
   ]
  },
  {
   "cell_type": "code",
   "execution_count": 168,
   "id": "85d44a0b",
   "metadata": {},
   "outputs": [
    {
     "name": "stdout",
     "output_type": "stream",
     "text": [
      "Enter 1st Num :10\n",
      "\n",
      "Enter 2nd Num :50\n",
      "\n",
      "Result Is : 1050\n"
     ]
    }
   ],
   "source": [
    "a1 = input(\"Enter 1st Num :\")\n",
    "b1 = input(\"\\nEnter 2nd Num :\")\n",
    "add = a1+b1\n",
    "print(f\"\\nResult Is : {add}\")"
   ]
  },
  {
   "cell_type": "code",
   "execution_count": 169,
   "id": "1e39ba49",
   "metadata": {},
   "outputs": [
    {
     "name": "stdout",
     "output_type": "stream",
     "text": [
      "Enter 1st Num :10\n",
      "\n",
      "Enter 2nd Num :50\n",
      "\n",
      "a1 Is : 10  ==> Type Is : <class 'str'>\n",
      "\n",
      "b1 Is : 50  ==> Type Is : <class 'str'>\n",
      "\n",
      "Result Is : 1050\n"
     ]
    }
   ],
   "source": [
    "a1 = input(\"Enter 1st Num :\")\n",
    "b1 = input(\"\\nEnter 2nd Num :\")\n",
    "print(f\"\\na1 Is : {a1}  ==> Type Is : {type(a1)}\")\n",
    "print(f\"\\nb1 Is : {b1}  ==> Type Is : {type(b1)}\")\n",
    "add = a1+b1\n",
    "print(f\"\\nResult Is : {add}\")"
   ]
  },
  {
   "cell_type": "code",
   "execution_count": null,
   "id": "0b6d9d4b",
   "metadata": {},
   "outputs": [],
   "source": []
  }
 ],
 "metadata": {
  "kernelspec": {
   "display_name": "Python 3 (ipykernel)",
   "language": "python",
   "name": "python3"
  },
  "language_info": {
   "codemirror_mode": {
    "name": "ipython",
    "version": 3
   },
   "file_extension": ".py",
   "mimetype": "text/x-python",
   "name": "python",
   "nbconvert_exporter": "python",
   "pygments_lexer": "ipython3",
   "version": "3.9.12"
  }
 },
 "nbformat": 4,
 "nbformat_minor": 5
}

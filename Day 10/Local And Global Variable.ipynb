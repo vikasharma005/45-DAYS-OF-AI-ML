{
 "cells": [
  {
   "cell_type": "code",
   "execution_count": 2,
   "id": "e70eebe5",
   "metadata": {},
   "outputs": [],
   "source": [
    "name = \"Mike\" ## Global Scope"
   ]
  },
  {
   "cell_type": "code",
   "execution_count": 3,
   "id": "d6f8cb68",
   "metadata": {},
   "outputs": [
    {
     "data": {
      "text/plain": [
       "'Mike'"
      ]
     },
     "execution_count": 3,
     "metadata": {},
     "output_type": "execute_result"
    }
   ],
   "source": [
    "name"
   ]
  },
  {
   "cell_type": "code",
   "execution_count": 4,
   "id": "18de8bb5",
   "metadata": {},
   "outputs": [
    {
     "name": "stdout",
     "output_type": "stream",
     "text": [
      "My Name Is : Mike\n"
     ]
    }
   ],
   "source": [
    "print(\"My Name Is :\",name)"
   ]
  },
  {
   "cell_type": "code",
   "execution_count": 5,
   "id": "e6c10df8",
   "metadata": {},
   "outputs": [],
   "source": [
    "def info(age):\n",
    "    print(name,\"Is\",age,\"Years Old.\")"
   ]
  },
  {
   "cell_type": "code",
   "execution_count": 6,
   "id": "368b1c23",
   "metadata": {},
   "outputs": [
    {
     "name": "stdout",
     "output_type": "stream",
     "text": [
      "Mike Is 20 Years Old.\n"
     ]
    }
   ],
   "source": [
    "info(20)"
   ]
  },
  {
   "cell_type": "markdown",
   "id": "aacf3595",
   "metadata": {},
   "source": [
    "#### global scope :\n",
    "                    It Can Be Used By Any Function Inside or Outside."
   ]
  },
  {
   "cell_type": "code",
   "execution_count": 10,
   "id": "7da99d49",
   "metadata": {},
   "outputs": [],
   "source": [
    "def data():\n",
    "    name1 = \"Jenny\"  ## local Variable\n",
    "    age1 = 20  ## Local Variable\n",
    "    print(name1,\"Is\",age1,\"Years Old.\")"
   ]
  },
  {
   "cell_type": "code",
   "execution_count": 11,
   "id": "6b59bed8",
   "metadata": {},
   "outputs": [
    {
     "name": "stdout",
     "output_type": "stream",
     "text": [
      "Jenny Is 20 Years Old.\n"
     ]
    }
   ],
   "source": [
    "data()"
   ]
  },
  {
   "cell_type": "code",
   "execution_count": 12,
   "id": "1ff4b7fe",
   "metadata": {},
   "outputs": [
    {
     "ename": "NameError",
     "evalue": "name 'name1' is not defined",
     "output_type": "error",
     "traceback": [
      "\u001b[1;31m---------------------------------------------------------------------------\u001b[0m",
      "\u001b[1;31mNameError\u001b[0m                                 Traceback (most recent call last)",
      "Input \u001b[1;32mIn [12]\u001b[0m, in \u001b[0;36m<cell line: 1>\u001b[1;34m()\u001b[0m\n\u001b[1;32m----> 1\u001b[0m \u001b[43mname1\u001b[49m\n",
      "\u001b[1;31mNameError\u001b[0m: name 'name1' is not defined"
     ]
    }
   ],
   "source": [
    "name1"
   ]
  },
  {
   "cell_type": "code",
   "execution_count": 13,
   "id": "5d6d65e0",
   "metadata": {},
   "outputs": [
    {
     "ename": "NameError",
     "evalue": "name 'age1' is not defined",
     "output_type": "error",
     "traceback": [
      "\u001b[1;31m---------------------------------------------------------------------------\u001b[0m",
      "\u001b[1;31mNameError\u001b[0m                                 Traceback (most recent call last)",
      "Input \u001b[1;32mIn [13]\u001b[0m, in \u001b[0;36m<cell line: 1>\u001b[1;34m()\u001b[0m\n\u001b[1;32m----> 1\u001b[0m \u001b[43mage1\u001b[49m\n",
      "\u001b[1;31mNameError\u001b[0m: name 'age1' is not defined"
     ]
    }
   ],
   "source": [
    "age1"
   ]
  },
  {
   "cell_type": "markdown",
   "id": "81851117",
   "metadata": {},
   "source": [
    "#### Local Variable"
   ]
  },
  {
   "cell_type": "code",
   "execution_count": 12,
   "id": "e30887fe",
   "metadata": {},
   "outputs": [
    {
     "data": {
      "text/plain": [
       "''"
      ]
     },
     "execution_count": 12,
     "metadata": {},
     "output_type": "execute_result"
    }
   ],
   "source": [
    "'''\n",
    "   ## Local Variable :\n",
    "   \n",
    "      => They Are Initilized Inside A Function.\n",
    "      => Belong Only To That Perticular Function.\n",
    "      => They Can Not Be Accessed Anywhere Outside The Function.\n",
    "'''\n",
    "\"\""
   ]
  },
  {
   "cell_type": "code",
   "execution_count": 14,
   "id": "2ebc2f2e",
   "metadata": {},
   "outputs": [],
   "source": [
    "def info(): \n",
    "    a = \"NLP\" # Local Variable\n",
    "    b = 56000 # Local Variable\n",
    "    print(\"Mike Project Is :\",a)\n",
    "    print(\"\\nMike Salary Is :\",b)"
   ]
  },
  {
   "cell_type": "code",
   "execution_count": 15,
   "id": "8acdd757",
   "metadata": {},
   "outputs": [
    {
     "name": "stdout",
     "output_type": "stream",
     "text": [
      "Mike Project Is : NLP\n",
      "\n",
      "Mike Salary Is : 56000\n"
     ]
    }
   ],
   "source": [
    "info()"
   ]
  },
  {
   "cell_type": "code",
   "execution_count": 16,
   "id": "9b695f9c",
   "metadata": {},
   "outputs": [
    {
     "ename": "NameError",
     "evalue": "name 'a' is not defined",
     "output_type": "error",
     "traceback": [
      "\u001b[1;31m---------------------------------------------------------------------------\u001b[0m",
      "\u001b[1;31mNameError\u001b[0m                                 Traceback (most recent call last)",
      "Input \u001b[1;32mIn [16]\u001b[0m, in \u001b[0;36m<cell line: 1>\u001b[1;34m()\u001b[0m\n\u001b[1;32m----> 1\u001b[0m \u001b[43ma\u001b[49m\n",
      "\u001b[1;31mNameError\u001b[0m: name 'a' is not defined"
     ]
    }
   ],
   "source": [
    "a"
   ]
  },
  {
   "cell_type": "code",
   "execution_count": 17,
   "id": "3a35992e",
   "metadata": {},
   "outputs": [
    {
     "ename": "NameError",
     "evalue": "name 'b' is not defined",
     "output_type": "error",
     "traceback": [
      "\u001b[1;31m---------------------------------------------------------------------------\u001b[0m",
      "\u001b[1;31mNameError\u001b[0m                                 Traceback (most recent call last)",
      "Input \u001b[1;32mIn [17]\u001b[0m, in \u001b[0;36m<cell line: 1>\u001b[1;34m()\u001b[0m\n\u001b[1;32m----> 1\u001b[0m \u001b[43mb\u001b[49m\n",
      "\u001b[1;31mNameError\u001b[0m: name 'b' is not defined"
     ]
    }
   ],
   "source": [
    "b"
   ]
  },
  {
   "cell_type": "markdown",
   "id": "dd91233c",
   "metadata": {},
   "source": [
    "#### name1 ,age --> Use --> Outside The Function"
   ]
  },
  {
   "cell_type": "code",
   "execution_count": 18,
   "id": "a7da92eb",
   "metadata": {},
   "outputs": [],
   "source": [
    "## Local --> Global"
   ]
  },
  {
   "cell_type": "code",
   "execution_count": 19,
   "id": "f8198b53",
   "metadata": {},
   "outputs": [],
   "source": [
    "## Use : Keyword\n",
    "## Keyword : global"
   ]
  },
  {
   "cell_type": "markdown",
   "id": "5b4198f7",
   "metadata": {},
   "source": [
    "                    How To Use The Local Variable In Other Function."
   ]
  },
  {
   "cell_type": "code",
   "execution_count": 21,
   "id": "d1638ab1",
   "metadata": {},
   "outputs": [],
   "source": [
    "## Variable ==> global variable\n",
    "## USE : Keyword ==> global"
   ]
  },
  {
   "cell_type": "markdown",
   "id": "c955188e",
   "metadata": {},
   "source": [
    "#### global variable"
   ]
  },
  {
   "cell_type": "code",
   "execution_count": 20,
   "id": "d4ace457",
   "metadata": {},
   "outputs": [
    {
     "data": {
      "text/plain": [
       "''"
      ]
     },
     "execution_count": 20,
     "metadata": {},
     "output_type": "execute_result"
    }
   ],
   "source": [
    "'''\n",
    "  ## Global Variable :\n",
    "  \n",
    "     => They Are Initialized Any Function Using global Keyword.\n",
    "     => They Can Be Accessed Anywhere Outside The Function.\n",
    "\n",
    "'''\n",
    "\"\""
   ]
  },
  {
   "cell_type": "code",
   "execution_count": 21,
   "id": "556dfe0d",
   "metadata": {},
   "outputs": [],
   "source": [
    "def data():\n",
    "    ## Variable --> Global\n",
    "    global name1\n",
    "    name1 = \"Jenny\"\n",
    "    global age1\n",
    "    age1 = 20\n",
    "    print(name,\"Is\",age1,\"Years Old.\")"
   ]
  },
  {
   "cell_type": "code",
   "execution_count": 22,
   "id": "c011c7a5",
   "metadata": {},
   "outputs": [
    {
     "name": "stdout",
     "output_type": "stream",
     "text": [
      "Mike Is 20 Years Old.\n"
     ]
    }
   ],
   "source": [
    "data()"
   ]
  },
  {
   "cell_type": "code",
   "execution_count": 23,
   "id": "4c83e860",
   "metadata": {},
   "outputs": [
    {
     "data": {
      "text/plain": [
       "'Jenny'"
      ]
     },
     "execution_count": 23,
     "metadata": {},
     "output_type": "execute_result"
    }
   ],
   "source": [
    "name1"
   ]
  },
  {
   "cell_type": "code",
   "execution_count": 24,
   "id": "1cd8a75f",
   "metadata": {},
   "outputs": [
    {
     "data": {
      "text/plain": [
       "20"
      ]
     },
     "execution_count": 24,
     "metadata": {},
     "output_type": "execute_result"
    }
   ],
   "source": [
    "age1"
   ]
  },
  {
   "cell_type": "code",
   "execution_count": 45,
   "id": "5288baa2",
   "metadata": {},
   "outputs": [],
   "source": [
    "a=10  ## global Scope\n",
    "def data():\n",
    "    b=2  ## local Variable\n",
    "    div=a/b\n",
    "    global c\n",
    "    c=12 ## global Variable\n",
    "    print(\"the div is :\".title(),div)\n",
    "    def check():\n",
    "        inp=int(input(\"\\nenter the variable value...>\".title()))\n",
    "        if inp==10:\n",
    "            print(\"\\nthis is globle scope variable\".title())\n",
    "        elif inp==2:\n",
    "            print(\"\\nthis is local variable...>\".title())\n",
    "        elif inp==12:\n",
    "            print(\"\\nthis is globle variable\".title())\n",
    "        else:\n",
    "            print(\"no option.\".title())\n",
    "    check()"
   ]
  },
  {
   "cell_type": "code",
   "execution_count": 46,
   "id": "9f34699e",
   "metadata": {},
   "outputs": [
    {
     "name": "stdout",
     "output_type": "stream",
     "text": [
      "The Div Is : 5.0\n",
      "\n",
      "Enter The Variable Value...>10\n",
      "\n",
      "This Is Globle Scope Variable\n"
     ]
    }
   ],
   "source": [
    "data()"
   ]
  },
  {
   "cell_type": "code",
   "execution_count": 47,
   "id": "0323559f",
   "metadata": {},
   "outputs": [
    {
     "name": "stdout",
     "output_type": "stream",
     "text": [
      "The Div Is : 5.0\n",
      "\n",
      "Enter The Variable Value...>2\n",
      "\n",
      "This Is Local Variable...>\n"
     ]
    }
   ],
   "source": [
    "data()"
   ]
  },
  {
   "cell_type": "code",
   "execution_count": 48,
   "id": "0db58191",
   "metadata": {},
   "outputs": [
    {
     "name": "stdout",
     "output_type": "stream",
     "text": [
      "The Div Is : 5.0\n",
      "\n",
      "Enter The Variable Value...>12\n",
      "\n",
      "This Is Globle Variable\n"
     ]
    }
   ],
   "source": [
    "data()"
   ]
  },
  {
   "cell_type": "code",
   "execution_count": 25,
   "id": "9c1f2a82",
   "metadata": {},
   "outputs": [],
   "source": [
    "name = \"Mike\" ## global scope\n",
    "def msg():\n",
    "    name = \"Sean\" ## local variable\n",
    "    print(\"Msg To\",name,\"Is =>  I Am Learning Python.\")"
   ]
  },
  {
   "cell_type": "code",
   "execution_count": 26,
   "id": "f527f128",
   "metadata": {},
   "outputs": [
    {
     "name": "stdout",
     "output_type": "stream",
     "text": [
      "Msg To Sean Is =>  I Am Learning Python.\n"
     ]
    }
   ],
   "source": [
    "msg()"
   ]
  },
  {
   "cell_type": "code",
   "execution_count": 56,
   "id": "81c290d7",
   "metadata": {},
   "outputs": [],
   "source": [
    "a = 10 ## global Scope\n",
    "def div():\n",
    "    a = 50 ## local Variable\n",
    "    ## Funtion --> Prefer --> Local Varibale\n",
    "    b = 5  ## local Variable\n",
    "    print(\"Div Is :\",a/b)"
   ]
  },
  {
   "cell_type": "code",
   "execution_count": 57,
   "id": "a9987d4d",
   "metadata": {},
   "outputs": [
    {
     "name": "stdout",
     "output_type": "stream",
     "text": [
      "Div Is : 10.0\n"
     ]
    }
   ],
   "source": [
    "div()"
   ]
  },
  {
   "cell_type": "code",
   "execution_count": 27,
   "id": "f054bbb4",
   "metadata": {},
   "outputs": [],
   "source": [
    "a = 100 ## global Scope\n",
    "b = 50  ## global Scope\n",
    "def add():\n",
    "    a =10  ## local Variable\n",
    "    res = a+b\n",
    "    print(\"The Value of a Is :\",a)\n",
    "    print(\"\\nThe Value of b Is :\",b)\n",
    "    print(\"\\nResult Is :\",res)\n",
    "    if a ==10:\n",
    "        print(\"\\nThis Is Local Variable..\\n\\nFunction Always Prefer To First Local Variable.\")"
   ]
  },
  {
   "cell_type": "code",
   "execution_count": 28,
   "id": "8c4c0e5f",
   "metadata": {},
   "outputs": [
    {
     "name": "stdout",
     "output_type": "stream",
     "text": [
      "The Value of a Is : 10\n",
      "\n",
      "The Value of b Is : 50\n",
      "\n",
      "Result Is : 60\n",
      "\n",
      "This Is Local Variable..\n",
      "\n",
      "Function Always Prefer To First Local Variable.\n"
     ]
    }
   ],
   "source": [
    "add()"
   ]
  },
  {
   "cell_type": "code",
   "execution_count": 60,
   "id": "a56e1080",
   "metadata": {},
   "outputs": [],
   "source": [
    "a = 100  ## Global Scope\n",
    "def f1():\n",
    "    b = 50  ## Local Variable\n",
    "    div = a/b  ## 100/50 = 2.0\n",
    "    print(\"Div Is :\",div)\n",
    "    def f2():\n",
    "        a = 10  ## Local Varibale of f2()\n",
    "                ## It gives The 1st Priority for Local Variable\n",
    "        mul = a*b  ## 10 x 50 = 500\n",
    "          ## Here b = global scope for f2()\n",
    "        print(\"Mul Is :\",mul)\n",
    "    f2()  "
   ]
  },
  {
   "cell_type": "code",
   "execution_count": 61,
   "id": "b27c1804",
   "metadata": {},
   "outputs": [
    {
     "name": "stdout",
     "output_type": "stream",
     "text": [
      "Div Is : 2.0\n",
      "Mul Is : 500\n"
     ]
    }
   ],
   "source": [
    "f1()"
   ]
  },
  {
   "cell_type": "code",
   "execution_count": 62,
   "id": "49d60d13",
   "metadata": {},
   "outputs": [],
   "source": [
    "def f1():\n",
    "    a = 10  ## Local Variable\n",
    "    def f2():\n",
    "        global b\n",
    "        b = 5\n",
    "        def add():\n",
    "            b = 10 ## Local Variable\n",
    "            print(\"Add Is :\",a+b)\n",
    "        def sub():\n",
    "            d = 25\n",
    "            print(\"\\nSub Is :\",d-b)\n",
    "        sub()\n",
    "        add()\n",
    "    f2()    "
   ]
  },
  {
   "cell_type": "code",
   "execution_count": 64,
   "id": "1b77d3b6",
   "metadata": {},
   "outputs": [
    {
     "name": "stdout",
     "output_type": "stream",
     "text": [
      "\n",
      "Sub Is : 20\n",
      "Add Is : 20\n"
     ]
    }
   ],
   "source": [
    "f1()"
   ]
  },
  {
   "cell_type": "markdown",
   "id": "d6b4ba83",
   "metadata": {},
   "source": [
    "=> Make A Program Like Zomoto App\n",
    "=> Make A Program To Expain About Return Function.\n",
    "=> Make A Program To Create A Return Function Using gTTS.\n",
    "=> Make A Program About Global And Local Variable/Function.\n",
    "=> Make A Program About Define Variable Length Argument."
   ]
  },
  {
   "cell_type": "code",
   "execution_count": null,
   "id": "bc09493d",
   "metadata": {},
   "outputs": [],
   "source": []
  }
 ],
 "metadata": {
  "kernelspec": {
   "display_name": "Python 3 (ipykernel)",
   "language": "python",
   "name": "python3"
  },
  "language_info": {
   "codemirror_mode": {
    "name": "ipython",
    "version": 3
   },
   "file_extension": ".py",
   "mimetype": "text/x-python",
   "name": "python",
   "nbconvert_exporter": "python",
   "pygments_lexer": "ipython3",
   "version": "3.9.12"
  }
 },
 "nbformat": 4,
 "nbformat_minor": 5
}

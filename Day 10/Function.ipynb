{
 "cells": [
  {
   "cell_type": "markdown",
   "id": "533a61e3",
   "metadata": {},
   "source": [
    "## Function : It Is A Block of Code.\n",
    "                                           Run ==> Call"
   ]
  },
  {
   "cell_type": "markdown",
   "id": "9d0be2b0",
   "metadata": {},
   "source": [
    "## How To Make A Function\n",
    "                                        USE : Keyword ==> def"
   ]
  },
  {
   "cell_type": "code",
   "execution_count": 2,
   "id": "701acc38",
   "metadata": {},
   "outputs": [
    {
     "data": {
      "text/plain": [
       "''"
      ]
     },
     "execution_count": 2,
     "metadata": {},
     "output_type": "execute_result"
    }
   ],
   "source": [
    "'''\n",
    "  ## def :\n",
    "           => It Is A Keyword.\n",
    "           \n",
    "           => It Is Used To Create or Define A Function.\n",
    "\n",
    "'''\n",
    "\"\""
   ]
  },
  {
   "cell_type": "code",
   "execution_count": 3,
   "id": "750131e6",
   "metadata": {},
   "outputs": [
    {
     "data": {
      "text/plain": [
       "''"
      ]
     },
     "execution_count": 3,
     "metadata": {},
     "output_type": "execute_result"
    }
   ],
   "source": [
    "'''\n",
    "    ## Syntax :\n",
    "    \n",
    "                        def function_name() :\n",
    "                        \n",
    "                            expressions...\n",
    "                            \n",
    "                            .........\n",
    "'''\n",
    "\"\""
   ]
  },
  {
   "cell_type": "code",
   "execution_count": 1,
   "id": "ea8a1887",
   "metadata": {},
   "outputs": [
    {
     "data": {
      "text/plain": [
       "<function print>"
      ]
     },
     "execution_count": 1,
     "metadata": {},
     "output_type": "execute_result"
    }
   ],
   "source": [
    "print"
   ]
  },
  {
   "cell_type": "code",
   "execution_count": 2,
   "id": "9e74de9f",
   "metadata": {},
   "outputs": [
    {
     "ename": "SyntaxError",
     "evalue": "Missing parentheses in call to 'print'. Did you mean print(\"Hello\")? (3583445538.py, line 1)",
     "output_type": "error",
     "traceback": [
      "\u001b[1;36m  Input \u001b[1;32mIn [2]\u001b[1;36m\u001b[0m\n\u001b[1;33m    print \"Hello\"\u001b[0m\n\u001b[1;37m          ^\u001b[0m\n\u001b[1;31mSyntaxError\u001b[0m\u001b[1;31m:\u001b[0m Missing parentheses in call to 'print'. Did you mean print(\"Hello\")?\n"
     ]
    }
   ],
   "source": [
    "print \"Hello\""
   ]
  },
  {
   "cell_type": "markdown",
   "id": "b62c5356",
   "metadata": {},
   "source": [
    "##### Note : Parentheses () : It Is Used For Call A Function "
   ]
  },
  {
   "cell_type": "code",
   "execution_count": 3,
   "id": "0e4d94cc",
   "metadata": {},
   "outputs": [],
   "source": [
    "def msg():\n",
    "    print(\"Now We Are Learning Function.\")"
   ]
  },
  {
   "cell_type": "code",
   "execution_count": 5,
   "id": "110aabe2",
   "metadata": {},
   "outputs": [],
   "source": [
    "## Function => Run <== Call"
   ]
  },
  {
   "cell_type": "code",
   "execution_count": 4,
   "id": "d2c36715",
   "metadata": {},
   "outputs": [
    {
     "data": {
      "text/plain": [
       "<function __main__.msg()>"
      ]
     },
     "execution_count": 4,
     "metadata": {},
     "output_type": "execute_result"
    }
   ],
   "source": [
    "msg"
   ]
  },
  {
   "cell_type": "code",
   "execution_count": 5,
   "id": "2e79b788",
   "metadata": {},
   "outputs": [
    {
     "data": {
      "text/plain": [
       "function"
      ]
     },
     "execution_count": 5,
     "metadata": {},
     "output_type": "execute_result"
    }
   ],
   "source": [
    "type(msg)"
   ]
  },
  {
   "cell_type": "code",
   "execution_count": 6,
   "id": "6d2d3b3d",
   "metadata": {},
   "outputs": [
    {
     "name": "stdout",
     "output_type": "stream",
     "text": [
      "Now We Are Learning Function.\n"
     ]
    }
   ],
   "source": [
    "msg()"
   ]
  },
  {
   "cell_type": "markdown",
   "id": "be1b4056",
   "metadata": {},
   "source": [
    "## Create A Function of Generate A Data"
   ]
  },
  {
   "cell_type": "code",
   "execution_count": 8,
   "id": "6b41f928",
   "metadata": {},
   "outputs": [],
   "source": [
    "def gen_data():\n",
    "    ques = input(\"Do You Want To Generate Data :\")\n",
    "    if ques ==\"Yes\":\n",
    "        name = input(\"\\nEnter Name :\")\n",
    "        age =  int(input(\"\\nEnter Age :\"))\n",
    "        city = input(\"\\nEnter City :\")\n",
    "        contact = input(\"\\nEnter Contact :\")\n",
    "        print(f'''\n",
    "                                       INFORMATION\n",
    "                                       \n",
    "                  1. Stud Name Is : {name}\n",
    "                  2. Stud Age  Is : {age}\n",
    "                  3. Stud City Is : {city}\n",
    "                  4. Stud Num  Is : {contact}\n",
    "        ''')\n",
    "    else:\n",
    "        print(\"\\nPls Exit..\")"
   ]
  },
  {
   "cell_type": "code",
   "execution_count": 9,
   "id": "8cfd8c6a",
   "metadata": {},
   "outputs": [
    {
     "name": "stdout",
     "output_type": "stream",
     "text": [
      "Do You Want To Generate Data :Nope\n",
      "\n",
      "Pls Exit..\n"
     ]
    }
   ],
   "source": [
    "gen_data()"
   ]
  },
  {
   "cell_type": "code",
   "execution_count": 10,
   "id": "abede118",
   "metadata": {},
   "outputs": [
    {
     "name": "stdout",
     "output_type": "stream",
     "text": [
      "Do You Want To Generate Data :Yes\n",
      "\n",
      "Enter Name :Mike\n",
      "\n",
      "Enter Age :21\n",
      "\n",
      "Enter City :Jaipur\n",
      "\n",
      "Enter Contact :+91 7056560816\n",
      "\n",
      "                                       INFORMATION\n",
      "                                       \n",
      "                  1. Stud Name Is : Mike\n",
      "                  2. Stud Age  Is : 21\n",
      "                  3. Stud City Is : Jaipur\n",
      "                  4. Stud Num  Is : +91 7056560816\n",
      "        \n"
     ]
    }
   ],
   "source": [
    "gen_data()"
   ]
  },
  {
   "cell_type": "markdown",
   "id": "8eb44cd3",
   "metadata": {},
   "source": [
    "## Make A EvenOdd Program"
   ]
  },
  {
   "cell_type": "code",
   "execution_count": 12,
   "id": "2f431aab",
   "metadata": {},
   "outputs": [],
   "source": [
    "def evenodd():\n",
    "    num = int(input(\"Enter A Num :\"))\n",
    "    if num%2==0:\n",
    "        print(\"\\nEven Num Is :\",num)\n",
    "    else:\n",
    "        print(\"\\nOdd Num Is :\",num)"
   ]
  },
  {
   "cell_type": "code",
   "execution_count": 13,
   "id": "ac74080e",
   "metadata": {},
   "outputs": [
    {
     "name": "stdout",
     "output_type": "stream",
     "text": [
      "Enter A Num :120\n",
      "\n",
      "Even Num Is : 120\n"
     ]
    }
   ],
   "source": [
    "evenodd()"
   ]
  },
  {
   "cell_type": "code",
   "execution_count": 14,
   "id": "eaca5603",
   "metadata": {},
   "outputs": [
    {
     "name": "stdout",
     "output_type": "stream",
     "text": [
      "Enter A Num :125\n",
      "\n",
      "Odd Num Is : 125\n"
     ]
    }
   ],
   "source": [
    "evenodd()"
   ]
  },
  {
   "cell_type": "markdown",
   "id": "e9037fab",
   "metadata": {},
   "source": [
    "## Give Colors"
   ]
  },
  {
   "cell_type": "code",
   "execution_count": 15,
   "id": "a5b75ce8",
   "metadata": {},
   "outputs": [],
   "source": [
    "from colorama import *"
   ]
  },
  {
   "cell_type": "code",
   "execution_count": 16,
   "id": "ba137a29",
   "metadata": {},
   "outputs": [],
   "source": [
    "def evenodd():\n",
    "    num = int(input(\"Enter A Num :\"))\n",
    "    if num%2==0:\n",
    "        print(Fore.GREEN+\"\\nEven Num Is :\" +str(num))\n",
    "    else:\n",
    "        print(Fore.RED+\"\\nOdd Num Is :\"+str(num))"
   ]
  },
  {
   "cell_type": "code",
   "execution_count": 17,
   "id": "8ddb91b0",
   "metadata": {},
   "outputs": [
    {
     "name": "stdout",
     "output_type": "stream",
     "text": [
      "Enter A Num :120\n",
      "\u001b[32m\n",
      "Even Num Is :120\n"
     ]
    }
   ],
   "source": [
    "evenodd()"
   ]
  },
  {
   "cell_type": "code",
   "execution_count": 18,
   "id": "77dc181d",
   "metadata": {},
   "outputs": [
    {
     "name": "stdout",
     "output_type": "stream",
     "text": [
      "Enter A Num :125\n",
      "\u001b[31m\n",
      "Odd Num Is :125\n"
     ]
    }
   ],
   "source": [
    "evenodd()"
   ]
  },
  {
   "cell_type": "code",
   "execution_count": 19,
   "id": "b34f458e",
   "metadata": {},
   "outputs": [],
   "source": [
    "def evenodd():\n",
    "    num = int(input(\"Enter A Num :\"))\n",
    "    if num%2==0:\n",
    "        print(Fore.GREEN+Back.BLACK+\"\\nEven Num Is :\" +str(num))\n",
    "    else:\n",
    "        print(Fore.RED+Back.BLACK+\"\\nOdd Num Is :\"+str(num))"
   ]
  },
  {
   "cell_type": "code",
   "execution_count": 20,
   "id": "f74ca75c",
   "metadata": {},
   "outputs": [
    {
     "name": "stdout",
     "output_type": "stream",
     "text": [
      "Enter A Num :120\n",
      "\u001b[32m\u001b[40m\n",
      "Even Num Is :120\n"
     ]
    }
   ],
   "source": [
    "evenodd()"
   ]
  },
  {
   "cell_type": "code",
   "execution_count": 21,
   "id": "1739f071",
   "metadata": {},
   "outputs": [
    {
     "name": "stdout",
     "output_type": "stream",
     "text": [
      "Enter A Num :125\n",
      "\u001b[31m\u001b[40m\n",
      "Odd Num Is :125\n"
     ]
    }
   ],
   "source": [
    "evenodd()"
   ]
  },
  {
   "cell_type": "markdown",
   "id": "b39c1437",
   "metadata": {},
   "source": [
    "## Using Input Function"
   ]
  },
  {
   "cell_type": "code",
   "execution_count": 22,
   "id": "ee585cf5",
   "metadata": {},
   "outputs": [],
   "source": [
    "def cal():\n",
    "    num1 = int(input(\"Enter 1st Num :\"))\n",
    "    num2 = int(input(\"\\nEnter 2nd Num :\"))\n",
    "    add = num1+num2\n",
    "    sub = num1-num2\n",
    "    mul = num1*num2\n",
    "    div = num1/num2\n",
    "    print(\"\\nAdd Is :\",add,\"\\nSub Is :\",sub,\"\\nMul Is :\",mul,\"\\nDiv Is :\",div)"
   ]
  },
  {
   "cell_type": "code",
   "execution_count": 23,
   "id": "ac9a7c58",
   "metadata": {},
   "outputs": [
    {
     "name": "stdout",
     "output_type": "stream",
     "text": [
      "Enter 1st Num :120\n",
      "\n",
      "Enter 2nd Num :60\n",
      "\n",
      "Add Is : 180 \n",
      "Sub Is : 60 \n",
      "Mul Is : 7200 \n",
      "Div Is : 2.0\n"
     ]
    }
   ],
   "source": [
    "cal()"
   ]
  },
  {
   "cell_type": "code",
   "execution_count": 24,
   "id": "92868321",
   "metadata": {},
   "outputs": [],
   "source": [
    "def cal():\n",
    "    num1 = int(input(\"Enter 1st Num :\"))\n",
    "    num2 = int(input(\"\\nEnter 2nd Num :\"))\n",
    "    add = num1+num2\n",
    "    sub = num1-num2\n",
    "    mul = num1*num2\n",
    "    div = num1/num2\n",
    "    opt = input(\"\\nSelect Option :\")\n",
    "    if opt==\"Addition\":\n",
    "        print(\"\\nAdd Is :\",add)\n",
    "    elif opt==\"Subtraction\":\n",
    "        print(\"\\nSub Is :\",sub)\n",
    "    elif opt == \"Multiplication\":\n",
    "        print(\"\\nMul Is :\",mul)\n",
    "    elif opt == \"Division\":\n",
    "        print(\"\\nDiv Is :\",div)\n",
    "    else:\n",
    "        print(\"\\nNo Option Is Here..\")"
   ]
  },
  {
   "cell_type": "code",
   "execution_count": 26,
   "id": "20cde5ab",
   "metadata": {},
   "outputs": [
    {
     "name": "stdout",
     "output_type": "stream",
     "text": [
      "Enter 1st Num :120\n",
      "\n",
      "Enter 2nd Num :60\n",
      "\n",
      "Select Option :Division\n",
      "\n",
      "Div Is : 2.0\n"
     ]
    }
   ],
   "source": [
    "cal()"
   ]
  },
  {
   "cell_type": "code",
   "execution_count": 25,
   "id": "502f738c",
   "metadata": {},
   "outputs": [
    {
     "name": "stdout",
     "output_type": "stream",
     "text": [
      "Enter 1st Num :10\n",
      "\n",
      "Enter 2nd Num :5\n",
      "\n",
      "Select Option :Power\n",
      "\n",
      "No Option Is Here..\n"
     ]
    }
   ],
   "source": [
    "cal()"
   ]
  },
  {
   "cell_type": "code",
   "execution_count": 30,
   "id": "be28a2cb",
   "metadata": {},
   "outputs": [],
   "source": [
    "import simple_colors as color"
   ]
  },
  {
   "cell_type": "markdown",
   "id": "de3a7607",
   "metadata": {},
   "source": [
    "                        Make A LeapYear Function.\n",
    "                        Make A BMI Calculator Function."
   ]
  },
  {
   "cell_type": "markdown",
   "id": "f59ad797",
   "metadata": {},
   "source": [
    "## Make A Currency Converter Function"
   ]
  },
  {
   "cell_type": "code",
   "execution_count": 31,
   "id": "8c0ce0d1",
   "metadata": {},
   "outputs": [],
   "source": [
    "def cur_con():\n",
    "    print('\\t\\t\\t\\t'+color.green(\"These Are Option\",['bold','underlined']))\n",
    "    print(color.blue('''\n",
    "                              1. Dol  To Ind RS.\n",
    "                              2. Euro To Ind RS.\n",
    "         ''',['bold']))\n",
    "    opt = input(\"\\nSelect Option :\")\n",
    "    if opt==\"Dol  To Ind RS.\":\n",
    "        dol1 = float(input(\"\\nEnter 1$ In RS :\"))\n",
    "        amt =  float(input(\"\\nEnter Amt In $ :\"))\n",
    "        print(\"\\n\"+color.green(\"Ind Rs Are :\"+str(amt*dol1)))\n",
    "    elif opt==\"Euro To Ind RS.\":\n",
    "        dol1 = float(input(\"\\nEnter 1Euro In RS :\"))\n",
    "        amt =  float(input(\"\\nEnter Amt In Euro :\"))\n",
    "        print(\"\\n\"+color.blue(\"Ind Rs Are :\"+str(amt*dol1)))\n",
    "    else:\n",
    "        print(\"\\n\"+color.red(\"No Option Is Here\",'bold'))"
   ]
  },
  {
   "cell_type": "code",
   "execution_count": 32,
   "id": "425ab077",
   "metadata": {},
   "outputs": [
    {
     "name": "stdout",
     "output_type": "stream",
     "text": [
      "\t\t\t\t\u001b[1;4;32mThese Are Option\u001b[0m\n",
      "\u001b[1;34m\n",
      "                              1. Dol  To Ind RS.\n",
      "                              2. Euro To Ind RS.\n",
      "         \u001b[0m\n",
      "\n",
      "Select Option :Dol  To Ind RS.\n",
      "\n",
      "Enter 1$ In RS :85\n",
      "\n",
      "Enter Amt In $ :120\n",
      "\n",
      "\u001b[32mInd Rs Are :10200.0\u001b[0m\n"
     ]
    }
   ],
   "source": [
    "cur_con()"
   ]
  },
  {
   "cell_type": "code",
   "execution_count": 33,
   "id": "447cbfac",
   "metadata": {},
   "outputs": [
    {
     "name": "stdout",
     "output_type": "stream",
     "text": [
      "\t\t\t\t\u001b[1;4;32mThese Are Option\u001b[0m\n",
      "\u001b[1;34m\n",
      "                              1. Dol  To Ind RS.\n",
      "                              2. Euro To Ind RS.\n",
      "         \u001b[0m\n",
      "\n",
      "Select Option :Euro To Ind RS.\n",
      "\n",
      "Enter 1Euro In RS :125.56\n",
      "\n",
      "Enter Amt In Euro :55\n",
      "\n",
      "\u001b[34mInd Rs Are :6905.8\u001b[0m\n"
     ]
    }
   ],
   "source": [
    "cur_con()"
   ]
  },
  {
   "cell_type": "markdown",
   "id": "6b90490a",
   "metadata": {},
   "source": [
    "## Parameter And Arguments "
   ]
  },
  {
   "cell_type": "code",
   "execution_count": 34,
   "id": "bd5c4abf",
   "metadata": {},
   "outputs": [],
   "source": [
    "def info(name):  ## name =>Parameter\n",
    "    print(\"My Name Is :\",name)"
   ]
  },
  {
   "cell_type": "code",
   "execution_count": 35,
   "id": "ea86cdc7",
   "metadata": {},
   "outputs": [
    {
     "ename": "TypeError",
     "evalue": "info() missing 1 required positional argument: 'name'",
     "output_type": "error",
     "traceback": [
      "\u001b[1;31m---------------------------------------------------------------------------\u001b[0m",
      "\u001b[1;31mTypeError\u001b[0m                                 Traceback (most recent call last)",
      "Input \u001b[1;32mIn [35]\u001b[0m, in \u001b[0;36m<cell line: 1>\u001b[1;34m()\u001b[0m\n\u001b[1;32m----> 1\u001b[0m \u001b[43minfo\u001b[49m\u001b[43m(\u001b[49m\u001b[43m)\u001b[49m\n",
      "\u001b[1;31mTypeError\u001b[0m: info() missing 1 required positional argument: 'name'"
     ]
    }
   ],
   "source": [
    "info()"
   ]
  },
  {
   "cell_type": "code",
   "execution_count": null,
   "id": "48a350c1",
   "metadata": {},
   "outputs": [],
   "source": [
    "Parameter => Name : Pass => Argument (Value)"
   ]
  },
  {
   "cell_type": "code",
   "execution_count": 36,
   "id": "7e78d647",
   "metadata": {},
   "outputs": [
    {
     "name": "stdout",
     "output_type": "stream",
     "text": [
      "My Name Is : Luke Penn\n"
     ]
    }
   ],
   "source": [
    "info(\"Luke Penn\")"
   ]
  },
  {
   "cell_type": "code",
   "execution_count": 1,
   "id": "cca889ad",
   "metadata": {},
   "outputs": [],
   "source": [
    "## Prompt ---> Paramater --> Name\n",
    "\n",
    "## Pass   ---> Argument  --> For Name\n",
    "\n",
    "## Parameter --> Object\n",
    "\n",
    "## Argument ---> Value"
   ]
  },
  {
   "cell_type": "code",
   "execution_count": 2,
   "id": "f94b41ad",
   "metadata": {},
   "outputs": [
    {
     "data": {
      "text/plain": [
       "''"
      ]
     },
     "execution_count": 2,
     "metadata": {},
     "output_type": "execute_result"
    }
   ],
   "source": [
    "'''\n",
    "           def  func_name(Parameters,.....):\n",
    "           \n",
    "                expressions\n",
    "                \n",
    "           func_name(Arguments,....)\n",
    "           \n",
    "           \n",
    "           ---------------------------------\n",
    "           \n",
    "           Parameter  --> Variable/Object\n",
    "           \n",
    "           Argument   --> Value\n",
    "\n",
    "'''\n",
    "\"\""
   ]
  },
  {
   "cell_type": "code",
   "execution_count": 38,
   "id": "c65123e4",
   "metadata": {},
   "outputs": [],
   "source": [
    "def info(a,b):\n",
    "    print(a,\"Is\",b,\"Years Old.\")"
   ]
  },
  {
   "cell_type": "code",
   "execution_count": 39,
   "id": "9c1b0ca7",
   "metadata": {},
   "outputs": [
    {
     "name": "stdout",
     "output_type": "stream",
     "text": [
      "Mike Is 15 Years Old.\n"
     ]
    }
   ],
   "source": [
    "info(\"Mike\",15)"
   ]
  },
  {
   "cell_type": "markdown",
   "id": "c6d68b9e",
   "metadata": {},
   "source": [
    "## Types of Argument "
   ]
  },
  {
   "cell_type": "code",
   "execution_count": 40,
   "id": "17703e6a",
   "metadata": {},
   "outputs": [],
   "source": [
    "   ## Default Argument\n",
    "    \n",
    "   ## Keyword Argument\n",
    "\n",
    "   ## Positional Argument\n",
    "    \n",
    "   ## Variable Length Argument :\n",
    "\n",
    "        ## Variable Length Non Keyword Argument\n",
    "        ## Variable Length Keyword Argument"
   ]
  },
  {
   "cell_type": "markdown",
   "id": "96665453",
   "metadata": {},
   "source": [
    "## default Argument :\n",
    "\n",
    "       ## Pass ==> Parameters <---- Function\n",
    "    \n",
    "       ## Assign  ==> Values  <----- Parameters\n",
    "    \n",
    "       ## If We Can Pass The Values For Parameters In The Function."
   ]
  },
  {
   "cell_type": "code",
   "execution_count": 1,
   "id": "5cc14248",
   "metadata": {},
   "outputs": [],
   "source": [
    "def info(name=\"Mike\",age=15,city=\"Jaipur\",sub=\"Python\"):\n",
    "    print(\"Stud Name Is :\",name)\n",
    "    print(\"Age Is :\",age)\n",
    "    print(\"Address Is :\",city)\n",
    "    print(\"Sub Is :\",sub)"
   ]
  },
  {
   "cell_type": "code",
   "execution_count": 2,
   "id": "24526303",
   "metadata": {},
   "outputs": [
    {
     "name": "stdout",
     "output_type": "stream",
     "text": [
      "Stud Name Is : Mike\n",
      "Age Is : 15\n",
      "Address Is : Jaipur\n",
      "Sub Is : Python\n"
     ]
    }
   ],
   "source": [
    "info()"
   ]
  },
  {
   "cell_type": "markdown",
   "id": "a52d83ef",
   "metadata": {},
   "source": []
  },
  {
   "cell_type": "code",
   "execution_count": 3,
   "id": "3d0974bb",
   "metadata": {},
   "outputs": [],
   "source": [
    "import simple_colors as color"
   ]
  },
  {
   "cell_type": "code",
   "execution_count": 16,
   "id": "5143eef3",
   "metadata": {},
   "outputs": [],
   "source": [
    "name = \"Mike\""
   ]
  },
  {
   "cell_type": "code",
   "execution_count": 17,
   "id": "e480bf60",
   "metadata": {},
   "outputs": [
    {
     "name": "stdout",
     "output_type": "stream",
     "text": [
      "My Name Is : Mike\n"
     ]
    }
   ],
   "source": [
    "print(\"My Name Is :\",name)"
   ]
  },
  {
   "cell_type": "code",
   "execution_count": 18,
   "id": "bdd35a5c",
   "metadata": {},
   "outputs": [
    {
     "name": "stdout",
     "output_type": "stream",
     "text": [
      "My Name Is : name\n"
     ]
    }
   ],
   "source": [
    "print(\"My Name Is : name\")"
   ]
  },
  {
   "cell_type": "code",
   "execution_count": 19,
   "id": "0448c0e5",
   "metadata": {},
   "outputs": [
    {
     "name": "stdout",
     "output_type": "stream",
     "text": [
      "My Name Is : Mike\n"
     ]
    }
   ],
   "source": [
    "print(f\"My Name Is : {name}\")"
   ]
  },
  {
   "cell_type": "code",
   "execution_count": 4,
   "id": "b3a3f67a",
   "metadata": {},
   "outputs": [
    {
     "name": "stdout",
     "output_type": "stream",
     "text": [
      "Stud Name Is : Sean\n",
      "Age Is : 15\n",
      "Address Is : Jaipur\n",
      "Sub Is : Python\n"
     ]
    }
   ],
   "source": [
    "info(name=\"Sean\")"
   ]
  },
  {
   "cell_type": "code",
   "execution_count": 5,
   "id": "3008e459",
   "metadata": {},
   "outputs": [
    {
     "name": "stdout",
     "output_type": "stream",
     "text": [
      "Stud Name Is : Mike\n",
      "Age Is : 15\n",
      "Address Is : Jaipur\n",
      "Sub Is : Python\n"
     ]
    }
   ],
   "source": [
    "info()"
   ]
  },
  {
   "cell_type": "code",
   "execution_count": 20,
   "id": "3e9edd3f",
   "metadata": {},
   "outputs": [],
   "source": [
    "def info(name=\"Mike\",age=15,city=\"Jaipur\",sub=\"Python\"):\n",
    "    print(color.green(\"Stud Name Is : \" +name,'bold'))\n",
    "    print(color.green(f\"Age Is : {age}\",'bold'))\n",
    "    print(color.green(\"Address Is : \"+city,'bold'))\n",
    "    print(color.green(\"Sub Is : \"+sub,'bold'))"
   ]
  },
  {
   "cell_type": "code",
   "execution_count": 21,
   "id": "9f5aaa46",
   "metadata": {},
   "outputs": [
    {
     "name": "stdout",
     "output_type": "stream",
     "text": [
      "\u001b[1;32mStud Name Is : Mike\u001b[0m\n",
      "\u001b[1;32mAge Is : 15\u001b[0m\n",
      "\u001b[1;32mAddress Is : Jaipur\u001b[0m\n",
      "\u001b[1;32mSub Is : Python\u001b[0m\n"
     ]
    }
   ],
   "source": [
    "info()"
   ]
  },
  {
   "cell_type": "code",
   "execution_count": 22,
   "id": "a3fa00cb",
   "metadata": {},
   "outputs": [
    {
     "name": "stdout",
     "output_type": "stream",
     "text": [
      "\u001b[1;32mStud Name Is : Jenny\u001b[0m\n",
      "\u001b[1;32mAge Is : 15\u001b[0m\n",
      "\u001b[1;32mAddress Is : Jaipur\u001b[0m\n",
      "\u001b[1;32mSub Is : Python\u001b[0m\n"
     ]
    }
   ],
   "source": [
    "info(name=\"Jenny\")"
   ]
  },
  {
   "cell_type": "code",
   "execution_count": 23,
   "id": "5e8381a8",
   "metadata": {},
   "outputs": [
    {
     "name": "stdout",
     "output_type": "stream",
     "text": [
      "\u001b[1;32mStud Name Is : Mike\u001b[0m\n",
      "\u001b[1;32mAge Is : 15\u001b[0m\n",
      "\u001b[1;32mAddress Is : Jaipur\u001b[0m\n",
      "\u001b[1;32mSub Is : Python\u001b[0m\n"
     ]
    }
   ],
   "source": [
    "info()"
   ]
  },
  {
   "cell_type": "markdown",
   "id": "5a3ee0f9",
   "metadata": {},
   "source": [
    "## Keyword Argument :\n",
    "\n",
    "    ## Create ==> Function\n",
    "    \n",
    "    ## Pass ==> Parameters With Values"
   ]
  },
  {
   "cell_type": "code",
   "execution_count": 6,
   "id": "7a6e5959",
   "metadata": {},
   "outputs": [],
   "source": [
    "def evenodd(num):  ## Parameter => num\n",
    "    if num%2==0:\n",
    "        print(\"Even Num Is :\",num)\n",
    "    else:\n",
    "        print(\"Odd Num Is :\",num)"
   ]
  },
  {
   "cell_type": "code",
   "execution_count": 7,
   "id": "bdb3ce1d",
   "metadata": {},
   "outputs": [
    {
     "ename": "TypeError",
     "evalue": "evenodd() missing 1 required positional argument: 'num'",
     "output_type": "error",
     "traceback": [
      "\u001b[1;31m---------------------------------------------------------------------------\u001b[0m",
      "\u001b[1;31mTypeError\u001b[0m                                 Traceback (most recent call last)",
      "Input \u001b[1;32mIn [7]\u001b[0m, in \u001b[0;36m<cell line: 1>\u001b[1;34m()\u001b[0m\n\u001b[1;32m----> 1\u001b[0m \u001b[43mevenodd\u001b[49m\u001b[43m(\u001b[49m\u001b[43m)\u001b[49m\n",
      "\u001b[1;31mTypeError\u001b[0m: evenodd() missing 1 required positional argument: 'num'"
     ]
    }
   ],
   "source": [
    "evenodd()"
   ]
  },
  {
   "cell_type": "code",
   "execution_count": 8,
   "id": "a324768a",
   "metadata": {},
   "outputs": [
    {
     "name": "stdout",
     "output_type": "stream",
     "text": [
      "Even Num Is : 20\n"
     ]
    }
   ],
   "source": [
    "evenodd(20)"
   ]
  },
  {
   "cell_type": "code",
   "execution_count": 9,
   "id": "e6a8b9bc",
   "metadata": {},
   "outputs": [
    {
     "name": "stdout",
     "output_type": "stream",
     "text": [
      "Odd Num Is : 125\n"
     ]
    }
   ],
   "source": [
    "evenodd(125)"
   ]
  },
  {
   "cell_type": "code",
   "execution_count": 35,
   "id": "3f081ae9",
   "metadata": {},
   "outputs": [],
   "source": [
    "def evenodd(num):\n",
    "    if num%2==0:\n",
    "        print(color.green(f\"Even Num Is : {num}\",'bold'))\n",
    "    else:\n",
    "        print(color.red(f\"Odd Num Is : {num}\",'bold'))"
   ]
  },
  {
   "cell_type": "code",
   "execution_count": 33,
   "id": "0a937cf2",
   "metadata": {},
   "outputs": [
    {
     "name": "stdout",
     "output_type": "stream",
     "text": [
      "\u001b[1;32mEven Num Is : 220\u001b[0m\n"
     ]
    }
   ],
   "source": [
    "evenodd(220)"
   ]
  },
  {
   "cell_type": "code",
   "execution_count": 36,
   "id": "a539e4db",
   "metadata": {},
   "outputs": [
    {
     "name": "stdout",
     "output_type": "stream",
     "text": [
      "\u001b[1;31mOdd Num Is : 255\u001b[0m\n"
     ]
    }
   ],
   "source": [
    "evenodd(255)"
   ]
  },
  {
   "cell_type": "markdown",
   "id": "0f4336b8",
   "metadata": {},
   "source": [
    "## BMI Calculator"
   ]
  },
  {
   "cell_type": "markdown",
   "id": "43801e3f",
   "metadata": {},
   "source": [
    "## Positional Argument :\n",
    "     ## Parameters ==> Assign At Pos/Index No --> Inside The Function"
   ]
  },
  {
   "cell_type": "code",
   "execution_count": 10,
   "id": "f2f1956f",
   "metadata": {},
   "outputs": [],
   "source": [
    "def info(name,age):\n",
    "    print(color.green(f\"{name}\",'bold')+\" Is \"+color.red(f\"{age}\",'bold')+\" Years Old.\")"
   ]
  },
  {
   "cell_type": "code",
   "execution_count": 11,
   "id": "2351dfbd",
   "metadata": {},
   "outputs": [
    {
     "name": "stdout",
     "output_type": "stream",
     "text": [
      "\u001b[1;32mMike\u001b[0m Is \u001b[1;31m15\u001b[0m Years Old.\n"
     ]
    }
   ],
   "source": [
    "info(\"Mike\",15)"
   ]
  },
  {
   "cell_type": "code",
   "execution_count": 12,
   "id": "9ebfce0c",
   "metadata": {},
   "outputs": [
    {
     "name": "stdout",
     "output_type": "stream",
     "text": [
      "\u001b[1;32m15\u001b[0m Is \u001b[1;31mMike\u001b[0m Years Old.\n"
     ]
    }
   ],
   "source": [
    "info(15,\"Mike\")"
   ]
  },
  {
   "cell_type": "code",
   "execution_count": 13,
   "id": "4ac12d85",
   "metadata": {},
   "outputs": [
    {
     "name": "stdout",
     "output_type": "stream",
     "text": [
      "\u001b[1;32mMike\u001b[0m Is \u001b[1;31m15\u001b[0m Years Old.\n"
     ]
    }
   ],
   "source": [
    "info(age=15,name=\"Mike\")"
   ]
  },
  {
   "cell_type": "code",
   "execution_count": 14,
   "id": "37573c72",
   "metadata": {},
   "outputs": [
    {
     "ename": "SyntaxError",
     "evalue": "non-default argument follows default argument (1265378009.py, line 1)",
     "output_type": "error",
     "traceback": [
      "\u001b[1;36m  Input \u001b[1;32mIn [14]\u001b[1;36m\u001b[0m\n\u001b[1;33m    def info(name=\"Mike\",age):\u001b[0m\n\u001b[1;37m                            ^\u001b[0m\n\u001b[1;31mSyntaxError\u001b[0m\u001b[1;31m:\u001b[0m non-default argument follows default argument\n"
     ]
    }
   ],
   "source": [
    "def info(name=\"Mike\",age):\n",
    "    print(color.green(f\"{name}\",'bold')+\" Is \"+color.red(f\"{age}\",'bold')+\" Years Old.\")"
   ]
  },
  {
   "cell_type": "markdown",
   "id": "de033c01",
   "metadata": {},
   "source": [
    "name => default argument\n",
    "age  => keyword argument"
   ]
  },
  {
   "cell_type": "code",
   "execution_count": 52,
   "id": "9a3ebefb",
   "metadata": {},
   "outputs": [
    {
     "data": {
      "text/plain": [
       "''"
      ]
     },
     "execution_count": 52,
     "metadata": {},
     "output_type": "execute_result"
    }
   ],
   "source": [
    "'''\n",
    "   ## Error :\n",
    "   \n",
    "            ==> non-default argument follows default argument.\n",
    "            \n",
    "            ==> Non Default Argument : Keyword Argument\n",
    "            \n",
    "            ==> Default Argument\n",
    "\n",
    "'''\n",
    "\"\""
   ]
  },
  {
   "cell_type": "code",
   "execution_count": 15,
   "id": "bf52c032",
   "metadata": {},
   "outputs": [],
   "source": [
    "def info(age,name=\"Mike\"):\n",
    "    print(color.green(f\"{name}\",'bold')+\" Is \"+color.red(f\"{age}\",'bold')+\" Years Old.\")"
   ]
  },
  {
   "cell_type": "code",
   "execution_count": 16,
   "id": "35626318",
   "metadata": {},
   "outputs": [
    {
     "name": "stdout",
     "output_type": "stream",
     "text": [
      "\u001b[1;32mMike\u001b[0m Is \u001b[1;31m15\u001b[0m Years Old.\n"
     ]
    }
   ],
   "source": [
    "info(15)"
   ]
  },
  {
   "cell_type": "code",
   "execution_count": 56,
   "id": "b852492a",
   "metadata": {},
   "outputs": [
    {
     "data": {
      "text/plain": [
       "''"
      ]
     },
     "execution_count": 56,
     "metadata": {},
     "output_type": "execute_result"
    }
   ],
   "source": [
    "'''\n",
    "   ## positional argument follows keyword argument\n",
    "   \n",
    "   ## Default Argument Follows Keyword Argument.\n",
    "\n",
    "'''\n",
    "\"\""
   ]
  },
  {
   "cell_type": "markdown",
   "id": "bbf74b6c",
   "metadata": {},
   "source": [
    "## Variable Length Argument :\n",
    "\n",
    "      ## Non Keyword Variable Length Argument\n",
    "\n",
    "      ## Variable Length Keyword Length Argument"
   ]
  },
  {
   "cell_type": "code",
   "execution_count": 18,
   "id": "0e7f522f",
   "metadata": {},
   "outputs": [],
   "source": [
    "def emp(name):\n",
    "    print(\"Emp List Is :\",name)"
   ]
  },
  {
   "cell_type": "code",
   "execution_count": 19,
   "id": "f8303155",
   "metadata": {},
   "outputs": [
    {
     "ename": "TypeError",
     "evalue": "emp() takes 1 positional argument but 2 were given",
     "output_type": "error",
     "traceback": [
      "\u001b[1;31m---------------------------------------------------------------------------\u001b[0m",
      "\u001b[1;31mTypeError\u001b[0m                                 Traceback (most recent call last)",
      "Input \u001b[1;32mIn [19]\u001b[0m, in \u001b[0;36m<cell line: 1>\u001b[1;34m()\u001b[0m\n\u001b[1;32m----> 1\u001b[0m \u001b[43memp\u001b[49m\u001b[43m(\u001b[49m\u001b[38;5;124;43m\"\u001b[39;49m\u001b[38;5;124;43mLuke\u001b[39;49m\u001b[38;5;124;43m\"\u001b[39;49m\u001b[43m,\u001b[49m\u001b[38;5;124;43m\"\u001b[39;49m\u001b[38;5;124;43mMike\u001b[39;49m\u001b[38;5;124;43m\"\u001b[39;49m\u001b[43m)\u001b[49m\n",
      "\u001b[1;31mTypeError\u001b[0m: emp() takes 1 positional argument but 2 were given"
     ]
    }
   ],
   "source": [
    "emp(\"Luke\",\"Mike\")"
   ]
  },
  {
   "cell_type": "code",
   "execution_count": 20,
   "id": "cff73267",
   "metadata": {},
   "outputs": [
    {
     "name": "stdout",
     "output_type": "stream",
     "text": [
      "Emp List Is : ['Luke', 'Mike']\n"
     ]
    }
   ],
   "source": [
    "emp([\"Luke\",\"Mike\"])"
   ]
  },
  {
   "cell_type": "markdown",
   "id": "cf214991",
   "metadata": {},
   "source": [
    "## Non Keyword Variable Length Argument :\n",
    "    \n",
    "               Assign => Argument\n",
    "        \n",
    "               Arguement => Pass ==> Multiple Values\n",
    "        \n",
    "               Syntax :  *argument"
   ]
  },
  {
   "cell_type": "code",
   "execution_count": 61,
   "id": "a9d2e59d",
   "metadata": {},
   "outputs": [],
   "source": [
    "## Paramter --> *\n",
    "## *paramater_name"
   ]
  },
  {
   "cell_type": "code",
   "execution_count": 21,
   "id": "fe20e4f3",
   "metadata": {},
   "outputs": [],
   "source": [
    "def emp(*name):\n",
    "    print(\"Emp List Is :\",name)"
   ]
  },
  {
   "cell_type": "code",
   "execution_count": 22,
   "id": "9e6755e2",
   "metadata": {},
   "outputs": [
    {
     "name": "stdout",
     "output_type": "stream",
     "text": [
      "Emp List Is : ('Mike', 'Jack')\n"
     ]
    }
   ],
   "source": [
    "emp(\"Mike\",\"Jack\")"
   ]
  },
  {
   "cell_type": "code",
   "execution_count": 23,
   "id": "628ac779",
   "metadata": {},
   "outputs": [],
   "source": [
    "def emp(*name,age):\n",
    "    print(\"Emp List Is :\",name)\n",
    "    print(\"Age Is :\",age)"
   ]
  },
  {
   "cell_type": "code",
   "execution_count": 24,
   "id": "51722415",
   "metadata": {},
   "outputs": [
    {
     "ename": "TypeError",
     "evalue": "emp() missing 1 required keyword-only argument: 'age'",
     "output_type": "error",
     "traceback": [
      "\u001b[1;31m---------------------------------------------------------------------------\u001b[0m",
      "\u001b[1;31mTypeError\u001b[0m                                 Traceback (most recent call last)",
      "Input \u001b[1;32mIn [24]\u001b[0m, in \u001b[0;36m<cell line: 1>\u001b[1;34m()\u001b[0m\n\u001b[1;32m----> 1\u001b[0m \u001b[43memp\u001b[49m\u001b[43m(\u001b[49m\u001b[38;5;124;43m\"\u001b[39;49m\u001b[38;5;124;43mMike\u001b[39;49m\u001b[38;5;124;43m\"\u001b[39;49m\u001b[43m,\u001b[49m\u001b[38;5;124;43m\"\u001b[39;49m\u001b[38;5;124;43mJack\u001b[39;49m\u001b[38;5;124;43m\"\u001b[39;49m\u001b[43m,\u001b[49m\u001b[38;5;241;43m15\u001b[39;49m\u001b[43m)\u001b[49m\n",
      "\u001b[1;31mTypeError\u001b[0m: emp() missing 1 required keyword-only argument: 'age'"
     ]
    }
   ],
   "source": [
    "emp(\"Mike\",\"Jack\",15)"
   ]
  },
  {
   "cell_type": "code",
   "execution_count": 25,
   "id": "8cc880e7",
   "metadata": {},
   "outputs": [
    {
     "name": "stdout",
     "output_type": "stream",
     "text": [
      "Emp List Is : ('Mike', 'Jack')\n",
      "Age Is : 15\n"
     ]
    }
   ],
   "source": [
    "emp(\"Mike\",\"Jack\",age=15)"
   ]
  },
  {
   "cell_type": "code",
   "execution_count": 26,
   "id": "4d2f8b05",
   "metadata": {},
   "outputs": [],
   "source": [
    "def emp(age,*name):\n",
    "    print(\"Emp List Is :\",name)\n",
    "    print(\"Age Is :\",age)"
   ]
  },
  {
   "cell_type": "code",
   "execution_count": 27,
   "id": "cb8f44ce",
   "metadata": {},
   "outputs": [
    {
     "name": "stdout",
     "output_type": "stream",
     "text": [
      "Emp List Is : ('Mike', 'Jack')\n",
      "Age Is : 15\n"
     ]
    }
   ],
   "source": [
    "emp(15,\"Mike\",\"Jack\")"
   ]
  },
  {
   "cell_type": "code",
   "execution_count": 28,
   "id": "ac5eef2e",
   "metadata": {},
   "outputs": [
    {
     "ename": "SyntaxError",
     "evalue": "invalid syntax (4066833780.py, line 1)",
     "output_type": "error",
     "traceback": [
      "\u001b[1;36m  Input \u001b[1;32mIn [28]\u001b[1;36m\u001b[0m\n\u001b[1;33m    def emp(*age,*name):\u001b[0m\n\u001b[1;37m                 ^\u001b[0m\n\u001b[1;31mSyntaxError\u001b[0m\u001b[1;31m:\u001b[0m invalid syntax\n"
     ]
    }
   ],
   "source": [
    "def emp(*age,*name):\n",
    "    print(\"Emp List Is :\",name)\n",
    "    print(\"Age Is :\",age)"
   ]
  },
  {
   "cell_type": "markdown",
   "id": "539abe9c",
   "metadata": {},
   "source": [
    "## Variable Length Keyword Argument :\n",
    "\n",
    "                Parameter --> Multiple Values\n",
    "    \n",
    "                It Works On Key And Value Pair.\n",
    "    \n",
    "                key = value"
   ]
  },
  {
   "cell_type": "code",
   "execution_count": 29,
   "id": "5b3d32ea",
   "metadata": {},
   "outputs": [],
   "source": [
    "## Syntax :  **argument"
   ]
  },
  {
   "cell_type": "code",
   "execution_count": 31,
   "id": "a24b176f",
   "metadata": {},
   "outputs": [],
   "source": [
    "def info(**kwargs):\n",
    "    print(\"This Is Data :\",kwargs)"
   ]
  },
  {
   "cell_type": "code",
   "execution_count": 32,
   "id": "eb49e91b",
   "metadata": {},
   "outputs": [
    {
     "name": "stdout",
     "output_type": "stream",
     "text": [
      "This Is Data : {}\n"
     ]
    }
   ],
   "source": [
    "info()"
   ]
  },
  {
   "cell_type": "code",
   "execution_count": 33,
   "id": "a18080c3",
   "metadata": {},
   "outputs": [
    {
     "name": "stdout",
     "output_type": "stream",
     "text": [
      "This Is Data : {'name': 'Mike', 'age': 20}\n"
     ]
    }
   ],
   "source": [
    "info(name=\"Mike\",age=20)"
   ]
  },
  {
   "cell_type": "code",
   "execution_count": 76,
   "id": "8e757394",
   "metadata": {},
   "outputs": [
    {
     "name": "stdout",
     "output_type": "stream",
     "text": [
      "This Is Data : {'Name': 'Mike', 'Age': 20}\n"
     ]
    }
   ],
   "source": [
    "info(Name=\"Mike\",Age=20)"
   ]
  },
  {
   "cell_type": "code",
   "execution_count": 77,
   "id": "579151bf",
   "metadata": {},
   "outputs": [
    {
     "name": "stdout",
     "output_type": "stream",
     "text": [
      "This Is Data : {'Name': 'Mike', 'Age': 20, 'Sub': 'Python', 'City': 'Jaipur'}\n"
     ]
    }
   ],
   "source": [
    "info(Name = \"Mike\",Age = 20,Sub=\"Python\",City=\"Jaipur\")"
   ]
  },
  {
   "cell_type": "code",
   "execution_count": 78,
   "id": "f9f4ab33",
   "metadata": {},
   "outputs": [],
   "source": [
    "def emp(**data):\n",
    "    print(\"This Is Emp Data :\",data)"
   ]
  },
  {
   "cell_type": "code",
   "execution_count": 79,
   "id": "7e321125",
   "metadata": {},
   "outputs": [
    {
     "name": "stdout",
     "output_type": "stream",
     "text": [
      "This Is Emp Data : {'Name': 'Luke', 'Age': 20, 'City': 'Jaipur', 'Salary': 85000}\n"
     ]
    }
   ],
   "source": [
    "emp(Name=\"Luke\",Age=20,City=\"Jaipur\",Salary=85000)"
   ]
  },
  {
   "cell_type": "code",
   "execution_count": 34,
   "id": "24654677",
   "metadata": {},
   "outputs": [],
   "source": [
    "def data(name):\n",
    "    print(\"My Name Is :\",name)"
   ]
  },
  {
   "cell_type": "code",
   "execution_count": 35,
   "id": "84b3bdc4",
   "metadata": {},
   "outputs": [
    {
     "name": "stdout",
     "output_type": "stream",
     "text": [
      "My Name Is : Mike\n"
     ]
    }
   ],
   "source": [
    "data(\"Mike\")"
   ]
  },
  {
   "cell_type": "code",
   "execution_count": 36,
   "id": "77f26e59",
   "metadata": {},
   "outputs": [
    {
     "name": "stdout",
     "output_type": "stream",
     "text": [
      "My Name Is : Mike\n",
      "\n",
      "This Is Data : None\n"
     ]
    }
   ],
   "source": [
    "print(\"\\nThis Is Data :\",data(\"Mike\"))"
   ]
  },
  {
   "cell_type": "code",
   "execution_count": 37,
   "id": "02323d43",
   "metadata": {},
   "outputs": [
    {
     "data": {
      "text/plain": [
       "function"
      ]
     },
     "execution_count": 37,
     "metadata": {},
     "output_type": "execute_result"
    }
   ],
   "source": [
    "type(data)"
   ]
  },
  {
   "cell_type": "code",
   "execution_count": 39,
   "id": "3356e331",
   "metadata": {},
   "outputs": [
    {
     "name": "stdout",
     "output_type": "stream",
     "text": [
      "My Name Is : Mike\n",
      "\n",
      "Type Is : <class 'NoneType'>\n"
     ]
    }
   ],
   "source": [
    "print(\"\\nType Is :\",type(data(\"Mike\")))"
   ]
  },
  {
   "cell_type": "code",
   "execution_count": null,
   "id": "564f6c48",
   "metadata": {},
   "outputs": [],
   "source": []
  }
 ],
 "metadata": {
  "kernelspec": {
   "display_name": "Python 3 (ipykernel)",
   "language": "python",
   "name": "python3"
  },
  "language_info": {
   "codemirror_mode": {
    "name": "ipython",
    "version": 3
   },
   "file_extension": ".py",
   "mimetype": "text/x-python",
   "name": "python",
   "nbconvert_exporter": "python",
   "pygments_lexer": "ipython3",
   "version": "3.9.12"
  }
 },
 "nbformat": 4,
 "nbformat_minor": 5
}

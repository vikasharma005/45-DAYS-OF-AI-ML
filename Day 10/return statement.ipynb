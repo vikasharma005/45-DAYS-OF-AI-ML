{
 "cells": [
  {
   "cell_type": "code",
   "execution_count": 1,
   "id": "0e2533d2",
   "metadata": {},
   "outputs": [],
   "source": [
    "def info(name):\n",
    "    print(\"My Name Is :\",name)"
   ]
  },
  {
   "cell_type": "code",
   "execution_count": 2,
   "id": "75bd2efb",
   "metadata": {},
   "outputs": [
    {
     "name": "stdout",
     "output_type": "stream",
     "text": [
      "My Name Is : Mike\n"
     ]
    }
   ],
   "source": [
    "info(\"Mike\")"
   ]
  },
  {
   "cell_type": "code",
   "execution_count": 3,
   "id": "1e54a99e",
   "metadata": {},
   "outputs": [
    {
     "data": {
      "text/plain": [
       "function"
      ]
     },
     "execution_count": 3,
     "metadata": {},
     "output_type": "execute_result"
    }
   ],
   "source": [
    "type(info)"
   ]
  },
  {
   "cell_type": "code",
   "execution_count": 4,
   "id": "4d3e44ba",
   "metadata": {},
   "outputs": [
    {
     "name": "stdout",
     "output_type": "stream",
     "text": [
      "My Name Is : Mike\n",
      "This Is Result : None\n"
     ]
    }
   ],
   "source": [
    "print(\"This Is Result :\",info(\"Mike\"))"
   ]
  },
  {
   "cell_type": "code",
   "execution_count": 9,
   "id": "c22e1e8f",
   "metadata": {},
   "outputs": [
    {
     "name": "stdout",
     "output_type": "stream",
     "text": [
      "My Name Is : Mike\n",
      "\n",
      "Type Is : <class 'NoneType'>\n"
     ]
    }
   ],
   "source": [
    "print(\"\\nType Is :\",type(info(\"Mike\")))"
   ]
  },
  {
   "cell_type": "markdown",
   "id": "059c8f35",
   "metadata": {},
   "source": [
    "## return statement :\n",
    "                        ## Final Result"
   ]
  },
  {
   "cell_type": "code",
   "execution_count": 5,
   "id": "d9e9e19f",
   "metadata": {},
   "outputs": [],
   "source": [
    "def info(name):\n",
    "    return name ## Final Result"
   ]
  },
  {
   "cell_type": "code",
   "execution_count": 6,
   "id": "2d696452",
   "metadata": {},
   "outputs": [
    {
     "data": {
      "text/plain": [
       "'Mike'"
      ]
     },
     "execution_count": 6,
     "metadata": {},
     "output_type": "execute_result"
    }
   ],
   "source": [
    "info(\"Mike\")"
   ]
  },
  {
   "cell_type": "code",
   "execution_count": 7,
   "id": "fff02f3b",
   "metadata": {},
   "outputs": [
    {
     "data": {
      "text/plain": [
       "str"
      ]
     },
     "execution_count": 7,
     "metadata": {},
     "output_type": "execute_result"
    }
   ],
   "source": [
    "type(info(\"Mike\"))"
   ]
  },
  {
   "cell_type": "code",
   "execution_count": 11,
   "id": "e67cb8be",
   "metadata": {},
   "outputs": [
    {
     "name": "stdout",
     "output_type": "stream",
     "text": [
      "My Name Is : Mike\n"
     ]
    }
   ],
   "source": [
    "print(\"My Name Is :\",info(\"Mike\"))"
   ]
  },
  {
   "cell_type": "code",
   "execution_count": 12,
   "id": "6de64205",
   "metadata": {},
   "outputs": [
    {
     "data": {
      "text/plain": [
       "function"
      ]
     },
     "execution_count": 12,
     "metadata": {},
     "output_type": "execute_result"
    }
   ],
   "source": [
    "type(info)"
   ]
  },
  {
   "cell_type": "code",
   "execution_count": 13,
   "id": "0d55de1b",
   "metadata": {},
   "outputs": [
    {
     "data": {
      "text/plain": [
       "str"
      ]
     },
     "execution_count": 13,
     "metadata": {},
     "output_type": "execute_result"
    }
   ],
   "source": [
    "type(info(\"Mike\"))"
   ]
  },
  {
   "cell_type": "code",
   "execution_count": 8,
   "id": "d54b7abb",
   "metadata": {},
   "outputs": [],
   "source": [
    "def info(name,age):\n",
    "    return name ## Final Result\n",
    "    return age"
   ]
  },
  {
   "cell_type": "code",
   "execution_count": 9,
   "id": "432f603f",
   "metadata": {},
   "outputs": [
    {
     "name": "stdout",
     "output_type": "stream",
     "text": [
      "Result Is : Mike\n"
     ]
    }
   ],
   "source": [
    "print(\"Result Is :\",info(\"Mike\",15))"
   ]
  },
  {
   "cell_type": "markdown",
   "id": "dd227a13",
   "metadata": {},
   "source": [
    "## String"
   ]
  },
  {
   "cell_type": "code",
   "execution_count": 10,
   "id": "db36e07c",
   "metadata": {},
   "outputs": [],
   "source": [
    "def f1(msg):\n",
    "    return msg"
   ]
  },
  {
   "cell_type": "code",
   "execution_count": 11,
   "id": "c462b6f1",
   "metadata": {},
   "outputs": [
    {
     "name": "stdout",
     "output_type": "stream",
     "text": [
      "This Is Msg : I Am Learning Python.\n"
     ]
    }
   ],
   "source": [
    "print(\"This Is Msg :\",f1(\"I Am Learning Python.\"))"
   ]
  },
  {
   "cell_type": "code",
   "execution_count": 5,
   "id": "0c8f3509",
   "metadata": {},
   "outputs": [],
   "source": [
    "def details(name,age):\n",
    "    return name ## Final Result\n",
    "    return age"
   ]
  },
  {
   "cell_type": "code",
   "execution_count": 6,
   "id": "9b6f79c1",
   "metadata": {},
   "outputs": [
    {
     "name": "stdout",
     "output_type": "stream",
     "text": [
      "This Is Details : Mike\n"
     ]
    }
   ],
   "source": [
    "print(\"This Is Details :\",details(\"Mike\",15))"
   ]
  },
  {
   "cell_type": "code",
   "execution_count": 7,
   "id": "56732bf3",
   "metadata": {},
   "outputs": [
    {
     "name": "stdout",
     "output_type": "stream",
     "text": [
      "This Is Details : Mike\n"
     ]
    }
   ],
   "source": [
    "print(\"This Is Details :\",details(\"Mike\",15))"
   ]
  },
  {
   "cell_type": "code",
   "execution_count": 13,
   "id": "137b673a",
   "metadata": {},
   "outputs": [],
   "source": [
    "def details(name,age):\n",
    "    return name ,age"
   ]
  },
  {
   "cell_type": "code",
   "execution_count": 14,
   "id": "f28ea426",
   "metadata": {},
   "outputs": [
    {
     "data": {
      "text/plain": [
       "('Mike', 15)"
      ]
     },
     "execution_count": 14,
     "metadata": {},
     "output_type": "execute_result"
    }
   ],
   "source": [
    "details(\"Mike\",15)"
   ]
  },
  {
   "cell_type": "code",
   "execution_count": 15,
   "id": "674f433a",
   "metadata": {},
   "outputs": [
    {
     "data": {
      "text/plain": [
       "tuple"
      ]
     },
     "execution_count": 15,
     "metadata": {},
     "output_type": "execute_result"
    }
   ],
   "source": [
    "type(details(\"Mike\",15))"
   ]
  },
  {
   "cell_type": "code",
   "execution_count": 9,
   "id": "1a315aa0",
   "metadata": {},
   "outputs": [
    {
     "name": "stdout",
     "output_type": "stream",
     "text": [
      "This Is Details : ('Mike', 15)\n"
     ]
    }
   ],
   "source": [
    "print(\"This Is Details :\",details(\"Mike\",15))"
   ]
  },
  {
   "cell_type": "code",
   "execution_count": 17,
   "id": "ec0aed20",
   "metadata": {},
   "outputs": [
    {
     "name": "stdout",
     "output_type": "stream",
     "text": [
      "Mike Is 15 Years Old\n"
     ]
    }
   ],
   "source": [
    "print(f'{details(\"Mike\",25)[0]} Is {details(\"Mike\",15)[1]} Years Old')"
   ]
  },
  {
   "cell_type": "code",
   "execution_count": 18,
   "id": "67e147ce",
   "metadata": {},
   "outputs": [],
   "source": [
    "data1 = details(\"Mike\",15)"
   ]
  },
  {
   "cell_type": "code",
   "execution_count": 19,
   "id": "a3e9429d",
   "metadata": {},
   "outputs": [
    {
     "data": {
      "text/plain": [
       "('Mike', 15)"
      ]
     },
     "execution_count": 19,
     "metadata": {},
     "output_type": "execute_result"
    }
   ],
   "source": [
    "data1"
   ]
  },
  {
   "cell_type": "code",
   "execution_count": 20,
   "id": "58b6abdc",
   "metadata": {},
   "outputs": [
    {
     "data": {
      "text/plain": [
       "tuple"
      ]
     },
     "execution_count": 20,
     "metadata": {},
     "output_type": "execute_result"
    }
   ],
   "source": [
    "type(data1)"
   ]
  },
  {
   "cell_type": "code",
   "execution_count": 10,
   "id": "bdaff28a",
   "metadata": {},
   "outputs": [
    {
     "name": "stdout",
     "output_type": "stream",
     "text": [
      "Type : <class 'tuple'>\n"
     ]
    }
   ],
   "source": [
    "print(\"Type :\",type(details(\"Mike\",15)))"
   ]
  },
  {
   "cell_type": "code",
   "execution_count": 21,
   "id": "673ccc3a",
   "metadata": {},
   "outputs": [],
   "source": [
    "import simple_colors as color"
   ]
  },
  {
   "cell_type": "code",
   "execution_count": 22,
   "id": "72fa9672",
   "metadata": {},
   "outputs": [
    {
     "name": "stdout",
     "output_type": "stream",
     "text": [
      "\n",
      "Enter Title Name :Stud\n",
      "\n",
      "\u001b[32mStud Is : Mike\u001b[0m\n",
      "\n",
      "Enter Title Name :Age\n",
      "\n",
      "\u001b[32mAge Is : 15\u001b[0m\n"
     ]
    }
   ],
   "source": [
    "for k in details(\"Mike\",15):\n",
    "    inp = input(\"\\nEnter Title Name :\")\n",
    "    print(\"\\n\"+color.green(f\"{inp} Is : {k}\"))"
   ]
  },
  {
   "cell_type": "markdown",
   "id": "6a4ec9fc",
   "metadata": {},
   "source": [
    " ## function"
   ]
  },
  {
   "cell_type": "code",
   "execution_count": 23,
   "id": "392a1aa8",
   "metadata": {},
   "outputs": [],
   "source": [
    "def disp():\n",
    "    def evenodd():\n",
    "        num = int(input(\"Enter Num :\"))\n",
    "        if num%2==0:\n",
    "            print(\"\\n\"+color.green(f\"Even Num Is :{num}\"))\n",
    "        else:\n",
    "            print(\"\\n\"+color.red(f\"Odd Num Is :{num}\"))\n",
    "    return evenodd()"
   ]
  },
  {
   "cell_type": "code",
   "execution_count": 24,
   "id": "3310a2e9",
   "metadata": {},
   "outputs": [
    {
     "name": "stdout",
     "output_type": "stream",
     "text": [
      "Enter Num :120\n",
      "\n",
      "\u001b[32mEven Num Is :120\u001b[0m\n"
     ]
    }
   ],
   "source": [
    "disp()"
   ]
  },
  {
   "cell_type": "code",
   "execution_count": 25,
   "id": "cca58a02",
   "metadata": {},
   "outputs": [
    {
     "name": "stdout",
     "output_type": "stream",
     "text": [
      "Enter Num :125\n",
      "\n",
      "\u001b[31mOdd Num Is :125\u001b[0m\n"
     ]
    }
   ],
   "source": [
    "disp()"
   ]
  },
  {
   "cell_type": "code",
   "execution_count": 28,
   "id": "64243849",
   "metadata": {},
   "outputs": [],
   "source": [
    "def evenodd():\n",
    "        num = int(input(\"Enter Num :\"))\n",
    "        if num%2==0:\n",
    "            print(\"\\n\"+color.green(f\"Even Num Is :{num}\",['bold','underlined']))\n",
    "        else:\n",
    "            print(\"\\n\"+color.red(f\"Odd Num Is :{num}\",['bold','underlined']))"
   ]
  },
  {
   "cell_type": "code",
   "execution_count": 29,
   "id": "7b479186",
   "metadata": {},
   "outputs": [],
   "source": [
    "def add():\n",
    "    num = int(input(\"\\nEnter 1st Num :\"))\n",
    "    num1 = int(input(\"\\nnEnter 2nd Num :\"))\n",
    "    add_ = num+num1\n",
    "    print(\"\\n\"+color.blue(f\"Add Is : {add_}\",['bold','underlined']))"
   ]
  },
  {
   "cell_type": "code",
   "execution_count": 30,
   "id": "2a4cbd09",
   "metadata": {},
   "outputs": [],
   "source": [
    "def disp():\n",
    "    opt = input(\"Select Option : EvenOdd\\Addition ? :\")\n",
    "    if opt==\"EvenOdd\":\n",
    "        return evenodd()\n",
    "    elif opt == \"Addition\":\n",
    "        return add()\n",
    "    else:\n",
    "        return \"No Option Is Here..\""
   ]
  },
  {
   "cell_type": "code",
   "execution_count": 32,
   "id": "e48d629b",
   "metadata": {},
   "outputs": [
    {
     "name": "stdout",
     "output_type": "stream",
     "text": [
      "Select Option : EvenOdd\\Addition ? :Addition\n",
      "\n",
      "Enter 1st Num :10\n",
      "\n",
      "nEnter 2nd Num :56\n",
      "\n",
      "\u001b[1;4;34mAdd Is : 66\u001b[0m\n"
     ]
    }
   ],
   "source": [
    "disp()"
   ]
  },
  {
   "cell_type": "code",
   "execution_count": 33,
   "id": "010cf7fc",
   "metadata": {},
   "outputs": [
    {
     "name": "stdout",
     "output_type": "stream",
     "text": [
      "Select Option : EvenOdd\\Addition ? :EvenOdd\n",
      "Enter Num :120\n",
      "\n",
      "\u001b[1;4;32mEven Num Is :120\u001b[0m\n"
     ]
    }
   ],
   "source": [
    "disp()"
   ]
  },
  {
   "cell_type": "code",
   "execution_count": 34,
   "id": "3f497570",
   "metadata": {},
   "outputs": [
    {
     "name": "stdout",
     "output_type": "stream",
     "text": [
      "Select Option : EvenOdd\\Addition ? :EvenOdd\n",
      "Enter Num :125\n",
      "\n",
      "\u001b[1;4;31mOdd Num Is :125\u001b[0m\n"
     ]
    }
   ],
   "source": [
    "disp()"
   ]
  },
  {
   "cell_type": "code",
   "execution_count": null,
   "id": "52941055",
   "metadata": {},
   "outputs": [],
   "source": [
    " "
   ]
  }
 ],
 "metadata": {
  "kernelspec": {
   "display_name": "Python 3 (ipykernel)",
   "language": "python",
   "name": "python3"
  },
  "language_info": {
   "codemirror_mode": {
    "name": "ipython",
    "version": 3
   },
   "file_extension": ".py",
   "mimetype": "text/x-python",
   "name": "python",
   "nbconvert_exporter": "python",
   "pygments_lexer": "ipython3",
   "version": "3.9.12"
  }
 },
 "nbformat": 4,
 "nbformat_minor": 5
}

{
 "cells": [
  {
   "cell_type": "code",
   "execution_count": 5,
   "id": "eabc4f21",
   "metadata": {},
   "outputs": [],
   "source": [
    "def data():\n",
    "    def add(): ## Local Function\n",
    "        a=10\n",
    "        b=5\n",
    "        print(\"Add Is :\",a+b)\n",
    "    def sub(): ## Local Function\n",
    "        a = 20\n",
    "        b = 5\n",
    "        print(\"\\nSub Is :\",a-b)\n",
    "    add()\n",
    "    sub()"
   ]
  },
  {
   "cell_type": "code",
   "execution_count": 6,
   "id": "a57149f7",
   "metadata": {},
   "outputs": [
    {
     "name": "stdout",
     "output_type": "stream",
     "text": [
      "Add Is : 15\n",
      "\n",
      "Sub Is : 15\n"
     ]
    }
   ],
   "source": [
    "data()"
   ]
  },
  {
   "cell_type": "code",
   "execution_count": 8,
   "id": "304fdde6",
   "metadata": {},
   "outputs": [
    {
     "ename": "NameError",
     "evalue": "name 'add' is not defined",
     "output_type": "error",
     "traceback": [
      "\u001b[1;31m---------------------------------------------------------------------------\u001b[0m",
      "\u001b[1;31mNameError\u001b[0m                                 Traceback (most recent call last)",
      "Input \u001b[1;32mIn [8]\u001b[0m, in \u001b[0;36m<cell line: 1>\u001b[1;34m()\u001b[0m\n\u001b[1;32m----> 1\u001b[0m \u001b[43madd\u001b[49m()\n",
      "\u001b[1;31mNameError\u001b[0m: name 'add' is not defined"
     ]
    }
   ],
   "source": [
    "add()"
   ]
  },
  {
   "cell_type": "code",
   "execution_count": 9,
   "id": "1f13e10b",
   "metadata": {},
   "outputs": [
    {
     "ename": "NameError",
     "evalue": "name 'sub' is not defined",
     "output_type": "error",
     "traceback": [
      "\u001b[1;31m---------------------------------------------------------------------------\u001b[0m",
      "\u001b[1;31mNameError\u001b[0m                                 Traceback (most recent call last)",
      "Input \u001b[1;32mIn [9]\u001b[0m, in \u001b[0;36m<cell line: 1>\u001b[1;34m()\u001b[0m\n\u001b[1;32m----> 1\u001b[0m \u001b[43msub\u001b[49m()\n",
      "\u001b[1;31mNameError\u001b[0m: name 'sub' is not defined"
     ]
    }
   ],
   "source": [
    "sub()"
   ]
  },
  {
   "cell_type": "code",
   "execution_count": 10,
   "id": "6ade3d66",
   "metadata": {},
   "outputs": [],
   "source": [
    "def data():\n",
    "    global add\n",
    "    global sub\n",
    "    def add():\n",
    "        a=10\n",
    "        b=5\n",
    "        print(\"Add Is :\",a+b)\n",
    "    def sub():\n",
    "        a = 20\n",
    "        b = 5\n",
    "        print(\"\\nSub Is :\",a-b)\n",
    "        \n",
    "    add()\n",
    "    sub()"
   ]
  },
  {
   "cell_type": "code",
   "execution_count": 11,
   "id": "e127bfff",
   "metadata": {},
   "outputs": [
    {
     "name": "stdout",
     "output_type": "stream",
     "text": [
      "Add Is : 15\n",
      "\n",
      "Sub Is : 15\n"
     ]
    }
   ],
   "source": [
    "data()"
   ]
  },
  {
   "cell_type": "code",
   "execution_count": 12,
   "id": "842aa0be",
   "metadata": {},
   "outputs": [
    {
     "name": "stdout",
     "output_type": "stream",
     "text": [
      "Add Is : 15\n"
     ]
    }
   ],
   "source": [
    "add()"
   ]
  },
  {
   "cell_type": "code",
   "execution_count": 13,
   "id": "5238a9b1",
   "metadata": {},
   "outputs": [
    {
     "name": "stdout",
     "output_type": "stream",
     "text": [
      "\n",
      "Sub Is : 15\n"
     ]
    }
   ],
   "source": [
    "sub()"
   ]
  },
  {
   "cell_type": "code",
   "execution_count": 15,
   "id": "31b8dd6e",
   "metadata": {},
   "outputs": [],
   "source": [
    "def f1():\n",
    "    a = \"Mike\"\n",
    "    print(\"My Name Is :\",a)\n",
    "    global f2\n",
    "    def f2():\n",
    "        a = input(\"\\nEnter The Name :\")\n",
    "        print(\"\\nEmp Name Is :\",a+\" Penn\")\n",
    "        def f5():\n",
    "            return \"  Hello Luke\"\n",
    "        global ab\n",
    "        ab = f5()\n",
    "        print(ab)\n",
    "        \n",
    "    return f2()  "
   ]
  },
  {
   "cell_type": "code",
   "execution_count": 16,
   "id": "cd9be625",
   "metadata": {},
   "outputs": [
    {
     "name": "stdout",
     "output_type": "stream",
     "text": [
      "My Name Is : Mike\n",
      "\n",
      "Enter The Name :Sean\n",
      "\n",
      "Emp Name Is : Sean Penn\n",
      "  Hello Luke\n"
     ]
    }
   ],
   "source": [
    "f1()"
   ]
  },
  {
   "cell_type": "code",
   "execution_count": 17,
   "id": "d099d944",
   "metadata": {},
   "outputs": [
    {
     "name": "stdout",
     "output_type": "stream",
     "text": [
      "\n",
      "Enter The Name :Jenny\n",
      "\n",
      "Emp Name Is : Jenny Penn\n",
      "  Hello Luke\n"
     ]
    }
   ],
   "source": [
    "f2()"
   ]
  },
  {
   "cell_type": "code",
   "execution_count": null,
   "id": "6c82be67",
   "metadata": {},
   "outputs": [],
   "source": []
  }
 ],
 "metadata": {
  "kernelspec": {
   "display_name": "Python 3 (ipykernel)",
   "language": "python",
   "name": "python3"
  },
  "language_info": {
   "codemirror_mode": {
    "name": "ipython",
    "version": 3
   },
   "file_extension": ".py",
   "mimetype": "text/x-python",
   "name": "python",
   "nbconvert_exporter": "python",
   "pygments_lexer": "ipython3",
   "version": "3.9.12"
  }
 },
 "nbformat": 4,
 "nbformat_minor": 5
}

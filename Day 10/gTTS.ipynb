{
 "cells": [
  {
   "cell_type": "code",
   "execution_count": 1,
   "id": "03606a12",
   "metadata": {},
   "outputs": [],
   "source": [
    "## gtts : google text to speech"
   ]
  },
  {
   "cell_type": "code",
   "execution_count": 2,
   "id": "43ac7823",
   "metadata": {},
   "outputs": [
    {
     "data": {
      "text/plain": [
       "''"
      ]
     },
     "execution_count": 2,
     "metadata": {},
     "output_type": "execute_result"
    }
   ],
   "source": [
    "'''\n",
    "  ## gTTS :\n",
    "  \n",
    "      ==> It Is Package.\n",
    "  \n",
    "      ==> It Is Used To Convert Text To Speech/Audio.\n",
    "      \n",
    "      ==> It Is Known As Google Text To Speech.\n",
    "      \n",
    "      ==> Takes Input As Text And Convert/Save Into Audio File.\n",
    "      \n",
    "      ==> It Supports Several language.\n",
    "      \n",
    "      ==> It Supports Audio Speed :\n",
    "       \n",
    "             ==> Fast\n",
    "             \n",
    "             ==> Slow\n",
    "'''\n",
    "\"\""
   ]
  },
  {
   "cell_type": "markdown",
   "id": "65dba088",
   "metadata": {},
   "source": [
    "       How To Use It"
   ]
  },
  {
   "cell_type": "code",
   "execution_count": 3,
   "id": "b5cefdde",
   "metadata": {},
   "outputs": [],
   "source": [
    "## Package --> Install\n",
    "## Use : pip"
   ]
  },
  {
   "cell_type": "code",
   "execution_count": 4,
   "id": "30244218",
   "metadata": {},
   "outputs": [
    {
     "name": "stdout",
     "output_type": "stream",
     "text": [
      "Requirement already satisfied: gTTS in c:\\users\\dell\\anaconda3\\lib\\site-packages (2.2.4)\n",
      "Requirement already satisfied: six in c:\\users\\dell\\anaconda3\\lib\\site-packages (from gTTS) (1.16.0)\n",
      "Requirement already satisfied: click in c:\\users\\dell\\appdata\\roaming\\python\\python39\\site-packages (from gTTS) (7.1.2)\n",
      "Requirement already satisfied: requests in c:\\users\\dell\\appdata\\roaming\\python\\python39\\site-packages (from gTTS) (2.25.1)\n",
      "Requirement already satisfied: chardet<5,>=3.0.2 in c:\\users\\dell\\anaconda3\\lib\\site-packages (from requests->gTTS) (4.0.0)\n",
      "Requirement already satisfied: idna<3,>=2.5 in c:\\users\\dell\\appdata\\roaming\\python\\python39\\site-packages (from requests->gTTS) (2.10)\n",
      "Requirement already satisfied: urllib3<1.27,>=1.21.1 in c:\\users\\dell\\anaconda3\\lib\\site-packages (from requests->gTTS) (1.26.9)\n",
      "Requirement already satisfied: certifi>=2017.4.17 in c:\\users\\dell\\anaconda3\\lib\\site-packages (from requests->gTTS) (2023.5.7)\n",
      "Note: you may need to restart the kernel to use updated packages.\n"
     ]
    },
    {
     "name": "stderr",
     "output_type": "stream",
     "text": [
      "WARNING: Ignoring invalid distribution -atplotlib (c:\\users\\dell\\anaconda3\\lib\\site-packages)\n",
      "WARNING: Ignoring invalid distribution -illow (c:\\users\\dell\\anaconda3\\lib\\site-packages)\n",
      "WARNING: Ignoring invalid distribution -atplotlib (c:\\users\\dell\\anaconda3\\lib\\site-packages)\n",
      "WARNING: Ignoring invalid distribution -illow (c:\\users\\dell\\anaconda3\\lib\\site-packages)\n",
      "\n",
      "[notice] A new release of pip is available: 23.1.2 -> 23.2.1\n",
      "[notice] To update, run: C:\\Users\\DELL\\anaconda3\\python.exe -m pip install --upgrade pip\n"
     ]
    }
   ],
   "source": [
    "pip install gTTS"
   ]
  },
  {
   "cell_type": "code",
   "execution_count": 5,
   "id": "77e571a1",
   "metadata": {},
   "outputs": [
    {
     "data": {
      "text/plain": [
       "''"
      ]
     },
     "execution_count": 5,
     "metadata": {},
     "output_type": "execute_result"
    }
   ],
   "source": [
    "'''\n",
    " ## Syntax :\n",
    " \n",
    "               gTTS(Text,Lang,slow=False)\n",
    "               \n",
    "               ## Parameter Are :\n",
    "               \n",
    "                 => Text : Any Text (String) Data\n",
    "                 \n",
    "                 => Lang : Select Language As A Prefix\n",
    "'''\n",
    "\"\""
   ]
  },
  {
   "cell_type": "code",
   "execution_count": 8,
   "id": "dfa08869",
   "metadata": {},
   "outputs": [],
   "source": [
    "## Step 1 : import gTTS From gtts Module\n",
    "## Syntax : from gtts import gTTS"
   ]
  },
  {
   "cell_type": "code",
   "execution_count": 6,
   "id": "e427c7a5",
   "metadata": {},
   "outputs": [],
   "source": [
    "from gtts import gTTS"
   ]
  },
  {
   "cell_type": "code",
   "execution_count": 7,
   "id": "c2bbe411",
   "metadata": {},
   "outputs": [
    {
     "name": "stdout",
     "output_type": "stream",
     "text": [
      "Saved SuccessFully..\n"
     ]
    }
   ],
   "source": [
    "## Create An Obj For Text\n",
    "text_data = \"I Am Learning Python.\"\n",
    "## Create An Obj For Language\n",
    "lang = \"en\"\n",
    "## Call The Method And Pass The Obj\n",
    "audio = gTTS(text=text_data,lang=lang)\n",
    "## Save This Object As Any File Name\n",
    "audio.save(\"msg.mp3\")\n",
    "print(\"Saved SuccessFully..\")"
   ]
  },
  {
   "cell_type": "markdown",
   "id": "4f248458",
   "metadata": {},
   "source": [
    "## Take Input Function"
   ]
  },
  {
   "cell_type": "code",
   "execution_count": 8,
   "id": "fe01f58c",
   "metadata": {},
   "outputs": [
    {
     "name": "stdout",
     "output_type": "stream",
     "text": [
      "Enter Text :Hello This Is gTTS Module.\n",
      "\n",
      "Enter Language :en\n",
      "\n",
      "Saved SuccessFully..\n"
     ]
    }
   ],
   "source": [
    "## Create An Obj For Text\n",
    "text_data = input(\"Enter Text :\")\n",
    "## Create An Obj For Language\n",
    "lang = input(\"\\nEnter Language :\")\n",
    "## Call The Method And Pass The Obj\n",
    "audio = gTTS(text=text_data,lang=lang)\n",
    "## Save This Object As Any File Name\n",
    "audio.save(\"msg.mp3\")\n",
    "print(\"\\nSaved SuccessFully..\")"
   ]
  },
  {
   "cell_type": "markdown",
   "id": "33c06824",
   "metadata": {},
   "source": [
    "## Create A Function"
   ]
  },
  {
   "cell_type": "code",
   "execution_count": 10,
   "id": "e6860547",
   "metadata": {},
   "outputs": [],
   "source": [
    "def audio_file():\n",
    "    ## Create An Obj For Text\n",
    "    text_data = input(\"Enter Text :\")\n",
    "    ## Create An Obj For Language\n",
    "    lang = input(\"\\nEnter Language :\")\n",
    "    ## Call The Method And Pass The Obj\n",
    "    audio = gTTS(text=text_data,lang=lang)\n",
    "    ## Save This Object As Any File Name\n",
    "    audio.save(\"msg.mp3\")\n",
    "    print(\"\\nSaved SuccessFully..\")"
   ]
  },
  {
   "cell_type": "code",
   "execution_count": 12,
   "id": "522a3413",
   "metadata": {},
   "outputs": [
    {
     "name": "stdout",
     "output_type": "stream",
     "text": [
      "Enter Text :सभी को नमस्कार। अब हम पायथन सीख रहे हैं।\n",
      "\n",
      "Enter Language :hi\n",
      "\n",
      "Saved SuccessFully..\n"
     ]
    }
   ],
   "source": [
    "audio_file()"
   ]
  },
  {
   "cell_type": "markdown",
   "id": "4a7c0877",
   "metadata": {},
   "source": [
    "## Save And Play File Here.."
   ]
  },
  {
   "cell_type": "code",
   "execution_count": 17,
   "id": "c2336221",
   "metadata": {},
   "outputs": [],
   "source": [
    "## Import ==> OS"
   ]
  },
  {
   "cell_type": "code",
   "execution_count": 18,
   "id": "226174e0",
   "metadata": {},
   "outputs": [],
   "source": [
    "## Step 1 : import os\n",
    "## Syntax :  os.system(file_name)"
   ]
  },
  {
   "cell_type": "code",
   "execution_count": 13,
   "id": "13439cc8",
   "metadata": {},
   "outputs": [],
   "source": [
    "import os"
   ]
  },
  {
   "cell_type": "code",
   "execution_count": 16,
   "id": "f2d0d78e",
   "metadata": {},
   "outputs": [],
   "source": [
    "def audio_file():\n",
    "    ## Create An Obj For Text Data\n",
    "    text = input(\"Enter Text :\")\n",
    "    ## Create An Obj For Lang\n",
    "    lang = input(\"\\nEnter Language :\")\n",
    "    ## Create An Obj For Audio File\n",
    "    audio = gTTS(text=text,lang=lang)\n",
    "    ## Save The File \n",
    "    audio.save(\"msg.mp3\")\n",
    "    print(\"\\nSuccessFully Saved..\")\n",
    "    ## Play The File Here\n",
    "    os.system(\"msg.mp3\")"
   ]
  },
  {
   "cell_type": "code",
   "execution_count": 17,
   "id": "bbfcf0f5",
   "metadata": {},
   "outputs": [
    {
     "name": "stdout",
     "output_type": "stream",
     "text": [
      "Enter Text :मैं इतिहास सीख रहा हूँ\n",
      "\n",
      "Enter Language :ru\n",
      "\n",
      "SuccessFully Saved..\n"
     ]
    }
   ],
   "source": [
    "audio_file()"
   ]
  },
  {
   "cell_type": "code",
   "execution_count": 24,
   "id": "d88dad09",
   "metadata": {},
   "outputs": [],
   "source": [
    "def audio_file():\n",
    "    ## Create An Obj For Text Data\n",
    "    text = input(\"Enter Text :\")\n",
    "    ## Create An Obj For Lang\n",
    "    lang = input(\"\\nEnter Language :\")\n",
    "    ## Create An Obj For Audio File\n",
    "    audio = gTTS(text=text,lang=lang)\n",
    "    ## Save The File \n",
    "    audio.save(\"msg.mp3\")\n",
    "    print(\"\\nSuccessFully Saved..\")\n",
    "    ## Play The File Here\n",
    "    os.system(\"msg.mp3\")"
   ]
  },
  {
   "cell_type": "markdown",
   "id": "8405be3b",
   "metadata": {},
   "source": [
    "audio_file()"
   ]
  },
  {
   "cell_type": "code",
   "execution_count": 27,
   "id": "0c0aaba9",
   "metadata": {},
   "outputs": [
    {
     "name": "stdout",
     "output_type": "stream",
     "text": [
      "Enter Text :मैं इतिहास सीख रहा हूँ\n",
      "\n",
      "Enter Language :ru\n",
      "\n",
      "SuccessFully Saved..\n"
     ]
    }
   ],
   "source": [
    "audio_file()"
   ]
  },
  {
   "cell_type": "markdown",
   "id": "59771ec5",
   "metadata": {},
   "source": [
    "## Take Text Data And Language From Input Function"
   ]
  },
  {
   "cell_type": "code",
   "execution_count": 28,
   "id": "a2beeb5b",
   "metadata": {},
   "outputs": [
    {
     "name": "stdout",
     "output_type": "stream",
     "text": [
      "Enter The Msg :The tiger (Panthera tigris) is the largest living cat species and a member of the genus Panthera. It is most recognisable for its dark vertical stripes on orange fur with a white underside. An apex predator, it primarily preys on ungulates, such as deer and wild boar. It is territorial and generally a solitary but social predator, requiring large contiguous areas of habitat to support its requirements for prey and rearing of its offspring.\n",
      "\n",
      "Enter The Lang :hi\n"
     ]
    },
    {
     "data": {
      "text/plain": [
       "0"
      ]
     },
     "execution_count": 28,
     "metadata": {},
     "output_type": "execute_result"
    }
   ],
   "source": [
    "## Take Data\n",
    "\n",
    "msg = input(\"Enter The Msg :\")\n",
    "\n",
    "## Select The Language\n",
    "\n",
    "language = input(\"\\nEnter The Lang :\")\n",
    "\n",
    "## Create An Object\n",
    "\n",
    "audio = gTTS(text=msg,lang=language,slow=False)\n",
    "\n",
    "## Save The File\n",
    "\n",
    "audio.save(\"msg.mp3\")\n",
    "\n",
    "## Play The File Here\n",
    "\n",
    "os.system(\"msg.mp3\")"
   ]
  },
  {
   "cell_type": "markdown",
   "id": "890e7399",
   "metadata": {},
   "source": [
    "## Language "
   ]
  },
  {
   "cell_type": "code",
   "execution_count": 29,
   "id": "0f1c6d63",
   "metadata": {},
   "outputs": [
    {
     "name": "stdout",
     "output_type": "stream",
     "text": [
      "Enter The Msg :I Am Going To Delhi.\n",
      "\n",
      "Enter The Lang :fr\n"
     ]
    },
    {
     "data": {
      "text/plain": [
       "0"
      ]
     },
     "execution_count": 29,
     "metadata": {},
     "output_type": "execute_result"
    }
   ],
   "source": [
    "## Take Data\n",
    "\n",
    "msg = input(\"Enter The Msg :\")\n",
    "\n",
    "## Select The Language\n",
    "\n",
    "language = input(\"\\nEnter The Lang :\")\n",
    "\n",
    "## Create An Object\n",
    "\n",
    "audio = gTTS(text=msg,lang=language,slow=False)\n",
    "\n",
    "## Save The File\n",
    "\n",
    "audio.save(\"msg.mp3\")\n",
    "\n",
    "## Play The File Here\n",
    "\n",
    "os.system(\"msg.mp3\")"
   ]
  },
  {
   "cell_type": "code",
   "execution_count": 30,
   "id": "a93dcad3",
   "metadata": {},
   "outputs": [
    {
     "name": "stdout",
     "output_type": "stream",
     "text": [
      "Enter The Msg :J'apprends l'histoire\n",
      "\n",
      "Enter The Lang :fr\n"
     ]
    },
    {
     "data": {
      "text/plain": [
       "0"
      ]
     },
     "execution_count": 30,
     "metadata": {},
     "output_type": "execute_result"
    }
   ],
   "source": [
    "## Take Data\n",
    "\n",
    "msg = input(\"Enter The Msg :\")\n",
    "\n",
    "## Select The Language\n",
    "\n",
    "language = input(\"\\nEnter The Lang :\")\n",
    "\n",
    "## Create An Object\n",
    "\n",
    "audio = gTTS(text=msg,lang=language,slow=False)\n",
    "\n",
    "## Save The File\n",
    "\n",
    "audio.save(\"msg.mp3\")\n",
    "\n",
    "## Play The File Here\n",
    "\n",
    "os.system(\"msg.mp3\")"
   ]
  },
  {
   "cell_type": "code",
   "execution_count": null,
   "id": "1bf8f664",
   "metadata": {},
   "outputs": [],
   "source": []
  }
 ],
 "metadata": {
  "kernelspec": {
   "display_name": "Python 3 (ipykernel)",
   "language": "python",
   "name": "python3"
  },
  "language_info": {
   "codemirror_mode": {
    "name": "ipython",
    "version": 3
   },
   "file_extension": ".py",
   "mimetype": "text/x-python",
   "name": "python",
   "nbconvert_exporter": "python",
   "pygments_lexer": "ipython3",
   "version": "3.9.12"
  }
 },
 "nbformat": 4,
 "nbformat_minor": 5
}

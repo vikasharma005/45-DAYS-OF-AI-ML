{
 "cells": [
  {
   "cell_type": "code",
   "execution_count": 1,
   "id": "6ca07b1b",
   "metadata": {},
   "outputs": [
    {
     "data": {
      "text/plain": [
       "''"
      ]
     },
     "execution_count": 1,
     "metadata": {},
     "output_type": "execute_result"
    }
   ],
   "source": [
    "'''\n",
    "  ## lambda function :\n",
    "  \n",
    "      ==> It Is A Function.\n",
    "      \n",
    "      ==> It Is Used To Create A Function Without A Name.\n",
    "      \n",
    "      ==> It Is Known As Anonymous Function.\n",
    "      \n",
    "      ==> It Can Takes Multiple Arguments With Single Expression.\n",
    "'''\n",
    "\"\""
   ]
  },
  {
   "cell_type": "code",
   "execution_count": 2,
   "id": "4829a924",
   "metadata": {},
   "outputs": [
    {
     "data": {
      "text/plain": [
       "''"
      ]
     },
     "execution_count": 2,
     "metadata": {},
     "output_type": "execute_result"
    }
   ],
   "source": [
    "'''\n",
    "             def                 Vs         lambda\n",
    "             \n",
    "             \n",
    "             \n",
    "         ==> def func_name       |      ==>  lambda \n",
    "         \n",
    "         ==> Need :              |      ==>  Need :\n",
    "         \n",
    "             --> Function_Name   |                 --> Not \n",
    "'''\n",
    "\"\""
   ]
  },
  {
   "cell_type": "markdown",
   "id": "d6b5dd80",
   "metadata": {},
   "source": [
    "#### Syntax : lambda arguments : expression"
   ]
  },
  {
   "cell_type": "markdown",
   "id": "9ee48741",
   "metadata": {},
   "source": [
    "## Note :\n",
    "             Assign --> Multiple Argument But Single Expression"
   ]
  },
  {
   "cell_type": "code",
   "execution_count": 3,
   "id": "79947eb5",
   "metadata": {},
   "outputs": [
    {
     "data": {
      "text/plain": [
       "<function __main__.<lambda>(a, b)>"
      ]
     },
     "execution_count": 3,
     "metadata": {},
     "output_type": "execute_result"
    }
   ],
   "source": [
    "lambda a,b : a+b"
   ]
  },
  {
   "cell_type": "markdown",
   "id": "d8ac1ad4",
   "metadata": {},
   "source": [
    "## Create An Object"
   ]
  },
  {
   "cell_type": "code",
   "execution_count": 5,
   "id": "df548ea0",
   "metadata": {},
   "outputs": [],
   "source": [
    "add = lambda a,b : a+b"
   ]
  },
  {
   "cell_type": "code",
   "execution_count": 7,
   "id": "d3ba69b0",
   "metadata": {},
   "outputs": [
    {
     "data": {
      "text/plain": [
       "145"
      ]
     },
     "execution_count": 7,
     "metadata": {},
     "output_type": "execute_result"
    }
   ],
   "source": [
    "(lambda a,b : a+b) (20,125)"
   ]
  },
  {
   "cell_type": "code",
   "execution_count": 6,
   "id": "e6f94f12",
   "metadata": {},
   "outputs": [
    {
     "name": "stdout",
     "output_type": "stream",
     "text": [
      "Addition Is : 15\n"
     ]
    }
   ],
   "source": [
    "print(\"Addition Is :\",add(10,5))"
   ]
  },
  {
   "cell_type": "code",
   "execution_count": 9,
   "id": "afc9ce1d",
   "metadata": {},
   "outputs": [
    {
     "name": "stdout",
     "output_type": "stream",
     "text": [
      "Add Is : 100\n"
     ]
    }
   ],
   "source": [
    "print(\"Add Is :\",(lambda a,b : a+b) (25,75))"
   ]
  },
  {
   "cell_type": "code",
   "execution_count": 11,
   "id": "38ba1961",
   "metadata": {},
   "outputs": [
    {
     "ename": "TypeError",
     "evalue": "<lambda>() takes 2 positional arguments but 4 were given",
     "output_type": "error",
     "traceback": [
      "\u001b[1;31m---------------------------------------------------------------------------\u001b[0m",
      "\u001b[1;31mTypeError\u001b[0m                                 Traceback (most recent call last)",
      "Input \u001b[1;32mIn [11]\u001b[0m, in \u001b[0;36m<cell line: 1>\u001b[1;34m()\u001b[0m\n\u001b[1;32m----> 1\u001b[0m \u001b[38;5;28mprint\u001b[39m(\u001b[38;5;124m\"\u001b[39m\u001b[38;5;124mAdd Is :\u001b[39m\u001b[38;5;124m\"\u001b[39m,\u001b[43m(\u001b[49m\u001b[38;5;28;43;01mlambda\u001b[39;49;00m\u001b[43m \u001b[49m\u001b[43ma\u001b[49m\u001b[43m,\u001b[49m\u001b[43mb\u001b[49m\u001b[43m \u001b[49m\u001b[43m:\u001b[49m\u001b[43m \u001b[49m\u001b[43ma\u001b[49m\u001b[38;5;241;43m+\u001b[39;49m\u001b[43mb\u001b[49m\u001b[43m)\u001b[49m\u001b[43m \u001b[49m\u001b[43m(\u001b[49m\u001b[38;5;241;43m25\u001b[39;49m\u001b[43m,\u001b[49m\u001b[38;5;241;43m75\u001b[39;49m\u001b[43m,\u001b[49m\u001b[38;5;241;43m100\u001b[39;49m\u001b[43m,\u001b[49m\u001b[38;5;241;43m56\u001b[39;49m\u001b[43m)\u001b[49m)\n",
      "\u001b[1;31mTypeError\u001b[0m: <lambda>() takes 2 positional arguments but 4 were given"
     ]
    }
   ],
   "source": [
    "print(\"Add Is :\",(lambda a,b : a+b) (25,75,100,56))"
   ]
  },
  {
   "cell_type": "code",
   "execution_count": 12,
   "id": "27ea395b",
   "metadata": {},
   "outputs": [
    {
     "data": {
      "text/plain": [
       "function"
      ]
     },
     "execution_count": 12,
     "metadata": {},
     "output_type": "execute_result"
    }
   ],
   "source": [
    "type(add)"
   ]
  },
  {
   "cell_type": "code",
   "execution_count": 13,
   "id": "2730e0cd",
   "metadata": {},
   "outputs": [
    {
     "data": {
      "text/plain": [
       "int"
      ]
     },
     "execution_count": 13,
     "metadata": {},
     "output_type": "execute_result"
    }
   ],
   "source": [
    "type(add(10,5))"
   ]
  },
  {
   "cell_type": "markdown",
   "id": "4ebcb79e",
   "metadata": {},
   "source": [
    "         -----------------------------------------------------------------"
   ]
  },
  {
   "cell_type": "code",
   "execution_count": 10,
   "id": "07dd4b27",
   "metadata": {},
   "outputs": [
    {
     "data": {
      "text/plain": [
       "<function __main__.<lambda>(a, b)>"
      ]
     },
     "execution_count": 10,
     "metadata": {},
     "output_type": "execute_result"
    }
   ],
   "source": [
    "(lambda a,b:a-b)"
   ]
  },
  {
   "cell_type": "code",
   "execution_count": 11,
   "id": "fbc0cd90",
   "metadata": {},
   "outputs": [
    {
     "data": {
      "text/plain": [
       "5"
      ]
     },
     "execution_count": 11,
     "metadata": {},
     "output_type": "execute_result"
    }
   ],
   "source": [
    "(lambda a,b:a-b)(10,5)"
   ]
  },
  {
   "cell_type": "code",
   "execution_count": 12,
   "id": "74076175",
   "metadata": {},
   "outputs": [
    {
     "name": "stdout",
     "output_type": "stream",
     "text": [
      "Sub Is : 5\n"
     ]
    }
   ],
   "source": [
    "print(\"Sub Is :\",(lambda a,b:a-b)(10,5))"
   ]
  },
  {
   "cell_type": "markdown",
   "id": "ae9d1833",
   "metadata": {},
   "source": [
    "## Take String As A Argument"
   ]
  },
  {
   "cell_type": "code",
   "execution_count": 14,
   "id": "84904deb",
   "metadata": {},
   "outputs": [],
   "source": [
    "name = lambda a : a"
   ]
  },
  {
   "cell_type": "code",
   "execution_count": 15,
   "id": "3eedbfc6",
   "metadata": {},
   "outputs": [
    {
     "name": "stdout",
     "output_type": "stream",
     "text": [
      "Stud Is : Mike\n"
     ]
    }
   ],
   "source": [
    "print(\"Stud Is :\",name(\"Mike\"))"
   ]
  },
  {
   "cell_type": "code",
   "execution_count": 20,
   "id": "7425dcd6",
   "metadata": {},
   "outputs": [
    {
     "name": "stdout",
     "output_type": "stream",
     "text": [
      "('Mike', 20)\n"
     ]
    }
   ],
   "source": [
    "data = lambda a,b : (a,b)\n",
    "print(data(\"Mike\",20))"
   ]
  },
  {
   "cell_type": "code",
   "execution_count": 21,
   "id": "fdd50d4b",
   "metadata": {},
   "outputs": [
    {
     "name": "stdout",
     "output_type": "stream",
     "text": [
      "Mike Is 20 Years Old.\n"
     ]
    }
   ],
   "source": [
    "print(data(\"Mike\",20)[0],\"Is\",data(\"Mike\",20)[1],\"Years Old.\")"
   ]
  },
  {
   "cell_type": "code",
   "execution_count": 22,
   "id": "1781570a",
   "metadata": {},
   "outputs": [
    {
     "ename": "TypeError",
     "evalue": "<lambda>() missing 1 required positional argument: 'msg'",
     "output_type": "error",
     "traceback": [
      "\u001b[1;31m---------------------------------------------------------------------------\u001b[0m",
      "\u001b[1;31mTypeError\u001b[0m                                 Traceback (most recent call last)",
      "Input \u001b[1;32mIn [22]\u001b[0m, in \u001b[0;36m<cell line: 3>\u001b[1;34m()\u001b[0m\n\u001b[0;32m      1\u001b[0m msg \u001b[38;5;241m=\u001b[39m \u001b[38;5;124m\"\u001b[39m\u001b[38;5;124mWe Are Learning Python.\u001b[39m\u001b[38;5;124m\"\u001b[39m\n\u001b[0;32m      2\u001b[0m f1 \u001b[38;5;241m=\u001b[39m \u001b[38;5;28;01mlambda\u001b[39;00m msg : msg\n\u001b[1;32m----> 3\u001b[0m \u001b[38;5;28mprint\u001b[39m(\u001b[38;5;124m\"\u001b[39m\u001b[38;5;124mMsg Is :\u001b[39m\u001b[38;5;124m\"\u001b[39m,\u001b[43mf1\u001b[49m\u001b[43m(\u001b[49m\u001b[43m)\u001b[49m)\n",
      "\u001b[1;31mTypeError\u001b[0m: <lambda>() missing 1 required positional argument: 'msg'"
     ]
    }
   ],
   "source": [
    "msg = \"We Are Learning Python.\"\n",
    "f1 = lambda msg : msg\n",
    "print(\"Msg Is :\",f1())"
   ]
  },
  {
   "cell_type": "code",
   "execution_count": 23,
   "id": "85cc2c00",
   "metadata": {},
   "outputs": [
    {
     "name": "stdout",
     "output_type": "stream",
     "text": [
      "Msg Is : We Are Learning Python.\n"
     ]
    }
   ],
   "source": [
    "msg = \"We Are Learning Python.\"\n",
    "f1 = lambda msg : msg\n",
    "print(\"Msg Is :\",f1(msg))"
   ]
  },
  {
   "cell_type": "code",
   "execution_count": 16,
   "id": "95320d23",
   "metadata": {},
   "outputs": [
    {
     "name": "stdout",
     "output_type": "stream",
     "text": [
      "Msg Is : We Are Learning Python.\n"
     ]
    }
   ],
   "source": [
    "msg = \"We Are Learning Python.\"\n",
    "f1 = lambda msg : msg\n",
    "print(\"Msg Is :\",f1(msg))\n",
    "## Pass msg as an argument"
   ]
  },
  {
   "cell_type": "code",
   "execution_count": 24,
   "id": "7c1921eb",
   "metadata": {},
   "outputs": [
    {
     "name": "stdout",
     "output_type": "stream",
     "text": [
      "Msg Is : I Am Going To Delhi.\n"
     ]
    }
   ],
   "source": [
    "msg = \"We Are Learning Python.\"\n",
    "f1 = lambda msg : msg\n",
    "print(\"Msg Is :\",f1(\"I Am Going To Delhi.\"))"
   ]
  },
  {
   "cell_type": "code",
   "execution_count": 26,
   "id": "22a8cd84",
   "metadata": {},
   "outputs": [
    {
     "name": "stdout",
     "output_type": "stream",
     "text": [
      "enter numbers: 10 2 5 -5\n",
      "25\n"
     ]
    }
   ],
   "source": [
    "z = lambda a, b, c, d: a + (b - c) * d\n",
    "y = z(*map(int,input(\"enter numbers: \").split()))\n",
    "print(y)"
   ]
  },
  {
   "cell_type": "code",
   "execution_count": 27,
   "id": "a8f27b3d",
   "metadata": {},
   "outputs": [
    {
     "name": "stdout",
     "output_type": "stream",
     "text": [
      "Enter 1 num:10\n",
      "Enter 2 num:5\n",
      "Add=  15\n",
      "Sub=  5\n",
      "Mul=  50\n",
      "Div=  2.0\n"
     ]
    }
   ],
   "source": [
    "add=lambda a,b :a+b\n",
    "sub=lambda a,b:a-b\n",
    "mul=lambda a,b :a*b\n",
    "div=lambda a,b:a/b\n",
    "\n",
    "a=int(input(\"Enter 1 num:\"))\n",
    "b=int(input(\"Enter 2 num:\"))\n",
    "print(\"Add= \",add(a,b))\n",
    "print(\"Sub= \",sub(a,b))\n",
    "print(\"Mul= \",mul(a,b))\n",
    "print(\"Div= \",div(a,b))"
   ]
  },
  {
   "cell_type": "code",
   "execution_count": 28,
   "id": "9c95e000",
   "metadata": {},
   "outputs": [
    {
     "name": "stdout",
     "output_type": "stream",
     "text": [
      "enter a:25\n",
      "enter b:-5\n",
      "20\n",
      "30\n",
      "-125\n",
      "-5.0\n"
     ]
    }
   ],
   "source": [
    "a=int(input(\"enter a:\"))\n",
    "b=int(input(\"enter b:\"))\n",
    "sum=lambda a,b:a+b\n",
    "sub=lambda a,b:a-b\n",
    "mul=lambda a,b:a*b\n",
    "div=lambda a,b:a/b\n",
    "print(sum(a,b))\n",
    "print(sub(a,b))\n",
    "print(mul(a,b))\n",
    "print(div(a,b))"
   ]
  },
  {
   "cell_type": "code",
   "execution_count": 30,
   "id": "243f28ca",
   "metadata": {},
   "outputs": [
    {
     "name": "stdout",
     "output_type": "stream",
     "text": [
      "1. Addition\n",
      "2. Substraction\n",
      "Enter your choice : 1\n",
      "Enter first number : 120\n",
      "Enter second number : 5\n",
      "Addition is  125\n"
     ]
    }
   ],
   "source": [
    "add = lambda a,b : a + b\n",
    "sub = lambda a,b : a - b\n",
    "print(\"1. Addition\\n2. Substraction\")\n",
    "c = input(\"Enter your choice : \")\n",
    "if c == '1' :\n",
    "    a = int(input(\"Enter first number : \"))\n",
    "    b = int(input(\"Enter second number : \"))\n",
    "    print(\"Addition is \", add(a, b))\n",
    "elif c == '2' :\n",
    "    a = int(input(\"Enter first number : \"))\n",
    "    b = int(input(\"Enter second number : \"))\n",
    "    print(\"Substraction is \", sub(a, b))\n",
    "else :\n",
    "    print(\"Please select the valid option\")"
   ]
  },
  {
   "cell_type": "markdown",
   "id": "6e65bba8",
   "metadata": {},
   "source": [
    "## Take Input As A Argument"
   ]
  },
  {
   "cell_type": "code",
   "execution_count": 31,
   "id": "475c0f32",
   "metadata": {},
   "outputs": [
    {
     "name": "stdout",
     "output_type": "stream",
     "text": [
      "Enter The Values :Mike Sean Luke Jack Jenny\n",
      "\n",
      "Emp Data Is : ['Mike', 'Sean', 'Luke', 'Jack', 'Jenny']\n"
     ]
    }
   ],
   "source": [
    "lst = input(\"Enter The Values :\").split()\n",
    "emp = lambda lst : lst\n",
    "print(\"\\nEmp Data Is :\",emp(lst))"
   ]
  },
  {
   "cell_type": "code",
   "execution_count": 32,
   "id": "6da60d58",
   "metadata": {},
   "outputs": [
    {
     "name": "stdout",
     "output_type": "stream",
     "text": [
      "Enter Values :Luke Mike Peter Finn Allen\n",
      "\n",
      "Stud Data Is : ['Luke', 'Mike', 'Peter', 'Finn', 'Allen']\n"
     ]
    }
   ],
   "source": [
    "stud = lambda lst = input(\"Enter Values :\").split() : lst\n",
    "print(\"\\nStud Data Is :\",stud())"
   ]
  },
  {
   "cell_type": "code",
   "execution_count": 34,
   "id": "99a86956",
   "metadata": {},
   "outputs": [],
   "source": [
    "cal = lambda a,b : a+b,a-b,a*b,a/b  ## Multiple Arguments\n",
    "## Single Argument"
   ]
  },
  {
   "cell_type": "code",
   "execution_count": 36,
   "id": "961299a3",
   "metadata": {},
   "outputs": [],
   "source": [
    "cal = lambda a,b : (a+b,a-b,a*b,a/b)"
   ]
  },
  {
   "cell_type": "code",
   "execution_count": 37,
   "id": "f2c76887",
   "metadata": {},
   "outputs": [
    {
     "data": {
      "text/plain": [
       "(15, 5, 50, 2.0)"
      ]
     },
     "execution_count": 37,
     "metadata": {},
     "output_type": "execute_result"
    }
   ],
   "source": [
    "cal(10,5)"
   ]
  },
  {
   "cell_type": "code",
   "execution_count": 38,
   "id": "267ebd0c",
   "metadata": {},
   "outputs": [
    {
     "data": {
      "text/plain": [
       "tuple"
      ]
     },
     "execution_count": 38,
     "metadata": {},
     "output_type": "execute_result"
    }
   ],
   "source": [
    "type(cal(10,5))"
   ]
  },
  {
   "cell_type": "code",
   "execution_count": 39,
   "id": "6d64196a",
   "metadata": {},
   "outputs": [
    {
     "name": "stdout",
     "output_type": "stream",
     "text": [
      "Add Is : 15\n",
      "Sub Is : 5\n"
     ]
    }
   ],
   "source": [
    "print(\"Add Is :\",cal(10,5)[0])\n",
    "print(\"Sub Is :\",cal(10,5)[1])"
   ]
  },
  {
   "cell_type": "code",
   "execution_count": 27,
   "id": "702ca9a8",
   "metadata": {},
   "outputs": [],
   "source": [
    "data = cal(10,5)"
   ]
  },
  {
   "cell_type": "code",
   "execution_count": 28,
   "id": "685e13df",
   "metadata": {},
   "outputs": [
    {
     "data": {
      "text/plain": [
       "(15, 5, 50, 2.0)"
      ]
     },
     "execution_count": 28,
     "metadata": {},
     "output_type": "execute_result"
    }
   ],
   "source": [
    "data"
   ]
  },
  {
   "cell_type": "markdown",
   "id": "e9f79822",
   "metadata": {},
   "source": [
    "## Index "
   ]
  },
  {
   "cell_type": "code",
   "execution_count": 29,
   "id": "2f60ceaf",
   "metadata": {},
   "outputs": [
    {
     "name": "stdout",
     "output_type": "stream",
     "text": [
      "Add Is : 15\n",
      "Sub Is : 5\n"
     ]
    }
   ],
   "source": [
    "print(\"Add Is :\",data[0])\n",
    "print(\"Sub Is :\",data[1])"
   ]
  },
  {
   "cell_type": "code",
   "execution_count": 40,
   "id": "82ea45e7",
   "metadata": {},
   "outputs": [
    {
     "ename": "SyntaxError",
     "evalue": "non-default argument follows default argument (860107943.py, line 1)",
     "output_type": "error",
     "traceback": [
      "\u001b[1;36m  Input \u001b[1;32mIn [40]\u001b[1;36m\u001b[0m\n\u001b[1;33m    data = lambda a=\"Mike\",b : (a,b)\u001b[0m\n\u001b[1;37m                             ^\u001b[0m\n\u001b[1;31mSyntaxError\u001b[0m\u001b[1;31m:\u001b[0m non-default argument follows default argument\n"
     ]
    }
   ],
   "source": [
    "data = lambda a=\"Mike\",b : (a,b)\n",
    "print(data(20)[0],\"Is\",data(20)[1],\"Years Old..\")"
   ]
  },
  {
   "cell_type": "code",
   "execution_count": 42,
   "id": "0a0f852d",
   "metadata": {},
   "outputs": [
    {
     "name": "stdout",
     "output_type": "stream",
     "text": [
      "Mike Is 20 Years Old..\n"
     ]
    }
   ],
   "source": [
    "data = lambda b,a=\"Mike\" : (a,b)\n",
    "print(data(20)[0],\"Is\",data(20)[1],\"Years Old..\")"
   ]
  },
  {
   "cell_type": "code",
   "execution_count": 44,
   "id": "dfc22500",
   "metadata": {},
   "outputs": [
    {
     "name": "stdout",
     "output_type": "stream",
     "text": [
      "Value Is : Mike\n",
      "Value Is : 20\n"
     ]
    }
   ],
   "source": [
    "for k in data(20):\n",
    "    print(\"Value Is :\",k)"
   ]
  },
  {
   "cell_type": "markdown",
   "id": "25dbdacb",
   "metadata": {},
   "source": [
    "## Using For Loop"
   ]
  },
  {
   "cell_type": "code",
   "execution_count": 30,
   "id": "2f434d8f",
   "metadata": {},
   "outputs": [
    {
     "name": "stdout",
     "output_type": "stream",
     "text": [
      "15\n",
      "5\n",
      "50\n",
      "2.0\n"
     ]
    }
   ],
   "source": [
    "for k in data:\n",
    "    print(k)"
   ]
  },
  {
   "cell_type": "code",
   "execution_count": 31,
   "id": "58190fbb",
   "metadata": {},
   "outputs": [
    {
     "name": "stdout",
     "output_type": "stream",
     "text": [
      "\n",
      "Enter Name :Add\n",
      "\n",
      "Add Is : 15\n",
      "\n",
      "Enter Name :Sub\n",
      "\n",
      "Sub Is : 5\n",
      "\n",
      "Enter Name :Mul\n",
      "\n",
      "Mul Is : 50\n",
      "\n",
      "Enter Name :Div\n",
      "\n",
      "Div Is : 2.0\n"
     ]
    }
   ],
   "source": [
    "for k in data:\n",
    "    name = input(\"\\nEnter Name :\")\n",
    "    print()\n",
    "    print(name,\"Is :\",k)"
   ]
  },
  {
   "cell_type": "code",
   "execution_count": 34,
   "id": "7fe39a57",
   "metadata": {},
   "outputs": [
    {
     "name": "stdout",
     "output_type": "stream",
     "text": [
      "\n",
      "Enter Name :Add\n",
      "\n",
      "0  ->  Add Is : 15\n",
      "\n",
      "Enter Name :Sub\n",
      "\n",
      "1  ->  Sub Is : 5\n",
      "\n",
      "Enter Name :Mul\n",
      "\n",
      "2  ->  Mul Is : 50\n",
      "\n",
      "Enter Name :Div\n",
      "\n",
      "3  ->  Div Is : 2.0\n"
     ]
    }
   ],
   "source": [
    "index = 0\n",
    "for k in data:\n",
    "    name = input(\"\\nEnter Name :\")\n",
    "    print()\n",
    "    print(index,\" -> \",name,\"Is :\",k)\n",
    "    index+=1"
   ]
  },
  {
   "cell_type": "code",
   "execution_count": 35,
   "id": "78a2868f",
   "metadata": {},
   "outputs": [],
   "source": [
    "from colorama import *"
   ]
  },
  {
   "cell_type": "code",
   "execution_count": 38,
   "id": "c9eedad8",
   "metadata": {
    "scrolled": true
   },
   "outputs": [
    {
     "name": "stdout",
     "output_type": "stream",
     "text": [
      "\n",
      "Enter Name :Add\n",
      "\n",
      "\u001b[32m0 -> Add Is :15\u001b[0m\n",
      "\n",
      "Enter Name :Sub\n",
      "\n",
      "\u001b[32m1 -> Sub Is :5\u001b[0m\n",
      "\n",
      "Enter Name :Mul\n",
      "\n",
      "\u001b[32m2 -> Mul Is :50\u001b[0m\n",
      "\n",
      "Enter Name :Div\n",
      "\n",
      "\u001b[32m3 -> Div Is :2.0\u001b[0m\n"
     ]
    }
   ],
   "source": [
    "index = 0\n",
    "for k in data:\n",
    "    name = input(\"\\nEnter Name :\")\n",
    "    print()\n",
    "    print(Fore.GREEN+str(index)+\" -> \"+name+\" Is :\"+str(k)+Style.RESET_ALL)\n",
    "    index+=1"
   ]
  },
  {
   "cell_type": "markdown",
   "id": "5fe78a36",
   "metadata": {},
   "source": [
    "## Nested Lambda Function"
   ]
  },
  {
   "cell_type": "code",
   "execution_count": 45,
   "id": "ad066355",
   "metadata": {},
   "outputs": [],
   "source": [
    "add = lambda a,b : lambda c,d : a+b+c+d"
   ]
  },
  {
   "cell_type": "code",
   "execution_count": 46,
   "id": "4488c8b9",
   "metadata": {},
   "outputs": [
    {
     "data": {
      "text/plain": [
       "<function __main__.<lambda>(a, b)>"
      ]
     },
     "execution_count": 46,
     "metadata": {},
     "output_type": "execute_result"
    }
   ],
   "source": [
    "add"
   ]
  },
  {
   "cell_type": "code",
   "execution_count": 47,
   "id": "987508ac",
   "metadata": {},
   "outputs": [
    {
     "data": {
      "text/plain": [
       "<function __main__.<lambda>.<locals>.<lambda>(c, d)>"
      ]
     },
     "execution_count": 47,
     "metadata": {},
     "output_type": "execute_result"
    }
   ],
   "source": [
    "add(10,5)"
   ]
  },
  {
   "cell_type": "code",
   "execution_count": 48,
   "id": "88232036",
   "metadata": {},
   "outputs": [
    {
     "data": {
      "text/plain": [
       "120"
      ]
     },
     "execution_count": 48,
     "metadata": {},
     "output_type": "execute_result"
    }
   ],
   "source": [
    "add(10,5)(5,100)"
   ]
  },
  {
   "cell_type": "code",
   "execution_count": 49,
   "id": "55cd01df",
   "metadata": {},
   "outputs": [
    {
     "name": "stdout",
     "output_type": "stream",
     "text": [
      "Add Is : 120\n"
     ]
    }
   ],
   "source": [
    "print(\"Add Is :\",add(10,5)(5,100))"
   ]
  },
  {
   "cell_type": "code",
   "execution_count": 50,
   "id": "1beca1ee",
   "metadata": {},
   "outputs": [
    {
     "ename": "SyntaxError",
     "evalue": "invalid syntax (1169298163.py, line 1)",
     "output_type": "error",
     "traceback": [
      "\u001b[1;36m  Input \u001b[1;32mIn [50]\u001b[1;36m\u001b[0m\n\u001b[1;33m    condn = lambda a,b : print(\"True\") if a>b\u001b[0m\n\u001b[1;37m                                             ^\u001b[0m\n\u001b[1;31mSyntaxError\u001b[0m\u001b[1;31m:\u001b[0m invalid syntax\n"
     ]
    }
   ],
   "source": [
    "condn = lambda a,b : print(\"True\") if a>b"
   ]
  },
  {
   "cell_type": "code",
   "execution_count": 51,
   "id": "cc9789c4",
   "metadata": {},
   "outputs": [],
   "source": [
    "condn = lambda a,b : print(\"True\") if a>b else print(\"False\")"
   ]
  },
  {
   "cell_type": "code",
   "execution_count": 52,
   "id": "305dce8e",
   "metadata": {},
   "outputs": [
    {
     "name": "stdout",
     "output_type": "stream",
     "text": [
      "True\n"
     ]
    }
   ],
   "source": [
    "condn(10,5)"
   ]
  },
  {
   "cell_type": "markdown",
   "id": "2bc58e06",
   "metadata": {},
   "source": [
    "## Condition With lambda Function"
   ]
  },
  {
   "cell_type": "code",
   "execution_count": 58,
   "id": "ecf1d682",
   "metadata": {},
   "outputs": [],
   "source": [
    "res = lambda a,b : print(a,\"Is Greater Than\",b) if a>b else print(b,\"Is Greater Than\",a)"
   ]
  },
  {
   "cell_type": "code",
   "execution_count": 59,
   "id": "e383a87d",
   "metadata": {},
   "outputs": [
    {
     "name": "stdout",
     "output_type": "stream",
     "text": [
      "10 Is Greater Than 5\n"
     ]
    }
   ],
   "source": [
    "res(10,5)"
   ]
  },
  {
   "cell_type": "code",
   "execution_count": 60,
   "id": "9f8f18c7",
   "metadata": {},
   "outputs": [
    {
     "data": {
      "text/plain": [
       "function"
      ]
     },
     "execution_count": 60,
     "metadata": {},
     "output_type": "execute_result"
    }
   ],
   "source": [
    "type(res)"
   ]
  },
  {
   "cell_type": "code",
   "execution_count": 62,
   "id": "cb384ea7",
   "metadata": {},
   "outputs": [
    {
     "ename": "SyntaxError",
     "evalue": "invalid syntax (3518222655.py, line 2)",
     "output_type": "error",
     "traceback": [
      "\u001b[1;36m  Input \u001b[1;32mIn [62]\u001b[1;36m\u001b[0m\n\u001b[1;33m    data = lambda c,d : lambda a,b\u001b[0m\n\u001b[1;37m                                  ^\u001b[0m\n\u001b[1;31mSyntaxError\u001b[0m\u001b[1;31m:\u001b[0m invalid syntax\n"
     ]
    }
   ],
   "source": [
    "lambda a,b : a + b\n",
    "data = lambda c,d : lambda a,b\n",
    "print(data(20,10))"
   ]
  },
  {
   "cell_type": "code",
   "execution_count": 66,
   "id": "db521195",
   "metadata": {},
   "outputs": [
    {
     "name": "stdout",
     "output_type": "stream",
     "text": [
      "60\n"
     ]
    }
   ],
   "source": [
    "add = lambda a,b : a + b\n",
    "data = lambda c,d : add(c,d)\n",
    "print(data(50,10))"
   ]
  },
  {
   "cell_type": "code",
   "execution_count": 67,
   "id": "34e31c6e",
   "metadata": {},
   "outputs": [
    {
     "name": "stdout",
     "output_type": "stream",
     "text": [
      "AB\n"
     ]
    }
   ],
   "source": [
    "add = lambda a,b : a + b\n",
    "data = lambda c,d : add(c,d)\n",
    "print(data(\"A\",\"B\"))"
   ]
  },
  {
   "cell_type": "code",
   "execution_count": 71,
   "id": "8bc9e5ca",
   "metadata": {},
   "outputs": [
    {
     "name": "stdout",
     "output_type": "stream",
     "text": [
      "1.0\n"
     ]
    }
   ],
   "source": [
    "add = lambda a,b : a + b\n",
    "data = lambda c,d : add(c,d)/(50+10)\n",
    "print(data(50,10))"
   ]
  },
  {
   "cell_type": "code",
   "execution_count": 72,
   "id": "2cb8e218",
   "metadata": {},
   "outputs": [
    {
     "name": "stdout",
     "output_type": "stream",
     "text": [
      "Add Is : 15\n"
     ]
    }
   ],
   "source": [
    "add = lambda a,b,c,d : a+b\n",
    "print(\"Add Is :\",add(10,5,100,20))"
   ]
  },
  {
   "cell_type": "code",
   "execution_count": 3,
   "id": "1e713b22",
   "metadata": {},
   "outputs": [
    {
     "name": "stdout",
     "output_type": "stream",
     "text": [
      "100 Is Greater Than 5\n"
     ]
    }
   ],
   "source": [
    "res(5,100)"
   ]
  },
  {
   "cell_type": "markdown",
   "id": "c0897732",
   "metadata": {},
   "source": [
    "## Evenodd "
   ]
  },
  {
   "cell_type": "code",
   "execution_count": 73,
   "id": "b671735d",
   "metadata": {},
   "outputs": [],
   "source": [
    "evenodd = lambda num : print(num,\"Is Even Num.\") if num%2==0 else print(num,\"Is Odd Num.\")"
   ]
  },
  {
   "cell_type": "code",
   "execution_count": 74,
   "id": "80b42783",
   "metadata": {},
   "outputs": [
    {
     "name": "stdout",
     "output_type": "stream",
     "text": [
      "100 Is Even Num.\n"
     ]
    }
   ],
   "source": [
    "evenodd(100)"
   ]
  },
  {
   "cell_type": "code",
   "execution_count": 75,
   "id": "17f77919",
   "metadata": {},
   "outputs": [
    {
     "name": "stdout",
     "output_type": "stream",
     "text": [
      "125 Is Odd Num.\n"
     ]
    }
   ],
   "source": [
    "evenodd(125)"
   ]
  },
  {
   "cell_type": "markdown",
   "id": "e5e3c276",
   "metadata": {},
   "source": [
    "## Maximum And Minimum"
   ]
  },
  {
   "cell_type": "code",
   "execution_count": 76,
   "id": "073d0fd7",
   "metadata": {},
   "outputs": [],
   "source": [
    "res = lambda a,b: print(\"Max Value Is :\",a,\"\\nMin Value Is :\",b) if a>b else print(\"Max Value Is :\",b,\"\\nMin Value Is :\",a)"
   ]
  },
  {
   "cell_type": "code",
   "execution_count": 77,
   "id": "8d1f7e37",
   "metadata": {},
   "outputs": [
    {
     "name": "stdout",
     "output_type": "stream",
     "text": [
      "Max Value Is : 10 \n",
      "Min Value Is : 5\n"
     ]
    }
   ],
   "source": [
    "res(10,5)"
   ]
  },
  {
   "cell_type": "code",
   "execution_count": 78,
   "id": "02450b86",
   "metadata": {},
   "outputs": [
    {
     "name": "stdout",
     "output_type": "stream",
     "text": [
      "Max Value Is : 500 \n",
      "Min Value Is : 100\n"
     ]
    }
   ],
   "source": [
    "res(100,500)"
   ]
  },
  {
   "cell_type": "code",
   "execution_count": null,
   "id": "23f919c0",
   "metadata": {},
   "outputs": [],
   "source": []
  }
 ],
 "metadata": {
  "kernelspec": {
   "display_name": "Python 3 (ipykernel)",
   "language": "python",
   "name": "python3"
  },
  "language_info": {
   "codemirror_mode": {
    "name": "ipython",
    "version": 3
   },
   "file_extension": ".py",
   "mimetype": "text/x-python",
   "name": "python",
   "nbconvert_exporter": "python",
   "pygments_lexer": "ipython3",
   "version": "3.9.12"
  }
 },
 "nbformat": 4,
 "nbformat_minor": 5
}

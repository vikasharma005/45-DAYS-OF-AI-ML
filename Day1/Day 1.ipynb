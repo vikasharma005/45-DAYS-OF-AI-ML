{
 "cells": [
  {
   "cell_type": "code",
   "execution_count": 1,
   "id": "8d36296b",
   "metadata": {},
   "outputs": [
    {
     "data": {
      "text/plain": [
       "100"
      ]
     },
     "execution_count": 1,
     "metadata": {},
     "output_type": "execute_result"
    }
   ],
   "source": [
    "100"
   ]
  },
  {
   "cell_type": "code",
   "execution_count": 2,
   "id": "c6ec1161",
   "metadata": {},
   "outputs": [
    {
     "data": {
      "text/plain": [
       "10000"
      ]
     },
     "execution_count": 2,
     "metadata": {},
     "output_type": "execute_result"
    }
   ],
   "source": [
    "1000\n",
    "2000\n",
    "5000\n",
    "6000\n",
    "10000"
   ]
  },
  {
   "cell_type": "code",
   "execution_count": 3,
   "id": "0c082ba5",
   "metadata": {},
   "outputs": [
    {
     "name": "stdout",
     "output_type": "stream",
     "text": [
      "1000\n",
      "2000\n",
      "5000\n",
      "6000\n",
      "10000\n"
     ]
    }
   ],
   "source": [
    "print(1000)\n",
    "print(2000)\n",
    "print(5000)\n",
    "print(6000)\n",
    "print(10000)"
   ]
  },
  {
   "cell_type": "markdown",
   "id": "d816b225",
   "metadata": {},
   "source": [
    "## print function"
   ]
  },
  {
   "cell_type": "markdown",
   "id": "4330b35c",
   "metadata": {},
   "source": [
    "=> It Is Used For Display The Data According To Its Logic."
   ]
  },
  {
   "cell_type": "markdown",
   "id": "09f7e37f",
   "metadata": {},
   "source": [
    "##### Syntax"
   ]
  },
  {
   "cell_type": "markdown",
   "id": "1ec8af2c",
   "metadata": {},
   "source": [
    "        print(data,.....,sep,end)"
   ]
  },
  {
   "cell_type": "code",
   "execution_count": null,
   "id": "7d0e770f",
   "metadata": {},
   "outputs": [],
   "source": [
    "  => Data : Any Kind of Information\n",
    "  => Sep  : By Default Separator Is Space\n",
    "  => end  : \"\\n\"  \n",
    "                  -> New Line\n",
    "                  -> Next Line"
   ]
  },
  {
   "cell_type": "code",
   "execution_count": 4,
   "id": "8ca5eb19",
   "metadata": {},
   "outputs": [
    {
     "name": "stdout",
     "output_type": "stream",
     "text": [
      "100\n"
     ]
    }
   ],
   "source": [
    "print(100)"
   ]
  },
  {
   "cell_type": "code",
   "execution_count": 5,
   "id": "6ab668e6",
   "metadata": {},
   "outputs": [
    {
     "name": "stdout",
     "output_type": "stream",
     "text": [
      "100 200 500 1000\n"
     ]
    }
   ],
   "source": [
    "print(100,200,500,1000)"
   ]
  },
  {
   "cell_type": "code",
   "execution_count": 7,
   "id": "1e207309",
   "metadata": {},
   "outputs": [
    {
     "name": "stdout",
     "output_type": "stream",
     "text": [
      "100+200+500+1000\n"
     ]
    }
   ],
   "source": [
    "print(100,200,500,1000,sep='+')"
   ]
  },
  {
   "cell_type": "code",
   "execution_count": 8,
   "id": "ea36a4df",
   "metadata": {},
   "outputs": [
    {
     "name": "stdout",
     "output_type": "stream",
     "text": [
      "100 + 200 + 500 + 1000\n"
     ]
    }
   ],
   "source": [
    "print(100,200,500,1000,sep=' + ')"
   ]
  },
  {
   "cell_type": "code",
   "execution_count": 9,
   "id": "81f645fa",
   "metadata": {},
   "outputs": [
    {
     "name": "stdout",
     "output_type": "stream",
     "text": [
      "100\n",
      "200\n",
      "500\n",
      "1000\n"
     ]
    }
   ],
   "source": [
    "print(100,200,500,1000,sep='\\n')"
   ]
  },
  {
   "cell_type": "markdown",
   "id": "6dc966f1",
   "metadata": {},
   "source": [
    "## String"
   ]
  },
  {
   "cell_type": "code",
   "execution_count": null,
   "id": "f2c96f6f",
   "metadata": {},
   "outputs": [],
   "source": [
    "=> Text Data(Chars)  : String"
   ]
  },
  {
   "cell_type": "markdown",
   "id": "c7061c38",
   "metadata": {},
   "source": [
    "##### How To Make String"
   ]
  },
  {
   "cell_type": "code",
   "execution_count": null,
   "id": "7770cd02",
   "metadata": {},
   "outputs": [],
   "source": [
    "=> Single Quote : ''\n",
    "    \n",
    "=> Double Qote  : \" \"\n",
    "    \n",
    "=> Tripple Quote : '''  '''"
   ]
  },
  {
   "cell_type": "code",
   "execution_count": null,
   "id": "a1cfda18",
   "metadata": {},
   "outputs": [],
   "source": [
    "Put Any Type of Data Inside of These , They Will Make Into String Data."
   ]
  },
  {
   "cell_type": "code",
   "execution_count": 10,
   "id": "5d14bf79",
   "metadata": {},
   "outputs": [
    {
     "name": "stdout",
     "output_type": "stream",
     "text": [
      "Hello Mike\n"
     ]
    }
   ],
   "source": [
    "print('Hello Mike')"
   ]
  },
  {
   "cell_type": "code",
   "execution_count": 12,
   "id": "be25a3ee",
   "metadata": {},
   "outputs": [
    {
     "name": "stdout",
     "output_type": "stream",
     "text": [
      "Hello Mike\n"
     ]
    }
   ],
   "source": [
    "print(\"Hello Mike\")"
   ]
  },
  {
   "cell_type": "code",
   "execution_count": 13,
   "id": "eca80f19",
   "metadata": {},
   "outputs": [
    {
     "name": "stdout",
     "output_type": "stream",
     "text": [
      "Hello Mike\n"
     ]
    }
   ],
   "source": [
    "print('''Hello Mike''')"
   ]
  },
  {
   "cell_type": "code",
   "execution_count": 14,
   "id": "2995aa6d",
   "metadata": {},
   "outputs": [
    {
     "ename": "SyntaxError",
     "evalue": "EOL while scanning string literal (1534071237.py, line 1)",
     "output_type": "error",
     "traceback": [
      "\u001b[1;36m  Input \u001b[1;32mIn [14]\u001b[1;36m\u001b[0m\n\u001b[1;33m    print('Hello Mike\u001b[0m\n\u001b[1;37m                     ^\u001b[0m\n\u001b[1;31mSyntaxError\u001b[0m\u001b[1;31m:\u001b[0m EOL while scanning string literal\n"
     ]
    }
   ],
   "source": [
    "print('Hello Mike\n",
    "                     Hello Jack')"
   ]
  },
  {
   "cell_type": "code",
   "execution_count": 15,
   "id": "3a823b47",
   "metadata": {},
   "outputs": [
    {
     "ename": "SyntaxError",
     "evalue": "EOL while scanning string literal (349752298.py, line 1)",
     "output_type": "error",
     "traceback": [
      "\u001b[1;36m  Input \u001b[1;32mIn [15]\u001b[1;36m\u001b[0m\n\u001b[1;33m    print(\"Hello Mike\u001b[0m\n\u001b[1;37m                     ^\u001b[0m\n\u001b[1;31mSyntaxError\u001b[0m\u001b[1;31m:\u001b[0m EOL while scanning string literal\n"
     ]
    }
   ],
   "source": [
    "print(\"Hello Mike\n",
    "                       Hello Jack\")"
   ]
  },
  {
   "cell_type": "code",
   "execution_count": 16,
   "id": "ab8e0381",
   "metadata": {},
   "outputs": [
    {
     "name": "stdout",
     "output_type": "stream",
     "text": [
      "Hello Jack\n",
      "                        Hello Mike\n"
     ]
    }
   ],
   "source": [
    "print('''Hello Jack\n",
    "                        Hello Mike''')"
   ]
  },
  {
   "cell_type": "code",
   "execution_count": 17,
   "id": "8a8bb1e7",
   "metadata": {},
   "outputs": [
    {
     "ename": "NameError",
     "evalue": "name 'Luke' is not defined",
     "output_type": "error",
     "traceback": [
      "\u001b[1;31m---------------------------------------------------------------------------\u001b[0m",
      "\u001b[1;31mNameError\u001b[0m                                 Traceback (most recent call last)",
      "Input \u001b[1;32mIn [17]\u001b[0m, in \u001b[0;36m<cell line: 1>\u001b[1;34m()\u001b[0m\n\u001b[1;32m----> 1\u001b[0m \u001b[38;5;28mprint\u001b[39m(\u001b[43mLuke\u001b[49m)\n",
      "\u001b[1;31mNameError\u001b[0m: name 'Luke' is not defined"
     ]
    }
   ],
   "source": [
    "print(Luke)"
   ]
  },
  {
   "cell_type": "markdown",
   "id": "abd517bf",
   "metadata": {},
   "source": [
    "##### +  Use In String"
   ]
  },
  {
   "cell_type": "code",
   "execution_count": 18,
   "id": "493865a5",
   "metadata": {},
   "outputs": [
    {
     "name": "stdout",
     "output_type": "stream",
     "text": [
      "MikeSean\n"
     ]
    }
   ],
   "source": [
    "print(\"Mike\" + \"Sean\")"
   ]
  },
  {
   "cell_type": "code",
   "execution_count": 19,
   "id": "427d982b",
   "metadata": {},
   "outputs": [
    {
     "name": "stdout",
     "output_type": "stream",
     "text": [
      "Mike Sean\n"
     ]
    }
   ],
   "source": [
    "print(\"Mike \" + \"Sean\")"
   ]
  },
  {
   "cell_type": "markdown",
   "id": "5e59a00a",
   "metadata": {},
   "source": [
    "#### Note : Join / Concat"
   ]
  },
  {
   "cell_type": "markdown",
   "id": "5db8b6f8",
   "metadata": {},
   "source": [
    "##### * Use In String"
   ]
  },
  {
   "cell_type": "code",
   "execution_count": 20,
   "id": "bc806b19",
   "metadata": {},
   "outputs": [
    {
     "name": "stdout",
     "output_type": "stream",
     "text": [
      "MikeMikeMikeMikeMike\n"
     ]
    }
   ],
   "source": [
    "print(\"Mike\"*5)"
   ]
  },
  {
   "cell_type": "code",
   "execution_count": 21,
   "id": "bc37d1d5",
   "metadata": {},
   "outputs": [
    {
     "name": "stdout",
     "output_type": "stream",
     "text": [
      "Mike Mike Mike Mike Mike \n"
     ]
    }
   ],
   "source": [
    "print(\"Mike \"*5)"
   ]
  },
  {
   "cell_type": "code",
   "execution_count": 22,
   "id": "cd516c4a",
   "metadata": {},
   "outputs": [
    {
     "name": "stdout",
     "output_type": "stream",
     "text": [
      "Mike\n",
      "Mike\n",
      "Mike\n",
      "Mike\n",
      "Mike\n",
      "\n"
     ]
    }
   ],
   "source": [
    "print(\"Mike\\n\"*5)"
   ]
  },
  {
   "cell_type": "code",
   "execution_count": 23,
   "id": "5f8fcbff",
   "metadata": {},
   "outputs": [
    {
     "name": "stdout",
     "output_type": "stream",
     "text": [
      "Mike\n",
      "Sean\n",
      "Mike\n",
      "Sean\n",
      "\n"
     ]
    }
   ],
   "source": [
    "print(\"Mike\\nSean\\n\"*2)"
   ]
  },
  {
   "cell_type": "code",
   "execution_count": 24,
   "id": "a121709c",
   "metadata": {},
   "outputs": [
    {
     "name": "stdout",
     "output_type": "stream",
     "text": [
      "Mike\n",
      "      => It Is Stud.\n",
      "Sean\n",
      "      => It Is Emp\n",
      "Mike\n",
      "      => It Is Stud.\n",
      "Sean\n",
      "      => It Is Emp\n",
      "\n"
     ]
    }
   ],
   "source": [
    "print(\"Mike\\n      => It Is Stud.\\nSean\\n      => It Is Emp\\n\"*2)"
   ]
  },
  {
   "cell_type": "code",
   "execution_count": 26,
   "id": "1a369640",
   "metadata": {},
   "outputs": [
    {
     "name": "stdout",
     "output_type": "stream",
     "text": [
      "\t\t\t\t\tHello EveryOne\n"
     ]
    }
   ],
   "source": [
    "print(\"\\t\\t\\t\\t\\tHello EveryOne\")"
   ]
  },
  {
   "cell_type": "markdown",
   "id": "173d1589",
   "metadata": {},
   "source": [
    "##### How To Colors For String Data"
   ]
  },
  {
   "cell_type": "code",
   "execution_count": 1,
   "id": "040eaa47",
   "metadata": {},
   "outputs": [],
   "source": [
    "from colorama import *"
   ]
  },
  {
   "cell_type": "markdown",
   "id": "1488b6f4",
   "metadata": {},
   "source": [
    "#### Syntax :   \n",
    "                 Fore.Col_Name(Caps)+Back.Col_Name(Caps)+Style.Style_Name(Caps)"
   ]
  },
  {
   "cell_type": "markdown",
   "id": "e04a8318",
   "metadata": {},
   "source": [
    "## Using Fore "
   ]
  },
  {
   "cell_type": "code",
   "execution_count": 3,
   "id": "47cd8929",
   "metadata": {},
   "outputs": [],
   "source": [
    "from colorama import Fore,Back,Style"
   ]
  },
  {
   "cell_type": "code",
   "execution_count": 6,
   "id": "be9490ea",
   "metadata": {},
   "outputs": [
    {
     "data": {
      "text/plain": [
       "'\\x1b[32mMike'"
      ]
     },
     "execution_count": 6,
     "metadata": {},
     "output_type": "execute_result"
    }
   ],
   "source": [
    "Fore.GREEN+\"Mike\""
   ]
  },
  {
   "cell_type": "code",
   "execution_count": 7,
   "id": "a7ac12eb",
   "metadata": {},
   "outputs": [
    {
     "name": "stdout",
     "output_type": "stream",
     "text": [
      "\u001b[32mMike\n"
     ]
    }
   ],
   "source": [
    "print(Fore.GREEN+\"Mike\")"
   ]
  },
  {
   "cell_type": "markdown",
   "id": "6ff6b011",
   "metadata": {},
   "source": [
    "## Using Back"
   ]
  },
  {
   "cell_type": "code",
   "execution_count": 8,
   "id": "c919e7ba",
   "metadata": {},
   "outputs": [
    {
     "name": "stdout",
     "output_type": "stream",
     "text": [
      "\u001b[32m\u001b[40mMike\n"
     ]
    }
   ],
   "source": [
    "print(Fore.GREEN+Back.BLACK+\"Mike\")"
   ]
  },
  {
   "cell_type": "markdown",
   "id": "a3fe60f0",
   "metadata": {},
   "source": [
    "## Using Style"
   ]
  },
  {
   "cell_type": "code",
   "execution_count": 9,
   "id": "e0c1b73b",
   "metadata": {},
   "outputs": [
    {
     "name": "stdout",
     "output_type": "stream",
     "text": [
      "\u001b[32m\u001b[40m\u001b[1mMike Is Learning Python.\n"
     ]
    }
   ],
   "source": [
    "print(Fore.GREEN+Back.BLACK+Style.BRIGHT+\"Mike Is Learning Python.\")"
   ]
  },
  {
   "cell_type": "code",
   "execution_count": 11,
   "id": "9d2f989c",
   "metadata": {},
   "outputs": [
    {
     "name": "stdout",
     "output_type": "stream",
     "text": [
      "\u001b[35m\u001b[40m\u001b[1mMike Is Learning Python.\n",
      "Okay!!\n"
     ]
    }
   ],
   "source": [
    "print(Fore.MAGENTA+Back.BLACK+Style.BRIGHT+\"Mike Is Learning Python.\")\n",
    "print(\"Okay!!\")"
   ]
  },
  {
   "cell_type": "code",
   "execution_count": 12,
   "id": "01fd3285",
   "metadata": {},
   "outputs": [
    {
     "name": "stdout",
     "output_type": "stream",
     "text": [
      "\u001b[35m\u001b[40m\u001b[1mMike Is Learning Python.\n",
      "\u001b[0mOkay!!\n"
     ]
    }
   ],
   "source": [
    "print(Fore.MAGENTA+Back.BLACK+Style.BRIGHT+\"Mike Is Learning Python.\")\n",
    "print(Style.RESET_ALL+\"Okay!!\")"
   ]
  },
  {
   "cell_type": "code",
   "execution_count": 13,
   "id": "cb39371f",
   "metadata": {},
   "outputs": [
    {
     "name": "stdout",
     "output_type": "stream",
     "text": [
      "\u001b[35m\u001b[40m\u001b[1mMike Is Learning Python.\n",
      "\u001b[32mOkay!!\n"
     ]
    }
   ],
   "source": [
    "print(Fore.MAGENTA+Back.BLACK+Style.BRIGHT+\"Mike Is Learning Python.\")\n",
    "print(Fore.GREEN+\"Okay!!\")"
   ]
  },
  {
   "cell_type": "code",
   "execution_count": 14,
   "id": "771a5d69",
   "metadata": {},
   "outputs": [
    {
     "name": "stdout",
     "output_type": "stream",
     "text": [
      "\u001b[35m\u001b[40m\u001b[1mMike Is Learning Python.\u001b[0m\n",
      "\u001b[32mOkay!!\n"
     ]
    }
   ],
   "source": [
    "print(Fore.MAGENTA+Back.BLACK+Style.BRIGHT+\"Mike Is Learning Python.\"+Style.RESET_ALL)\n",
    "print(Fore.GREEN+\"Okay!!\")"
   ]
  },
  {
   "cell_type": "code",
   "execution_count": null,
   "id": "b6737e23",
   "metadata": {},
   "outputs": [],
   "source": []
  }
 ],
 "metadata": {
  "kernelspec": {
   "display_name": "Python 3 (ipykernel)",
   "language": "python",
   "name": "python3"
  },
  "language_info": {
   "codemirror_mode": {
    "name": "ipython",
    "version": 3
   },
   "file_extension": ".py",
   "mimetype": "text/x-python",
   "name": "python",
   "nbconvert_exporter": "python",
   "pygments_lexer": "ipython3",
   "version": "3.9.12"
  }
 },
 "nbformat": 4,
 "nbformat_minor": 5
}

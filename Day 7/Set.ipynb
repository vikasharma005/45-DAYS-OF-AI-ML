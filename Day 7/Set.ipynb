{
 "cells": [
  {
   "cell_type": "code",
   "execution_count": 1,
   "id": "47581b25",
   "metadata": {},
   "outputs": [
    {
     "data": {
      "text/plain": [
       "''"
      ]
     },
     "execution_count": 1,
     "metadata": {},
     "output_type": "execute_result"
    }
   ],
   "source": [
    "'''\n",
    " Set:\n",
    " \n",
    "      ==> Sets are used to store multiple items in a single variable.\n",
    "      \n",
    "      ==> A set is a collection which is unordered, unchangeable, and unindexed.\n",
    "      \n",
    "      ==> Duplicates Value Not Allowed.\n",
    "      \n",
    "      ==> A set is an unordered collection of items. \n",
    "      \n",
    "          Every set element is unique (no duplicates) and must be immutable (cannot be changed).\n",
    "      \n",
    "      ==> set()  \n",
    "      \n",
    "      ==> Like :\n",
    "      \n",
    "                      {1,2,4,56,}\n",
    "\n",
    "'''\n",
    "\"\""
   ]
  },
  {
   "cell_type": "markdown",
   "id": "7881ec25",
   "metadata": {},
   "source": [
    "## How To Make A Set"
   ]
  },
  {
   "cell_type": "code",
   "execution_count": 1,
   "id": "1a078e57",
   "metadata": {},
   "outputs": [],
   "source": [
    "# Use : {}"
   ]
  },
  {
   "cell_type": "code",
   "execution_count": 1,
   "id": "35f5e1d5",
   "metadata": {},
   "outputs": [],
   "source": [
    "s1 = {}"
   ]
  },
  {
   "cell_type": "code",
   "execution_count": 2,
   "id": "84716b4f",
   "metadata": {},
   "outputs": [
    {
     "data": {
      "text/plain": [
       "{}"
      ]
     },
     "execution_count": 2,
     "metadata": {},
     "output_type": "execute_result"
    }
   ],
   "source": [
    "s1"
   ]
  },
  {
   "cell_type": "code",
   "execution_count": 3,
   "id": "ba52af5b",
   "metadata": {},
   "outputs": [
    {
     "data": {
      "text/plain": [
       "dict"
      ]
     },
     "execution_count": 3,
     "metadata": {},
     "output_type": "execute_result"
    }
   ],
   "source": [
    "type(s1)"
   ]
  },
  {
   "cell_type": "markdown",
   "id": "01da2909",
   "metadata": {},
   "source": [
    "## How To Make A Empty Set"
   ]
  },
  {
   "cell_type": "code",
   "execution_count": 4,
   "id": "7155226b",
   "metadata": {},
   "outputs": [],
   "source": [
    "## Use : set()"
   ]
  },
  {
   "cell_type": "code",
   "execution_count": 5,
   "id": "f60ae27a",
   "metadata": {},
   "outputs": [
    {
     "name": "stdout",
     "output_type": "stream",
     "text": [
      "Empty Set Is : set() \n",
      "Type Is : set()\n"
     ]
    }
   ],
   "source": [
    "s1 = set()\n",
    "print(\"Empty Set Is :\",s1,\"\\nType Is :\",set(s1))"
   ]
  },
  {
   "cell_type": "markdown",
   "id": "4b6d083e",
   "metadata": {},
   "source": [
    "## Unorderd"
   ]
  },
  {
   "cell_type": "code",
   "execution_count": 6,
   "id": "2c2db0b3",
   "metadata": {},
   "outputs": [],
   "source": [
    "s1 = {10,100,-110,-25,20,25,225}"
   ]
  },
  {
   "cell_type": "code",
   "execution_count": 7,
   "id": "eae37493",
   "metadata": {},
   "outputs": [
    {
     "data": {
      "text/plain": [
       "{-110, -25, 10, 20, 25, 100, 225}"
      ]
     },
     "execution_count": 7,
     "metadata": {},
     "output_type": "execute_result"
    }
   ],
   "source": [
    "s1"
   ]
  },
  {
   "cell_type": "code",
   "execution_count": 8,
   "id": "c330d5b8",
   "metadata": {},
   "outputs": [],
   "source": [
    "data = {-10,100,5,55,\"A\",\"a\"}"
   ]
  },
  {
   "cell_type": "code",
   "execution_count": 9,
   "id": "b91367ce",
   "metadata": {},
   "outputs": [
    {
     "data": {
      "text/plain": [
       "{-10, 100, 5, 55, 'A', 'a'}"
      ]
     },
     "execution_count": 9,
     "metadata": {},
     "output_type": "execute_result"
    }
   ],
   "source": [
    "data"
   ]
  },
  {
   "cell_type": "code",
   "execution_count": 10,
   "id": "8aca4ad7",
   "metadata": {},
   "outputs": [
    {
     "data": {
      "text/plain": [
       "65"
      ]
     },
     "execution_count": 10,
     "metadata": {},
     "output_type": "execute_result"
    }
   ],
   "source": [
    "ord(\"A\")"
   ]
  },
  {
   "cell_type": "code",
   "execution_count": 11,
   "id": "006c071a",
   "metadata": {},
   "outputs": [
    {
     "data": {
      "text/plain": [
       "97"
      ]
     },
     "execution_count": 11,
     "metadata": {},
     "output_type": "execute_result"
    }
   ],
   "source": [
    "ord(\"a\")"
   ]
  },
  {
   "cell_type": "code",
   "execution_count": 12,
   "id": "4a579d45",
   "metadata": {},
   "outputs": [
    {
     "data": {
      "text/plain": [
       "'ベ'"
      ]
     },
     "execution_count": 12,
     "metadata": {},
     "output_type": "execute_result"
    }
   ],
   "source": [
    "chr(12505)"
   ]
  },
  {
   "cell_type": "code",
   "execution_count": 13,
   "id": "16e91fd4",
   "metadata": {},
   "outputs": [
    {
     "data": {
      "text/plain": [
       "128512"
      ]
     },
     "execution_count": 13,
     "metadata": {},
     "output_type": "execute_result"
    }
   ],
   "source": [
    "ord(\"😀\")"
   ]
  },
  {
   "cell_type": "code",
   "execution_count": 20,
   "id": "ad2fdbab",
   "metadata": {},
   "outputs": [
    {
     "data": {
      "text/plain": [
       "'㢤'"
      ]
     },
     "execution_count": 20,
     "metadata": {},
     "output_type": "execute_result"
    }
   ],
   "source": [
    "chr(14500)"
   ]
  },
  {
   "cell_type": "markdown",
   "id": "d9d9cab8",
   "metadata": {},
   "source": [
    "## Unindexed"
   ]
  },
  {
   "cell_type": "code",
   "execution_count": 21,
   "id": "fa323f88",
   "metadata": {},
   "outputs": [
    {
     "data": {
      "text/plain": [
       "{-110, -25, 10, 20, 25, 100, 225}"
      ]
     },
     "execution_count": 21,
     "metadata": {},
     "output_type": "execute_result"
    }
   ],
   "source": [
    "s1"
   ]
  },
  {
   "cell_type": "code",
   "execution_count": 22,
   "id": "6a9230e0",
   "metadata": {},
   "outputs": [
    {
     "ename": "TypeError",
     "evalue": "'set' object is not subscriptable",
     "output_type": "error",
     "traceback": [
      "\u001b[1;31m---------------------------------------------------------------------------\u001b[0m",
      "\u001b[1;31mTypeError\u001b[0m                                 Traceback (most recent call last)",
      "Input \u001b[1;32mIn [22]\u001b[0m, in \u001b[0;36m<cell line: 1>\u001b[1;34m()\u001b[0m\n\u001b[1;32m----> 1\u001b[0m \u001b[43ms1\u001b[49m\u001b[43m[\u001b[49m\u001b[38;5;241;43m0\u001b[39;49m\u001b[43m]\u001b[49m\n",
      "\u001b[1;31mTypeError\u001b[0m: 'set' object is not subscriptable"
     ]
    }
   ],
   "source": [
    "s1[0]"
   ]
  },
  {
   "cell_type": "markdown",
   "id": "81f7e3d6",
   "metadata": {},
   "source": [
    "## It Does Not Support Duplicate Values"
   ]
  },
  {
   "cell_type": "code",
   "execution_count": 24,
   "id": "65d3eb84",
   "metadata": {},
   "outputs": [],
   "source": [
    "s1 = {\"Sean\",\"Mike\",\"Finn\",\"Allen\",\"Sean\",\"Luke\"}"
   ]
  },
  {
   "cell_type": "code",
   "execution_count": 25,
   "id": "f3e9a55c",
   "metadata": {},
   "outputs": [
    {
     "data": {
      "text/plain": [
       "{'Allen', 'Finn', 'Luke', 'Mike', 'Sean'}"
      ]
     },
     "execution_count": 25,
     "metadata": {},
     "output_type": "execute_result"
    }
   ],
   "source": [
    "s1"
   ]
  },
  {
   "cell_type": "code",
   "execution_count": 26,
   "id": "93f71e58",
   "metadata": {},
   "outputs": [],
   "source": [
    "s2 = {5,5,5,5,5,5,5,}"
   ]
  },
  {
   "cell_type": "code",
   "execution_count": 27,
   "id": "da235265",
   "metadata": {},
   "outputs": [
    {
     "data": {
      "text/plain": [
       "{5}"
      ]
     },
     "execution_count": 27,
     "metadata": {},
     "output_type": "execute_result"
    }
   ],
   "source": [
    "s2"
   ]
  },
  {
   "cell_type": "markdown",
   "id": "40e2db0e",
   "metadata": {},
   "source": [
    "## Remove The Duplicate Values From A List"
   ]
  },
  {
   "cell_type": "code",
   "execution_count": 28,
   "id": "19ef2bc8",
   "metadata": {},
   "outputs": [],
   "source": [
    "l1 = [\"Sean\",\"Mike\",\"Finn\",\"Allen\",\"Sean\",\"Luke\"]"
   ]
  },
  {
   "cell_type": "code",
   "execution_count": 29,
   "id": "3694aca5",
   "metadata": {},
   "outputs": [
    {
     "data": {
      "text/plain": [
       "['Sean', 'Mike', 'Finn', 'Allen', 'Sean', 'Luke']"
      ]
     },
     "execution_count": 29,
     "metadata": {},
     "output_type": "execute_result"
    }
   ],
   "source": [
    "l1"
   ]
  },
  {
   "cell_type": "code",
   "execution_count": 19,
   "id": "92302a6a",
   "metadata": {},
   "outputs": [
    {
     "data": {
      "text/plain": [
       "[5, 5, 5, 5, 5, 5, 5]"
      ]
     },
     "execution_count": 19,
     "metadata": {},
     "output_type": "execute_result"
    }
   ],
   "source": [
    "l5 = [5,5,5,5,5,5,5,]\n",
    "l5"
   ]
  },
  {
   "cell_type": "code",
   "execution_count": 30,
   "id": "9e40f6c0",
   "metadata": {},
   "outputs": [
    {
     "name": "stdout",
     "output_type": "stream",
     "text": [
      "Do You Want To Remove Duplicate Values :Yes\n",
      "\n",
      "SuccessFully..\n",
      "\n",
      "List Is : ['Finn', 'Luke', 'Sean', 'Mike', 'Allen']\n"
     ]
    }
   ],
   "source": [
    "inp = input(\"Do You Want To Remove Duplicate Values :\")\n",
    "if inp==\"Yes\":\n",
    "    l1= set(l1)\n",
    "    print(\"\\nSuccessFully..\")\n",
    "    l1 = list(l1)\n",
    "    print(\"\\nList Is :\",l1)\n",
    "else:\n",
    "    print(\"\\nOkay !!\")"
   ]
  },
  {
   "cell_type": "code",
   "execution_count": 20,
   "id": "90edf134",
   "metadata": {},
   "outputs": [
    {
     "name": "stdout",
     "output_type": "stream",
     "text": [
      "Do You Want To Remove Duplicate Values :Yes\n",
      "\n",
      "SuccessFully..\n",
      "\n",
      "List Is : [5]\n"
     ]
    }
   ],
   "source": [
    "inp = input(\"Do You Want To Remove Duplicate Values :\")\n",
    "if inp==\"Yes\":\n",
    "    l5 = set(l5)\n",
    "    print(\"\\nSuccessFully..\")\n",
    "    l5 = list(l5)\n",
    "    print(\"\\nList Is :\",l5)\n",
    "else:\n",
    "    print(\"\\nOkay !!\")"
   ]
  },
  {
   "cell_type": "markdown",
   "id": "e545d5a1",
   "metadata": {},
   "source": [
    "## How To Make A Set Using Input Function"
   ]
  },
  {
   "cell_type": "code",
   "execution_count": 2,
   "id": "cde2fc47",
   "metadata": {},
   "outputs": [],
   "source": [
    "## Syntax : set(input().split())"
   ]
  },
  {
   "cell_type": "code",
   "execution_count": 31,
   "id": "fc53119f",
   "metadata": {},
   "outputs": [
    {
     "name": "stdout",
     "output_type": "stream",
     "text": [
      "Enter Data :Mike Peter Luke Jack Marnus Glenn\n",
      "\n",
      "Emp Data Is : {'Peter', 'Luke', 'Glenn', 'Jack', 'Mike', 'Marnus'}\n"
     ]
    }
   ],
   "source": [
    "s1 = set(input(\"Enter Data :\").split())\n",
    "print(\"\\nEmp Data Is :\",s1)"
   ]
  },
  {
   "cell_type": "code",
   "execution_count": 32,
   "id": "91ccc0f9",
   "metadata": {},
   "outputs": [
    {
     "data": {
      "text/plain": [
       "set"
      ]
     },
     "execution_count": 32,
     "metadata": {},
     "output_type": "execute_result"
    }
   ],
   "source": [
    "type(s1)"
   ]
  },
  {
   "cell_type": "markdown",
   "id": "f4ddf1f0",
   "metadata": {},
   "source": [
    "## Task : Open A Text File And Remove Duplicate Value"
   ]
  },
  {
   "cell_type": "code",
   "execution_count": 33,
   "id": "55f39ec5",
   "metadata": {},
   "outputs": [],
   "source": [
    "## File ==> Open\n",
    "## Function ==> open(file_name,mode)\n",
    "## Mode ==> r , w , a , x\n",
    "## By Default Mode ==> r (read mode)"
   ]
  },
  {
   "cell_type": "code",
   "execution_count": 34,
   "id": "1cd1a0a7",
   "metadata": {},
   "outputs": [
    {
     "name": "stdout",
     "output_type": "stream",
     "text": [
      "Mike,Luke,I Am Learning Python,Peter,Mike,Jason,Luke\n"
     ]
    }
   ],
   "source": [
    "file = open(\"emp.txt\")\n",
    "print(file.read())"
   ]
  },
  {
   "cell_type": "code",
   "execution_count": 35,
   "id": "d73c78df",
   "metadata": {},
   "outputs": [
    {
     "name": "stdout",
     "output_type": "stream",
     "text": [
      "Mike,Luke,I Am Learning Python,Peter,Mike,Jason,Luke\n",
      "\n",
      "Type Is : <class 'str'>\n"
     ]
    }
   ],
   "source": [
    "file = open(\"emp.txt\")\n",
    "data = file.read()\n",
    "print(data)\n",
    "print(\"\\nType Is :\",type(data))"
   ]
  },
  {
   "cell_type": "code",
   "execution_count": 38,
   "id": "67c8776c",
   "metadata": {},
   "outputs": [
    {
     "name": "stdout",
     "output_type": "stream",
     "text": [
      "['M', 'i', 'k', 'e', ',', 'L', 'u', 'k', 'e', ',', 'I', ' ', 'A', 'm', ' ', 'L', 'e', 'a', 'r', 'n', 'i', 'n', 'g', ' ', 'P', 'y', 't', 'h', 'o', 'n', ',', 'P', 'e', 't', 'e', 'r', ',', 'M', 'i', 'k', 'e', ',', 'J', 'a', 's', 'o', 'n', ',', 'L', 'u', 'k', 'e']\n"
     ]
    }
   ],
   "source": [
    "data = list(data)\n",
    "print(data)"
   ]
  },
  {
   "cell_type": "code",
   "execution_count": 39,
   "id": "dc715c6a",
   "metadata": {},
   "outputs": [
    {
     "name": "stdout",
     "output_type": "stream",
     "text": [
      "['Mike,Luke,I Am Learning Python,Peter,Mike,Jason,Luke']\n",
      "\n",
      "Type Is : <class 'list'>\n"
     ]
    }
   ],
   "source": [
    "file = open(\"emp.txt\")\n",
    "data = file.readlines() ## readlines => Store => List\n",
    "print(data)\n",
    "print(\"\\nType Is :\",type(data))"
   ]
  },
  {
   "cell_type": "code",
   "execution_count": 40,
   "id": "09af80fe",
   "metadata": {},
   "outputs": [
    {
     "ename": "AttributeError",
     "evalue": "'list' object has no attribute 'split'",
     "output_type": "error",
     "traceback": [
      "\u001b[1;31m---------------------------------------------------------------------------\u001b[0m",
      "\u001b[1;31mAttributeError\u001b[0m                            Traceback (most recent call last)",
      "Input \u001b[1;32mIn [40]\u001b[0m, in \u001b[0;36m<cell line: 1>\u001b[1;34m()\u001b[0m\n\u001b[1;32m----> 1\u001b[0m data \u001b[38;5;241m=\u001b[39m \u001b[43mdata\u001b[49m\u001b[38;5;241;43m.\u001b[39;49m\u001b[43msplit\u001b[49m()\n\u001b[0;32m      2\u001b[0m data\n",
      "\u001b[1;31mAttributeError\u001b[0m: 'list' object has no attribute 'split'"
     ]
    }
   ],
   "source": [
    "data = data.split()\n",
    "data"
   ]
  },
  {
   "cell_type": "code",
   "execution_count": 54,
   "id": "8539c7b7",
   "metadata": {},
   "outputs": [
    {
     "name": "stdout",
     "output_type": "stream",
     "text": [
      "Mike,Luke,I Am Learning Python,Peter,Mike,Jason,Luke\n",
      "\n",
      "Type Is : <class 'str'>\n"
     ]
    }
   ],
   "source": [
    "file = open(\"emp.txt\")\n",
    "data = file.read()\n",
    "print(data)\n",
    "print(\"\\nType Is :\",type(data))"
   ]
  },
  {
   "cell_type": "code",
   "execution_count": 55,
   "id": "ce34a4b7",
   "metadata": {},
   "outputs": [
    {
     "name": "stdout",
     "output_type": "stream",
     "text": [
      "{'Learning', 'Mike,Luke,I', 'Am', 'Python,Peter,Mike,Jason,Luke'}\n"
     ]
    }
   ],
   "source": [
    "data = set(data.split())\n",
    "print(data)"
   ]
  },
  {
   "cell_type": "code",
   "execution_count": 45,
   "id": "2752c7ed",
   "metadata": {},
   "outputs": [
    {
     "data": {
      "text/plain": [
       "['Mike,Luke,I', 'Am', 'Learning', 'Python,Peter,Mike,Jason,Luke']"
      ]
     },
     "execution_count": 45,
     "metadata": {},
     "output_type": "execute_result"
    }
   ],
   "source": [
    "data = data.split()\n",
    "data"
   ]
  },
  {
   "cell_type": "code",
   "execution_count": 46,
   "id": "34e361e3",
   "metadata": {},
   "outputs": [],
   "source": [
    "data = set(data)"
   ]
  },
  {
   "cell_type": "code",
   "execution_count": 47,
   "id": "00e391d1",
   "metadata": {},
   "outputs": [
    {
     "data": {
      "text/plain": [
       "{'Am', 'Learning', 'Mike,Luke,I', 'Python,Peter,Mike,Jason,Luke'}"
      ]
     },
     "execution_count": 47,
     "metadata": {},
     "output_type": "execute_result"
    }
   ],
   "source": [
    "data"
   ]
  },
  {
   "cell_type": "code",
   "execution_count": 49,
   "id": "835edcae",
   "metadata": {},
   "outputs": [
    {
     "name": "stdout",
     "output_type": "stream",
     "text": [
      "Mike,Luke,I Am Learning Python,Peter,Mike,Jason,Luke\n",
      "List Data Is : ['M', 'i', 'k', 'e', ',', 'L', 'u', 'k', 'e', ',', 'I', ' ', 'A', 'm', ' ', 'L', 'e', 'a', 'r', 'n', 'i', 'n', 'g', ' ', 'P', 'y', 't', 'h', 'o', 'n', ',', 'P', 'e', 't', 'e', 'r', ',', 'M', 'i', 'k', 'e', ',', 'J', 'a', 's', 'o', 'n', ',', 'L', 'u', 'k', 'e']\n"
     ]
    }
   ],
   "source": [
    "l1 = []\n",
    "file = open(\"emp.txt\")\n",
    "for k in file.read():\n",
    "    print(k,end=\"\")\n",
    "    l1.append(k)\n",
    "print(\"\\nList Data Is :\",l1)"
   ]
  },
  {
   "cell_type": "code",
   "execution_count": null,
   "id": "9d7d124f",
   "metadata": {},
   "outputs": [],
   "source": []
  },
  {
   "cell_type": "markdown",
   "id": "5ee29587",
   "metadata": {},
   "source": [
    "## Methods of Set"
   ]
  },
  {
   "cell_type": "code",
   "execution_count": 56,
   "id": "a570a4db",
   "metadata": {},
   "outputs": [
    {
     "data": {
      "text/plain": [
       "['__and__',\n",
       " '__class__',\n",
       " '__class_getitem__',\n",
       " '__contains__',\n",
       " '__delattr__',\n",
       " '__dir__',\n",
       " '__doc__',\n",
       " '__eq__',\n",
       " '__format__',\n",
       " '__ge__',\n",
       " '__getattribute__',\n",
       " '__gt__',\n",
       " '__hash__',\n",
       " '__iand__',\n",
       " '__init__',\n",
       " '__init_subclass__',\n",
       " '__ior__',\n",
       " '__isub__',\n",
       " '__iter__',\n",
       " '__ixor__',\n",
       " '__le__',\n",
       " '__len__',\n",
       " '__lt__',\n",
       " '__ne__',\n",
       " '__new__',\n",
       " '__or__',\n",
       " '__rand__',\n",
       " '__reduce__',\n",
       " '__reduce_ex__',\n",
       " '__repr__',\n",
       " '__ror__',\n",
       " '__rsub__',\n",
       " '__rxor__',\n",
       " '__setattr__',\n",
       " '__sizeof__',\n",
       " '__str__',\n",
       " '__sub__',\n",
       " '__subclasshook__',\n",
       " '__xor__',\n",
       " 'add',\n",
       " 'clear',\n",
       " 'copy',\n",
       " 'difference',\n",
       " 'difference_update',\n",
       " 'discard',\n",
       " 'intersection',\n",
       " 'intersection_update',\n",
       " 'isdisjoint',\n",
       " 'issubset',\n",
       " 'issuperset',\n",
       " 'pop',\n",
       " 'remove',\n",
       " 'symmetric_difference',\n",
       " 'symmetric_difference_update',\n",
       " 'union',\n",
       " 'update']"
      ]
     },
     "execution_count": 56,
     "metadata": {},
     "output_type": "execute_result"
    }
   ],
   "source": [
    "dir(set)"
   ]
  },
  {
   "cell_type": "code",
   "execution_count": 4,
   "id": "384fa8f3",
   "metadata": {},
   "outputs": [
    {
     "data": {
      "text/plain": [
       "''"
      ]
     },
     "execution_count": 4,
     "metadata": {},
     "output_type": "execute_result"
    }
   ],
   "source": [
    "'''\n",
    " 'add',\n",
    " 'clear',\n",
    " 'copy',\n",
    " 'difference',\n",
    " 'difference_update',\n",
    " 'discard',\n",
    " 'intersection',\n",
    " 'intersection_update',\n",
    " 'isdisjoint',\n",
    " 'issubset',\n",
    " 'issuperset',\n",
    " 'pop',\n",
    " 'remove',\n",
    " 'symmetric_difference',\n",
    " 'symmetric_difference_update',\n",
    " 'union',\n",
    " 'update'\n",
    "\n",
    "'''\n",
    "\"\""
   ]
  },
  {
   "cell_type": "markdown",
   "id": "74ed0626",
   "metadata": {},
   "source": [
    "## add()"
   ]
  },
  {
   "cell_type": "code",
   "execution_count": 57,
   "id": "adf5a592",
   "metadata": {},
   "outputs": [],
   "source": [
    "## add() :\n",
    " \n",
    "     ## It Is Used To Add The Value .\n",
    "        \n",
    "    ## Syntax :\n",
    "    \n",
    "        ###  set_name.add(data)"
   ]
  },
  {
   "cell_type": "code",
   "execution_count": 59,
   "id": "3c91c85c",
   "metadata": {},
   "outputs": [
    {
     "data": {
      "text/plain": [
       "{'Allen', 'Finn', 'Jack', 'Luke', 'Mike', 'Peter'}"
      ]
     },
     "execution_count": 59,
     "metadata": {},
     "output_type": "execute_result"
    }
   ],
   "source": [
    "s1 = {'Allen', 'Finn', 'Jack', 'Luke', 'Mike', 'Peter'}\n",
    "s1"
   ]
  },
  {
   "cell_type": "code",
   "execution_count": 60,
   "id": "1b7ccbbd",
   "metadata": {},
   "outputs": [],
   "source": [
    "s1.add(\"AB\")"
   ]
  },
  {
   "cell_type": "code",
   "execution_count": 61,
   "id": "73a92ed8",
   "metadata": {},
   "outputs": [
    {
     "data": {
      "text/plain": [
       "{'AB', 'Allen', 'Finn', 'Jack', 'Luke', 'Mike', 'Peter'}"
      ]
     },
     "execution_count": 61,
     "metadata": {},
     "output_type": "execute_result"
    }
   ],
   "source": [
    "s1"
   ]
  },
  {
   "cell_type": "code",
   "execution_count": 62,
   "id": "9b001aca",
   "metadata": {},
   "outputs": [
    {
     "ename": "TypeError",
     "evalue": "set.add() takes exactly one argument (2 given)",
     "output_type": "error",
     "traceback": [
      "\u001b[1;31m---------------------------------------------------------------------------\u001b[0m",
      "\u001b[1;31mTypeError\u001b[0m                                 Traceback (most recent call last)",
      "Input \u001b[1;32mIn [62]\u001b[0m, in \u001b[0;36m<cell line: 1>\u001b[1;34m()\u001b[0m\n\u001b[1;32m----> 1\u001b[0m \u001b[43ms1\u001b[49m\u001b[38;5;241;43m.\u001b[39;49m\u001b[43madd\u001b[49m\u001b[43m(\u001b[49m\u001b[38;5;124;43m\"\u001b[39;49m\u001b[38;5;124;43mJenny\u001b[39;49m\u001b[38;5;124;43m\"\u001b[39;49m\u001b[43m,\u001b[49m\u001b[38;5;124;43m\"\u001b[39;49m\u001b[38;5;124;43mRia\u001b[39;49m\u001b[38;5;124;43m\"\u001b[39;49m\u001b[43m)\u001b[49m\n",
      "\u001b[1;31mTypeError\u001b[0m: set.add() takes exactly one argument (2 given)"
     ]
    }
   ],
   "source": [
    "s1.add(\"Jenny\",\"Ria\")"
   ]
  },
  {
   "cell_type": "markdown",
   "id": "9052d8b4",
   "metadata": {},
   "source": [
    "## clear()"
   ]
  },
  {
   "cell_type": "code",
   "execution_count": 27,
   "id": "1186e478",
   "metadata": {},
   "outputs": [],
   "source": [
    "##### clear() :\n",
    "\n",
    "\n",
    "   ###### it is used to remove all elements from a set.\n",
    "    \n",
    "    #### create a empty set.\n",
    "    \n",
    "     #### synatx :\n",
    "        \n",
    "            ##### set_name.clear()"
   ]
  },
  {
   "cell_type": "code",
   "execution_count": 63,
   "id": "986b87bf",
   "metadata": {},
   "outputs": [
    {
     "data": {
      "text/plain": [
       "{'AB', 'Allen', 'Finn', 'Jack', 'Luke', 'Mike', 'Peter'}"
      ]
     },
     "execution_count": 63,
     "metadata": {},
     "output_type": "execute_result"
    }
   ],
   "source": [
    "s1"
   ]
  },
  {
   "cell_type": "code",
   "execution_count": 64,
   "id": "c9562796",
   "metadata": {},
   "outputs": [],
   "source": [
    "data = s1.copy()"
   ]
  },
  {
   "cell_type": "code",
   "execution_count": 65,
   "id": "9bd77e48",
   "metadata": {},
   "outputs": [
    {
     "data": {
      "text/plain": [
       "{'AB', 'Allen', 'Finn', 'Jack', 'Luke', 'Mike', 'Peter'}"
      ]
     },
     "execution_count": 65,
     "metadata": {},
     "output_type": "execute_result"
    }
   ],
   "source": [
    "data"
   ]
  },
  {
   "cell_type": "code",
   "execution_count": 66,
   "id": "32fbcaf7",
   "metadata": {},
   "outputs": [],
   "source": [
    "data.clear()"
   ]
  },
  {
   "cell_type": "code",
   "execution_count": 67,
   "id": "fe79f423",
   "metadata": {},
   "outputs": [
    {
     "name": "stdout",
     "output_type": "stream",
     "text": [
      "Empty Set Is : set()\n"
     ]
    }
   ],
   "source": [
    "print(\"Empty Set Is :\",data)"
   ]
  },
  {
   "cell_type": "code",
   "execution_count": 33,
   "id": "b95653d5",
   "metadata": {},
   "outputs": [],
   "source": [
    "## del() :\n",
    "\n",
    " ## It Is Used To Delete The Object\n",
    "    \n",
    "    ## Syntax :   del(object)\n",
    "    \n",
    "    ## del --> It Is A Keyword."
   ]
  },
  {
   "cell_type": "code",
   "execution_count": 68,
   "id": "c92d83db",
   "metadata": {},
   "outputs": [
    {
     "data": {
      "text/plain": [
       "set()"
      ]
     },
     "execution_count": 68,
     "metadata": {},
     "output_type": "execute_result"
    }
   ],
   "source": [
    "data"
   ]
  },
  {
   "cell_type": "code",
   "execution_count": 69,
   "id": "bc7b1984",
   "metadata": {},
   "outputs": [
    {
     "name": "stdout",
     "output_type": "stream",
     "text": [
      "Do You Want To Delete The Data :Yes\n"
     ]
    }
   ],
   "source": [
    "inp = input(\"Do You Want To Delete The Data :\")\n",
    "if inp==\"Yes\":\n",
    "    del(data)\n",
    "else:\n",
    "    print(\"Exit..\")"
   ]
  },
  {
   "cell_type": "code",
   "execution_count": 70,
   "id": "24ced348",
   "metadata": {},
   "outputs": [
    {
     "ename": "NameError",
     "evalue": "name 'data' is not defined",
     "output_type": "error",
     "traceback": [
      "\u001b[1;31m---------------------------------------------------------------------------\u001b[0m",
      "\u001b[1;31mNameError\u001b[0m                                 Traceback (most recent call last)",
      "Input \u001b[1;32mIn [70]\u001b[0m, in \u001b[0;36m<cell line: 1>\u001b[1;34m()\u001b[0m\n\u001b[1;32m----> 1\u001b[0m \u001b[43mdata\u001b[49m\n",
      "\u001b[1;31mNameError\u001b[0m: name 'data' is not defined"
     ]
    }
   ],
   "source": [
    "data"
   ]
  },
  {
   "cell_type": "code",
   "execution_count": 75,
   "id": "35de653a",
   "metadata": {},
   "outputs": [
    {
     "data": {
      "text/plain": [
       "{'AB', 'Allen', 'Finn', 'Jack', 'Luke', 'Mike', 'Peter'}"
      ]
     },
     "execution_count": 75,
     "metadata": {},
     "output_type": "execute_result"
    }
   ],
   "source": [
    "a1 = {'AB', 'Allen', 'Finn', 'Jack', 'Luke', 'Mike', 'Peter'}\n",
    "a1"
   ]
  },
  {
   "cell_type": "code",
   "execution_count": 76,
   "id": "69e3d040",
   "metadata": {},
   "outputs": [
    {
     "ename": "TypeError",
     "evalue": "'set' object doesn't support item deletion",
     "output_type": "error",
     "traceback": [
      "\u001b[1;31m---------------------------------------------------------------------------\u001b[0m",
      "\u001b[1;31mTypeError\u001b[0m                                 Traceback (most recent call last)",
      "Input \u001b[1;32mIn [76]\u001b[0m, in \u001b[0;36m<cell line: 1>\u001b[1;34m()\u001b[0m\n\u001b[1;32m----> 1\u001b[0m \u001b[38;5;28;01mdel\u001b[39;00m(a1[\u001b[38;5;241m0\u001b[39m])\n",
      "\u001b[1;31mTypeError\u001b[0m: 'set' object doesn't support item deletion"
     ]
    }
   ],
   "source": [
    "del(a1[0])"
   ]
  },
  {
   "cell_type": "code",
   "execution_count": 78,
   "id": "d39ee9d0",
   "metadata": {},
   "outputs": [
    {
     "data": {
      "text/plain": [
       "['Finn', 'Peter', 'Luke', 'Mike', 'Allen', 'AB', 'Jack']"
      ]
     },
     "execution_count": 78,
     "metadata": {},
     "output_type": "execute_result"
    }
   ],
   "source": [
    "lst = list(a1)\n",
    "lst"
   ]
  },
  {
   "cell_type": "code",
   "execution_count": 79,
   "id": "0f05a38c",
   "metadata": {},
   "outputs": [],
   "source": [
    "del(lst[-2])"
   ]
  },
  {
   "cell_type": "code",
   "execution_count": 80,
   "id": "8fc1ec3c",
   "metadata": {},
   "outputs": [
    {
     "data": {
      "text/plain": [
       "{'Allen', 'Finn', 'Jack', 'Luke', 'Mike', 'Peter'}"
      ]
     },
     "execution_count": 80,
     "metadata": {},
     "output_type": "execute_result"
    }
   ],
   "source": [
    "a1 = set(lst)\n",
    "a1"
   ]
  },
  {
   "cell_type": "markdown",
   "id": "d1db14ce",
   "metadata": {},
   "source": [
    "## copy()"
   ]
  },
  {
   "cell_type": "code",
   "execution_count": 37,
   "id": "33b1f822",
   "metadata": {},
   "outputs": [
    {
     "data": {
      "text/plain": [
       "''"
      ]
     },
     "execution_count": 37,
     "metadata": {},
     "output_type": "execute_result"
    }
   ],
   "source": [
    "'''\n",
    " ## copy() :\n",
    " \n",
    "     => It Is USed To Copy All Elements of One Set To New Set.\n",
    "     \n",
    "     ### Syntax :  set_name.copy()\n",
    "\n",
    "'''\n",
    "\"\""
   ]
  },
  {
   "cell_type": "code",
   "execution_count": 81,
   "id": "73673d6d",
   "metadata": {},
   "outputs": [],
   "source": [
    "s1 = {'AB', 'Allen', 'Finn', 'Jack', 'Luke', 'Mike', 'Peter'}"
   ]
  },
  {
   "cell_type": "code",
   "execution_count": 82,
   "id": "3995038b",
   "metadata": {},
   "outputs": [
    {
     "data": {
      "text/plain": [
       "{'AB', 'Allen', 'Finn', 'Jack', 'Luke', 'Mike', 'Peter'}"
      ]
     },
     "execution_count": 82,
     "metadata": {},
     "output_type": "execute_result"
    }
   ],
   "source": [
    "s1"
   ]
  },
  {
   "cell_type": "code",
   "execution_count": 83,
   "id": "6a35d37b",
   "metadata": {},
   "outputs": [],
   "source": [
    "back_up = s1.copy()"
   ]
  },
  {
   "cell_type": "code",
   "execution_count": 84,
   "id": "22062f0d",
   "metadata": {},
   "outputs": [
    {
     "data": {
      "text/plain": [
       "{'AB', 'Allen', 'Finn', 'Jack', 'Luke', 'Mike', 'Peter'}"
      ]
     },
     "execution_count": 84,
     "metadata": {},
     "output_type": "execute_result"
    }
   ],
   "source": [
    "back_up"
   ]
  },
  {
   "cell_type": "code",
   "execution_count": 43,
   "id": "fdad77ff",
   "metadata": {},
   "outputs": [
    {
     "data": {
      "text/plain": [
       "False"
      ]
     },
     "execution_count": 43,
     "metadata": {},
     "output_type": "execute_result"
    }
   ],
   "source": [
    "s1 is back_up"
   ]
  },
  {
   "cell_type": "code",
   "execution_count": 88,
   "id": "5191211a",
   "metadata": {},
   "outputs": [
    {
     "name": "stdout",
     "output_type": "stream",
     "text": [
      "Enter place value : 0\n",
      "Original list: [1, 2, 3, 4, 5]\n",
      "Enter place value of the value to be deleted : 2\n",
      "After using del: [1, 2, 4, 5]\n",
      "Enter place value to add : 2\n",
      "After using add: [1, 2, 4, 5, 2]\n",
      "New list after using copy: [1, 2, 4, 5, 2]\n",
      "After using clear: []\n"
     ]
    }
   ],
   "source": [
    "a1=int(input(\"Enter place value : \"))\n",
    "my_list = [1, 2, 3, 4, 5]\n",
    "print(f\"Original list: {my_list}\")\n",
    "\n",
    "# Using del to remove an element\n",
    "a1=int(input(\"Enter place value of the value to be deleted : \"))\n",
    "del my_list[a1]\n",
    "print(f\"After using del: {my_list}\")\n",
    "\n",
    "# Using add to add an element\n",
    "b1=int(input(\"Enter place value to add : \"))\n",
    "my_list.append(b1)\n",
    "print(f\"After using add: {my_list}\")\n",
    "\n",
    "# Using copy to create a new list\n",
    "new_list = my_list.copy()\n",
    "print(f\"New list after using copy: {new_list}\")\n",
    "# Using clear to empty the list\n",
    "my_list.clear()\n",
    "print(f\"After using clear: {my_list}\")"
   ]
  },
  {
   "cell_type": "code",
   "execution_count": 90,
   "id": "16725091",
   "metadata": {},
   "outputs": [
    {
     "name": "stdout",
     "output_type": "stream",
     "text": [
      "\n",
      "Options:\n",
      "1. Add\n",
      "2.Copy\n",
      "3.Delete\n",
      "4.Clear data\n",
      "\n",
      "Enter your choice: 2\n",
      "\n",
      "backup data:  {'Finn', 'Mike', 'Luke', 'Sean', 'Allen'}\n"
     ]
    }
   ],
   "source": [
    "s1={'Allen', 'Finn', 'Luke', 'Mike', 'Sean'}\n",
    "l1=list(s1)\n",
    "def add_():\n",
    "    ele=input(\"enter element to add: \")\n",
    "    s1.add(ele)\n",
    "    print(s1)\n",
    "\n",
    "def copy_():\n",
    "    backup=s1.copy()\n",
    "    print(\"\\nbackup data: \",backup)\n",
    "\n",
    "def clear_():\n",
    "    s1.clear()\n",
    "    print(\"\\n Empty set: \",s1)\n",
    "def del_():\n",
    "    print(\"\\n Elements: \",l1)\n",
    "    ind=int(input(\"enter index value to remove element:\"))\n",
    "    del(l1[ind])\n",
    "    s1=set(l1)\n",
    "    print(\"\\n Set after deletion: \",s1)\n",
    "\n",
    "print(\"\\nOptions:\\n1. Add\\n2.Copy\\n3.Delete\\n4.Clear data\\n\")\n",
    "ch=int(input(\"Enter your choice: \"))\n",
    "if ch==1:\n",
    "      add_()\n",
    "elif ch==2:\n",
    "      copy_()\n",
    "elif ch==3:\n",
    "      del_()\n",
    "elif ch==4:\n",
    "      clear_()\n",
    "else:\n",
    "      print(\"\\nInvalid option\")"
   ]
  },
  {
   "cell_type": "code",
   "execution_count": 91,
   "id": "80f2e0b6",
   "metadata": {},
   "outputs": [
    {
     "name": "stdout",
     "output_type": "stream",
     "text": [
      "\n",
      "           1)add()\n",
      "           2)clear()\n",
      "           3)copy()\n",
      "           4)del()\n",
      "\n",
      "\n",
      "      \n",
      "Enter the option:1\n",
      "Enter a data:Mike Luke\n",
      "{1, 2, 3, 'Hello', 40, 'Mike Luke', 'HYE'}\n"
     ]
    }
   ],
   "source": [
    "l1={\"Hello\",\"HYE\",1,2,3,40}\n",
    "print('''\n",
    "           1)add()\n",
    "           2)clear()\n",
    "           3)copy()\n",
    "           4)del()\n",
    "\n",
    "\n",
    "      ''')\n",
    "opt=input(\"Enter the option:\")\n",
    "if opt==\"1\":\n",
    "    data=input(\"Enter a data:\")\n",
    "    l1.add(data)\n",
    "    print(l1)\n",
    "elif opt==\"2\":\n",
    "    l1.clear()\n",
    "    print(l1)\n",
    "elif opt==\"3\":\n",
    "    l2=l1.copy()\n",
    "    print(l2)\n",
    "elif opt==\"4\":\n",
    "    l2=list(l1)\n",
    "    index=int(input(\"Enter the index:\"))\n",
    "    del(l2[index])\n",
    "    print(l2)\n",
    "else:\n",
    "    print(\"No such option found\")"
   ]
  },
  {
   "cell_type": "code",
   "execution_count": 95,
   "id": "1f9db541",
   "metadata": {},
   "outputs": [
    {
     "name": "stdout",
     "output_type": "stream",
     "text": [
      "Options:\n",
      "1. Add\n",
      "2. Copy\n",
      "3. Delete\n",
      "4. Clear data\n",
      "Enter your choice: 2\n",
      "Backup data: {'Finn', 'Mike', 'Luke', 'Sean', 'Allen'}\n"
     ]
    }
   ],
   "source": [
    "def add_element(s):\n",
    "    ele = input(\"Enter element to add: \")\n",
    "    s.add(ele)\n",
    "    print(\"Set after adding:\", s)\n",
    "def copy_set(s):\n",
    "    backup = s.copy()\n",
    "    print(\"Backup data:\", backup)\n",
    "def clear_set(s):\n",
    "    s.clear()\n",
    "    print(\"Empty set:\", s)\n",
    "def delete_element(s):\n",
    "    l = list(s)\n",
    "    print(\"Elements:\", l)\n",
    "    ind = int(input(\"Enter index value to remove element: \"))\n",
    "    if 0 <= ind < len(l):\n",
    "        l.pop(ind)\n",
    "        s = set(l)\n",
    "        print(\"Set after deletion:\", s)\n",
    "    else:\n",
    "        print(\"Invalid index.\")\n",
    "\n",
    "if __name__ == \"__main__\":\n",
    "    s1 = {'Allen', 'Finn', 'Luke', 'Mike', 'Sean'}\n",
    "    print(\"Options:\")\n",
    "    print(\"1. Add\")\n",
    "    print(\"2. Copy\")\n",
    "    print(\"3. Delete\")\n",
    "    print(\"4. Clear data\")\n",
    "\n",
    "    choice = int(input(\"Enter your choice: \"))\n",
    "    if choice == 1:\n",
    "        add_element(s1)\n",
    "    elif choice == 2:\n",
    "        copy_set(s1)\n",
    "    elif choice == 3:\n",
    "        delete_element(s1)\n",
    "    elif choice == 4:\n",
    "        clear_set(s1)\n",
    "    else:\n",
    "        print(\"Invalid option\")"
   ]
  },
  {
   "cell_type": "markdown",
   "id": "7e364348",
   "metadata": {},
   "source": [
    "## difference()"
   ]
  },
  {
   "cell_type": "code",
   "execution_count": 5,
   "id": "71e60d7c",
   "metadata": {},
   "outputs": [],
   "source": [
    "##### difference() :\n",
    "\n",
    "   ##### it methods returns a set that contains the difference b/w two sets.\n",
    "    \n",
    "        #### only returned set contains items that exist in the first set , not in both sets.\n",
    "        \n",
    "        \n",
    "        ##### Syntax :\n",
    "        \n",
    "           ##### set_1.difference(set2,....)"
   ]
  },
  {
   "cell_type": "code",
   "execution_count": 96,
   "id": "fe0493cf",
   "metadata": {},
   "outputs": [],
   "source": [
    "k = {100,50,200,1000,2000,\"Mike\"}\n",
    "a = {100,20,10,5000,500}"
   ]
  },
  {
   "cell_type": "code",
   "execution_count": 97,
   "id": "adfed01e",
   "metadata": {},
   "outputs": [
    {
     "data": {
      "text/plain": [
       "{10, 20, 500, 5000}"
      ]
     },
     "execution_count": 97,
     "metadata": {},
     "output_type": "execute_result"
    }
   ],
   "source": [
    "a.difference(k)"
   ]
  },
  {
   "cell_type": "code",
   "execution_count": 98,
   "id": "d69056e5",
   "metadata": {},
   "outputs": [
    {
     "data": {
      "text/plain": [
       "{1000, 200, 2000, 50, 'Mike'}"
      ]
     },
     "execution_count": 98,
     "metadata": {},
     "output_type": "execute_result"
    }
   ],
   "source": [
    "k.difference(a)"
   ]
  },
  {
   "cell_type": "code",
   "execution_count": 99,
   "id": "ed7aaad9",
   "metadata": {},
   "outputs": [
    {
     "data": {
      "text/plain": [
       "{10, 20, 100, 500, 5000}"
      ]
     },
     "execution_count": 99,
     "metadata": {},
     "output_type": "execute_result"
    }
   ],
   "source": [
    "a"
   ]
  },
  {
   "cell_type": "code",
   "execution_count": 100,
   "id": "700be41e",
   "metadata": {},
   "outputs": [
    {
     "data": {
      "text/plain": [
       "{100, 1000, 200, 2000, 50, 'Mike'}"
      ]
     },
     "execution_count": 100,
     "metadata": {},
     "output_type": "execute_result"
    }
   ],
   "source": [
    "k"
   ]
  },
  {
   "cell_type": "code",
   "execution_count": 101,
   "id": "23749507",
   "metadata": {},
   "outputs": [
    {
     "data": {
      "text/plain": [
       "{20, 'Sean'}"
      ]
     },
     "execution_count": 101,
     "metadata": {},
     "output_type": "execute_result"
    }
   ],
   "source": [
    "s1 = {100,\"Mike\",20,\"Sean\"}\n",
    "s2 = {200,100,\"Mike\",\"Luke\"}\n",
    "s5 = {\"Mike\",100}\n",
    "s1.difference(s2,s5)\n",
    "## s1 <-- s2  :  20 , Sean\n",
    "## 20 , Sean <-- s5  : 20 , Sean"
   ]
  },
  {
   "cell_type": "code",
   "execution_count": 102,
   "id": "8e4cea8b",
   "metadata": {},
   "outputs": [
    {
     "data": {
      "text/plain": [
       "{100, 20, 'Mike', 'Sean'}"
      ]
     },
     "execution_count": 102,
     "metadata": {},
     "output_type": "execute_result"
    }
   ],
   "source": [
    "s1"
   ]
  },
  {
   "cell_type": "code",
   "execution_count": 104,
   "id": "f8b9bb1e",
   "metadata": {},
   "outputs": [
    {
     "data": {
      "text/plain": [
       "{'Nile'}"
      ]
     },
     "execution_count": 104,
     "metadata": {},
     "output_type": "execute_result"
    }
   ],
   "source": [
    "s1 = {100,20,\"Mike\",\"Luke\"}\n",
    "s2 = {20,55,\"Luke\",\"Peter\"}\n",
    "s3 = {100,\"Peter\",55,20,\"Finn\"}\n",
    "s4 = {56,\"Jason\"}\n",
    "s5 = {20,\"Nile\"}\n",
    "s5.difference(s1,s3,s2,s4)\n",
    "## s5 <-- s1 : \"Nile\"\n",
    "## \"Nile\" <-- s3 : \"Nile\"\n",
    "## \"Nile\" <-- s2 : \"Nile\"\n",
    "## \"Nile\" <-- s4 : \"Nile\""
   ]
  },
  {
   "cell_type": "code",
   "execution_count": 105,
   "id": "fbb668d4",
   "metadata": {},
   "outputs": [
    {
     "data": {
      "text/plain": [
       "{20, 'Nile'}"
      ]
     },
     "execution_count": 105,
     "metadata": {},
     "output_type": "execute_result"
    }
   ],
   "source": [
    "s5"
   ]
  },
  {
   "cell_type": "markdown",
   "id": "123094b0",
   "metadata": {},
   "source": [
    "## difference_update"
   ]
  },
  {
   "cell_type": "code",
   "execution_count": 106,
   "id": "fe10038f",
   "metadata": {},
   "outputs": [],
   "source": [
    "## Difference ==> Apply : Update"
   ]
  },
  {
   "cell_type": "code",
   "execution_count": 112,
   "id": "6d9de926",
   "metadata": {},
   "outputs": [
    {
     "data": {
      "text/plain": [
       "{1000, 200, 2000, 50, 'Mike'}"
      ]
     },
     "execution_count": 112,
     "metadata": {},
     "output_type": "execute_result"
    }
   ],
   "source": [
    "k"
   ]
  },
  {
   "cell_type": "code",
   "execution_count": 113,
   "id": "aac4725a",
   "metadata": {},
   "outputs": [
    {
     "data": {
      "text/plain": [
       "{10, 20, 100, 500, 5000}"
      ]
     },
     "execution_count": 113,
     "metadata": {},
     "output_type": "execute_result"
    }
   ],
   "source": [
    "a"
   ]
  },
  {
   "cell_type": "code",
   "execution_count": 114,
   "id": "309f25cf",
   "metadata": {},
   "outputs": [
    {
     "data": {
      "text/plain": [
       "{1000, 200, 2000, 50, 'Mike'}"
      ]
     },
     "execution_count": 114,
     "metadata": {},
     "output_type": "execute_result"
    }
   ],
   "source": [
    "k.difference(a)"
   ]
  },
  {
   "cell_type": "code",
   "execution_count": 115,
   "id": "4ae502d7",
   "metadata": {},
   "outputs": [
    {
     "data": {
      "text/plain": [
       "{1000, 200, 2000, 50, 'Mike'}"
      ]
     },
     "execution_count": 115,
     "metadata": {},
     "output_type": "execute_result"
    }
   ],
   "source": [
    "k"
   ]
  },
  {
   "cell_type": "code",
   "execution_count": 116,
   "id": "eec68e3e",
   "metadata": {},
   "outputs": [],
   "source": [
    "k.difference_update(a)"
   ]
  },
  {
   "cell_type": "code",
   "execution_count": 111,
   "id": "f6785f12",
   "metadata": {},
   "outputs": [
    {
     "data": {
      "text/plain": [
       "{1000, 200, 2000, 50, 'Mike'}"
      ]
     },
     "execution_count": 111,
     "metadata": {},
     "output_type": "execute_result"
    }
   ],
   "source": [
    "k ## {50, 200, 1000, 2000} ==> Update => k"
   ]
  },
  {
   "cell_type": "code",
   "execution_count": 117,
   "id": "121519b5",
   "metadata": {},
   "outputs": [
    {
     "data": {
      "text/plain": [
       "{100, 'Mike'}"
      ]
     },
     "execution_count": 117,
     "metadata": {},
     "output_type": "execute_result"
    }
   ],
   "source": [
    "s1.difference(s2,s5)"
   ]
  },
  {
   "cell_type": "code",
   "execution_count": 118,
   "id": "1cf59bc4",
   "metadata": {},
   "outputs": [
    {
     "data": {
      "text/plain": [
       "{100, 20, 'Luke', 'Mike'}"
      ]
     },
     "execution_count": 118,
     "metadata": {},
     "output_type": "execute_result"
    }
   ],
   "source": [
    "s1"
   ]
  },
  {
   "cell_type": "code",
   "execution_count": 119,
   "id": "94f43136",
   "metadata": {},
   "outputs": [],
   "source": [
    "s1.difference_update(s2,s5)"
   ]
  },
  {
   "cell_type": "code",
   "execution_count": 120,
   "id": "594fcda4",
   "metadata": {},
   "outputs": [
    {
     "data": {
      "text/plain": [
       "{100, 'Mike'}"
      ]
     },
     "execution_count": 120,
     "metadata": {},
     "output_type": "execute_result"
    }
   ],
   "source": [
    "s1"
   ]
  },
  {
   "cell_type": "markdown",
   "id": "553168a1",
   "metadata": {},
   "source": [
    "## pop()"
   ]
  },
  {
   "cell_type": "code",
   "execution_count": 17,
   "id": "d1029ab9",
   "metadata": {},
   "outputs": [],
   "source": [
    "##### pop() :\n",
    "\n",
    "   #### it is used to remove a random item or element from a set\n",
    "    \n",
    "    \n",
    "    #### Syntax :\n",
    "    \n",
    "       #####  set_name.pop()"
   ]
  },
  {
   "cell_type": "code",
   "execution_count": 121,
   "id": "2ea7f8c3",
   "metadata": {},
   "outputs": [],
   "source": [
    "s1 = {100,\"Sean\",500,\"Mike\"}"
   ]
  },
  {
   "cell_type": "code",
   "execution_count": 122,
   "id": "2c72afc8",
   "metadata": {},
   "outputs": [
    {
     "data": {
      "text/plain": [
       "{100, 500, 'Mike', 'Sean'}"
      ]
     },
     "execution_count": 122,
     "metadata": {},
     "output_type": "execute_result"
    }
   ],
   "source": [
    "s1"
   ]
  },
  {
   "cell_type": "code",
   "execution_count": 123,
   "id": "3dc3b2a6",
   "metadata": {},
   "outputs": [
    {
     "data": {
      "text/plain": [
       "'Sean'"
      ]
     },
     "execution_count": 123,
     "metadata": {},
     "output_type": "execute_result"
    }
   ],
   "source": [
    "s1.pop()"
   ]
  },
  {
   "cell_type": "code",
   "execution_count": 124,
   "id": "3c24953e",
   "metadata": {},
   "outputs": [
    {
     "data": {
      "text/plain": [
       "{100, 500, 'Mike'}"
      ]
     },
     "execution_count": 124,
     "metadata": {},
     "output_type": "execute_result"
    }
   ],
   "source": [
    "s1"
   ]
  },
  {
   "cell_type": "code",
   "execution_count": 125,
   "id": "66629ac1",
   "metadata": {},
   "outputs": [
    {
     "data": {
      "text/plain": [
       "'Mike'"
      ]
     },
     "execution_count": 125,
     "metadata": {},
     "output_type": "execute_result"
    }
   ],
   "source": [
    "s1.pop()"
   ]
  },
  {
   "cell_type": "code",
   "execution_count": 126,
   "id": "ea299277",
   "metadata": {},
   "outputs": [
    {
     "data": {
      "text/plain": [
       "{100, 500}"
      ]
     },
     "execution_count": 126,
     "metadata": {},
     "output_type": "execute_result"
    }
   ],
   "source": [
    "s1"
   ]
  },
  {
   "cell_type": "code",
   "execution_count": 127,
   "id": "2f9c349d",
   "metadata": {},
   "outputs": [
    {
     "data": {
      "text/plain": [
       "{10, 20, 100, 500, 5000}"
      ]
     },
     "execution_count": 127,
     "metadata": {},
     "output_type": "execute_result"
    }
   ],
   "source": [
    "a"
   ]
  },
  {
   "cell_type": "code",
   "execution_count": 128,
   "id": "dd4245c0",
   "metadata": {},
   "outputs": [
    {
     "data": {
      "text/plain": [
       "100"
      ]
     },
     "execution_count": 128,
     "metadata": {},
     "output_type": "execute_result"
    }
   ],
   "source": [
    "a.pop()"
   ]
  },
  {
   "cell_type": "markdown",
   "id": "d03ea39d",
   "metadata": {},
   "source": [
    "## remove() "
   ]
  },
  {
   "cell_type": "code",
   "execution_count": 29,
   "id": "3bb0b9a0",
   "metadata": {},
   "outputs": [],
   "source": [
    "##### remove() :\n",
    "\n",
    "     #### it is used to remove specified element from  a set.\n",
    "    \n",
    "     ##### if elemnt is not here in set , it will raise an error\n",
    "        \n",
    "        \n",
    "        ##### Syntax :\n",
    "        \n",
    "            ##### set_name.remove(elment)"
   ]
  },
  {
   "cell_type": "code",
   "execution_count": 129,
   "id": "d27a9b10",
   "metadata": {},
   "outputs": [],
   "source": [
    "s1 = {100,\"Sean\",500,\"Mike\"}"
   ]
  },
  {
   "cell_type": "code",
   "execution_count": 130,
   "id": "9f2586ce",
   "metadata": {},
   "outputs": [
    {
     "data": {
      "text/plain": [
       "{100, 500, 'Mike', 'Sean'}"
      ]
     },
     "execution_count": 130,
     "metadata": {},
     "output_type": "execute_result"
    }
   ],
   "source": [
    "s1"
   ]
  },
  {
   "cell_type": "code",
   "execution_count": 131,
   "id": "dfd572ae",
   "metadata": {},
   "outputs": [],
   "source": [
    "s1.remove(\"Mike\")"
   ]
  },
  {
   "cell_type": "code",
   "execution_count": 132,
   "id": "478ac6eb",
   "metadata": {},
   "outputs": [
    {
     "data": {
      "text/plain": [
       "{100, 500, 'Sean'}"
      ]
     },
     "execution_count": 132,
     "metadata": {},
     "output_type": "execute_result"
    }
   ],
   "source": [
    "s1"
   ]
  },
  {
   "cell_type": "code",
   "execution_count": 134,
   "id": "984913b6",
   "metadata": {},
   "outputs": [
    {
     "data": {
      "text/plain": [
       "{100, 500}"
      ]
     },
     "execution_count": 134,
     "metadata": {},
     "output_type": "execute_result"
    }
   ],
   "source": [
    "s1.discard(\"Sean\")"
   ]
  },
  {
   "cell_type": "code",
   "execution_count": 135,
   "id": "987cefe5",
   "metadata": {},
   "outputs": [
    {
     "data": {
      "text/plain": [
       "{100, 500}"
      ]
     },
     "execution_count": 135,
     "metadata": {},
     "output_type": "execute_result"
    }
   ],
   "source": [
    "s1"
   ]
  },
  {
   "cell_type": "code",
   "execution_count": 136,
   "id": "de9523a3",
   "metadata": {},
   "outputs": [
    {
     "ename": "KeyError",
     "evalue": "'Sean'",
     "output_type": "error",
     "traceback": [
      "\u001b[1;31m---------------------------------------------------------------------------\u001b[0m",
      "\u001b[1;31mKeyError\u001b[0m                                  Traceback (most recent call last)",
      "Input \u001b[1;32mIn [136]\u001b[0m, in \u001b[0;36m<cell line: 1>\u001b[1;34m()\u001b[0m\n\u001b[1;32m----> 1\u001b[0m \u001b[43ms1\u001b[49m\u001b[38;5;241;43m.\u001b[39;49m\u001b[43mremove\u001b[49m\u001b[43m(\u001b[49m\u001b[38;5;124;43m\"\u001b[39;49m\u001b[38;5;124;43mSean\u001b[39;49m\u001b[38;5;124;43m\"\u001b[39;49m\u001b[43m)\u001b[49m\n",
      "\u001b[1;31mKeyError\u001b[0m: 'Sean'"
     ]
    }
   ],
   "source": [
    "s1.remove(\"Sean\")"
   ]
  },
  {
   "cell_type": "code",
   "execution_count": 137,
   "id": "5c396d2d",
   "metadata": {},
   "outputs": [],
   "source": [
    "s1.discard(\"Sean\")"
   ]
  },
  {
   "cell_type": "code",
   "execution_count": 36,
   "id": "092de824",
   "metadata": {},
   "outputs": [
    {
     "data": {
      "text/plain": [
       "{500, 'Sean'}"
      ]
     },
     "execution_count": 36,
     "metadata": {},
     "output_type": "execute_result"
    }
   ],
   "source": [
    "s1"
   ]
  },
  {
   "cell_type": "code",
   "execution_count": 44,
   "id": "752047a4",
   "metadata": {},
   "outputs": [
    {
     "data": {
      "text/plain": [
       "{500, 'Sean'}"
      ]
     },
     "execution_count": 44,
     "metadata": {},
     "output_type": "execute_result"
    }
   ],
   "source": [
    "s1"
   ]
  },
  {
   "cell_type": "code",
   "execution_count": 45,
   "id": "7fccb0c7",
   "metadata": {},
   "outputs": [
    {
     "ename": "KeyError",
     "evalue": "'Mike'",
     "output_type": "error",
     "traceback": [
      "\u001b[1;31m---------------------------------------------------------------------------\u001b[0m",
      "\u001b[1;31mKeyError\u001b[0m                                  Traceback (most recent call last)",
      "Input \u001b[1;32mIn [45]\u001b[0m, in \u001b[0;36m<cell line: 1>\u001b[1;34m()\u001b[0m\n\u001b[1;32m----> 1\u001b[0m \u001b[43ms1\u001b[49m\u001b[38;5;241;43m.\u001b[39;49m\u001b[43mremove\u001b[49m\u001b[43m(\u001b[49m\u001b[38;5;124;43m\"\u001b[39;49m\u001b[38;5;124;43mMike\u001b[39;49m\u001b[38;5;124;43m\"\u001b[39;49m\u001b[43m)\u001b[49m\n",
      "\u001b[1;31mKeyError\u001b[0m: 'Mike'"
     ]
    }
   ],
   "source": [
    "s1.remove(\"Mike\")"
   ]
  },
  {
   "cell_type": "markdown",
   "id": "65464686",
   "metadata": {},
   "source": [
    "## discard()"
   ]
  },
  {
   "cell_type": "code",
   "execution_count": 37,
   "id": "841b7d89",
   "metadata": {},
   "outputs": [],
   "source": [
    "#### discard():\n",
    "\n",
    "    #### it is used to remove specified element from  a set.\n",
    "    \n",
    "     ##### if elemnt is not here in set , it will not be raise an error.."
   ]
  },
  {
   "cell_type": "code",
   "execution_count": 138,
   "id": "8fd5c9d9",
   "metadata": {},
   "outputs": [],
   "source": [
    "s1 = {100,\"Sean\",500,\"Mike\"}"
   ]
  },
  {
   "cell_type": "code",
   "execution_count": 139,
   "id": "19625969",
   "metadata": {},
   "outputs": [
    {
     "data": {
      "text/plain": [
       "{100, 500, 'Mike', 'Sean'}"
      ]
     },
     "execution_count": 139,
     "metadata": {},
     "output_type": "execute_result"
    }
   ],
   "source": [
    "s1"
   ]
  },
  {
   "cell_type": "code",
   "execution_count": 140,
   "id": "e4c17546",
   "metadata": {},
   "outputs": [],
   "source": [
    "s1.discard(\"Mike\")"
   ]
  },
  {
   "cell_type": "code",
   "execution_count": 141,
   "id": "123633bf",
   "metadata": {},
   "outputs": [
    {
     "data": {
      "text/plain": [
       "{100, 500, 'Sean'}"
      ]
     },
     "execution_count": 141,
     "metadata": {},
     "output_type": "execute_result"
    }
   ],
   "source": [
    "s1"
   ]
  },
  {
   "cell_type": "code",
   "execution_count": 142,
   "id": "216d0f53",
   "metadata": {},
   "outputs": [],
   "source": [
    "s1.discard(100)"
   ]
  },
  {
   "cell_type": "code",
   "execution_count": 143,
   "id": "7f741f95",
   "metadata": {},
   "outputs": [
    {
     "data": {
      "text/plain": [
       "{500, 'Sean'}"
      ]
     },
     "execution_count": 143,
     "metadata": {},
     "output_type": "execute_result"
    }
   ],
   "source": [
    "s1"
   ]
  },
  {
   "cell_type": "code",
   "execution_count": 46,
   "id": "aa20302a",
   "metadata": {},
   "outputs": [
    {
     "data": {
      "text/plain": [
       "{500, 'Sean'}"
      ]
     },
     "execution_count": 46,
     "metadata": {},
     "output_type": "execute_result"
    }
   ],
   "source": [
    "s1"
   ]
  },
  {
   "cell_type": "code",
   "execution_count": 47,
   "id": "ac07ef96",
   "metadata": {},
   "outputs": [],
   "source": [
    "s1.discard(\"Mike\")"
   ]
  },
  {
   "cell_type": "markdown",
   "id": "37c19fd3",
   "metadata": {},
   "source": [
    "## Create A Program With Error Or Error Free Option"
   ]
  },
  {
   "cell_type": "code",
   "execution_count": 151,
   "id": "a8342b3a",
   "metadata": {},
   "outputs": [
    {
     "name": "stdout",
     "output_type": "stream",
     "text": [
      "Enter The Data :Mike Sean Jack Luke Finn Ria Jenny\n",
      "\n",
      "Data Is : {'Finn', 'Luke', 'Ria', 'Sean', 'Jack', 'Mike', 'Jenny'}\n",
      "\n",
      "Do You Want To Remove Data With Error Or Error Free :With Error\n",
      "\n",
      "With Error..\n",
      "\n",
      "Enter Value To Remove :Jenny\n",
      "\n",
      "SuccessFully Removed.\n",
      "\n",
      "Updated Data Is : {'Finn', 'Luke', 'Ria', 'Sean', 'Jack', 'Mike'}\n"
     ]
    }
   ],
   "source": [
    "data = set(input(\"Enter The Data :\").split())\n",
    "print(\"\\nData Is :\",data)\n",
    "inp = input(\"\\nDo You Want To Remove Data With Error Or Error Free :\")\n",
    "if inp==\"With Error\":\n",
    "    print(\"\\nWith Error..\")\n",
    "    value = input(\"\\nEnter Value To Remove :\")\n",
    "    if value in data:\n",
    "        data.remove(value)\n",
    "        print(\"\\nSuccessFully Removed.\")\n",
    "        print(\"\\nUpdated Data Is :\",data)\n",
    "    else:\n",
    "        print()\n",
    "        print(value,\"Is Already Removed Or Not In Data.\")\n",
    "elif inp==\"Error Free\":\n",
    "    value = input(\"\\nEnter Value To Remove :\")\n",
    "    if value in data:\n",
    "        print(\"\\nThis Method Passes Error.\")\n",
    "        data.discard(value)\n",
    "        print(\"\\nSuccessFully Removed.\")\n",
    "        print(\"\\nUpdated Data Is :\",data)\n",
    "    else:\n",
    "        print(\"\\nPass Error..\")\n",
    "else:\n",
    "    print(\"\\nNo Method Is Here.\")"
   ]
  },
  {
   "cell_type": "code",
   "execution_count": 152,
   "id": "21c5fdaf",
   "metadata": {},
   "outputs": [
    {
     "name": "stdout",
     "output_type": "stream",
     "text": [
      "Enter The Data :With Error\n",
      "\n",
      "Data Is : {'With', 'Error'}\n",
      "\n",
      "Do You Want To Remove Data With Error Or Error Free :With Error\n",
      "\n",
      "With Error..\n",
      "\n",
      "Enter Value To Remove :10\n",
      "\n",
      "10 Is Already Removed Or Not In Data.\n"
     ]
    }
   ],
   "source": [
    "data = set(input(\"Enter The Data :\").split())\n",
    "print(\"\\nData Is :\",data)\n",
    "inp = input(\"\\nDo You Want To Remove Data With Error Or Error Free :\")\n",
    "if inp==\"With Error\":\n",
    "    print(\"\\nWith Error..\")\n",
    "    value = input(\"\\nEnter Value To Remove :\")\n",
    "    if value in data:\n",
    "        data.remove(value)\n",
    "        print(\"\\nSuccessFully Removed.\")\n",
    "        print(\"\\nUpdated Data Is :\",data)\n",
    "    else:\n",
    "        print()\n",
    "        print(value,\"Is Already Removed Or Not In Data.\")\n",
    "elif inp==\"Error Free\":\n",
    "    value = input(\"\\nEnter Value To Remove :\")\n",
    "    if value in data:\n",
    "        print(\"\\nThis Method Passes Error.\")\n",
    "        data.discard(value)\n",
    "        print(\"\\nSuccessFully Removed.\")\n",
    "        print(\"\\nUpdated Data Is :\",data)\n",
    "    else:\n",
    "        print(\"\\nPass Error..\")\n",
    "else:\n",
    "    print(\"\\nNo Method Is Here.\")"
   ]
  },
  {
   "cell_type": "code",
   "execution_count": 153,
   "id": "43071a85",
   "metadata": {},
   "outputs": [
    {
     "name": "stdout",
     "output_type": "stream",
     "text": [
      "Enter The Data :Mike Sean Jack Luke Finn Ria Jenny\n",
      "\n",
      "Data Is : {'Finn', 'Luke', 'Ria', 'Sean', 'Jack', 'Mike', 'Jenny'}\n",
      "\n",
      "Do You Want To Remove Data With Error Or Error Free :Error Free\n",
      "\n",
      "Enter Value To Remove :10\n",
      "\n",
      "Pass Error..\n"
     ]
    }
   ],
   "source": [
    "data = set(input(\"Enter The Data :\").split())\n",
    "print(\"\\nData Is :\",data)\n",
    "inp = input(\"\\nDo You Want To Remove Data With Error Or Error Free :\")\n",
    "if inp==\"With Error\":\n",
    "    print(\"\\nWith Error..\")\n",
    "    value = input(\"\\nEnter Value To Remove :\")\n",
    "    if value in data:\n",
    "        data.remove(value)\n",
    "        print(\"\\nSuccessFully Removed.\")\n",
    "        print(\"\\nUpdated Data Is :\",data)\n",
    "    else:\n",
    "        print()\n",
    "        print(value,\"Is Already Removed Or Not In Data.\")\n",
    "elif inp==\"Error Free\":\n",
    "    value = input(\"\\nEnter Value To Remove :\")\n",
    "    if value in data:\n",
    "        print(\"\\nThis Method Passes Error.\")\n",
    "        data.discard(value)\n",
    "        print(\"\\nSuccessFully Removed.\")\n",
    "        print(\"\\nUpdated Data Is :\",data)\n",
    "    else:\n",
    "        print(\"\\nPass Error..\")\n",
    "else:\n",
    "    print(\"\\nNo Method Is Here.\")"
   ]
  },
  {
   "cell_type": "markdown",
   "id": "2bc142b3",
   "metadata": {},
   "source": [
    "## intersection()"
   ]
  },
  {
   "cell_type": "code",
   "execution_count": 52,
   "id": "f2b2bf04",
   "metadata": {},
   "outputs": [],
   "source": [
    "##### intersection() :\n",
    "\n",
    "   #### it is used to get the common values from one or more than one set.\n",
    "    \n",
    "    #### this method return siminlarity values b/w two or more sets.\n",
    "    \n",
    "    #### Syntax :\n",
    "    \n",
    "        #####  set_name.initersection(set_name1,set_name2.....)"
   ]
  },
  {
   "cell_type": "code",
   "execution_count": 154,
   "id": "9312b4ad",
   "metadata": {},
   "outputs": [],
   "source": [
    "s1 = {100,\"Mike\",20,\"Sean\"}\n",
    "s2 = {200,100,\"Mike\",\"Luke\",20}\n",
    "s5 = {\"Mike\",100}"
   ]
  },
  {
   "cell_type": "code",
   "execution_count": 155,
   "id": "95360612",
   "metadata": {},
   "outputs": [
    {
     "data": {
      "text/plain": [
       "{100, 'Mike'}"
      ]
     },
     "execution_count": 155,
     "metadata": {},
     "output_type": "execute_result"
    }
   ],
   "source": [
    "s1.intersection(s2,s5)"
   ]
  },
  {
   "cell_type": "code",
   "execution_count": 156,
   "id": "104c46f1",
   "metadata": {},
   "outputs": [],
   "source": [
    "s1 = {100,\"Mike\",20,\"Sean\"}\n",
    "s2 = {200,100,\"Mike\",\"Luke\"}\n",
    "s5 = {\"Mike\",100}\n",
    "s6 = {20}"
   ]
  },
  {
   "cell_type": "code",
   "execution_count": 157,
   "id": "6b1df19b",
   "metadata": {},
   "outputs": [
    {
     "data": {
      "text/plain": [
       "set()"
      ]
     },
     "execution_count": 157,
     "metadata": {},
     "output_type": "execute_result"
    }
   ],
   "source": [
    "s1.intersection(s2,s5,s6)"
   ]
  },
  {
   "cell_type": "code",
   "execution_count": 158,
   "id": "d28b501e",
   "metadata": {},
   "outputs": [
    {
     "data": {
      "text/plain": [
       "{100, 20, 'Mike', 'Sean'}"
      ]
     },
     "execution_count": 158,
     "metadata": {},
     "output_type": "execute_result"
    }
   ],
   "source": [
    "s1"
   ]
  },
  {
   "cell_type": "markdown",
   "id": "b7939056",
   "metadata": {},
   "source": [
    "## intersetion_update()"
   ]
  },
  {
   "cell_type": "code",
   "execution_count": 58,
   "id": "b8b36812",
   "metadata": {},
   "outputs": [],
   "source": [
    "#### intersetion_update() :\n",
    "\n",
    "  #### it is used to get the common values from one or more than one set.\n",
    "    \n",
    "    #### this method return siminlarity values b/w two or more sets.\n",
    "    \n",
    "    #### at the end , update the set with updated common values...its means remove the items or element,\n",
    "     \n",
    "        \n",
    "        ###  that is not present in both sets.\n",
    "    \n",
    "     \n",
    "    \n",
    "    #### Syntax :\n",
    "    \n",
    "        #####  set_name.initersection(set_name1,set_name2.....)"
   ]
  },
  {
   "cell_type": "code",
   "execution_count": 159,
   "id": "9ca435e0",
   "metadata": {},
   "outputs": [
    {
     "data": {
      "text/plain": [
       "{100, 'Mike'}"
      ]
     },
     "execution_count": 159,
     "metadata": {},
     "output_type": "execute_result"
    }
   ],
   "source": [
    "s1.intersection(s2,s5)"
   ]
  },
  {
   "cell_type": "code",
   "execution_count": 160,
   "id": "4256216c",
   "metadata": {},
   "outputs": [
    {
     "data": {
      "text/plain": [
       "{100, 20, 'Mike', 'Sean'}"
      ]
     },
     "execution_count": 160,
     "metadata": {},
     "output_type": "execute_result"
    }
   ],
   "source": [
    "s1"
   ]
  },
  {
   "cell_type": "code",
   "execution_count": 161,
   "id": "3a49eea8",
   "metadata": {},
   "outputs": [],
   "source": [
    "s1.intersection_update(s2,s6)"
   ]
  },
  {
   "cell_type": "code",
   "execution_count": 162,
   "id": "ef3adea4",
   "metadata": {},
   "outputs": [
    {
     "data": {
      "text/plain": [
       "set()"
      ]
     },
     "execution_count": 162,
     "metadata": {},
     "output_type": "execute_result"
    }
   ],
   "source": [
    "s1"
   ]
  },
  {
   "cell_type": "markdown",
   "id": "20389d74",
   "metadata": {},
   "source": [
    "## union()"
   ]
  },
  {
   "cell_type": "code",
   "execution_count": 63,
   "id": "9775479c",
   "metadata": {},
   "outputs": [],
   "source": [
    "##### union() :\n",
    "\n",
    "   #### it return a set that contains all items from original set and all items from the specified set.\n",
    "    \n",
    "    \n",
    "    #### Synatx :\n",
    "    \n",
    "       #####  set_name.union(set_name1,set_name2.....)"
   ]
  },
  {
   "cell_type": "code",
   "execution_count": 64,
   "id": "5b7a6287",
   "metadata": {},
   "outputs": [],
   "source": [
    "s1 = {100,\"Mike\",20,\"Sean\"}\n",
    "s2 = {200,100,\"Mike\",\"Luke\"}\n",
    "s5 = {\"Mike\",100}\n",
    "s4 = {\"Jenny\"}"
   ]
  },
  {
   "cell_type": "code",
   "execution_count": 163,
   "id": "77d5d546",
   "metadata": {},
   "outputs": [],
   "source": [
    "## Unique => 100,\"Mike\",20,\"Sean\",200,Luke,Jenny"
   ]
  },
  {
   "cell_type": "code",
   "execution_count": 164,
   "id": "feab8d08",
   "metadata": {},
   "outputs": [
    {
     "name": "stdout",
     "output_type": "stream",
     "text": [
      "{'Mike', 'Luke', 100, 'Jason', 200, 56}\n"
     ]
    }
   ],
   "source": [
    "print(s1.union(s2,s4,s5))"
   ]
  },
  {
   "cell_type": "markdown",
   "id": "cb807c4c",
   "metadata": {},
   "source": [
    "## issubset()"
   ]
  },
  {
   "cell_type": "code",
   "execution_count": 165,
   "id": "77a60c69",
   "metadata": {},
   "outputs": [],
   "source": [
    "s1 = {\"Mike\",\"Jackie\"}\n",
    "s2 = {\"Mike\",\"Jackie\",100}"
   ]
  },
  {
   "cell_type": "code",
   "execution_count": 166,
   "id": "0c93c0d4",
   "metadata": {},
   "outputs": [
    {
     "data": {
      "text/plain": [
       "{'Jackie', 'Mike'}"
      ]
     },
     "execution_count": 166,
     "metadata": {},
     "output_type": "execute_result"
    }
   ],
   "source": [
    "s1"
   ]
  },
  {
   "cell_type": "code",
   "execution_count": 167,
   "id": "bc5f4a7f",
   "metadata": {},
   "outputs": [
    {
     "data": {
      "text/plain": [
       "{100, 'Jackie', 'Mike'}"
      ]
     },
     "execution_count": 167,
     "metadata": {},
     "output_type": "execute_result"
    }
   ],
   "source": [
    "s2"
   ]
  },
  {
   "cell_type": "code",
   "execution_count": 168,
   "id": "6f7ca8d2",
   "metadata": {},
   "outputs": [
    {
     "data": {
      "text/plain": [
       "True"
      ]
     },
     "execution_count": 168,
     "metadata": {},
     "output_type": "execute_result"
    }
   ],
   "source": [
    "s1.issubset(s2)"
   ]
  },
  {
   "cell_type": "code",
   "execution_count": 169,
   "id": "d8eb7411",
   "metadata": {},
   "outputs": [
    {
     "data": {
      "text/plain": [
       "False"
      ]
     },
     "execution_count": 169,
     "metadata": {},
     "output_type": "execute_result"
    }
   ],
   "source": [
    "s2.issubset(s1)"
   ]
  },
  {
   "cell_type": "markdown",
   "id": "0d9754a2",
   "metadata": {},
   "source": [
    "## issuperset()"
   ]
  },
  {
   "cell_type": "code",
   "execution_count": 170,
   "id": "980f5dc8",
   "metadata": {},
   "outputs": [
    {
     "data": {
      "text/plain": [
       "{'Jackie', 'Mike'}"
      ]
     },
     "execution_count": 170,
     "metadata": {},
     "output_type": "execute_result"
    }
   ],
   "source": [
    "s1"
   ]
  },
  {
   "cell_type": "code",
   "execution_count": 171,
   "id": "3e46a66e",
   "metadata": {},
   "outputs": [
    {
     "data": {
      "text/plain": [
       "{100, 'Jackie', 'Mike'}"
      ]
     },
     "execution_count": 171,
     "metadata": {},
     "output_type": "execute_result"
    }
   ],
   "source": [
    "s2"
   ]
  },
  {
   "cell_type": "code",
   "execution_count": 172,
   "id": "f3a83f51",
   "metadata": {},
   "outputs": [
    {
     "data": {
      "text/plain": [
       "True"
      ]
     },
     "execution_count": 172,
     "metadata": {},
     "output_type": "execute_result"
    }
   ],
   "source": [
    "s2.issuperset(s1)"
   ]
  },
  {
   "cell_type": "code",
   "execution_count": 173,
   "id": "96f7de22",
   "metadata": {},
   "outputs": [
    {
     "data": {
      "text/plain": [
       "True"
      ]
     },
     "execution_count": 173,
     "metadata": {},
     "output_type": "execute_result"
    }
   ],
   "source": [
    "s1.issuperset(s1)"
   ]
  },
  {
   "cell_type": "code",
   "execution_count": 174,
   "id": "b2c67dc3",
   "metadata": {},
   "outputs": [],
   "source": [
    "A1 = {10,500}\n",
    "B1 = {10,500}"
   ]
  },
  {
   "cell_type": "code",
   "execution_count": 175,
   "id": "e4ed2564",
   "metadata": {},
   "outputs": [
    {
     "data": {
      "text/plain": [
       "True"
      ]
     },
     "execution_count": 175,
     "metadata": {},
     "output_type": "execute_result"
    }
   ],
   "source": [
    "A1.issubset(B1)"
   ]
  },
  {
   "cell_type": "code",
   "execution_count": 176,
   "id": "0c1ae5cc",
   "metadata": {},
   "outputs": [
    {
     "data": {
      "text/plain": [
       "True"
      ]
     },
     "execution_count": 176,
     "metadata": {},
     "output_type": "execute_result"
    }
   ],
   "source": [
    "B1.issubset(A1)"
   ]
  },
  {
   "cell_type": "code",
   "execution_count": 177,
   "id": "124dec2c",
   "metadata": {},
   "outputs": [
    {
     "data": {
      "text/plain": [
       "True"
      ]
     },
     "execution_count": 177,
     "metadata": {},
     "output_type": "execute_result"
    }
   ],
   "source": [
    "A1.issuperset(B1)"
   ]
  },
  {
   "cell_type": "code",
   "execution_count": 178,
   "id": "89c1b748",
   "metadata": {},
   "outputs": [
    {
     "data": {
      "text/plain": [
       "True"
      ]
     },
     "execution_count": 178,
     "metadata": {},
     "output_type": "execute_result"
    }
   ],
   "source": [
    "B1.issuperset(A1)"
   ]
  },
  {
   "cell_type": "markdown",
   "id": "695b1581",
   "metadata": {},
   "source": [
    "## isdisjoint()"
   ]
  },
  {
   "cell_type": "code",
   "execution_count": 82,
   "id": "f853c4c1",
   "metadata": {},
   "outputs": [],
   "source": [
    "## isdisjoint() :\n",
    "\n",
    "## if Sets Are Different  --> True\n",
    "## Single Comman --> False"
   ]
  },
  {
   "cell_type": "code",
   "execution_count": 179,
   "id": "ae794f9c",
   "metadata": {},
   "outputs": [
    {
     "data": {
      "text/plain": [
       "{'Jackie', 'Mike'}"
      ]
     },
     "execution_count": 179,
     "metadata": {},
     "output_type": "execute_result"
    }
   ],
   "source": [
    "s1 "
   ]
  },
  {
   "cell_type": "code",
   "execution_count": 180,
   "id": "a8be1309",
   "metadata": {},
   "outputs": [
    {
     "data": {
      "text/plain": [
       "{100, 'Jackie', 'Mike'}"
      ]
     },
     "execution_count": 180,
     "metadata": {},
     "output_type": "execute_result"
    }
   ],
   "source": [
    "s2"
   ]
  },
  {
   "cell_type": "code",
   "execution_count": 181,
   "id": "22d304b1",
   "metadata": {},
   "outputs": [
    {
     "data": {
      "text/plain": [
       "False"
      ]
     },
     "execution_count": 181,
     "metadata": {},
     "output_type": "execute_result"
    }
   ],
   "source": [
    "s1.isdisjoint(s2)"
   ]
  },
  {
   "cell_type": "code",
   "execution_count": 182,
   "id": "fbf36b50",
   "metadata": {},
   "outputs": [],
   "source": [
    "a1 = {100,20}\n",
    "b1 = {\"Sean\",\"Mike\"}"
   ]
  },
  {
   "cell_type": "code",
   "execution_count": 87,
   "id": "71796ef4",
   "metadata": {},
   "outputs": [
    {
     "data": {
      "text/plain": [
       "{20, 100}"
      ]
     },
     "execution_count": 87,
     "metadata": {},
     "output_type": "execute_result"
    }
   ],
   "source": [
    "a1"
   ]
  },
  {
   "cell_type": "code",
   "execution_count": 88,
   "id": "ba6ec751",
   "metadata": {},
   "outputs": [
    {
     "data": {
      "text/plain": [
       "{'Mike', 'Sean'}"
      ]
     },
     "execution_count": 88,
     "metadata": {},
     "output_type": "execute_result"
    }
   ],
   "source": [
    "b1"
   ]
  },
  {
   "cell_type": "code",
   "execution_count": 183,
   "id": "2306cb60",
   "metadata": {},
   "outputs": [
    {
     "data": {
      "text/plain": [
       "True"
      ]
     },
     "execution_count": 183,
     "metadata": {},
     "output_type": "execute_result"
    }
   ],
   "source": [
    "a1.isdisjoint(b1)"
   ]
  },
  {
   "cell_type": "markdown",
   "id": "253a4511",
   "metadata": {},
   "source": [
    "## update()"
   ]
  },
  {
   "cell_type": "code",
   "execution_count": 184,
   "id": "c9673f52",
   "metadata": {},
   "outputs": [
    {
     "data": {
      "text/plain": [
       "''"
      ]
     },
     "execution_count": 184,
     "metadata": {},
     "output_type": "execute_result"
    }
   ],
   "source": [
    "'''\n",
    "## update() :\n",
    "\n",
    "             ==> This Method Update/Add Elements From Another Set Or Other Iterable.\n",
    "'''\n",
    "\"\""
   ]
  },
  {
   "cell_type": "code",
   "execution_count": 185,
   "id": "3e07beee",
   "metadata": {},
   "outputs": [],
   "source": [
    "s1 = {\"Mike\",\"Jack\"}"
   ]
  },
  {
   "cell_type": "code",
   "execution_count": 186,
   "id": "e5789b4a",
   "metadata": {},
   "outputs": [
    {
     "data": {
      "text/plain": [
       "{'Jack', 'Mike'}"
      ]
     },
     "execution_count": 186,
     "metadata": {},
     "output_type": "execute_result"
    }
   ],
   "source": [
    "s1"
   ]
  },
  {
   "cell_type": "code",
   "execution_count": 187,
   "id": "f7e9d03d",
   "metadata": {},
   "outputs": [
    {
     "data": {
      "text/plain": [
       "set"
      ]
     },
     "execution_count": 187,
     "metadata": {},
     "output_type": "execute_result"
    }
   ],
   "source": [
    "type(s1)"
   ]
  },
  {
   "cell_type": "code",
   "execution_count": 188,
   "id": "423ed4b6",
   "metadata": {},
   "outputs": [],
   "source": [
    "lst = [\"A\",\"B\"]"
   ]
  },
  {
   "cell_type": "code",
   "execution_count": 6,
   "id": "f39145aa",
   "metadata": {},
   "outputs": [
    {
     "data": {
      "text/plain": [
       "['A', 'B']"
      ]
     },
     "execution_count": 6,
     "metadata": {},
     "output_type": "execute_result"
    }
   ],
   "source": [
    "lst"
   ]
  },
  {
   "cell_type": "code",
   "execution_count": 7,
   "id": "649deeb5",
   "metadata": {},
   "outputs": [
    {
     "data": {
      "text/plain": [
       "list"
      ]
     },
     "execution_count": 7,
     "metadata": {},
     "output_type": "execute_result"
    }
   ],
   "source": [
    "type(lst)"
   ]
  },
  {
   "cell_type": "code",
   "execution_count": 189,
   "id": "f3a0a079",
   "metadata": {},
   "outputs": [],
   "source": [
    "s1.update(lst)"
   ]
  },
  {
   "cell_type": "code",
   "execution_count": 190,
   "id": "b4aaa97c",
   "metadata": {},
   "outputs": [
    {
     "data": {
      "text/plain": [
       "{'A', 'B', 'Jack', 'Mike'}"
      ]
     },
     "execution_count": 190,
     "metadata": {},
     "output_type": "execute_result"
    }
   ],
   "source": [
    "s1"
   ]
  },
  {
   "cell_type": "code",
   "execution_count": 191,
   "id": "6aca4f37",
   "metadata": {},
   "outputs": [],
   "source": [
    "s2 = {20,25}"
   ]
  },
  {
   "cell_type": "code",
   "execution_count": 192,
   "id": "e007891c",
   "metadata": {},
   "outputs": [
    {
     "data": {
      "text/plain": [
       "{20, 25}"
      ]
     },
     "execution_count": 192,
     "metadata": {},
     "output_type": "execute_result"
    }
   ],
   "source": [
    "s2"
   ]
  },
  {
   "cell_type": "code",
   "execution_count": 193,
   "id": "3d319582",
   "metadata": {},
   "outputs": [
    {
     "data": {
      "text/plain": [
       "set"
      ]
     },
     "execution_count": 193,
     "metadata": {},
     "output_type": "execute_result"
    }
   ],
   "source": [
    "type(s2)"
   ]
  },
  {
   "cell_type": "code",
   "execution_count": 194,
   "id": "e0d8244a",
   "metadata": {},
   "outputs": [],
   "source": [
    "s2.update(s1)"
   ]
  },
  {
   "cell_type": "code",
   "execution_count": 195,
   "id": "d273d1f1",
   "metadata": {},
   "outputs": [
    {
     "data": {
      "text/plain": [
       "{20, 25, 'A', 'B', 'Jack', 'Mike'}"
      ]
     },
     "execution_count": 195,
     "metadata": {},
     "output_type": "execute_result"
    }
   ],
   "source": [
    "s2"
   ]
  },
  {
   "cell_type": "markdown",
   "id": "25a220fa",
   "metadata": {},
   "source": [
    "## symmetric_difference()"
   ]
  },
  {
   "cell_type": "code",
   "execution_count": 15,
   "id": "bb0a6eda",
   "metadata": {},
   "outputs": [
    {
     "data": {
      "text/plain": [
       "''"
      ]
     },
     "execution_count": 15,
     "metadata": {},
     "output_type": "execute_result"
    }
   ],
   "source": [
    "'''\n",
    " ## symmetric_difference() :\n",
    " \n",
    "     ==> Returns A Set With Symmetric Difference of Sets.\n",
    "'''\n",
    "\"\""
   ]
  },
  {
   "cell_type": "code",
   "execution_count": 196,
   "id": "a6021dd5",
   "metadata": {},
   "outputs": [
    {
     "data": {
      "text/plain": [
       "{'A', 'B', 'Jack', 'Mike'}"
      ]
     },
     "execution_count": 196,
     "metadata": {},
     "output_type": "execute_result"
    }
   ],
   "source": [
    "s1"
   ]
  },
  {
   "cell_type": "code",
   "execution_count": 197,
   "id": "ef7d1bf8",
   "metadata": {},
   "outputs": [
    {
     "data": {
      "text/plain": [
       "{20, 25, 'A', 'B', 'Jack', 'Mike'}"
      ]
     },
     "execution_count": 197,
     "metadata": {},
     "output_type": "execute_result"
    }
   ],
   "source": [
    "s2"
   ]
  },
  {
   "cell_type": "code",
   "execution_count": 198,
   "id": "799533c7",
   "metadata": {},
   "outputs": [
    {
     "data": {
      "text/plain": [
       "{20, 25}"
      ]
     },
     "execution_count": 198,
     "metadata": {},
     "output_type": "execute_result"
    }
   ],
   "source": [
    "s1.symmetric_difference(s2)"
   ]
  },
  {
   "cell_type": "code",
   "execution_count": 199,
   "id": "70427bf5",
   "metadata": {},
   "outputs": [
    {
     "data": {
      "text/plain": [
       "{20, 25}"
      ]
     },
     "execution_count": 199,
     "metadata": {},
     "output_type": "execute_result"
    }
   ],
   "source": [
    "s2.symmetric_difference(s1)"
   ]
  },
  {
   "cell_type": "code",
   "execution_count": 200,
   "id": "dd61e6ac",
   "metadata": {},
   "outputs": [],
   "source": [
    "s5 = {True,False}"
   ]
  },
  {
   "cell_type": "code",
   "execution_count": 20,
   "id": "d142d67d",
   "metadata": {},
   "outputs": [
    {
     "data": {
      "text/plain": [
       "{False, True}"
      ]
     },
     "execution_count": 20,
     "metadata": {},
     "output_type": "execute_result"
    }
   ],
   "source": [
    "s5"
   ]
  },
  {
   "cell_type": "code",
   "execution_count": 21,
   "id": "f5d51ff5",
   "metadata": {},
   "outputs": [
    {
     "data": {
      "text/plain": [
       "set"
      ]
     },
     "execution_count": 21,
     "metadata": {},
     "output_type": "execute_result"
    }
   ],
   "source": [
    "type(s5)"
   ]
  },
  {
   "cell_type": "code",
   "execution_count": 201,
   "id": "c3c8feda",
   "metadata": {},
   "outputs": [
    {
     "ename": "TypeError",
     "evalue": "set.symmetric_difference() takes exactly one argument (2 given)",
     "output_type": "error",
     "traceback": [
      "\u001b[1;31m---------------------------------------------------------------------------\u001b[0m",
      "\u001b[1;31mTypeError\u001b[0m                                 Traceback (most recent call last)",
      "Input \u001b[1;32mIn [201]\u001b[0m, in \u001b[0;36m<cell line: 1>\u001b[1;34m()\u001b[0m\n\u001b[1;32m----> 1\u001b[0m \u001b[43ms1\u001b[49m\u001b[38;5;241;43m.\u001b[39;49m\u001b[43msymmetric_difference\u001b[49m\u001b[43m(\u001b[49m\u001b[43ms2\u001b[49m\u001b[43m,\u001b[49m\u001b[43ms5\u001b[49m\u001b[43m)\u001b[49m\n",
      "\u001b[1;31mTypeError\u001b[0m: set.symmetric_difference() takes exactly one argument (2 given)"
     ]
    }
   ],
   "source": [
    "s1.symmetric_difference(s2,s5)"
   ]
  },
  {
   "cell_type": "code",
   "execution_count": 202,
   "id": "b691a456",
   "metadata": {},
   "outputs": [
    {
     "data": {
      "text/plain": [
       "{'A', 'B', 'Jack', 'Mike'}"
      ]
     },
     "execution_count": 202,
     "metadata": {},
     "output_type": "execute_result"
    }
   ],
   "source": [
    "s1"
   ]
  },
  {
   "cell_type": "markdown",
   "id": "862e60a9",
   "metadata": {},
   "source": [
    "Note : Set.Symmetric_Difference() Takes Exactly One Argument"
   ]
  },
  {
   "cell_type": "markdown",
   "id": "5013236a",
   "metadata": {},
   "source": [
    "## symmetric_difference_update()"
   ]
  },
  {
   "cell_type": "code",
   "execution_count": 203,
   "id": "c6ef3c1c",
   "metadata": {},
   "outputs": [
    {
     "data": {
      "text/plain": [
       "{'A', 'B', 'Jack', 'Mike'}"
      ]
     },
     "execution_count": 203,
     "metadata": {},
     "output_type": "execute_result"
    }
   ],
   "source": [
    "s1"
   ]
  },
  {
   "cell_type": "code",
   "execution_count": 204,
   "id": "5990cdb5",
   "metadata": {},
   "outputs": [
    {
     "data": {
      "text/plain": [
       "{20, 25, 'A', 'B', 'Jack', 'Mike'}"
      ]
     },
     "execution_count": 204,
     "metadata": {},
     "output_type": "execute_result"
    }
   ],
   "source": [
    "s2"
   ]
  },
  {
   "cell_type": "code",
   "execution_count": 205,
   "id": "e2edb3b7",
   "metadata": {},
   "outputs": [
    {
     "data": {
      "text/plain": [
       "{20, 25}"
      ]
     },
     "execution_count": 205,
     "metadata": {},
     "output_type": "execute_result"
    }
   ],
   "source": [
    "s1.symmetric_difference(s2)"
   ]
  },
  {
   "cell_type": "code",
   "execution_count": 206,
   "id": "a9628207",
   "metadata": {},
   "outputs": [
    {
     "data": {
      "text/plain": [
       "{'A', 'B', 'Jack', 'Mike'}"
      ]
     },
     "execution_count": 206,
     "metadata": {},
     "output_type": "execute_result"
    }
   ],
   "source": [
    "s1"
   ]
  },
  {
   "cell_type": "code",
   "execution_count": 207,
   "id": "0f101c48",
   "metadata": {},
   "outputs": [],
   "source": [
    "s1.symmetric_difference_update(s2)"
   ]
  },
  {
   "cell_type": "code",
   "execution_count": 208,
   "id": "246bd218",
   "metadata": {},
   "outputs": [
    {
     "data": {
      "text/plain": [
       "{20, 25}"
      ]
     },
     "execution_count": 208,
     "metadata": {},
     "output_type": "execute_result"
    }
   ],
   "source": [
    "s1"
   ]
  },
  {
   "cell_type": "code",
   "execution_count": 209,
   "id": "6521b314",
   "metadata": {},
   "outputs": [
    {
     "data": {
      "text/plain": [
       "{20, 25}"
      ]
     },
     "execution_count": 209,
     "metadata": {},
     "output_type": "execute_result"
    }
   ],
   "source": [
    "s1"
   ]
  },
  {
   "cell_type": "code",
   "execution_count": 210,
   "id": "28f72250",
   "metadata": {},
   "outputs": [
    {
     "data": {
      "text/plain": [
       "20"
      ]
     },
     "execution_count": 210,
     "metadata": {},
     "output_type": "execute_result"
    }
   ],
   "source": [
    "s1.pop()"
   ]
  },
  {
   "cell_type": "markdown",
   "id": "0eb49307",
   "metadata": {},
   "source": [
    "#### Make A Fucntion of Set of All Methods"
   ]
  },
  {
   "cell_type": "markdown",
   "id": "aa5bbe92",
   "metadata": {},
   "source": [
    "#### Open A Text File And Remove Duplicate Value"
   ]
  },
  {
   "cell_type": "code",
   "execution_count": null,
   "id": "9c2e222a",
   "metadata": {},
   "outputs": [],
   "source": []
  }
 ],
 "metadata": {
  "kernelspec": {
   "display_name": "Python 3 (ipykernel)",
   "language": "python",
   "name": "python3"
  },
  "language_info": {
   "codemirror_mode": {
    "name": "ipython",
    "version": 3
   },
   "file_extension": ".py",
   "mimetype": "text/x-python",
   "name": "python",
   "nbconvert_exporter": "python",
   "pygments_lexer": "ipython3",
   "version": "3.9.12"
  }
 },
 "nbformat": 4,
 "nbformat_minor": 5
}

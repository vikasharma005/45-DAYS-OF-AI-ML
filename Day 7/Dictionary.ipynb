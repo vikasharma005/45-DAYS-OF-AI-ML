{
 "cells": [
  {
   "cell_type": "code",
   "execution_count": null,
   "id": "d00132d8",
   "metadata": {},
   "outputs": [],
   "source": [
    "'''\n",
    "      Dictionary ==> Data <--- Stored\n",
    "      \n",
    "      => Data : key And Value Pair\n",
    "      \n",
    "      => Key And Value Seperated By Colon\n",
    "      \n",
    "      => Key --> Mutable\n",
    "      \n",
    "         --> We Can Change The Value of Any Key.\n",
    "      \n",
    "      => It Is Used To Store Multiple Data Into Key And Value Pair.\n",
    "'''\n",
    "\"\""
   ]
  },
  {
   "attachments": {
    "image.png": {
     "image/png": "[encoded data removed]"
    }
   },
   "cell_type": "markdown",
   "id": "fe19abe0",
   "metadata": {},
   "source": [
    "![image.png](attachment:image.png)"
   ]
  },
  {
   "cell_type": "code",
   "execution_count": null,
   "id": "0e236fc6",
   "metadata": {},
   "outputs": [],
   "source": []
  },
  {
   "cell_type": "markdown",
   "id": "49547290",
   "metadata": {},
   "source": [
    "## Dictionary"
   ]
  },
  {
   "cell_type": "code",
   "execution_count": 4,
   "id": "99140ad7",
   "metadata": {},
   "outputs": [
    {
     "data": {
      "text/plain": [
       "''"
      ]
     },
     "execution_count": 4,
     "metadata": {},
     "output_type": "execute_result"
    }
   ],
   "source": [
    "'''\n",
    "  ## Dictionary :\n",
    "  \n",
    "         ==> It Is Used To Store Multiple Data Elements In Key And Value Pair.\n",
    "         \n",
    "         ==> Data Will be Stored In Key And Value Pair.\n",
    "         \n",
    "         ==> Key And Value Seperated By Colon.\n",
    "         \n",
    "           --->  Key : Value\n",
    "           \n",
    "         ==> Ordered\n",
    "         \n",
    "         ==> It Can Change The Value of Key.\n",
    "'''\n",
    "\"\""
   ]
  },
  {
   "cell_type": "markdown",
   "id": "950e9060",
   "metadata": {},
   "source": [
    "## How To Make Dictionary"
   ]
  },
  {
   "cell_type": "code",
   "execution_count": 5,
   "id": "e664990f",
   "metadata": {},
   "outputs": [],
   "source": [
    "## Use : {}"
   ]
  },
  {
   "cell_type": "markdown",
   "id": "dbd6f4cc",
   "metadata": {},
   "source": [
    "                    Syntax : {key:value,key:value,.....}"
   ]
  },
  {
   "cell_type": "code",
   "execution_count": 1,
   "id": "9ec7a312",
   "metadata": {},
   "outputs": [
    {
     "name": "stdout",
     "output_type": "stream",
     "text": [
      "Empty Dictionary Is : {} \n",
      "Type Is : <class 'dict'>\n"
     ]
    }
   ],
   "source": [
    "d1 = {}\n",
    "print(\"Empty Dictionary Is :\",d1,\"\\nType Is :\",type(d1))"
   ]
  },
  {
   "cell_type": "code",
   "execution_count": 2,
   "id": "cf97605f",
   "metadata": {},
   "outputs": [],
   "source": [
    "name = \"Mike\""
   ]
  },
  {
   "cell_type": "code",
   "execution_count": 3,
   "id": "c233816c",
   "metadata": {},
   "outputs": [
    {
     "data": {
      "text/plain": [
       "'Mike'"
      ]
     },
     "execution_count": 3,
     "metadata": {},
     "output_type": "execute_result"
    }
   ],
   "source": [
    "name"
   ]
  },
  {
   "cell_type": "code",
   "execution_count": 4,
   "id": "3fef72ee",
   "metadata": {},
   "outputs": [],
   "source": [
    "name = \"Luke\""
   ]
  },
  {
   "cell_type": "code",
   "execution_count": 5,
   "id": "c751fce1",
   "metadata": {},
   "outputs": [
    {
     "data": {
      "text/plain": [
       "'Luke'"
      ]
     },
     "execution_count": 5,
     "metadata": {},
     "output_type": "execute_result"
    }
   ],
   "source": [
    "name"
   ]
  },
  {
   "cell_type": "code",
   "execution_count": 7,
   "id": "fe5791f2",
   "metadata": {},
   "outputs": [
    {
     "data": {
      "text/plain": [
       "{'Key1': 2512, 'Key2': 5600}"
      ]
     },
     "execution_count": 7,
     "metadata": {},
     "output_type": "execute_result"
    }
   ],
   "source": [
    "value = {'Key1' : 2512,'Key2':5600}\n",
    "value"
   ]
  },
  {
   "cell_type": "code",
   "execution_count": 8,
   "id": "5d8ae1e9",
   "metadata": {},
   "outputs": [
    {
     "data": {
      "text/plain": [
       "dict"
      ]
     },
     "execution_count": 8,
     "metadata": {},
     "output_type": "execute_result"
    }
   ],
   "source": [
    "type(value)"
   ]
  },
  {
   "cell_type": "code",
   "execution_count": 9,
   "id": "f72465d5",
   "metadata": {},
   "outputs": [],
   "source": [
    "emp = {\"Name\":\"Mike\",\"Age\":20,\"City\":\"Jaipur\",\"Salary\":56000}"
   ]
  },
  {
   "cell_type": "code",
   "execution_count": 10,
   "id": "1d527134",
   "metadata": {},
   "outputs": [
    {
     "data": {
      "text/plain": [
       "{'Name': 'Mike', 'Age': 20, 'City': 'Jaipur', 'Salary': 56000}"
      ]
     },
     "execution_count": 10,
     "metadata": {},
     "output_type": "execute_result"
    }
   ],
   "source": [
    "emp"
   ]
  },
  {
   "cell_type": "markdown",
   "id": "afd7f6fd",
   "metadata": {},
   "source": [
    "## Type"
   ]
  },
  {
   "cell_type": "code",
   "execution_count": 13,
   "id": "f90c6feb",
   "metadata": {},
   "outputs": [
    {
     "data": {
      "text/plain": [
       "dict"
      ]
     },
     "execution_count": 13,
     "metadata": {},
     "output_type": "execute_result"
    }
   ],
   "source": [
    "type(emp)"
   ]
  },
  {
   "cell_type": "markdown",
   "id": "35c5e4fc",
   "metadata": {},
   "source": [
    "## Ordered"
   ]
  },
  {
   "cell_type": "code",
   "execution_count": 11,
   "id": "6f25b05a",
   "metadata": {},
   "outputs": [],
   "source": [
    "emp = {\"Name\":\"Mike\",\"Age\":20,\"City\":\"Jaipur\",\"Salary\":56000}"
   ]
  },
  {
   "cell_type": "code",
   "execution_count": 12,
   "id": "b54bc348",
   "metadata": {},
   "outputs": [
    {
     "data": {
      "text/plain": [
       "{'Name': 'Mike', 'Age': 20, 'City': 'Jaipur', 'Salary': 56000}"
      ]
     },
     "execution_count": 12,
     "metadata": {},
     "output_type": "execute_result"
    }
   ],
   "source": [
    "emp"
   ]
  },
  {
   "cell_type": "markdown",
   "id": "1ddc1058",
   "metadata": {},
   "source": [
    "## How To Get The Value of Any Key"
   ]
  },
  {
   "cell_type": "markdown",
   "id": "98007020",
   "metadata": {},
   "source": [
    "                                          Syntax : dict_name[key_name]"
   ]
  },
  {
   "cell_type": "code",
   "execution_count": 13,
   "id": "6d0a6eb8",
   "metadata": {},
   "outputs": [
    {
     "data": {
      "text/plain": [
       "{'Name': 'Mike', 'Age': 20, 'City': 'Jaipur', 'Salary': 56000}"
      ]
     },
     "execution_count": 13,
     "metadata": {},
     "output_type": "execute_result"
    }
   ],
   "source": [
    "emp"
   ]
  },
  {
   "cell_type": "code",
   "execution_count": 14,
   "id": "57162d00",
   "metadata": {},
   "outputs": [
    {
     "data": {
      "text/plain": [
       "'Mike'"
      ]
     },
     "execution_count": 14,
     "metadata": {},
     "output_type": "execute_result"
    }
   ],
   "source": [
    "emp[\"Name\"]"
   ]
  },
  {
   "cell_type": "code",
   "execution_count": 17,
   "id": "0e434ba6",
   "metadata": {},
   "outputs": [
    {
     "ename": "AttributeError",
     "evalue": "'dict' object has no attribute 'Name'",
     "output_type": "error",
     "traceback": [
      "\u001b[1;31m---------------------------------------------------------------------------\u001b[0m",
      "\u001b[1;31mAttributeError\u001b[0m                            Traceback (most recent call last)",
      "Input \u001b[1;32mIn [17]\u001b[0m, in \u001b[0;36m<cell line: 1>\u001b[1;34m()\u001b[0m\n\u001b[1;32m----> 1\u001b[0m \u001b[43memp\u001b[49m\u001b[38;5;241;43m.\u001b[39;49m\u001b[43mName\u001b[49m\n",
      "\u001b[1;31mAttributeError\u001b[0m: 'dict' object has no attribute 'Name'"
     ]
    }
   ],
   "source": [
    "emp.Name"
   ]
  },
  {
   "cell_type": "code",
   "execution_count": 19,
   "id": "625f7172",
   "metadata": {},
   "outputs": [
    {
     "data": {
      "text/plain": [
       "56000"
      ]
     },
     "execution_count": 19,
     "metadata": {},
     "output_type": "execute_result"
    }
   ],
   "source": [
    "emp[\"Salary\"]"
   ]
  },
  {
   "cell_type": "markdown",
   "id": "16007570",
   "metadata": {},
   "source": [
    "## How To Change The Value of Any Key "
   ]
  },
  {
   "cell_type": "code",
   "execution_count": 18,
   "id": "f19fa0a9",
   "metadata": {},
   "outputs": [
    {
     "data": {
      "text/plain": [
       "{'Name': 'Mike', 'Age': 20, 'City': 'Jaipur', 'Salary': 56000}"
      ]
     },
     "execution_count": 18,
     "metadata": {},
     "output_type": "execute_result"
    }
   ],
   "source": [
    "emp"
   ]
  },
  {
   "cell_type": "code",
   "execution_count": 19,
   "id": "ebf67b41",
   "metadata": {},
   "outputs": [
    {
     "data": {
      "text/plain": [
       "'Mike'"
      ]
     },
     "execution_count": 19,
     "metadata": {},
     "output_type": "execute_result"
    }
   ],
   "source": [
    "emp[\"Name\"]"
   ]
  },
  {
   "cell_type": "code",
   "execution_count": 21,
   "id": "63ef549e",
   "metadata": {},
   "outputs": [
    {
     "data": {
      "text/plain": [
       "{'Name': 'Jenny', 'Age': 20, 'City': 'Jaipur', 'Salary': 56000}"
      ]
     },
     "execution_count": 21,
     "metadata": {},
     "output_type": "execute_result"
    }
   ],
   "source": [
    "emp[\"Name\"] = \"Jenny\"\n",
    "emp"
   ]
  },
  {
   "cell_type": "code",
   "execution_count": 22,
   "id": "a95cb4ca",
   "metadata": {},
   "outputs": [
    {
     "name": "stdout",
     "output_type": "stream",
     "text": [
      "Enter The New Value :Finn Allen\n",
      "\n",
      "Updated Data Is : {'Name': 'Finn Allen', 'Age': 20, 'City': 'Jaipur', 'Salary': 56000}\n"
     ]
    }
   ],
   "source": [
    "emp[\"Name\"] = input(\"Enter The New Value :\")\n",
    "print(\"\\nUpdated Data Is :\",emp)"
   ]
  },
  {
   "cell_type": "markdown",
   "id": "05aabcdb",
   "metadata": {},
   "source": [
    "## Index ?"
   ]
  },
  {
   "cell_type": "code",
   "execution_count": 23,
   "id": "3399887e",
   "metadata": {},
   "outputs": [
    {
     "data": {
      "text/plain": [
       "{'Name': 'Finn Allen', 'Age': 20, 'City': 'Jaipur', 'Salary': 56000}"
      ]
     },
     "execution_count": 23,
     "metadata": {},
     "output_type": "execute_result"
    }
   ],
   "source": [
    "emp"
   ]
  },
  {
   "cell_type": "code",
   "execution_count": 25,
   "id": "026b81aa",
   "metadata": {},
   "outputs": [
    {
     "ename": "KeyError",
     "evalue": "0",
     "output_type": "error",
     "traceback": [
      "\u001b[1;31m---------------------------------------------------------------------------\u001b[0m",
      "\u001b[1;31mKeyError\u001b[0m                                  Traceback (most recent call last)",
      "Input \u001b[1;32mIn [25]\u001b[0m, in \u001b[0;36m<cell line: 1>\u001b[1;34m()\u001b[0m\n\u001b[1;32m----> 1\u001b[0m \u001b[43memp\u001b[49m\u001b[43m[\u001b[49m\u001b[38;5;241;43m0\u001b[39;49m\u001b[43m]\u001b[49m\n",
      "\u001b[1;31mKeyError\u001b[0m: 0"
     ]
    }
   ],
   "source": [
    "emp[0]  ## Here , 0 Check => Key"
   ]
  },
  {
   "cell_type": "markdown",
   "id": "7dd06221",
   "metadata": {},
   "source": [
    "Support : Key"
   ]
  },
  {
   "cell_type": "markdown",
   "id": "7e431725",
   "metadata": {},
   "source": [
    "## How To Make A Dictionary Using Input Function"
   ]
  },
  {
   "cell_type": "code",
   "execution_count": 33,
   "id": "126bb107",
   "metadata": {},
   "outputs": [
    {
     "name": "stdout",
     "output_type": "stream",
     "text": [
      "Enter Key Name :Name\n",
      "\n",
      "Enter The Value :Luke\n",
      "\n",
      "Enter 2nd Key Name :Project\n",
      "\n",
      "Enter The Value :NLP\n",
      "\n",
      "The Emp Data Is :\n",
      "\n",
      "{'Name': 'Luke', 'Project': 'NLP'}\n"
     ]
    }
   ],
   "source": [
    "emp = {input(\"Enter Key Name :\"):input(\"\\nEnter The Value :\"),\n",
    "      input(\"\\nEnter 2nd Key Name :\"):input(\"\\nEnter The Value :\")}\n",
    "print(\"\\nThe Emp Data Is :\")\n",
    "print()\n",
    "print(emp)"
   ]
  },
  {
   "cell_type": "code",
   "execution_count": 34,
   "id": "aa284b58",
   "metadata": {},
   "outputs": [
    {
     "data": {
      "text/plain": [
       "{'Name': 'Luke', 'Project': 'NLP'}"
      ]
     },
     "execution_count": 34,
     "metadata": {},
     "output_type": "execute_result"
    }
   ],
   "source": [
    "emp"
   ]
  },
  {
   "cell_type": "code",
   "execution_count": 35,
   "id": "b3cc6989",
   "metadata": {},
   "outputs": [],
   "source": [
    "emp[\"Birth_Year\"] = 2002"
   ]
  },
  {
   "cell_type": "code",
   "execution_count": 36,
   "id": "61dc2a4a",
   "metadata": {},
   "outputs": [
    {
     "data": {
      "text/plain": [
       "{'Name': 'Luke', 'Project': 'NLP', 'Birth_Year': 2002}"
      ]
     },
     "execution_count": 36,
     "metadata": {},
     "output_type": "execute_result"
    }
   ],
   "source": [
    "emp"
   ]
  },
  {
   "cell_type": "code",
   "execution_count": 37,
   "id": "8532db6f",
   "metadata": {},
   "outputs": [
    {
     "data": {
      "text/plain": [
       "{'Name': 'Luke', 'Project': 'NLP', 'Birth_Year': 2002, 'Age': 20}"
      ]
     },
     "execution_count": 37,
     "metadata": {},
     "output_type": "execute_result"
    }
   ],
   "source": [
    "emp[\"Age\"] = 2022 - emp[\"Birth_Year\"]\n",
    "emp"
   ]
  },
  {
   "cell_type": "markdown",
   "id": "3410077e",
   "metadata": {},
   "source": [
    "## Add New Key And Its Value Using Input Function"
   ]
  },
  {
   "cell_type": "code",
   "execution_count": 38,
   "id": "3c7d06b7",
   "metadata": {},
   "outputs": [
    {
     "name": "stdout",
     "output_type": "stream",
     "text": [
      "\n",
      "Enter The Value :100k\n",
      "Enter Key :Salary\n",
      "\n",
      "The Updated Data Is : \n",
      "\n",
      "{'Name': 'Luke', 'Project': 'NLP', 'Birth_Year': 2002, 'Age': 20, 'Salary': '100k'}\n"
     ]
    }
   ],
   "source": [
    "emp[input(\"Enter Key :\")] = input(\"\\nEnter The Value :\")\n",
    "print(\"\\nThe Updated Data Is :\",\"\\n\")\n",
    "print(emp)"
   ]
  },
  {
   "cell_type": "markdown",
   "id": "eefa4783",
   "metadata": {},
   "source": [
    "## How To Remove Key"
   ]
  },
  {
   "cell_type": "code",
   "execution_count": 39,
   "id": "e1ff1201",
   "metadata": {},
   "outputs": [
    {
     "data": {
      "text/plain": [
       "{'Name': 'Luke',\n",
       " 'Project': 'NLP',\n",
       " 'Birth_Year': 2002,\n",
       " 'Age': 20,\n",
       " 'Salary': '100k'}"
      ]
     },
     "execution_count": 39,
     "metadata": {},
     "output_type": "execute_result"
    }
   ],
   "source": [
    "emp"
   ]
  },
  {
   "cell_type": "markdown",
   "id": "75c5f112",
   "metadata": {},
   "source": [
    "## Use : del()"
   ]
  },
  {
   "cell_type": "code",
   "execution_count": 40,
   "id": "355ce5f1",
   "metadata": {},
   "outputs": [],
   "source": [
    "del(emp['Salary'])"
   ]
  },
  {
   "cell_type": "code",
   "execution_count": 41,
   "id": "b5dd5d3b",
   "metadata": {},
   "outputs": [
    {
     "data": {
      "text/plain": [
       "{'Name': 'Luke', 'Project': 'NLP', 'Birth_Year': 2002, 'Age': 20}"
      ]
     },
     "execution_count": 41,
     "metadata": {},
     "output_type": "execute_result"
    }
   ],
   "source": [
    "emp"
   ]
  },
  {
   "cell_type": "markdown",
   "id": "d883cd3f",
   "metadata": {},
   "source": [
    "## Change The value of Key , but First Check The Key Is Exist or Not"
   ]
  },
  {
   "cell_type": "code",
   "execution_count": 42,
   "id": "1679bb04",
   "metadata": {},
   "outputs": [
    {
     "data": {
      "text/plain": [
       "{'Name': 'Luke', 'Project': 'NLP', 'Birth_Year': 2002, 'Age': 20}"
      ]
     },
     "execution_count": 42,
     "metadata": {},
     "output_type": "execute_result"
    }
   ],
   "source": [
    "emp"
   ]
  },
  {
   "cell_type": "code",
   "execution_count": 43,
   "id": "72dda168",
   "metadata": {},
   "outputs": [
    {
     "name": "stdout",
     "output_type": "stream",
     "text": [
      "Enter The Key :City\n",
      "\n",
      "City Key Is Not Exist..\n"
     ]
    }
   ],
   "source": [
    "key = input(\"Enter The Key :\")\n",
    "if key in emp:\n",
    "    print(\"\\nNow You Can Change The Value ..\")\n",
    "    emp[key] = input(\"\\nEnter The New Value :\")\n",
    "    print(\"\\nThe Updated Data Is :\",\"\\n\")\n",
    "    print(emp)\n",
    "else:\n",
    "    print()\n",
    "    print(key,\"Key Is Not Exist..\")"
   ]
  },
  {
   "cell_type": "code",
   "execution_count": 44,
   "id": "6267fd1b",
   "metadata": {},
   "outputs": [
    {
     "name": "stdout",
     "output_type": "stream",
     "text": [
      "Enter The Key :Name\n",
      "\n",
      "Now You Can Change The Value ..\n",
      "\n",
      "Enter The New Value :Jenny\n",
      "\n",
      "The Updated Data Is : \n",
      "\n",
      "{'Name': 'Jenny', 'Project': 'NLP', 'Birth_Year': 2002, 'Age': 20}\n"
     ]
    }
   ],
   "source": [
    "key = input(\"Enter The Key :\")\n",
    "if key in emp:\n",
    "    print(\"\\nNow You Can Change The Value ..\")\n",
    "    emp[key] = input(\"\\nEnter The New Value :\")\n",
    "    print(\"\\nThe Updated Data Is :\",\"\\n\")\n",
    "    print(emp)\n",
    "else:\n",
    "    print()\n",
    "    print(key,\"Key Is Not Exist..\")"
   ]
  },
  {
   "cell_type": "markdown",
   "id": "83d41a07",
   "metadata": {},
   "source": [
    "## Support Duplicate Key ?"
   ]
  },
  {
   "cell_type": "code",
   "execution_count": 12,
   "id": "65e57032",
   "metadata": {},
   "outputs": [],
   "source": [
    "## It can Allow To Store Duplicate Keys , It Can Only Stored Last Inserted Key And Its Value."
   ]
  },
  {
   "cell_type": "code",
   "execution_count": 45,
   "id": "77b610d4",
   "metadata": {},
   "outputs": [],
   "source": [
    "data = {\"Name\":\"Mike\",\"Age\":20,\"Name\":\"Jenny\"}"
   ]
  },
  {
   "cell_type": "code",
   "execution_count": 46,
   "id": "475922f3",
   "metadata": {},
   "outputs": [
    {
     "data": {
      "text/plain": [
       "{'Name': 'Jenny', 'Age': 20}"
      ]
     },
     "execution_count": 46,
     "metadata": {},
     "output_type": "execute_result"
    }
   ],
   "source": [
    "data"
   ]
  },
  {
   "cell_type": "code",
   "execution_count": 47,
   "id": "b7c38515",
   "metadata": {},
   "outputs": [],
   "source": [
    "data = {\"Name\":\"Mike\",\"Age\":20,\"Name\":[\"Sean\",\"Luke\"]}"
   ]
  },
  {
   "cell_type": "code",
   "execution_count": 48,
   "id": "29d74692",
   "metadata": {},
   "outputs": [
    {
     "data": {
      "text/plain": [
       "{'Name': ['Sean', 'Luke'], 'Age': 20}"
      ]
     },
     "execution_count": 48,
     "metadata": {},
     "output_type": "execute_result"
    }
   ],
   "source": [
    "data"
   ]
  },
  {
   "cell_type": "markdown",
   "id": "b421afd8",
   "metadata": {},
   "source": [
    "## It Allow To Duplicate Values For Different Keys."
   ]
  },
  {
   "cell_type": "code",
   "execution_count": 49,
   "id": "2722ed34",
   "metadata": {},
   "outputs": [],
   "source": [
    "data1 = {\"Name\":\"Mike\",\"A\":\"Mike\"}"
   ]
  },
  {
   "cell_type": "code",
   "execution_count": 50,
   "id": "ecca8966",
   "metadata": {},
   "outputs": [
    {
     "data": {
      "text/plain": [
       "{'Name': 'Mike', 'A': 'Mike'}"
      ]
     },
     "execution_count": 50,
     "metadata": {},
     "output_type": "execute_result"
    }
   ],
   "source": [
    "data1"
   ]
  },
  {
   "cell_type": "code",
   "execution_count": 51,
   "id": "02e7ffd5",
   "metadata": {},
   "outputs": [],
   "source": [
    "data1 = {\"A\":100,\"B\":100}"
   ]
  },
  {
   "cell_type": "code",
   "execution_count": 52,
   "id": "043d7ed5",
   "metadata": {},
   "outputs": [
    {
     "data": {
      "text/plain": [
       "{'A': 100, 'B': 100}"
      ]
     },
     "execution_count": 52,
     "metadata": {},
     "output_type": "execute_result"
    }
   ],
   "source": [
    "data1"
   ]
  },
  {
   "cell_type": "code",
   "execution_count": 53,
   "id": "b6af2fd6",
   "metadata": {},
   "outputs": [
    {
     "data": {
      "text/plain": [
       "100"
      ]
     },
     "execution_count": 53,
     "metadata": {},
     "output_type": "execute_result"
    }
   ],
   "source": [
    "data1[\"A\"]"
   ]
  },
  {
   "cell_type": "code",
   "execution_count": 54,
   "id": "c6019937",
   "metadata": {},
   "outputs": [
    {
     "data": {
      "text/plain": [
       "100"
      ]
     },
     "execution_count": 54,
     "metadata": {},
     "output_type": "execute_result"
    }
   ],
   "source": [
    "data1[\"B\"]"
   ]
  },
  {
   "cell_type": "markdown",
   "id": "8e5ac8de",
   "metadata": {},
   "source": [
    "## Methods of Dictionary"
   ]
  },
  {
   "cell_type": "code",
   "execution_count": 23,
   "id": "4ffbf0c4",
   "metadata": {},
   "outputs": [
    {
     "data": {
      "text/plain": [
       "['__class__',\n",
       " '__class_getitem__',\n",
       " '__contains__',\n",
       " '__delattr__',\n",
       " '__delitem__',\n",
       " '__dir__',\n",
       " '__doc__',\n",
       " '__eq__',\n",
       " '__format__',\n",
       " '__ge__',\n",
       " '__getattribute__',\n",
       " '__getitem__',\n",
       " '__gt__',\n",
       " '__hash__',\n",
       " '__init__',\n",
       " '__init_subclass__',\n",
       " '__ior__',\n",
       " '__iter__',\n",
       " '__le__',\n",
       " '__len__',\n",
       " '__lt__',\n",
       " '__ne__',\n",
       " '__new__',\n",
       " '__or__',\n",
       " '__reduce__',\n",
       " '__reduce_ex__',\n",
       " '__repr__',\n",
       " '__reversed__',\n",
       " '__ror__',\n",
       " '__setattr__',\n",
       " '__setitem__',\n",
       " '__sizeof__',\n",
       " '__str__',\n",
       " '__subclasshook__',\n",
       " 'clear',\n",
       " 'copy',\n",
       " 'fromkeys',\n",
       " 'get',\n",
       " 'items',\n",
       " 'keys',\n",
       " 'pop',\n",
       " 'popitem',\n",
       " 'setdefault',\n",
       " 'update',\n",
       " 'values']"
      ]
     },
     "execution_count": 23,
     "metadata": {},
     "output_type": "execute_result"
    }
   ],
   "source": [
    "dir(dict)"
   ]
  },
  {
   "cell_type": "code",
   "execution_count": 24,
   "id": "43cbbad1",
   "metadata": {},
   "outputs": [
    {
     "data": {
      "text/plain": [
       "''"
      ]
     },
     "execution_count": 24,
     "metadata": {},
     "output_type": "execute_result"
    }
   ],
   "source": [
    "'''\n",
    "\n",
    " 'clear',\n",
    " 'copy',\n",
    " 'fromkeys',\n",
    " 'get',\n",
    " 'items',\n",
    " 'keys',\n",
    " 'pop',\n",
    " 'popitem',\n",
    " 'setdefault',\n",
    " 'update',\n",
    " 'values'\n",
    " \n",
    "'''\n",
    "\"\""
   ]
  },
  {
   "cell_type": "markdown",
   "id": "c40081c9",
   "metadata": {},
   "source": [
    "## clear()"
   ]
  },
  {
   "cell_type": "code",
   "execution_count": 55,
   "id": "fb80cef7",
   "metadata": {},
   "outputs": [],
   "source": [
    "## clear() :\n",
    "\n",
    "  ## It Is Used Clear The Data.\n",
    "    \n",
    "  ## It Is Used To Clear The Key and Its Value From Dictionary \n",
    "\n",
    "  ## And Make A Empty Dictionary.\n",
    "    \n",
    "    ## Syntax :   dict_name.clear"
   ]
  },
  {
   "cell_type": "code",
   "execution_count": 56,
   "id": "7cbd7a4b",
   "metadata": {},
   "outputs": [
    {
     "data": {
      "text/plain": [
       "{'A': 100, 'B': 100}"
      ]
     },
     "execution_count": 56,
     "metadata": {},
     "output_type": "execute_result"
    }
   ],
   "source": [
    "data1"
   ]
  },
  {
   "cell_type": "code",
   "execution_count": 57,
   "id": "6b9ce1a2",
   "metadata": {},
   "outputs": [
    {
     "name": "stdout",
     "output_type": "stream",
     "text": [
      "Do You Want To Make Empty Dictionary :Nope\n",
      "\n",
      "Okay !!\n"
     ]
    }
   ],
   "source": [
    "inp = input(\"Do You Want To Make Empty Dictionary :\")\n",
    "if inp==\"Yes\":\n",
    "    data1.clear()\n",
    "    print(\"\\nEmpty Dictionary Is :\",data1)\n",
    "else:\n",
    "    print(\"\\nOkay !!\")"
   ]
  },
  {
   "cell_type": "code",
   "execution_count": 58,
   "id": "a040303b",
   "metadata": {},
   "outputs": [
    {
     "data": {
      "text/plain": [
       "{'A': 100, 'B': 100}"
      ]
     },
     "execution_count": 58,
     "metadata": {},
     "output_type": "execute_result"
    }
   ],
   "source": [
    "data1"
   ]
  },
  {
   "cell_type": "code",
   "execution_count": 59,
   "id": "f3c61636",
   "metadata": {},
   "outputs": [
    {
     "name": "stdout",
     "output_type": "stream",
     "text": [
      "Do You Want To Make Empty Dictionary :Yes\n",
      "\n",
      "Empty Dictionary Is : {}\n"
     ]
    }
   ],
   "source": [
    "inp = input(\"Do You Want To Make Empty Dictionary :\")\n",
    "if inp==\"Yes\":\n",
    "    data1.clear()\n",
    "    print(\"\\nEmpty Dictionary Is :\",data1)\n",
    "else:\n",
    "    print(\"\\nOkay !!\")"
   ]
  },
  {
   "cell_type": "code",
   "execution_count": 60,
   "id": "af92242a",
   "metadata": {},
   "outputs": [
    {
     "data": {
      "text/plain": [
       "{}"
      ]
     },
     "execution_count": 60,
     "metadata": {},
     "output_type": "execute_result"
    }
   ],
   "source": [
    "data1"
   ]
  },
  {
   "cell_type": "markdown",
   "id": "a2d49538",
   "metadata": {},
   "source": [
    "## copy()"
   ]
  },
  {
   "cell_type": "code",
   "execution_count": 31,
   "id": "05326c6b",
   "metadata": {},
   "outputs": [],
   "source": [
    "## Copy() :\n",
    "\n",
    "  ## It Is Used To copy All Data of Dictionary To Another Dictionary.\n",
    "    \n",
    "    ## Syntax :\n",
    "    \n",
    "        ##    new_dict_name = pld_dict_name.copy()"
   ]
  },
  {
   "cell_type": "code",
   "execution_count": 61,
   "id": "a8509434",
   "metadata": {},
   "outputs": [
    {
     "data": {
      "text/plain": [
       "{'Name': 'Jenny', 'Project': 'NLP', 'Birth_Year': 2002, 'Age': 20}"
      ]
     },
     "execution_count": 61,
     "metadata": {},
     "output_type": "execute_result"
    }
   ],
   "source": [
    "emp"
   ]
  },
  {
   "cell_type": "code",
   "execution_count": 62,
   "id": "c865ba1c",
   "metadata": {},
   "outputs": [],
   "source": [
    "back_up = emp.copy()"
   ]
  },
  {
   "cell_type": "code",
   "execution_count": 63,
   "id": "7ed4a613",
   "metadata": {},
   "outputs": [
    {
     "name": "stdout",
     "output_type": "stream",
     "text": [
      "BackUp Data Is : {'Name': 'Jenny', 'Project': 'NLP', 'Birth_Year': 2002, 'Age': 20}\n"
     ]
    }
   ],
   "source": [
    "print(\"BackUp Data Is :\",back_up)"
   ]
  },
  {
   "cell_type": "code",
   "execution_count": 64,
   "id": "a12675fb",
   "metadata": {},
   "outputs": [
    {
     "data": {
      "text/plain": [
       "False"
      ]
     },
     "execution_count": 64,
     "metadata": {},
     "output_type": "execute_result"
    }
   ],
   "source": [
    "back_up is emp"
   ]
  },
  {
   "cell_type": "code",
   "execution_count": 65,
   "id": "622ac107",
   "metadata": {},
   "outputs": [],
   "source": [
    "emp[\"City\"] = \"Jaipur\""
   ]
  },
  {
   "cell_type": "code",
   "execution_count": 66,
   "id": "f5974617",
   "metadata": {},
   "outputs": [
    {
     "data": {
      "text/plain": [
       "{'Name': 'Jenny',\n",
       " 'Project': 'NLP',\n",
       " 'Birth_Year': 2002,\n",
       " 'Age': 20,\n",
       " 'City': 'Jaipur'}"
      ]
     },
     "execution_count": 66,
     "metadata": {},
     "output_type": "execute_result"
    }
   ],
   "source": [
    "emp"
   ]
  },
  {
   "cell_type": "code",
   "execution_count": 67,
   "id": "bf14b151",
   "metadata": {},
   "outputs": [
    {
     "data": {
      "text/plain": [
       "{'Name': 'Jenny', 'Project': 'NLP', 'Birth_Year': 2002, 'Age': 20}"
      ]
     },
     "execution_count": 67,
     "metadata": {},
     "output_type": "execute_result"
    }
   ],
   "source": [
    "back_up"
   ]
  },
  {
   "cell_type": "code",
   "execution_count": 40,
   "id": "1ff3fb6d",
   "metadata": {},
   "outputs": [],
   "source": [
    "d1 = emp"
   ]
  },
  {
   "cell_type": "code",
   "execution_count": 41,
   "id": "815c6b74",
   "metadata": {},
   "outputs": [
    {
     "data": {
      "text/plain": [
       "{'Project': 'AI TOOL', 'Price': '15K', 'Time': '20-12-2025', 'City': 'Jaipur'}"
      ]
     },
     "execution_count": 41,
     "metadata": {},
     "output_type": "execute_result"
    }
   ],
   "source": [
    "d1"
   ]
  },
  {
   "cell_type": "code",
   "execution_count": 42,
   "id": "ae194c4a",
   "metadata": {},
   "outputs": [
    {
     "data": {
      "text/plain": [
       "True"
      ]
     },
     "execution_count": 42,
     "metadata": {},
     "output_type": "execute_result"
    }
   ],
   "source": [
    "d1 is emp"
   ]
  },
  {
   "cell_type": "code",
   "execution_count": 43,
   "id": "5f4e595c",
   "metadata": {},
   "outputs": [],
   "source": [
    "d1[\"Key\"] = \"25Luke\""
   ]
  },
  {
   "cell_type": "code",
   "execution_count": 45,
   "id": "6f5b0d2c",
   "metadata": {},
   "outputs": [
    {
     "name": "stdout",
     "output_type": "stream",
     "text": [
      "{'Project': 'AI TOOL', 'Price': '15K', 'Time': '20-12-2025', 'City': 'Jaipur', 'Key': '25Luke'}\n"
     ]
    }
   ],
   "source": [
    "print(d1)"
   ]
  },
  {
   "cell_type": "code",
   "execution_count": 46,
   "id": "ab637437",
   "metadata": {},
   "outputs": [
    {
     "name": "stdout",
     "output_type": "stream",
     "text": [
      "{'Project': 'AI TOOL', 'Price': '15K', 'Time': '20-12-2025', 'City': 'Jaipur', 'Key': '25Luke'}\n"
     ]
    }
   ],
   "source": [
    "print(emp)"
   ]
  },
  {
   "cell_type": "markdown",
   "id": "4e7d5ba4",
   "metadata": {},
   "source": [
    "## How To Add A New Key In The Dictionary"
   ]
  },
  {
   "cell_type": "code",
   "execution_count": 47,
   "id": "42b54b02",
   "metadata": {},
   "outputs": [],
   "source": [
    "## Syntax :  dict_name[new_key_name] = input/value"
   ]
  },
  {
   "cell_type": "code",
   "execution_count": 48,
   "id": "43efaae7",
   "metadata": {},
   "outputs": [
    {
     "data": {
      "text/plain": [
       "{}"
      ]
     },
     "execution_count": 48,
     "metadata": {},
     "output_type": "execute_result"
    }
   ],
   "source": [
    "data1"
   ]
  },
  {
   "cell_type": "code",
   "execution_count": 49,
   "id": "d4edf577",
   "metadata": {},
   "outputs": [],
   "source": [
    "data1[\"Emp\"] = \"Jenny\""
   ]
  },
  {
   "cell_type": "code",
   "execution_count": 50,
   "id": "e715504b",
   "metadata": {},
   "outputs": [
    {
     "data": {
      "text/plain": [
       "{'Emp': 'Jenny'}"
      ]
     },
     "execution_count": 50,
     "metadata": {},
     "output_type": "execute_result"
    }
   ],
   "source": [
    "data1"
   ]
  },
  {
   "cell_type": "markdown",
   "id": "21f6a617",
   "metadata": {},
   "source": [
    "## keys()"
   ]
  },
  {
   "cell_type": "code",
   "execution_count": 68,
   "id": "77e3a8b9",
   "metadata": {},
   "outputs": [],
   "source": [
    "## keys() :\n",
    "\n",
    "  ## It Is USed To Get The All Keys Of Dict.\n",
    "    \n",
    "    ## Syntax :  dict_name.keys()"
   ]
  },
  {
   "cell_type": "code",
   "execution_count": 69,
   "id": "607282ce",
   "metadata": {},
   "outputs": [
    {
     "data": {
      "text/plain": [
       "{'Name': 'Jenny',\n",
       " 'Project': 'NLP',\n",
       " 'Birth_Year': 2002,\n",
       " 'Age': 20,\n",
       " 'City': 'Jaipur'}"
      ]
     },
     "execution_count": 69,
     "metadata": {},
     "output_type": "execute_result"
    }
   ],
   "source": [
    "emp"
   ]
  },
  {
   "cell_type": "code",
   "execution_count": 70,
   "id": "4fbc574a",
   "metadata": {},
   "outputs": [
    {
     "name": "stdout",
     "output_type": "stream",
     "text": [
      "The Keys Are : dict_keys(['Name', 'Project', 'Birth_Year', 'Age', 'City'])\n"
     ]
    }
   ],
   "source": [
    "print(\"The Keys Are :\",emp.keys())"
   ]
  },
  {
   "cell_type": "markdown",
   "id": "4638e475",
   "metadata": {},
   "source": [
    "## Values()"
   ]
  },
  {
   "cell_type": "code",
   "execution_count": 71,
   "id": "f0ed121b",
   "metadata": {},
   "outputs": [],
   "source": [
    "## values() :\n",
    "\n",
    "  ## It Is USed To Get The All Values Of Dict.\n",
    "    \n",
    "    ## Syntax :  dict_name.values()"
   ]
  },
  {
   "cell_type": "code",
   "execution_count": 72,
   "id": "e701a634",
   "metadata": {},
   "outputs": [
    {
     "name": "stdout",
     "output_type": "stream",
     "text": [
      "All The Values Are : dict_values(['Jenny', 'NLP', 2002, 20, 'Jaipur'])\n"
     ]
    }
   ],
   "source": [
    "print(\"All The Values Are :\",emp.values())"
   ]
  },
  {
   "cell_type": "markdown",
   "id": "70247662",
   "metadata": {},
   "source": [
    "## pop()"
   ]
  },
  {
   "cell_type": "code",
   "execution_count": 73,
   "id": "117952cf",
   "metadata": {},
   "outputs": [],
   "source": [
    "## pop() :\n",
    "\n",
    " ## It Is Used To Delete The Element Using Key\n",
    "    \n",
    "    ## Syntax :\n",
    "    \n",
    "                   ##   dict_name.pop(key_name)"
   ]
  },
  {
   "cell_type": "code",
   "execution_count": 75,
   "id": "1cb272cc",
   "metadata": {},
   "outputs": [
    {
     "data": {
      "text/plain": [
       "{'Name': 'Jenny',\n",
       " 'Project': 'NLP',\n",
       " 'Birth_Year': 2002,\n",
       " 'Age': 20,\n",
       " 'City': 'Jaipur'}"
      ]
     },
     "execution_count": 75,
     "metadata": {},
     "output_type": "execute_result"
    }
   ],
   "source": [
    "emp"
   ]
  },
  {
   "cell_type": "code",
   "execution_count": 77,
   "id": "a5aa49d9",
   "metadata": {},
   "outputs": [
    {
     "data": {
      "text/plain": [
       "20"
      ]
     },
     "execution_count": 77,
     "metadata": {},
     "output_type": "execute_result"
    }
   ],
   "source": [
    "emp.pop(\"Age\")"
   ]
  },
  {
   "cell_type": "code",
   "execution_count": 78,
   "id": "0651d4f5",
   "metadata": {},
   "outputs": [
    {
     "data": {
      "text/plain": [
       "{'Name': 'Jenny', 'Project': 'NLP', 'Birth_Year': 2002, 'City': 'Jaipur'}"
      ]
     },
     "execution_count": 78,
     "metadata": {},
     "output_type": "execute_result"
    }
   ],
   "source": [
    "emp"
   ]
  },
  {
   "cell_type": "code",
   "execution_count": 79,
   "id": "00e5567e",
   "metadata": {},
   "outputs": [
    {
     "name": "stdout",
     "output_type": "stream",
     "text": [
      "Enter The Key To Remove :Name\n",
      "\n",
      "Now You CAn Remove The Key.\n",
      "\n",
      "The Updated Data Is : {'Project': 'NLP', 'Birth_Year': 2002, 'City': 'Jaipur'}\n"
     ]
    }
   ],
   "source": [
    "key = input(\"Enter The Key To Remove :\")\n",
    "if key in emp:\n",
    "    print(\"\\nNow You CAn Remove The Key.\")\n",
    "    emp.pop(key)\n",
    "    print(\"\\nThe Updated Data Is :\",emp)\n",
    "else:\n",
    "    print(\"\\nKey :\",key,\"Is Not Exist Here.\")"
   ]
  },
  {
   "cell_type": "code",
   "execution_count": 80,
   "id": "2cb6864c",
   "metadata": {},
   "outputs": [
    {
     "name": "stdout",
     "output_type": "stream",
     "text": [
      "Enter The Key To Remove :Marks\n",
      "\n",
      "Key : Marks Is Not Exist Here.\n"
     ]
    }
   ],
   "source": [
    "key = input(\"Enter The Key To Remove :\")\n",
    "if key in emp:\n",
    "    print(\"\\nNow You Can Remove The Key.\")\n",
    "    emp.pop(key)\n",
    "    print(\"\\nThe Updated Data Is :\",emp)\n",
    "else:\n",
    "    print(\"\\nKey :\",key,\"Is Not Exist Here.\")"
   ]
  },
  {
   "cell_type": "code",
   "execution_count": 64,
   "id": "965c0987",
   "metadata": {},
   "outputs": [
    {
     "name": "stdout",
     "output_type": "stream",
     "text": [
      "Enter The Key To Remove :City\n",
      "\n",
      "Now You CAn Remove The Key.\n",
      "\n",
      "The Updated Data Is : {'Project': 'AI TOOL', 'Price': '15K'}\n"
     ]
    }
   ],
   "source": [
    "key = input(\"Enter The Key To Remove :\")\n",
    "if key in d1:\n",
    "    print(\"\\nNow You CAn Remove The Key.\")\n",
    "    d1.pop(key)\n",
    "    print(\"\\nThe Updated Data Is :\",d1)\n",
    "else:\n",
    "    print(\"\\nKey :\",key,\"Is Not Exist Here.\")"
   ]
  },
  {
   "cell_type": "markdown",
   "id": "f752883d",
   "metadata": {},
   "source": [
    "## popitem()"
   ]
  },
  {
   "cell_type": "code",
   "execution_count": 81,
   "id": "af74197c",
   "metadata": {},
   "outputs": [],
   "source": [
    "## popitem() :\n",
    "\n",
    " ## It Is Used To Remove Last Inserted Key And Its Value.\n",
    "    \n",
    "    ## If Dict Is Empty , It Will raise the Error.\n",
    "    \n",
    "    ## Syntax :\n",
    "    \n",
    "         ##   dict_name.popitem()"
   ]
  },
  {
   "cell_type": "code",
   "execution_count": 82,
   "id": "abe16eb3",
   "metadata": {},
   "outputs": [],
   "source": [
    "stud = {'Stud_Name': 'Jenny', 'Address': 'Jaipur', 'Marks': 595}"
   ]
  },
  {
   "cell_type": "code",
   "execution_count": 83,
   "id": "79ce0b58",
   "metadata": {},
   "outputs": [
    {
     "data": {
      "text/plain": [
       "{'Stud_Name': 'Jenny', 'Address': 'Jaipur', 'Marks': 595}"
      ]
     },
     "execution_count": 83,
     "metadata": {},
     "output_type": "execute_result"
    }
   ],
   "source": [
    "stud"
   ]
  },
  {
   "cell_type": "code",
   "execution_count": 84,
   "id": "4cf99fae",
   "metadata": {},
   "outputs": [
    {
     "data": {
      "text/plain": [
       "('Marks', 595)"
      ]
     },
     "execution_count": 84,
     "metadata": {},
     "output_type": "execute_result"
    }
   ],
   "source": [
    "stud.popitem()"
   ]
  },
  {
   "cell_type": "code",
   "execution_count": 85,
   "id": "0ff9266a",
   "metadata": {},
   "outputs": [
    {
     "data": {
      "text/plain": [
       "{'Stud_Name': 'Jenny', 'Address': 'Jaipur'}"
      ]
     },
     "execution_count": 85,
     "metadata": {},
     "output_type": "execute_result"
    }
   ],
   "source": [
    "stud"
   ]
  },
  {
   "cell_type": "code",
   "execution_count": 86,
   "id": "c6a03d58",
   "metadata": {},
   "outputs": [
    {
     "data": {
      "text/plain": [
       "('Address', 'Jaipur')"
      ]
     },
     "execution_count": 86,
     "metadata": {},
     "output_type": "execute_result"
    }
   ],
   "source": [
    "stud.popitem()"
   ]
  },
  {
   "cell_type": "code",
   "execution_count": 71,
   "id": "df853285",
   "metadata": {},
   "outputs": [
    {
     "data": {
      "text/plain": [
       "{'Stud_Name': 'Jenny'}"
      ]
     },
     "execution_count": 71,
     "metadata": {},
     "output_type": "execute_result"
    }
   ],
   "source": [
    "stud"
   ]
  },
  {
   "cell_type": "markdown",
   "id": "d08a960b",
   "metadata": {},
   "source": [
    "## items()"
   ]
  },
  {
   "cell_type": "code",
   "execution_count": 87,
   "id": "cc15d1af",
   "metadata": {},
   "outputs": [],
   "source": [
    "## items() :\n",
    "\n",
    "  ## It Is Used To Get The Key And Value .\n",
    "    \n",
    "    ## Syntax :\n",
    "    \n",
    "        ##  dict_name.items()"
   ]
  },
  {
   "cell_type": "code",
   "execution_count": 89,
   "id": "15834b5e",
   "metadata": {},
   "outputs": [],
   "source": [
    "stud = {'Stud_Name': 'Jenny', 'Address': 'Jaipur', 'Marks': 595}"
   ]
  },
  {
   "cell_type": "code",
   "execution_count": 90,
   "id": "84bcc003",
   "metadata": {},
   "outputs": [
    {
     "data": {
      "text/plain": [
       "{'Stud_Name': 'Jenny', 'Address': 'Jaipur', 'Marks': 595}"
      ]
     },
     "execution_count": 90,
     "metadata": {},
     "output_type": "execute_result"
    }
   ],
   "source": [
    "stud"
   ]
  },
  {
   "cell_type": "code",
   "execution_count": 92,
   "id": "8011c407",
   "metadata": {},
   "outputs": [
    {
     "data": {
      "text/plain": [
       "dict_items([('Stud_Name', 'Jenny'), ('Address', 'Jaipur'), ('Marks', 595)])"
      ]
     },
     "execution_count": 92,
     "metadata": {},
     "output_type": "execute_result"
    }
   ],
   "source": [
    "stud.items()"
   ]
  },
  {
   "cell_type": "markdown",
   "id": "87b768bd",
   "metadata": {},
   "source": [
    "## Update()"
   ]
  },
  {
   "cell_type": "code",
   "execution_count": 93,
   "id": "0a4b9670",
   "metadata": {},
   "outputs": [],
   "source": [
    "## update() :\n",
    "\n",
    "   ##  It Is Used To Add The Data of Dict To Other.\n",
    "    \n",
    "    ## Syntax :\n",
    "    \n",
    "         ##    data.update(dict/data)"
   ]
  },
  {
   "cell_type": "code",
   "execution_count": 94,
   "id": "07868ac5",
   "metadata": {},
   "outputs": [
    {
     "data": {
      "text/plain": [
       "{'Project': 'NLP', 'Birth_Year': 2002, 'City': 'Jaipur'}"
      ]
     },
     "execution_count": 94,
     "metadata": {},
     "output_type": "execute_result"
    }
   ],
   "source": [
    "emp"
   ]
  },
  {
   "cell_type": "code",
   "execution_count": 95,
   "id": "9d09204c",
   "metadata": {},
   "outputs": [],
   "source": [
    "d1 = {\"Salary\":\"55K\"}\n",
    "d2 = {\"Duration\":\"25 Days\"}"
   ]
  },
  {
   "cell_type": "code",
   "execution_count": 96,
   "id": "8149a7ad",
   "metadata": {},
   "outputs": [],
   "source": [
    "emp.update(d1)"
   ]
  },
  {
   "cell_type": "code",
   "execution_count": 97,
   "id": "435324b1",
   "metadata": {},
   "outputs": [
    {
     "data": {
      "text/plain": [
       "{'Project': 'NLP', 'Birth_Year': 2002, 'City': 'Jaipur', 'Salary': '55K'}"
      ]
     },
     "execution_count": 97,
     "metadata": {},
     "output_type": "execute_result"
    }
   ],
   "source": [
    "emp"
   ]
  },
  {
   "cell_type": "code",
   "execution_count": 98,
   "id": "52279040",
   "metadata": {},
   "outputs": [],
   "source": [
    "emp.update(d2)"
   ]
  },
  {
   "cell_type": "code",
   "execution_count": 99,
   "id": "d6905e52",
   "metadata": {},
   "outputs": [
    {
     "data": {
      "text/plain": [
       "{'Project': 'NLP',\n",
       " 'Birth_Year': 2002,\n",
       " 'City': 'Jaipur',\n",
       " 'Salary': '55K',\n",
       " 'Duration': '25 Days'}"
      ]
     },
     "execution_count": 99,
     "metadata": {},
     "output_type": "execute_result"
    }
   ],
   "source": [
    "emp"
   ]
  },
  {
   "cell_type": "code",
   "execution_count": 84,
   "id": "6c02b588",
   "metadata": {},
   "outputs": [],
   "source": [
    "City = \"Jaipur\""
   ]
  },
  {
   "cell_type": "code",
   "execution_count": 85,
   "id": "cdd83cef",
   "metadata": {},
   "outputs": [
    {
     "data": {
      "text/plain": [
       "'Jaipur'"
      ]
     },
     "execution_count": 85,
     "metadata": {},
     "output_type": "execute_result"
    }
   ],
   "source": [
    "City"
   ]
  },
  {
   "cell_type": "code",
   "execution_count": 86,
   "id": "7d450397",
   "metadata": {},
   "outputs": [
    {
     "ename": "ValueError",
     "evalue": "dictionary update sequence element #0 has length 1; 2 is required",
     "output_type": "error",
     "traceback": [
      "\u001b[1;31m---------------------------------------------------------------------------\u001b[0m",
      "\u001b[1;31mValueError\u001b[0m                                Traceback (most recent call last)",
      "Input \u001b[1;32mIn [86]\u001b[0m, in \u001b[0;36m<cell line: 1>\u001b[1;34m()\u001b[0m\n\u001b[1;32m----> 1\u001b[0m \u001b[43memp\u001b[49m\u001b[38;5;241;43m.\u001b[39;49m\u001b[43mupdate\u001b[49m\u001b[43m(\u001b[49m\u001b[43mCity\u001b[49m\u001b[43m)\u001b[49m\n",
      "\u001b[1;31mValueError\u001b[0m: dictionary update sequence element #0 has length 1; 2 is required"
     ]
    }
   ],
   "source": [
    "emp.update(City)"
   ]
  },
  {
   "cell_type": "code",
   "execution_count": 101,
   "id": "fd4bb541",
   "metadata": {},
   "outputs": [
    {
     "data": {
      "text/plain": [
       "{'Project': 'NLP',\n",
       " 'Birth_Year': 2002,\n",
       " 'City': 'Jaipur',\n",
       " 'Salary': '55K',\n",
       " 'Duration': '25 Days',\n",
       " 'Country': 'India'}"
      ]
     },
     "execution_count": 101,
     "metadata": {},
     "output_type": "execute_result"
    }
   ],
   "source": [
    "emp.update(Country = \"India\")\n",
    "emp"
   ]
  },
  {
   "cell_type": "code",
   "execution_count": 102,
   "id": "fb7ef9df",
   "metadata": {},
   "outputs": [],
   "source": [
    "emp.update(City = \"Jaipur\")"
   ]
  },
  {
   "cell_type": "code",
   "execution_count": 103,
   "id": "1509d827",
   "metadata": {},
   "outputs": [
    {
     "data": {
      "text/plain": [
       "{'Project': 'NLP',\n",
       " 'Birth_Year': 2002,\n",
       " 'City': 'Jaipur',\n",
       " 'Salary': '55K',\n",
       " 'Duration': '25 Days',\n",
       " 'Country': 'India'}"
      ]
     },
     "execution_count": 103,
     "metadata": {},
     "output_type": "execute_result"
    }
   ],
   "source": [
    "emp"
   ]
  },
  {
   "cell_type": "markdown",
   "id": "5ea1b8fe",
   "metadata": {},
   "source": [
    "## Give The Multiple Data Into A Single Key"
   ]
  },
  {
   "cell_type": "code",
   "execution_count": 89,
   "id": "3835be77",
   "metadata": {},
   "outputs": [
    {
     "data": {
      "text/plain": [
       "{'Salary': '55K'}"
      ]
     },
     "execution_count": 89,
     "metadata": {},
     "output_type": "execute_result"
    }
   ],
   "source": [
    "d1"
   ]
  },
  {
   "cell_type": "code",
   "execution_count": 104,
   "id": "21c7b6b2",
   "metadata": {},
   "outputs": [],
   "source": [
    "stud = {\"Name\":[\"Sean\",\"Jenny\",\"Peter\",\"Luke\",\"Finn\"],\n",
    "        \"Age\":[16,15,20,21,22]}"
   ]
  },
  {
   "cell_type": "code",
   "execution_count": 105,
   "id": "9ad2b768",
   "metadata": {},
   "outputs": [
    {
     "data": {
      "text/plain": [
       "{'Name': ['Sean', 'Jenny', 'Peter', 'Luke', 'Finn'],\n",
       " 'Age': [16, 15, 20, 21, 22]}"
      ]
     },
     "execution_count": 105,
     "metadata": {},
     "output_type": "execute_result"
    }
   ],
   "source": [
    "stud"
   ]
  },
  {
   "cell_type": "code",
   "execution_count": 107,
   "id": "00a17f5c",
   "metadata": {},
   "outputs": [
    {
     "data": {
      "text/plain": [
       "dict"
      ]
     },
     "execution_count": 107,
     "metadata": {},
     "output_type": "execute_result"
    }
   ],
   "source": [
    "type(stud)"
   ]
  },
  {
   "cell_type": "code",
   "execution_count": 108,
   "id": "d52fce85",
   "metadata": {},
   "outputs": [
    {
     "data": {
      "text/plain": [
       "['Sean', 'Jenny', 'Peter', 'Luke', 'Finn']"
      ]
     },
     "execution_count": 108,
     "metadata": {},
     "output_type": "execute_result"
    }
   ],
   "source": [
    "stud[\"Name\"]"
   ]
  },
  {
   "cell_type": "code",
   "execution_count": 109,
   "id": "a303b7bf",
   "metadata": {},
   "outputs": [
    {
     "data": {
      "text/plain": [
       "list"
      ]
     },
     "execution_count": 109,
     "metadata": {},
     "output_type": "execute_result"
    }
   ],
   "source": [
    "type(stud[\"Name\"])"
   ]
  },
  {
   "cell_type": "code",
   "execution_count": 110,
   "id": "a2f33c6b",
   "metadata": {},
   "outputs": [
    {
     "data": {
      "text/plain": [
       "'Sean'"
      ]
     },
     "execution_count": 110,
     "metadata": {},
     "output_type": "execute_result"
    }
   ],
   "source": [
    "stud[\"Name\"][0]"
   ]
  },
  {
   "attachments": {
    "image.png": {
     "image/png": "[encoded data removed]"
    }
   },
   "cell_type": "markdown",
   "id": "d1203fb5",
   "metadata": {},
   "source": [
    "![image.png](attachment:image.png)"
   ]
  },
  {
   "cell_type": "code",
   "execution_count": null,
   "id": "d9ffa488",
   "metadata": {},
   "outputs": [],
   "source": []
  }
 ],
 "metadata": {
  "kernelspec": {
   "display_name": "Python 3 (ipykernel)",
   "language": "python",
   "name": "python3"
  },
  "language_info": {
   "codemirror_mode": {
    "name": "ipython",
    "version": 3
   },
   "file_extension": ".py",
   "mimetype": "text/x-python",
   "name": "python",
   "nbconvert_exporter": "python",
   "pygments_lexer": "ipython3",
   "version": "3.9.12"
  }
 },
 "nbformat": 4,
 "nbformat_minor": 5
}

{
  "nbformat": 4,
  "nbformat_minor": 0,
  "metadata": {
    "colab": {
      "provenance": []
    },
    "kernelspec": {
      "name": "python3",
      "display_name": "Python 3"
    },
    "language_info": {
      "name": "python"
    }
  },
  "cells": [
    {
      "cell_type": "markdown",
      "source": [
        "**Input Function**"
      ],
      "metadata": {
        "id": "piHP7dpwKvhj"
      }
    },
    {
      "cell_type": "code",
      "source": [
        "num1 = input(\"Enter Num1 :\")\n",
        "num2 = input(\"\\nEnter Num2 :\")\n",
        "add = num1+num2\n",
        "print(\"\\nThis Is Result :\",add)"
      ],
      "metadata": {
        "colab": {
          "base_uri": "https://localhost:8080/"
        },
        "id": "ZNTfEuj1KwKT",
        "outputId": "fcadff0a-4f75-4bcd-b865-83b00d5495db"
      },
      "execution_count": 1,
      "outputs": [
        {
          "output_type": "stream",
          "name": "stdout",
          "text": [
            "Enter Num1 :10\n",
            "\n",
            "Enter Num2 :50\n",
            "\n",
            "This Is Result : 1050\n"
          ]
        }
      ]
    },
    {
      "cell_type": "markdown",
      "source": [
        "**Type Function**"
      ],
      "metadata": {
        "id": "qng3_o0yLK6E"
      }
    },
    {
      "cell_type": "code",
      "source": [
        "num1 = input(\"Enter Num1 :\")\n",
        "num2 = input(\"\\nEnter Num2 :\")\n",
        "add = num1+num2\n",
        "print(f\"\\nType of {num1} Is : {type(num1)}\")\n",
        "print(f\"\\nType of {num2} Is : {type(num2)}\")\n",
        "print(\"\\nThis Is Result :\",add)\n",
        "print(f\"\\nType of {add} Is : {type(add)}\")"
      ],
      "metadata": {
        "colab": {
          "base_uri": "https://localhost:8080/"
        },
        "id": "0B9m563ILFXB",
        "outputId": "05a1d4e6-52a8-4394-81c3-c9b1336baa76"
      },
      "execution_count": 7,
      "outputs": [
        {
          "output_type": "stream",
          "name": "stdout",
          "text": [
            "Enter Num1 :10\n",
            "\n",
            "Enter Num2 :50\n",
            "\n",
            "Type of 10 Is : <class 'str'>\n",
            "\n",
            "Type of 50 Is : <class 'str'>\n",
            "\n",
            "This Is Result : 1050\n",
            "\n",
            "Type of 1050 Is : <class 'str'>\n"
          ]
        }
      ]
    },
    {
      "cell_type": "markdown",
      "source": [
        "**Type Casting**"
      ],
      "metadata": {
        "id": "JvVWjkxELmQU"
      }
    },
    {
      "cell_type": "code",
      "source": [
        "Input ==> Data ==> Type Cast : Integer , Float , Complex , etc"
      ],
      "metadata": {
        "id": "acj7CGQ1LZvv"
      },
      "execution_count": null,
      "outputs": []
    },
    {
      "cell_type": "markdown",
      "source": [
        "**Input ==> Data ==> Type Cast ==> Interger**"
      ],
      "metadata": {
        "id": "HVgK9n45MPxF"
      }
    },
    {
      "cell_type": "code",
      "source": [
        "'''\n",
        "           Use : int()\n",
        "           Syntax :  int(input())\n",
        "'''\n",
        "\"\""
      ],
      "metadata": {
        "colab": {
          "base_uri": "https://localhost:8080/",
          "height": 35
        },
        "id": "i5R4e7PgLvDZ",
        "outputId": "ca45f477-55f2-4098-e82b-aa373ed2ac90"
      },
      "execution_count": 3,
      "outputs": [
        {
          "output_type": "execute_result",
          "data": {
            "text/plain": [
              "''"
            ],
            "application/vnd.google.colaboratory.intrinsic+json": {
              "type": "string"
            }
          },
          "metadata": {},
          "execution_count": 3
        }
      ]
    },
    {
      "cell_type": "code",
      "source": [
        "num1 = int(input(\"Enter 1st Num :\"))\n",
        "num2 = int(input(\"\\nEnter 2nd Num :\"))\n",
        "add = num1+num2\n",
        "print(\"\\nAdd Is :\",add)"
      ],
      "metadata": {
        "colab": {
          "base_uri": "https://localhost:8080/"
        },
        "id": "Dcn3ErxeMgxI",
        "outputId": "73468673-ceee-4942-d373-2e5dbd7ef9f1"
      },
      "execution_count": 6,
      "outputs": [
        {
          "output_type": "stream",
          "name": "stdout",
          "text": [
            "Enter 1st Num :10\n",
            "\n",
            "Enter 2nd Num :50\n",
            "\n",
            "Add Is : 60\n"
          ]
        }
      ]
    },
    {
      "cell_type": "code",
      "source": [
        "num1 = int(input(\"Enter 1st Num :\"))\n",
        "num2 = int(input(\"\\nEnter 2nd Num :\"))\n",
        "add = num1+num2\n",
        "print(\"\\nAdd Is :\",add)\n",
        "print(f\"\\nType of {num1} Is : {type(num1)}\")\n",
        "print(f\"\\nType of {num2} Is : {type(num2)}\")\n",
        "print(\"\\nThis Is Result :\",add)\n",
        "print(f\"\\nType of {add} Is : {type(add)}\")"
      ],
      "metadata": {
        "colab": {
          "base_uri": "https://localhost:8080/"
        },
        "id": "Yz16M0lMMtrq",
        "outputId": "730d8652-c249-4baf-f4ee-a70ce273ae1b"
      },
      "execution_count": 8,
      "outputs": [
        {
          "output_type": "stream",
          "name": "stdout",
          "text": [
            "Enter 1st Num :10\n",
            "\n",
            "Enter 2nd Num :50\n",
            "\n",
            "Add Is : 60\n",
            "\n",
            "Type of 10 Is : <class 'int'>\n",
            "\n",
            "Type of 50 Is : <class 'int'>\n",
            "\n",
            "This Is Result : 60\n",
            "\n",
            "Type of 60 Is : <class 'int'>\n"
          ]
        }
      ]
    },
    {
      "cell_type": "code",
      "source": [
        "name = \"Mike\"\n",
        "age = 20"
      ],
      "metadata": {
        "id": "_XqZGW6uNVGx"
      },
      "execution_count": 9,
      "outputs": []
    },
    {
      "cell_type": "code",
      "source": [
        "print(\"My Name Is :\",name)"
      ],
      "metadata": {
        "colab": {
          "base_uri": "https://localhost:8080/"
        },
        "id": "LVLXx5MyNcBy",
        "outputId": "bbd087a2-9364-470f-b91a-9965c4dd5630"
      },
      "execution_count": 11,
      "outputs": [
        {
          "output_type": "stream",
          "name": "stdout",
          "text": [
            "My Name Is : Mike\n"
          ]
        }
      ]
    },
    {
      "cell_type": "code",
      "source": [
        "print(\"My Name Is :name\")"
      ],
      "metadata": {
        "colab": {
          "base_uri": "https://localhost:8080/"
        },
        "id": "tmkBNpmlNesm",
        "outputId": "847735da-fb27-4aed-c692-3f1b7c8c043d"
      },
      "execution_count": 12,
      "outputs": [
        {
          "output_type": "stream",
          "name": "stdout",
          "text": [
            "My Name Is :name\n"
          ]
        }
      ]
    },
    {
      "cell_type": "code",
      "source": [
        "print(f\"My Name Is : {name}\")"
      ],
      "metadata": {
        "colab": {
          "base_uri": "https://localhost:8080/"
        },
        "id": "-bGOii0uNj4M",
        "outputId": "81f09263-2ded-43fb-8cd2-807bd246c69a"
      },
      "execution_count": 13,
      "outputs": [
        {
          "output_type": "stream",
          "name": "stdout",
          "text": [
            "My Name Is : Mike\n"
          ]
        }
      ]
    },
    {
      "cell_type": "code",
      "source": [
        "print(f\"{name} Is {age} Years Old..\")"
      ],
      "metadata": {
        "colab": {
          "base_uri": "https://localhost:8080/"
        },
        "id": "9RceYPGoNtZl",
        "outputId": "78d7dd9e-90ef-4658-f00b-9ea957013d1a"
      },
      "execution_count": 15,
      "outputs": [
        {
          "output_type": "stream",
          "name": "stdout",
          "text": [
            "Mike Is 20 Years Old..\n"
          ]
        }
      ]
    },
    {
      "cell_type": "markdown",
      "source": [
        "**Input ==> Data ==> Type Cast ==> Float**"
      ],
      "metadata": {
        "id": "JWx85sQnN2bz"
      }
    },
    {
      "cell_type": "code",
      "source": [
        "'''\n",
        "     Use : float()\n",
        "     Syntax : float(input())\n",
        "'''\n",
        "\"\""
      ],
      "metadata": {
        "colab": {
          "base_uri": "https://localhost:8080/",
          "height": 35
        },
        "id": "XRhHNsjPNycY",
        "outputId": "755f4429-9ac3-4504-89c3-86b8ee890ac3"
      },
      "execution_count": 16,
      "outputs": [
        {
          "output_type": "execute_result",
          "data": {
            "text/plain": [
              "''"
            ],
            "application/vnd.google.colaboratory.intrinsic+json": {
              "type": "string"
            }
          },
          "metadata": {},
          "execution_count": 16
        }
      ]
    },
    {
      "cell_type": "code",
      "source": [
        "num1 = float(input(\"Enter 1st Num :\"))\n",
        "num2 = float(input(\"\\nEnter 2nd Num :\"))\n",
        "add = num1+num2\n",
        "print(\"\\nAdd Is :\",add)\n",
        "print(f\"\\nType of {num1} Is : {type(num1)}\")\n",
        "print(f\"\\nType of {num2} Is : {type(num2)}\")\n",
        "print(\"\\nThis Is Result :\",add)\n",
        "print(f\"\\nType of {add} Is : {type(add)}\")"
      ],
      "metadata": {
        "colab": {
          "base_uri": "https://localhost:8080/"
        },
        "id": "eQ9GHgdBOBBV",
        "outputId": "3f2d18be-c5ac-474f-bf81-f3ebafda6884"
      },
      "execution_count": 17,
      "outputs": [
        {
          "output_type": "stream",
          "name": "stdout",
          "text": [
            "Enter 1st Num :25\n",
            "\n",
            "Enter 2nd Num :50.75\n",
            "\n",
            "Add Is : 75.75\n",
            "\n",
            "Type of 25.0 Is : <class 'float'>\n",
            "\n",
            "Type of 50.75 Is : <class 'float'>\n",
            "\n",
            "This Is Result : 75.75\n",
            "\n",
            "Type of 75.75 Is : <class 'float'>\n"
          ]
        }
      ]
    },
    {
      "cell_type": "markdown",
      "source": [
        "**Age Calculator**"
      ],
      "metadata": {
        "id": "LMcYKKHeOQ-2"
      }
    },
    {
      "cell_type": "code",
      "source": [
        "born_year = int(input(\"Enter Born Year :\"))\n",
        "current_year = int(input(\"\\nEnter Current Year :\"))\n",
        "cur_age = current_year - born_year\n",
        "print(\"\\nCurrent Age Is :\",cur_age)"
      ],
      "metadata": {
        "colab": {
          "base_uri": "https://localhost:8080/"
        },
        "id": "YYugNAASOI15",
        "outputId": "a98dbd4b-4aed-4843-cdfb-8f6a1cade4ff"
      },
      "execution_count": 18,
      "outputs": [
        {
          "output_type": "stream",
          "name": "stdout",
          "text": [
            "Enter Born Year :1998\n",
            "\n",
            "Enter Current Year :2022\n",
            "\n",
            "Current Age Is : 24\n"
          ]
        }
      ]
    },
    {
      "cell_type": "markdown",
      "source": [
        "**Unit Converter**"
      ],
      "metadata": {
        "id": "3ViOhWknPJbr"
      }
    },
    {
      "cell_type": "code",
      "source": [
        "km = float(input(\"Enter Value In KM :\"))\n",
        "meter = km*1000\n",
        "print(\"\\nValue In Meter Is :\",meter,\"m.\")"
      ],
      "metadata": {
        "colab": {
          "base_uri": "https://localhost:8080/"
        },
        "id": "of8R89p2PDT2",
        "outputId": "d6066bff-3ace-4f4e-fe22-8ffbbd25a787"
      },
      "execution_count": 20,
      "outputs": [
        {
          "output_type": "stream",
          "name": "stdout",
          "text": [
            "Enter Value In KM :56.75\n",
            "\n",
            "Value In Meter Is : 56750.0 m.\n"
          ]
        }
      ]
    },
    {
      "cell_type": "code",
      "source": [
        "meter = float(input(\"Enter Value In Meter :\"))\n",
        "km = meter/1000\n",
        "print(\"\\nValue In KM Is :\",km,\"KM.\")"
      ],
      "metadata": {
        "colab": {
          "base_uri": "https://localhost:8080/"
        },
        "id": "8th8ybCDPaY-",
        "outputId": "669382a7-7032-4144-d179-c94b1a925331"
      },
      "execution_count": 21,
      "outputs": [
        {
          "output_type": "stream",
          "name": "stdout",
          "text": [
            "Enter Value In Meter :567500\n",
            "\n",
            "Value In KM Is : 567.5 KM.\n"
          ]
        }
      ]
    },
    {
      "cell_type": "markdown",
      "source": [
        "**Currency Converter**"
      ],
      "metadata": {
        "id": "aSSic3UYP484"
      }
    },
    {
      "cell_type": "code",
      "source": [
        "dol1 = float(input(\"Enter Value of 1$ In ₹ :\"))\n",
        "amt = float(input(\"\\nEnter Amount of $ To Exchange In ₹ :\"))\n",
        "print(f\"\\nThe Amount In ₹ Are : {dol1*amt} ₹.\")"
      ],
      "metadata": {
        "colab": {
          "base_uri": "https://localhost:8080/"
        },
        "id": "lM69tx8vPzWh",
        "outputId": "46ffb2c1-3da0-4809-c999-dc84ece37794"
      },
      "execution_count": 22,
      "outputs": [
        {
          "output_type": "stream",
          "name": "stdout",
          "text": [
            "Enter Value of 1$ In ₹ :82.25\n",
            "\n",
            "Enter Amount of $ To Exchange In ₹ :1565.56\n",
            "\n",
            "The Amount In ₹ Are : 128767.31 ₹.\n"
          ]
        }
      ]
    },
    {
      "cell_type": "markdown",
      "source": [
        "**BMI CalCulator**"
      ],
      "metadata": {
        "id": "CLlM_D3USkZi"
      }
    },
    {
      "cell_type": "code",
      "source": [
        "weight = float(input(\"Enter Your Weight (kg): \"))\n",
        "height = float(input(\"Enter Your Height (m): \"))\n",
        "bmi = weight / (height * height)\n",
        "print(f\"\\nYour BMI Is : {bmi} Kg/m^2\")"
      ],
      "metadata": {
        "colab": {
          "base_uri": "https://localhost:8080/"
        },
        "id": "m9KjyrkUQq5o",
        "outputId": "c540a099-c32e-4a40-c31c-6b3903c51364"
      },
      "execution_count": 24,
      "outputs": [
        {
          "output_type": "stream",
          "name": "stdout",
          "text": [
            "Enter Your Weight (kg): 65\n",
            "Enter Your Height (m): 1.85\n",
            "\n",
            "Your BMI Is : 18.991964937910883 Kg/m^2\n"
          ]
        }
      ]
    },
    {
      "cell_type": "code",
      "source": [
        "div = 10/3"
      ],
      "metadata": {
        "id": "She9xdN6S24B"
      },
      "execution_count": 25,
      "outputs": []
    },
    {
      "cell_type": "code",
      "source": [
        "div"
      ],
      "metadata": {
        "colab": {
          "base_uri": "https://localhost:8080/"
        },
        "id": "ZKvpm7eUTDVg",
        "outputId": "20ce3ab2-ba5b-4d7e-d154-34d38c605f25"
      },
      "execution_count": 26,
      "outputs": [
        {
          "output_type": "execute_result",
          "data": {
            "text/plain": [
              "3.3333333333333335"
            ]
          },
          "metadata": {},
          "execution_count": 26
        }
      ]
    },
    {
      "cell_type": "markdown",
      "source": [
        "**round function**"
      ],
      "metadata": {
        "id": "f3Wmwg6eTIx_"
      }
    },
    {
      "cell_type": "code",
      "source": [
        "round(div)"
      ],
      "metadata": {
        "colab": {
          "base_uri": "https://localhost:8080/"
        },
        "id": "ZRZDj4-ITEb3",
        "outputId": "9bdf80fe-013a-48a1-a42e-eb7c9ffb5ca6"
      },
      "execution_count": 27,
      "outputs": [
        {
          "output_type": "execute_result",
          "data": {
            "text/plain": [
              "3"
            ]
          },
          "metadata": {},
          "execution_count": 27
        }
      ]
    },
    {
      "cell_type": "code",
      "source": [
        "num = 14.5555555"
      ],
      "metadata": {
        "id": "4CbsAPzdTOY4"
      },
      "execution_count": 28,
      "outputs": []
    },
    {
      "cell_type": "code",
      "source": [
        "num"
      ],
      "metadata": {
        "colab": {
          "base_uri": "https://localhost:8080/"
        },
        "id": "MqN03ENpTS8R",
        "outputId": "db2c3b7f-f410-4195-d136-848e5619c6b3"
      },
      "execution_count": 29,
      "outputs": [
        {
          "output_type": "execute_result",
          "data": {
            "text/plain": [
              "14.5555555"
            ]
          },
          "metadata": {},
          "execution_count": 29
        }
      ]
    },
    {
      "cell_type": "code",
      "source": [
        "round(num)"
      ],
      "metadata": {
        "colab": {
          "base_uri": "https://localhost:8080/"
        },
        "id": "1QUZFuYUTTuV",
        "outputId": "1fed2a94-b547-4b4b-e9bf-9a740eb2039c"
      },
      "execution_count": 30,
      "outputs": [
        {
          "output_type": "execute_result",
          "data": {
            "text/plain": [
              "15"
            ]
          },
          "metadata": {},
          "execution_count": 30
        }
      ]
    },
    {
      "cell_type": "code",
      "source": [
        "weight = float(input(\"Enter Your Weight (kg): \"))\n",
        "height = float(input(\"\\nEnter Your Height (m): \"))\n",
        "bmi = weight / (height * height)\n",
        "print(f\"\\nYour BMI Is : {round(bmi)} Kg/m^2\")"
      ],
      "metadata": {
        "colab": {
          "base_uri": "https://localhost:8080/"
        },
        "id": "4VaKA4_ATV9d",
        "outputId": "28336d67-e64e-4f51-9a4d-22d042317113"
      },
      "execution_count": 31,
      "outputs": [
        {
          "output_type": "stream",
          "name": "stdout",
          "text": [
            "Enter Your Weight (kg): 75\n",
            "\n",
            "Enter Your Height (m): 1.95\n",
            "\n",
            "Your BMI Is : 20 Kg/m^2\n"
          ]
        }
      ]
    },
    {
      "cell_type": "markdown",
      "source": [
        "**Simple_Color Module**\n",
        "\n",
        "\n",
        "***How To Use It***\n",
        "\n",
        "1.   pip install simple_colors\n",
        "2.   import simple_colors"
      ],
      "metadata": {
        "id": "Cb33oQkvTw9-"
      }
    },
    {
      "cell_type": "code",
      "source": [
        "pip install simple_colors"
      ],
      "metadata": {
        "colab": {
          "base_uri": "https://localhost:8080/"
        },
        "id": "jm7NfKRPTbwo",
        "outputId": "391149cd-3ca1-4333-8529-9923e1e97f95"
      },
      "execution_count": 32,
      "outputs": [
        {
          "output_type": "stream",
          "name": "stdout",
          "text": [
            "Collecting simple_colors\n",
            "  Downloading simple_colors-0.1.5-py3-none-any.whl (2.8 kB)\n",
            "Installing collected packages: simple_colors\n",
            "Successfully installed simple_colors-0.1.5\n"
          ]
        }
      ]
    },
    {
      "cell_type": "code",
      "source": [
        "import simple_colors as color"
      ],
      "metadata": {
        "id": "0RtxJGMeUjTy"
      },
      "execution_count": 33,
      "outputs": []
    },
    {
      "cell_type": "code",
      "source": [
        "#Syntax :  color.col_name(Data)"
      ],
      "metadata": {
        "id": "vX8vEON0UpPi"
      },
      "execution_count": 34,
      "outputs": []
    },
    {
      "cell_type": "code",
      "source": [
        "print(color.green(\"Hello Mike.\"))"
      ],
      "metadata": {
        "colab": {
          "base_uri": "https://localhost:8080/"
        },
        "id": "7pTBIxi9U5D6",
        "outputId": "a1b45e7d-4e5d-4142-9ca8-b2cf751f89f3"
      },
      "execution_count": 35,
      "outputs": [
        {
          "output_type": "stream",
          "name": "stdout",
          "text": [
            "\u001b[32mHello Mike.\u001b[0m\n"
          ]
        }
      ]
    },
    {
      "cell_type": "markdown",
      "source": [
        "**Bold Color**"
      ],
      "metadata": {
        "id": "XmTayPomVIhM"
      }
    },
    {
      "cell_type": "code",
      "source": [
        "msg = color.green(input(\"Enter Your Msg :\"),'bold')\n",
        "print(\"Msg Is :\",msg)"
      ],
      "metadata": {
        "colab": {
          "base_uri": "https://localhost:8080/"
        },
        "id": "u09e7A6pVCyD",
        "outputId": "c430ed3e-4bf3-47df-9f28-964f2b563385"
      },
      "execution_count": 36,
      "outputs": [
        {
          "output_type": "stream",
          "name": "stdout",
          "text": [
            "Enter Your Msg :Now I Am Learning File Handing.\n",
            "Msg Is : \u001b[1;32mNow I Am Learning File Handing.\u001b[0m\n"
          ]
        }
      ]
    },
    {
      "cell_type": "code",
      "source": [
        "print(color.red(\"Hello Guys !!\",'bold'))"
      ],
      "metadata": {
        "colab": {
          "base_uri": "https://localhost:8080/"
        },
        "id": "i6iqIdeSVq0b",
        "outputId": "8bfb1ac3-b00c-472e-8ba4-9f3c5eacbd85"
      },
      "execution_count": 39,
      "outputs": [
        {
          "output_type": "stream",
          "name": "stdout",
          "text": [
            "\u001b[1;31mHello Guys !!\u001b[0m\n"
          ]
        }
      ]
    },
    {
      "cell_type": "markdown",
      "source": [
        "**Underlined**"
      ],
      "metadata": {
        "id": "DJEnpMg1Vjmg"
      }
    },
    {
      "cell_type": "code",
      "source": [
        "msg = color.green(input(\"Enter Your Msg :\"),['bold','underlined'])\n",
        "print(\"Msg Is :\",msg)"
      ],
      "metadata": {
        "colab": {
          "base_uri": "https://localhost:8080/"
        },
        "id": "6uYQ78IMVcGp",
        "outputId": "700422fb-69b9-4617-e4cd-740c96e5c507"
      },
      "execution_count": 41,
      "outputs": [
        {
          "output_type": "stream",
          "name": "stdout",
          "text": [
            "Enter Your Msg ::Now I  Am Learning File Handing\n",
            "Msg Is : \u001b[1;4;32m:Now I  Am Learning File Handing\u001b[0m\n"
          ]
        }
      ]
    },
    {
      "cell_type": "code",
      "source": [
        "name = \"Luke\"\n",
        "age  = 20"
      ],
      "metadata": {
        "id": "dRsxSYvfV9Ei"
      },
      "execution_count": 42,
      "outputs": []
    },
    {
      "cell_type": "code",
      "source": [
        "print(color.green(f\"{name} Is {age} Years Old..\",'bold'))"
      ],
      "metadata": {
        "colab": {
          "base_uri": "https://localhost:8080/"
        },
        "id": "LbhxmX4cWSJG",
        "outputId": "b56facfa-f3dd-4ade-ecf2-a07068036c03"
      },
      "execution_count": 44,
      "outputs": [
        {
          "output_type": "stream",
          "name": "stdout",
          "text": [
            "\u001b[1;32mLuke Is 20 Years Old..\u001b[0m\n"
          ]
        }
      ]
    },
    {
      "cell_type": "code",
      "source": [
        "name = 'Luke'\n",
        "age = 10\n",
        "print(color.green(f\"{name}\")+\" Is \"+color.red(f\"{age}\")+\" Years Old\")"
      ],
      "metadata": {
        "colab": {
          "base_uri": "https://localhost:8080/"
        },
        "id": "lXAGjgzRWbJ4",
        "outputId": "7e76b4d2-621e-43e3-be41-51cf248a8332"
      },
      "execution_count": 46,
      "outputs": [
        {
          "output_type": "stream",
          "name": "stdout",
          "text": [
            "\u001b[32mLuke\u001b[0m Is \u001b[31m10\u001b[0m Years Old\n"
          ]
        }
      ]
    },
    {
      "cell_type": "markdown",
      "source": [
        "Question : **How To Make Table**"
      ],
      "metadata": {
        "id": "AhMut-cuYKYg"
      }
    },
    {
      "cell_type": "code",
      "source": [
        "'''\n",
        "     Use => Pandas\n",
        "\n",
        "     ## Step 1  :  import pandas as pd\n",
        "     ## Step 2  :  Use ==> Pandas => Method => DataFrame\n",
        "'''\n",
        "\"\""
      ],
      "metadata": {
        "colab": {
          "base_uri": "https://localhost:8080/",
          "height": 35
        },
        "id": "utyCl7uFXb4W",
        "outputId": "c5e36dbd-d807-42b1-82ea-627d2e7aff21"
      },
      "execution_count": 47,
      "outputs": [
        {
          "output_type": "execute_result",
          "data": {
            "text/plain": [
              "''"
            ],
            "application/vnd.google.colaboratory.intrinsic+json": {
              "type": "string"
            }
          },
          "metadata": {},
          "execution_count": 47
        }
      ]
    },
    {
      "cell_type": "markdown",
      "source": [
        "**Syntax :**"
      ],
      "metadata": {
        "id": "4dWOG5mSYnOX"
      }
    },
    {
      "cell_type": "markdown",
      "source": [
        "***pd.DataFrame({Key :Values,....})***"
      ],
      "metadata": {
        "id": "lh5k2_ijYzKl"
      }
    },
    {
      "cell_type": "code",
      "source": [
        "'''\n",
        "        Table => Rows And Cols\n",
        "\n",
        "        Here,\n",
        "                   Key    => Column/Attribute\n",
        "                   Values => Rows\n",
        "'''\n",
        "\"\""
      ],
      "metadata": {
        "colab": {
          "base_uri": "https://localhost:8080/",
          "height": 35
        },
        "id": "8QTa7vC3YjuW",
        "outputId": "de8ff2d6-7e6f-4398-98a5-a30595629974"
      },
      "execution_count": 49,
      "outputs": [
        {
          "output_type": "execute_result",
          "data": {
            "text/plain": [
              "''"
            ],
            "application/vnd.google.colaboratory.intrinsic+json": {
              "type": "string"
            }
          },
          "metadata": {},
          "execution_count": 49
        }
      ]
    },
    {
      "cell_type": "code",
      "source": [
        "import pandas as pd"
      ],
      "metadata": {
        "id": "pGuPOugFZDw1"
      },
      "execution_count": 50,
      "outputs": []
    },
    {
      "cell_type": "code",
      "source": [
        "l1 = [\"Mike\",\"Jack\"]\n",
        "l2 = [\"Jaipur\",\"Delhi\"]\n",
        "l3 = [15,16]\n",
        "l4 = [560,595]"
      ],
      "metadata": {
        "id": "6GTt3m6UZGzm"
      },
      "execution_count": 51,
      "outputs": []
    },
    {
      "cell_type": "code",
      "source": [
        "stud = pd.DataFrame({\"Name\":l1,\"City\":l2,\"Age\":l3,\"Marks\":l4})\n",
        "stud"
      ],
      "metadata": {
        "colab": {
          "base_uri": "https://localhost:8080/",
          "height": 112
        },
        "id": "f4gR9aj3ZQ9B",
        "outputId": "bf16ece0-543a-4381-dd58-c48f32addc96"
      },
      "execution_count": 52,
      "outputs": [
        {
          "output_type": "execute_result",
          "data": {
            "text/plain": [
              "   Name    City  Age  Marks\n",
              "0  Mike  Jaipur   15    560\n",
              "1  Jack   Delhi   16    595"
            ],
            "text/html": [
              "\n",
              "\n",
              "  <div id=\"df-f7f89bc8-b8e3-41b7-87cf-99e1c20159dc\">\n",
              "    <div class=\"colab-df-container\">\n",
              "      <div>\n",
              "<style scoped>\n",
              "    .dataframe tbody tr th:only-of-type {\n",
              "        vertical-align: middle;\n",
              "    }\n",
              "\n",
              "    .dataframe tbody tr th {\n",
              "        vertical-align: top;\n",
              "    }\n",
              "\n",
              "    .dataframe thead th {\n",
              "        text-align: right;\n",
              "    }\n",
              "</style>\n",
              "<table border=\"1\" class=\"dataframe\">\n",
              "  <thead>\n",
              "    <tr style=\"text-align: right;\">\n",
              "      <th></th>\n",
              "      <th>Name</th>\n",
              "      <th>City</th>\n",
              "      <th>Age</th>\n",
              "      <th>Marks</th>\n",
              "    </tr>\n",
              "  </thead>\n",
              "  <tbody>\n",
              "    <tr>\n",
              "      <th>0</th>\n",
              "      <td>Mike</td>\n",
              "      <td>Jaipur</td>\n",
              "      <td>15</td>\n",
              "      <td>560</td>\n",
              "    </tr>\n",
              "    <tr>\n",
              "      <th>1</th>\n",
              "      <td>Jack</td>\n",
              "      <td>Delhi</td>\n",
              "      <td>16</td>\n",
              "      <td>595</td>\n",
              "    </tr>\n",
              "  </tbody>\n",
              "</table>\n",
              "</div>\n",
              "      <button class=\"colab-df-convert\" onclick=\"convertToInteractive('df-f7f89bc8-b8e3-41b7-87cf-99e1c20159dc')\"\n",
              "              title=\"Convert this dataframe to an interactive table.\"\n",
              "              style=\"display:none;\">\n",
              "\n",
              "  <svg xmlns=\"http://www.w3.org/2000/svg\" height=\"24px\"viewBox=\"0 0 24 24\"\n",
              "       width=\"24px\">\n",
              "    <path d=\"M0 0h24v24H0V0z\" fill=\"none\"/>\n",
              "    <path d=\"M18.56 5.44l.94 2.06.94-2.06 2.06-.94-2.06-.94-.94-2.06-.94 2.06-2.06.94zm-11 1L8.5 8.5l.94-2.06 2.06-.94-2.06-.94L8.5 2.5l-.94 2.06-2.06.94zm10 10l.94 2.06.94-2.06 2.06-.94-2.06-.94-.94-2.06-.94 2.06-2.06.94z\"/><path d=\"M17.41 7.96l-1.37-1.37c-.4-.4-.92-.59-1.43-.59-.52 0-1.04.2-1.43.59L10.3 9.45l-7.72 7.72c-.78.78-.78 2.05 0 2.83L4 21.41c.39.39.9.59 1.41.59.51 0 1.02-.2 1.41-.59l7.78-7.78 2.81-2.81c.8-.78.8-2.07 0-2.86zM5.41 20L4 18.59l7.72-7.72 1.47 1.35L5.41 20z\"/>\n",
              "  </svg>\n",
              "      </button>\n",
              "\n",
              "\n",
              "\n",
              "    <div id=\"df-05d08943-85a1-45c2-b0df-451f9ef0e7d8\">\n",
              "      <button class=\"colab-df-quickchart\" onclick=\"quickchart('df-05d08943-85a1-45c2-b0df-451f9ef0e7d8')\"\n",
              "              title=\"Suggest charts.\"\n",
              "              style=\"display:none;\">\n",
              "\n",
              "<svg xmlns=\"http://www.w3.org/2000/svg\" height=\"24px\"viewBox=\"0 0 24 24\"\n",
              "     width=\"24px\">\n",
              "    <g>\n",
              "        <path d=\"M19 3H5c-1.1 0-2 .9-2 2v14c0 1.1.9 2 2 2h14c1.1 0 2-.9 2-2V5c0-1.1-.9-2-2-2zM9 17H7v-7h2v7zm4 0h-2V7h2v10zm4 0h-2v-4h2v4z\"/>\n",
              "    </g>\n",
              "</svg>\n",
              "      </button>\n",
              "    </div>\n",
              "\n",
              "<style>\n",
              "  .colab-df-quickchart {\n",
              "    background-color: #E8F0FE;\n",
              "    border: none;\n",
              "    border-radius: 50%;\n",
              "    cursor: pointer;\n",
              "    display: none;\n",
              "    fill: #1967D2;\n",
              "    height: 32px;\n",
              "    padding: 0 0 0 0;\n",
              "    width: 32px;\n",
              "  }\n",
              "\n",
              "  .colab-df-quickchart:hover {\n",
              "    background-color: #E2EBFA;\n",
              "    box-shadow: 0px 1px 2px rgba(60, 64, 67, 0.3), 0px 1px 3px 1px rgba(60, 64, 67, 0.15);\n",
              "    fill: #174EA6;\n",
              "  }\n",
              "\n",
              "  [theme=dark] .colab-df-quickchart {\n",
              "    background-color: #3B4455;\n",
              "    fill: #D2E3FC;\n",
              "  }\n",
              "\n",
              "  [theme=dark] .colab-df-quickchart:hover {\n",
              "    background-color: #434B5C;\n",
              "    box-shadow: 0px 1px 3px 1px rgba(0, 0, 0, 0.15);\n",
              "    filter: drop-shadow(0px 1px 2px rgba(0, 0, 0, 0.3));\n",
              "    fill: #FFFFFF;\n",
              "  }\n",
              "</style>\n",
              "\n",
              "    <script>\n",
              "      async function quickchart(key) {\n",
              "        const containerElement = document.querySelector('#' + key);\n",
              "        const charts = await google.colab.kernel.invokeFunction(\n",
              "            'suggestCharts', [key], {});\n",
              "      }\n",
              "    </script>\n",
              "\n",
              "      <script>\n",
              "\n",
              "function displayQuickchartButton(domScope) {\n",
              "  let quickchartButtonEl =\n",
              "    domScope.querySelector('#df-05d08943-85a1-45c2-b0df-451f9ef0e7d8 button.colab-df-quickchart');\n",
              "  quickchartButtonEl.style.display =\n",
              "    google.colab.kernel.accessAllowed ? 'block' : 'none';\n",
              "}\n",
              "\n",
              "        displayQuickchartButton(document);\n",
              "      </script>\n",
              "      <style>\n",
              "    .colab-df-container {\n",
              "      display:flex;\n",
              "      flex-wrap:wrap;\n",
              "      gap: 12px;\n",
              "    }\n",
              "\n",
              "    .colab-df-convert {\n",
              "      background-color: #E8F0FE;\n",
              "      border: none;\n",
              "      border-radius: 50%;\n",
              "      cursor: pointer;\n",
              "      display: none;\n",
              "      fill: #1967D2;\n",
              "      height: 32px;\n",
              "      padding: 0 0 0 0;\n",
              "      width: 32px;\n",
              "    }\n",
              "\n",
              "    .colab-df-convert:hover {\n",
              "      background-color: #E2EBFA;\n",
              "      box-shadow: 0px 1px 2px rgba(60, 64, 67, 0.3), 0px 1px 3px 1px rgba(60, 64, 67, 0.15);\n",
              "      fill: #174EA6;\n",
              "    }\n",
              "\n",
              "    [theme=dark] .colab-df-convert {\n",
              "      background-color: #3B4455;\n",
              "      fill: #D2E3FC;\n",
              "    }\n",
              "\n",
              "    [theme=dark] .colab-df-convert:hover {\n",
              "      background-color: #434B5C;\n",
              "      box-shadow: 0px 1px 3px 1px rgba(0, 0, 0, 0.15);\n",
              "      filter: drop-shadow(0px 1px 2px rgba(0, 0, 0, 0.3));\n",
              "      fill: #FFFFFF;\n",
              "    }\n",
              "  </style>\n",
              "\n",
              "      <script>\n",
              "        const buttonEl =\n",
              "          document.querySelector('#df-f7f89bc8-b8e3-41b7-87cf-99e1c20159dc button.colab-df-convert');\n",
              "        buttonEl.style.display =\n",
              "          google.colab.kernel.accessAllowed ? 'block' : 'none';\n",
              "\n",
              "        async function convertToInteractive(key) {\n",
              "          const element = document.querySelector('#df-f7f89bc8-b8e3-41b7-87cf-99e1c20159dc');\n",
              "          const dataTable =\n",
              "            await google.colab.kernel.invokeFunction('convertToInteractive',\n",
              "                                                     [key], {});\n",
              "          if (!dataTable) return;\n",
              "\n",
              "          const docLinkHtml = 'Like what you see? Visit the ' +\n",
              "            '<a target=\"_blank\" href=https://colab.research.google.com/notebooks/data_table.ipynb>data table notebook</a>'\n",
              "            + ' to learn more about interactive tables.';\n",
              "          element.innerHTML = '';\n",
              "          dataTable['output_type'] = 'display_data';\n",
              "          await google.colab.output.renderOutput(dataTable, element);\n",
              "          const docLink = document.createElement('div');\n",
              "          docLink.innerHTML = docLinkHtml;\n",
              "          element.appendChild(docLink);\n",
              "        }\n",
              "      </script>\n",
              "    </div>\n",
              "  </div>\n"
            ]
          },
          "metadata": {},
          "execution_count": 52
        }
      ]
    },
    {
      "cell_type": "markdown",
      "source": [
        "**Colors**"
      ],
      "metadata": {
        "id": "kOIwe5XXZnt5"
      }
    },
    {
      "cell_type": "code",
      "source": [
        "print(color.green(stud,'bold'))"
      ],
      "metadata": {
        "colab": {
          "base_uri": "https://localhost:8080/"
        },
        "id": "N0GVHBS9Zc1-",
        "outputId": "ed7d91e5-612c-456f-be37-0f2d350f47a8"
      },
      "execution_count": 53,
      "outputs": [
        {
          "output_type": "stream",
          "name": "stdout",
          "text": [
            "\u001b[1;32m   Name    City  Age  Marks\n",
            "0  Mike  Jaipur   15    560\n",
            "1  Jack   Delhi   16    595\u001b[0m\n"
          ]
        }
      ]
    },
    {
      "cell_type": "code",
      "source": [
        "l1 = [\"PIET21AD048\",\"PIET21CS01\",\"PIET21CA01\",\"PIET21AD034\",\"PIET21AD051\"]\n",
        "l2 = [\"Raj\",\"Ankit\",\"Aman\",\"Parv\", \"Tanishq\"]\n",
        "l3 = [18,19,18,20,21]\n",
        "l4 = [\"Jaipur\", \"Ajmer\", \"Kota\", \"Delhi\", \"Jaipur\"]\n",
        "l5 = [485,500,598,600,235]\n",
        "\n",
        "cs = pd.DataFrame({color.green(\"Reg_no\"): l1 , color.blue(\"Name\"):l2, color.red(\"Age\"):l3,\n",
        "                   color.magenta(\"City\"):l4, color.black(\"Marks\"):l5})\n",
        "\n",
        "\n",
        "print(cs)"
      ],
      "metadata": {
        "colab": {
          "base_uri": "https://localhost:8080/"
        },
        "id": "mWnQkc_QZkqd",
        "outputId": "be58f3dd-df55-46d5-a87c-8bbe410043a1"
      },
      "execution_count": 54,
      "outputs": [
        {
          "output_type": "stream",
          "name": "stdout",
          "text": [
            "  \u001b[32mReg_no\u001b[0m \u001b[34mName\u001b[0m  \u001b[31mAge\u001b[0m \u001b[35mCity\u001b[0m  \u001b[30mMarks\u001b[0m\n",
            "0     PIET21AD048           Raj            18        Jaipur             485\n",
            "1      PIET21CS01         Ankit            19         Ajmer             500\n",
            "2      PIET21CA01          Aman            18          Kota             598\n",
            "3     PIET21AD034          Parv            20         Delhi             600\n",
            "4     PIET21AD051       Tanishq            21        Jaipur             235\n"
          ]
        }
      ]
    },
    {
      "cell_type": "code",
      "source": [
        "l1 = [48,55,15,34,51]\n",
        "l2 = [\"Raj\",\"Ankit\",\"Aman\",\"Parv\", \"Tanishq\"]\n",
        "l3 = [18,19,18,20,21]\n",
        "l4 = [\"Jaipur\", \"Ajmer\", \"Kota\", \"Delhi\", \"Jaipur\"]\n",
        "l5 = [485,500,598,600,235]\n",
        "\n",
        "cs = pd.DataFrame({color.green(\"Reg_no\"): l1 , color.blue(\"Name\"):l2, color.red(\"Age\"):l3,\n",
        "                   color.magenta(\"City\"):l4, color.black(\"Marks\"):l5})\n",
        "\n",
        "\n",
        "print(cs)"
      ],
      "metadata": {
        "colab": {
          "base_uri": "https://localhost:8080/"
        },
        "id": "TcCu5VTsZxf5",
        "outputId": "0cf06c1b-45c0-4eb9-a267-3769572a75cb"
      },
      "execution_count": 56,
      "outputs": [
        {
          "output_type": "stream",
          "name": "stdout",
          "text": [
            "   \u001b[32mReg_no\u001b[0m \u001b[34mName\u001b[0m  \u001b[31mAge\u001b[0m \u001b[35mCity\u001b[0m  \u001b[30mMarks\u001b[0m\n",
            "0               48           Raj            18        Jaipur             485\n",
            "1               55         Ankit            19         Ajmer             500\n",
            "2               15          Aman            18          Kota             598\n",
            "3               34          Parv            20         Delhi             600\n",
            "4               51       Tanishq            21        Jaipur             235\n"
          ]
        }
      ]
    },
    {
      "cell_type": "markdown",
      "source": [
        "**Replace Value In Given Statment**\n",
        "\n",
        "\n",
        "\n",
        "1.  Statement : I Am Learning Python.\n",
        "2.  Replace : I => Any Input\n",
        "\n"
      ],
      "metadata": {
        "id": "iCaSSe0VcGO9"
      }
    },
    {
      "cell_type": "code",
      "source": [
        "msg = \"I Am Learning Python.\"\n",
        "replace_value = \"I\"\n",
        "inp = input(\"\\nEnter New Value :\")\n",
        "print(msg.replace(replace_value,inp))"
      ],
      "metadata": {
        "colab": {
          "base_uri": "https://localhost:8080/"
        },
        "id": "OrpEXfK0cnXq",
        "outputId": "2f400995-1900-49eb-8638-71c406c0aaa1"
      },
      "execution_count": 59,
      "outputs": [
        {
          "output_type": "stream",
          "name": "stdout",
          "text": [
            "\n",
            "Enter New Value :Mike\n",
            "Mike Am Learning Python.\n"
          ]
        }
      ]
    },
    {
      "cell_type": "code",
      "source": [
        "msg = \"I Am Learning Python.\"\n",
        "replace_value = input(\"Enter Old Value To Replace : \")\n",
        "inp = input(\"\\nEnter New Value : \")\n",
        "print()\n",
        "print(msg.replace(replace_value,inp))"
      ],
      "metadata": {
        "colab": {
          "base_uri": "https://localhost:8080/"
        },
        "id": "f9n4Hi8UeJkg",
        "outputId": "a64e38d2-57eb-40f0-c7d1-2ec9d4e9c7dd"
      },
      "execution_count": 67,
      "outputs": [
        {
          "output_type": "stream",
          "name": "stdout",
          "text": [
            "Enter Old Value To Replace : Python\n",
            "\n",
            "Enter New Value : Java\n",
            "\n",
            "I Am Learning Java.\n"
          ]
        }
      ]
    },
    {
      "cell_type": "code",
      "source": [
        "msg"
      ],
      "metadata": {
        "colab": {
          "base_uri": "https://localhost:8080/",
          "height": 35
        },
        "id": "nd9EPtSUek4x",
        "outputId": "d27040f0-54de-419f-a434-4c6eec326e8f"
      },
      "execution_count": 65,
      "outputs": [
        {
          "output_type": "execute_result",
          "data": {
            "text/plain": [
              "'I Am Learning Python.'"
            ],
            "application/vnd.google.colaboratory.intrinsic+json": {
              "type": "string"
            }
          },
          "metadata": {},
          "execution_count": 65
        }
      ]
    },
    {
      "cell_type": "code",
      "source": [
        "msg = \"I Am Learning Python.\"\n",
        "replace_value = input(\"\\nEnter Old Value To Replace :\")\n",
        "inp = input(\"\\nEnter New Value :\")\n",
        "msg = msg.replace(replace_value,inp)\n",
        "print(\"\\nUpdated Msg Is :\\n\\t\\t\\t\\t\",msg)"
      ],
      "metadata": {
        "colab": {
          "base_uri": "https://localhost:8080/"
        },
        "id": "gjbGA73jeqGA",
        "outputId": "056dd868-3abe-4475-ba66-23f6bee4ede7"
      },
      "execution_count": 71,
      "outputs": [
        {
          "output_type": "stream",
          "name": "stdout",
          "text": [
            "\n",
            "Enter Old Value To Replace :I Am\n",
            "\n",
            "Enter New Value :Luke\n",
            "\n",
            "Updated Msg Is :\n",
            "\t\t\t\t Luke Learning Python.\n"
          ]
        }
      ]
    },
    {
      "cell_type": "markdown",
      "source": [
        "**Give Color Only To Updated Value**"
      ],
      "metadata": {
        "id": "ka-JkXIBfsT3"
      }
    },
    {
      "cell_type": "code",
      "source": [
        "msg=\"I am learning python\"\n",
        "print(f\"old msg: {msg}\")\n",
        "rep_value=input(\"enter replace value: \")\n",
        "rep=color.red(input(\"enter new value: \"))\n",
        "print(msg.replace(rep_value,rep))"
      ],
      "metadata": {
        "colab": {
          "base_uri": "https://localhost:8080/"
        },
        "id": "bmXsl9W2fnEb",
        "outputId": "41004bf8-53b1-4a42-cf9d-99cfd1ca1c32"
      },
      "execution_count": 72,
      "outputs": [
        {
          "output_type": "stream",
          "name": "stdout",
          "text": [
            "old msg: I am learning python\n",
            "enter replace value: I am\n",
            "enter new value: Mike\n",
            "\u001b[31mMike\u001b[0m learning python\n"
          ]
        }
      ]
    },
    {
      "cell_type": "markdown",
      "source": [
        "**Condition Statement**"
      ],
      "metadata": {
        "id": "JuLbIw4kbYs8"
      }
    },
    {
      "cell_type": "code",
      "source": [
        "'''\n",
        "       => Make Statement As A Desicion Making Statement\n",
        "\n",
        "       => if condn\n",
        "       => if - else condn\n",
        "       => if - elif - else condn\n",
        "       => nested if condn\n",
        "       => nested if - else condn\n",
        "'''\n",
        "\"\""
      ],
      "metadata": {
        "colab": {
          "base_uri": "https://localhost:8080/",
          "height": 35
        },
        "id": "SAQKtYfsbCyz",
        "outputId": "8f74bd76-9525-4047-f3c5-b78e7267c02c"
      },
      "execution_count": 73,
      "outputs": [
        {
          "output_type": "execute_result",
          "data": {
            "text/plain": [
              "''"
            ],
            "application/vnd.google.colaboratory.intrinsic+json": {
              "type": "string"
            }
          },
          "metadata": {},
          "execution_count": 73
        }
      ]
    },
    {
      "cell_type": "markdown",
      "source": [
        "***if Condn Statement***"
      ],
      "metadata": {
        "id": "Pqke2AMlgcy8"
      }
    },
    {
      "cell_type": "markdown",
      "source": [
        "![image.png](data:image/png;base64,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)"
      ],
      "metadata": {
        "id": "Ld4HNvkRiESI"
      }
    },
    {
      "cell_type": "code",
      "source": [
        "'''\n",
        "      if cond Is True : It Will Executes All Expressions.\n",
        "\n",
        "      otherwise , if cond Is False , It Will Be Stoped.\n",
        "'''\n",
        "\"\""
      ],
      "metadata": {
        "colab": {
          "base_uri": "https://localhost:8080/",
          "height": 35
        },
        "id": "2_L6vtj5gTm_",
        "outputId": "f9274863-dc01-4632-b899-ed57717846e1"
      },
      "execution_count": 74,
      "outputs": [
        {
          "output_type": "execute_result",
          "data": {
            "text/plain": [
              "''"
            ],
            "application/vnd.google.colaboratory.intrinsic+json": {
              "type": "string"
            }
          },
          "metadata": {},
          "execution_count": 74
        }
      ]
    },
    {
      "cell_type": "code",
      "source": [
        "'''\n",
        "     Syntax :\n",
        "                      if condn :\n",
        "                         expressions....\n",
        "                         ...............\n",
        "'''\n",
        "\"\""
      ],
      "metadata": {
        "colab": {
          "base_uri": "https://localhost:8080/",
          "height": 35
        },
        "id": "6Jgj-JnIiXUI",
        "outputId": "f7743bf5-0e64-4852-8177-33081ed4cda8"
      },
      "execution_count": 75,
      "outputs": [
        {
          "output_type": "execute_result",
          "data": {
            "text/plain": [
              "''"
            ],
            "application/vnd.google.colaboratory.intrinsic+json": {
              "type": "string"
            }
          },
          "metadata": {},
          "execution_count": 75
        }
      ]
    },
    {
      "cell_type": "code",
      "source": [
        "name = input(\"Enter Name To Verify :\") #\n",
        "if name == \"Luke Penn\":\n",
        "  print(\"\\n\"+f\"{color.green(name,'bold')} Is Exists In Database..\")"
      ],
      "metadata": {
        "colab": {
          "base_uri": "https://localhost:8080/"
        },
        "id": "jfN9fpHyik6f",
        "outputId": "85637773-a3e5-4c8f-e4cf-a43f024a6412"
      },
      "execution_count": 85,
      "outputs": [
        {
          "output_type": "stream",
          "name": "stdout",
          "text": [
            "Enter Name To Verify :Luke Penn\n",
            "\n",
            "\u001b[1;32mLuke Penn\u001b[0m Is Exists In Database..\n"
          ]
        }
      ]
    },
    {
      "cell_type": "code",
      "source": [
        "num1 = int(input(\"Enter 1st Num : \"))\n",
        "num2 = int(input(\"\\nEnter 2nd Num : \"))\n",
        "if num1>num2:\n",
        "  print()\n",
        "  print(f\"{color.green(num1,'bold')} Is Greater Than {color.red(num2,'bold')}\")"
      ],
      "metadata": {
        "colab": {
          "base_uri": "https://localhost:8080/"
        },
        "id": "buXpVxxOi5Wp",
        "outputId": "65e3100f-effd-437f-8411-0d569557f6ec"
      },
      "execution_count": 82,
      "outputs": [
        {
          "output_type": "stream",
          "name": "stdout",
          "text": [
            "Enter 1st Num : 10\n",
            "\n",
            "Enter 2nd Num : 5\n",
            "\n",
            "\u001b[1;32m10\u001b[0m Is Greater Than \u001b[1;31m5\u001b[0m\n"
          ]
        }
      ]
    },
    {
      "cell_type": "code",
      "source": [
        "name = input(\"Enter Name To Verify :\") # Mike\n",
        "if name == \"Luke Penn\":   ## Mike == Luke Penn <-- False  ==> Stop\n",
        "  print(\"\\n\"+f\"{color.green(name,'bold')} Is Exists In Database..\")"
      ],
      "metadata": {
        "colab": {
          "base_uri": "https://localhost:8080/"
        },
        "id": "0Loj_iKXjg4e",
        "outputId": "23b3177c-317d-40e5-fd6c-970f3c74effc"
      },
      "execution_count": 83,
      "outputs": [
        {
          "name": "stdout",
          "output_type": "stream",
          "text": [
            "Enter Name To Verify :Mike\n"
          ]
        }
      ]
    },
    {
      "cell_type": "markdown",
      "source": [
        "***if - else Condn Statement***\n",
        "\n",
        "1.   if cond Is True , It Will Execute All Expressions.\n",
        "2.   Otherwise , It Goes To else Part And Execute All Expression.\n",
        "\n"
      ],
      "metadata": {
        "id": "h-X8AylulTlL"
      }
    },
    {
      "cell_type": "markdown",
      "source": [
        "![image.png](data:image/png;base64,iVBORw0KGgoAAAANSUhEUgAAAw0AAAGMCAYAAACYkk60AAAgAElEQVR4Xu3dW6xlW1rQ8VkCnY40F5EQUC5prGpJp/VFiUmdB4UQtKqjtpfgQzchJlClT+cEc8TEfvChTcQLVsUHrcbEdGgfIF7aS1cZQ0AfTicGfdFOR84uIAQMhiAgNtBp0HKtvdfae133mmtexuUbv/N0qtYcY3zj/31zjPmvOedad14t/uv8hwACCCCAAAIIIIAAAggcIXCHNKgNBBBAAAEEEEAAAQQQuI0AaVAfCCCAAAIIIIAAAgggcCsB0qBAEEAAAQQQQAABBBBAgDSoAQQQQAABBBBAAAEEEBhOwJ2G4ey0RAABBBBAAAEEEECgCQKkoYk0myQCCCCAAAIIIIAAAsMJkIbh7LREAAEEEEAAAQQQQKAJAqShiTSbJAIIIIAAAggggAACwwmQhuHstEQAAQQQQAABBBBAoAkCpKGJNJskAggggAACCCCAAALDCZCG4ey0RAABBBBAAAEEEECgCQKkoYk0myQCCCCAAAIIIIAAAsMJkIbh7LREAAEEEEAAAQQQQKAJAqShiTSbJAIIIIAAAggggAACwwmQhuHstEQAAQQQQAABBBBAoAkCpKGJNJskAggggAACCCCAAALDCZCG4ey0RAABBBBAAAEEEECgCQKkoYk0myQCCCCAAAIIIIAAAsMJkIbh7LREAAEEEEAAAQQQQKAJAqShiTSbJAIIIIAAAggggAACwwmQhuHstEQAAQQQQAABBBBAoAkCpKGJNJskAggggAACCCCAAALDCZCG4ey0RAABBBBAAAEEEECgCQKkoYk0myQCCCCAAAIIIIAAAsMJkIbh7LREAAEEEEAAAQQQQKAJAqShiTSbJAIIIIAAAggggAACwwmQhuHstEQAAQQQQAABBBBAoAkCpKGJNJskAggggAACCCCAAALDCZCG4ey0RACBSgjcuXPnOtJXr15VErUwEUAAAQQQKIcAaSgnFyJBAIEZCGwKw7p74jADaF0igAACCIQmQBpCp9fkEGibwCFhIA5t14TZI4AAAggMI0AahnHTCgEECidwmzAQh8KTJzwEEEAAgeIIkIbiUiIgBBAYS6CPMBCHsZS1RwABBBBoiQBpaCnb5opAAwTOEQbi0EBBmCICCCCAwCQESMMkGHWCAAK5CQyRhd2YvSCdO4vGRwABBBAolQBpKDUz4kIAgd4EphAGdx1643YgAggggECDBEhDg0k3ZQQiEZhSGIhDpMowFwQQQACBKQmQhilp6gsBBJISmEMYiEPSFBoMAQQQQKASAqShkkQJEwEEtgnMKQzEQbUhgAACCCCws+8uXvx7BQoCCCBQE4EUwkAcaqoIsSKAAAIIzE3AnYa5CesfAQQmJZBSGIjDpKnTGQIIIIBAxQRIQ8XJEzoCrRHIIQzEobUqM18EEEAAgUMESIO6QACBKgjkFAbiUEWJCBIBBBBAYEYCpGFGuLpGAIFpCJQgDMRhmlzqBQEEEECgTgKkoc68iRqBZgiUJAzEoZmyM1EEEEAAgR0CpEFJIIBAkQRKlIVdUL58rsjSERQCCCCAwAwESMMMUHWJAALjCNQgDO46jMux1ggggAACdREgDXXlS7QIhCdQkzAQh/DlaIIIIIAAAisCpEEpIIBAMQRqFAbiUEz5CAQBBBBAYEYCpGFGuLpGAIH+BGoWBuLQP8+ORAABBBCokwBpqDNvokYgFIEIwkAcQpWkySCAAAII7BAgDUoCAQSyEogkDMQhaykZHAEEEEBgRgKkYUa4ukYAgdsJRBQG4qDqEUAAAQQiEiANEbNqTghUQCCyMBCHCgpQiAgggAACZxEgDWfhcjACCExBoAVhIA5TVIo+EEAAAQRKIUAaSsmEOBBohEBLwkAcpi7q/9T91X/9ke6f39rtt3Q/+Ke+t/vWqYfWHwIIINA4AdLQeAGYPgKpCLQoC7tsX716lQp3G+P8wg90v+8nfrz7c9/8b7q//TVtTNksEUAAgVwESEMu8sZFoCEChOEm2cRhwsInDRPC1BUCZRPY3Eeso3lyRRrycDcqAs0QIAz7qbbhTVT+t0jDz7z9evdt//0buh/8lq/vnv74x7pPL4Z83zf9w+5fvedrux/7L3+y+57/sfsY09WjTz+5OuY6wtUY13/+vR/ufuoP/ZGJJqAbBBA4ReC2PcRaeoretJ+Thml56g0BBDYIEIbj5WCzm+BUOSkNP70Y5Bu7v/YtT7vv+ZKb8XpLw27//+efdX96ISDdrlhMMBVdIIDANoFz9g/raZrqIQ1pOBsFgeYInLPgNwdnNWEb3cjM95CG9d2FzZH6ScPPdz/4H/5y97e+ZPvOwvUdDC9bj0ye5ggcJjB077Cezl9RpGF+xkZAoDkCQxf95kAtJmyjG5H1k9LQ7d1lWI7WSxpWdxV+/+5L1pdj/uzBfkfMRFMEEFgQmGLvsKbOV0qkYT62ekagSQJTLPqtgbPJDcx4AmlYvgux/9/+I08DZ6AZAghMJAu7IK2r05cWaZieqR4RaJYAYRieehvcAHYJpGHvTsOAMDVBAIHDBFLsGdbW6aqPNEzHUk8INE0gxeIfHbDN7cwMD5SGg+8l7L3kfOTblM4M0eEIILBPIMd+YX0dX4mkYTxDPSDQPIEcG0BU6Da2MzI7UBq6XUFY/Xnza1mXUVzJxU9v/3jccsyf/PruR//Yn+/efUaoDkUAgWneWRjD0fo6ht4ifwuAfqJ0HEOtEWiaAGGYPv2W5Z5Mh0rDhhBcjbT8zYbv6H5q8W1J//b3XP2Ww/V/u7/T8KXfRRh6psdhCKwJlLZPWGOH1SZpGMZNKwSaJ1DaJhAxITa2iFk1JwTaIlDyXmGNPa8WScN5vByNAAILAiVvAtESZFOLllHzQaANAjXtE9bZfjVJGvpxchQCCKwI1LQRREmaDS1KJs0DgfgEat0jrLOna5M0nGbkCAQQIAzZa8CGlj0FAkAAgVsI1CoLu1Oy1h5PMmmwBCCAQC8CUTaEXpMt9CCbWaGJERYCDROIujdYb/eLmjQ0fKKbOgJ9CUTdFPrOv6TjbGQlZUMsCLRLoJV9wZp7U+Okod3z3cwR6EWglY2hF4xCDrKJFZIIYSDQKIEW9wXrrt9paPR0N20E+hFocWPoRyb/UTaw/DkQAQKtEWh9T2h93XWnobUz3nwR6Emg9c2hJ6ash7W+gWWFb3AEGiJgP9hOdqtrL2lo6KQ3VQT6ErBB9CWV/7hWN6/85EWAQHwC9oLbc9za+ksa4p/zZojAWQRsEmfhKuLg1jauIqALAoHABOwD5yW3lTWYNJxXF45GICwBm0T9qW1l46o/U2aAQJkE7APj8hJ9DSYN4+pDawRCEChlo7j/5KJ76/W7N0xfPu1eu/dG96kQlNNMIvqmlYaiURBoj0Ap+0Dt5COvwaSh9uoUPwIjCZSyUVwJQ9c9fe1e98bKEpZ/97Huu7p767949Lx79eze1jEjp3/VfK5+Jwnu/E4ib1rn09ACAQRuI1DKHhAtSxHXYdIQrUrNB4EzCJSzWTzqnr961j148bi78/Cjx2cw18X9XP2ekYupDz20YX384T+dehj9ITAZgQ89/+BkfenoNIFy1v/TsdZ8RCR5IA01V6LYERhBoKwNYyUNRx9Hut89uXir23xy6XLqG5Lx6Pmr7tmDGyAvn752c4di8ddXdzIuusevvd29ubilsXwI6uXTx90n3//s1n5HIM7edHOzIgzZ0yGAHgSIQw9IExxS1vo/wYQK7yKKOJCGwgtNeAjMQaDEDeP6ov+2uw1H7ggs27759oYkXB73YOEUd7r1jYub9yVe7j/eFPBOw7pu1psVaZjjTNLn1ARIw9RED/dX4h6QZuZ5RiENebgbFQEERhIoebPYultw6K5D74v7/ced1tKwewfiEmfvfkfCz9R8uWGRhkzwDXsWAdJwFq7BB5e8DwyeVMENSUPByREaAggcJ1D+ZrH9KNLWRX7vi/tVHxc370gcetH6mlLvfuusLHcb6sxbq1ETh/kzX/4+MD+DlCOQhpS0jYUAApMRqGezWN0t6DYeJzp6cX/6nQfSMFkJ6QiByQgcugNGGibDe7SjevaB+VmkGIE0pKBsDAQQmIVANRvG7rsJB6VhJQzd5m86uNOwLpwom9UsJ4JOsxMgDXlSUM0ekAfP5KNGWYe9CD15aegQgToI1LBp7N0dOCQN9590F1c/8LDxbUmkYVmFUTaqOs4oUQ4hQBqGUBvfpob1f/wsy+khylpMGsqpKZEgkJxAMRvHpQx03eM7D7vrX2lYycDdzW9TOigI+y89H/omplsfTzrYb/J0TDpglE1qUig6K44AaciTkmLW/jzTTz5qlPWYNCQvHQMiUBaBYjaP1aNIm3QOfdPRzVenLo5cC8VaMFaNl+3+znve6p51PV+EXrQ72G9ZqeodTZQNqveEHVgtAdKQJ3XFrPt5pp981ChrMmlIXjoGRKA8AjaQ8nIyNKIom9PQ+WtXFwHSkCdf1vy03KOsy6Qhbd0YDYFiCdhEik1N78CibEy9J+zA6gmQhjwptN6n5R5lbSYNaevGaAgUTcBGUnR6bg0uyqZUbwZEPoQAaRhCbXwba/14huf0EGV9Jg3nZN2xCDRCwIZST6KjbEb1EBfplARIw5Q0+/dlje/Paoojo6zTpGGKatAHAgEJ2FTKT2qUjah80iKciwBpmIvs7f1a39Nyj7JWk4a0dWM0BKoiYGMpN11RNqFyCYssBQHSkILy/hjW9rTco6zXpCFt3RgNgeoI2FzKS1mUDag8siJKTYA0pCZ+NZ51PS33KGs2aUhbN0ZDoEoCNphy0hZl8ymHqEhyEiANeehb09Nyj7Juk4a0dWM0BKolYJPJn7ooG09+kiIohQBpyJMJ63la7lHWbtKQtm6MhkDVBGw0+dIXZdPJR9DIJRIgDXmyYi1Pyz3K+k0a0taN0RConoDNJn0Ko2w46ckZsXQCpCFPhqzjablHWcNJQ9q6MRoCIQjYcNKlMcpmk46YkWoiQBryZMsanpZ7lHWcNKStG6MhEIaATWf+VEbZaOYnZYRaCZCGPJmzfqflHmUtJw1p68ZoCIQiYOOZL51RNpn5COk5AgHSkCeL1u603KOs56Qhbd0YDYGQBGxA06U1yuYyHRE9RSZAGvJkN/Waff/JRffW63cPTPZl9/S1e90bn8rDIdWoUdZ10pCqYoyDQHACqTehiDijbCwRc2NO8xAgDfNwPdVr6vX6Shq6MgTh0fPu1bN7SWOJsraThlNnls8RQKA3gdQbUe/AKjgwyqZSAWohFkSANORJRuq1mjS8ypPoiUclDRMD1R0CrRNIvRlF4E0YImTRHIYQIA1DqI1vk3qdPiUN68eXXjy+0z386Gp+9590F1e3J7p76+eXLu8SPLgB8OJxd2fV4NHzV92zBy+6x3cedusuuu5R9/zVs+7eZR9d9+TirW7vKamNPrpb+h9DPcoaTxrGVIG2CCBwkEDqDanmNETZTGrOgdjzESANedinXqNPSUPX3V9d0K8v+ld/7p52ry2u9i9feVhd0G+KxVIUPvCJK9E4LQ2rFyeOPZ602/8haRmYrijrPGkYWACaIYDA7QRSb0o15iPKRlIjezGXQYA05MlD6vX52IvQLzfvImxepH/mwzvvHawk4uLmzsIuuXHScLj/q7gvdu5enJ+zKGs9aTg/91oggEBPAqk3pp5hFXFYlE2kCJiCqJYAaciTutRr8+k7DVccri78V0w2Hxvq8a/+o6Rh1f/F5uNR13c3xr80HWW9Jw15zlejItAMgdSbUw1go2wgNbAWY9kESEOe/KRel/tKw/odhAfdzlexHruo38A3hTQc+lLYbjeWASmLsuaThgHJ1wQBBM4jkHqDOi+6tEdH2TzSUjNaVAKkIU9mU6/JfaXh8sL/3svu5d273d2XG+8z5LrTMFF6oqz7pGGigtANAgjcTiD1JlViPqJsHCWyFVOdBEhDnrylXo97ScPmi8jd1bck3bz0fPUtSA82H1naQXfw/YOj38C0+8jR5rcsTf9Lc1HWftKQ53w1KgJNEki9UZUEOcqmURJTsdRPgDTkyWHqtfi0NOxKwe63KS2+X2n1q9K735705turr2TdFYTVn5ePHB194Xrjp6gPfu3rUmTefPvmG5wGpivK+k8aBhaAZgggMJxA6g1reKTjW0bZLMaT0AMC+wRIQ56qSL0GH/v2pOXslxLwiQ8sX4A+/B7D3Y27C3v97Nx52P58+fWtH+neu/hthvd/cuO3HhZjbh132+80bD4iNSJVUfYB0jCiCDRFAIHhBFJvWsMjHd4yykYxnICWCNxOgDTkqZAW1t88ZA+PGmUvIA0lVZVYEGiMQOSNK8om0VhJmm5iAqQhMfDVcJHX3jxEbx81yn5AGkqsLjEh0BCBiJtXlA2ioTI01UwESEMe8BHX3Twk+40aZU8gDf3y7SgEEJiRQKQNLMrmMGO6dY3ANQHSkKcYIq25eQieN2qUfYE0nJd3R28QOLToRDkxJDo9gQibmPpPXzdGrJsAaciTvwjrbR5yw0aNsjeQhmH5b6rVFItLlBOmqcRnmOwUtZYh7Msh1Xgu8satmQBpyJO9mtfaPMTGjRplfyAN4+ogXOvUC0mUEylcIWScUOoanGKq6ngKivpokQBpyJP1GtfZPKSmGTXKHkEapqmH6nopecGIcnJVVxQFBVxyfe5iUq8FFY5QqiNAGvKkrKY1Ng+haUeNsk+QhmnrorjeIi0MUU664oqk0IBqqF01WWjxCKsaAqQhT6pqWF/zkJln1Ch7BWmYpz6y9NriIhDlRMxSMBUMWnJNq70KCkiIxRMgDXlSVPLamofIvKNG2S9Iw7x1MkvvTvbTWKOcoKdn2sYRJdW82mqj5swyDQHSkIbz7iglral5CKQdNcq+QRrS1s3Zozmxz0Z2tEGUk3Y6InX1VMK5oIbqqhnRlk+ANOTJUQnraZ6Z5xk1yt5BGvLUz96oTuB8iYhyMucjmG7knOeJOkmXZyO1Q4A05Ml1zrU0z4zzjhpl/yANGerIyZoB+plDRjnBz5x2FYfnOH/UQxWlIcgKCZCGPEnLsY7mmWkZo0bZQ0jDjPXkpJwRbqauo5z4mfBNNmzKc0vOJ0ubjhDYI0Aa8hRFyjU0zwzLGjXKPkIaJqorJ+BEICvsJspiUBv6FOec3NZWFeKtjQBpyJOxFOtnnpmVOWqUvYQ0nFlfTrQzgTV8eJRFouQUznk+yl/JmRdbFAKkIU8m51w788yo7FGj7Cek4UidOaHKPgFrji7K4lFKDuY4V+WolOyKIzoB0pAnw3Osm3lmUseoUfYU0rCoNydPHSdd5CijLCi5cjTlOSwXubJo3BYJkIZ8WZ9y3cw3i/JHjrSnNCUNTpDyTy4RbhOItNjMndspzm+8586S/hHYJkAa8lfEFGtn/lmUF0HE/SSsNDgJyjuBRDQNgYgL0TRkxt01xHWqLOgHgf4ESEN/VnMf6bppOsJR95PqpUGRT1fkeqqbQNRFakhWzlkXcBtCWBsEpiFAGqbhOFUv56ydU40ZqZ/o+0lV0qCYI51a5pKCQPQF7DaGfdaLlvmkqD9jIHCKAGk4RSjP533WzzyRlTlqK3tJkdKgWMs8KUQVh0AzC9ydO90PPfj4deK+88WHrv+/FQZxqtZMIhIgDWVn1fXY7flpbR8pQhoUZdmLhujiE4i68B26IFmKQ9T5xq9UM4xGgDTUkVHXadt5anUPyS4NCrGOBUOU8QlEXARdkMSvWzOsm4BztK78uWbrmv5HJ9JQ1/kqWgRmI0AaZkOrYwQQOEKANNRZGi3KQ8Q98tzqIw3nEnM8AkEJRFwQXZAELVbTCkPAOVpvKlsRh4h749CqIw1DyWmHQDACERdGFyTBitR0whFwjtaf0qjyEHFPHFttpGEsQe0RCEIg4gLpgiRIcZpGWALO0TipjSIPEffCqaqMNExFUj8IVE4g4kLpgqTyohR+eALO0XgprlkeIu6DU1YYaZiSpr4QqJhAxMXSBUnFBSn0Jgg4R+OmuSZ5iLj/zVFZpGEOqvpEoEICERdNFyQVFqKQmyLgHI2f7pLlIeK+N2dFkYY56eobgYoIRFw8XZBUVIBCbZKAc7SNtJcmDhH3uxSVRBpSUDYGAhUQiLiIuiCpoPCE2DQB52hb6c8tDxH3uZQVRBpS0jYWAgUTiLiYuiApuOCEhsCCgHO0zTLIIQ8R97jU1UMaUhM3HgKFEoi4oLogKbTYhIXAioBztO1SSCEPEfe2XFVDGnKRNy4ChRGIuLC6ICmsyISDwA4B56iSWBKYQx4i7mm5q4U05M6A8REohEDEBdYFSSHFJQwEjhBwjiqNTQJTyEPEvayUKiENpWRCHAhkJhBxoXVBkrmoDI/ACQLOUSWyS2CoOETcw0qrDtJQWkbEg0AmAhEXXBckmYrJsAj0JOAc7QmqwcPOkYeI+1eJKScNJWZFTAhkIBBx0XVBkqGQDInAGQSco2fAaujQzbr4zhcfOjrziPtWyWkmDSVnR2wIJCQQcfF1QZKwgAyFwAACztEB0II3OVQTyylvykPE/aqGtJKGGrK0E+P9JxfdW6/fPRD5y+7pa/e6Nz5V4aSEnJ1AxEXYBUn2shIAArcScI4qkE0Cx4RhecyHnn8QrMwESEPmBAwZ/koaunoE4dHz7tWze/XEOyQpAdqQhgBJNAUEKiNAGipL2IzhEoYZ4U7UNWmYCGTKbkhDStrtjEUa2sm1mSJQCgHSUEom8sZBGPLy7zs6aehLqqDjTknD+vGlF4/vdA8/ugr8/pPu4ur2RHdv/fzS5R2ABzcze/G4u3PdYPXXtxzz6Pmr7tmDF93jOw+79TBd96h7/upZd+9ynK57cvFWt/ck1eY4fWIoiH3kUEhD5OyaGwJlEiANZeYlZVSEISXtcWORhnH8srQ+JQ1dd391sb6+oF/9uXvavba4kr985WF1sX4tFrdIxaZ8LEXhA5+4kpHT0rB6ueLY40l9YshCuM1BSUObeTdrBHISIA056ecfmzDkz8E5EZCGc2gVcuyxF6Ffbt5F2JSAz3x4552ClURcbN9ZuOr3YnXn4PAxmwjGSUOfGAoB3kgYpKGRRJsmAgURIA0FJSNxKIQhMfAJhiMNE0BM3cXpOw1XEV1d1K+i23wkaCUUF5uPL13ffVi9sNwdeJxpZ6KjpKFPDL4FKmlpkYakuA2GAAILAqShzTIgDHXmnTRUmLe+0rB+v+BBt/NVrKsL9kNf2tqtj11Jw55YbPCaQhpujYE0JK1O0pAUt8EQQIA0NFkDhKHetJOGCnPXVxouL+rvvexe3r3b3X258T7DsX/l32Rx6B2HFHcaKsxHlJBJQ5RMmgcC9RBwp6GeXE0RKWGYgmK+PkhDPvaDR+4lDZsvGXdX35J080Lz5jccHfvn/KtjHhz6RqVV5NvvQFz/5ZFvadr9nYY+MQxGpOEAAqRhADRNEEBgFAHSMApfVY0JQ1XpOhgsaagwh6elYfeCf/fblBbfr7T6Vemtr2Vdisabb19/w9KhY5Z3L958e/W1rbt3IzYeezr6UvbGz1X3iaHC9FQbMmmoNnUCR6BaAqSh2tSdFThhOAtXsQeThmJTczywY9+etGyxlIBPfGD5AvSR9xhu+42EzUeYtu4mbLx5sHPnYTuW5Ve8fqR77+K3Gd7/yY3fg1j0tXXcmTFUmKIqQyYNVaZN0AhUTYA0VJ2+XsEThl6YqjiINFSRJkEiMD8B0jA/YyMggMA2AdIQuyIIQ6z8koZY+TQbBAYTIA2D0WmIAAIDCZCGgeAqaEYYKkjSmSGShjOBORyBqARIQ9TMmhcC5RIgDeXmZkxkhGEMvXLbkoZycyMyBJISIA1JcRsMAQQWBEhDvDIgDPFyup4RaYibWzND4CwCpOEsXA5GAIEJCJCGCSAW1AVhKCgZM4RCGmaAqksEaiRAGmrMmpgRqJsAaag7f5vRE4Y4uTw2E9IQP8dmiEAvAqShFyYHIYDAhARIw4QwM3ZFGDLCTzg0aUgI21AIlEyANJScHbEhEJMAaag/r4Sh/hz2nQFp6EvKcQgEJ0AagifY9BAokABpKDApZ4REGM6AFeBQ0hAgiaaAwBQESMMUFPWBAALnECAN59Aq61jCUFY+UkRDGlJQNgYCFRAgDRUkSYgIBCNAGupMKGGoM29joyYNYwlqj0AQAqRhaCJ/pvvc+7+9+43u+7ov++R3d18wtBvtEGiQAGmoL+mEob6cTRUxaZiKpH4QqJxAk9Lwo9/X/fJf/BcHMvdnu3f93Pd37+iVU9LQC5ODEDhAgDTUVRaEoa58TR0taZiaqP4QqJRAy9Lwjn9y0b3r24YmjjQMJacdAqShnhogDPXkaq5Is0vDcmJ37tyZa376RQCBHgQiCsNy2icvSFZ3GkhDjyJxCAIzEDh5js4wpi7PJ0AYzmcWsUUR0rALlkRELDVzKolAVEnYZXzygqSnNHz+r9zrPvsjN71/4Yf/ffelj9+9+otDdxpWf/df120OPO60+2jUdzzrvuLvfWtJZSIWBGYncPIcnT0CA5wiQBhOEWrn8yKl4RB+ItFOUZrptARaEYRD1E5ekPSQhqUwfO49G5Kw12ZXGlZ//qYNCVi2efHHb6Rgt4+f/sfdr/3R7++6LRmZtg70hkCJBE6eoyUG3VBMhKGhZPeYajXScGwuZKJHlh3SBIGW5eBYgk9ekPSQhv2+f6z77Nc97j5/fWdgVxquPv9/RwXggFQsBvm/z/5M978/8p4zXsBuoqxNMjiBk+do8PmXPD3CUHJ28sRWvTS4K5GncIyalwBB6Mf/5AXJsW9P+oO3fX3q7kX/kTsNi0eTth9jWsW8uqvwO3Zfvr6M5e3ud/7Hf9m98xv7zc9RCNRO4OQ5WvsEK42fMFSauJnDDikN7krMXDW6T0aAHIxDffKCpNedht33E1YxHb3TcPX59nsQG+80rKThtyNq0JYAAB/RSURBVA9O7X2kYVzKta6MwMlztLL5RAiXMETI4jxzaEoayMQ8RaTX8QTIwXiGh3o4eUFyUhpuecn5+p2FE1+5ei0JK3E4dqdhHgR6RaBoAifP0aKjjxccYYiX0ylnRBqO0PSuxJRlpq9NAgQhXT2cvCA5JQ0HX1A+9XjSgfltPXp06p2HdHyMhEBuAifP0dwBNjQ+YWgo2QOnShrOBEcmzgTW8OHkIH/yT16QnJKGbvel543Hjo49nrTs8+/f677sk9/dfcElgv07EVcvPX+62/p9iL12+fmJAIG5CZw8R+cOQP+XBAiDQuhDgDT0oXTiGCIxAcTKuyAIZSbw5AXJSWlYzGvnHYTly83vfPvbu892669UPS4F11QOvVi9+xL2rS9fl8lXVAiMJXDyHB07gPYnCRCGk4gcsCJAGmYsBTIxI9xMXZODTOAHDuuCZCA4zRBIRMA5mgj0kWEIQ17+tY1OGhJnjEgkBj5iOIIwAl4hTV2QFJIIYSBwxkXrh55/EK8EBAhDAsjBhiANhSSUTORLBDnIx37ukUnD3IT1j8A4As7RcfyGtiYMQ8m13Y40FJx/IjF9cgjC9ExL7tEFScnZERsCh1/Adadh3sogDPPyjdw7aagwu2TidNLIwWlGLRxBGlrIsjnWTMA5mjZ7hCEt72ijkYZAGW1VJghCoCKeeCouSCYGqjsEJibgHJ0Y6C3dEYZ0rKOORBqiZnY1r0giQQ6CF+sM03NBMgNUXSIwIQHn6IQwCUMamA2PQhoaTX7JMkEOGi3KGabtgmQGqLpEYEICztEJYR7pyh2G+Rm3MgJpaCXTPeaZQyQIQo/EOGQwARckg9FpiEASAs7ReTEThnn5ttY7aWgt4wPmO4VM/NCDj2+N7NsxBiRCk7MJuCA5G5kGCCQl4BydDzdhmI9tqz2ThlYzP3Let4nE5t0Di9ZI0JqPIuCCZBQ+jRGYnYBzdB7E9t55uLbeK2lovQISzN/ilQCyIQ4ScEGiMBAom4BzdPr82HOnZ6rHKwKkQSUkIWARS4LZIDsEXJAoCQTKJuAcnTY/9tppeeptmwBpUBHJCFjMkqE20IqACxKlgEDZBJyj0+XHHjsdSz0dJkAaVEZSAha1pLibH8wFSfMlAEDhBJyj0yTI3joNR73cToA0qJDkBCxuyZE3O6ALkmZTb+KVEHCOjk+UPXU8Qz30I0Aa+nFy1MQELHITA9XdQQIuSBQGAmUTcI6Oy4+9dBw/rc8jQBrO4+XoCQlY7CaEqSvSoAYQqJAAaRieNHvocHZaDiNAGoZx02oiAha9iUDqhjSoAQQqJEAahiXN3jmMm1bjCJCGcfy0noCAxW8CiLogDWoAgQoJkIbzk2bPPJ+ZFtMQIA3TcNTLSAIWwZEANScNagCBCgmQhvOSZq88j5ejpyVAGqblqbcRBCyGI+BpShrUAAIVEiAN/ZNmj+zPypHzECAN83DV60ACFsWB4DQjDWoAgQoJkIZ+SbM39uPkqHkJkIZ5+ep9AAGL4wBompAGNYBApQQ21/wPPf9gpbOYL2x74nxs9XweAdJwHi9HJyJgkUwEOvgw/hUzeIJND4HgBOyFwRNc2fRIQ2UJaylci2VL2Z5nrqRhHq56RQCB+QnYA+dnbITzCJCG83g5OjEBi2Zi4MGGIw3BEmo6CDRCwN7XSKIrmyZpqCxhLYZr8Wwx69PMmTRMw1EvCCCQjoA9Lx1rI51HgDScx8vRmQhYRDOBr3xY0lB5AoWPQGME7HWNJbyy6ZKGyhLWcrgW05azP2zupGEYN63SELhz506agYxSBYEfevDxo3H6VqkqUhg+SNIQPsWxJkgcYuVz7tmQhrkJ638MAdIwhl68tsekgTDEy3WtMyINtWau4biJQ8PJP3PqpOFMYA5PSoA0JMVd/GCHpIEwFJ+2pgIkDU2lO85kiUOcXM45E9IwJ119jyVAGsYSjNd+UxwIQ7z81j4j0lB7BhuOnzg0nPyeUycNPUE5LAsB0pAFe9GDvnr1quj4BNc2AdLQdv6rnz1xqD6Fs06ANMyKV+cjCZCGkQADNicNAZMaaEqkIVAyW50KcWg186fnTRpOM3JEPgKkIR/7UkcmDaVmRlxLAqRBHYQgQBxCpHHySZCGyZHqcEICpGFCmEG6Ig1BEhl0GqQhaGJbnBZxaDHrt8+ZNKiJkgmQhpKzkyc20pCHu1H7ESAN/Tg5qhICxKGSRCUKkzQkAm2YQQRIwyBsoRuRhtDprX5ypKH6FJrALgHioCbWBEiDWiiZAGkoOTt5YiMNebgbtR8B0tCPk6MqI0AcKkvYTOGShpnA6nYSAqRhEoyhOiENodIZbjKkIVxKTei2f2Vef+ZHc9qoE9LQRp5rnSVpqDVz88VNGuZjq+fxBEjDeIZ6KJiAOw4FJydBaKQhAWRDDCZAGgajC9uQNIRNbYiJkYYQaTSJ2wgQh3brgzS0m/saZk4aashS2hhJQ1reRjuPAGk4j5ejKyVAHCpN3MiwScNIgJrPSoA0zIq3ys5JQ5VpayZo0tBMqk2UOLRXA6ShvZzXNGPSUFO20sRKGtJwNsowAqRhGDetKiVAHCpN3MCwScNAcJolIUAakmCuahDSUFW6mguWNDSXchMmDu3UAGloJ9c1zpQ01Ji1eWMmDfPy1fs4AqRhHD+tKyVAHCpN3Jlhk4YzgTk8KQHSkBR3FYORhirS1GyQpKHZ1Js4cYhfA6Qhfo5rniFpqDl788ROGubhqtdpCJCGaTjqpVICxKHSxPUMmzT0BOWwLARIQxbsRQ9KGopOT/PBkYbmSwAA4hC3BkhD3NxGmBlpiJDFaedAGqblqbdpCZCGaXnqrVICxKHSxJ0ImzTEzGuUWZGGKJmcbh6kYTqWepqeAGmYnqkeKyVAHCpN3C1hk4Z4OY00I9IQKZvTzIU0TMNRL/MQIA3zcNVrpQSIQ6WJOxI2aYiVz2izIQ3RMjp+PqRhPEM9zEeANMzHVs+VEiAOlSbuQNikIU4uI86ENETM6rg5kYZx/LSelwBpmJev3islQBwqTdxO2KQhRh6jzoI0DMns/e7JxVvd693T7rV7b3SfGtJFwW1IQ8HJEVpHGhQBAkcIEIf6S4M01J/DyDOYUhruP7no3nr97gFcL7unr93r3ghzdU0aIp8T5lY2AdJQdn5El5kAccicgJHDk4aRADWflcD00tAFE4RZ8RfZuTsNRaZFUCsCpEEpIHCCAHGot0RIQ725ayFy0tBCls+bI2k4j5ej0xIgDWl5G61SAsShzsSRhjrz1krUKaVh/fjSi8d3uocfXRG+/6S7eOv15e2J7t7i+aXLY97/ycW7Ap/pPvzqWfdgddjL1efrvFz1ddE9fu3t7s1F++VDUVvHPHrevXq2br348MXj7s71oMteVo8YXT9N9aJ7fOdhtw7r9s+PPJ60msvmA1pbc12O2nN+p+Obr0JJw3xs9TyeAGkYz1APjRAgDvUlmjTUl7OWIk4pDTcXwusL9P2L75v3Ijbeg1gJwKYUHDxunbjV8dcX7Dtich3HxYZILNt84BMrsVjFderzzRehD8TY7caxlobL9z5uJGVfpk6NP2+FkoZ5+ep9HAHSMI6f1o0RIA51JZw01JWv1qKdXhr2X4TeugOweQH/mQ8v7gbc23oH4uDdiEVSHj1/1T27d/NtRevjdu9AHBSC64v1xZ2Jy7sJj7rni7sY93buXtzk/tTnu7Jz4CJ/1dnhuHff+9gd79T481YpaZiXr97HESAN4/hp3SAB4lBP0klDPblqMdLppeH0i9CXF9LrJ4d2Hhu6fuxo61Gh1WM9l08xXX0L09VxB8ZaScnF5iNQy8Re/qv/WlBuHk3al47lwT0/X99p2LuTcVNJu3Eent+udJwaf95KJQ3z8tX7OAKkYRw/rRslQBzqSDxpqCNPrUaZQxoWV/CX/9L/oNv/KtappOHQF78u3nrYuquxJS8bjwuta+H45zt3Go6Jyp6srGVnfcdjPdLhOxWn4purZknDXGT1OwUB0jAFRX00SYA4lJ920lB+jlqOMIc0XD2y87J7efdud/fl9g+k3S4NNxfbZ99puC3J1y8w774MvWq09/lhaVi/zL051LA7DTvBnopv4gImDRMD1d2kBEjDpDh11hoB4lB2xklD2flpPbrk0rD5cnB39Q1Hm98wdEwG+r0bcPlP+yfeVziS8a3Hlw4cc+jxpusXoc99p6HfnYatKE7FN2Ehk4YJYepqcgKkYXKkOmyNAHEoN+OkodzciKzr0krD6rGk6/cY1s/u73+T0NajREe/hejw+xMHX6Ze9vHm24uvcn2j+9Tm/18Wwc6dg1Of7x6/7GH1a9j7AnT3gBSdkIaT489buaRhXr56H0eANIzjpzUClwSIQ5mFQBrKzIuorghMLw2H3yZYXkx/4gPLF6B33mNYP3qzEolDv7+wjPPg7x0cehF6ndjd32k4+BjURqxnfX7kdxp2x+z9zsb+nYqbr5RdTWgnvjnrlzTMSVffYwmQhrEEtUdgRYA4lFcKpKG8nIjohsCU0jAF12PvNEzRtz76ESAN/Tg5Kg8B0pCHu1GDEiAOZSWWNJSVD9FsEyANKmKXAGlQEyUTIA0lZ0dsVRIgDuWkjTSUkwuR7BMgDaqCNKiBmgiQhpqyJdZqCBCHMlJFGsrIgygOEyhNGuQpPwF3GvLnQATHCZAG1YHATASIw0xgz+iWNJwBy6HJCZCG5MiLH5A0FJ+ipgMkDU2n3+TnJkAc5iZ8e/+kIS9/o99OgDSokF0CpEFNlEyANJScHbGFIEAc8qWRNORjb+TTBEjDaUatHUEaWst4XfMlDXXlS7SVEiAOeRJHGvJwN2o/AqShH6eWjiINLWW7vrmShvpyJuJKCRCH9IkjDemZG7E/AdLQn1UrR5KGVjJd5zxJQ515E3WlBIhD2sSRhrS8jXYeAdJwHq8WjiYNLWS53jmShnpzJ/JKCRCHdIkjDelYG+l8AqThfGbRW5CG6Bmue36koe78ib5SAsQhTeJIQxrORhlGgDQM4xa5FWmInN3650Ya6s+hGVRKgDjMnzjSMD9jIwwnQBqGs4vakjREzWyMeZGGGHk0i0oJEId5E0ca5uWr93EESMM4fhFbk4aIWY0zJ9IQJ5dmUikB4jBf4kjDfGz1PJ4AaRjPMFoPpCFaRmPNhzTEyqfZVEqAOMyTuHmk4WX39LV73Rvdk+7irde7u/OErtcGCJCGBpJ85hRJw5nAHJ6UAGlIittgCBwnQBymr46qpeHF4+7Ow4/uQbn/5KJ763WqMn21pO+RNKRnXvqIpKH0DLUdH2loO/9mXxgB4jBtQuqXhk93Ty7e6q4dYS0Sj553r549mAbWZZ8740zTs15OECANSmSXAGlQEyUTIA0lZ0dsTRIgDtOlPZw0LNC8eHyne/jRR93zV8+6SbSBNExXcGf2RBrOBNbA4aShgSRXPEXSUHHyhB6XAHGYJreDpWH30aCtf9k/9E7D6u8+tY77wEX9rX0emO+Ri/mXT1/r7r3Rbd2BuBKJmz52H2G6avO+7vnFe7uPLBovw7z/5Hn3HT/ysHvjOuZV+ynvYkyTxrC9kIawqR08MdIwGJ2GCQiQhgSQDYHAEALEYQi17TaDpGF1cf/o+avu8gmgl0+7166u0lfvEuxKw+rP79t4ZGjZxyc+cPMI0ck++0vD7p2G5Z8/8t6N9xx2x7qcwlIaLlVh+3Gn5bDuNIwvtIE9kIaB4AI3Iw2BkxtgaqQhQBJNIS4B4jAut+dLwwEBuL7oXvxL/eUjQbvS8KJ7fOdh9+mjLyj36bOfNKwv/m9/Gfoqno9u3DG4tR1pGFdkI1qThhHwgjYlDUETG2RapCFIIk0jLgHiMDy3Z0vD6q7C+9Z3GdZDb11YH7nTsPiH/IMX8736PCYNu9+edOBOwV7TfUk59EjTdTPSMLzARrYkDSMBBmxOGgImNdCUSEOgZJpKXALEYVhuh0rD7mP+V6OvL9gP/07D9nsFG+80rKTh9j773Wk4TGH3fYrVUXt3GrbfgyANw2pqylakYUqaMfoiDTHyGHUWpCFqZs0rHAHicH5Kh0rD3p2GraFP/LjbtSSsxOHYnYZT0+l1B+CWl7I33rFwp+EU7Dyfk4Y83EselTSUnB2xkQY1gEBFBIjDeck6Wxq6U+8nLMfv8YvQWxf8ffoceKdh7yXtjfhIw3nFkuFo0pABeuFDkobCE9R4eKSh8QIw/foIEIf+OTtfGm6+aej625OWwy0l4CPv7S7eer27uysNW58dlor1i8jH+xwoDSvJ2Xzp+foxqb6PJx0Uj/6MHTmcAGkYzi5qS9IQNbMx5kUaYuTRLBojQBz6JXyINFz2vPubCvefrIThdim4jmrr+NXf3trnUGlYtNt5Z2L5MvaHP3Ove9jdfAXsrY8nXXax/krWxR/8TkO/4prgKNIwAcRgXZCGYAkNNh3SECyhptMOAeJwOteDpeF0145AYDQB0jAaYbgOSEO4lIaaEGkIlU6TaY0Acbg946ShtTOirvmShrrylSJa0pCCsjGGEiANQ8lph0AhBIjD8USQhkKKVBgHCZAGhbFLgDSoiZIJkIaSsyM2BHoSIA6HQZGGngXksCwESEMW7EUPShqKTk/zwZGG5ksAgCgEiMN+JklDlOo2DwQQQACB3ARIQ+4MGB+BCQkQh22YpGHC4tIVAggggEDTBEhD0+k3+YgEiMNNVklDxAo3JwQQQACBHARIQw7qxkRgZgLE4QowaZi50HSPAAIIINAMAdLQTKpNtDUCxGFfHD70/IOtlYH5IoAAAgggMAkB0jAJRp0gUCaBY+Lg4rnMfIkKAQQQQACBUgmQhlIzIy4ERhL45a+7d9nD8z/wN/Z6evjf9v9u5HCaByLwFT93EWg2poIAAgggMAUB0jAFRX0gUCCBtTTsigNhKDBZhYVEGgpLiHAQQACBAgiQhgKSIAQE5iCwKQ1z9K/PuARIQ9zcmhkCCCAwlABpGEpOOwQKJ0AaCk9QweGRhoKTIzQEEEAgEwHSkAm8YRGYmwBpmJtw3P5JQ9zcmhkCCCAwlABpGEpOOwQKJ0AaCk9QweGRhoKTIzQEEEAgEwHSkAm8YRGYmwBpmJtw3P5JQ9zcmhkCCCAwlABpGEpOOwQKJ0AaCk9QweGRhoKTIzQEEEAgEwHSkAm8YRGYmwBpmJtw3P5JQ9zcmhkCCCAwlABpGEpOOwQKJ0AaCk9QweGRhoKTIzQEEEAgEwHSkAm8YRGYmwBpmJtw3P5JQ9zcmhkCCCAwlABpGEpOOwQKJ0AaCk9QweGRhoKTIzQEEEAgEwHSkAm8YRGYmwBpmJtw3P5JQ9zcmhkCCCAwlABpGEpOOwQKJ0AaCk9QweGRhoKTIzQEEEAgEwHSkAm8YRGYmwBpmJtw3P5JQ9zcmhkCCCAwlABpGEpOOwQKJ0AaCk9QweGRhoKTIzQEEEAgEwHSkAm8YRGYmwBpmJtw3P5JQ9zcmhkCCCAwlABpGEpOOwQKJ0AaCk9QweGRhoKTIzQEEEAgEwHSkAm8YRGYmwBpmJtw3P5JQ9zcmhkCCCAwlABpGEpOOwQKJ0AaCk9QweGRhoKTIzQEEEAgEwHSkAm8YRGYmwBpmJtw3P5JQ9zcmhkCCCAwlABpGEpOOwQKJ0AaCk9QweGRhoKTIzQEEEAgEwHSkAm8YRGYmwBpmJtw3P5JQ9zcmhkCCCAwlABpGEpOOwQKJ0AaCk9QweGRhoKTIzQEEEAgEwHSkAm8YRGYmwBpGEP4t7p/9Is/2/317iu7//xVX969e0xXFbYlDRUmTcgIIIDAzARIw8yAdY9ALgJzSMPPfPbnuz/8q587MKV3dn/zq7+2+0tfmGu2U49LGqYmqj8EEEAAgboJkIa68yd6BI4SmE8aumCCoIh2CbjToCYQQAABBHYJkAY1gUBQAqQhaGITTIs0JIBsCAQQQKAyAqShsoQJF4G+BHJIw/rxpe/6yrvdD7xzFelv/2r3J/7nL3Xdl39D9+/e9UXd5TG/8a7FuwJf1P2Dn/+F7mOrw7559fl6fld9vaP74a9+R/d3F+1/YvHB1jGf+8Xud//Sr93g+OKv6f7X7/riDTyrR4w+v/6rL+1++Gu/qvu26yNu+/zI40mruSxjWf+3NdfFX/adX9ediq9vpqc/jjRMz1SPCCCAQO0ESEPtGRQ/AkcI5JCGmwvh9QX6/sX3zXsRG+9BrARgUwoOHree6+r46wv2HTG5juOLNkRi2eY3v3glFqu4Tn2++SL0gRi73TjW0nD53seNpOzL1Knx85Y1acjL3+gIIIBAiQRIQ4lZERMCExCYTxr2X4TeugOweQH/hb+yuBvw+a13IA7ejVjM90d/5WX3F37r5tuK1sft3oE4KATXF+uLOxOXdxN+vfvexV2Mz+zcvbjBeurzXdk5cJG/6uxw3LvvfeyOd2r8CQpgRBekYQQ8TRFAAIGgBEhD0MSaFgLzScPpF6EvL6R/fZWDnceGrh872npUaPVYz6/e9H113IGxVlLy3s1HoJZDXf6r/1pQbh792ZeO5cE9P1/fadi7k3FTX7txHp7frnScGj9v/ZKGvPyNjgACCJRIgDSUmBUxITABgZzS0K3+pf9j3f5XsU4lDZvvFdzg2h5vS142HhdaH3/88507DcdEZU9W1vKzvuOxHunwnYpT8U1QBoO6IA2DsGmEAAIIhCZAGkKn1+RaJpBTGq4e2Xln982f/1z3E+/Y/oG026Xh5mL77DsNtyX7+gXm3ZehV432Pj8sDeuXuTeHGnanYSfYU/ElLmTSkBi44RBAAIEKCJCGCpIkRASGEMgmDZsvB3dX33C0+Q1Dx2Sg37sBSxID3wfYenzpANFDjzddvwh97jsN/e40bEVxKr4hRTCwDWkYCE4zBBBAIDAB0hA4uabWNoE80nB1Qf+x6/cY1s/u73+TULf56NLRbyE6/P7EwZepl3382jsWX+X65d27N///sgx27hyc+nz3+EUPh8Y8/ncnpOHk+HlrlzTk5W90BBBAoEQCpKHErIgJgQkIzCcN+9+etAx3eTfh4W8uX4DeeY9h/ejNSiQO/f7Cuv31bztcX6Tf8tL17u80HHwMaiPWsz4/8jsNu2P2fmdj/07FzVfKrpK9E98EJTC4C9IwGJ2GCCCAQFgCpCFsak2sdQJzSMMUTI+90zBF3/qYhgBpmIajXhBAAIFIBEhDpGyaCwIbBEiDchhKgDQMJacdAgggEJcAaYibWzNrnABpaLwARkyfNIyApykCCCAQlABpCJpY00KgVGmQmfIJkIbycyRCBBBAIDUB0pCauPEQSESANCQCHXAY0hAwqaaEAAIIjCRAGkYC1ByBUgmQhlIzU35cpKH8HIkQAQQQSE2ANKQmbjwEEhEgDYlABxyGNARMqikhgAACIwmQhpEANUegVAKkodTMlB8XaSg/RyJEAAEEUhMgDamJGw+BRARIQyLQAYchDQGTakoIIIDASAKkYSRAzREolQBpKDUz5cdFGsrPkQgRQACB1ARIQ2rixkMgEQHSkAh0wGFIQ8CkmhICCCAwkgBpGAlQcwRKJUAaSs1M+XGRhvJzJEIEEEAgNQHSkJq48RBIRIA0JAIdcBjSEDCppoQAAgiMJEAaRgLUHIFSCZCGUjNTflykofwciRABBBBITYA0pCZuPAQSESANiUAHHIY0BEyqKSGAAAIjCZCGkQA1R6BUAqSh1MyUHxdpKD9HIkQAAQRSEyANqYkbD4FEBEhDItABhyENAZNqSggggMBIAqRhJEDNESiVAGkoNTPlx0Uays+RCBFAAIHUBEhDauLGQyARAdKQCHTAYUhDwKSaEgIIIDCSAGkYCVBzBEolQBpKzUz5cZGG8nMkQgQQQCA1AdKQmrjxEEhEgDQkAh1wGNIQMKmmhAACCIwkQBpGAtQcgVIJkIZSM1N+XKSh/ByJEAEEEEhNgDSkJm48BBIRIA2JQAcchjQETKopIYAAAiMJkIaRADVHoFQCpKHUzJQfF2koP0ciRAABBFITIA2piRsPgUQESEMi0AGHIQ0Bk2pKCCCAwEgCpGEkQM0RKJUAaSg1M+XHRRrKz5EIEUAAgdQESENq4sZDIBEB0pAIdMBhSEPApJoSAgggMJIAaRgJUHMESiVAGkrNTPlxkYbycyRCBBBAIDUB0pCauPEQSESANCQCHXAY0hAwqaaEAAIIjCRAGkYC1ByBUgmQhlIzU35cpKH8HIkQAQQQSE2ANKQmbjwEEEAAAQQQQAABBCojQBoqS5hwEUAAAQQQQAABBBBITYA0pCZuPAQQQAABBBBAAAEEKiNAGipLmHARQAABBBBAAAEEEEhNgDSkJm48BBBAAAEEEEAAAQQqI0AaKkuYcBFAAAEEEEAAAQQQSE2ANKQmbjwEEEAAAQQQQAABBCojQBoqS5hwEUAAAQQQQAABBBBITYA0pCZuPAQQQAABBBBAAAEEKiNAGipLmHARQAABBBBAAAEEEEhNgDSkJm48BBBAAAEEEEAAAQQqI0AaKkuYcBFAAAEEEEAAAQQQSE2ANKQmbjwEEEAAAQQQQAABBCojQBoqS5hwEUAAAQQQQAABBBBITYA0pCZuPAQQQAABBBBAAAEEKiNAGipLmHARQAABBBBAAAEEEEhNgDSkJm48BBBAAAEEEEAAAQQqI0AaKkuYcBFAAAEEEEAAAQQQSE2ANKQmbjwEEEAAAQQQQAABBCojQBoqS5hwEUAAAQQQQAABBBBITYA0pCZuPAQQQAABBBBAAAEEKiNAGipLmHARQAABBBBAAAEEEEhNgDSkJm48BBBAAAEEEEAAAQQqI0AaKkuYcBFAAAEEEEAAAQQQSE2ANKQmbjwEEEAAAQQQQAABBCoj8P8BoO2tLn/XVWgAAAAASUVORK5CYII=)"
      ],
      "metadata": {
        "id": "n4OcYVHqmzv6"
      }
    },
    {
      "cell_type": "code",
      "source": [
        "'''\n",
        "      Syntax :\n",
        "                        if condn :\n",
        "                           expressions...\n",
        "                           ..............\n",
        "                        else :\n",
        "                           expressions...\n",
        "                           ..............\n",
        "'''\n",
        "\"\""
      ],
      "metadata": {
        "colab": {
          "base_uri": "https://localhost:8080/",
          "height": 35
        },
        "id": "EeWPF1hJj5kk",
        "outputId": "74a919a8-f411-48b9-aa0f-6fe4a34a672b"
      },
      "execution_count": 84,
      "outputs": [
        {
          "output_type": "execute_result",
          "data": {
            "text/plain": [
              "''"
            ],
            "application/vnd.google.colaboratory.intrinsic+json": {
              "type": "string"
            }
          },
          "metadata": {},
          "execution_count": 84
        }
      ]
    },
    {
      "cell_type": "code",
      "source": [
        "name = input(\"Enter Name To Verify : \")\n",
        "if name == \"Luke Penn\":\n",
        "  print(\"\\n\"+f\"{color.green(name,'bold')} Is Exists In Database..\")\n",
        "else:\n",
        "  print(\"\\n\"+f\"{color.red(name,'bold')} Is Not Exists In DataBase..\")"
      ],
      "metadata": {
        "colab": {
          "base_uri": "https://localhost:8080/"
        },
        "id": "ExnD8lu0nGg-",
        "outputId": "9a37fffc-035c-494a-c42b-3e8711d4044b"
      },
      "execution_count": 86,
      "outputs": [
        {
          "output_type": "stream",
          "name": "stdout",
          "text": [
            "Enter Name To Verify : Mike\n",
            "\n",
            "\u001b[1;31mMike\u001b[0m Is Not Exists In DataBase..\n"
          ]
        }
      ]
    },
    {
      "cell_type": "code",
      "source": [
        "num1 = int(input(\"Enter 1st Num : \"))\n",
        "num2 = int(input(\"\\nEnter 2nd Num : \"))\n",
        "if num1>num2:  ## 10>50 ==> False\n",
        "  print()\n",
        "  print(f\"{color.green(num1,'bold')} Is Greater Than {color.red(num2,'bold')}\")\n",
        "else:  ## Execute\n",
        "  print()\n",
        "  print(f\"{color.green(num2,'bold')} Is Greater Than {color.red(num1,'bold')}\")"
      ],
      "metadata": {
        "colab": {
          "base_uri": "https://localhost:8080/"
        },
        "id": "lK_jUmmbnrR-",
        "outputId": "a2306989-3da1-42ea-f73c-bc2a30ac7755"
      },
      "execution_count": 87,
      "outputs": [
        {
          "output_type": "stream",
          "name": "stdout",
          "text": [
            "Enter 1st Num : 10\n",
            "\n",
            "Enter 2nd Num : 50\n",
            "\n",
            "\u001b[1;32m50\u001b[0m Is Greater Than \u001b[1;31m10\u001b[0m\n"
          ]
        }
      ]
    },
    {
      "cell_type": "markdown",
      "source": [
        "**EvenOdd**"
      ],
      "metadata": {
        "id": "uMSGhCqnoB3i"
      }
    },
    {
      "cell_type": "code",
      "source": [
        "num = int(input(\"Enter Num :\"))\n",
        "if num%2==0:\n",
        "  print(\"\\n\"+f\"{color.green(num,'bold')} Is Even Num.\")\n",
        "else:\n",
        "  print(\"\\n\"+f\"{color.red(num,'bold')} Is Odd Num.\")"
      ],
      "metadata": {
        "colab": {
          "base_uri": "https://localhost:8080/"
        },
        "id": "v2jFhyVGoAao",
        "outputId": "0577004f-b6d3-479d-9eab-025b228f5670"
      },
      "execution_count": 88,
      "outputs": [
        {
          "output_type": "stream",
          "name": "stdout",
          "text": [
            "Enter Num :120\n",
            "\n",
            "\u001b[1;32m120\u001b[0m Is Even Num.\n"
          ]
        }
      ]
    },
    {
      "cell_type": "code",
      "source": [
        "num = int(input(\"Enter Num :\"))\n",
        "if num%2==0:\n",
        "  print(\"\\n\"+f\"{color.green(num,'bold')} Is Even Num.\")\n",
        "else:\n",
        "  print(\"\\n\"+f\"{color.red(num,'bold')} Is Odd Num.\")"
      ],
      "metadata": {
        "colab": {
          "base_uri": "https://localhost:8080/"
        },
        "id": "O-mGVpvmn1vC",
        "outputId": "2a235825-9925-4b1d-8a67-19a934f3ff3a"
      },
      "execution_count": 89,
      "outputs": [
        {
          "output_type": "stream",
          "name": "stdout",
          "text": [
            "Enter Num :125\n",
            "\n",
            "\u001b[1;31m125\u001b[0m Is Odd Num.\n"
          ]
        }
      ]
    },
    {
      "cell_type": "markdown",
      "source": [
        "**Make A LogIn Program To Access Data**"
      ],
      "metadata": {
        "id": "qhp--VAqp684"
      }
    },
    {
      "cell_type": "markdown",
      "source": [
        "***Brief Idea About and Operator***"
      ],
      "metadata": {
        "id": "vE6QJIJkqFBQ"
      }
    },
    {
      "cell_type": "code",
      "source": [
        "True and True and True and True\n",
        "## 1  x   1    x    1   x    1\n",
        "## 1 => True"
      ],
      "metadata": {
        "colab": {
          "base_uri": "https://localhost:8080/"
        },
        "id": "ekr1YrKQoqb9",
        "outputId": "d4e5123b-42ae-4021-c169-b27768a502d0"
      },
      "execution_count": 90,
      "outputs": [
        {
          "output_type": "execute_result",
          "data": {
            "text/plain": [
              "True"
            ]
          },
          "metadata": {},
          "execution_count": 90
        }
      ]
    },
    {
      "cell_type": "code",
      "source": [
        "True and True and True and True and False\n",
        "## 1  x   1    x    1   x    1   x    0\n",
        "## 1 x 0 => 0 => False"
      ],
      "metadata": {
        "colab": {
          "base_uri": "https://localhost:8080/"
        },
        "id": "hy6b5OgdqTgt",
        "outputId": "5610d6e0-60bd-4c9e-a2f2-5260afc6f8f1"
      },
      "execution_count": 92,
      "outputs": [
        {
          "output_type": "execute_result",
          "data": {
            "text/plain": [
              "False"
            ]
          },
          "metadata": {},
          "execution_count": 92
        }
      ]
    },
    {
      "cell_type": "code",
      "source": [
        "username = input(\"Enter UserName : \")\n",
        "password = input(\"\\nEnter Password :\")\n",
        "un = \"mike@gmail.com\"\n",
        "pw = \"M25@luke\"\n",
        "if username==un and password==pw:\n",
        "  print(\"\\n\"+color.green(\"SuccessFully LogIn..\"))\n",
        "else:\n",
        "  print(\"\\n\"+color.red(\"UserName Or Password Was Incorrect.\"))"
      ],
      "metadata": {
        "colab": {
          "base_uri": "https://localhost:8080/"
        },
        "id": "m4LtOZcrqac4",
        "outputId": "cb28a84d-43e7-44ee-9404-8a63dbfa532f"
      },
      "execution_count": 94,
      "outputs": [
        {
          "output_type": "stream",
          "name": "stdout",
          "text": [
            "Enter UserName : mike@gmail.com\n",
            "\n",
            "Enter Password :M25@luke\n",
            "\n",
            "\u001b[32mSuccessFully LogIn..\u001b[0m\n"
          ]
        }
      ]
    },
    {
      "cell_type": "code",
      "source": [
        "username = input(\"Enter UserName : \")\n",
        "password = input(\"\\nEnter Password :\")\n",
        "un = \"mike@gmail.com\"\n",
        "pw = \"M25@luke\"\n",
        "if username==un and password==pw:\n",
        "  print(\"\\n\"+color.green(\"SuccessFully LogIn..\"))\n",
        "else:\n",
        "  print(\"\\n\"+color.red(\"UserName Or Password Was Incorrect.\"))"
      ],
      "metadata": {
        "colab": {
          "base_uri": "https://localhost:8080/"
        },
        "id": "4hVcnXE7rCBC",
        "outputId": "0bac1644-1e03-4e27-fa7b-477b9814deb1"
      },
      "execution_count": 95,
      "outputs": [
        {
          "output_type": "stream",
          "name": "stdout",
          "text": [
            "Enter UserName : mike@gmail.com\n",
            "\n",
            "Enter Password :M2500000]\n",
            "\n",
            "\u001b[31mUserName Or Password Was Incorrect.\u001b[0m\n"
          ]
        }
      ]
    },
    {
      "cell_type": "markdown",
      "source": [
        "**Give Hide Password**"
      ],
      "metadata": {
        "id": "ltCfQvqHrfCZ"
      }
    },
    {
      "cell_type": "code",
      "source": [
        "'''\n",
        "   Use : Module\n",
        "                 => getpass\n",
        "                 => Syntax : from getpass import getpass\n",
        "'''\n",
        "\"\""
      ],
      "metadata": {
        "colab": {
          "base_uri": "https://localhost:8080/",
          "height": 35
        },
        "id": "g7FkpXX2rQto",
        "outputId": "34bd1974-23be-4c1f-c7a2-58105d2f89d0"
      },
      "execution_count": 96,
      "outputs": [
        {
          "output_type": "execute_result",
          "data": {
            "text/plain": [
              "''"
            ],
            "application/vnd.google.colaboratory.intrinsic+json": {
              "type": "string"
            }
          },
          "metadata": {},
          "execution_count": 96
        }
      ]
    },
    {
      "cell_type": "code",
      "source": [
        "from getpass import getpass"
      ],
      "metadata": {
        "id": "oUoi34kAr0zw"
      },
      "execution_count": 97,
      "outputs": []
    },
    {
      "cell_type": "code",
      "source": [
        "username = input(\"Enter UserName : \")\n",
        "password = getpass(\"\\nEnter Password :\")\n",
        "un = \"mike@gmail.com\"\n",
        "pw = \"M25@luke\"\n",
        "if username==un and password==pw:\n",
        "  print(\"\\n\"+color.green(\"SuccessFully LogIn..\"))\n",
        "else:\n",
        "  print(\"\\n\"+color.red(\"UserName Or Password Was Incorrect.\"))"
      ],
      "metadata": {
        "colab": {
          "base_uri": "https://localhost:8080/"
        },
        "id": "C9TQMBoJrxT4",
        "outputId": "6e3a92cc-a865-494f-d7b3-25e29e6777fd"
      },
      "execution_count": 98,
      "outputs": [
        {
          "output_type": "stream",
          "name": "stdout",
          "text": [
            "Enter UserName : mike@gmail.com\n",
            "\n",
            "Enter Password :··········\n",
            "\n",
            "\u001b[32mSuccessFully LogIn..\u001b[0m\n"
          ]
        }
      ]
    },
    {
      "cell_type": "code",
      "source": [
        "text = input(\"Enter Text Data : \")\n",
        "print(\"\\n\"+text)"
      ],
      "metadata": {
        "colab": {
          "base_uri": "https://localhost:8080/"
        },
        "id": "BBCf-aUBr65I",
        "outputId": "bd256599-8868-4c8c-cf73-c613b3b9ca24"
      },
      "execution_count": 99,
      "outputs": [
        {
          "output_type": "stream",
          "name": "stdout",
          "text": [
            "Enter Text Data : Hello Mike\\nHello Luke\n",
            "\n",
            "Hello Mike\\nHello Luke\n"
          ]
        }
      ]
    },
    {
      "cell_type": "markdown",
      "source": [
        "**Assignment**\n",
        "\n",
        "\n",
        "1. Give Multiple Lines In Input Function Using '\\n'.\n",
        "\n",
        "2. Make A Stranger Chat Bot With Given Instructions :    \n",
        "        1. First Need To Log In Or Sign UP.\n",
        "        2. Declare The Stranger Names.\n",
        "        3. Gives Only 10 Lines To Chat.\n",
        "        4. Prompt : Continue Or Stop\n",
        "        5. Continue : Gives 10 Lines Or More.\n",
        "        6. Exit     : Stop Program.\n",
        "\n",
        "3. Make A Student Database Using While Loop.\n",
        "\n",
        "4. Print Your Name In Star Pattern.\n",
        "\n",
        "5. Make A Program About Fibonacci Series.\n",
        "\n",
        "6. Make A Program In Python To Check Data Limit of Internet.\n",
        "\n",
        "7. Make A Program To Scrap A Table Given URL :\n",
        "\n",
        "   url : https://www.espncricinfo.com/records/most-runs-in-career-223646\n",
        "\n",
        "8. Make A Program To Convert Text Into Mp3 File.\n",
        "\n",
        "9. Make A Program About The Cipher.\n",
        "\n",
        "10. Make A Program To Remove Any Text From A PDF File."
      ],
      "metadata": {
        "id": "vL5-5wqHuImA"
      }
    },
    {
      "cell_type": "code",
      "source": [],
      "metadata": {
        "id": "cExREdW-t5Ry"
      },
      "execution_count": null,
      "outputs": []
    }
  ]
}
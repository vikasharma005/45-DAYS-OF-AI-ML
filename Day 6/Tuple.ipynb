{
 "cells": [
  {
   "cell_type": "code",
   "execution_count": 1,
   "id": "82fda518",
   "metadata": {},
   "outputs": [],
   "source": [
    "# Tuple() :\n",
    "\n",
    "## It Is Used To Stored Multiple Data Elements In A Single Object.\n",
    "## Immutable : It Can Not Be Modify.\n",
    "## Ordered\n",
    "## Allow To Store Duplicate Values.\n",
    "## Support Index Value."
   ]
  },
  {
   "cell_type": "code",
   "execution_count": 2,
   "id": "847a7126",
   "metadata": {},
   "outputs": [
    {
     "data": {
      "text/plain": [
       "''"
      ]
     },
     "execution_count": 2,
     "metadata": {},
     "output_type": "execute_result"
    }
   ],
   "source": [
    "'''\n",
    "   ## Tuple :\n",
    "   \n",
    "      ==> It Is Used To Store Multiple Data Elements.\n",
    "      \n",
    "      ==> It Supports The Duplicate Data Elements.\n",
    "      \n",
    "      ==> Ordered\n",
    "      \n",
    "      ==> Imutable\n",
    "      \n",
    "          : It Can Not Modify    \n",
    "\n",
    "'''\n",
    "\"\""
   ]
  },
  {
   "cell_type": "markdown",
   "id": "adbf04d8",
   "metadata": {},
   "source": [
    "## How To Make Tuple"
   ]
  },
  {
   "cell_type": "code",
   "execution_count": 1,
   "id": "c76fa969",
   "metadata": {},
   "outputs": [],
   "source": [
    "## Use : ()"
   ]
  },
  {
   "cell_type": "code",
   "execution_count": 2,
   "id": "200a0a01",
   "metadata": {},
   "outputs": [],
   "source": [
    "t1 = ()"
   ]
  },
  {
   "cell_type": "code",
   "execution_count": 3,
   "id": "bd982708",
   "metadata": {},
   "outputs": [
    {
     "data": {
      "text/plain": [
       "()"
      ]
     },
     "execution_count": 3,
     "metadata": {},
     "output_type": "execute_result"
    }
   ],
   "source": [
    "t1"
   ]
  },
  {
   "cell_type": "code",
   "execution_count": 4,
   "id": "015cd189",
   "metadata": {},
   "outputs": [
    {
     "data": {
      "text/plain": [
       "tuple"
      ]
     },
     "execution_count": 4,
     "metadata": {},
     "output_type": "execute_result"
    }
   ],
   "source": [
    "type(t1)"
   ]
  },
  {
   "cell_type": "code",
   "execution_count": 5,
   "id": "959a70b0",
   "metadata": {},
   "outputs": [],
   "source": [
    "t2 = (\"Sean\")"
   ]
  },
  {
   "cell_type": "code",
   "execution_count": 6,
   "id": "fc5dff19",
   "metadata": {},
   "outputs": [
    {
     "data": {
      "text/plain": [
       "'Sean'"
      ]
     },
     "execution_count": 6,
     "metadata": {},
     "output_type": "execute_result"
    }
   ],
   "source": [
    "t2"
   ]
  },
  {
   "cell_type": "code",
   "execution_count": 7,
   "id": "c0243a01",
   "metadata": {},
   "outputs": [
    {
     "data": {
      "text/plain": [
       "str"
      ]
     },
     "execution_count": 7,
     "metadata": {},
     "output_type": "execute_result"
    }
   ],
   "source": [
    "type(t2)"
   ]
  },
  {
   "cell_type": "markdown",
   "id": "ef5106bb",
   "metadata": {},
   "source": [
    "## Note : Tuple Can Not Stored A Single Element"
   ]
  },
  {
   "cell_type": "code",
   "execution_count": 8,
   "id": "7f9b54e6",
   "metadata": {},
   "outputs": [],
   "source": [
    "t2 = (\"Sean\",)"
   ]
  },
  {
   "cell_type": "code",
   "execution_count": 9,
   "id": "d3ab6b52",
   "metadata": {},
   "outputs": [
    {
     "data": {
      "text/plain": [
       "('Sean',)"
      ]
     },
     "execution_count": 9,
     "metadata": {},
     "output_type": "execute_result"
    }
   ],
   "source": [
    "t2"
   ]
  },
  {
   "cell_type": "code",
   "execution_count": 10,
   "id": "b327788a",
   "metadata": {},
   "outputs": [
    {
     "data": {
      "text/plain": [
       "tuple"
      ]
     },
     "execution_count": 10,
     "metadata": {},
     "output_type": "execute_result"
    }
   ],
   "source": [
    "type(t2)"
   ]
  },
  {
   "cell_type": "markdown",
   "id": "4336ff53",
   "metadata": {},
   "source": [
    "## Ordered"
   ]
  },
  {
   "cell_type": "code",
   "execution_count": 11,
   "id": "05cfcd18",
   "metadata": {},
   "outputs": [],
   "source": [
    "t5 = (100,25,125,2,1,10)"
   ]
  },
  {
   "cell_type": "code",
   "execution_count": 12,
   "id": "95bd9d51",
   "metadata": {},
   "outputs": [
    {
     "data": {
      "text/plain": [
       "(100, 25, 125, 2, 1, 10)"
      ]
     },
     "execution_count": 12,
     "metadata": {},
     "output_type": "execute_result"
    }
   ],
   "source": [
    "t5"
   ]
  },
  {
   "cell_type": "markdown",
   "id": "c40405c9",
   "metadata": {},
   "source": [
    "## Support Duplicate Items"
   ]
  },
  {
   "cell_type": "code",
   "execution_count": 13,
   "id": "0ce413b6",
   "metadata": {},
   "outputs": [],
   "source": [
    "t6 = (\"Sean\",\"Sean\")"
   ]
  },
  {
   "cell_type": "code",
   "execution_count": 14,
   "id": "b60d840a",
   "metadata": {},
   "outputs": [
    {
     "data": {
      "text/plain": [
       "('Sean', 'Sean')"
      ]
     },
     "execution_count": 14,
     "metadata": {},
     "output_type": "execute_result"
    }
   ],
   "source": [
    "t6"
   ]
  },
  {
   "cell_type": "markdown",
   "id": "3360b7d7",
   "metadata": {},
   "source": [
    "## How To Check The Length of The Tuple"
   ]
  },
  {
   "cell_type": "code",
   "execution_count": 15,
   "id": "d4416c18",
   "metadata": {},
   "outputs": [],
   "source": [
    "## use : len()\n",
    "## It Is Used To Check The length of The Tuple"
   ]
  },
  {
   "cell_type": "code",
   "execution_count": 16,
   "id": "e4dfb243",
   "metadata": {},
   "outputs": [
    {
     "data": {
      "text/plain": [
       "('Sean',)"
      ]
     },
     "execution_count": 16,
     "metadata": {},
     "output_type": "execute_result"
    }
   ],
   "source": [
    "t2"
   ]
  },
  {
   "cell_type": "code",
   "execution_count": 17,
   "id": "6d6b57ae",
   "metadata": {},
   "outputs": [
    {
     "name": "stdout",
     "output_type": "stream",
     "text": [
      "No of Elements Are : 1\n"
     ]
    }
   ],
   "source": [
    "print(\"No of Elements Are :\",len(t2))"
   ]
  },
  {
   "cell_type": "markdown",
   "id": "9ebe48de",
   "metadata": {},
   "source": [
    "## Index"
   ]
  },
  {
   "cell_type": "code",
   "execution_count": 18,
   "id": "d440f9cb",
   "metadata": {},
   "outputs": [],
   "source": [
    "t1 = (\"Mike\",\"Jack\",\"Luke\",\"Ryan\",\"Kyle\")"
   ]
  },
  {
   "cell_type": "code",
   "execution_count": 19,
   "id": "afb6c1f2",
   "metadata": {},
   "outputs": [
    {
     "data": {
      "text/plain": [
       "('Mike', 'Jack', 'Luke', 'Ryan', 'Kyle')"
      ]
     },
     "execution_count": 19,
     "metadata": {},
     "output_type": "execute_result"
    }
   ],
   "source": [
    "t1"
   ]
  },
  {
   "cell_type": "code",
   "execution_count": 20,
   "id": "45f91cdf",
   "metadata": {},
   "outputs": [
    {
     "data": {
      "text/plain": [
       "'Mike'"
      ]
     },
     "execution_count": 20,
     "metadata": {},
     "output_type": "execute_result"
    }
   ],
   "source": [
    "t1[0]"
   ]
  },
  {
   "cell_type": "code",
   "execution_count": 21,
   "id": "f3433b88",
   "metadata": {},
   "outputs": [
    {
     "ename": "IndexError",
     "evalue": "tuple index out of range",
     "output_type": "error",
     "traceback": [
      "\u001b[1;31m---------------------------------------------------------------------------\u001b[0m",
      "\u001b[1;31mIndexError\u001b[0m                                Traceback (most recent call last)",
      "Input \u001b[1;32mIn [21]\u001b[0m, in \u001b[0;36m<cell line: 1>\u001b[1;34m()\u001b[0m\n\u001b[1;32m----> 1\u001b[0m \u001b[43mt1\u001b[49m\u001b[43m[\u001b[49m\u001b[38;5;241;43m5\u001b[39;49m\u001b[43m]\u001b[49m\n",
      "\u001b[1;31mIndexError\u001b[0m: tuple index out of range"
     ]
    }
   ],
   "source": [
    "t1[5]"
   ]
  },
  {
   "cell_type": "code",
   "execution_count": 24,
   "id": "dc89ea2d",
   "metadata": {},
   "outputs": [
    {
     "data": {
      "text/plain": [
       "'Kyle'"
      ]
     },
     "execution_count": 24,
     "metadata": {},
     "output_type": "execute_result"
    }
   ],
   "source": [
    "t1[4]"
   ]
  },
  {
   "cell_type": "code",
   "execution_count": 22,
   "id": "0255aaf3",
   "metadata": {},
   "outputs": [
    {
     "data": {
      "text/plain": [
       "('Mike', 'Luke', 'Kyle')"
      ]
     },
     "execution_count": 22,
     "metadata": {},
     "output_type": "execute_result"
    }
   ],
   "source": [
    "t1[::2]"
   ]
  },
  {
   "cell_type": "markdown",
   "id": "a04dfda9",
   "metadata": {},
   "source": [
    "## Immutable"
   ]
  },
  {
   "cell_type": "code",
   "execution_count": 23,
   "id": "6febc903",
   "metadata": {},
   "outputs": [
    {
     "data": {
      "text/plain": [
       "('Mike', 'Jack', 'Luke', 'Ryan', 'Kyle')"
      ]
     },
     "execution_count": 23,
     "metadata": {},
     "output_type": "execute_result"
    }
   ],
   "source": [
    "t1"
   ]
  },
  {
   "cell_type": "code",
   "execution_count": 24,
   "id": "13afa4de",
   "metadata": {},
   "outputs": [
    {
     "data": {
      "text/plain": [
       "'Mike'"
      ]
     },
     "execution_count": 24,
     "metadata": {},
     "output_type": "execute_result"
    }
   ],
   "source": [
    "t1[0]"
   ]
  },
  {
   "cell_type": "code",
   "execution_count": 25,
   "id": "aae24960",
   "metadata": {},
   "outputs": [
    {
     "ename": "TypeError",
     "evalue": "'tuple' object does not support item assignment",
     "output_type": "error",
     "traceback": [
      "\u001b[1;31m---------------------------------------------------------------------------\u001b[0m",
      "\u001b[1;31mTypeError\u001b[0m                                 Traceback (most recent call last)",
      "Input \u001b[1;32mIn [25]\u001b[0m, in \u001b[0;36m<cell line: 1>\u001b[1;34m()\u001b[0m\n\u001b[1;32m----> 1\u001b[0m t1[\u001b[38;5;241m0\u001b[39m] \u001b[38;5;241m=\u001b[39m \u001b[38;5;124m\"\u001b[39m\u001b[38;5;124mJackie\u001b[39m\u001b[38;5;124m\"\u001b[39m\n",
      "\u001b[1;31mTypeError\u001b[0m: 'tuple' object does not support item assignment"
     ]
    }
   ],
   "source": [
    "t1[0] = \"Jackie\""
   ]
  },
  {
   "cell_type": "markdown",
   "id": "cb210a84",
   "metadata": {},
   "source": [
    "# Slicing/Indexing"
   ]
  },
  {
   "cell_type": "code",
   "execution_count": 28,
   "id": "7a62d7c2",
   "metadata": {},
   "outputs": [
    {
     "data": {
      "text/plain": [
       "('Mike', 'Jack', 'Luke', 'Ryan', 'Kyle')"
      ]
     },
     "execution_count": 28,
     "metadata": {},
     "output_type": "execute_result"
    }
   ],
   "source": [
    "t1"
   ]
  },
  {
   "cell_type": "code",
   "execution_count": 29,
   "id": "bdffbfb3",
   "metadata": {},
   "outputs": [
    {
     "data": {
      "text/plain": [
       "('Mike', 'Luke', 'Kyle')"
      ]
     },
     "execution_count": 29,
     "metadata": {},
     "output_type": "execute_result"
    }
   ],
   "source": [
    "t1[0::2]"
   ]
  },
  {
   "cell_type": "code",
   "execution_count": 31,
   "id": "1f54d450",
   "metadata": {},
   "outputs": [
    {
     "data": {
      "text/plain": [
       "('Jack', 'Ryan')"
      ]
     },
     "execution_count": 31,
     "metadata": {},
     "output_type": "execute_result"
    }
   ],
   "source": [
    "t1[1:5:2]"
   ]
  },
  {
   "cell_type": "markdown",
   "id": "6c5b3da3",
   "metadata": {},
   "source": [
    "## How To Make Tuple Input Function"
   ]
  },
  {
   "cell_type": "code",
   "execution_count": 32,
   "id": "66af40c4",
   "metadata": {},
   "outputs": [],
   "source": [
    "## Use : tuple(input().split())"
   ]
  },
  {
   "cell_type": "code",
   "execution_count": 27,
   "id": "5a596fce",
   "metadata": {},
   "outputs": [
    {
     "name": "stdout",
     "output_type": "stream",
     "text": [
      "Mike Jack Luke Peter Finn\n",
      "\n",
      "Emp Data : ('Mike', 'Jack', 'Luke', 'Peter', 'Finn')\n"
     ]
    }
   ],
   "source": [
    "data = tuple(input().split())\n",
    "print(\"\\nEmp Data :\",data)"
   ]
  },
  {
   "cell_type": "code",
   "execution_count": 2,
   "id": "43dadd0a",
   "metadata": {},
   "outputs": [
    {
     "data": {
      "text/plain": [
       "tuple"
      ]
     },
     "execution_count": 2,
     "metadata": {},
     "output_type": "execute_result"
    }
   ],
   "source": [
    "type(data)"
   ]
  },
  {
   "cell_type": "markdown",
   "id": "1c6bb4fa",
   "metadata": {},
   "source": [
    "## Methods"
   ]
  },
  {
   "cell_type": "code",
   "execution_count": 3,
   "id": "ea145644",
   "metadata": {},
   "outputs": [
    {
     "data": {
      "text/plain": [
       "['__add__',\n",
       " '__class__',\n",
       " '__class_getitem__',\n",
       " '__contains__',\n",
       " '__delattr__',\n",
       " '__dir__',\n",
       " '__doc__',\n",
       " '__eq__',\n",
       " '__format__',\n",
       " '__ge__',\n",
       " '__getattribute__',\n",
       " '__getitem__',\n",
       " '__getnewargs__',\n",
       " '__gt__',\n",
       " '__hash__',\n",
       " '__init__',\n",
       " '__init_subclass__',\n",
       " '__iter__',\n",
       " '__le__',\n",
       " '__len__',\n",
       " '__lt__',\n",
       " '__mul__',\n",
       " '__ne__',\n",
       " '__new__',\n",
       " '__reduce__',\n",
       " '__reduce_ex__',\n",
       " '__repr__',\n",
       " '__rmul__',\n",
       " '__setattr__',\n",
       " '__sizeof__',\n",
       " '__str__',\n",
       " '__subclasshook__',\n",
       " 'count',\n",
       " 'index']"
      ]
     },
     "execution_count": 3,
     "metadata": {},
     "output_type": "execute_result"
    }
   ],
   "source": [
    "dir(tuple)"
   ]
  },
  {
   "cell_type": "code",
   "execution_count": 4,
   "id": "f2e58fc5",
   "metadata": {},
   "outputs": [
    {
     "data": {
      "text/plain": [
       "''"
      ]
     },
     "execution_count": 4,
     "metadata": {},
     "output_type": "execute_result"
    }
   ],
   "source": [
    "'''\n",
    "      ## Count()\n",
    "      ## Index()\n",
    "'''\n",
    "\"\""
   ]
  },
  {
   "cell_type": "markdown",
   "id": "350fd57e",
   "metadata": {},
   "source": [
    "## count()"
   ]
  },
  {
   "cell_type": "code",
   "execution_count": 5,
   "id": "dbdccb48",
   "metadata": {},
   "outputs": [
    {
     "data": {
      "text/plain": [
       "''"
      ]
     },
     "execution_count": 5,
     "metadata": {},
     "output_type": "execute_result"
    }
   ],
   "source": [
    "'''\n",
    " ## count() :\n",
    " \n",
    "       => It Is Used To Count Perticular Data Eleement.\n",
    "       \n",
    "       => Syntax :\n",
    "       \n",
    "                     tuple_name.count(element)\n",
    "'''\n",
    "\"\""
   ]
  },
  {
   "cell_type": "code",
   "execution_count": 28,
   "id": "18847281",
   "metadata": {},
   "outputs": [
    {
     "data": {
      "text/plain": [
       "('Mike', 'Jack', 'Luke', 'Peter', 'Finn')"
      ]
     },
     "execution_count": 28,
     "metadata": {},
     "output_type": "execute_result"
    }
   ],
   "source": [
    "data"
   ]
  },
  {
   "cell_type": "code",
   "execution_count": 29,
   "id": "7dbdf4e6",
   "metadata": {},
   "outputs": [
    {
     "data": {
      "text/plain": [
       "1"
      ]
     },
     "execution_count": 29,
     "metadata": {},
     "output_type": "execute_result"
    }
   ],
   "source": [
    "data.count(\"Mike\")"
   ]
  },
  {
   "cell_type": "code",
   "execution_count": 30,
   "id": "680dbc3c",
   "metadata": {},
   "outputs": [
    {
     "name": "stdout",
     "output_type": "stream",
     "text": [
      "Enter Value :AB\n"
     ]
    },
    {
     "data": {
      "text/plain": [
       "0"
      ]
     },
     "execution_count": 30,
     "metadata": {},
     "output_type": "execute_result"
    }
   ],
   "source": [
    "data.count(input(\"Enter Value :\"))"
   ]
  },
  {
   "cell_type": "code",
   "execution_count": 31,
   "id": "f46f0c67",
   "metadata": {},
   "outputs": [
    {
     "name": "stdout",
     "output_type": "stream",
     "text": [
      "Do You Want To Count The Perticular Element ? :Yes\n",
      "\n",
      "Enter The Value :Mike\n",
      "\n",
      "Mike Is : 1\n"
     ]
    }
   ],
   "source": [
    "inp = input(\"Do You Want To Count The Perticular Element ? :\")\n",
    "if inp ==\"Yes\":\n",
    "    value = input(\"\\nEnter The Value :\")\n",
    "    print()\n",
    "    print(value,\"Is :\", data.count(value))\n",
    "else:\n",
    "    print(\"\\nExit..\")"
   ]
  },
  {
   "cell_type": "markdown",
   "id": "daeacde8",
   "metadata": {},
   "source": [
    "## index()"
   ]
  },
  {
   "cell_type": "code",
   "execution_count": 11,
   "id": "6b36a441",
   "metadata": {},
   "outputs": [
    {
     "data": {
      "text/plain": [
       "''"
      ]
     },
     "execution_count": 11,
     "metadata": {},
     "output_type": "execute_result"
    }
   ],
   "source": [
    "'''\n",
    "  ## index() :\n",
    "  \n",
    "      => It Is Used To Check The Pos/Index Value of Any Element.\n",
    "      \n",
    "      ## Syntax :\n",
    "       \n",
    "                   tuple_name.index(Element)\n",
    "\n",
    "'''\n",
    "''"
   ]
  },
  {
   "cell_type": "code",
   "execution_count": 32,
   "id": "0fa9a8bd",
   "metadata": {},
   "outputs": [
    {
     "data": {
      "text/plain": [
       "4"
      ]
     },
     "execution_count": 32,
     "metadata": {},
     "output_type": "execute_result"
    }
   ],
   "source": [
    "data.index(\"Finn\")"
   ]
  },
  {
   "cell_type": "code",
   "execution_count": 33,
   "id": "9a81fd54",
   "metadata": {},
   "outputs": [
    {
     "data": {
      "text/plain": [
       "('Mike', 'Jack', 'Luke', 'Peter', 'Finn')"
      ]
     },
     "execution_count": 33,
     "metadata": {},
     "output_type": "execute_result"
    }
   ],
   "source": [
    "data"
   ]
  },
  {
   "cell_type": "code",
   "execution_count": 35,
   "id": "4bc4c21b",
   "metadata": {},
   "outputs": [
    {
     "data": {
      "text/plain": [
       "1"
      ]
     },
     "execution_count": 35,
     "metadata": {},
     "output_type": "execute_result"
    }
   ],
   "source": [
    "data.index(\"Jack\")"
   ]
  },
  {
   "cell_type": "code",
   "execution_count": 36,
   "id": "4ce602be",
   "metadata": {},
   "outputs": [
    {
     "name": "stdout",
     "output_type": "stream",
     "text": [
      "Enter Value :Jenny\n"
     ]
    },
    {
     "ename": "ValueError",
     "evalue": "tuple.index(x): x not in tuple",
     "output_type": "error",
     "traceback": [
      "\u001b[1;31m---------------------------------------------------------------------------\u001b[0m",
      "\u001b[1;31mValueError\u001b[0m                                Traceback (most recent call last)",
      "Input \u001b[1;32mIn [36]\u001b[0m, in \u001b[0;36m<cell line: 1>\u001b[1;34m()\u001b[0m\n\u001b[1;32m----> 1\u001b[0m \u001b[43mdata\u001b[49m\u001b[38;5;241;43m.\u001b[39;49m\u001b[43mindex\u001b[49m\u001b[43m(\u001b[49m\u001b[38;5;28;43minput\u001b[39;49m\u001b[43m(\u001b[49m\u001b[38;5;124;43m\"\u001b[39;49m\u001b[38;5;124;43mEnter Value :\u001b[39;49m\u001b[38;5;124;43m\"\u001b[39;49m\u001b[43m)\u001b[49m\u001b[43m)\u001b[49m\n",
      "\u001b[1;31mValueError\u001b[0m: tuple.index(x): x not in tuple"
     ]
    }
   ],
   "source": [
    "data.index(input(\"Enter Value :\"))"
   ]
  },
  {
   "cell_type": "markdown",
   "id": "c6b44e54",
   "metadata": {},
   "source": [
    "## Handle The Error"
   ]
  },
  {
   "cell_type": "code",
   "execution_count": 17,
   "id": "6e762ab8",
   "metadata": {},
   "outputs": [
    {
     "name": "stdout",
     "output_type": "stream",
     "text": [
      "Enter Value :Jack\n",
      "\n",
      "Enter Value To Check Index No :Finn\n",
      "\n",
      "Index No Is : 4\n"
     ]
    }
   ],
   "source": [
    "value = input(\"Enter Value :\")\n",
    "if value in data:\n",
    "    value = input(\"\\nEnter Value To Check Index No :\")\n",
    "    print(\"\\nIndex No Is :\",data.index(value))\n",
    "else:\n",
    "    print(\"\\nGiven Value :\",value,\"Is Not Exist.\")"
   ]
  },
  {
   "cell_type": "code",
   "execution_count": 18,
   "id": "9fb09ff4",
   "metadata": {},
   "outputs": [
    {
     "name": "stdout",
     "output_type": "stream",
     "text": [
      "Enter Value :Jenny\n",
      "\n",
      "Given Value : Jenny Is Not Exist.\n"
     ]
    }
   ],
   "source": [
    "value = input(\"Enter Value :\")\n",
    "if value in data:\n",
    "    value = input(\"\\nEnter Value To Check Index No :\")\n",
    "    print(\"\\nIndex No Is :\",data.index(value))\n",
    "else:\n",
    "    print(\"\\nGiven Value :\",value,\"Is Not Exist.\")"
   ]
  },
  {
   "cell_type": "code",
   "execution_count": 19,
   "id": "1e41c275",
   "metadata": {},
   "outputs": [
    {
     "data": {
      "text/plain": [
       "('Mike', 'Jack', 'Luke', 'Peter', 'Finn')"
      ]
     },
     "execution_count": 19,
     "metadata": {},
     "output_type": "execute_result"
    }
   ],
   "source": [
    "data"
   ]
  },
  {
   "cell_type": "code",
   "execution_count": 20,
   "id": "36e00efc",
   "metadata": {},
   "outputs": [
    {
     "data": {
      "text/plain": [
       "'Mike'"
      ]
     },
     "execution_count": 20,
     "metadata": {},
     "output_type": "execute_result"
    }
   ],
   "source": [
    "data[0]"
   ]
  },
  {
   "cell_type": "code",
   "execution_count": 21,
   "id": "5731d7bd",
   "metadata": {},
   "outputs": [
    {
     "ename": "TypeError",
     "evalue": "'tuple' object does not support item assignment",
     "output_type": "error",
     "traceback": [
      "\u001b[1;31m---------------------------------------------------------------------------\u001b[0m",
      "\u001b[1;31mTypeError\u001b[0m                                 Traceback (most recent call last)",
      "Input \u001b[1;32mIn [21]\u001b[0m, in \u001b[0;36m<cell line: 1>\u001b[1;34m()\u001b[0m\n\u001b[1;32m----> 1\u001b[0m data[\u001b[38;5;241m0\u001b[39m] \u001b[38;5;241m=\u001b[39m \u001b[38;5;124m\"\u001b[39m\u001b[38;5;124mJenny\u001b[39m\u001b[38;5;124m\"\u001b[39m\n",
      "\u001b[1;31mTypeError\u001b[0m: 'tuple' object does not support item assignment"
     ]
    }
   ],
   "source": [
    "data[0] = \"Jenny\""
   ]
  },
  {
   "cell_type": "code",
   "execution_count": null,
   "id": "5f5dfbe3",
   "metadata": {},
   "outputs": [],
   "source": []
  }
 ],
 "metadata": {
  "kernelspec": {
   "display_name": "Python 3 (ipykernel)",
   "language": "python",
   "name": "python3"
  },
  "language_info": {
   "codemirror_mode": {
    "name": "ipython",
    "version": 3
   },
   "file_extension": ".py",
   "mimetype": "text/x-python",
   "name": "python",
   "nbconvert_exporter": "python",
   "pygments_lexer": "ipython3",
   "version": "3.9.12"
  }
 },
 "nbformat": 4,
 "nbformat_minor": 5
}

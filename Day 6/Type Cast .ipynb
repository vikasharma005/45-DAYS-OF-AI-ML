{
 "cells": [
  {
   "cell_type": "code",
   "execution_count": 1,
   "id": "0e1d120e",
   "metadata": {},
   "outputs": [],
   "source": [
    "data = (\"Mike\",\"Luke\",\"Peter\",\"Finn\",\"Allen\")"
   ]
  },
  {
   "cell_type": "code",
   "execution_count": 2,
   "id": "bbd5486e",
   "metadata": {},
   "outputs": [
    {
     "data": {
      "text/plain": [
       "('Mike', 'Luke', 'Peter', 'Finn', 'Allen')"
      ]
     },
     "execution_count": 2,
     "metadata": {},
     "output_type": "execute_result"
    }
   ],
   "source": [
    "data"
   ]
  },
  {
   "cell_type": "code",
   "execution_count": 3,
   "id": "ec85ae7d",
   "metadata": {},
   "outputs": [
    {
     "ename": "AttributeError",
     "evalue": "'tuple' object has no attribute 'append'",
     "output_type": "error",
     "traceback": [
      "\u001b[1;31m---------------------------------------------------------------------------\u001b[0m",
      "\u001b[1;31mAttributeError\u001b[0m                            Traceback (most recent call last)",
      "Input \u001b[1;32mIn [3]\u001b[0m, in \u001b[0;36m<cell line: 1>\u001b[1;34m()\u001b[0m\n\u001b[1;32m----> 1\u001b[0m \u001b[43mdata\u001b[49m\u001b[38;5;241;43m.\u001b[39;49m\u001b[43mappend\u001b[49m(\u001b[38;5;124m\"\u001b[39m\u001b[38;5;124mA\u001b[39m\u001b[38;5;124m\"\u001b[39m)\n",
      "\u001b[1;31mAttributeError\u001b[0m: 'tuple' object has no attribute 'append'"
     ]
    }
   ],
   "source": [
    "data.append(\"A\")"
   ]
  },
  {
   "cell_type": "code",
   "execution_count": 4,
   "id": "46be184e",
   "metadata": {},
   "outputs": [
    {
     "ename": "TypeError",
     "evalue": "'tuple' object does not support item assignment",
     "output_type": "error",
     "traceback": [
      "\u001b[1;31m---------------------------------------------------------------------------\u001b[0m",
      "\u001b[1;31mTypeError\u001b[0m                                 Traceback (most recent call last)",
      "Input \u001b[1;32mIn [4]\u001b[0m, in \u001b[0;36m<cell line: 1>\u001b[1;34m()\u001b[0m\n\u001b[1;32m----> 1\u001b[0m data[\u001b[38;5;241m0\u001b[39m] \u001b[38;5;241m=\u001b[39m \u001b[38;5;124m\"\u001b[39m\u001b[38;5;124mA\u001b[39m\u001b[38;5;124m\"\u001b[39m\n",
      "\u001b[1;31mTypeError\u001b[0m: 'tuple' object does not support item assignment"
     ]
    }
   ],
   "source": [
    "data[0] = \"A\""
   ]
  },
  {
   "cell_type": "markdown",
   "id": "de2b30c5",
   "metadata": {},
   "source": [
    "## How To Modify Tuple"
   ]
  },
  {
   "cell_type": "markdown",
   "id": "c96815e4",
   "metadata": {},
   "source": [
    "                            Modify Tuple  : Type Cast"
   ]
  },
  {
   "cell_type": "markdown",
   "id": "a206c80b",
   "metadata": {},
   "source": [
    "## Step 1 : Tuple : List\n",
    "## Step 2 : List    : Tuple"
   ]
  },
  {
   "cell_type": "code",
   "execution_count": 5,
   "id": "da5a86b5",
   "metadata": {},
   "outputs": [
    {
     "data": {
      "text/plain": [
       "''"
      ]
     },
     "execution_count": 5,
     "metadata": {},
     "output_type": "execute_result"
    }
   ],
   "source": [
    "'''\n",
    "     Step 1 :\n",
    "     \n",
    "                   Tuple ==> Type Cast ==> List\n",
    "                   \n",
    "                   ==> Use : list()\n",
    "                   \n",
    "                   ## Syntax : list(tuple)\n",
    "\n",
    "'''\n",
    "\"\""
   ]
  },
  {
   "cell_type": "code",
   "execution_count": 5,
   "id": "0ea0a2af",
   "metadata": {},
   "outputs": [
    {
     "data": {
      "text/plain": [
       "('Mike', 'Luke', 'Peter', 'Finn', 'Allen')"
      ]
     },
     "execution_count": 5,
     "metadata": {},
     "output_type": "execute_result"
    }
   ],
   "source": [
    "data"
   ]
  },
  {
   "cell_type": "code",
   "execution_count": 6,
   "id": "29d67cc7",
   "metadata": {},
   "outputs": [
    {
     "data": {
      "text/plain": [
       "tuple"
      ]
     },
     "execution_count": 6,
     "metadata": {},
     "output_type": "execute_result"
    }
   ],
   "source": [
    "type(data)"
   ]
  },
  {
   "cell_type": "code",
   "execution_count": 7,
   "id": "ce21bfc7",
   "metadata": {},
   "outputs": [
    {
     "name": "stdout",
     "output_type": "stream",
     "text": [
      "\t\t\t\tTuple Type Cast ==> List\n",
      "\n",
      "After Type Casting : ['Mike', 'Luke', 'Peter', 'Finn', 'Allen']\n",
      "\n",
      "Type of Data Is : <class 'list'>\n"
     ]
    }
   ],
   "source": [
    "print(\"\\t\\t\\t\\tTuple Type Cast ==> List\")\n",
    "data = list(data)\n",
    "print(\"\\nAfter Type Casting :\",data)\n",
    "print(\"\\nType of Data Is :\",type(data))"
   ]
  },
  {
   "cell_type": "code",
   "execution_count": 9,
   "id": "06256a5f",
   "metadata": {},
   "outputs": [
    {
     "name": "stdout",
     "output_type": "stream",
     "text": [
      "\n",
      "Do You Want To Modify Data :Yes\n",
      "\n",
      "Select The Method :\n",
      "                                        1. Append\n",
      "                                        2. Insert\n",
      "        \n",
      "\n",
      "Select The Method :Insert\n",
      "\n",
      "Enter The Index Num :0\n",
      "\n",
      "Enter The New Value To Add :Jenny\n",
      "\n",
      "Updated Data Is : ['Jenny', 'Mike', 'Luke', 'Peter', 'Finn', 'Allen']\n"
     ]
    }
   ],
   "source": [
    "inp = input(\"\\nDo You Want To Modify Data :\")\n",
    "if inp==\"Yes\":\n",
    "    print('''\\nSelect The Method :\n",
    "                                        1. Append\n",
    "                                        2. Insert\n",
    "        ''')\n",
    "    method = input(\"\\nSelect The Method :\")\n",
    "    if method == \"Append\":\n",
    "        data.append(input(\"\\nEnter The New Value To Add :\"))\n",
    "        print(\"\\nUpdated Data Is :\",data)\n",
    "    elif method == \"Insert\":\n",
    "        index = int(input(\"\\nEnter The Index Num :\"))\n",
    "        value = input(\"\\nEnter The New Value To Add :\")\n",
    "        data.insert(index,value)\n",
    "        print(\"\\nUpdated Data Is :\",data)\n",
    "    else:\n",
    "        print(\"\\nNo Method Is Here.\")\n",
    "else:\n",
    "    print(\"\\nOkay !!\")"
   ]
  },
  {
   "cell_type": "code",
   "execution_count": 11,
   "id": "bb7dd1ed",
   "metadata": {},
   "outputs": [
    {
     "data": {
      "text/plain": [
       "''"
      ]
     },
     "execution_count": 11,
     "metadata": {},
     "output_type": "execute_result"
    }
   ],
   "source": [
    "'''\n",
    "     Step 2 :\n",
    "     \n",
    "                   List ==> Type Cast ==> Tuple\n",
    "                   \n",
    "                   ==> Use : tuple()\n",
    "                   \n",
    "                   ## Syntax : tuple(List)\n",
    "\n",
    "'''\n",
    "\"\""
   ]
  },
  {
   "cell_type": "code",
   "execution_count": 10,
   "id": "898d67d2",
   "metadata": {},
   "outputs": [
    {
     "data": {
      "text/plain": [
       "['Jenny', 'Mike', 'Luke', 'Peter', 'Finn', 'Allen']"
      ]
     },
     "execution_count": 10,
     "metadata": {},
     "output_type": "execute_result"
    }
   ],
   "source": [
    "data"
   ]
  },
  {
   "cell_type": "code",
   "execution_count": 11,
   "id": "91f9e5ba",
   "metadata": {},
   "outputs": [
    {
     "data": {
      "text/plain": [
       "list"
      ]
     },
     "execution_count": 11,
     "metadata": {},
     "output_type": "execute_result"
    }
   ],
   "source": [
    "type(data)"
   ]
  },
  {
   "cell_type": "code",
   "execution_count": 12,
   "id": "3e468d83",
   "metadata": {},
   "outputs": [],
   "source": [
    "data = tuple(data)"
   ]
  },
  {
   "cell_type": "code",
   "execution_count": 13,
   "id": "ee61fa21",
   "metadata": {},
   "outputs": [
    {
     "data": {
      "text/plain": [
       "('Jenny', 'Mike', 'Luke', 'Peter', 'Finn', 'Allen')"
      ]
     },
     "execution_count": 13,
     "metadata": {},
     "output_type": "execute_result"
    }
   ],
   "source": [
    "data"
   ]
  },
  {
   "cell_type": "code",
   "execution_count": 14,
   "id": "1547f140",
   "metadata": {},
   "outputs": [
    {
     "data": {
      "text/plain": [
       "tuple"
      ]
     },
     "execution_count": 14,
     "metadata": {},
     "output_type": "execute_result"
    }
   ],
   "source": [
    "type(data)"
   ]
  },
  {
   "cell_type": "code",
   "execution_count": 15,
   "id": "47b8f287",
   "metadata": {},
   "outputs": [
    {
     "data": {
      "text/plain": [
       "'Jenny'"
      ]
     },
     "execution_count": 15,
     "metadata": {},
     "output_type": "execute_result"
    }
   ],
   "source": [
    "data[0]"
   ]
  },
  {
   "cell_type": "code",
   "execution_count": 16,
   "id": "79aef162",
   "metadata": {},
   "outputs": [
    {
     "ename": "TypeError",
     "evalue": "'tuple' object does not support item assignment",
     "output_type": "error",
     "traceback": [
      "\u001b[1;31m---------------------------------------------------------------------------\u001b[0m",
      "\u001b[1;31mTypeError\u001b[0m                                 Traceback (most recent call last)",
      "Input \u001b[1;32mIn [16]\u001b[0m, in \u001b[0;36m<cell line: 1>\u001b[1;34m()\u001b[0m\n\u001b[1;32m----> 1\u001b[0m data[\u001b[38;5;241m0\u001b[39m] \u001b[38;5;241m=\u001b[39m \u001b[38;5;124m\"\u001b[39m\u001b[38;5;124mMike\u001b[39m\u001b[38;5;124m\"\u001b[39m\n",
      "\u001b[1;31mTypeError\u001b[0m: 'tuple' object does not support item assignment"
     ]
    }
   ],
   "source": [
    "data[0] = \"Mike\""
   ]
  },
  {
   "cell_type": "code",
   "execution_count": null,
   "id": "e3d9ac04",
   "metadata": {},
   "outputs": [],
   "source": []
  }
 ],
 "metadata": {
  "kernelspec": {
   "display_name": "Python 3 (ipykernel)",
   "language": "python",
   "name": "python3"
  },
  "language_info": {
   "codemirror_mode": {
    "name": "ipython",
    "version": 3
   },
   "file_extension": ".py",
   "mimetype": "text/x-python",
   "name": "python",
   "nbconvert_exporter": "python",
   "pygments_lexer": "ipython3",
   "version": "3.9.12"
  }
 },
 "nbformat": 4,
 "nbformat_minor": 5
}

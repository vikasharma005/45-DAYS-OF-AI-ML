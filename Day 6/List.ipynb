{
 "cells": [
  {
   "cell_type": "code",
   "execution_count": 1,
   "id": "2eaac3ad",
   "metadata": {},
   "outputs": [
    {
     "data": {
      "text/plain": [
       "''"
      ]
     },
     "execution_count": 1,
     "metadata": {},
     "output_type": "execute_result"
    }
   ],
   "source": [
    "'''\n",
    "   => List : \n",
    "     \n",
    "      -> Stored Multiple Data With Different Types of Data.\n",
    "      -> Ordered.\n",
    "      -> Mutable : It Can Be Modify.\n",
    "      -> Index   : Stored Values At Pos.\n",
    "      -> Duplicate Item : Support Duplicate Items.\n",
    "             \n",
    "'''\n",
    "\"\""
   ]
  },
  {
   "cell_type": "code",
   "execution_count": 2,
   "id": "5e8443a6",
   "metadata": {},
   "outputs": [
    {
     "data": {
      "text/plain": [
       "''"
      ]
     },
     "execution_count": 2,
     "metadata": {},
     "output_type": "execute_result"
    }
   ],
   "source": [
    "'''\n",
    "  ## List :\n",
    "  \n",
    "     => It Is Used To Store Multiple Data Elements With Different Types of Data.\n",
    "     \n",
    "     => It Can Be Modify/Update.\n",
    "     \n",
    "     => Allow To Store Duplicate Items.\n",
    "     \n",
    "     => Mutable.\n",
    "     \n",
    "     => Ordered.\n",
    "     \n",
    "     => Support :  Index And Slicing.\n",
    "     \n",
    "     => Type : list\n",
    "\n",
    "'''\n",
    "\"\""
   ]
  },
  {
   "cell_type": "markdown",
   "id": "4b07e4c9",
   "metadata": {},
   "source": [
    "## How To Make A list"
   ]
  },
  {
   "cell_type": "markdown",
   "id": "f8b5b0b8",
   "metadata": {},
   "source": [
    "use : []  ## Square Bracket"
   ]
  },
  {
   "cell_type": "code",
   "execution_count": 1,
   "id": "1592bcb2",
   "metadata": {},
   "outputs": [
    {
     "data": {
      "text/plain": [
       "[]"
      ]
     },
     "execution_count": 1,
     "metadata": {},
     "output_type": "execute_result"
    }
   ],
   "source": [
    "[]"
   ]
  },
  {
   "cell_type": "code",
   "execution_count": 2,
   "id": "e8468e53",
   "metadata": {},
   "outputs": [
    {
     "data": {
      "text/plain": [
       "list"
      ]
     },
     "execution_count": 2,
     "metadata": {},
     "output_type": "execute_result"
    }
   ],
   "source": [
    "type([])"
   ]
  },
  {
   "cell_type": "code",
   "execution_count": 3,
   "id": "73c981f3",
   "metadata": {},
   "outputs": [
    {
     "name": "stdout",
     "output_type": "stream",
     "text": [
      "Empty List Is : []\n"
     ]
    }
   ],
   "source": [
    "l1 = []\n",
    "print(\"Empty List Is :\",l1)"
   ]
  },
  {
   "cell_type": "markdown",
   "id": "6c126b21",
   "metadata": {},
   "source": [
    "## Note"
   ]
  },
  {
   "cell_type": "code",
   "execution_count": 5,
   "id": "f3f21cc7",
   "metadata": {},
   "outputs": [
    {
     "name": "stdout",
     "output_type": "stream",
     "text": [
      "Data Is : ('Mike', 'Luke') => Type Is : <class 'tuple'>\n"
     ]
    }
   ],
   "source": [
    "stud = \"Mike\",\"Luke\"\n",
    "print(f\"Data Is : {stud} => Type Is : {type(stud)}\")"
   ]
  },
  {
   "cell_type": "code",
   "execution_count": 4,
   "id": "d34aae45",
   "metadata": {},
   "outputs": [
    {
     "data": {
      "text/plain": [
       "list"
      ]
     },
     "execution_count": 4,
     "metadata": {},
     "output_type": "execute_result"
    }
   ],
   "source": [
    "type(l1)"
   ]
  },
  {
   "cell_type": "code",
   "execution_count": 6,
   "id": "4ff4b2e0",
   "metadata": {},
   "outputs": [],
   "source": [
    "emp = [\"Sean\",\"Jack\"]"
   ]
  },
  {
   "cell_type": "code",
   "execution_count": 7,
   "id": "fdaed9a1",
   "metadata": {},
   "outputs": [
    {
     "data": {
      "text/plain": [
       "['Sean', 'Jack']"
      ]
     },
     "execution_count": 7,
     "metadata": {},
     "output_type": "execute_result"
    }
   ],
   "source": [
    "emp"
   ]
  },
  {
   "cell_type": "code",
   "execution_count": 9,
   "id": "5a94fc43",
   "metadata": {},
   "outputs": [
    {
     "data": {
      "text/plain": [
       "list"
      ]
     },
     "execution_count": 9,
     "metadata": {},
     "output_type": "execute_result"
    }
   ],
   "source": [
    "type(emp)"
   ]
  },
  {
   "cell_type": "markdown",
   "id": "641354ae",
   "metadata": {},
   "source": [
    "## Ordered"
   ]
  },
  {
   "cell_type": "code",
   "execution_count": 10,
   "id": "9f184749",
   "metadata": {},
   "outputs": [],
   "source": [
    "l1 = [10,-25,100,26,126,225]"
   ]
  },
  {
   "cell_type": "code",
   "execution_count": 11,
   "id": "31690be1",
   "metadata": {},
   "outputs": [
    {
     "data": {
      "text/plain": [
       "[10, -25, 100, 26, 126, 225]"
      ]
     },
     "execution_count": 11,
     "metadata": {},
     "output_type": "execute_result"
    }
   ],
   "source": [
    "l1"
   ]
  },
  {
   "cell_type": "markdown",
   "id": "ae5583f2",
   "metadata": {},
   "source": [
    "## Stored Multiple Data With Different Types of Data."
   ]
  },
  {
   "cell_type": "code",
   "execution_count": 12,
   "id": "f656bb8b",
   "metadata": {},
   "outputs": [],
   "source": [
    "data = [\"Sean\",100,56.56,5+10j,True]"
   ]
  },
  {
   "cell_type": "code",
   "execution_count": 13,
   "id": "2f1e372e",
   "metadata": {},
   "outputs": [
    {
     "data": {
      "text/plain": [
       "['Sean', 100, 56.56, (5+10j), True]"
      ]
     },
     "execution_count": 13,
     "metadata": {},
     "output_type": "execute_result"
    }
   ],
   "source": [
    "data"
   ]
  },
  {
   "cell_type": "markdown",
   "id": "dc6ed7d8",
   "metadata": {},
   "source": [
    "## Allow To Store Duplicate Items"
   ]
  },
  {
   "cell_type": "code",
   "execution_count": 14,
   "id": "c37e9ace",
   "metadata": {},
   "outputs": [],
   "source": [
    "data = [5,5,5,5,5,5]"
   ]
  },
  {
   "cell_type": "code",
   "execution_count": 15,
   "id": "f9ed2449",
   "metadata": {},
   "outputs": [
    {
     "data": {
      "text/plain": [
       "[5, 5, 5, 5, 5, 5]"
      ]
     },
     "execution_count": 15,
     "metadata": {},
     "output_type": "execute_result"
    }
   ],
   "source": [
    "data"
   ]
  },
  {
   "cell_type": "markdown",
   "id": "8f24e13f",
   "metadata": {},
   "source": [
    "## Get The Total No of Elements(Length) of The List "
   ]
  },
  {
   "cell_type": "code",
   "execution_count": 15,
   "id": "5f8f478b",
   "metadata": {},
   "outputs": [],
   "source": [
    "## USE : len()"
   ]
  },
  {
   "cell_type": "code",
   "execution_count": 16,
   "id": "b3fea50a",
   "metadata": {},
   "outputs": [],
   "source": [
    "## It Is Used To Check The Length of List."
   ]
  },
  {
   "cell_type": "code",
   "execution_count": 16,
   "id": "cccf2b04",
   "metadata": {},
   "outputs": [
    {
     "data": {
      "text/plain": [
       "[5, 5, 5, 5, 5, 5]"
      ]
     },
     "execution_count": 16,
     "metadata": {},
     "output_type": "execute_result"
    }
   ],
   "source": [
    "data"
   ]
  },
  {
   "cell_type": "code",
   "execution_count": 17,
   "id": "7aa9bde7",
   "metadata": {},
   "outputs": [
    {
     "data": {
      "text/plain": [
       "6"
      ]
     },
     "execution_count": 17,
     "metadata": {},
     "output_type": "execute_result"
    }
   ],
   "source": [
    "len(data)"
   ]
  },
  {
   "cell_type": "code",
   "execution_count": 18,
   "id": "b5e55496",
   "metadata": {},
   "outputs": [
    {
     "name": "stdout",
     "output_type": "stream",
     "text": [
      "Total No of Elements Are : 5\n"
     ]
    }
   ],
   "source": [
    "print(\"Total No of Elements Are :\",len(l1))"
   ]
  },
  {
   "cell_type": "markdown",
   "id": "107bd853",
   "metadata": {},
   "source": [
    "## How To Make A List Using Input Function."
   ]
  },
  {
   "cell_type": "code",
   "execution_count": 19,
   "id": "5803a2c0",
   "metadata": {},
   "outputs": [],
   "source": [
    "## USE : split() Method\n",
    "## Syntax : input().split()\n",
    "## Split() :\n",
    "            ##  split(maxsplit,sep)\n",
    "            ##  Sep : By Default Sep Is : Space"
   ]
  },
  {
   "cell_type": "code",
   "execution_count": 18,
   "id": "cf2bb4bc",
   "metadata": {},
   "outputs": [
    {
     "name": "stdout",
     "output_type": "stream",
     "text": [
      "Enter The Names :Sean Luke Mike Peter Penn\n",
      "\n",
      "Emp Data Is : \n",
      "\n",
      "['Sean', 'Luke', 'Mike', 'Peter', 'Penn']\n"
     ]
    }
   ],
   "source": [
    "emp = input(\"Enter The Names :\").split()\n",
    "print(\"\\nEmp Data Is :\",\"\\n\")\n",
    "print(emp)"
   ]
  },
  {
   "cell_type": "code",
   "execution_count": 19,
   "id": "bbe7a00e",
   "metadata": {},
   "outputs": [
    {
     "data": {
      "text/plain": [
       "list"
      ]
     },
     "execution_count": 19,
     "metadata": {},
     "output_type": "execute_result"
    }
   ],
   "source": [
    "type(emp)"
   ]
  },
  {
   "cell_type": "code",
   "execution_count": 22,
   "id": "9f937940",
   "metadata": {},
   "outputs": [
    {
     "name": "stdout",
     "output_type": "stream",
     "text": [
      "Enter The Names :Sean,Mike,Luke,Peter,Nile\n",
      "\n",
      "Emp Data Is : \n",
      "\n",
      "['Sean', 'Mike', 'Luke', 'Peter', 'Nile']\n"
     ]
    }
   ],
   "source": [
    "emp = input(\"Enter The Names :\").split(sep=\",\")\n",
    "print(\"\\nEmp Data Is :\",\"\\n\")\n",
    "print(emp)"
   ]
  },
  {
   "cell_type": "code",
   "execution_count": 23,
   "id": "9026af0c",
   "metadata": {},
   "outputs": [
    {
     "data": {
      "text/plain": [
       "list"
      ]
     },
     "execution_count": 23,
     "metadata": {},
     "output_type": "execute_result"
    }
   ],
   "source": [
    "type(emp)"
   ]
  },
  {
   "cell_type": "code",
   "execution_count": 1,
   "id": "084c735a",
   "metadata": {},
   "outputs": [
    {
     "name": "stdout",
     "output_type": "stream",
     "text": [
      "Enter Data :2 4 5 6 10\n",
      "['2', '4', '5', '6', '10']\n"
     ]
    }
   ],
   "source": [
    "data = input(\"Enter Data :\").split()\n",
    "print(data)"
   ]
  },
  {
   "cell_type": "code",
   "execution_count": 2,
   "id": "a91f00bb",
   "metadata": {},
   "outputs": [
    {
     "data": {
      "text/plain": [
       "'2'"
      ]
     },
     "execution_count": 2,
     "metadata": {},
     "output_type": "execute_result"
    }
   ],
   "source": [
    "data[0]"
   ]
  },
  {
   "cell_type": "code",
   "execution_count": 3,
   "id": "e4020a52",
   "metadata": {},
   "outputs": [
    {
     "data": {
      "text/plain": [
       "str"
      ]
     },
     "execution_count": 3,
     "metadata": {},
     "output_type": "execute_result"
    }
   ],
   "source": [
    "type(data[0])"
   ]
  },
  {
   "cell_type": "code",
   "execution_count": 4,
   "id": "e15de246",
   "metadata": {},
   "outputs": [
    {
     "name": "stdout",
     "output_type": "stream",
     "text": [
      "Enter Data :10 2 4 5 100\n"
     ]
    },
    {
     "ename": "ValueError",
     "evalue": "invalid literal for int() with base 10: '10 2 4 5 100'",
     "output_type": "error",
     "traceback": [
      "\u001b[1;31m---------------------------------------------------------------------------\u001b[0m",
      "\u001b[1;31mValueError\u001b[0m                                Traceback (most recent call last)",
      "Input \u001b[1;32mIn [4]\u001b[0m, in \u001b[0;36m<cell line: 1>\u001b[1;34m()\u001b[0m\n\u001b[1;32m----> 1\u001b[0m data \u001b[38;5;241m=\u001b[39m \u001b[38;5;28;43mint\u001b[39;49m\u001b[43m(\u001b[49m\u001b[38;5;28;43minput\u001b[39;49m\u001b[43m(\u001b[49m\u001b[38;5;124;43m\"\u001b[39;49m\u001b[38;5;124;43mEnter Data :\u001b[39;49m\u001b[38;5;124;43m\"\u001b[39;49m\u001b[43m)\u001b[49m\u001b[43m)\u001b[49m\u001b[38;5;241m.\u001b[39msplit()\n\u001b[0;32m      2\u001b[0m \u001b[38;5;28mprint\u001b[39m(data)\n",
      "\u001b[1;31mValueError\u001b[0m: invalid literal for int() with base 10: '10 2 4 5 100'"
     ]
    }
   ],
   "source": [
    "data = int(input(\"Enter Data :\")).split()\n",
    "print(data)"
   ]
  },
  {
   "cell_type": "markdown",
   "id": "4cadc43b",
   "metadata": {},
   "source": [
    "## Mapping"
   ]
  },
  {
   "cell_type": "markdown",
   "id": "8ee6d674",
   "metadata": {},
   "source": [
    "Syntax : list(map(int/float/complex,input().split()))"
   ]
  },
  {
   "cell_type": "code",
   "execution_count": 5,
   "id": "5ce2e38d",
   "metadata": {},
   "outputs": [
    {
     "name": "stdout",
     "output_type": "stream",
     "text": [
      "Enter Data :2 4 5 6 10\n",
      "[2, 4, 5, 6, 10]\n"
     ]
    }
   ],
   "source": [
    "data = list(map(int,input(\"Enter Data :\").split()))\n",
    "print(data)"
   ]
  },
  {
   "cell_type": "code",
   "execution_count": 6,
   "id": "b2015649",
   "metadata": {},
   "outputs": [
    {
     "data": {
      "text/plain": [
       "2"
      ]
     },
     "execution_count": 6,
     "metadata": {},
     "output_type": "execute_result"
    }
   ],
   "source": [
    "data[0]"
   ]
  },
  {
   "cell_type": "code",
   "execution_count": 7,
   "id": "a495a5cb",
   "metadata": {},
   "outputs": [
    {
     "data": {
      "text/plain": [
       "int"
      ]
     },
     "execution_count": 7,
     "metadata": {},
     "output_type": "execute_result"
    }
   ],
   "source": [
    "type(data[0])"
   ]
  },
  {
   "cell_type": "code",
   "execution_count": 8,
   "id": "2235fb1d",
   "metadata": {},
   "outputs": [
    {
     "data": {
      "text/plain": [
       "[2, 4, 5, 6, 10]"
      ]
     },
     "execution_count": 8,
     "metadata": {},
     "output_type": "execute_result"
    }
   ],
   "source": [
    "data"
   ]
  },
  {
   "cell_type": "code",
   "execution_count": 28,
   "id": "ce7f709b",
   "metadata": {},
   "outputs": [
    {
     "name": "stdout",
     "output_type": "stream",
     "text": [
      "Enter Data :25 100\n"
     ]
    },
    {
     "data": {
      "text/plain": [
       "[<map at 0x20e485ed760>]"
      ]
     },
     "execution_count": 28,
     "metadata": {},
     "output_type": "execute_result"
    }
   ],
   "source": [
    "age1=[map(int,input(\"Enter Data :\").split())]\n",
    "age1"
   ]
  },
  {
   "cell_type": "code",
   "execution_count": 29,
   "id": "aa42891a",
   "metadata": {},
   "outputs": [
    {
     "data": {
      "text/plain": [
       "<map at 0x20e485ed760>"
      ]
     },
     "execution_count": 29,
     "metadata": {},
     "output_type": "execute_result"
    }
   ],
   "source": [
    "age1[0]"
   ]
  },
  {
   "cell_type": "code",
   "execution_count": 30,
   "id": "5fb5325f",
   "metadata": {},
   "outputs": [
    {
     "name": "stdout",
     "output_type": "stream",
     "text": [
      "Enter Data :20 100\n"
     ]
    }
   ],
   "source": [
    "age1 = []\n",
    "age1 = map(int,input(\"Enter Data :\").split())"
   ]
  },
  {
   "cell_type": "code",
   "execution_count": 31,
   "id": "14aa2d1f",
   "metadata": {},
   "outputs": [
    {
     "data": {
      "text/plain": [
       "<map at 0x20e490e9220>"
      ]
     },
     "execution_count": 31,
     "metadata": {},
     "output_type": "execute_result"
    }
   ],
   "source": [
    "age1"
   ]
  },
  {
   "cell_type": "code",
   "execution_count": 21,
   "id": "fbeba38f",
   "metadata": {},
   "outputs": [
    {
     "name": "stdout",
     "output_type": "stream",
     "text": [
      "choice:\n",
      "1.integer\n",
      "2.float\n",
      "3.complex\n",
      "\n",
      "Enter your choice: float\n",
      "Enter Float data: 25 125.56\n",
      "[25.0, 125.56]\n"
     ]
    }
   ],
   "source": [
    "print(\"choice:\\n1.integer\\n2.float\\n3.complex\\n\")\n",
    "ch=input(\"Enter your choice: \")\n",
    "if ch.lower()== \"integer\":\n",
    "    data=list(map(int,input(\"Enter Integer data: \").split()))\n",
    "elif ch.lower()== \"float\":\n",
    "    data=list(map(float,input(\"Enter Float data: \").split()))\n",
    "elif ch.lower== \"complex\":\n",
    "    data=list(map(complex,input(\"Enter Complex data: \").split()))\n",
    "else:\n",
    "    print(\"Invalid Option\")\n",
    "print(data)"
   ]
  },
  {
   "cell_type": "code",
   "execution_count": 22,
   "id": "4d04cffb",
   "metadata": {},
   "outputs": [],
   "source": [
    "age = [25,10,15,16,55,95]   ## sum()"
   ]
  },
  {
   "cell_type": "code",
   "execution_count": 23,
   "id": "8f3a40b2",
   "metadata": {},
   "outputs": [
    {
     "name": "stdout",
     "output_type": "stream",
     "text": [
      "Total Is : 216\n"
     ]
    }
   ],
   "source": [
    "print(\"Total Is :\",sum(age))"
   ]
  },
  {
   "cell_type": "code",
   "execution_count": 24,
   "id": "ac29f30d",
   "metadata": {},
   "outputs": [
    {
     "name": "stdout",
     "output_type": "stream",
     "text": [
      "Maximum Age Is : 95\n"
     ]
    }
   ],
   "source": [
    "print(\"Maximum Age Is :\",max(age))"
   ]
  },
  {
   "cell_type": "code",
   "execution_count": 25,
   "id": "d851541d",
   "metadata": {},
   "outputs": [
    {
     "name": "stdout",
     "output_type": "stream",
     "text": [
      "Minimum Age Is : 10\n"
     ]
    }
   ],
   "source": [
    "print(\"Minimum Age Is :\",min(age))"
   ]
  },
  {
   "cell_type": "code",
   "execution_count": 26,
   "id": "2bf381ea",
   "metadata": {},
   "outputs": [
    {
     "data": {
      "text/plain": [
       "''"
      ]
     },
     "execution_count": 26,
     "metadata": {},
     "output_type": "execute_result"
    }
   ],
   "source": [
    "'''\n",
    "     Avg  =  Total/Total No of Elements\n",
    "     \n",
    "     Age_Avg = sum(age)/len(age)\n",
    "\n",
    "'''\n",
    "\"\""
   ]
  },
  {
   "cell_type": "code",
   "execution_count": 27,
   "id": "29f43a82",
   "metadata": {},
   "outputs": [
    {
     "name": "stdout",
     "output_type": "stream",
     "text": [
      "Avg Age Is : 36.0\n"
     ]
    }
   ],
   "source": [
    "print(\"Avg Age Is :\",sum(age)/len(age))"
   ]
  },
  {
   "cell_type": "code",
   "execution_count": 33,
   "id": "a8961b29",
   "metadata": {},
   "outputs": [
    {
     "name": "stdout",
     "output_type": "stream",
     "text": [
      "Total Is : 216\n",
      "Max Is : 95\n",
      "Min Is : 10\n",
      "Age Is : 36.0\n"
     ]
    }
   ],
   "source": [
    "age = [25,10,15,16,55,95]\n",
    "print(\"Total Is :\",sum(age))\n",
    "print(\"Max Is :\",max(age))\n",
    "print(\"Min Is :\",min(age))\n",
    "print(\"Age Is :\",sum(age)/len(age))"
   ]
  },
  {
   "cell_type": "markdown",
   "id": "2f837965",
   "metadata": {},
   "source": [
    "## SUM"
   ]
  },
  {
   "cell_type": "code",
   "execution_count": 9,
   "id": "59bfd657",
   "metadata": {},
   "outputs": [],
   "source": [
    "## Use : sum(list)"
   ]
  },
  {
   "cell_type": "code",
   "execution_count": 10,
   "id": "1954531d",
   "metadata": {},
   "outputs": [
    {
     "name": "stdout",
     "output_type": "stream",
     "text": [
      "Sum of [2, 4, 5, 6, 10] Is : 27\n"
     ]
    }
   ],
   "source": [
    "print(\"Sum of\",data,\"Is :\",sum(data))"
   ]
  },
  {
   "cell_type": "markdown",
   "id": "b59a63ad",
   "metadata": {},
   "source": [
    "## MAX"
   ]
  },
  {
   "cell_type": "code",
   "execution_count": 11,
   "id": "251ff330",
   "metadata": {},
   "outputs": [],
   "source": [
    "## Use : max()"
   ]
  },
  {
   "cell_type": "code",
   "execution_count": 12,
   "id": "ed7d1233",
   "metadata": {},
   "outputs": [
    {
     "name": "stdout",
     "output_type": "stream",
     "text": [
      "Maximum Value Is : 10\n"
     ]
    }
   ],
   "source": [
    "print(\"Maximum Value Is :\",max(data))"
   ]
  },
  {
   "cell_type": "markdown",
   "id": "0add30a2",
   "metadata": {},
   "source": [
    "## MIN"
   ]
  },
  {
   "cell_type": "code",
   "execution_count": 13,
   "id": "089aa68e",
   "metadata": {},
   "outputs": [],
   "source": [
    "## Use :min()"
   ]
  },
  {
   "cell_type": "code",
   "execution_count": 14,
   "id": "98113b17",
   "metadata": {},
   "outputs": [
    {
     "name": "stdout",
     "output_type": "stream",
     "text": [
      "Minimum Value Is : 2\n"
     ]
    }
   ],
   "source": [
    "print(\"Minimum Value Is :\",min(data))"
   ]
  },
  {
   "cell_type": "markdown",
   "id": "5cafdb1e",
   "metadata": {},
   "source": [
    "## AVG"
   ]
  },
  {
   "cell_type": "code",
   "execution_count": 15,
   "id": "13f83027",
   "metadata": {},
   "outputs": [
    {
     "data": {
      "text/plain": [
       "''"
      ]
     },
     "execution_count": 15,
     "metadata": {},
     "output_type": "execute_result"
    }
   ],
   "source": [
    "'''\n",
    "      AVG  = Total(SUM)/Total No Of Elements\n",
    "\n",
    "'''\n",
    "\"\""
   ]
  },
  {
   "cell_type": "code",
   "execution_count": 16,
   "id": "d0ce82b2",
   "metadata": {},
   "outputs": [
    {
     "name": "stdout",
     "output_type": "stream",
     "text": [
      "Avg Is : 5.4\n"
     ]
    }
   ],
   "source": [
    "total = sum(data)\n",
    "no_elemts = len(data)\n",
    "avg = total/no_elemts\n",
    "print(\"Avg Is :\",avg)"
   ]
  },
  {
   "cell_type": "code",
   "execution_count": 1,
   "id": "40ce0166",
   "metadata": {},
   "outputs": [],
   "source": [
    "import simple_colors as color"
   ]
  },
  {
   "cell_type": "markdown",
   "id": "9504a841",
   "metadata": {},
   "source": [
    "##### Create A List Using Input Function , And Check Element Is Exist or Not.\n",
    "##### Exist => Green Color , Not Exist => Red Color"
   ]
  },
  {
   "cell_type": "code",
   "execution_count": 36,
   "id": "cfdaa152",
   "metadata": {},
   "outputs": [
    {
     "name": "stdout",
     "output_type": "stream",
     "text": [
      "Enter names : Sean Luke Mike Peter Penn\n",
      "Enter name u want to search: Sean\n",
      "\u001b[1;32myes it is present\u001b[0m\n"
     ]
    }
   ],
   "source": [
    "name=input(\"Enter names : \").split()\n",
    "name1=input(\"Enter name u want to search: \")\n",
    "if name1 in name:\n",
    "    print(color.green(\"yes it is present\",'bold'))\n",
    "else:\n",
    "    print(color.red(\"No,its not present\",'bold'))"
   ]
  },
  {
   "cell_type": "code",
   "execution_count": 37,
   "id": "a9eef169",
   "metadata": {},
   "outputs": [
    {
     "name": "stdout",
     "output_type": "stream",
     "text": [
      "Enter names : Sean Luke Mike Peter Penn\n",
      "Enter name u want to search: Jenny\n",
      "\u001b[1;31mNo,its not present\u001b[0m\n"
     ]
    }
   ],
   "source": [
    "name=input(\"Enter names : \").split()\n",
    "name1=input(\"Enter name u want to search: \")\n",
    "if name1 in name:\n",
    "    print(color.green(\"yes it is present\",'bold'))\n",
    "else:\n",
    "    print(color.red(\"No,its not present\",'bold'))"
   ]
  },
  {
   "cell_type": "code",
   "execution_count": 7,
   "id": "59597647",
   "metadata": {},
   "outputs": [
    {
     "name": "stdout",
     "output_type": "stream",
     "text": [
      "Enter number : 10 20 100 26 100\n",
      "Number is  ['10', '20', '100', '26', '100']\n",
      "Enter a element : 10\n",
      "\u001b[32mIt exist\u001b[0m\n"
     ]
    }
   ],
   "source": [
    "abc = input(\"Enter number : \").split()\n",
    "print(\"Number is \",abc)\n",
    "ele = input(\"Enter a element : \")\n",
    "if ele in abc:\n",
    "        print(color.green(\"It exist\"))\n",
    "else:\n",
    "        print(color.red(\"It's not exist\"))"
   ]
  },
  {
   "cell_type": "code",
   "execution_count": 17,
   "id": "e3fc35e2",
   "metadata": {},
   "outputs": [],
   "source": [
    "## Emp --> List\n",
    "## Input --> Emp : Inside The List : Yes , Not --> Not"
   ]
  },
  {
   "cell_type": "code",
   "execution_count": 8,
   "id": "112b6972",
   "metadata": {},
   "outputs": [
    {
     "name": "stdout",
     "output_type": "stream",
     "text": [
      "Enter Emp Names :Sean Jack Luke Finn Allen Curren\n",
      "\n",
      "Enter The Name To Check :Sean\n",
      "\n",
      "Sean Is Inside Data..\n"
     ]
    }
   ],
   "source": [
    "emp = input(\"Enter Emp Names :\").split()\n",
    "check = input(\"\\nEnter The Name To Check :\")\n",
    "if check in emp:\n",
    "    print()\n",
    "    print(check,\"Is Inside Data..\")\n",
    "else:\n",
    "    print()\n",
    "    print(check,\"Is Not Inside Data..\")"
   ]
  },
  {
   "cell_type": "code",
   "execution_count": 19,
   "id": "ff569514",
   "metadata": {},
   "outputs": [
    {
     "name": "stdout",
     "output_type": "stream",
     "text": [
      "Enter Emp Names :Sean Jack Luke Finn Allen Curren\n",
      "\n",
      "Enter The Name To Check :Mike\n",
      "\n",
      "Mike Is Not Inside Data..\n"
     ]
    }
   ],
   "source": [
    "emp = input(\"Enter Emp Names :\").split()\n",
    "check = input(\"\\nEnter The Name To Check :\")\n",
    "if check in emp:\n",
    "    print()\n",
    "    print(check,\"Is Inside Data..\")\n",
    "else:\n",
    "    print()\n",
    "    print(check,\"Is Not Inside Data..\")"
   ]
  },
  {
   "cell_type": "markdown",
   "id": "0d6acc16",
   "metadata": {},
   "source": [
    "## Emp --> List\n",
    "## Input --> Emp : Inside The List : Yes => Green , Not --> Not ==> Red"
   ]
  },
  {
   "cell_type": "code",
   "execution_count": 20,
   "id": "48702d34",
   "metadata": {},
   "outputs": [],
   "source": [
    "from colorama import *"
   ]
  },
  {
   "cell_type": "code",
   "execution_count": 23,
   "id": "0607d9dd",
   "metadata": {},
   "outputs": [
    {
     "name": "stdout",
     "output_type": "stream",
     "text": [
      "Enter Emp Names :Sean Jack Luke Finn Allen Curren\n",
      "\n",
      "Enter The Name To Check :Sean\n",
      "\n",
      "\u001b[32mSean\u001b[0m Is Inside Data..\n"
     ]
    }
   ],
   "source": [
    "emp = input(\"Enter Emp Names :\").split()\n",
    "check = input(\"\\nEnter The Name To Check :\")\n",
    "if check in emp:\n",
    "    print()\n",
    "    print(Fore.GREEN+check+Style.RESET_ALL+\" Is Inside Data..\")\n",
    "else:\n",
    "    print()\n",
    "    print(Fore.RED+check+Style.RESET_ALL+\" Is Not Inside Data..\")"
   ]
  },
  {
   "cell_type": "code",
   "execution_count": 24,
   "id": "b5d0ea57",
   "metadata": {},
   "outputs": [
    {
     "name": "stdout",
     "output_type": "stream",
     "text": [
      "Enter Emp Names :Sean Jack Luke Finn Allen Curren\n",
      "\n",
      "Enter The Name To Check :Mike\n",
      "\n",
      "\u001b[31mMike\u001b[0m Is Not Inside Data..\n"
     ]
    }
   ],
   "source": [
    "emp = input(\"Enter Emp Names :\").split()\n",
    "check = input(\"\\nEnter The Name To Check :\")\n",
    "if check in emp:\n",
    "    print()\n",
    "    print(Fore.GREEN+check+Style.RESET_ALL+\" Is Inside Data..\")\n",
    "else:\n",
    "    print()\n",
    "    print(Fore.RED+check+Style.RESET_ALL+\" Is Not Inside Data..\")"
   ]
  },
  {
   "cell_type": "code",
   "execution_count": 25,
   "id": "acbf9366",
   "metadata": {},
   "outputs": [
    {
     "name": "stdout",
     "output_type": "stream",
     "text": [
      "Hello Mike\n",
      "\n",
      "Hello Jack\n"
     ]
    }
   ],
   "source": [
    "print(\"Hello Mike\")\n",
    "print()\n",
    "print(\"Hello Jack\")"
   ]
  },
  {
   "cell_type": "markdown",
   "id": "17525064",
   "metadata": {},
   "source": [
    "## Index "
   ]
  },
  {
   "cell_type": "markdown",
   "id": "d9b77ac1",
   "metadata": {},
   "source": [
    "## How To Get Data From Index Number"
   ]
  },
  {
   "cell_type": "code",
   "execution_count": 26,
   "id": "af590853",
   "metadata": {},
   "outputs": [
    {
     "data": {
      "text/plain": [
       "''"
      ]
     },
     "execution_count": 26,
     "metadata": {},
     "output_type": "execute_result"
    }
   ],
   "source": [
    "'''\n",
    "\n",
    "      ['Sean', 'Mike', 'Luke', 'Peter', 'Nile']\n",
    "      \n",
    "    =>   0       1        2      3       4\n",
    "\n",
    "'''\n",
    "\"\""
   ]
  },
  {
   "cell_type": "code",
   "execution_count": 27,
   "id": "2cd9ba95",
   "metadata": {},
   "outputs": [
    {
     "data": {
      "text/plain": [
       "''"
      ]
     },
     "execution_count": 27,
     "metadata": {},
     "output_type": "execute_result"
    }
   ],
   "source": [
    "'''\n",
    "                            \n",
    "                  .... -2  -1   0   1   2 ....\n",
    "\n",
    "    -Ve :  Right To Left <==       ==> Left To Right : +Ve\n",
    "    \n",
    "    \n",
    "'''\n",
    "\"\""
   ]
  },
  {
   "cell_type": "code",
   "execution_count": 28,
   "id": "bf8ef33c",
   "metadata": {},
   "outputs": [
    {
     "data": {
      "text/plain": [
       "''"
      ]
     },
     "execution_count": 28,
     "metadata": {},
     "output_type": "execute_result"
    }
   ],
   "source": [
    "'''\n",
    "                          <== - Ve\n",
    "\n",
    "                     =>    -5       -4      -3      -2      -1           : Right To Left\n",
    "\n",
    "\n",
    "                          ['Sean', 'Mike', 'Luke', 'Peter', 'Nile']\n",
    "      \n",
    "                     =>     0         1      2       3        4           : Left To Right\n",
    "                     \n",
    "                           <==  + Ve\n",
    "\n",
    "'''\n",
    "\"\""
   ]
  },
  {
   "cell_type": "code",
   "execution_count": 29,
   "id": "949044c9",
   "metadata": {},
   "outputs": [
    {
     "data": {
      "text/plain": [
       "''"
      ]
     },
     "execution_count": 29,
     "metadata": {},
     "output_type": "execute_result"
    }
   ],
   "source": [
    "'''\n",
    "     ## Index :\n",
    "                      =>  Position of Elements In The List.\n",
    "                \n",
    " --------------------------------------------------------------------------                     \n",
    "                      \n",
    "  -Ve : Right To Left  <==   0   ==> Left To Right : +Ve Value\n",
    "\n",
    " --------------------------------------------------------------------------\n",
    " \n",
    " Emp = [\"Sean\",\"Jenny\",\"Mike\",\"Luke\",\"Finn\"]\n",
    " \n",
    "  \n",
    "  ----------------------------------------------------------\n",
    "  \n",
    "      -Ve  ==>     -5      -4     -3     -2     -1\n",
    "  \n",
    "  \n",
    "                  \"Sean\",\"Jenny\",\"Mike\",\"Luke\",\"Finn\"\n",
    "                  \n",
    "      +Ve  ==>      0       1      2      3      4          \n",
    " '''\n",
    "\n",
    "\"\""
   ]
  },
  {
   "cell_type": "markdown",
   "id": "e7aa5d96",
   "metadata": {},
   "source": [
    "## How To Get The Value From The Index Value :\n",
    "\n",
    "## Syntax :\n",
    "\n",
    "               ##  lst_name[index_value/Pos]"
   ]
  },
  {
   "cell_type": "code",
   "execution_count": 11,
   "id": "bae8c8c7",
   "metadata": {},
   "outputs": [
    {
     "data": {
      "text/plain": [
       "['Sean', 'Jack', 'Luke', 'Finn', 'Allen', 'Curren']"
      ]
     },
     "execution_count": 11,
     "metadata": {},
     "output_type": "execute_result"
    }
   ],
   "source": [
    "emp = ['Sean', 'Jack', 'Luke', 'Finn', 'Allen', 'Curren']\n",
    "emp"
   ]
  },
  {
   "cell_type": "code",
   "execution_count": 12,
   "id": "3a6f5bd7",
   "metadata": {},
   "outputs": [
    {
     "name": "stdout",
     "output_type": "stream",
     "text": [
      "Sean Curren Luke Curren\n"
     ]
    }
   ],
   "source": [
    "print(emp[0],emp[-1],emp[-4],emp[5])"
   ]
  },
  {
   "cell_type": "code",
   "execution_count": 33,
   "id": "7e1431c3",
   "metadata": {},
   "outputs": [
    {
     "data": {
      "text/plain": [
       "'Curren'"
      ]
     },
     "execution_count": 33,
     "metadata": {},
     "output_type": "execute_result"
    }
   ],
   "source": [
    "emp[5]"
   ]
  },
  {
   "cell_type": "code",
   "execution_count": 34,
   "id": "8ae2b738",
   "metadata": {},
   "outputs": [
    {
     "data": {
      "text/plain": [
       "'Sean'"
      ]
     },
     "execution_count": 34,
     "metadata": {},
     "output_type": "execute_result"
    }
   ],
   "source": [
    "emp[-6]"
   ]
  },
  {
   "cell_type": "code",
   "execution_count": 35,
   "id": "6d733027",
   "metadata": {},
   "outputs": [
    {
     "data": {
      "text/plain": [
       "'Curren'"
      ]
     },
     "execution_count": 35,
     "metadata": {},
     "output_type": "execute_result"
    }
   ],
   "source": [
    "emp[-1]"
   ]
  },
  {
   "cell_type": "code",
   "execution_count": 36,
   "id": "cf85ec31",
   "metadata": {},
   "outputs": [
    {
     "data": {
      "text/plain": [
       "['Sean', 'Jack', 'Luke', 'Finn', 'Allen', 'Curren']"
      ]
     },
     "execution_count": 36,
     "metadata": {},
     "output_type": "execute_result"
    }
   ],
   "source": [
    "emp"
   ]
  },
  {
   "cell_type": "code",
   "execution_count": 37,
   "id": "dc8ce7ca",
   "metadata": {},
   "outputs": [
    {
     "data": {
      "text/plain": [
       "6"
      ]
     },
     "execution_count": 37,
     "metadata": {},
     "output_type": "execute_result"
    }
   ],
   "source": [
    "len(emp)"
   ]
  },
  {
   "cell_type": "code",
   "execution_count": 38,
   "id": "f01ccc81",
   "metadata": {},
   "outputs": [
    {
     "data": {
      "text/plain": [
       "'Curren'"
      ]
     },
     "execution_count": 38,
     "metadata": {},
     "output_type": "execute_result"
    }
   ],
   "source": [
    "emp[5]"
   ]
  },
  {
   "cell_type": "code",
   "execution_count": 39,
   "id": "c0942101",
   "metadata": {},
   "outputs": [
    {
     "ename": "IndexError",
     "evalue": "list index out of range",
     "output_type": "error",
     "traceback": [
      "\u001b[1;31m---------------------------------------------------------------------------\u001b[0m",
      "\u001b[1;31mIndexError\u001b[0m                                Traceback (most recent call last)",
      "Input \u001b[1;32mIn [39]\u001b[0m, in \u001b[0;36m<cell line: 1>\u001b[1;34m()\u001b[0m\n\u001b[1;32m----> 1\u001b[0m \u001b[43memp\u001b[49m\u001b[43m[\u001b[49m\u001b[38;5;241;43m6\u001b[39;49m\u001b[43m]\u001b[49m\n",
      "\u001b[1;31mIndexError\u001b[0m: list index out of range"
     ]
    }
   ],
   "source": [
    "emp[6]"
   ]
  },
  {
   "cell_type": "code",
   "execution_count": 40,
   "id": "71ffc193",
   "metadata": {},
   "outputs": [
    {
     "data": {
      "text/plain": [
       "'Sean'"
      ]
     },
     "execution_count": 40,
     "metadata": {},
     "output_type": "execute_result"
    }
   ],
   "source": [
    "emp[-6]"
   ]
  },
  {
   "cell_type": "code",
   "execution_count": 13,
   "id": "7a7ca669",
   "metadata": {},
   "outputs": [
    {
     "data": {
      "text/plain": [
       "['Sean', 'Jack', 'Luke', 'Finn', 'Allen', 'Curren']"
      ]
     },
     "execution_count": 13,
     "metadata": {},
     "output_type": "execute_result"
    }
   ],
   "source": [
    "emp"
   ]
  },
  {
   "cell_type": "code",
   "execution_count": 14,
   "id": "01789865",
   "metadata": {},
   "outputs": [
    {
     "ename": "IndexError",
     "evalue": "list index out of range",
     "output_type": "error",
     "traceback": [
      "\u001b[1;31m---------------------------------------------------------------------------\u001b[0m",
      "\u001b[1;31mIndexError\u001b[0m                                Traceback (most recent call last)",
      "Input \u001b[1;32mIn [14]\u001b[0m, in \u001b[0;36m<cell line: 1>\u001b[1;34m()\u001b[0m\n\u001b[1;32m----> 1\u001b[0m \u001b[43memp\u001b[49m\u001b[43m[\u001b[49m\u001b[38;5;241;43m6\u001b[39;49m\u001b[43m]\u001b[49m\n",
      "\u001b[1;31mIndexError\u001b[0m: list index out of range"
     ]
    }
   ],
   "source": [
    "emp[6]"
   ]
  },
  {
   "cell_type": "code",
   "execution_count": 15,
   "id": "90c34829",
   "metadata": {},
   "outputs": [
    {
     "name": "stdout",
     "output_type": "stream",
     "text": [
      "Do You Want To Get The Value From Index Num :Yes\n",
      "\n",
      "Enter Index Num :5\n",
      "\n",
      "Data At 5 Is : Curren\n"
     ]
    }
   ],
   "source": [
    "inp = input(\"Do You Want To Get The Value From Index Num :\")\n",
    "if inp==\"Yes\":\n",
    "    index = int(input(\"\\nEnter Index Num :\"))\n",
    "    print(\"\\n\"+f\"Data At {index} Is : {emp[index]}\")\n",
    "else:\n",
    "    print(\"\\nPls Exit..\")"
   ]
  },
  {
   "cell_type": "code",
   "execution_count": 16,
   "id": "e55501f2",
   "metadata": {},
   "outputs": [
    {
     "name": "stdout",
     "output_type": "stream",
     "text": [
      "Do You Want To Get The Value From Index Num :Yes\n",
      "\n",
      "Enter Index Num :6\n"
     ]
    },
    {
     "ename": "IndexError",
     "evalue": "list index out of range",
     "output_type": "error",
     "traceback": [
      "\u001b[1;31m---------------------------------------------------------------------------\u001b[0m",
      "\u001b[1;31mIndexError\u001b[0m                                Traceback (most recent call last)",
      "Input \u001b[1;32mIn [16]\u001b[0m, in \u001b[0;36m<cell line: 2>\u001b[1;34m()\u001b[0m\n\u001b[0;32m      2\u001b[0m \u001b[38;5;28;01mif\u001b[39;00m inp\u001b[38;5;241m==\u001b[39m\u001b[38;5;124m\"\u001b[39m\u001b[38;5;124mYes\u001b[39m\u001b[38;5;124m\"\u001b[39m:\n\u001b[0;32m      3\u001b[0m     index \u001b[38;5;241m=\u001b[39m \u001b[38;5;28mint\u001b[39m(\u001b[38;5;28minput\u001b[39m(\u001b[38;5;124m\"\u001b[39m\u001b[38;5;130;01m\\n\u001b[39;00m\u001b[38;5;124mEnter Index Num :\u001b[39m\u001b[38;5;124m\"\u001b[39m))\n\u001b[1;32m----> 4\u001b[0m     \u001b[38;5;28mprint\u001b[39m(\u001b[38;5;124m\"\u001b[39m\u001b[38;5;130;01m\\n\u001b[39;00m\u001b[38;5;124m\"\u001b[39m\u001b[38;5;241m+\u001b[39m\u001b[38;5;124mf\u001b[39m\u001b[38;5;124m\"\u001b[39m\u001b[38;5;124mData At \u001b[39m\u001b[38;5;132;01m{\u001b[39;00mindex\u001b[38;5;132;01m}\u001b[39;00m\u001b[38;5;124m Is : \u001b[39m\u001b[38;5;132;01m{\u001b[39;00memp[index]\u001b[38;5;132;01m}\u001b[39;00m\u001b[38;5;124m\"\u001b[39m)\n\u001b[0;32m      5\u001b[0m \u001b[38;5;28;01melse\u001b[39;00m:\n\u001b[0;32m      6\u001b[0m     \u001b[38;5;28mprint\u001b[39m(\u001b[38;5;124m\"\u001b[39m\u001b[38;5;130;01m\\n\u001b[39;00m\u001b[38;5;124mPls Exit..\u001b[39m\u001b[38;5;124m\"\u001b[39m)\n",
      "\u001b[1;31mIndexError\u001b[0m: list index out of range"
     ]
    }
   ],
   "source": [
    "inp = input(\"Do You Want To Get The Value From Index Num :\")\n",
    "if inp==\"Yes\":\n",
    "    index = int(input(\"\\nEnter Index Num :\"))\n",
    "    print(\"\\n\"+f\"Data At {index} Is : {emp[index]}\")\n",
    "else:\n",
    "    print(\"\\nPls Exit..\")"
   ]
  },
  {
   "cell_type": "code",
   "execution_count": 41,
   "id": "1ccef1bc",
   "metadata": {},
   "outputs": [
    {
     "name": "stdout",
     "output_type": "stream",
     "text": [
      "Total No of Elements Are : 6\n",
      "\n",
      "Pos Start From 0 To 5\n"
     ]
    }
   ],
   "source": [
    "print(\"Total No of Elements Are :\",len(emp))\n",
    "print(\"\\nPos Start From 0 To\",len(emp)-1)"
   ]
  },
  {
   "cell_type": "code",
   "execution_count": 43,
   "id": "3e20ec68",
   "metadata": {},
   "outputs": [
    {
     "name": "stdout",
     "output_type": "stream",
     "text": [
      "Enter The Index Num :5\n",
      "\n",
      "The Is Value : Curren\n"
     ]
    }
   ],
   "source": [
    "start = 0\n",
    "index = int(input(\"Enter The Index Num :\"))\n",
    "if start<len(emp)-1:\n",
    "    print(\"\\nThe Is Value :\",emp[index])\n",
    "else:\n",
    "    print(\"\\nIndex Is Out ot Range..\")"
   ]
  },
  {
   "cell_type": "code",
   "execution_count": 44,
   "id": "501850b6",
   "metadata": {},
   "outputs": [
    {
     "name": "stdout",
     "output_type": "stream",
     "text": [
      "Enter The Index Num :6\n"
     ]
    },
    {
     "ename": "IndexError",
     "evalue": "list index out of range",
     "output_type": "error",
     "traceback": [
      "\u001b[1;31m---------------------------------------------------------------------------\u001b[0m",
      "\u001b[1;31mIndexError\u001b[0m                                Traceback (most recent call last)",
      "Input \u001b[1;32mIn [44]\u001b[0m, in \u001b[0;36m<cell line: 3>\u001b[1;34m()\u001b[0m\n\u001b[0;32m      2\u001b[0m index \u001b[38;5;241m=\u001b[39m \u001b[38;5;28mint\u001b[39m(\u001b[38;5;28minput\u001b[39m(\u001b[38;5;124m\"\u001b[39m\u001b[38;5;124mEnter The Index Num :\u001b[39m\u001b[38;5;124m\"\u001b[39m))\n\u001b[0;32m      3\u001b[0m \u001b[38;5;28;01mif\u001b[39;00m start\u001b[38;5;241m<\u001b[39m\u001b[38;5;28mlen\u001b[39m(emp)\u001b[38;5;241m-\u001b[39m\u001b[38;5;241m1\u001b[39m:\n\u001b[1;32m----> 4\u001b[0m     \u001b[38;5;28mprint\u001b[39m(\u001b[38;5;124m\"\u001b[39m\u001b[38;5;130;01m\\n\u001b[39;00m\u001b[38;5;124mThe Is Value :\u001b[39m\u001b[38;5;124m\"\u001b[39m,\u001b[43memp\u001b[49m\u001b[43m[\u001b[49m\u001b[43mindex\u001b[49m\u001b[43m]\u001b[49m)\n\u001b[0;32m      5\u001b[0m \u001b[38;5;28;01melse\u001b[39;00m:\n\u001b[0;32m      6\u001b[0m     \u001b[38;5;28mprint\u001b[39m(\u001b[38;5;124m\"\u001b[39m\u001b[38;5;130;01m\\n\u001b[39;00m\u001b[38;5;124mIndex Is Out ot Range..\u001b[39m\u001b[38;5;124m\"\u001b[39m)\n",
      "\u001b[1;31mIndexError\u001b[0m: list index out of range"
     ]
    }
   ],
   "source": [
    "start = 0\n",
    "index = int(input(\"Enter The Index Num :\"))\n",
    "if start<len(emp)-1:\n",
    "    print(\"\\nThe Is Value :\",emp[index])\n",
    "else:\n",
    "    print(\"\\nIndex Is Out ot Range..\")"
   ]
  },
  {
   "cell_type": "code",
   "execution_count": 18,
   "id": "4424158e",
   "metadata": {},
   "outputs": [
    {
     "name": "stdout",
     "output_type": "stream",
     "text": [
      "Do You Want To Get The Value From Index Num :Yes\n",
      "\n",
      "Enter Index Num :5\n",
      "\n",
      "Data At 5 Is : Curren\n"
     ]
    }
   ],
   "source": [
    "inp = input(\"Do You Want To Get The Value From Index Num :\")\n",
    "if inp==\"Yes\":\n",
    "    index = int(input(\"\\nEnter Index Num :\"))\n",
    "    if index >= len(emp):\n",
    "        print(\"\\nIndex is out of range:\")\n",
    "    else:\n",
    "        print(\"\\n\"+f\"Data At {index} Is : {emp[index]}\")\n",
    "else:\n",
    "    print(\"\\nPls Exit..\")"
   ]
  },
  {
   "cell_type": "code",
   "execution_count": 20,
   "id": "5d8c2b95",
   "metadata": {},
   "outputs": [
    {
     "name": "stdout",
     "output_type": "stream",
     "text": [
      "Do You Want To Get The Value From Index Num :Yes\n",
      "\n",
      "Enter Index Num :10\n",
      "\n",
      "Index is out of range:\n"
     ]
    }
   ],
   "source": [
    "inp = input(\"Do You Want To Get The Value From Index Num :\")\n",
    "if inp==\"Yes\":\n",
    "    index = int(input(\"\\nEnter Index Num :\"))\n",
    "    if index >= len(emp):\n",
    "        print(\"\\nIndex is out of range:\")\n",
    "    else:\n",
    "        print(\"\\n\"+f\"Data At {index} Is : {emp[index]}\")\n",
    "else:\n",
    "    print(\"\\nPls Exit..\")"
   ]
  },
  {
   "cell_type": "code",
   "execution_count": 21,
   "id": "a9f1ae9f",
   "metadata": {},
   "outputs": [
    {
     "name": "stdout",
     "output_type": "stream",
     "text": [
      "Do You Want To Get The Value From Index Num? (Yes/No): Yes\n",
      "Enter Index Num: 5\n",
      "Invalid index. Index is out of range.\n"
     ]
    }
   ],
   "source": [
    "emp = [\"John\", \"Alice\", \"Bob\", \"Eve\", \"Michael\"]\n",
    "\n",
    "inp = input(\"Do You Want To Get The Value From Index Num? (Yes/No): \")\n",
    "\n",
    "if inp.lower() == \"yes\":\n",
    "    try:\n",
    "        index = int(input(\"Enter Index Num: \"))\n",
    "        if 0 <= index < len(emp):\n",
    "            print(f\"Data At {index} Is: {emp[index]}\")\n",
    "        else:\n",
    "            print(\"Invalid index. Index is out of range.\")\n",
    "    except ValueError:\n",
    "        print(\"Invalid input. Please enter a valid integer.\")\n",
    "else:\n",
    "    print(\"Exiting...\")"
   ]
  },
  {
   "cell_type": "code",
   "execution_count": 22,
   "id": "e9ba5689",
   "metadata": {},
   "outputs": [
    {
     "name": "stdout",
     "output_type": "stream",
     "text": [
      "Do You Want To Get The Value From Index Num? (Yes/No): Yes\n",
      "Enter Index Num: 2\n",
      "Data At 2 Is: Bob\n"
     ]
    }
   ],
   "source": [
    "emp = [\"John\", \"Alice\", \"Bob\", \"Eve\", \"Michael\"]\n",
    "\n",
    "inp = input(\"Do You Want To Get The Value From Index Num? (Yes/No): \")\n",
    "\n",
    "if inp.lower() == \"yes\":\n",
    "    try:\n",
    "        index = int(input(\"Enter Index Num: \"))\n",
    "        if 0 <= index < len(emp):\n",
    "            print(f\"Data At {index} Is: {emp[index]}\")\n",
    "        else:\n",
    "            print(\"Invalid index. Index is out of range.\")\n",
    "    except ValueError:\n",
    "        print(\"Invalid input. Please enter a valid integer.\")\n",
    "else:\n",
    "    print(\"Exiting...\")"
   ]
  },
  {
   "cell_type": "code",
   "execution_count": null,
   "id": "99f5e9f1",
   "metadata": {},
   "outputs": [],
   "source": [
    "inp = input(\"Do You Want To Get The Value From Index Num :\")\n",
    "if inp==\"Yes\":\n",
    "    index = int(input(\"\\nEnter Index Num :\"))\n",
    "    if index >= len(data):\n",
    "        print(\"Index is out of range...\")"
   ]
  },
  {
   "cell_type": "code",
   "execution_count": 29,
   "id": "c6461e28",
   "metadata": {},
   "outputs": [
    {
     "name": "stdout",
     "output_type": "stream",
     "text": [
      "Do You Want To Get The Value From Index Num :Yes\n",
      "\n",
      "Enter Index Num :10\n"
     ]
    },
    {
     "ename": "IndexError",
     "evalue": "list index out of range",
     "output_type": "error",
     "traceback": [
      "\u001b[1;31m---------------------------------------------------------------------------\u001b[0m",
      "\u001b[1;31mIndexError\u001b[0m                                Traceback (most recent call last)",
      "Input \u001b[1;32mIn [29]\u001b[0m, in \u001b[0;36m<cell line: 4>\u001b[1;34m()\u001b[0m\n\u001b[0;32m      4\u001b[0m \u001b[38;5;28;01mif\u001b[39;00m inp\u001b[38;5;241m==\u001b[39m\u001b[38;5;124m\"\u001b[39m\u001b[38;5;124mYes\u001b[39m\u001b[38;5;124m\"\u001b[39m:\n\u001b[0;32m      5\u001b[0m     index \u001b[38;5;241m=\u001b[39m \u001b[38;5;28mint\u001b[39m(\u001b[38;5;28minput\u001b[39m(\u001b[38;5;124m\"\u001b[39m\u001b[38;5;130;01m\\n\u001b[39;00m\u001b[38;5;124mEnter Index Num :\u001b[39m\u001b[38;5;124m\"\u001b[39m))\n\u001b[1;32m----> 6\u001b[0m     \u001b[38;5;28mprint\u001b[39m(\u001b[38;5;124m\"\u001b[39m\u001b[38;5;130;01m\\n\u001b[39;00m\u001b[38;5;124m\"\u001b[39m\u001b[38;5;241m+\u001b[39m\u001b[38;5;124mf\u001b[39m\u001b[38;5;124m\"\u001b[39m\u001b[38;5;124mData At \u001b[39m\u001b[38;5;132;01m{\u001b[39;00mindex\u001b[38;5;132;01m}\u001b[39;00m\u001b[38;5;124m Is : \u001b[39m\u001b[38;5;132;01m{\u001b[39;00mlist1[index]\u001b[38;5;132;01m}\u001b[39;00m\u001b[38;5;124m\"\u001b[39m)\n\u001b[0;32m      7\u001b[0m     \u001b[38;5;28;01mif\u001b[39;00m index \u001b[38;5;241m<\u001b[39m b :\n\u001b[0;32m      8\u001b[0m         index \u001b[38;5;241m=\u001b[39m index \u001b[38;5;241m-\u001b[39mb\n",
      "\u001b[1;31mIndexError\u001b[0m: list index out of range"
     ]
    }
   ],
   "source": [
    "list1 = [\"ram\", \"Suresh\", \"Mahesh\", \"madhav\"]\n",
    "b = len(list1)\n",
    "inp = input(\"Do You Want To Get The Value From Index Num :\")\n",
    "if inp==\"Yes\":\n",
    "    index = int(input(\"\\nEnter Index Num :\"))\n",
    "    print(\"\\n\"+f\"Data At {index} Is : {list1[index]}\")\n",
    "    if index < b :\n",
    "        index = index -b\n",
    "        print(list1[index])\n",
    "    \n",
    "    else: \n",
    "        print(\"\\n\"+f\"Data At {index} Is : {list1[index]}\")\n",
    "else:\n",
    "    print(\"\\nPls Exit..\")"
   ]
  },
  {
   "cell_type": "code",
   "execution_count": 30,
   "id": "3188ae91",
   "metadata": {},
   "outputs": [
    {
     "name": "stdout",
     "output_type": "stream",
     "text": [
      "Enter The Index Num :10\n",
      "\n",
      "Index Is Out ot Range..\n"
     ]
    }
   ],
   "source": [
    "index = int(input(\"Enter The Index Num :\"))\n",
    "if index<len(emp):\n",
    "    print(\"\\nThe Is Value :\",emp[index])\n",
    "else:\n",
    "    print(\"\\nIndex Is Out ot Range..\")"
   ]
  },
  {
   "cell_type": "code",
   "execution_count": 32,
   "id": "937abedf",
   "metadata": {},
   "outputs": [
    {
     "name": "stdout",
     "output_type": "stream",
     "text": [
      "Enter The Index Num :2\n",
      "\n",
      "The Is Value : Bob\n"
     ]
    }
   ],
   "source": [
    "index = int(input(\"Enter The Index Num :\"))\n",
    "if index<len(emp):\n",
    "    print(\"\\nThe Is Value :\",emp[index])\n",
    "else:\n",
    "    print(\"\\nIndex Is Out ot Range..\")"
   ]
  },
  {
   "cell_type": "code",
   "execution_count": 47,
   "id": "464e0557",
   "metadata": {},
   "outputs": [
    {
     "data": {
      "text/plain": [
       "['Sean', 'Jack', 'Luke', 'Finn', 'Allen', 'Curren']"
      ]
     },
     "execution_count": 47,
     "metadata": {},
     "output_type": "execute_result"
    }
   ],
   "source": [
    "emp"
   ]
  },
  {
   "cell_type": "code",
   "execution_count": 48,
   "id": "4199c582",
   "metadata": {},
   "outputs": [
    {
     "name": "stdout",
     "output_type": "stream",
     "text": [
      "Enter The Index Num :5\n",
      "\u001b[30m\n",
      "Value At 5 No Is : \u001b[32mCurren\n"
     ]
    }
   ],
   "source": [
    "index = int(input(\"Enter The Index Num :\"))\n",
    "if index<len(emp):\n",
    "    print(Fore.BLACK+\"\\nValue At \"+str(index)+\" No Is : \"+Fore.GREEN+emp[index])\n",
    "else:\n",
    "    print(Fore.RED+\"\\nIndex Is Out ot Range..\")"
   ]
  },
  {
   "cell_type": "code",
   "execution_count": 49,
   "id": "2711352c",
   "metadata": {},
   "outputs": [
    {
     "name": "stdout",
     "output_type": "stream",
     "text": [
      "Enter The Index Num :6\n",
      "\u001b[31m\n",
      "Index Is Out ot Range..\n"
     ]
    }
   ],
   "source": [
    "index = int(input(\"Enter The Index Num :\"))\n",
    "if index<len(emp):\n",
    "    print(Fore.BLACK+\"\\nValue At \"+str(index)+\" No Is : \"+Fore.GREEN+emp[index])\n",
    "else:\n",
    "    print(Fore.RED+\"\\nIndex Is Out ot Range..\")"
   ]
  },
  {
   "cell_type": "markdown",
   "id": "448f174d",
   "metadata": {},
   "source": [
    "## Mutable "
   ]
  },
  {
   "cell_type": "code",
   "execution_count": 1,
   "id": "570aba50",
   "metadata": {},
   "outputs": [],
   "source": [
    "## How To Change The Value From Index Num"
   ]
  },
  {
   "cell_type": "code",
   "execution_count": 33,
   "id": "9a5088f4",
   "metadata": {},
   "outputs": [],
   "source": [
    "emp = ['Sean', 'Jenny', 'Mike', 'Luke', 'Finn']"
   ]
  },
  {
   "cell_type": "code",
   "execution_count": 34,
   "id": "d899dea1",
   "metadata": {},
   "outputs": [
    {
     "data": {
      "text/plain": [
       "['Sean', 'Jenny', 'Mike', 'Luke', 'Finn']"
      ]
     },
     "execution_count": 34,
     "metadata": {},
     "output_type": "execute_result"
    }
   ],
   "source": [
    "emp"
   ]
  },
  {
   "cell_type": "code",
   "execution_count": 35,
   "id": "0940b4d0",
   "metadata": {},
   "outputs": [
    {
     "data": {
      "text/plain": [
       "'Sean'"
      ]
     },
     "execution_count": 35,
     "metadata": {},
     "output_type": "execute_result"
    }
   ],
   "source": [
    "emp[0]"
   ]
  },
  {
   "cell_type": "code",
   "execution_count": 36,
   "id": "aef8b4a0",
   "metadata": {},
   "outputs": [
    {
     "data": {
      "text/plain": [
       "'Jenny'"
      ]
     },
     "execution_count": 36,
     "metadata": {},
     "output_type": "execute_result"
    }
   ],
   "source": [
    "emp[1]"
   ]
  },
  {
   "cell_type": "code",
   "execution_count": 6,
   "id": "510b9138",
   "metadata": {},
   "outputs": [],
   "source": [
    "## Syntax :  lst_name[Index_Num] = New value"
   ]
  },
  {
   "cell_type": "code",
   "execution_count": 7,
   "id": "740efd45",
   "metadata": {},
   "outputs": [
    {
     "data": {
      "text/plain": [
       "['Sean', 'Jenny', 'Mike', 'Luke', 'Finn']"
      ]
     },
     "execution_count": 7,
     "metadata": {},
     "output_type": "execute_result"
    }
   ],
   "source": [
    "emp"
   ]
  },
  {
   "cell_type": "code",
   "execution_count": 37,
   "id": "bd4e4943",
   "metadata": {},
   "outputs": [],
   "source": [
    "emp[0] = \"Ria\""
   ]
  },
  {
   "cell_type": "code",
   "execution_count": 38,
   "id": "0aee6bf7",
   "metadata": {},
   "outputs": [
    {
     "data": {
      "text/plain": [
       "['Ria', 'Jenny', 'Mike', 'Luke', 'Finn']"
      ]
     },
     "execution_count": 38,
     "metadata": {},
     "output_type": "execute_result"
    }
   ],
   "source": [
    "emp"
   ]
  },
  {
   "cell_type": "code",
   "execution_count": 40,
   "id": "99dd845a",
   "metadata": {},
   "outputs": [
    {
     "name": "stdout",
     "output_type": "stream",
     "text": [
      "Enter The Index Num :10\n",
      "\n",
      "Index Is Out ot Range..\n"
     ]
    }
   ],
   "source": [
    "index = int(input(\"Enter The Index Num :\"))\n",
    "if index<len(emp):\n",
    "    inp = input(\"\\nDo You Want To Change The Value :\")\n",
    "    if inp==\"Yes\":\n",
    "        index = int(input(\"Enter The Index Num :\"))\n",
    "        new_value = input(\"\\nEnter The New Value :\")\n",
    "        emp[index] = new_value\n",
    "        print(\"\\nSuccessFully Updated..\")\n",
    "        print(\"\\nThe Updated List Is :\",emp)\n",
    "    else:\n",
    "        print(\"\\nOkay!!\")\n",
    "else:\n",
    "    print(\"\\nIndex Is Out ot Range..\")"
   ]
  },
  {
   "cell_type": "code",
   "execution_count": 43,
   "id": "b0230f4b",
   "metadata": {},
   "outputs": [
    {
     "name": "stdout",
     "output_type": "stream",
     "text": [
      "Enter The Index Num :0\n",
      "\n",
      "Do You Want To Change The Value :Yes\n",
      "\n",
      "Enter The Index Num :0\n",
      "\n",
      "Enter The New Value :Zyna\n",
      "\n",
      "SuccessFully Updated..\n",
      "\n",
      "The Updated List Is : ['Zyna', 'Jenny', 'Mike', 'Luke', 'Finn']\n"
     ]
    }
   ],
   "source": [
    "index = int(input(\"Enter The Index Num :\"))\n",
    "if index<len(emp):\n",
    "    inp = input(\"\\nDo You Want To Change The Value :\")\n",
    "    if inp==\"Yes\":\n",
    "        index = int(input(\"\\nEnter The Index Num :\"))\n",
    "        new_value = input(\"\\nEnter The New Value :\")\n",
    "        emp[index] = new_value\n",
    "        print(\"\\nSuccessFully Updated..\")\n",
    "        print(\"\\nThe Updated List Is :\",emp)\n",
    "    else:\n",
    "        print(\"\\nOkay!!\")\n",
    "\n",
    "else:\n",
    "    print(\"\\nIndex Is Out ot Range..\")"
   ]
  },
  {
   "cell_type": "markdown",
   "id": "a165c797",
   "metadata": {},
   "source": [
    "## Indexing / Slicing"
   ]
  },
  {
   "cell_type": "code",
   "execution_count": 13,
   "id": "a06f1755",
   "metadata": {},
   "outputs": [
    {
     "data": {
      "text/plain": [
       "''"
      ]
     },
     "execution_count": 13,
     "metadata": {},
     "output_type": "execute_result"
    }
   ],
   "source": [
    "'''\n",
    "  Slicing :\n",
    "  \n",
    "               list_name[start:stop:step]\n",
    "'''\n",
    "\"\""
   ]
  },
  {
   "cell_type": "code",
   "execution_count": 14,
   "id": "4ad70d4d",
   "metadata": {},
   "outputs": [],
   "source": [
    "## Here , Start , Stop And Step Is Seperated By Colon."
   ]
  },
  {
   "cell_type": "code",
   "execution_count": 44,
   "id": "1d90b66d",
   "metadata": {},
   "outputs": [],
   "source": [
    "emp = ['Ria', 'Klassan', 'Mike', 'Luke', 'Finn']"
   ]
  },
  {
   "cell_type": "markdown",
   "id": "a27864bd",
   "metadata": {},
   "source": [
    "## Start"
   ]
  },
  {
   "cell_type": "code",
   "execution_count": 45,
   "id": "e853924f",
   "metadata": {},
   "outputs": [
    {
     "data": {
      "text/plain": [
       "['Ria', 'Klassan', 'Mike', 'Luke', 'Finn']"
      ]
     },
     "execution_count": 45,
     "metadata": {},
     "output_type": "execute_result"
    }
   ],
   "source": [
    "emp"
   ]
  },
  {
   "cell_type": "code",
   "execution_count": 46,
   "id": "fbc349cf",
   "metadata": {},
   "outputs": [
    {
     "data": {
      "text/plain": [
       "'Ria'"
      ]
     },
     "execution_count": 46,
     "metadata": {},
     "output_type": "execute_result"
    }
   ],
   "source": [
    "emp[0] ## Index"
   ]
  },
  {
   "cell_type": "code",
   "execution_count": 47,
   "id": "494a709f",
   "metadata": {},
   "outputs": [
    {
     "data": {
      "text/plain": [
       "['Ria', 'Klassan', 'Mike', 'Luke', 'Finn']"
      ]
     },
     "execution_count": 47,
     "metadata": {},
     "output_type": "execute_result"
    }
   ],
   "source": [
    "emp[0::]"
   ]
  },
  {
   "cell_type": "code",
   "execution_count": 48,
   "id": "60ef051d",
   "metadata": {},
   "outputs": [
    {
     "data": {
      "text/plain": [
       "['Ria', 'Klassan', 'Mike', 'Luke', 'Finn']"
      ]
     },
     "execution_count": 48,
     "metadata": {},
     "output_type": "execute_result"
    }
   ],
   "source": [
    "emp[::]"
   ]
  },
  {
   "cell_type": "code",
   "execution_count": 49,
   "id": "d7cacc13",
   "metadata": {},
   "outputs": [
    {
     "data": {
      "text/plain": [
       "['Ria', 'Klassan', 'Mike', 'Luke', 'Finn']"
      ]
     },
     "execution_count": 49,
     "metadata": {},
     "output_type": "execute_result"
    }
   ],
   "source": [
    "emp[:]"
   ]
  },
  {
   "cell_type": "code",
   "execution_count": 16,
   "id": "1ade8ec2",
   "metadata": {},
   "outputs": [
    {
     "data": {
      "text/plain": [
       "['Ria', 'Klassan', 'Mike', 'Luke', 'Finn']"
      ]
     },
     "execution_count": 16,
     "metadata": {},
     "output_type": "execute_result"
    }
   ],
   "source": [
    "emp[0:]"
   ]
  },
  {
   "cell_type": "code",
   "execution_count": 17,
   "id": "e0a2531c",
   "metadata": {},
   "outputs": [
    {
     "data": {
      "text/plain": [
       "['Ria', 'Klassan', 'Mike', 'Luke', 'Finn']"
      ]
     },
     "execution_count": 17,
     "metadata": {},
     "output_type": "execute_result"
    }
   ],
   "source": [
    "emp[:]"
   ]
  },
  {
   "cell_type": "code",
   "execution_count": 18,
   "id": "cf6762ac",
   "metadata": {},
   "outputs": [
    {
     "data": {
      "text/plain": [
       "['Ria', 'Klassan', 'Mike', 'Luke', 'Finn']"
      ]
     },
     "execution_count": 18,
     "metadata": {},
     "output_type": "execute_result"
    }
   ],
   "source": [
    "emp[::]"
   ]
  },
  {
   "cell_type": "code",
   "execution_count": 19,
   "id": "0c318a76",
   "metadata": {},
   "outputs": [
    {
     "data": {
      "text/plain": [
       "True"
      ]
     },
     "execution_count": 19,
     "metadata": {},
     "output_type": "execute_result"
    }
   ],
   "source": [
    "emp == emp[0:] == emp[:] == emp[::]"
   ]
  },
  {
   "cell_type": "code",
   "execution_count": 20,
   "id": "f06e9fca",
   "metadata": {},
   "outputs": [
    {
     "data": {
      "text/plain": [
       "['Ria', 'Klassan', 'Mike', 'Luke', 'Finn']"
      ]
     },
     "execution_count": 20,
     "metadata": {},
     "output_type": "execute_result"
    }
   ],
   "source": [
    "emp"
   ]
  },
  {
   "cell_type": "code",
   "execution_count": 50,
   "id": "f4f6d077",
   "metadata": {},
   "outputs": [
    {
     "data": {
      "text/plain": [
       "['Mike', 'Luke', 'Finn']"
      ]
     },
     "execution_count": 50,
     "metadata": {},
     "output_type": "execute_result"
    }
   ],
   "source": [
    "emp[2:]"
   ]
  },
  {
   "cell_type": "code",
   "execution_count": 21,
   "id": "1010d122",
   "metadata": {},
   "outputs": [
    {
     "data": {
      "text/plain": [
       "['Klassan', 'Mike', 'Luke', 'Finn']"
      ]
     },
     "execution_count": 21,
     "metadata": {},
     "output_type": "execute_result"
    }
   ],
   "source": [
    "emp[1:]"
   ]
  },
  {
   "cell_type": "code",
   "execution_count": 23,
   "id": "d5c4dff1",
   "metadata": {},
   "outputs": [
    {
     "data": {
      "text/plain": [
       "['Mike', 'Luke', 'Finn']"
      ]
     },
     "execution_count": 23,
     "metadata": {},
     "output_type": "execute_result"
    }
   ],
   "source": [
    "emp[2:]"
   ]
  },
  {
   "cell_type": "code",
   "execution_count": 24,
   "id": "69ea0484",
   "metadata": {},
   "outputs": [
    {
     "data": {
      "text/plain": [
       "'Mike'"
      ]
     },
     "execution_count": 24,
     "metadata": {},
     "output_type": "execute_result"
    }
   ],
   "source": [
    "emp[2]"
   ]
  },
  {
   "cell_type": "markdown",
   "id": "3778aca1",
   "metadata": {},
   "source": [
    "## Stop"
   ]
  },
  {
   "cell_type": "code",
   "execution_count": 51,
   "id": "e88ea899",
   "metadata": {},
   "outputs": [
    {
     "data": {
      "text/plain": [
       "['Ria', 'Klassan', 'Mike', 'Luke', 'Finn']"
      ]
     },
     "execution_count": 51,
     "metadata": {},
     "output_type": "execute_result"
    }
   ],
   "source": [
    "emp"
   ]
  },
  {
   "cell_type": "code",
   "execution_count": 52,
   "id": "40623bc9",
   "metadata": {},
   "outputs": [
    {
     "data": {
      "text/plain": [
       "['Ria', 'Klassan']"
      ]
     },
     "execution_count": 52,
     "metadata": {},
     "output_type": "execute_result"
    }
   ],
   "source": [
    "emp[0:2] ## Stop Pos --> Value : Not Consider"
   ]
  },
  {
   "cell_type": "code",
   "execution_count": 53,
   "id": "0e2ffbb9",
   "metadata": {},
   "outputs": [
    {
     "data": {
      "text/plain": [
       "['Mike', 'Luke']"
      ]
     },
     "execution_count": 53,
     "metadata": {},
     "output_type": "execute_result"
    }
   ],
   "source": [
    "emp[2:4] ## 4 - 2 => 2 Data Stored"
   ]
  },
  {
   "cell_type": "code",
   "execution_count": 27,
   "id": "2d8d9b0d",
   "metadata": {},
   "outputs": [],
   "source": [
    "## Range ==> stop - start \n",
    "## Diference --> Stored."
   ]
  },
  {
   "cell_type": "code",
   "execution_count": 28,
   "id": "24a509ea",
   "metadata": {},
   "outputs": [],
   "source": [
    "## 2 - 0 = 2 <-- Stored"
   ]
  },
  {
   "cell_type": "code",
   "execution_count": 29,
   "id": "cc88ddcd",
   "metadata": {},
   "outputs": [
    {
     "data": {
      "text/plain": [
       "['Ria', 'Klassan', 'Mike', 'Luke', 'Finn']"
      ]
     },
     "execution_count": 29,
     "metadata": {},
     "output_type": "execute_result"
    }
   ],
   "source": [
    "emp"
   ]
  },
  {
   "cell_type": "code",
   "execution_count": 30,
   "id": "1e940f7e",
   "metadata": {},
   "outputs": [
    {
     "data": {
      "text/plain": [
       "['Klassan', 'Mike', 'Luke', 'Finn']"
      ]
     },
     "execution_count": 30,
     "metadata": {},
     "output_type": "execute_result"
    }
   ],
   "source": [
    "emp[1:5]  # 5 - 1 = 4"
   ]
  },
  {
   "cell_type": "markdown",
   "id": "25f50d1b",
   "metadata": {},
   "source": [
    "## Step"
   ]
  },
  {
   "cell_type": "code",
   "execution_count": 54,
   "id": "7c99820e",
   "metadata": {},
   "outputs": [
    {
     "data": {
      "text/plain": [
       "['Ria', 'Klassan', 'Mike', 'Luke', 'Finn']"
      ]
     },
     "execution_count": 54,
     "metadata": {},
     "output_type": "execute_result"
    }
   ],
   "source": [
    "emp"
   ]
  },
  {
   "cell_type": "code",
   "execution_count": 55,
   "id": "db59f00c",
   "metadata": {},
   "outputs": [
    {
     "data": {
      "text/plain": [
       "['Ria', 'Mike', 'Finn']"
      ]
     },
     "execution_count": 55,
     "metadata": {},
     "output_type": "execute_result"
    }
   ],
   "source": [
    "emp[::2]"
   ]
  },
  {
   "cell_type": "code",
   "execution_count": 56,
   "id": "41bad592",
   "metadata": {},
   "outputs": [
    {
     "data": {
      "text/plain": [
       "['Ria', 'Klassan', 'Mike', 'Luke', 'Finn']"
      ]
     },
     "execution_count": 56,
     "metadata": {},
     "output_type": "execute_result"
    }
   ],
   "source": [
    "emp[::1]"
   ]
  },
  {
   "cell_type": "code",
   "execution_count": 57,
   "id": "4c2cbf93",
   "metadata": {},
   "outputs": [
    {
     "data": {
      "text/plain": [
       "True"
      ]
     },
     "execution_count": 57,
     "metadata": {},
     "output_type": "execute_result"
    }
   ],
   "source": [
    "emp[::1] == emp"
   ]
  },
  {
   "cell_type": "code",
   "execution_count": 58,
   "id": "1e5d2eac",
   "metadata": {},
   "outputs": [
    {
     "data": {
      "text/plain": [
       "['Ria', 'Klassan', 'Mike', 'Luke', 'Finn']"
      ]
     },
     "execution_count": 58,
     "metadata": {},
     "output_type": "execute_result"
    }
   ],
   "source": [
    "emp"
   ]
  },
  {
   "cell_type": "code",
   "execution_count": 36,
   "id": "d2359994",
   "metadata": {},
   "outputs": [
    {
     "data": {
      "text/plain": [
       "['Klassan', 'Luke']"
      ]
     },
     "execution_count": 36,
     "metadata": {},
     "output_type": "execute_result"
    }
   ],
   "source": [
    "emp[1::2]"
   ]
  },
  {
   "cell_type": "code",
   "execution_count": 61,
   "id": "8c9f904d",
   "metadata": {},
   "outputs": [],
   "source": [
    "emp = ['Ria', 'Klassan', 'Mike', 'Luke', 'Finn','Jackie','Gorge','Jenny',10,20,56,100,26,56,500]"
   ]
  },
  {
   "cell_type": "code",
   "execution_count": 63,
   "id": "3c4b930a",
   "metadata": {},
   "outputs": [
    {
     "name": "stdout",
     "output_type": "stream",
     "text": [
      "['Ria', 'Klassan', 'Mike', 'Luke', 'Finn', 'Jackie', 'Gorge', 'Jenny', 10, 20, 56, 100, 26, 56, 500]\n"
     ]
    }
   ],
   "source": [
    "print(emp)"
   ]
  },
  {
   "cell_type": "code",
   "execution_count": 39,
   "id": "ae10748f",
   "metadata": {},
   "outputs": [],
   "source": [
    "# emp[::2]\n",
    "# emp[1::4]\n",
    "# emp[2:2:2]\n",
    "# emp[2:10:4]  \n",
    "# emp[::4]\n",
    "# emp[1:1]\n",
    "# emp[-1:-10:2]\n",
    "# emp[-2::-2]\n",
    "## Find Value At Even Pos\n",
    "## Find Value At Odd Pos\n",
    "## Find Value At Multiple 0f 5\n",
    "## Find Value At All Prime Number\n",
    "## Make All New List Like : Even , Odd , 5 Multiple , Prime Numer Index For Data\n",
    "## Find Value Start With K And J\n",
    "## Find Value Ends With n and a"
   ]
  },
  {
   "cell_type": "code",
   "execution_count": 40,
   "id": "c88b79da",
   "metadata": {},
   "outputs": [
    {
     "data": {
      "text/plain": [
       "['Ria', 'Klassan', 'Mike', 'Luke', 'Finn', 'Jackie', 'Gorge', 'Jenny']"
      ]
     },
     "execution_count": 40,
     "metadata": {},
     "output_type": "execute_result"
    }
   ],
   "source": [
    "emp"
   ]
  },
  {
   "cell_type": "code",
   "execution_count": 41,
   "id": "837d70d2",
   "metadata": {},
   "outputs": [
    {
     "data": {
      "text/plain": [
       "['Ria', 'Mike', 'Finn', 'Gorge']"
      ]
     },
     "execution_count": 41,
     "metadata": {},
     "output_type": "execute_result"
    }
   ],
   "source": [
    "emp[::2]"
   ]
  },
  {
   "cell_type": "code",
   "execution_count": 42,
   "id": "198c4ad2",
   "metadata": {},
   "outputs": [
    {
     "data": {
      "text/plain": [
       "['Klassan', 'Jackie']"
      ]
     },
     "execution_count": 42,
     "metadata": {},
     "output_type": "execute_result"
    }
   ],
   "source": [
    "emp[1::4]"
   ]
  },
  {
   "cell_type": "code",
   "execution_count": 43,
   "id": "389c6b92",
   "metadata": {},
   "outputs": [
    {
     "data": {
      "text/plain": [
       "[]"
      ]
     },
     "execution_count": 43,
     "metadata": {},
     "output_type": "execute_result"
    }
   ],
   "source": [
    "emp[2:2:2]"
   ]
  },
  {
   "cell_type": "code",
   "execution_count": 44,
   "id": "9af0c801",
   "metadata": {},
   "outputs": [
    {
     "data": {
      "text/plain": [
       "['Mike', 'Gorge']"
      ]
     },
     "execution_count": 44,
     "metadata": {},
     "output_type": "execute_result"
    }
   ],
   "source": [
    "emp[2:10:4]"
   ]
  },
  {
   "cell_type": "code",
   "execution_count": 45,
   "id": "8c1c5146",
   "metadata": {},
   "outputs": [
    {
     "data": {
      "text/plain": [
       "['Ria', 'Finn']"
      ]
     },
     "execution_count": 45,
     "metadata": {},
     "output_type": "execute_result"
    }
   ],
   "source": [
    "emp[::4]"
   ]
  },
  {
   "cell_type": "code",
   "execution_count": 47,
   "id": "63c39e02",
   "metadata": {},
   "outputs": [
    {
     "data": {
      "text/plain": [
       "[]"
      ]
     },
     "execution_count": 47,
     "metadata": {},
     "output_type": "execute_result"
    }
   ],
   "source": [
    "emp[1:1]\n",
    "## stop - start\n",
    "## 1 - 1\n",
    "## 0 <--  Stored"
   ]
  },
  {
   "cell_type": "code",
   "execution_count": 48,
   "id": "a15780ab",
   "metadata": {},
   "outputs": [],
   "source": [
    "emp = [\"A\",25,\"Z\",55,\"B\",66,\"K\",15,\"H\",16,\"G\",18,\"R\",26,\"P\",100,\"N\"]\n",
    "\n",
    "\n",
    "## emp[2:6]\n",
    "## emp[4:8]\n",
    "## emp[:6]\n",
    "## emp[1:5]\n",
    "## emp[4:4]\n",
    "## emp[2:10:4]\n",
    "## emp[:6:2]"
   ]
  },
  {
   "cell_type": "code",
   "execution_count": 49,
   "id": "d149464f",
   "metadata": {},
   "outputs": [],
   "source": [
    "## Make A Bill Generator With Colors.\n",
    "## Make A Program About The Operators Using Input Function.\n",
    "## Make A GST Calculator With Colors.\n",
    "## Make A Program About The Zodiac Sign.\n",
    "## Make A Game Using Condns And Input Function."
   ]
  },
  {
   "cell_type": "code",
   "execution_count": 64,
   "id": "12b65ea5",
   "metadata": {},
   "outputs": [
    {
     "data": {
      "text/plain": [
       "['__add__',\n",
       " '__class__',\n",
       " '__class_getitem__',\n",
       " '__contains__',\n",
       " '__delattr__',\n",
       " '__delitem__',\n",
       " '__dir__',\n",
       " '__doc__',\n",
       " '__eq__',\n",
       " '__format__',\n",
       " '__ge__',\n",
       " '__getattribute__',\n",
       " '__getitem__',\n",
       " '__gt__',\n",
       " '__hash__',\n",
       " '__iadd__',\n",
       " '__imul__',\n",
       " '__init__',\n",
       " '__init_subclass__',\n",
       " '__iter__',\n",
       " '__le__',\n",
       " '__len__',\n",
       " '__lt__',\n",
       " '__mul__',\n",
       " '__ne__',\n",
       " '__new__',\n",
       " '__reduce__',\n",
       " '__reduce_ex__',\n",
       " '__repr__',\n",
       " '__reversed__',\n",
       " '__rmul__',\n",
       " '__setattr__',\n",
       " '__setitem__',\n",
       " '__sizeof__',\n",
       " '__str__',\n",
       " '__subclasshook__',\n",
       " 'append',\n",
       " 'clear',\n",
       " 'copy',\n",
       " 'count',\n",
       " 'extend',\n",
       " 'index',\n",
       " 'insert',\n",
       " 'pop',\n",
       " 'remove',\n",
       " 'reverse',\n",
       " 'sort']"
      ]
     },
     "execution_count": 64,
     "metadata": {},
     "output_type": "execute_result"
    }
   ],
   "source": [
    "dir(list)"
   ]
  },
  {
   "cell_type": "code",
   "execution_count": 51,
   "id": "f12ea45b",
   "metadata": {},
   "outputs": [
    {
     "data": {
      "text/plain": [
       "''"
      ]
     },
     "execution_count": 51,
     "metadata": {},
     "output_type": "execute_result"
    }
   ],
   "source": [
    "## Methods of List :\n",
    "'''\n",
    " 'append',\n",
    " 'clear',\n",
    " 'copy',\n",
    " 'count',\n",
    " 'extend',\n",
    " 'index',\n",
    " 'insert',\n",
    " 'pop',\n",
    " 'remove',\n",
    " 'reverse',\n",
    " 'sort'\n",
    " \n",
    " '''\n",
    "\"\""
   ]
  },
  {
   "cell_type": "markdown",
   "id": "90ba094d",
   "metadata": {},
   "source": [
    "## append()"
   ]
  },
  {
   "cell_type": "code",
   "execution_count": 52,
   "id": "f8af7674",
   "metadata": {},
   "outputs": [
    {
     "data": {
      "text/plain": [
       "''"
      ]
     },
     "execution_count": 52,
     "metadata": {},
     "output_type": "execute_result"
    }
   ],
   "source": [
    "'''\n",
    "   ## append() :\n",
    "   \n",
    "      => It Is Used To Add The Element At The Last Position of List.\n",
    "      \n",
    "      => Syntax : lst_name.append(data)\n",
    "'''\n",
    "\"\""
   ]
  },
  {
   "cell_type": "code",
   "execution_count": 65,
   "id": "4e9be4dc",
   "metadata": {},
   "outputs": [],
   "source": [
    "l1 = [\"Sean\",\"Mike\",\"Jack\",\"Luke\"]"
   ]
  },
  {
   "cell_type": "code",
   "execution_count": 66,
   "id": "daa0b110",
   "metadata": {},
   "outputs": [
    {
     "data": {
      "text/plain": [
       "['Sean', 'Mike', 'Jack', 'Luke']"
      ]
     },
     "execution_count": 66,
     "metadata": {},
     "output_type": "execute_result"
    }
   ],
   "source": [
    "l1"
   ]
  },
  {
   "cell_type": "code",
   "execution_count": 67,
   "id": "7cc2f997",
   "metadata": {},
   "outputs": [],
   "source": [
    "l1.append(\"Ria\")"
   ]
  },
  {
   "cell_type": "code",
   "execution_count": 68,
   "id": "20fa1ee4",
   "metadata": {},
   "outputs": [
    {
     "data": {
      "text/plain": [
       "['Sean', 'Mike', 'Jack', 'Luke', 'Ria']"
      ]
     },
     "execution_count": 68,
     "metadata": {},
     "output_type": "execute_result"
    }
   ],
   "source": [
    "l1"
   ]
  },
  {
   "cell_type": "code",
   "execution_count": 69,
   "id": "7e12de1a",
   "metadata": {},
   "outputs": [
    {
     "ename": "TypeError",
     "evalue": "list.append() takes exactly one argument (2 given)",
     "output_type": "error",
     "traceback": [
      "\u001b[1;31m---------------------------------------------------------------------------\u001b[0m",
      "\u001b[1;31mTypeError\u001b[0m                                 Traceback (most recent call last)",
      "Input \u001b[1;32mIn [69]\u001b[0m, in \u001b[0;36m<cell line: 1>\u001b[1;34m()\u001b[0m\n\u001b[1;32m----> 1\u001b[0m \u001b[43ml1\u001b[49m\u001b[38;5;241;43m.\u001b[39;49m\u001b[43mappend\u001b[49m\u001b[43m(\u001b[49m\u001b[38;5;124;43m\"\u001b[39;49m\u001b[38;5;124;43mA\u001b[39;49m\u001b[38;5;124;43m\"\u001b[39;49m\u001b[43m,\u001b[49m\u001b[38;5;124;43m\"\u001b[39;49m\u001b[38;5;124;43mB\u001b[39;49m\u001b[38;5;124;43m\"\u001b[39;49m\u001b[43m)\u001b[49m\n",
      "\u001b[1;31mTypeError\u001b[0m: list.append() takes exactly one argument (2 given)"
     ]
    }
   ],
   "source": [
    "l1.append(\"A\",\"B\")  ## 2 Arguments(Values)"
   ]
  },
  {
   "cell_type": "code",
   "execution_count": 58,
   "id": "db2a23b3",
   "metadata": {},
   "outputs": [],
   "source": [
    "## It Takes Exactly One Argument.\n",
    "\n",
    "  ## Argument => Value/Data"
   ]
  },
  {
   "cell_type": "markdown",
   "id": "0ef18540",
   "metadata": {},
   "source": [
    "## clear()"
   ]
  },
  {
   "cell_type": "code",
   "execution_count": 59,
   "id": "a257a479",
   "metadata": {},
   "outputs": [],
   "source": [
    "## clear :\n",
    "\n",
    "  ## It Is Used To Clear The List.\n",
    "    \n",
    "  ## And Make A Empty List.\n",
    "\n",
    "## Syntax :\n",
    "\n",
    "  ## Lst_name.clear()"
   ]
  },
  {
   "cell_type": "code",
   "execution_count": 70,
   "id": "21970a9b",
   "metadata": {},
   "outputs": [],
   "source": [
    "data = ['Allen', 'Jenny', 'Peter', 'Luke', 'Nile', '😀']"
   ]
  },
  {
   "cell_type": "code",
   "execution_count": 71,
   "id": "c955d746",
   "metadata": {},
   "outputs": [
    {
     "data": {
      "text/plain": [
       "['Allen', 'Jenny', 'Peter', 'Luke', 'Nile', '😀']"
      ]
     },
     "execution_count": 71,
     "metadata": {},
     "output_type": "execute_result"
    }
   ],
   "source": [
    "data"
   ]
  },
  {
   "cell_type": "code",
   "execution_count": 72,
   "id": "136c81de",
   "metadata": {},
   "outputs": [],
   "source": [
    "data.clear()"
   ]
  },
  {
   "cell_type": "code",
   "execution_count": 73,
   "id": "fb4a936f",
   "metadata": {},
   "outputs": [
    {
     "data": {
      "text/plain": [
       "[]"
      ]
     },
     "execution_count": 73,
     "metadata": {},
     "output_type": "execute_result"
    }
   ],
   "source": [
    "data"
   ]
  },
  {
   "cell_type": "code",
   "execution_count": 76,
   "id": "47fc34b2",
   "metadata": {},
   "outputs": [
    {
     "name": "stdout",
     "output_type": "stream",
     "text": [
      "Elements starting with 'K': ['Klassan']\n",
      "Elements starting with 'J': ['Jackie', 'Jenny']\n"
     ]
    }
   ],
   "source": [
    "starts_with_k = []\n",
    "starts_with_j = []\n",
    "\n",
    "for item in emp:\n",
    "    if isinstance(item, str):  \n",
    "        if item.startswith('K'):\n",
    "            starts_with_k.append(item)\n",
    "        elif item.startswith('J'):\n",
    "            starts_with_j.append(item)\n",
    "\n",
    "print(\"Elements starting with 'K':\", starts_with_k)\n",
    "print(\"Elements starting with 'J':\", starts_with_j)"
   ]
  },
  {
   "cell_type": "code",
   "execution_count": 74,
   "id": "80fb5072",
   "metadata": {},
   "outputs": [],
   "source": [
    "data = ['Allen', 'Jenny', 'Peter', 'Luke', 'Nile', '😀']"
   ]
  },
  {
   "cell_type": "code",
   "execution_count": 75,
   "id": "2bc5e8d2",
   "metadata": {},
   "outputs": [
    {
     "name": "stdout",
     "output_type": "stream",
     "text": [
      "Do You Want To Delete All Elements From A List ? :Yes\n",
      "\n",
      "SuccessFully..\n",
      "\n",
      "Do You Want To Check The Empty List ? :Yes\n",
      "\n",
      "The Empty List Is : \n",
      "\n",
      "[]\n"
     ]
    }
   ],
   "source": [
    "opt = input(\"Do You Want To Delete All Elements From A List ? :\")\n",
    "if opt==\"Yes\":\n",
    "    data.clear()\n",
    "    print(\"\\nSuccessFully..\")\n",
    "    inp = input(\"\\nDo You Want To Check The Empty List ? :\")\n",
    "    if inp==\"Yes\":\n",
    "        print(\"\\nThe Empty List Is :\",\"\\n\")\n",
    "        print(data)\n",
    "    else:\n",
    "        print(\"\\nExit..\")\n",
    "else:\n",
    "    print(\"\\nOaky !!\")"
   ]
  },
  {
   "cell_type": "code",
   "execution_count": 67,
   "id": "c0d52d61",
   "metadata": {},
   "outputs": [
    {
     "data": {
      "text/plain": [
       "['Allen', 'Jenny', 'Peter', 'Luke', 'Nile', '😀']"
      ]
     },
     "execution_count": 67,
     "metadata": {},
     "output_type": "execute_result"
    }
   ],
   "source": [
    "data"
   ]
  },
  {
   "cell_type": "code",
   "execution_count": 68,
   "id": "ba8b9d24",
   "metadata": {},
   "outputs": [
    {
     "name": "stdout",
     "output_type": "stream",
     "text": [
      "Do You Want To Delete All Elements From A List ? :Yes\n",
      "\n",
      "SuccessFully..\n",
      "\n",
      "Do You Want To Check The Empty List ? :Yes\n",
      "\n",
      "The Empty List Is : \n",
      "\n",
      "[]\n"
     ]
    }
   ],
   "source": [
    "opt = input(\"Do You Want To Delete All Elements From A List ? :\")\n",
    "if opt==\"Yes\":\n",
    "    data.clear()\n",
    "    print(\"\\nSuccessFully..\")\n",
    "    inp = input(\"\\nDo You Want To Check The Empty List ? :\")\n",
    "    if inp==\"Yes\":\n",
    "        print(\"\\nThe Empty List Is :\",\"\\n\")\n",
    "        print(data)\n",
    "    else:\n",
    "        print(\"\\nExit..\")\n",
    "else:\n",
    "    print(\"\\nOaky !!\")"
   ]
  },
  {
   "cell_type": "code",
   "execution_count": 69,
   "id": "b6c7f824",
   "metadata": {},
   "outputs": [
    {
     "data": {
      "text/plain": [
       "[]"
      ]
     },
     "execution_count": 69,
     "metadata": {},
     "output_type": "execute_result"
    }
   ],
   "source": [
    "data"
   ]
  },
  {
   "cell_type": "markdown",
   "id": "4107b221",
   "metadata": {},
   "source": [
    "## copy()"
   ]
  },
  {
   "cell_type": "code",
   "execution_count": 70,
   "id": "122d49f1",
   "metadata": {},
   "outputs": [],
   "source": [
    "## copy() :\n",
    "\n",
    " ## It Is Used To copy All The Elements of A List To Another List.\n",
    "    \n",
    " ## Syntax :\n",
    "\n",
    "   ## new_lst_name = lst_name.copy()"
   ]
  },
  {
   "cell_type": "code",
   "execution_count": 77,
   "id": "31f6bc67",
   "metadata": {},
   "outputs": [],
   "source": [
    "data = [\"Mike\",\"Luke\"]"
   ]
  },
  {
   "cell_type": "code",
   "execution_count": 78,
   "id": "5490839d",
   "metadata": {},
   "outputs": [
    {
     "data": {
      "text/plain": [
       "['Mike', 'Luke']"
      ]
     },
     "execution_count": 78,
     "metadata": {},
     "output_type": "execute_result"
    }
   ],
   "source": [
    "data"
   ]
  },
  {
   "cell_type": "code",
   "execution_count": 79,
   "id": "a551da3f",
   "metadata": {},
   "outputs": [],
   "source": [
    "backup = data.copy()"
   ]
  },
  {
   "cell_type": "code",
   "execution_count": 80,
   "id": "3bfb5cc7",
   "metadata": {},
   "outputs": [
    {
     "data": {
      "text/plain": [
       "['Mike', 'Luke']"
      ]
     },
     "execution_count": 80,
     "metadata": {},
     "output_type": "execute_result"
    }
   ],
   "source": [
    "backup"
   ]
  },
  {
   "cell_type": "code",
   "execution_count": 81,
   "id": "090acf8d",
   "metadata": {},
   "outputs": [
    {
     "data": {
      "text/plain": [
       "False"
      ]
     },
     "execution_count": 81,
     "metadata": {},
     "output_type": "execute_result"
    }
   ],
   "source": [
    "data is backup"
   ]
  },
  {
   "cell_type": "code",
   "execution_count": 78,
   "id": "38a251ab",
   "metadata": {},
   "outputs": [
    {
     "data": {
      "text/plain": [
       "2929323174912"
      ]
     },
     "execution_count": 78,
     "metadata": {},
     "output_type": "execute_result"
    }
   ],
   "source": [
    "id(backup)"
   ]
  },
  {
   "cell_type": "code",
   "execution_count": 79,
   "id": "858308ca",
   "metadata": {},
   "outputs": [
    {
     "data": {
      "text/plain": [
       "2929323069312"
      ]
     },
     "execution_count": 79,
     "metadata": {},
     "output_type": "execute_result"
    }
   ],
   "source": [
    "id(data)"
   ]
  },
  {
   "cell_type": "code",
   "execution_count": 82,
   "id": "b4505b56",
   "metadata": {},
   "outputs": [],
   "source": [
    "A1 = [100,20]\n",
    "B1 = [\"Mike\",\"Luke\"]"
   ]
  },
  {
   "cell_type": "code",
   "execution_count": 84,
   "id": "668bbfcc",
   "metadata": {},
   "outputs": [
    {
     "data": {
      "text/plain": [
       "['Mike', 'Luke']"
      ]
     },
     "execution_count": 84,
     "metadata": {},
     "output_type": "execute_result"
    }
   ],
   "source": [
    "A1=B1.copy()\n",
    "A1"
   ]
  },
  {
   "cell_type": "code",
   "execution_count": 85,
   "id": "d931e809",
   "metadata": {},
   "outputs": [],
   "source": [
    "a1 = data"
   ]
  },
  {
   "cell_type": "code",
   "execution_count": 86,
   "id": "f2d23e98",
   "metadata": {},
   "outputs": [
    {
     "data": {
      "text/plain": [
       "['Mike', 'Luke']"
      ]
     },
     "execution_count": 86,
     "metadata": {},
     "output_type": "execute_result"
    }
   ],
   "source": [
    "a1"
   ]
  },
  {
   "cell_type": "code",
   "execution_count": 82,
   "id": "5e4c7c2a",
   "metadata": {},
   "outputs": [
    {
     "data": {
      "text/plain": [
       "True"
      ]
     },
     "execution_count": 82,
     "metadata": {},
     "output_type": "execute_result"
    }
   ],
   "source": [
    "data is a1"
   ]
  },
  {
   "cell_type": "code",
   "execution_count": 87,
   "id": "4b1a254a",
   "metadata": {},
   "outputs": [],
   "source": [
    "data.append(\"I Am Learning Python..\")"
   ]
  },
  {
   "cell_type": "code",
   "execution_count": 88,
   "id": "f9ea9148",
   "metadata": {},
   "outputs": [
    {
     "data": {
      "text/plain": [
       "['Mike', 'Luke', 'I Am Learning Python..']"
      ]
     },
     "execution_count": 88,
     "metadata": {},
     "output_type": "execute_result"
    }
   ],
   "source": [
    "data"
   ]
  },
  {
   "cell_type": "code",
   "execution_count": 89,
   "id": "2abd11df",
   "metadata": {},
   "outputs": [
    {
     "data": {
      "text/plain": [
       "['Mike', 'Luke', 'I Am Learning Python..']"
      ]
     },
     "execution_count": 89,
     "metadata": {},
     "output_type": "execute_result"
    }
   ],
   "source": [
    "a1"
   ]
  },
  {
   "cell_type": "code",
   "execution_count": 90,
   "id": "0a4ae851",
   "metadata": {},
   "outputs": [
    {
     "data": {
      "text/plain": [
       "['Mike', 'Luke']"
      ]
     },
     "execution_count": 90,
     "metadata": {},
     "output_type": "execute_result"
    }
   ],
   "source": [
    "backup"
   ]
  },
  {
   "cell_type": "markdown",
   "id": "322c0059",
   "metadata": {},
   "source": [
    "## count()"
   ]
  },
  {
   "cell_type": "code",
   "execution_count": 1,
   "id": "d0097f8e",
   "metadata": {},
   "outputs": [],
   "source": [
    "## count() :\n",
    "\n",
    " ## It Is Used To Count Perticular Element of A List.\n",
    "    \n",
    " ## Syntax :\n",
    "\n",
    "    ## lst_name.count(element_name)"
   ]
  },
  {
   "cell_type": "code",
   "execution_count": 94,
   "id": "7f575cfa",
   "metadata": {},
   "outputs": [
    {
     "data": {
      "text/plain": [
       "True"
      ]
     },
     "execution_count": 94,
     "metadata": {},
     "output_type": "execute_result"
    }
   ],
   "source": [
    "5 == 5.0"
   ]
  },
  {
   "cell_type": "code",
   "execution_count": 95,
   "id": "1260645d",
   "metadata": {},
   "outputs": [
    {
     "data": {
      "text/plain": [
       "False"
      ]
     },
     "execution_count": 95,
     "metadata": {},
     "output_type": "execute_result"
    }
   ],
   "source": [
    "type(5) == type(5.0)"
   ]
  },
  {
   "cell_type": "code",
   "execution_count": 92,
   "id": "eb03d30c",
   "metadata": {},
   "outputs": [],
   "source": [
    "lst = [5,5.,5,5,5.,10,5]"
   ]
  },
  {
   "cell_type": "code",
   "execution_count": 93,
   "id": "e8d7d4c4",
   "metadata": {},
   "outputs": [
    {
     "data": {
      "text/plain": [
       "[5, 5.0, 5, 5, 5.0, 10, 5]"
      ]
     },
     "execution_count": 93,
     "metadata": {},
     "output_type": "execute_result"
    }
   ],
   "source": [
    "lst"
   ]
  },
  {
   "cell_type": "code",
   "execution_count": 96,
   "id": "b08d9e62",
   "metadata": {},
   "outputs": [
    {
     "data": {
      "text/plain": [
       "6"
      ]
     },
     "execution_count": 96,
     "metadata": {},
     "output_type": "execute_result"
    }
   ],
   "source": [
    "lst.count(5)"
   ]
  },
  {
   "cell_type": "code",
   "execution_count": 97,
   "id": "73c272ec",
   "metadata": {},
   "outputs": [
    {
     "data": {
      "text/plain": [
       "1"
      ]
     },
     "execution_count": 97,
     "metadata": {},
     "output_type": "execute_result"
    }
   ],
   "source": [
    "lst.count(10)"
   ]
  },
  {
   "cell_type": "code",
   "execution_count": 98,
   "id": "e3aebdb3",
   "metadata": {},
   "outputs": [
    {
     "data": {
      "text/plain": [
       "0"
      ]
     },
     "execution_count": 98,
     "metadata": {},
     "output_type": "execute_result"
    }
   ],
   "source": [
    "lst.count(\"Mike\")"
   ]
  },
  {
   "cell_type": "code",
   "execution_count": 99,
   "id": "8876df06",
   "metadata": {},
   "outputs": [
    {
     "data": {
      "text/plain": [
       "0"
      ]
     },
     "execution_count": 99,
     "metadata": {},
     "output_type": "execute_result"
    }
   ],
   "source": [
    "lst.count(\"Sean\")"
   ]
  },
  {
   "cell_type": "markdown",
   "id": "5425c291",
   "metadata": {},
   "source": [
    "## extend()"
   ]
  },
  {
   "cell_type": "code",
   "execution_count": 7,
   "id": "ca6118c5",
   "metadata": {},
   "outputs": [],
   "source": [
    "## extend() :\n",
    " \n",
    "     ## It Is Used To Add Data of one list To Another List.\n",
    "        \n",
    "     ## Syntax :\n",
    "    \n",
    "       ## Lst_name.extend(another_lst_name)"
   ]
  },
  {
   "cell_type": "code",
   "execution_count": 100,
   "id": "c9046483",
   "metadata": {},
   "outputs": [],
   "source": [
    "l1 = [\"A\",\"B\"]\n",
    "l2 = [20,25]"
   ]
  },
  {
   "cell_type": "code",
   "execution_count": 101,
   "id": "1040ede5",
   "metadata": {},
   "outputs": [
    {
     "data": {
      "text/plain": [
       "['A', 'B']"
      ]
     },
     "execution_count": 101,
     "metadata": {},
     "output_type": "execute_result"
    }
   ],
   "source": [
    "l1"
   ]
  },
  {
   "cell_type": "code",
   "execution_count": 102,
   "id": "92b653f6",
   "metadata": {},
   "outputs": [
    {
     "data": {
      "text/plain": [
       "[20, 25]"
      ]
     },
     "execution_count": 102,
     "metadata": {},
     "output_type": "execute_result"
    }
   ],
   "source": [
    "l2"
   ]
  },
  {
   "cell_type": "code",
   "execution_count": 103,
   "id": "840a3d23",
   "metadata": {},
   "outputs": [],
   "source": [
    "l1.extend(l2)"
   ]
  },
  {
   "cell_type": "code",
   "execution_count": 104,
   "id": "e99d1cd5",
   "metadata": {},
   "outputs": [
    {
     "data": {
      "text/plain": [
       "['A', 'B', 20, 25]"
      ]
     },
     "execution_count": 104,
     "metadata": {},
     "output_type": "execute_result"
    }
   ],
   "source": [
    "l1"
   ]
  },
  {
   "cell_type": "code",
   "execution_count": 105,
   "id": "7d89ab93",
   "metadata": {},
   "outputs": [
    {
     "data": {
      "text/plain": [
       "[20, 25]"
      ]
     },
     "execution_count": 105,
     "metadata": {},
     "output_type": "execute_result"
    }
   ],
   "source": [
    "l2"
   ]
  },
  {
   "cell_type": "code",
   "execution_count": 14,
   "id": "f26f941b",
   "metadata": {},
   "outputs": [],
   "source": [
    "l5 = [\"Sean\"]"
   ]
  },
  {
   "cell_type": "code",
   "execution_count": 15,
   "id": "514a0ca1",
   "metadata": {},
   "outputs": [
    {
     "data": {
      "text/plain": [
       "['Sean']"
      ]
     },
     "execution_count": 15,
     "metadata": {},
     "output_type": "execute_result"
    }
   ],
   "source": [
    "l5"
   ]
  },
  {
   "cell_type": "code",
   "execution_count": 106,
   "id": "f2a13671",
   "metadata": {},
   "outputs": [
    {
     "ename": "NameError",
     "evalue": "name 'l5' is not defined",
     "output_type": "error",
     "traceback": [
      "\u001b[1;31m---------------------------------------------------------------------------\u001b[0m",
      "\u001b[1;31mNameError\u001b[0m                                 Traceback (most recent call last)",
      "Input \u001b[1;32mIn [106]\u001b[0m, in \u001b[0;36m<cell line: 1>\u001b[1;34m()\u001b[0m\n\u001b[1;32m----> 1\u001b[0m \u001b[43ml5\u001b[49m\u001b[38;5;241m.\u001b[39mextend(l1,l2)\n",
      "\u001b[1;31mNameError\u001b[0m: name 'l5' is not defined"
     ]
    }
   ],
   "source": [
    "l5.extend(l1,l2)"
   ]
  },
  {
   "cell_type": "markdown",
   "id": "4b4e5cd7",
   "metadata": {},
   "source": [
    "Note : list.extend() takes exactly one argument"
   ]
  },
  {
   "cell_type": "markdown",
   "id": "f7a84054",
   "metadata": {},
   "source": [
    "## index()"
   ]
  },
  {
   "cell_type": "code",
   "execution_count": 18,
   "id": "534c56b9",
   "metadata": {},
   "outputs": [],
   "source": [
    "## index :\n",
    "\n",
    " ## It Is Used To Check The Index Value of The Element.\n",
    "    \n",
    " ## Syntax : lst_name.index(element_name)"
   ]
  },
  {
   "cell_type": "code",
   "execution_count": 107,
   "id": "25fd9989",
   "metadata": {},
   "outputs": [],
   "source": [
    "l1 = [\"Mike\",\"Jack\",\"Luke\",\"Peter\",\"Harry\",\"Green\"]"
   ]
  },
  {
   "cell_type": "code",
   "execution_count": 108,
   "id": "3489ce0b",
   "metadata": {},
   "outputs": [
    {
     "data": {
      "text/plain": [
       "['Mike', 'Jack', 'Luke', 'Peter', 'Harry', 'Green']"
      ]
     },
     "execution_count": 108,
     "metadata": {},
     "output_type": "execute_result"
    }
   ],
   "source": [
    "l1"
   ]
  },
  {
   "cell_type": "code",
   "execution_count": 109,
   "id": "818f2346",
   "metadata": {},
   "outputs": [
    {
     "data": {
      "text/plain": [
       "5"
      ]
     },
     "execution_count": 109,
     "metadata": {},
     "output_type": "execute_result"
    }
   ],
   "source": [
    "l1.index(\"Green\")"
   ]
  },
  {
   "cell_type": "code",
   "execution_count": 110,
   "id": "193a597b",
   "metadata": {},
   "outputs": [
    {
     "ename": "ValueError",
     "evalue": "'A' is not in list",
     "output_type": "error",
     "traceback": [
      "\u001b[1;31m---------------------------------------------------------------------------\u001b[0m",
      "\u001b[1;31mValueError\u001b[0m                                Traceback (most recent call last)",
      "Input \u001b[1;32mIn [110]\u001b[0m, in \u001b[0;36m<cell line: 1>\u001b[1;34m()\u001b[0m\n\u001b[1;32m----> 1\u001b[0m \u001b[43ml1\u001b[49m\u001b[38;5;241;43m.\u001b[39;49m\u001b[43mindex\u001b[49m\u001b[43m(\u001b[49m\u001b[38;5;124;43m\"\u001b[39;49m\u001b[38;5;124;43mA\u001b[39;49m\u001b[38;5;124;43m\"\u001b[39;49m\u001b[43m)\u001b[49m\n",
      "\u001b[1;31mValueError\u001b[0m: 'A' is not in list"
     ]
    }
   ],
   "source": [
    "l1.index(\"A\")"
   ]
  },
  {
   "cell_type": "code",
   "execution_count": 113,
   "id": "91dcf4f5",
   "metadata": {},
   "outputs": [
    {
     "name": "stdout",
     "output_type": "stream",
     "text": [
      "Enter The Value To View Its Index Value :Harry\n",
      "\n",
      "The Index Value of Harry Is : 4\n"
     ]
    }
   ],
   "source": [
    "inp = input(\"Enter The Value To View Its Index Value :\")\n",
    "print(\"\\nThe Index Value of\",inp,\"Is :\",l1.index(inp))"
   ]
  },
  {
   "cell_type": "code",
   "execution_count": 114,
   "id": "33c06ae3",
   "metadata": {},
   "outputs": [
    {
     "name": "stdout",
     "output_type": "stream",
     "text": [
      "Enter The Value To View Its Index Value :Jenny\n"
     ]
    },
    {
     "ename": "ValueError",
     "evalue": "'Jenny' is not in list",
     "output_type": "error",
     "traceback": [
      "\u001b[1;31m---------------------------------------------------------------------------\u001b[0m",
      "\u001b[1;31mValueError\u001b[0m                                Traceback (most recent call last)",
      "Input \u001b[1;32mIn [114]\u001b[0m, in \u001b[0;36m<cell line: 2>\u001b[1;34m()\u001b[0m\n\u001b[0;32m      1\u001b[0m inp \u001b[38;5;241m=\u001b[39m \u001b[38;5;28minput\u001b[39m(\u001b[38;5;124m\"\u001b[39m\u001b[38;5;124mEnter The Value To View Its Index Value :\u001b[39m\u001b[38;5;124m\"\u001b[39m)\n\u001b[1;32m----> 2\u001b[0m \u001b[38;5;28mprint\u001b[39m(\u001b[38;5;124m\"\u001b[39m\u001b[38;5;130;01m\\n\u001b[39;00m\u001b[38;5;124mThe Index Value of\u001b[39m\u001b[38;5;124m\"\u001b[39m,inp,\u001b[38;5;124m\"\u001b[39m\u001b[38;5;124mIs :\u001b[39m\u001b[38;5;124m\"\u001b[39m,\u001b[43ml1\u001b[49m\u001b[38;5;241;43m.\u001b[39;49m\u001b[43mindex\u001b[49m\u001b[43m(\u001b[49m\u001b[43minp\u001b[49m\u001b[43m)\u001b[49m)\n",
      "\u001b[1;31mValueError\u001b[0m: 'Jenny' is not in list"
     ]
    }
   ],
   "source": [
    "inp = input(\"Enter The Value To View Its Index Value :\")\n",
    "print(\"\\nThe Index Value of\",inp,\"Is :\",l1.index(inp))"
   ]
  },
  {
   "cell_type": "markdown",
   "id": "de87181f",
   "metadata": {},
   "source": [
    "## Handle The Errors"
   ]
  },
  {
   "cell_type": "code",
   "execution_count": 115,
   "id": "cd552608",
   "metadata": {},
   "outputs": [
    {
     "name": "stdout",
     "output_type": "stream",
     "text": [
      "Enter The Value To View Its Index Value :Mike\n",
      "\n",
      "Mike Is In The List..\n",
      "\n",
      "The Index Value of Mike Is : 0\n"
     ]
    }
   ],
   "source": [
    "inp = input(\"Enter The Value To View Its Index Value :\")\n",
    "if inp in l1:\n",
    "    print(\"\")\n",
    "    print(inp,\"Is In The List..\")\n",
    "    print(\"\\nThe Index Value of\",inp,\"Is :\",l1.index(inp))\n",
    "else:\n",
    "    print(\"\")\n",
    "    print(inp,\"Is Not In The List.\")"
   ]
  },
  {
   "cell_type": "code",
   "execution_count": 116,
   "id": "9fec670b",
   "metadata": {},
   "outputs": [
    {
     "name": "stdout",
     "output_type": "stream",
     "text": [
      "Enter The Value To View Its Index Value :Jenny\n",
      "\n",
      "Jenny Is Not In The List.\n"
     ]
    }
   ],
   "source": [
    "inp = input(\"Enter The Value To View Its Index Value :\")\n",
    "if inp in l1:\n",
    "    print(\"\")\n",
    "    print(inp,\"Is In The List..\")\n",
    "    print(\"\\nThe Index Value of\",inp,\"Is :\",l1.index(inp))\n",
    "else:\n",
    "    print(\"\")\n",
    "    print(inp,\"Is Not In The List.\")"
   ]
  },
  {
   "cell_type": "markdown",
   "id": "5f41df6c",
   "metadata": {},
   "source": [
    "## pop()"
   ]
  },
  {
   "cell_type": "code",
   "execution_count": 117,
   "id": "13c2db32",
   "metadata": {},
   "outputs": [],
   "source": [
    "## pop() :\n",
    "\n",
    " ## It Is Used To Remove element using index no.\n",
    "    \n",
    " ## Syntax :  lst_name.pop(index_value)"
   ]
  },
  {
   "cell_type": "code",
   "execution_count": 118,
   "id": "0286e750",
   "metadata": {},
   "outputs": [
    {
     "data": {
      "text/plain": [
       "['Mike', 'Jack', 'Luke', 'Peter', 'Harry', 'Green']"
      ]
     },
     "execution_count": 118,
     "metadata": {},
     "output_type": "execute_result"
    }
   ],
   "source": [
    "l1"
   ]
  },
  {
   "cell_type": "code",
   "execution_count": 119,
   "id": "4cfcc267",
   "metadata": {},
   "outputs": [
    {
     "data": {
      "text/plain": [
       "'Mike'"
      ]
     },
     "execution_count": 119,
     "metadata": {},
     "output_type": "execute_result"
    }
   ],
   "source": [
    "l1.pop(0)"
   ]
  },
  {
   "cell_type": "code",
   "execution_count": 31,
   "id": "b78a94c4",
   "metadata": {},
   "outputs": [
    {
     "data": {
      "text/plain": [
       "['Jack', 'Luke', 'Peter', 'Harry', 'Green']"
      ]
     },
     "execution_count": 31,
     "metadata": {},
     "output_type": "execute_result"
    }
   ],
   "source": [
    "l1"
   ]
  },
  {
   "cell_type": "code",
   "execution_count": 120,
   "id": "d775ccc4",
   "metadata": {},
   "outputs": [
    {
     "ename": "IndexError",
     "evalue": "pop index out of range",
     "output_type": "error",
     "traceback": [
      "\u001b[1;31m---------------------------------------------------------------------------\u001b[0m",
      "\u001b[1;31mIndexError\u001b[0m                                Traceback (most recent call last)",
      "Input \u001b[1;32mIn [120]\u001b[0m, in \u001b[0;36m<cell line: 1>\u001b[1;34m()\u001b[0m\n\u001b[1;32m----> 1\u001b[0m \u001b[43ml1\u001b[49m\u001b[38;5;241;43m.\u001b[39;49m\u001b[43mpop\u001b[49m\u001b[43m(\u001b[49m\u001b[38;5;241;43m10\u001b[39;49m\u001b[43m)\u001b[49m\n",
      "\u001b[1;31mIndexError\u001b[0m: pop index out of range"
     ]
    }
   ],
   "source": [
    "l1.pop(10)"
   ]
  },
  {
   "cell_type": "code",
   "execution_count": 34,
   "id": "d0108219",
   "metadata": {},
   "outputs": [
    {
     "name": "stdout",
     "output_type": "stream",
     "text": [
      "Enter The Index Num :10\n",
      "\n",
      "Pop Index Out of The Range.\n"
     ]
    }
   ],
   "source": [
    "index = int(input(\"Enter The Index Num :\"))\n",
    "if index<len(l1):\n",
    "    l1.pop(index)\n",
    "else:\n",
    "    print(\"\\nPop Index Out of The Range.\")"
   ]
  },
  {
   "cell_type": "code",
   "execution_count": 121,
   "id": "4abd1f07",
   "metadata": {},
   "outputs": [
    {
     "name": "stdout",
     "output_type": "stream",
     "text": [
      "Enter The Index Num :2\n"
     ]
    }
   ],
   "source": [
    "index = int(input(\"Enter The Index Num :\"))\n",
    "if index<len(l1):\n",
    "    l1.pop(index)\n",
    "else:\n",
    "    print(\"\\nPop Index Out of The Range.\")"
   ]
  },
  {
   "cell_type": "code",
   "execution_count": 122,
   "id": "20f33645",
   "metadata": {},
   "outputs": [
    {
     "data": {
      "text/plain": [
       "['Jack', 'Luke', 'Harry', 'Green']"
      ]
     },
     "execution_count": 122,
     "metadata": {},
     "output_type": "execute_result"
    }
   ],
   "source": [
    "l1"
   ]
  },
  {
   "cell_type": "markdown",
   "id": "4ec22b64",
   "metadata": {},
   "source": [
    "## remove()"
   ]
  },
  {
   "cell_type": "code",
   "execution_count": 123,
   "id": "86e01032",
   "metadata": {},
   "outputs": [],
   "source": [
    "## remove() :\n",
    "\n",
    " ## It Is Used To remove element from given data name.\n",
    "    \n",
    " ## Syntax :  lst_name.remove(data_name)"
   ]
  },
  {
   "cell_type": "code",
   "execution_count": 124,
   "id": "d093491c",
   "metadata": {},
   "outputs": [],
   "source": [
    "data = ['Allen', 'Jenny', 'Peter', 'Luke', 'Nile', 'Hello Python']"
   ]
  },
  {
   "cell_type": "code",
   "execution_count": 40,
   "id": "30d189a7",
   "metadata": {},
   "outputs": [
    {
     "data": {
      "text/plain": [
       "['Allen', 'Jenny', 'Peter', 'Luke', 'Nile', 'Hello Python']"
      ]
     },
     "execution_count": 40,
     "metadata": {},
     "output_type": "execute_result"
    }
   ],
   "source": [
    "data"
   ]
  },
  {
   "cell_type": "code",
   "execution_count": 125,
   "id": "3cef86d9",
   "metadata": {},
   "outputs": [],
   "source": [
    "data.remove(\"Allen\")"
   ]
  },
  {
   "cell_type": "code",
   "execution_count": 126,
   "id": "faf897e8",
   "metadata": {},
   "outputs": [
    {
     "data": {
      "text/plain": [
       "['Jenny', 'Peter', 'Luke', 'Nile', 'Hello Python']"
      ]
     },
     "execution_count": 126,
     "metadata": {},
     "output_type": "execute_result"
    }
   ],
   "source": [
    "data"
   ]
  },
  {
   "cell_type": "code",
   "execution_count": 127,
   "id": "ff9dcee2",
   "metadata": {},
   "outputs": [],
   "source": [
    "data.remove(\"Hello Python\")"
   ]
  },
  {
   "cell_type": "code",
   "execution_count": 128,
   "id": "7eeb3fc7",
   "metadata": {},
   "outputs": [
    {
     "data": {
      "text/plain": [
       "['Jenny', 'Peter', 'Luke', 'Nile']"
      ]
     },
     "execution_count": 128,
     "metadata": {},
     "output_type": "execute_result"
    }
   ],
   "source": [
    "data"
   ]
  },
  {
   "cell_type": "code",
   "execution_count": 129,
   "id": "e77f0548",
   "metadata": {},
   "outputs": [
    {
     "data": {
      "text/plain": [
       "['Jenny', 'Peter', 'Luke', 'Nile']"
      ]
     },
     "execution_count": 129,
     "metadata": {},
     "output_type": "execute_result"
    }
   ],
   "source": [
    "data"
   ]
  },
  {
   "cell_type": "code",
   "execution_count": 130,
   "id": "d7a72119",
   "metadata": {},
   "outputs": [
    {
     "data": {
      "text/plain": [
       "['Nile', 'Luke', 'Peter', 'Jenny']"
      ]
     },
     "execution_count": 130,
     "metadata": {},
     "output_type": "execute_result"
    }
   ],
   "source": [
    "data[::-1]"
   ]
  },
  {
   "cell_type": "code",
   "execution_count": 131,
   "id": "1f7ce1fe",
   "metadata": {},
   "outputs": [
    {
     "data": {
      "text/plain": [
       "['Jenny', 'Peter', 'Luke', 'Nile']"
      ]
     },
     "execution_count": 131,
     "metadata": {},
     "output_type": "execute_result"
    }
   ],
   "source": [
    "data"
   ]
  },
  {
   "cell_type": "markdown",
   "id": "90a39055",
   "metadata": {},
   "source": [
    "## reverse()"
   ]
  },
  {
   "cell_type": "code",
   "execution_count": 46,
   "id": "278e3194",
   "metadata": {},
   "outputs": [],
   "source": [
    "## reverse() :\n",
    "\n",
    " ## It Is Used To reverse The List.\n",
    "\n",
    " ## Syntax : lst_name.reverse() "
   ]
  },
  {
   "cell_type": "code",
   "execution_count": 132,
   "id": "12913d90",
   "metadata": {},
   "outputs": [
    {
     "data": {
      "text/plain": [
       "['Jenny', 'Peter', 'Luke', 'Nile']"
      ]
     },
     "execution_count": 132,
     "metadata": {},
     "output_type": "execute_result"
    }
   ],
   "source": [
    "data"
   ]
  },
  {
   "cell_type": "code",
   "execution_count": 133,
   "id": "8d9e81c5",
   "metadata": {},
   "outputs": [],
   "source": [
    "data.reverse()"
   ]
  },
  {
   "cell_type": "code",
   "execution_count": 134,
   "id": "8babc476",
   "metadata": {},
   "outputs": [
    {
     "data": {
      "text/plain": [
       "['Nile', 'Luke', 'Peter', 'Jenny']"
      ]
     },
     "execution_count": 134,
     "metadata": {},
     "output_type": "execute_result"
    }
   ],
   "source": [
    "data"
   ]
  },
  {
   "cell_type": "markdown",
   "id": "2e47dae1",
   "metadata": {},
   "source": [
    "## insert()"
   ]
  },
  {
   "cell_type": "code",
   "execution_count": 135,
   "id": "4a52d6f1",
   "metadata": {},
   "outputs": [
    {
     "data": {
      "text/plain": [
       "''"
      ]
     },
     "execution_count": 135,
     "metadata": {},
     "output_type": "execute_result"
    }
   ],
   "source": [
    "'''\n",
    "    ## Insert Method :\n",
    "    \n",
    "        => It Is Used To Add At The Perticular Pos/Index Value of The List.\n",
    "        \n",
    "        ## Syntax :\n",
    "        \n",
    "                    lst.insert(Pos/Index No , Data/Input)\n",
    "\n",
    "'''\n",
    "\"\""
   ]
  },
  {
   "cell_type": "code",
   "execution_count": 136,
   "id": "c858ccd9",
   "metadata": {},
   "outputs": [
    {
     "data": {
      "text/plain": [
       "['Nile', 'Luke', 'Peter', 'Jenny']"
      ]
     },
     "execution_count": 136,
     "metadata": {},
     "output_type": "execute_result"
    }
   ],
   "source": [
    "data"
   ]
  },
  {
   "cell_type": "code",
   "execution_count": 137,
   "id": "78928e82",
   "metadata": {},
   "outputs": [],
   "source": [
    "data.append(\"Marnus\")"
   ]
  },
  {
   "cell_type": "code",
   "execution_count": 138,
   "id": "3b8ec6ff",
   "metadata": {},
   "outputs": [
    {
     "data": {
      "text/plain": [
       "['Nile', 'Luke', 'Peter', 'Jenny', 'Marnus']"
      ]
     },
     "execution_count": 138,
     "metadata": {},
     "output_type": "execute_result"
    }
   ],
   "source": [
    "data"
   ]
  },
  {
   "cell_type": "code",
   "execution_count": 139,
   "id": "21aa7ef4",
   "metadata": {},
   "outputs": [],
   "source": [
    "data.insert(0,\"I Am Learning Python.\")"
   ]
  },
  {
   "cell_type": "code",
   "execution_count": 140,
   "id": "b5845171",
   "metadata": {},
   "outputs": [
    {
     "data": {
      "text/plain": [
       "['I Am Learning Python.', 'Nile', 'Luke', 'Peter', 'Jenny', 'Marnus']"
      ]
     },
     "execution_count": 140,
     "metadata": {},
     "output_type": "execute_result"
    }
   ],
   "source": [
    "data"
   ]
  },
  {
   "cell_type": "code",
   "execution_count": 141,
   "id": "c1416f22",
   "metadata": {},
   "outputs": [
    {
     "name": "stdout",
     "output_type": "stream",
     "text": [
      "Total Elements Are : 6\n",
      "\n",
      "The Index Value Start At 0 To 5\n",
      "\n",
      "Do You Want To Add The Value At The Any Index No ? :Yes\n",
      "\n",
      "Enter The Index No :1\n",
      "\n",
      "Enter The Data To Add :Maria\n",
      "\n",
      "The Updated List Is : \n",
      "\n",
      "['I Am Learning Python.', 'Maria', 'Nile', 'Luke', 'Peter', 'Jenny', 'Marnus']\n"
     ]
    }
   ],
   "source": [
    "print(\"Total Elements Are :\",len(data))\n",
    "print(\"\\nThe Index Value Start At 0 To\",len(data)-1)\n",
    "inp = input(\"\\nDo You Want To Add The Value At The Any Index No ? :\")\n",
    "if inp==\"Yes\":\n",
    "    pos = int(input(\"\\nEnter The Index No :\"))\n",
    "    value = input(\"\\nEnter The Data To Add :\")\n",
    "    data.insert(pos,value)\n",
    "    print(\"\\nThe Updated List Is :\",\"\\n\")\n",
    "    print(data)\n",
    "else:\n",
    "    print(\"\\nExit..\")"
   ]
  },
  {
   "cell_type": "markdown",
   "id": "daa3b013",
   "metadata": {},
   "source": [
    "## sort()"
   ]
  },
  {
   "cell_type": "code",
   "execution_count": 142,
   "id": "20075732",
   "metadata": {},
   "outputs": [],
   "source": [
    "l1 = [100,-5,-100,10,20,26,125]"
   ]
  },
  {
   "cell_type": "code",
   "execution_count": 143,
   "id": "7148a807",
   "metadata": {},
   "outputs": [
    {
     "data": {
      "text/plain": [
       "[100, -5, -100, 10, 20, 26, 125]"
      ]
     },
     "execution_count": 143,
     "metadata": {},
     "output_type": "execute_result"
    }
   ],
   "source": [
    "l1"
   ]
  },
  {
   "cell_type": "code",
   "execution_count": 144,
   "id": "1860819b",
   "metadata": {},
   "outputs": [],
   "source": [
    "l1.sort()"
   ]
  },
  {
   "cell_type": "code",
   "execution_count": 145,
   "id": "9ddd1695",
   "metadata": {},
   "outputs": [
    {
     "data": {
      "text/plain": [
       "[-100, -5, 10, 20, 26, 100, 125]"
      ]
     },
     "execution_count": 145,
     "metadata": {},
     "output_type": "execute_result"
    }
   ],
   "source": [
    "l1"
   ]
  },
  {
   "cell_type": "code",
   "execution_count": 151,
   "id": "cbecd2f3",
   "metadata": {},
   "outputs": [],
   "source": [
    "l1.sort()\n",
    "l1.reverse()"
   ]
  },
  {
   "cell_type": "code",
   "execution_count": 152,
   "id": "967dfdef",
   "metadata": {},
   "outputs": [
    {
     "data": {
      "text/plain": [
       "[125, 100, 26, 20, 10, -5, -100]"
      ]
     },
     "execution_count": 152,
     "metadata": {},
     "output_type": "execute_result"
    }
   ],
   "source": [
    "l1"
   ]
  },
  {
   "cell_type": "code",
   "execution_count": 153,
   "id": "faecd7ae",
   "metadata": {},
   "outputs": [
    {
     "name": "stdout",
     "output_type": "stream",
     "text": [
      "Elements Ends with 'n': ['Klassan', 'Finn']\n",
      "Elements Ends with 'a': ['Ria']\n"
     ]
    }
   ],
   "source": [
    "ends_with_n = []\n",
    "ends_with_a = []\n",
    "\n",
    "for item in emp:\n",
    "    if isinstance(item, str):  \n",
    "        if item.endswith('n'):\n",
    "            ends_with_n.append(item)\n",
    "        elif item.endswith('a'):\n",
    "            ends_with_a.append(item)\n",
    "\n",
    "print(\"Elements Ends with 'n':\", ends_with_n)\n",
    "print(\"Elements Ends with 'a':\", ends_with_a)"
   ]
  },
  {
   "cell_type": "code",
   "execution_count": null,
   "id": "8523e0c0",
   "metadata": {},
   "outputs": [],
   "source": []
  }
 ],
 "metadata": {
  "kernelspec": {
   "display_name": "Python 3 (ipykernel)",
   "language": "python",
   "name": "python3"
  },
  "language_info": {
   "codemirror_mode": {
    "name": "ipython",
    "version": 3
   },
   "file_extension": ".py",
   "mimetype": "text/x-python",
   "name": "python",
   "nbconvert_exporter": "python",
   "pygments_lexer": "ipython3",
   "version": "3.9.12"
  }
 },
 "nbformat": 4,
 "nbformat_minor": 5
}

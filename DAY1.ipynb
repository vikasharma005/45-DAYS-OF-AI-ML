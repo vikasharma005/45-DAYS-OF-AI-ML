{
 "cells": [
  {
   "cell_type": "markdown",
   "id": "04ddbc04",
   "metadata": {},
   "source": [
    "**Hello World Program**"
   ]
  },
  {
   "cell_type": "code",
   "execution_count": 2,
   "id": "f125dbff",
   "metadata": {},
   "outputs": [
    {
     "name": "stdout",
     "output_type": "stream",
     "text": [
      "Hello World... :)\n"
     ]
    }
   ],
   "source": [
    "print(\"Hello World... :)\")"
   ]
  },
  {
   "cell_type": "markdown",
   "id": "afb61298",
   "metadata": {},
   "source": [
    "**Print a number**\n"
   ]
  },
  {
   "cell_type": "code",
   "execution_count": 6,
   "id": "d2bd4c9d",
   "metadata": {},
   "outputs": [
    {
     "name": "stdout",
     "output_type": "stream",
     "text": [
      "5\n",
      "<class 'int'>\n",
      "<class 'float'>\n",
      "<class 'str'>\n"
     ]
    }
   ],
   "source": [
    "a=5\n",
    "b=5.5\n",
    "c=\"Vikas\"\n",
    "print(a)\n",
    "\n",
    "print(type(a))\n",
    "print(type(b))\n",
    "print(type(c))"
   ]
  },
  {
   "cell_type": "markdown",
   "id": "073d5755",
   "metadata": {},
   "source": [
    "**ARMSTRONG NUMBER**"
   ]
  },
  {
   "cell_type": "code",
   "execution_count": 1,
   "id": "6234ded2",
   "metadata": {},
   "outputs": [
    {
     "name": "stdout",
     "output_type": "stream",
     "text": [
      "Enter a number: 153\n",
      "153 is an Armstrong number.\n"
     ]
    }
   ],
   "source": [
    "a = int(input(\"Enter a number: \"))\n",
    "\n",
    "b = str(a)\n",
    "c = len(b)\n",
    "s = 0\n",
    "\n",
    "for digit in b:\n",
    "    s += int(digit) ** c\n",
    "\n",
    "if a == s:\n",
    "    print(a, \"is an Armstrong number.\")\n",
    "else:\n",
    "    print(a, \"is not an Armstrong number.\")\n"
   ]
  },
  {
   "cell_type": "markdown",
   "id": "bbf04611",
   "metadata": {},
   "source": [
    "\n",
    "\n",
    "\n",
    "\n",
    "**PALINDROME NUMBER**"
   ]
  },
  {
   "cell_type": "code",
   "execution_count": 11,
   "id": "f8535b2b",
   "metadata": {},
   "outputs": [
    {
     "name": "stdout",
     "output_type": "stream",
     "text": [
      "Enter a number: 121\n",
      "121 is a palindrome.\n"
     ]
    }
   ],
   "source": [
    "a = int(input(\"Enter a number: \"))\n",
    "\n",
    "b = str(a)\n",
    "\n",
    "if b == b[::-1]:\n",
    "    print(a, \"is a palindrome.\")\n",
    "else:\n",
    "    print(a, \"is not a palindrome.\")\n"
   ]
  },
  {
   "cell_type": "markdown",
   "id": "7a9c8956",
   "metadata": {},
   "source": [
    "**SUM OF NUMBER OF A DIGIT**\n"
   ]
  },
  {
   "cell_type": "code",
   "execution_count": 22,
   "id": "1ef7c50f",
   "metadata": {},
   "outputs": [
    {
     "name": "stdout",
     "output_type": "stream",
     "text": [
      "Enter a number: 12\n",
      "The sum of digits is 3\n"
     ]
    }
   ],
   "source": [
    "a = input(\"Enter a number: \")\n",
    "sum = 0\n",
    "\n",
    "for digit in a:\n",
    "    sum = sum + int(digit)\n",
    "\n",
    "print(\"The sum of digits is\", sum)\n"
   ]
  },
  {
   "cell_type": "markdown",
   "id": "7746fd16",
   "metadata": {},
   "source": [
    "**ADDITION IN A GIVEN RANGE**"
   ]
  },
  {
   "cell_type": "code",
   "execution_count": 2,
   "id": "6a4e39cd",
   "metadata": {},
   "outputs": [
    {
     "name": "stdout",
     "output_type": "stream",
     "text": [
      "Enter the starting number:0\n",
      "Enter the last number:100\n",
      "Sum of numbers from 0 to 100 is: 5050\n"
     ]
    }
   ],
   "source": [
    "a = int(input(\"Enter the starting number:\"))\n",
    "b = int(input(\"Enter the last number:\"))\n",
    "c=0\n",
    "\n",
    "for i in range(a, b + 1):\n",
    "    c=c+i\n",
    "\n",
    "print(\"Sum of numbers from\", a, \"to\", b, \"is:\", c)"
   ]
  },
  {
   "cell_type": "code",
   "execution_count": 5,
   "id": "f6194971",
   "metadata": {},
   "outputs": [
    {
     "name": "stdout",
     "output_type": "stream",
     "text": [
      "100\n"
     ]
    }
   ],
   "source": [
    "print(100)"
   ]
  },
  {
   "cell_type": "code",
   "execution_count": 2,
   "id": "c6ba0da4",
   "metadata": {},
   "outputs": [
    {
     "name": "stdout",
     "output_type": "stream",
     "text": [
      "100 200 3 0\n"
     ]
    },
    {
     "data": {
      "text/plain": [
       "37897"
      ]
     },
     "execution_count": 2,
     "metadata": {},
     "output_type": "execute_result"
    }
   ],
   "source": [
    "print(100,200,3,0)\n",
    "\n",
    "100\n",
    "2000\n",
    "29834\n",
    "37897"
   ]
  },
  {
   "cell_type": "code",
   "execution_count": 9,
   "id": "c35ae0aa",
   "metadata": {},
   "outputs": [
    {
     "name": "stdout",
     "output_type": "stream",
     "text": [
      "Mike\n",
      "Sean\n",
      "Mike\n",
      "Sean\n",
      "\n"
     ]
    }
   ],
   "source": [
    "print(\"Mike\\nSean\\n\"*2)"
   ]
  },
  {
   "cell_type": "code",
   "execution_count": 10,
   "id": "94f97565",
   "metadata": {},
   "outputs": [
    {
     "name": "stdout",
     "output_type": "stream",
     "text": [
      "Mike\n",
      " => It is Stud.\n",
      "Sean\n",
      " => It is Emp.\n",
      "Mike\n",
      " => It is Stud.\n",
      "Sean\n",
      " => It is Emp.\n",
      "\n"
     ]
    }
   ],
   "source": [
    "print(\"Mike\\n => It is Stud.\\nSean\\n => It is Emp.\\n\"*2)"
   ]
  },
  {
   "cell_type": "code",
   "execution_count": 12,
   "id": "5db44046",
   "metadata": {},
   "outputs": [],
   "source": [
    "from colorama import Fore,Back,Style"
   ]
  },
  {
   "cell_type": "code",
   "execution_count": 21,
   "id": "58e46f71",
   "metadata": {},
   "outputs": [
    {
     "name": "stdout",
     "output_type": "stream",
     "text": [
      "\u001b[32mHello Mike\n"
     ]
    }
   ],
   "source": [
    "from colorama import Fore\n",
    "\n",
    "print(Fore.GREEN + 'Hello Mike')\n"
   ]
  },
  {
   "cell_type": "code",
   "execution_count": 19,
   "id": "dac12650",
   "metadata": {},
   "outputs": [
    {
     "name": "stdout",
     "output_type": "stream",
     "text": [
      "Requirement already satisfied: simple_colors in c:\\users\\hp\\anaconda3\\lib\\site-packages (0.1.5)\n",
      "Note: you may need to restart the kernel to use updated packages.\n"
     ]
    }
   ],
   "source": [
    "pip install simple_colors"
   ]
  },
  {
   "cell_type": "code",
   "execution_count": 4,
   "id": "c82e617a",
   "metadata": {},
   "outputs": [
    {
     "name": "stdout",
     "output_type": "stream",
     "text": [
      "Requirement already satisfied: colorama in c:\\users\\hp\\anaconda3\\lib\\site-packages (0.4.6)\n",
      "Note: you may need to restart the kernel to use updated packages.\n"
     ]
    }
   ],
   "source": [
    "pip install colorama"
   ]
  },
  {
   "cell_type": "code",
   "execution_count": 5,
   "id": "a4adc271",
   "metadata": {},
   "outputs": [
    {
     "ename": "NameError",
     "evalue": "name 'Back' is not defined",
     "output_type": "error",
     "traceback": [
      "\u001b[1;31m---------------------------------------------------------------------------\u001b[0m",
      "\u001b[1;31mNameError\u001b[0m                                 Traceback (most recent call last)",
      "Cell \u001b[1;32mIn[5], line 3\u001b[0m\n\u001b[0;32m      1\u001b[0m \u001b[38;5;28;01mfrom\u001b[39;00m \u001b[38;5;21;01mcolorama\u001b[39;00m \u001b[38;5;28;01mimport\u001b[39;00m Fore\n\u001b[1;32m----> 3\u001b[0m \u001b[38;5;28mprint\u001b[39m(Fore\u001b[38;5;241m.\u001b[39mWHITE \u001b[38;5;241m+\u001b[39m Back\u001b[38;5;241m.\u001b[39mBLACK \u001b[38;5;241m+\u001b[39m Style\u001b[38;5;241m.\u001b[39mDIM \u001b[38;5;241m+\u001b[39m \u001b[38;5;124m'\u001b[39m\u001b[38;5;124mHello Mike\u001b[39m\u001b[38;5;124m'\u001b[39m)\n",
      "\u001b[1;31mNameError\u001b[0m: name 'Back' is not defined"
     ]
    }
   ],
   "source": [
    "from colorama import Fore\n",
    "\n",
    "print(Fore.WHITE + Back.BLACK + Style.DIM + 'Hello Mike')\n"
   ]
  },
  {
   "cell_type": "code",
   "execution_count": 30,
   "id": "7baf7298",
   "metadata": {},
   "outputs": [
    {
     "name": "stdout",
     "output_type": "stream",
     "text": [
      "\u001b[31m\t\t\t\t\tVIKAS SHARMA\n",
      "\u001b[0m\n",
      "\n",
      "OBJECTIVE :  \u001b[32mTo get a good Job\n"
     ]
    }
   ],
   "source": [
    "print(Fore.RED+\"\\t\\t\\t\\t\\tVIKAS SHARMA\")\n",
    "print(Style.RESET_ALL+\"\\n\\nOBJECTIVE : \", Fore.GREEN+\"To get a good Job\")\n",
    "print(Style.RESET_ALL+\"\\n\\nOBJECTIVE : \", Fore.GREEN+\"To get a good Job\")\n"
   ]
  },
  {
   "cell_type": "markdown",
   "id": "45102ff8",
   "metadata": {},
   "source": [
    "# Q1: What is magic commands in jupyter."
   ]
  },
  {
   "cell_type": "markdown",
   "id": "42a84860",
   "metadata": {},
   "source": [
    "| Magic Command  | Description                                             |\n",
    "|----------------|---------------------------------------------------------|\n",
    "| `%run`         | Run a Python script.                                    |\n",
    "| `%load`        | Load the contents of a file into a code cell.           |\n",
    "| `%reset`       | Delete all variables and namespaces.                    |\n",
    "| `%who`         | List all variables in the global scope.                 |\n",
    "| `%whos`        | Display detailed information about all variables.       |\n",
    "| `%history`     | Show command history.                                   |\n",
    "| `%pwd`         | Print the current working directory.                    |\n",
    "| `%cd`          | Change the current working directory.                   |\n",
    "| `%ls`          | List files and directories in the current directory.    |\n",
    "| `%mkdir`       | Create a new directory.                                 |\n",
    "| `%rm`          | Remove a file or directory.                             |\n",
    "| `%cp`          | Copy a file or directory.                               |\n",
    "| `%mv`          | Move or rename a file or directory.                     |\n",
    "| `%cat`         | Display the contents of a file.                         |\n",
    "| `%less`        | View a file with paging.                                |\n",
    "| `%timeit`      | Measure the execution time of a Python statement.        |\n",
    "| `%debug`       | Activate the interactive debugger.                      |\n",
    "| `%matplotlib`  | Enable the interactive matplotlib backend.              |\n",
    "| `%%html`       | Execute the cell contents as HTML code.                 |\n",
    "| `%%bash`       | Run cell contents as a bash command.                    |\n",
    "| `%%python2`    | Run cell contents using Python 2 kernel.                |\n",
    "| `%%python3`    | Run cell contents using Python 3 kernel.                |\n"
   ]
  },
  {
   "cell_type": "markdown",
   "id": "c4e818bf",
   "metadata": {},
   "source": [
    "\n",
    "\n",
    "# Q2: Make a dynamic resume in python.\n"
   ]
  },
  {
   "cell_type": "code",
   "execution_count": 19,
   "id": "72da3e4e",
   "metadata": {
    "scrolled": true
   },
   "outputs": [
    {
     "name": "stdout",
     "output_type": "stream",
     "text": [
      "Requirement already satisfied: colorama in c:\\users\\hp\\anaconda3\\lib\\site-packages (0.4.6)Note: you may need to restart the kernel to use updated packages.\n",
      "\n"
     ]
    }
   ],
   "source": [
    "pip install colorama\n"
   ]
  },
  {
   "cell_type": "code",
   "execution_count": null,
   "id": "38dceec3",
   "metadata": {},
   "outputs": [],
   "source": [
    "from colorama import Fore, Back, Style\n",
    "\n",
    "# Personal Information\n",
    "name = \"John Doe\"\n",
    "title = \"Software Engineer\"\n",
    "email = \"johndoe@example.com\"\n",
    "phone = \"123-456-7890\"\n",
    "\n",
    "# Education\n",
    "education = [\n",
    "    {\n",
    "        \"degree\": \"Bachelor of Science in Computer Science\",\n",
    "        \"university\": \"ABC University\",\n",
    "        \"year\": \"2015-2019\"\n",
    "    },\n",
    "    {\n",
    "        \"degree\": \"High School Diploma\",\n",
    "        \"school\": \"XYZ School\",\n",
    "        \"year\": \"2015\"\n",
    "    }\n",
    "]\n",
    "\n",
    "# Experience\n",
    "experience = [\n",
    "    {\n",
    "        \"position\": \"Software Developer\",\n",
    "        \"company\": \"XYZ Company\",\n",
    "        \"duration\": \"2019-2022\",\n",
    "        \"description\": \"Developed and maintained software applications.\"\n",
    "    },\n",
    "    {\n",
    "        \"position\": \"Intern\",\n",
    "        \"company\": \"ABC Organization\",\n",
    "        \"duration\": \"2018\",\n",
    "        \"description\": \"Assisted with various tasks and projects.\"\n",
    "    }\n",
    "]\n",
    "\n",
    "# Skills\n",
    "skills = [\"Python\", \"Java\", \"HTML/CSS\", \"JavaScript\", \"SQL\"]\n",
    "\n",
    "# Print Resume\n",
    "print(Fore.GREEN + \"======================= RESUME =======================\\n\")\n",
    "print(Fore.YELLOW + Style.BRIGHT + \"PERSONAL INFORMATION:\")\n",
    "print(Fore.WHITE + f\"Name: {name}\")\n",
    "print(f\"Title: {title}\")\n",
    "print(f\"Email: {email}\")\n",
    "print(f\"Phone: {phone}\\n\")\n",
    "\n",
    "print(Fore.YELLOW + Style.BRIGHT + \"EDUCATION:\")\n",
    "for edu in education:\n",
    "    print(Fore.WHITE + f\"Degree: {edu['degree']}\")\n",
    "    if \"university\" in edu:\n",
    "        print(f\"University: {edu['university']}\")\n",
    "    if \"school\" in edu:\n",
    "        print(f\"School: {edu['school']}\")\n",
    "    print(f\"Year: {edu['year']}\\n\")\n",
    "\n",
    "print(Fore.YELLOW + Style.BRIGHT + \"EXPERIENCE:\")\n",
    "for exp in experience:\n",
    "    print(Fore.WHITE + f\"Position: {exp['position']}\")\n",
    "    print(f\"Company: {exp['company']}\")\n",
    "    print(f\"Duration: {exp['duration']}\")\n",
    "    print(f\"Description: {exp['description']}\\n\")\n",
    "\n",
    "print(Fore.YELLOW + Style.BRIGHT + \"SKILLS:\")\n",
    "print(Fore.WHITE + \", \".join(skills))\n",
    "\n",
    "print(Fore.GREEN + \"\\n======================================================\")\n"
   ]
  },
  {
   "cell_type": "markdown",
   "id": "f605f668",
   "metadata": {},
   "source": [
    "\n",
    "\n",
    "# Q3: How to convert string to integer.\n",
    "\n",
    "In Python, we can convert a string to an integer using the int() function.\n"
   ]
  },
  {
   "cell_type": "code",
   "execution_count": 21,
   "id": "3320c135",
   "metadata": {},
   "outputs": [
    {
     "name": "stdout",
     "output_type": "stream",
     "text": [
      "123\n",
      "<class 'int'>\n"
     ]
    }
   ],
   "source": [
    "string_num = \"123\"\n",
    "integer_num = int(string_num)\n",
    "print(integer_num)  \n",
    "print(type(integer_num))  \n"
   ]
  },
  {
   "cell_type": "markdown",
   "id": "c222bb8d",
   "metadata": {},
   "source": [
    "# Q4: Make a five language translator.\n"
   ]
  },
  {
   "cell_type": "code",
   "execution_count": null,
   "id": "e3e8187b",
   "metadata": {},
   "outputs": [],
   "source": []
  },
  {
   "cell_type": "markdown",
   "id": "a06532d7",
   "metadata": {},
   "source": [
    "# Q5: Make a program about time travel.\n"
   ]
  },
  {
   "cell_type": "code",
   "execution_count": null,
   "id": "e83ca21b",
   "metadata": {},
   "outputs": [],
   "source": [
    "import datetime\n",
    "\n",
    "current_year = datetime.datetime.now().year\n",
    "\n",
    "year = int(input(\"Enter a year: \"))\n",
    "\n",
    "# Determine if it's in the past, present, or future\n",
    "if year < current_year:\n",
    "    print(\"That year is in the past.\")\n",
    "elif year == current_year:\n",
    "    print(\"That year is the current year.\")\n",
    "else:\n",
    "    print(\"That year is in the future.\")\n"
   ]
  },
  {
   "cell_type": "markdown",
   "id": "f32ea8b8",
   "metadata": {},
   "source": [
    "\n",
    "\n",
    "\n",
    "In this program:\n",
    "1. The `datetime` module is imported to get the current year.\n",
    "2. The `datetime.datetime.now().year` function retrieves the current year.\n",
    "3. The user is prompted to enter a year, which is stored in the `year` variable.\n",
    "4. The entered year is compared with the current year using `if` statements to determine if it's in the past, present, or future.\n",
    "5. The corresponding message is printed based on the comparison result.\n",
    "\n",
    "\n"
   ]
  },
  {
   "cell_type": "markdown",
   "id": "193a55a9",
   "metadata": {},
   "source": [
    "# Q6: Make a program about Newton's all laws.\n"
   ]
  },
  {
   "cell_type": "code",
   "execution_count": null,
   "id": "86f9aeff",
   "metadata": {
    "scrolled": true
   },
   "outputs": [],
   "source": [
    "# Newton's First Law: Law of Inertia\n",
    "print(\"Newton's First Law: Law of Inertia\")\n",
    "print(\"An object at rest will remain at rest, and an object in motion will continue moving at a constant velocity unless acted upon by an external force.\")\n",
    "\n",
    "# Example for Newton's First Law\n",
    "mass = float(input(\"Enter the mass of an object (in kg): \"))\n",
    "acceleration = float(input(\"Enter the acceleration applied to the object (in m/s^2): \"))\n",
    "\n",
    "force = mass * acceleration\n",
    "if force == 0:\n",
    "    print(\"The object will remain at rest.\")\n",
    "else:\n",
    "    print(\"The object will move with a constant velocity.\")\n",
    "\n",
    "# Newton's Second Law: Law of Acceleration\n",
    "print(\"\\nNewton's Second Law: Law of Acceleration\")\n",
    "print(\"The acceleration of an object is directly proportional to the net force applied to it and inversely proportional to its mass.\")\n",
    "\n",
    "# Example for Newton's Second Law\n",
    "force = float(input(\"\\nEnter the force applied to an object (in N): \"))\n",
    "mass = float(input(\"Enter the mass of the object (in kg): \"))\n",
    "\n",
    "acceleration = force / mass\n",
    "print(f\"The acceleration of the object is {acceleration} m/s^2.\")\n",
    "\n",
    "# Newton's Third Law: Law of Action and Reaction\n",
    "print(\"\\nNewton's Third Law: Law of Action and Reaction\")\n",
    "print(\"For every action, there is an equal and opposite reaction.\")\n",
    "\n",
    "# Example for Newton's Third Law\n",
    "action_force = float(input(\"\\nEnter the force of action (in N): \"))\n",
    "\n",
    "reaction_force = -action_force\n",
    "print(f\"The force of reaction is {reaction_force} N.\")\n"
   ]
  },
  {
   "cell_type": "markdown",
   "id": "2034ee49",
   "metadata": {},
   "source": [
    "# Q7: Make a program of currency convertor.\n"
   ]
  },
  {
   "cell_type": "code",
   "execution_count": null,
   "id": "c02be698",
   "metadata": {},
   "outputs": [],
   "source": [
    "# Currency conversion rates (as of a specific date)\n",
    "conversion_rates = {\n",
    "    \"USD\": 1.00,   # US Dollar\n",
    "    \"EUR\": 0.89,   # Euro\n",
    "    \"GBP\": 0.78,   # British Pound\n",
    "    \"JPY\": 139.85, # Japanese Yen\n",
    "    \"INR\": 82.06   # Indian Rupee\n",
    "}\n",
    "\n",
    "amount = float(input(\"Enter the amount: \"))\n",
    "source_currency = input(\"Enter the source currency (e.g., USD): \").upper()\n",
    "target_currency = input(\"Enter the target currency (e.g., EUR): \").upper()\n",
    "\n",
    "# Perform currency conversion\n",
    "converted_amount = amount * (conversion_rates[target_currency] / conversion_rates[source_currency])\n",
    "\n",
    "print(f\"{amount} {source_currency} is equivalent to {converted_amount} {target_currency}.\")\n"
   ]
  },
  {
   "cell_type": "markdown",
   "id": "1199e53e",
   "metadata": {},
   "source": [
    "\n",
    "In this program:\n",
    "\n",
    "1. The conversion rates are stored in the `conversion_rates` dictionary, which represents the exchange rates for different currencies.\n",
    "2. The user is prompted to enter the amount to convert, the source currency, and the target currency.\n",
    "3. The program calculates the converted amount by multiplying the input amount with the ratio of the target currency's rate to the source currency's rate.\n",
    "4. The result is then displayed to the user.\n",
    "\n"
   ]
  },
  {
   "cell_type": "markdown",
   "id": "916e8f38",
   "metadata": {},
   "source": [
    "\n",
    "\n",
    "# Q8: Explain training data and testing data.\n"
   ]
  },
  {
   "cell_type": "markdown",
   "id": "11f73196",
   "metadata": {},
   "source": [
    "**Training Data:**\n",
    "- Training data refers to the dataset used to train a machine learning model.\n",
    "- It consists of input features (independent variables) and corresponding target values (dependent variables or labels).\n",
    "- The model learns patterns and relationships in the training data to make predictions or classifications.\n",
    "- The training data should be representative of the real-world scenarios the model will encounter.\n",
    "- It is typically larger than the testing data to ensure the model has enough examples to learn from.\n",
    "- The training data is used to optimize the model's parameters or weights through an iterative process called training or fitting.\n",
    "- The goal is to minimize the difference between the model's predictions and the actual target values in the training data.\n",
    "\n",
    "**Testing Data:**\n",
    "- Testing data, also known as validation data or holdout data, is a separate dataset used to evaluate the performance of a trained model.\n",
    "- It is unseen by the model during the training phase and is used to assess how well the model generalizes to new, unseen data.\n",
    "- The testing data consists of input features, but the corresponding target values are withheld from the model.\n",
    "- The model makes predictions on the testing data, and the predicted values are compared to the actual target values to measure the model's performance.\n",
    "- The testing data helps assess the model's ability to generalize and make accurate predictions on new, unseen data.\n",
    "- It is crucial to use a separate testing dataset to avoid overfitting, where the model performs well on the training data but fails to generalize to new data.\n"
   ]
  },
  {
   "cell_type": "markdown",
   "id": "ac1b6b80",
   "metadata": {},
   "source": [
    "\n",
    "\n",
    "# Q9: Make a program about the Numeral operators.\n"
   ]
  },
  {
   "cell_type": "code",
   "execution_count": null,
   "id": "dd417888",
   "metadata": {},
   "outputs": [],
   "source": [
    "\n",
    "# Addition\n",
    "num1 = float(input(\"Enter First Number: \"))\n",
    "num2 = float(input(\"Enter Second Number: \"))\n",
    "addition = num1 + num2\n",
    "print(f\"Addition: {num1} + {num2} = {addition}\")\n",
    "\n",
    "# Subtraction\n",
    "subtraction = num1 - num2\n",
    "print(f\"Subtraction: {num1} - {num2} = {subtraction}\")\n",
    "\n",
    "# Multiplication\n",
    "multiplication = num1 * num2\n",
    "print(f\"Multiplication: {num1} * {num2} = {multiplication}\")\n",
    "\n",
    "# Division\n",
    "division = num1 / num2\n",
    "print(f\"Division: {num1} / {num2} = {division}\")\n",
    "\n",
    "# Floor Division\n",
    "floor_division = num1 // num2\n",
    "print(f\"Floor Division: {num1} // {num2} = {floor_division}\")\n",
    "\n",
    "# Modulo\n",
    "modulo = num1 % num2\n",
    "print(f\"Modulo: {num1} % {num2} = {modulo}\")\n",
    "\n",
    "# Exponentiation\n",
    "exponentiation = num1 ** num2\n",
    "print(f\"Exponentiation: {num1} ** {num2} = {exponentiation}\")\n"
   ]
  },
  {
   "cell_type": "markdown",
   "id": "d25ce1f8",
   "metadata": {},
   "source": [
    "\n",
    "\n",
    "In this program, I demonstrated various numerical operators in Python:\n",
    "\n",
    "- Addition: The `+` operator adds two numbers.\n",
    "- Subtraction: The `-` operator subtracts one number from another.\n",
    "- Multiplication: The `*` operator multiplies two numbers.\n",
    "- Division: The `/` operator divides one number by another.\n",
    "- Floor Division: The `//` operator performs integer division, discarding the remainder.\n",
    "- Modulo: The `%` operator returns the remainder after division.\n",
    "- Exponentiation: The `**` operator raises the first number to the power of the second number.\n"
   ]
  },
  {
   "cell_type": "markdown",
   "id": "802bd058",
   "metadata": {},
   "source": [
    "# Q10: Make a program about the theory of Intersteller."
   ]
  },
  {
   "cell_type": "markdown",
   "id": "f5f946ea",
   "metadata": {},
   "source": [
    "**Interstellar Theory:**\n",
    "Interstellar theory is a concept in astrophysics that explores the possibility of interstellar travel, where humans can journey to distant star systems.\n",
    "The theory encompasses various ideas and challenges, including space-time distortion, wormholes, black holes, and the manipulation of gravitational forces.\n",
    "\n",
    "**Time Dilation Formula:**\n",
    "Time dilation is a phenomenon predicted by Einstein's theory of relativity, where time appears to pass differently for objects in different gravitational fields or relative velocities.\n",
    "-The formula for time dilation is:\n",
    "-   Δt' = Δt / √(1 - (v^2 / c^2))\n",
    "\n",
    "\n",
    "**where:**\n",
    "-    Δt' is the observed time interval for the moving object.\n",
    "-    Δt is the proper time interval for the stationary object.\n",
    "-    v is the relative velocity between the two objects.\n",
    "-    c is the speed of light in a vacuum.\n",
    "\n",
    "**Gravitational Time Dilation Formula:**\n",
    "Gravitational time dilation occurs when time appears to pass slower in a stronger gravitational field.\n",
    "-The formula for gravitational time dilation is:\n",
    "-    Δt' = Δt * √(1 - (2GM / rc^2))\n",
    "\n",
    "\n",
    "**where:**\n",
    "-    Δt' is the observed time interval.\n",
    "-    Δt is the proper time interval in a weaker gravitational field.\n",
    "-    G is the gravitational constant.\n",
    "-    M is the mass of the gravitational source.\n",
    "-    r is the distance from the gravitational source.\n",
    "-    c is the speed of light in a vacuum.\n"
   ]
  },
  {
   "cell_type": "code",
   "execution_count": null,
   "id": "ca048d08",
   "metadata": {
    "scrolled": true
   },
   "outputs": [],
   "source": [
    "# Interstellar Travel Program\n",
    "\n",
    "import math\n",
    "\n",
    "# Constants\n",
    "lightspeed = 299792458  # Speed of light in meters per second\n",
    "\n",
    "# Function to calculate time dilation\n",
    "def time_dilation(time, velocity):\n",
    "    time_dilated = time / math.sqrt(1 - (velocity ** 2 / lightspeed ** 2))\n",
    "    return time_dilated\n",
    "\n",
    "# Example: Interstellar Travel\n",
    "\n",
    "# Input values\n",
    "travel_time = float(input(\"Enter the travel time (in years): \"))\n",
    "velocity_percent = float(input(\"Enter the velocity as a percentage of the speed of light: \"))\n",
    "\n",
    "# Convert velocity to decimal\n",
    "velocity = velocity_percent / 100 * lightspeed\n",
    "\n",
    "# Calculate time dilation\n",
    "dilated_time = time_dilation(travel_time, velocity)\n",
    "\n",
    "# Output the result\n",
    "print(f\"\\nFor a travel time of {travel_time} years at {velocity_percent}% of the speed of light:\")\n",
    "print(f\"The dilated time experienced on the spacecraft is {dilated_time:.2f} years.\")\n"
   ]
  },
  {
   "cell_type": "code",
   "execution_count": null,
   "id": "c70ee4c0",
   "metadata": {},
   "outputs": [],
   "source": []
  },
  {
   "cell_type": "code",
   "execution_count": null,
   "id": "aa4a9b74",
   "metadata": {},
   "outputs": [],
   "source": []
  }
 ],
 "metadata": {
  "kernelspec": {
   "display_name": "Python 3 (ipykernel)",
   "language": "python",
   "name": "python3"
  },
  "language_info": {
   "codemirror_mode": {
    "name": "ipython",
    "version": 3
   },
   "file_extension": ".py",
   "mimetype": "text/x-python",
   "name": "python",
   "nbconvert_exporter": "python",
   "pygments_lexer": "ipython3",
   "version": "3.11.3"
  }
 },
 "nbformat": 4,
 "nbformat_minor": 5
}

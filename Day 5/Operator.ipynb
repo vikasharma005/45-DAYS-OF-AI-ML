{
  "nbformat": 4,
  "nbformat_minor": 0,
  "metadata": {
    "colab": {
      "provenance": []
    },
    "kernelspec": {
      "name": "python3",
      "display_name": "Python 3"
    },
    "language_info": {
      "name": "python"
    }
  },
  "cells": [
    {
      "cell_type": "markdown",
      "source": [
        "**Operator**"
      ],
      "metadata": {
        "id": "mujNCTFxR8dk"
      }
    },
    {
      "cell_type": "markdown",
      "source": [
        "*They Are Used To Perform Operations on Values/Variables.*"
      ],
      "metadata": {
        "id": "kjxkTCIySDvS"
      }
    },
    {
      "cell_type": "markdown",
      "source": [
        "**Work on Values**"
      ],
      "metadata": {
        "id": "UMV1qgXeSJMa"
      }
    },
    {
      "cell_type": "code",
      "source": [
        "10+5"
      ],
      "metadata": {
        "colab": {
          "base_uri": "https://localhost:8080/"
        },
        "id": "X4WtoJdQR-oh",
        "outputId": "fd112d7b-7c4d-401c-b128-674977574ab8"
      },
      "execution_count": null,
      "outputs": [
        {
          "output_type": "execute_result",
          "data": {
            "text/plain": [
              "15"
            ]
          },
          "metadata": {},
          "execution_count": 1
        }
      ]
    },
    {
      "cell_type": "code",
      "source": [
        "print(\"Add Is :\",10+5)"
      ],
      "metadata": {
        "colab": {
          "base_uri": "https://localhost:8080/"
        },
        "id": "opt-BKHUSPCs",
        "outputId": "c2b709ab-3fbe-4ed6-e025-195da5fdaf85"
      },
      "execution_count": null,
      "outputs": [
        {
          "output_type": "stream",
          "name": "stdout",
          "text": [
            "Add Is : 15\n"
          ]
        }
      ]
    },
    {
      "cell_type": "code",
      "source": [
        "print(\"Square Is :\",10**2)"
      ],
      "metadata": {
        "colab": {
          "base_uri": "https://localhost:8080/"
        },
        "id": "CZ5llQ4PodK8",
        "outputId": "c20e249f-b0a8-42ef-a8e1-adf0dcfe3f6e"
      },
      "execution_count": 1,
      "outputs": [
        {
          "output_type": "stream",
          "name": "stdout",
          "text": [
            "Square Is : 100\n"
          ]
        }
      ]
    },
    {
      "cell_type": "markdown",
      "source": [
        "**Work On Variables**"
      ],
      "metadata": {
        "id": "mEVm7BIBSSPD"
      }
    },
    {
      "cell_type": "code",
      "source": [
        "a1 = 10\n",
        "b1 = 56\n",
        "add = a1+b1\n",
        "print(f\"Addition Is : {add}\")"
      ],
      "metadata": {
        "colab": {
          "base_uri": "https://localhost:8080/"
        },
        "id": "86GyhSb2SRij",
        "outputId": "ec40a6e4-f7db-4f9a-b952-acc73eb28841"
      },
      "execution_count": null,
      "outputs": [
        {
          "output_type": "stream",
          "name": "stdout",
          "text": [
            "Addition Is : 66\n"
          ]
        }
      ]
    },
    {
      "cell_type": "code",
      "source": [
        "a = int(input(\"1st Value :\"))\n",
        "b = int(input(\"\\n2nd Value :\"))\n",
        "add = a+b\n",
        "print(\"\\nAddition Is :\",a+b)"
      ],
      "metadata": {
        "id": "-xXv-VjcScQ_",
        "colab": {
          "base_uri": "https://localhost:8080/"
        },
        "outputId": "0158123b-a06d-43cd-86e0-977999200396"
      },
      "execution_count": 2,
      "outputs": [
        {
          "output_type": "stream",
          "name": "stdout",
          "text": [
            "1st Value :10\n",
            "\n",
            "2nd Value :100\n",
            "\n",
            "Addition Is : 110\n"
          ]
        }
      ]
    },
    {
      "cell_type": "markdown",
      "source": [
        "**These Are Operators :**"
      ],
      "metadata": {
        "id": "TZ-Ntj2JSyDJ"
      }
    },
    {
      "cell_type": "markdown",
      "source": [
        "\n",
        "\n",
        "1. Airthmetic Operator\n",
        "2. Comparision Operator\n",
        "3. Logical Operator\n",
        "4. Assignment Operator\n",
        "5. Identity Operator\n",
        "6. Membership Operator\n",
        "7. Bitwise Operator\n",
        "\n"
      ],
      "metadata": {
        "id": "oadVxZU-Sjxa"
      }
    },
    {
      "cell_type": "markdown",
      "source": [
        "**Airthmetic Operator**"
      ],
      "metadata": {
        "id": "G8mN1JtuS7sJ"
      }
    },
    {
      "cell_type": "markdown",
      "source": [
        "     Operator              Symbol              Example\n",
        "     \n",
        "     Addition                +                   A+B\n",
        "     \n",
        "     Subtraction             -                   A-B\n",
        "     \n",
        "     Multiplication          *                   A*B\n",
        "     \n",
        "     Division                /                   A/B\n",
        "     \n",
        "     Floor Division          //                  A//B\n",
        "     \n",
        "     Modulus                 %                   A%B\n",
        "     \n",
        "     Power(Expo.)            **                  A**B"
      ],
      "metadata": {
        "id": "I5xK8saPTL8M"
      }
    },
    {
      "cell_type": "code",
      "source": [
        "a = int(input(\"1st Value :\"))\n",
        "b = int(input(\"\\n2nd Value :\"))\n",
        "add = a+b\n",
        "sub = a-b\n",
        "mul = a*b\n",
        "div = a/b\n",
        "print(\"\\nAddition Is :\",add)\n",
        "print(\"\\nSubtraction Is :\",sub)\n",
        "print(\"\\nMultiplication Is :\",mul)\n",
        "print(\"\\nDivision Is :\",div)"
      ],
      "metadata": {
        "id": "KXGyPux4SgYO",
        "colab": {
          "base_uri": "https://localhost:8080/"
        },
        "outputId": "6a6b8b68-648a-4f2f-d2fe-8c5512a9660f"
      },
      "execution_count": 3,
      "outputs": [
        {
          "output_type": "stream",
          "name": "stdout",
          "text": [
            "1st Value :10\n",
            "\n",
            "2nd Value :5\n",
            "\n",
            "Addition Is : 15\n",
            "\n",
            "Subtraction Is : 5\n",
            "\n",
            "Multiplication Is : 50\n",
            "\n",
            "Division Is : 2.0\n"
          ]
        }
      ]
    },
    {
      "cell_type": "markdown",
      "source": [
        "**Floor Division**"
      ],
      "metadata": {
        "id": "IjFoGFJ3TTm_"
      }
    },
    {
      "cell_type": "markdown",
      "source": [
        "1. It Is Used To Remove Values After Decimals.\n",
        "2. It Works on Data Type.\n",
        "\n"
      ],
      "metadata": {
        "id": "2lxzYcbeTe-Q"
      }
    },
    {
      "cell_type": "code",
      "source": [
        "a = 20\n",
        "b = 7"
      ],
      "metadata": {
        "id": "jRXVJxokTDNO"
      },
      "execution_count": 4,
      "outputs": []
    },
    {
      "cell_type": "code",
      "source": [
        "div = a/b\n",
        "div"
      ],
      "metadata": {
        "id": "nZ_r5CiQTo14",
        "colab": {
          "base_uri": "https://localhost:8080/"
        },
        "outputId": "3f27dcb9-2d75-4426-c356-85611d264047"
      },
      "execution_count": 5,
      "outputs": [
        {
          "output_type": "execute_result",
          "data": {
            "text/plain": [
              "2.857142857142857"
            ]
          },
          "metadata": {},
          "execution_count": 5
        }
      ]
    },
    {
      "cell_type": "markdown",
      "source": [
        "**Remove The Value After Decimal**"
      ],
      "metadata": {
        "id": "fQ70O22jTu9u"
      }
    },
    {
      "cell_type": "code",
      "source": [
        "flor_div = a//b"
      ],
      "metadata": {
        "id": "IjvogmdwTw5b"
      },
      "execution_count": 6,
      "outputs": []
    },
    {
      "cell_type": "code",
      "source": [
        "flor_div"
      ],
      "metadata": {
        "id": "DV599nY3T3qS",
        "colab": {
          "base_uri": "https://localhost:8080/"
        },
        "outputId": "4a0ad0f8-9491-42b7-933c-bd65a47b0fba"
      },
      "execution_count": 7,
      "outputs": [
        {
          "output_type": "execute_result",
          "data": {
            "text/plain": [
              "2"
            ]
          },
          "metadata": {},
          "execution_count": 7
        }
      ]
    },
    {
      "cell_type": "code",
      "source": [
        "a = 20.0\n",
        "b = 7\n",
        "flor_div = a//b\n",
        "flor_div"
      ],
      "metadata": {
        "id": "BwvT_H3NT6Zs",
        "colab": {
          "base_uri": "https://localhost:8080/"
        },
        "outputId": "ecc3eefd-3d7b-44b6-ff76-29d69ee7134a"
      },
      "execution_count": 8,
      "outputs": [
        {
          "output_type": "execute_result",
          "data": {
            "text/plain": [
              "2.0"
            ]
          },
          "metadata": {},
          "execution_count": 8
        }
      ]
    },
    {
      "cell_type": "markdown",
      "source": [
        "**Modulus**\n",
        "\n",
        "Remainder : USE : modulus :  %\n"
      ],
      "metadata": {
        "id": "zalYnU0JTzf5"
      }
    },
    {
      "cell_type": "code",
      "source": [
        "a = 10\n",
        "b = 4\n",
        "print(f\"Remainder Is : {a%b}\")"
      ],
      "metadata": {
        "id": "SWKfMvQ9UIg9",
        "colab": {
          "base_uri": "https://localhost:8080/"
        },
        "outputId": "c0bf1fdb-5907-46d1-c9be-8c246eb897c9"
      },
      "execution_count": 9,
      "outputs": [
        {
          "output_type": "stream",
          "name": "stdout",
          "text": [
            "Remainder Is : 2\n"
          ]
        }
      ]
    },
    {
      "cell_type": "code",
      "source": [
        "100%500"
      ],
      "metadata": {
        "id": "Ben9Ruz7USx5",
        "colab": {
          "base_uri": "https://localhost:8080/"
        },
        "outputId": "f552a778-a35f-4d24-e46f-b537ad088080"
      },
      "execution_count": 10,
      "outputs": [
        {
          "output_type": "execute_result",
          "data": {
            "text/plain": [
              "100"
            ]
          },
          "metadata": {},
          "execution_count": 10
        }
      ]
    },
    {
      "cell_type": "markdown",
      "source": [
        "**Power**\n",
        "\n",
        "Use : **"
      ],
      "metadata": {
        "id": "5c_AsFn9UWbP"
      }
    },
    {
      "cell_type": "code",
      "source": [
        "10**2"
      ],
      "metadata": {
        "id": "tn3UbBR_UbJQ",
        "colab": {
          "base_uri": "https://localhost:8080/"
        },
        "outputId": "fd622d9c-13ee-4553-df66-cd7edd8eadd5"
      },
      "execution_count": 11,
      "outputs": [
        {
          "output_type": "execute_result",
          "data": {
            "text/plain": [
              "100"
            ]
          },
          "metadata": {},
          "execution_count": 11
        }
      ]
    },
    {
      "cell_type": "code",
      "source": [
        "10**10"
      ],
      "metadata": {
        "colab": {
          "base_uri": "https://localhost:8080/"
        },
        "id": "eaYAuQyDqR0w",
        "outputId": "0940f133-e51b-4bb1-a98d-057a543b5af6"
      },
      "execution_count": 13,
      "outputs": [
        {
          "output_type": "execute_result",
          "data": {
            "text/plain": [
              "10000000000"
            ]
          },
          "metadata": {},
          "execution_count": 13
        }
      ]
    },
    {
      "cell_type": "markdown",
      "source": [
        "**Comparision Operator**"
      ],
      "metadata": {
        "id": "ygPnYjiOUjqT"
      }
    },
    {
      "cell_type": "markdown",
      "source": [
        "       Operator                Symbol                Example\n",
        "       \n",
        "       Greater Than              >                     A>B\n",
        "       \n",
        "       Less Than                 <                     A<B\n",
        "       \n",
        "       Equal To                  ==                    A==B\n",
        "       \n",
        "       Greater Than or Equal To   >=                   A>=B\n",
        "       \n",
        "       Less Than or Equal To     <=                    A<=B\n",
        "       \n",
        "       Not Equal To              !=                    A!=B\n"
      ],
      "metadata": {
        "id": "gPrqLBrcU1lP"
      }
    },
    {
      "cell_type": "markdown",
      "source": [
        "**Note : Result --> Boolean**"
      ],
      "metadata": {
        "id": "Rd6vOE6KU9Rl"
      }
    },
    {
      "cell_type": "code",
      "source": [
        "10>5  ## Result => Bool"
      ],
      "metadata": {
        "id": "ZxJxwy7fUt8A",
        "colab": {
          "base_uri": "https://localhost:8080/"
        },
        "outputId": "722004fc-144e-4479-d9b0-e20fc8f8edff"
      },
      "execution_count": 14,
      "outputs": [
        {
          "output_type": "execute_result",
          "data": {
            "text/plain": [
              "True"
            ]
          },
          "metadata": {},
          "execution_count": 14
        }
      ]
    },
    {
      "cell_type": "code",
      "source": [
        "10<5"
      ],
      "metadata": {
        "id": "QxIdko03VCem",
        "colab": {
          "base_uri": "https://localhost:8080/"
        },
        "outputId": "6d18a8c0-bed8-41a1-8068-9c06cbd311a7"
      },
      "execution_count": 15,
      "outputs": [
        {
          "output_type": "execute_result",
          "data": {
            "text/plain": [
              "False"
            ]
          },
          "metadata": {},
          "execution_count": 15
        }
      ]
    },
    {
      "cell_type": "code",
      "source": [
        "10==10"
      ],
      "metadata": {
        "colab": {
          "base_uri": "https://localhost:8080/"
        },
        "id": "wjaTAza1qgX9",
        "outputId": "26193224-5514-464f-bf3d-1c5595de82cd"
      },
      "execution_count": 16,
      "outputs": [
        {
          "output_type": "execute_result",
          "data": {
            "text/plain": [
              "True"
            ]
          },
          "metadata": {},
          "execution_count": 16
        }
      ]
    },
    {
      "cell_type": "code",
      "source": [
        "10!=10"
      ],
      "metadata": {
        "colab": {
          "base_uri": "https://localhost:8080/"
        },
        "id": "9MtTteKUqgbE",
        "outputId": "095c8252-3d47-4a65-fbee-e5d0c7dcb0f2"
      },
      "execution_count": 17,
      "outputs": [
        {
          "output_type": "execute_result",
          "data": {
            "text/plain": [
              "False"
            ]
          },
          "metadata": {},
          "execution_count": 17
        }
      ]
    },
    {
      "cell_type": "code",
      "source": [
        "10>=20\n",
        "# 10>20 or 10==20\n",
        "# False +   False\n",
        "# 0     +   0\n",
        "# 0 => False"
      ],
      "metadata": {
        "colab": {
          "base_uri": "https://localhost:8080/"
        },
        "id": "C2By7ku5qjAv",
        "outputId": "bad82fc3-e6b1-4efc-9722-4d4d08115988"
      },
      "execution_count": 18,
      "outputs": [
        {
          "output_type": "execute_result",
          "data": {
            "text/plain": [
              "False"
            ]
          },
          "metadata": {},
          "execution_count": 18
        }
      ]
    },
    {
      "cell_type": "code",
      "source": [
        "10>=10\n",
        "# 10>20 or 10==10\n",
        "# False +   True\n",
        "# 0     +   1\n",
        "# 1 => True"
      ],
      "metadata": {
        "colab": {
          "base_uri": "https://localhost:8080/"
        },
        "id": "2A2rJhRAqjEZ",
        "outputId": "0adbb31a-7882-4a1d-b393-ef1e110c0862"
      },
      "execution_count": 19,
      "outputs": [
        {
          "output_type": "execute_result",
          "data": {
            "text/plain": [
              "True"
            ]
          },
          "metadata": {},
          "execution_count": 19
        }
      ]
    },
    {
      "cell_type": "code",
      "source": [
        "10<=20"
      ],
      "metadata": {
        "colab": {
          "base_uri": "https://localhost:8080/"
        },
        "id": "EzvBti4lq6Np",
        "outputId": "cb3b624c-94a9-4d64-a954-3a43268de97f"
      },
      "execution_count": 20,
      "outputs": [
        {
          "output_type": "execute_result",
          "data": {
            "text/plain": [
              "True"
            ]
          },
          "metadata": {},
          "execution_count": 20
        }
      ]
    },
    {
      "cell_type": "code",
      "source": [
        "10>20 and 20<=10"
      ],
      "metadata": {
        "colab": {
          "base_uri": "https://localhost:8080/"
        },
        "id": "-AmOiWMLq6Q3",
        "outputId": "8483eb1a-2d8f-4f0f-c835-4ee3be1a6d3f"
      },
      "execution_count": 21,
      "outputs": [
        {
          "output_type": "execute_result",
          "data": {
            "text/plain": [
              "False"
            ]
          },
          "metadata": {},
          "execution_count": 21
        }
      ]
    },
    {
      "cell_type": "code",
      "source": [
        "a1 = float(input(\"A1 :\"))\n",
        "b1 = float(input(\"\\nB1 :\"))\n",
        "print(\"\\nGreater :\",a1>b1)\n",
        "print(\"\\nLess :\",a1<b1)\n",
        "print(\"\\nEqual To :\",a1==b1)\n",
        "print(\"\\nNot Equal To :\",a1!=b1)\n",
        "print(\"\\nGreater Or Equal To :\",a1>=b1)\n",
        "print(\"\\nLess Than Or Equal To :\",a1<=b1)"
      ],
      "metadata": {
        "id": "fFrk_cHdVCpi",
        "colab": {
          "base_uri": "https://localhost:8080/"
        },
        "outputId": "14f031b0-d324-455b-c945-c05b090db5c9"
      },
      "execution_count": 22,
      "outputs": [
        {
          "output_type": "stream",
          "name": "stdout",
          "text": [
            "A1 :10\n",
            "\n",
            "B1 :25\n",
            "\n",
            "Greater : False\n",
            "\n",
            "Less : True\n",
            "\n",
            "Equal To : False\n",
            "\n",
            "Not Equal To : True\n",
            "\n",
            "Greater Or Equal To : False\n",
            "\n",
            "Less Than Or Equal To : True\n"
          ]
        }
      ]
    },
    {
      "cell_type": "markdown",
      "source": [
        "**Logical Operator**"
      ],
      "metadata": {
        "id": "PTxjRdKRVP0-"
      }
    },
    {
      "cell_type": "markdown",
      "source": [
        "\n",
        "    ==> and\n",
        "    \n",
        "    ==> or\n",
        "    \n",
        "    ==> not"
      ],
      "metadata": {
        "id": "Z6NnJ3ocVUmB"
      }
    },
    {
      "cell_type": "markdown",
      "source": [
        "**and Opeartor**"
      ],
      "metadata": {
        "id": "Q2sElD96VZ7s"
      }
    },
    {
      "cell_type": "markdown",
      "source": [
        "==> return True, If All The Condn Are True\n",
        "      \n",
        "      ==> Otherwise return False\n",
        "      \n",
        "      \n",
        "      1  --> True\n",
        "      \n",
        "      0  --> False\n",
        "      \n",
        "      \n",
        "                       0       0     ==>  0\n",
        "                       \n",
        "                       0       1     ==>  0\n",
        "                       \n",
        "                       1       0     ==>  0\n",
        "                       \n",
        "                       1       1     ==>  1\n"
      ],
      "metadata": {
        "id": "QTU4DyK_Vay6"
      }
    },
    {
      "cell_type": "code",
      "source": [
        "True and True"
      ],
      "metadata": {
        "id": "ghPfciBwVRQa",
        "colab": {
          "base_uri": "https://localhost:8080/"
        },
        "outputId": "1e519dc1-a349-4dd6-d11c-38ea4817124c"
      },
      "execution_count": 23,
      "outputs": [
        {
          "output_type": "execute_result",
          "data": {
            "text/plain": [
              "True"
            ]
          },
          "metadata": {},
          "execution_count": 23
        }
      ]
    },
    {
      "cell_type": "code",
      "source": [
        "True and True and True and True and False\n",
        "# 1   x   1    x    1   x   1    x   0\n",
        "# 0 => False"
      ],
      "metadata": {
        "id": "0xllgTcIVuKr",
        "colab": {
          "base_uri": "https://localhost:8080/"
        },
        "outputId": "0a071f5c-84ba-4825-dda0-0bdf38a260c0"
      },
      "execution_count": 28,
      "outputs": [
        {
          "output_type": "execute_result",
          "data": {
            "text/plain": [
              "False"
            ]
          },
          "metadata": {},
          "execution_count": 28
        }
      ]
    },
    {
      "cell_type": "code",
      "source": [
        "10>5 and 10<=5 and 10==10 and 10!=20"
      ],
      "metadata": {
        "id": "xBCogBjKVwaF",
        "colab": {
          "base_uri": "https://localhost:8080/"
        },
        "outputId": "e0b022b1-a257-4747-bc5b-2df3d9afbe62"
      },
      "execution_count": 25,
      "outputs": [
        {
          "output_type": "execute_result",
          "data": {
            "text/plain": [
              "False"
            ]
          },
          "metadata": {},
          "execution_count": 25
        }
      ]
    },
    {
      "cell_type": "code",
      "source": [
        "10>5 and 20<100"
      ],
      "metadata": {
        "id": "bXXfD7XYV6Y7",
        "colab": {
          "base_uri": "https://localhost:8080/"
        },
        "outputId": "75759ad6-76bb-4039-a7a6-a8b00194b0c3"
      },
      "execution_count": 26,
      "outputs": [
        {
          "output_type": "execute_result",
          "data": {
            "text/plain": [
              "True"
            ]
          },
          "metadata": {},
          "execution_count": 26
        }
      ]
    },
    {
      "cell_type": "markdown",
      "source": [
        "**or opeartor**"
      ],
      "metadata": {
        "id": "3mnn1eJUV_Ry"
      }
    },
    {
      "cell_type": "markdown",
      "source": [
        " ==> return True, If One Of The All The Condn Is True\n",
        "      \n",
        "      ==> Otherwise return False\n",
        "      \n",
        "      \n",
        "      1  --> True\n",
        "      \n",
        "      0  --> False\n",
        "      \n",
        "      \n",
        "                       0       0     ==>  0\n",
        "                       \n",
        "                       0       1     ==>  1\n",
        "                       \n",
        "                       1       0     ==>  1\n",
        "                       \n",
        "                       1       1     ==>  1\n"
      ],
      "metadata": {
        "id": "4VJism7wWFPZ"
      }
    },
    {
      "cell_type": "code",
      "source": [
        "True or True"
      ],
      "metadata": {
        "id": "6MX2dBDtWA7F",
        "colab": {
          "base_uri": "https://localhost:8080/"
        },
        "outputId": "acdc0eed-13f3-4687-e65c-120775113fc8"
      },
      "execution_count": 27,
      "outputs": [
        {
          "output_type": "execute_result",
          "data": {
            "text/plain": [
              "True"
            ]
          },
          "metadata": {},
          "execution_count": 27
        }
      ]
    },
    {
      "cell_type": "code",
      "source": [
        "False or False or False or False or False or False or True\n",
        "# 0   +   0    +   0    +   0    +   0    +   0    +   1\n",
        "# 1 => True"
      ],
      "metadata": {
        "id": "OexcIMRxWJg6",
        "colab": {
          "base_uri": "https://localhost:8080/"
        },
        "outputId": "5b03ac5d-5608-41f5-e474-4dcd7b7e6a74"
      },
      "execution_count": 32,
      "outputs": [
        {
          "output_type": "execute_result",
          "data": {
            "text/plain": [
              "True"
            ]
          },
          "metadata": {},
          "execution_count": 32
        }
      ]
    },
    {
      "cell_type": "code",
      "source": [
        "10>20<=20 and 10==10"
      ],
      "metadata": {
        "id": "2utSrBq7WJkD",
        "colab": {
          "base_uri": "https://localhost:8080/"
        },
        "outputId": "85062669-1dfb-492d-946f-be93452179f0"
      },
      "execution_count": 33,
      "outputs": [
        {
          "output_type": "execute_result",
          "data": {
            "text/plain": [
              "False"
            ]
          },
          "metadata": {},
          "execution_count": 33
        }
      ]
    },
    {
      "cell_type": "markdown",
      "source": [
        "**Make A Real Time Program Using and , or Opeartor**"
      ],
      "metadata": {
        "id": "Y1qHnDaSsc_v"
      }
    },
    {
      "cell_type": "code",
      "source": [
        "n1=4\n",
        "n2=5\n",
        "print(n2>n1 and n2==n1)\n",
        "print(n2>n1 or n2==n1)"
      ],
      "metadata": {
        "id": "DQqAhnbgWJnO",
        "colab": {
          "base_uri": "https://localhost:8080/"
        },
        "outputId": "9471cc69-18cb-4e17-e14a-7e0f0aed725a"
      },
      "execution_count": 34,
      "outputs": [
        {
          "output_type": "stream",
          "name": "stdout",
          "text": [
            "False\n",
            "True\n"
          ]
        }
      ]
    },
    {
      "cell_type": "code",
      "source": [
        "n=int(input(\"enter age: \"))\n",
        "citizen=input(\"enter country: \")\n",
        "if n>=18 and citizen.lower() == \"india\":\n",
        "    print(\"\\n eligible for give vote\")\n",
        "else:\n",
        "  print(\"\\nTry After 18..\")"
      ],
      "metadata": {
        "id": "01DTzgOwWJqI",
        "colab": {
          "base_uri": "https://localhost:8080/"
        },
        "outputId": "db8f10d3-075e-48b8-e4d1-e41e759025b0"
      },
      "execution_count": 35,
      "outputs": [
        {
          "output_type": "stream",
          "name": "stdout",
          "text": [
            "enter age: 12\n",
            "enter country: India\n",
            "\n",
            "Try After 18..\n"
          ]
        }
      ]
    },
    {
      "cell_type": "code",
      "source": [
        "n=int(input(\"enter age: \"))\n",
        "citizen=input(\"enter country: \")\n",
        "if n>=18 and citizen.lower() == \"india\":\n",
        "    print(\"\\n=> eligible for give vote\")\n",
        "else:\n",
        "  print(\"\\nTry After 18..\")"
      ],
      "metadata": {
        "colab": {
          "base_uri": "https://localhost:8080/"
        },
        "id": "c7CZtSpWutSe",
        "outputId": "1c76e146-b480-459f-f5d1-ec86b3ea0a0d"
      },
      "execution_count": 37,
      "outputs": [
        {
          "output_type": "stream",
          "name": "stdout",
          "text": [
            "enter age: 18\n",
            "enter country: India\n",
            "\n",
            "=> eligible for give vote\n"
          ]
        }
      ]
    },
    {
      "cell_type": "code",
      "source": [
        "i = input(\"Enter true or false: \")\n",
        "if i.lower() == \"true\":\n",
        "    print(True and False)\n",
        "elif i.lower() == \"false\":\n",
        "    print(False or True)\n",
        "else:\n",
        "    print(True or True)"
      ],
      "metadata": {
        "colab": {
          "base_uri": "https://localhost:8080/"
        },
        "id": "4KMGKzMAu7AE",
        "outputId": "e6f2b775-e6ad-414b-9432-704b2a20433e"
      },
      "execution_count": 39,
      "outputs": [
        {
          "output_type": "stream",
          "name": "stdout",
          "text": [
            "Enter true or false: true\n",
            "False\n"
          ]
        }
      ]
    },
    {
      "cell_type": "code",
      "source": [
        "username=input(\"enter username or email: \")\n",
        "if username==\"priya\" or email==\"priya@gmail.com\":\n",
        "    print(\"\\nAlready registered\")\n",
        "else:\n",
        "  print(\"\\nPlease Sign Up First..\")"
      ],
      "metadata": {
        "colab": {
          "base_uri": "https://localhost:8080/"
        },
        "id": "FHZIMp5Bu7Dy",
        "outputId": "49294670-60ad-4072-bce1-463dc0927d2d"
      },
      "execution_count": 41,
      "outputs": [
        {
          "output_type": "stream",
          "name": "stdout",
          "text": [
            "enter username or email: priya\n",
            "\n",
            "Already registered\n"
          ]
        }
      ]
    },
    {
      "cell_type": "code",
      "source": [
        "username_email=input(\"enter username or email: \")\n",
        "if username_email==\"priya\" or username_email==\"priya@gmail.com\":\n",
        "    print(\"\\nAlready registered\")\n",
        "else:\n",
        "  print(\"\\nPlease Sign Up First..\")"
      ],
      "metadata": {
        "colab": {
          "base_uri": "https://localhost:8080/"
        },
        "id": "t8Za28xXvEs6",
        "outputId": "e345f42e-3910-4d7f-bb53-af1dedba622a"
      },
      "execution_count": 43,
      "outputs": [
        {
          "output_type": "stream",
          "name": "stdout",
          "text": [
            "enter username or email: priya@gmail.com\n",
            "\n",
            "Already registered\n"
          ]
        }
      ]
    },
    {
      "cell_type": "code",
      "source": [
        "n=int(input(\"enter age: \"))\n",
        "citizen=input(\"enter country: \")\n",
        "if n>=18 and citizen.lower() == \"india\":\n",
        "    print(\"\\n eligible for give vote\")\n",
        "else:\n",
        "    print(\"\\nu r not eligible for vote\")\n",
        "gender=input(\"enter ur gender  :\")\n",
        "if gender==\"male\" or \"female\":\n",
        "    print(\"thanks for voting\")"
      ],
      "metadata": {
        "colab": {
          "base_uri": "https://localhost:8080/"
        },
        "id": "84T8HAAYvTj-",
        "outputId": "6944f661-75e5-4f9d-c70f-354e96025c79"
      },
      "execution_count": 44,
      "outputs": [
        {
          "output_type": "stream",
          "name": "stdout",
          "text": [
            "enter age: 18\n",
            "enter country: india\n",
            "\n",
            " eligible for give vote\n",
            "enter ur gender  :m\n",
            "thanks for voting\n"
          ]
        }
      ]
    },
    {
      "cell_type": "markdown",
      "source": [
        "**not Opeartor**"
      ],
      "metadata": {
        "id": "PGzZqNpzWKe3"
      }
    },
    {
      "cell_type": "markdown",
      "source": [
        "                     => Reverse O/P\n",
        "                     \n",
        "                     =>  True  --> False\n",
        "                     \n",
        "                     =>  False --> True"
      ],
      "metadata": {
        "id": "LY1iES7uWQpG"
      }
    },
    {
      "cell_type": "code",
      "source": [
        "not(True)"
      ],
      "metadata": {
        "id": "HVI7vPrpWJtJ",
        "colab": {
          "base_uri": "https://localhost:8080/"
        },
        "outputId": "7f318a08-40cd-40ac-9c3a-6c881b27584c"
      },
      "execution_count": 45,
      "outputs": [
        {
          "output_type": "execute_result",
          "data": {
            "text/plain": [
              "False"
            ]
          },
          "metadata": {},
          "execution_count": 45
        }
      ]
    },
    {
      "cell_type": "code",
      "source": [
        "not(False)"
      ],
      "metadata": {
        "id": "GdqKz0WcWS8Q",
        "colab": {
          "base_uri": "https://localhost:8080/"
        },
        "outputId": "cde92302-d2a2-4624-bae2-e37450f8f0db"
      },
      "execution_count": 46,
      "outputs": [
        {
          "output_type": "execute_result",
          "data": {
            "text/plain": [
              "True"
            ]
          },
          "metadata": {},
          "execution_count": 46
        }
      ]
    },
    {
      "cell_type": "code",
      "source": [
        "not(10>5 and 10<20)\n",
        "# not(T x T)\n",
        "# not(True)"
      ],
      "metadata": {
        "id": "hzoUlZDBWS_g",
        "colab": {
          "base_uri": "https://localhost:8080/"
        },
        "outputId": "ef2f938a-369a-47cf-89b3-943269e7f5d3"
      },
      "execution_count": 47,
      "outputs": [
        {
          "output_type": "execute_result",
          "data": {
            "text/plain": [
              "False"
            ]
          },
          "metadata": {},
          "execution_count": 47
        }
      ]
    },
    {
      "cell_type": "markdown",
      "source": [
        "![image.png](data:image/png;base64,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)"
      ],
      "metadata": {
        "id": "EnYRGUzfxOwP"
      }
    },
    {
      "cell_type": "code",
      "source": [
        "a=\"priya\"\n",
        "b=\"riya\"\n",
        "user=input(\"\\nenter name: \")\n",
        "if user ==a and user == b:\n",
        "    print(\"\\n Accesss to database\")\n",
        "else:\n",
        "    print(\"\\nOnly registerd can access !!\")"
      ],
      "metadata": {
        "id": "-tA06RsfWTCd",
        "colab": {
          "base_uri": "https://localhost:8080/"
        },
        "outputId": "6b0ba34e-5d77-47a1-a0a3-e1dfdff62fdd"
      },
      "execution_count": 50,
      "outputs": [
        {
          "output_type": "stream",
          "name": "stdout",
          "text": [
            "\n",
            "enter name: priya\n",
            "\n",
            "Only registerd can access !!\n"
          ]
        }
      ]
    },
    {
      "cell_type": "code",
      "source": [
        "a=\"priya\"\n",
        "b=\"riya\"\n",
        "user=input(\"\\nenter name: \")\n",
        "if user == a or user== b or user !=a or user!=b:\n",
        "    print(\"\\n Access to bank database\")\n",
        "else:\n",
        "    print(\"\\nDatabase access error !!\")"
      ],
      "metadata": {
        "id": "xMYFt4PAWTFr",
        "colab": {
          "base_uri": "https://localhost:8080/"
        },
        "outputId": "504badf7-7940-4daf-cc09-2f0b8665c24a"
      },
      "execution_count": 52,
      "outputs": [
        {
          "output_type": "stream",
          "name": "stdout",
          "text": [
            "\n",
            "enter name: Mike\n",
            "\n",
            " Access to bank database\n"
          ]
        }
      ]
    },
    {
      "cell_type": "code",
      "source": [
        "a1 = 'mike'\n",
        "a2 = 'luke'\n",
        "x=input(\"enter your name : \")\n",
        "if(x=='mike' or x=='luke'):\n",
        "    print(\"you are already registered\")\n",
        "elif(not(x=='mike' and x=='luke')):\n",
        "     print(\"open your account\")\n",
        "else:\n",
        "     print('invalid input')"
      ],
      "metadata": {
        "colab": {
          "base_uri": "https://localhost:8080/"
        },
        "id": "lkRFmyJ1y6-v",
        "outputId": "0e098230-dfb4-4ab6-a92a-5962e1feadd8"
      },
      "execution_count": 57,
      "outputs": [
        {
          "output_type": "stream",
          "name": "stdout",
          "text": [
            "enter your name : mike\n",
            "you are already registered\n"
          ]
        }
      ]
    },
    {
      "cell_type": "code",
      "source": [
        "a1 = 'mike'\n",
        "a2 = 'luke'\n",
        "x=input(\"enter your name : \")\n",
        "if(x=='mike' or x=='luke'):\n",
        "    print(\"you are already registered\")\n",
        "elif(not(x=='mike' and x=='luke')):\n",
        "     print(\"open your account\")\n",
        "else:\n",
        "     print('invalid input')"
      ],
      "metadata": {
        "colab": {
          "base_uri": "https://localhost:8080/"
        },
        "id": "ZpVL_Bhby9vc",
        "outputId": "98c8a3cb-e800-4756-dd5e-5353c7092988"
      },
      "execution_count": 58,
      "outputs": [
        {
          "output_type": "stream",
          "name": "stdout",
          "text": [
            "enter your name : Jack\n",
            "open your account\n"
          ]
        }
      ]
    },
    {
      "cell_type": "markdown",
      "source": [
        "**Assignment Opeartor**"
      ],
      "metadata": {
        "id": "v0Ple4LAWVk-"
      }
    },
    {
      "cell_type": "markdown",
      "source": [
        "        => Assign Oprartor  :   =\n",
        "        \n",
        "        --------------------------------------\n",
        "        \n",
        "        Opeartor             Symbol                Example\n",
        "        \n",
        "     #  Add AND                +=                   a+=b or a = a+b\n",
        "        \n",
        "     #  Sub AND                -=                   a-=b or a = a-b\n",
        "     \n",
        "     #  Mul AND                *=                   a*=b or a = a*b\n",
        "     \n",
        "     #  Div AND                /=                   a/=b or a = a/b\n",
        "     \n",
        "     #  Mod AND                %=                   a%=b or a = a%b\n",
        "     \n",
        "     #  Floor Div AND          //=                  a//=b or a = a//b\n",
        "     \n",
        "     #  Power AND              **=                  a**=b or a = a**b"
      ],
      "metadata": {
        "id": "8MTJzHNuWbHU"
      }
    },
    {
      "cell_type": "markdown",
      "source": [
        "**a+=b : a = a+b**"
      ],
      "metadata": {
        "id": "u3wvtL3eWhLs"
      }
    },
    {
      "cell_type": "markdown",
      "source": [
        "![image.png](data:image/png;base64,iVBORw0KGgoAAAANSUhEUgAAARsAAAEeCAYAAAC64LGSAAAX30lEQVR4Xu2dvXrqSBKGi3s5bLDPXIG4AnuTiZyS4RAnzhw6c4JDOyOdaJIDVwBXMM8GC/fibSFAPyBo/bWqW6+jOWOpu+qt6k+lkqwe/Zgf4QcCEIBAxwRGiE3HhBkeAhA4EEBsSAQIQMAJAcTGCWYmgQAEEBtyAAIQcEIAsXGCmUkgAAHEhhyAAAScEEBsnGBmEghAALEhByAAAScEEBsnmJkEAhBAbMgBCEDACQHExglmJoEABBAbcgACEHBCALFxgplJIAABxIYcgAAEnBBAbJxgZhIIQACxIQcgAAEnBBAbJ5iZBAIQQGzIAQhAwAkBxMYJZiaBAAQQG3IAAhBwQgCxcYKZSSAAAcSGHIAABJwQQGycYGYSCEAAsSEHIAABJwQQGyeYbSbZy+dkLC9bc+xsJT9fDzYncQwEvCGA2KgJ1VqeR4/ybeyJFjvZzH+psQxDINAGAcSmDYptjLH/lMn4RZLC5kcobNqAyhiaCCA2cTTWzzJ6NDVFtJDdZi691BQnG2Qmq58v4SZK0zLBljYI6Bab/V7WH1N5/94ervjJTyRRlPzX03IjbdxtrJ9HEmtNn72Ssw2x4L2JfLy/iHH76LIRoKURoF5UsI00YwwIaN7r21zpJ0YBUpEphqutCiBtzJb3StJ+SmnSNKqKMjYYJd1ur3ndlr+kPQT6IaCzssn0L+JKZrFayvxwWe/iiU0qJKW9kvMtTnmQmjV1C2IWpZXM/nMi48MjKsNh104l10+qMevQCagUm/MtxcUCa+OJjUWVcsgKh5VEVlyLFVJG6GgcD325+u2/QrHJiEHxfZM2nthYVCmJ1jh81+Vs05Xq5dbv/M49rB8YAX1ic0NQyiue+lG73xzO3LqVTtOsCso1hwtPw1Kfm81RnxBnQqAdAvrEpuy2IdfHaWvhWTSHc/OWQG+rOVx8mS87t8tKq53cYhQI5AjoE5vMAjs1XfdGgKbZJ1ONFnfWf4vmcOcJc92GvM80hzsPAxN0TkCf2EhZAzeS2UzkO375pK2r/FnYelzMdyunHm3rPP2YYEgEFIqNwb83gjM1fyd0fN0kmi3k7XUu49/JY+Bmj5mVhbesYW3et5k9vcnr/KGfN5qVYcIc/wnoFBv/ueIBBCBQIIDYkBIQgIATAoiNE8xMAgEIIDbkAAQg4IQAYuMEM5NAAAKIDTkAAQg4IYDYOMHMJBCAAGJDDkAAAk4IIDZOMDMJBCCA2JADEICAEwKIjRPMTAIBCCA25AAEIOCEAGLjBDOTQAACiA05AAEIOCGA2DjBzCQQgABiQw5AAAJOCCA2TjAzCQQggNiQAxCAgBMCiI0TzEwCAQggNuQABCDghABi4wQzk0AAAogNOQABCDghgNg4wcwkEIAAYkMOQAACTgggNk4wMwkEIIDYkAMQgIATAoiNE8xMAgEIIDbkAAQg4IQAYuMEM5NAAAKIDTkAAQg4IYDYOMHMJBCAAGJDDkAAAk4IIDZOMDMJBCCA2JADEICAEwKIjRPMXUyyl8/JWF62ZuzZSn6+HrqYhDEh0BoBxKY1lK4HWsvz6FG+zbTRYieb+S/XBjAfBCoRQGwq4VJ08P5TJuMXSQqbH6GwURQbTLlKALHRmBjrZxk9mpolWshuM5erNcvpGJnJ6udLuInSGEhsyhLQLTb7vaw/pvL+vT1cwZOfSKIo+a+n5UZU3z3UtH/9PJJYa271Ys7HxIL0JvLx/iIG0xGREaClESDurFjtigjoFRtz5Z6YFZeKTJFakyt62u8ojcWtqsImgLXtTxu/5b2YzDFGebfba5Sa8LFxkGMgUI2ATrHJ9CPiSmaxWsr8cJlu6QnM+RakHFajpmsj+1MhLO/FFMQySiuZ/edExodHVIbbTnnlVy1XOdpzAirF5nyLcLFg/HgCU81+iyrrkGSZSiUrZsUKLCOkNI49X52Bma9QbDKLr/j+iBdPYCrab1FlJVqTeZfmfM6V6uXW7wJLXtzxi4A+sbkhKOUVQxXomVux0tMa9Dsa2l+5OVx4WpUyauBDFZwcCwFLAvrEpuw2INcHabCQcuOUUGrSHG5kf8XmcPFlvqxvvFVsuQQ4zBUBfWKTWTCnJu3eLOBp9slUEzHommwj+6s1h7M9mTwjmsNdh5nxqxPQJzZS1jCNZDYT+Y5fJlF91W5g/1mobojF3coMoam+DDjDBQGFYmPc3psFOzV/93N8fSSaLeTtdS7j38lj3UaPpV1Q7dL+soayed9m9vQmr/OH628cu/CbOSBwg4BOsSFkEIBAcAQQm+BCikMQ0EkAsdEZF6yCQHAEEJvgQopDENBJALHRGResgkBwBBCb4EKKQxDQSQCx0RkXrIJAcAQQm+BCikMQ0EkAsdEZF6yCQHAEEJvgQopDENBJALHRGResgkBwBBCb4EKKQxDQSQCx0RkXrIJAcAQQm+BCikMQ0EkAsdEZF6yCQHAEEJvgQopDENBJALHRGResgkBwBBCb4EKKQxDQSSAVm9Jv25Z805bjjxGFzwGEtnzQud4GbdVZbNJtW4s8rm+bwvEnTvBJtOa07a+O/Bn0qlbqPLdRSgODWRAIjQBiE1pE8QcCSgkgNkoDg1kQCI0AYhNaRPEHAkoJIDZKA4NZEAiNAGITWkTxBwJKCSA2SgODWRAIjQBiE1pE8QcCSgkgNkoDg1kQCI0AYhNaRPEHAkoJIDZKA4NZEAiNAGITWkTxBwJKCSA2SgODWRAIjQBiE1pE8QcCSgkgNkoDg1kQCI0AYhNaRPEHAkoJIDZKA4NZEAiNAGITWkTxBwJKCSA2SgODWRAIjQBiE1pE8QcCSgkgNkoDg1kQCI0AYhNaRPEHAkoJIDZKA4NZEAiNAGITWkTxBwJKCSA2SgODWRAIjQBiE1pE8QcCSgkgNkoDg1kQCI0AYhNaRPEHAkoJIDZKA4NZEAiNAGITWkTxBwJKCSA2SgODWRAIjQBiE1pE8QcCSgkgNkoDg1kQCI0AYhNaRPEHAkoJIDZKA4NZEAiNAGITWkTxBwJKCSA2SgODWRAIjQBiE1pE8QcCSgkgNkoD075Ze/mcjOVla0aereTn66H9KRgRAjcIIDaDSY+1PI8e5dv4Gy12spn/GoznOKqDAGKjIw7dW7H/lMn4RZLC5kcobLpHzgx5AohNzGP9LKNHc82PFrLbzMW7a76N/adjZCarny/hJgopcE1At9js97L+mMr79/ZwRU5+Iomi5L+elhtp425g/TySWGt672XU9NfG/vMxsaC+iXy8v4jBekRqBGhpBMg7lXW9XJivCQG9YmOuxBOjAKnIFN1s6wqdNk7Lexlpv6MUdtOqqLa/NvZnjjFKvd1eo9oWzybpyLkhE9ApNpn+QlzJLFZLmR8uu108UUmFpLSXcb4FKU+FRk3XRv5a2C8FsYzSSmb/OZHx4RGV4bxrp1IMecHgW30CKsXmXPJfLIA2nqhYVCkHnu6u9NX8rWF/VsyKFVhGSGkc119InHmfgEKxySym4vsgbTxRsahSEq1x9S5KRX/r2H8+50r1cut39/OHIyBgTUCf2NwQlPIKwNrfiwPvN1czt26l0zSoghr6e9/++GHbsQF+pa+UMm3gQ338nDkgAvrEpqysz/U12loYFs3V3LwlmdGkOdzIXwv7M32ui75S1jdnldyAVheu5gjoE5vMAjgtjr1ZkNPsk6kmizvnvk1zteOMaeSvjf3Xj8kzpTnccZQZ3hDQJzbFJyfnMEUym4l8xy+HtHUVPi/0PhdbWcPXwl8b++9WZn36zhocEgGFYmPw780CnJq/4zm+DhLNFvL2Opfx7+QxbaPHzBqj26W/ZQ1l877N7OlNXucP/r0xrTGG2HSXgE6xuWs2B0AAAr4RQGx8ixj2QsBTAoiNp4HDbAj4RgCx8S1i2AsBTwkgNp4GDrMh4BsBxMa3iGEvBDwlgNh4GjjMhoBvBBAb3yKGvRDwlABi42ngMBsCvhFAbHyLGPZCwFMCiI2ngdNndhdfUdTnJRbVJ4DY1GfHmTkCbXxFEaQhEwhMbOKr61T++7ZhXyTXWdvGVxRd28x8TgkEJDbZL+qZv2heITitZRL7UrWGcsgDBSQ2JozxpxrGyRaz8W4BrQtOzX2d1CRYTfsrf3qUfanUhFyTIUrFxmIHgdKv9ZlzJ6dv4bQoOLX3dbIJdxN/bcY3x9S2v+KnR9mXyjIgwztMp9hY7CBw+wNaLQtOo32dLJKqsb935mhkf7VPjyZFJftSWUR9cIfoFJtWwtCe4FTb16kV41sdpJr9FlXWwbrMR+fZl6rVeIU6WLBiU/yg98zsqvlVazPrivs6qcuUivZbVFmJ1mT21WJfKnVR12iQQrFpuk+TOf95Ki/nDxgvZLWcSy2diSPWcF+n+0Fv6q/9LVRxx0ubfbgqN4c389w3jdmX6n4GDOUIfWJzdzeAuCewkF0hqQ+6UNjypZUPozfa18kijRr4azH6oTE8MtvgJMXIT/r+kdU+XBWbw4udbObxnuzHH/alsgrRUA7SJza1yO/NmprKY7odgyyWX5LN+1rDFiqb7vexqm1l+YnsS9UBVIasQyAIsdl/Jlu8xD+R6SUsv9rcnqTBvk51ItL6OQ3sZ1+q1qMx5AGDEJs4gOvnifz9Z90m8J0U6HJfJxfZ16X97EvlIoJBzBGM2AQRDZyAQMAEEJuAg4trENBEALHRFA1sgUDABBCbgIOLaxDQRACx0RQNbIFAwAQQm4CDi2sQ0EQAsdEUDWyBQMAEEJuAg4trENBEALHRFA1sgUDABBCbgIOLaxDQRACx0RQNbIFAwAQQm4CDi2sQ0EQgMLFh3yhNyYUtEMgSCEhsAto3ymafJvIYAp4RCEhsDPlA9o2y+RRnrTyruW9Urbk4CQIFAkrFxuIL/0HtG5WNis2nOGvkce19o2rMxSkQuEJAp9hYfOE/qH2jcoGx2aepYi432jeq4lwcDoESAjrFppVw+bJvlEUVd+CR2aepIp9q+0ZVHJzDIWBJIFix8WbfKIsqLtGazD5NlsFNDqu4b1SlsTkYAvYEFIpN032UfNs3Kh+s1pvDne97ZZ9sHDlsAvrEpsE+Sl7uG5XLvw6aw432jRr24sD7dgnoE5ta/oWyb1S3zWEv972qlQ+cpJFAEGITzL5RNvs0Vc6iBvtGVZ6LEyBQTiAIsTm0Qdk3qjzKXe4bxeqCgCWBYMTG0l8OgwAEeiKA2PQEnmkhMDQCiM3QIo6/EOiJAGLTE3imhcDQCCA2Q4s4/kKgJwKITU/gmRYCQyOA2Awt4vgLgZ4IIDY9gWdaCAyNAGIztIjjLwR6IoDY9ASeaSEwNAKIzcAifv6ERelnVQcGBHedEUBsaqDerz/l4/0v+d5uz2dH0Uzelq/y8OtXjRFdnZL5VlDtj3Hds9X8Bf7nh/z91z/yz9NSNnPNPO75wu/bJBCY2HS8b1ThDxovAqG+Wkj/Avz2N5wbpNiNj3U1GJVTAyAQkNh0vW9U9lMNkcwWb/I6f5Dkup1czd/lT3Mlf9CbFg6EIP3cRySL3UYobPSmg2vLAhKbeM0bQRg/yveBohGE1Ua+Wlr76UfD488B/1iOexShv74lveMqClX8eYyRPH4ni/NfHxPz3+b2zNyWrTZfIubTGYd/G3/SxXsS1uP/i78zPDV+n+7q4nOXX+aWLp9OqRDYfzw9uWV8Scc2dkSzN1kasKfhs98TKk/g63PajO96UTBfNwSUio3FjgMu943KfqrUttdx7/OmGftPYhNF24woGXmJIvPvtC+UfvT8xCcWrj/k+yWR1/zP5eKu1hy+8y3oC/vvJOhFvOzH7yb1GdU1AZ1iY7HjgMt9oyrfGmSFJldlxB9jH0uiDadKJb/oZqud/Pn32FQzSSrE/37931TGL0Z0zkJXFGMz1mopc1PKlNtarTmc2/7lOPbhhvFzktiSq7SOaZvx+15PqNb4rlcH87VKQKfYtOJiB/tGWTaA04V05dbh4gPkxaatyOfECFK8no/ichrvvIBzVZOZY5e5ZSr7wHlmS5d7QmDu62R0ULtC3+Wwfe9JCG/5dqdfU3f8VvKCQfoiEKzYtLdvVLWKwFz6ZTJ+kcO1f7G7fPRbFIPx6fjT4k1vkZIeTfHfZuBSQcn+rrDgyxb4lczL9qfKEvOab7Y9obrj97VImLcdAgrFRtm+Ubc2ebsWg1tCcO02ZHesIk5V00msiv/O7Ih5a1GXVVW2QpDb1K7gX9xD+uOPJ/nzdX7RfI6fyJ0rspsVYHk/7vb47SQ8o/RHQJ/Y3GusxqxKkrmTfaOsF9ExiDfF5nJ3yrMIHG+Ziv8+VzFnn29UWjca2fbN4brv4tzYeTOX33XH72+RMHM7BPSJTS2/Otw3KleNxDq3kmXm/Zr9+kOm/8u8X5NrDi9kt5knj4hzLwReNodPj9OL/ZmT+KS3LdcXa/wIefqY3L5dNm+vVx17Y9Pvj3f569/ZN33zx66W16qYqyWdPI+Orx0Y4dxlHo3nj647fq3E4CRFBIIQm273jYqjlW02X4le7nH4vdvAbC+l2I9Jz03Ep/jvg/Kde0LX8+h6c/ZWn+Si/3LnaeD194zK/b44vtb4ilYNptQiEITYHOSgy32jDmiT6undvDl3fvPF9DBmT+ZN4v+YF9xyL9AdX+Yzz7gvjj1XRVnhKDaHy5rFB0ePT4oK8T7Zkh2/cPvyOXk3T7nOb/6Z93j+kKe318Mj8+LPtb//Oh1T+lLjoXp7z/3NWHzOteNrjV8rxTlJC4FgxEYL0K7tsO+9dG0J40OgGgHEphqvno+u+Bi+Z2uZHgJZAoiNV/nAkxyvwoWxOQKIjU8JUeHFPJ/cwtZhEEBshhFnvIRA7wQQmzshGI1G8vPz03ugMAACvhNAbBAb33MY+z0hgNggNp6kKmb6TgCxQWx8z2Hs94QAYoPYeJKqmOk7AcQGsfE9h7HfEwKIDWLjSapipu8EEBvExvccxn5PCCA2iI0nqYqZvhNAbBAb33MY+z0hgNggNp6kKmb6TgCxQWx8z2Hs94QAYoPYeJKqmOk7AcQGsfE9h7HfEwKIDWLjSapipu8EEBvExvccxn5PCCA2iI0nqYqZvhNAbBAb33MY+z0hgNggNp6kKmb6TgCxQWx8z2Hs94QAYoPYeJKqmOk7AcQGsfE9h7HfEwKIDWLjSapipu8EEBvExvccxn5PCCA2ngQKMyHgOwHExvcIYj8EPCGA2HgSKMyEgO8EEBvfI4j9EPCEAGLjSaAwEwK+E0BsfI8g9pcQ2MvnZCwvW/Pr2Up+vh4g1TMBxKbnADB9VwTW8jx6lG8zfLTYyWb+q6uJGNeSAGJjCYrDPCOw/5TJ+EWSwuZHKGz6jx9i038MwrNg/SyjR1NTRAvZbebSek1hM/7pGJnJ6udLuInqP80Qmy5jsN/L+mMq79/bwxU2+YkkipL/elpuRHV1X9P+9fNIYq252yvpcPyzDbHgvYl8vL+ICcMxBEaAlkaAWlfBLpPJ/7ERm65iaK6sE7PiUpEpTtTkipv2I0rNb1pV1LY/bcze7JV0On7GBqPs2+21KDTh31XShD0uYtNFfDP9griSWayWMj9cRlt6QnK+RSg3vlFTtJH9qRCW9kq6Hl8KYhyllcz+cyLjwyMqE5ed8sqyi9zscUzEpgP45xL+IqH9eEJSzX6LKuvAOK0kuh5fsmJWrPAyQk3juIPkvzEkYtM678ziK77f4cUTkor2W1RZidac3nXpenwz19mmK9XLrd+1ngsMmCWA2LSdDzcEpfyKXsWIzK1Y6WkN+hEN7b/bHO56/IPWHBvUV/pWaQwaMKoSLo49E0Bs2k6GsjI916dokOi5cUqMb9IcbmS/RXO46/EzfbGLvlWWHW8Vt535d8dDbO4iqnhAJqFPyb43C2yafTLVRAwqmlP58Eb2V2sOV+djMX6mOZztyeRjQHO4cl60cAJi0wLE/BBlDdNIZjOR7/hlD9VX1Qb2n4Xq1mLuePy7lR9C03rKWw6I2FiCqnTY3iyoqfm7nOPrHdFsIW+vcxn/Th67NnosXcmQmgd3bX+X45c1rM37NrOnN3mdP7T/RnNNzEM7DbEZWsTxFwI9EUBsegLPtBAYGgHEZmgRx18I9EQAsekJPNNCYGgEEJuhRRx/IdATAcSmJ/BMC4GhEUBshhZx/IVATwT+D2QyxrVFKx9xAAAAAElFTkSuQmCC)"
      ],
      "metadata": {
        "id": "NPRLc19TyaeH"
      }
    },
    {
      "cell_type": "code",
      "source": [
        "a = 10\n",
        "b = 5\n",
        "a+=b\n",
        "# a = a+b"
      ],
      "metadata": {
        "id": "ZiwPyrWIWgCM"
      },
      "execution_count": 53,
      "outputs": []
    },
    {
      "cell_type": "code",
      "source": [
        "b"
      ],
      "metadata": {
        "id": "8Z-S6KueWTI0",
        "colab": {
          "base_uri": "https://localhost:8080/"
        },
        "outputId": "54ec3d7c-a71f-418d-dca6-c0f855a66660"
      },
      "execution_count": 54,
      "outputs": [
        {
          "output_type": "execute_result",
          "data": {
            "text/plain": [
              "5"
            ]
          },
          "metadata": {},
          "execution_count": 54
        }
      ]
    },
    {
      "cell_type": "code",
      "source": [
        "a"
      ],
      "metadata": {
        "id": "GkOXPcE-WuPi",
        "colab": {
          "base_uri": "https://localhost:8080/"
        },
        "outputId": "39e6bfaa-792a-454d-f407-7c818a3f6558"
      },
      "execution_count": 55,
      "outputs": [
        {
          "output_type": "execute_result",
          "data": {
            "text/plain": [
              "15"
            ]
          },
          "metadata": {},
          "execution_count": 55
        }
      ]
    },
    {
      "cell_type": "code",
      "source": [
        "a,b,c,d,e = 10,2,0,2,5\n",
        "a+=a/a+b-b*c//d+e**2-10/5+c*d\n",
        "# a = a+(a/a+b-b*c//d+e**2-10/5+c*d)"
      ],
      "metadata": {
        "id": "_Nmpoo21WuXi"
      },
      "execution_count": 60,
      "outputs": []
    },
    {
      "cell_type": "code",
      "source": [
        "a"
      ],
      "metadata": {
        "colab": {
          "base_uri": "https://localhost:8080/"
        },
        "id": "EM_oe6pdy44Z",
        "outputId": "30572895-de9d-45fa-88bf-05e8b243226e"
      },
      "execution_count": 59,
      "outputs": [
        {
          "output_type": "execute_result",
          "data": {
            "text/plain": [
              "36.0"
            ]
          },
          "metadata": {},
          "execution_count": 59
        }
      ]
    },
    {
      "cell_type": "code",
      "source": [
        "a = int(input(\"A :\"))\n",
        "b = int(input(\"\\nB :\"))\n",
        "a+=b\n",
        "print(\"\\nAdd And Is :\",a)\n",
        "a = int(input(\"\\nA :\"))\n",
        "b = int(input(\"\\nB :\"))\n",
        "a-=b\n",
        "print(\"\\nSub And Is :\",a)\n",
        "a = int(input(\"\\nA :\"))\n",
        "b = int(input(\"\\nB :\"))\n",
        "a*=b\n",
        "print(\"\\nMul And Is :\",a)\n",
        "a = int(input(\"\\nA :\"))\n",
        "b = int(input(\"\\nB :\"))\n",
        "a/=b\n",
        "print(\"\\nDiv And Is :\",a)\n",
        "a = int(input(\"\\nA :\"))\n",
        "b = int(input(\"\\nB :\"))\n",
        "a//=b\n",
        "print(\"\\nFlorr Div And Is :\",a)\n",
        "a = int(input(\"\\nA :\"))\n",
        "b = int(input(\"\\nB :\"))\n",
        "a%=b\n",
        "print(\"\\nMod And Is :\",a)\n",
        "a = int(input(\"\\nA :\"))\n",
        "b = int(input(\"\\nB :\"))\n",
        "a**=b\n",
        "print(\"\\nPower And Is :\",a)"
      ],
      "metadata": {
        "id": "sk2sdPd7WvEq",
        "colab": {
          "base_uri": "https://localhost:8080/"
        },
        "outputId": "822c4a38-4ddf-4d66-f20b-c4193f944b40"
      },
      "execution_count": 63,
      "outputs": [
        {
          "output_type": "stream",
          "name": "stdout",
          "text": [
            "A :10\n",
            "\n",
            "B :2\n",
            "\n",
            "Add And Is : 12\n",
            "\n",
            "A :10\n",
            "\n",
            "B :5\n",
            "\n",
            "Sub And Is : 5\n",
            "\n",
            "A :20\n",
            "\n",
            "B :5\n",
            "\n",
            "Mul And Is : 100\n",
            "\n",
            "A :100\n",
            "\n",
            "B :1\n",
            "\n",
            "Div And Is : 100.0\n",
            "\n",
            "A :10\n",
            "\n",
            "B :2\n",
            "\n",
            "Florr Div And Is : 5\n",
            "\n",
            "A :5\n",
            "\n",
            "B :5\n",
            "\n",
            "Mod And Is : 0\n",
            "\n",
            "A :5\n",
            "\n",
            "B :2\n",
            "\n",
            "Power And Is : 25\n"
          ]
        }
      ]
    },
    {
      "cell_type": "code",
      "source": [
        "10/0"
      ],
      "metadata": {
        "colab": {
          "base_uri": "https://localhost:8080/",
          "height": 168
        },
        "id": "IWdzl1qS0vWp",
        "outputId": "51b7013f-cf4f-41e9-b2ac-765efb926ab9"
      },
      "execution_count": 64,
      "outputs": [
        {
          "output_type": "error",
          "ename": "ZeroDivisionError",
          "evalue": "ignored",
          "traceback": [
            "\u001b[0;31m---------------------------------------------------------------------------\u001b[0m",
            "\u001b[0;31mZeroDivisionError\u001b[0m                         Traceback (most recent call last)",
            "\u001b[0;32m<ipython-input-64-e574edb36883>\u001b[0m in \u001b[0;36m<cell line: 1>\u001b[0;34m()\u001b[0m\n\u001b[0;32m----> 1\u001b[0;31m \u001b[0;36m10\u001b[0m\u001b[0;34m/\u001b[0m\u001b[0;36m0\u001b[0m\u001b[0;34m\u001b[0m\u001b[0;34m\u001b[0m\u001b[0m\n\u001b[0m",
            "\u001b[0;31mZeroDivisionError\u001b[0m: division by zero"
          ]
        }
      ]
    },
    {
      "cell_type": "code",
      "source": [
        "10%0"
      ],
      "metadata": {
        "colab": {
          "base_uri": "https://localhost:8080/",
          "height": 168
        },
        "id": "SHee4tWE0vwt",
        "outputId": "05265acc-0b19-41f3-b610-f1a06b6886a6"
      },
      "execution_count": 65,
      "outputs": [
        {
          "output_type": "error",
          "ename": "ZeroDivisionError",
          "evalue": "ignored",
          "traceback": [
            "\u001b[0;31m---------------------------------------------------------------------------\u001b[0m",
            "\u001b[0;31mZeroDivisionError\u001b[0m                         Traceback (most recent call last)",
            "\u001b[0;32m<ipython-input-65-3e1bfe6920c0>\u001b[0m in \u001b[0;36m<cell line: 1>\u001b[0;34m()\u001b[0m\n\u001b[0;32m----> 1\u001b[0;31m \u001b[0;36m10\u001b[0m\u001b[0;34m%\u001b[0m\u001b[0;36m0\u001b[0m\u001b[0;34m\u001b[0m\u001b[0;34m\u001b[0m\u001b[0m\n\u001b[0m",
            "\u001b[0;31mZeroDivisionError\u001b[0m: integer division or modulo by zero"
          ]
        }
      ]
    },
    {
      "cell_type": "code",
      "source": [
        "10//0"
      ],
      "metadata": {
        "colab": {
          "base_uri": "https://localhost:8080/",
          "height": 168
        },
        "id": "KhZBJS6N01VF",
        "outputId": "57e4b6d7-3c4d-48b2-d54b-3bcb38c47917"
      },
      "execution_count": 66,
      "outputs": [
        {
          "output_type": "error",
          "ename": "ZeroDivisionError",
          "evalue": "ignored",
          "traceback": [
            "\u001b[0;31m---------------------------------------------------------------------------\u001b[0m",
            "\u001b[0;31mZeroDivisionError\u001b[0m                         Traceback (most recent call last)",
            "\u001b[0;32m<ipython-input-66-adb5753def1b>\u001b[0m in \u001b[0;36m<cell line: 1>\u001b[0;34m()\u001b[0m\n\u001b[0;32m----> 1\u001b[0;31m \u001b[0;36m10\u001b[0m\u001b[0;34m//\u001b[0m\u001b[0;36m0\u001b[0m\u001b[0;34m\u001b[0m\u001b[0;34m\u001b[0m\u001b[0m\n\u001b[0m",
            "\u001b[0;31mZeroDivisionError\u001b[0m: integer division or modulo by zero"
          ]
        }
      ]
    },
    {
      "cell_type": "code",
      "source": [
        "a = int(input(\"Enter 1st Num :\"))\n",
        "b = int(input(\"\\nEnter 2nd Num :\"))\n",
        "print('''\n",
        "           Options Are : / , % , //\n",
        "      ''')\n",
        "opt = input(\"\\nEnter Option :\")\n",
        "if opt == \"/\":\n",
        "  print(\"\\nDiv Is :\",a/b)\n",
        "elif opt==\"%\":\n",
        "  print(\"\\nRemainder Is :\",a%b)\n",
        "elif opt==\"//\":\n",
        "  print(\"\\nFlor Div Is :\",a//b)\n",
        "else:\n",
        "  print(\"\\nNo Option.\")"
      ],
      "metadata": {
        "colab": {
          "base_uri": "https://localhost:8080/"
        },
        "id": "HoAkAbM401ZX",
        "outputId": "3d0eccd2-79b4-45b2-c8e4-734d481ec502"
      },
      "execution_count": 67,
      "outputs": [
        {
          "output_type": "stream",
          "name": "stdout",
          "text": [
            "Enter 1st Num :10\n",
            "\n",
            "Enter 2nd Num :5\n",
            "\n",
            "           Options Are : / , % , //\n",
            "      \n",
            "\n",
            "Enter Option :/\n",
            "\n",
            "Div Is : 2.0\n"
          ]
        }
      ]
    },
    {
      "cell_type": "code",
      "source": [],
      "metadata": {
        "id": "ydDOfw7m1DtD"
      },
      "execution_count": null,
      "outputs": []
    },
    {
      "cell_type": "code",
      "source": [
        "a = int(input(\"Enter 1st Num :\"))\n",
        "b = int(input(\"\\nEnter 2nd Num :\"))\n",
        "print('''\n",
        "           Options Are : / , % , //\n",
        "      ''')\n",
        "opt = input(\"\\nEnter Option :\")\n",
        "if opt == \"/\":\n",
        "  print(\"\\nDiv Is :\",a/b)\n",
        "elif opt==\"%\":\n",
        "  print(\"\\nRemainder Is :\",a%b)\n",
        "elif opt==\"//\":\n",
        "  print(\"\\nFlor Div Is :\",a//b)\n",
        "else:\n",
        "  print(\"\\nNo Option.\")"
      ],
      "metadata": {
        "colab": {
          "base_uri": "https://localhost:8080/",
          "height": 381
        },
        "outputId": "153ce5be-9387-440f-b0a5-0e282c366015",
        "id": "PsjsyUMh1q6U"
      },
      "execution_count": 69,
      "outputs": [
        {
          "name": "stdout",
          "output_type": "stream",
          "text": [
            "Enter 1st Num :10\n",
            "\n",
            "Enter 2nd Num :0\n",
            "\n",
            "           Options Are : / , % , //\n",
            "      \n",
            "\n",
            "Enter Option :/\n"
          ]
        },
        {
          "output_type": "error",
          "ename": "ZeroDivisionError",
          "evalue": "ignored",
          "traceback": [
            "\u001b[0;31m---------------------------------------------------------------------------\u001b[0m",
            "\u001b[0;31mZeroDivisionError\u001b[0m                         Traceback (most recent call last)",
            "\u001b[0;32m<ipython-input-69-1f38af2dfaa3>\u001b[0m in \u001b[0;36m<cell line: 7>\u001b[0;34m()\u001b[0m\n\u001b[1;32m      6\u001b[0m \u001b[0mopt\u001b[0m \u001b[0;34m=\u001b[0m \u001b[0minput\u001b[0m\u001b[0;34m(\u001b[0m\u001b[0;34m\"\\nEnter Option :\"\u001b[0m\u001b[0;34m)\u001b[0m\u001b[0;34m\u001b[0m\u001b[0;34m\u001b[0m\u001b[0m\n\u001b[1;32m      7\u001b[0m \u001b[0;32mif\u001b[0m \u001b[0mopt\u001b[0m \u001b[0;34m==\u001b[0m \u001b[0;34m\"/\"\u001b[0m\u001b[0;34m:\u001b[0m\u001b[0;34m\u001b[0m\u001b[0;34m\u001b[0m\u001b[0m\n\u001b[0;32m----> 8\u001b[0;31m   \u001b[0mprint\u001b[0m\u001b[0;34m(\u001b[0m\u001b[0;34m\"\\nDiv Is :\"\u001b[0m\u001b[0;34m,\u001b[0m\u001b[0ma\u001b[0m\u001b[0;34m/\u001b[0m\u001b[0mb\u001b[0m\u001b[0;34m)\u001b[0m\u001b[0;34m\u001b[0m\u001b[0;34m\u001b[0m\u001b[0m\n\u001b[0m\u001b[1;32m      9\u001b[0m \u001b[0;32melif\u001b[0m \u001b[0mopt\u001b[0m\u001b[0;34m==\u001b[0m\u001b[0;34m\"%\"\u001b[0m\u001b[0;34m:\u001b[0m\u001b[0;34m\u001b[0m\u001b[0;34m\u001b[0m\u001b[0m\n\u001b[1;32m     10\u001b[0m   \u001b[0mprint\u001b[0m\u001b[0;34m(\u001b[0m\u001b[0;34m\"\\nRemainder Is :\"\u001b[0m\u001b[0;34m,\u001b[0m\u001b[0ma\u001b[0m\u001b[0;34m%\u001b[0m\u001b[0mb\u001b[0m\u001b[0;34m)\u001b[0m\u001b[0;34m\u001b[0m\u001b[0;34m\u001b[0m\u001b[0m\n",
            "\u001b[0;31mZeroDivisionError\u001b[0m: division by zero"
          ]
        }
      ]
    },
    {
      "cell_type": "code",
      "source": [
        "a = int(input(\"Enter 1st Num :\"))\n",
        "b = int(input(\"\\nEnter 2nd Num :\"))\n",
        "print('''\n",
        "           Options Are : / , % , //\n",
        "      ''')\n",
        "opt = input(\"\\nEnter Option :\")\n",
        "if opt == \"/\" and b!=0:\n",
        "  print(\"\\nDiv Is :\",a/b)\n",
        "elif opt==\"%\" and b!=0:\n",
        "  print(\"\\nRemainder Is :\",a%b)\n",
        "elif opt==\"//\" and b!=0:\n",
        "  print(\"\\nFlor Div Is :\",a//b)\n",
        "else:\n",
        "  print(\"\\nNo Option.\")"
      ],
      "metadata": {
        "colab": {
          "base_uri": "https://localhost:8080/"
        },
        "id": "iM-oVJaL1qXO",
        "outputId": "6ea82d7d-3dde-40d7-bd19-d30a88bf9098"
      },
      "execution_count": 70,
      "outputs": [
        {
          "output_type": "stream",
          "name": "stdout",
          "text": [
            "Enter 1st Num :10\n",
            "\n",
            "Enter 2nd Num :0\n",
            "\n",
            "           Options Are : / , % , //\n",
            "      \n",
            "\n",
            "Enter Option :/\n",
            "\n",
            "No Option.\n"
          ]
        }
      ]
    },
    {
      "cell_type": "markdown",
      "source": [
        "**Task : Result <-- Gain**"
      ],
      "metadata": {
        "id": "yOfz__G62f-7"
      }
    },
    {
      "cell_type": "markdown",
      "source": [
        "**Memebership Opeartor**"
      ],
      "metadata": {
        "id": "oGFWN37lWyw_"
      }
    },
    {
      "cell_type": "markdown",
      "source": [
        "     ==> return True , if Any Value Inside / Memeber of Object.\n",
        "     \n",
        "     ==> Otherwise , False\n",
        "     \n",
        "     ## It Has Two Keywords :\n",
        "   \n",
        "            ==> in\n",
        "      \n",
        "            ==> not in"
      ],
      "metadata": {
        "id": "2PXTcydmW3kx"
      }
    },
    {
      "cell_type": "markdown",
      "source": [
        "**String**"
      ],
      "metadata": {
        "id": "_PFc4d3g27By"
      }
    },
    {
      "cell_type": "code",
      "source": [
        "name = \"Mike\"\n",
        "name"
      ],
      "metadata": {
        "id": "QS4tmTQ_W-Qp",
        "colab": {
          "base_uri": "https://localhost:8080/",
          "height": 35
        },
        "outputId": "fe358095-3f24-4e70-eb46-0ca78f071bcb"
      },
      "execution_count": 71,
      "outputs": [
        {
          "output_type": "execute_result",
          "data": {
            "text/plain": [
              "'Mike'"
            ],
            "application/vnd.google.colaboratory.intrinsic+json": {
              "type": "string"
            }
          },
          "metadata": {},
          "execution_count": 71
        }
      ]
    },
    {
      "cell_type": "code",
      "source": [
        "'''\n",
        "        Mike\n",
        "\n",
        "        0 => M\n",
        "        1 => i\n",
        "        k => 2\n",
        "        e => 3\n",
        "\n",
        "        0,1,2,3  => Index Value\n",
        "'''\n",
        "\"\""
      ],
      "metadata": {
        "id": "jKfqln_mW-Uc",
        "colab": {
          "base_uri": "https://localhost:8080/",
          "height": 35
        },
        "outputId": "140ed979-a99e-4673-b399-b9cbb5f5f79c"
      },
      "execution_count": 72,
      "outputs": [
        {
          "output_type": "execute_result",
          "data": {
            "text/plain": [
              "''"
            ],
            "application/vnd.google.colaboratory.intrinsic+json": {
              "type": "string"
            }
          },
          "metadata": {},
          "execution_count": 72
        }
      ]
    },
    {
      "cell_type": "markdown",
      "source": [
        "**How To Get Value From Index Num**"
      ],
      "metadata": {
        "id": "mYbp2tNI3R6o"
      }
    },
    {
      "cell_type": "markdown",
      "source": [
        "*Syntax :   string_data[index Value]*"
      ],
      "metadata": {
        "id": "m0GqA7tl3WgE"
      }
    },
    {
      "cell_type": "code",
      "source": [
        "name"
      ],
      "metadata": {
        "id": "D81AMQTvW-hz",
        "colab": {
          "base_uri": "https://localhost:8080/",
          "height": 35
        },
        "outputId": "86b7f8a8-b6e0-4fa4-fee6-a4e1286dc9c2"
      },
      "execution_count": 73,
      "outputs": [
        {
          "output_type": "execute_result",
          "data": {
            "text/plain": [
              "'Mike'"
            ],
            "application/vnd.google.colaboratory.intrinsic+json": {
              "type": "string"
            }
          },
          "metadata": {},
          "execution_count": 73
        }
      ]
    },
    {
      "cell_type": "code",
      "source": [
        "name[0]"
      ],
      "metadata": {
        "id": "H2iT89jCW-k3",
        "colab": {
          "base_uri": "https://localhost:8080/",
          "height": 35
        },
        "outputId": "0f229c76-e848-4f0d-cfa4-aa0aecdad958"
      },
      "execution_count": 74,
      "outputs": [
        {
          "output_type": "execute_result",
          "data": {
            "text/plain": [
              "'M'"
            ],
            "application/vnd.google.colaboratory.intrinsic+json": {
              "type": "string"
            }
          },
          "metadata": {},
          "execution_count": 74
        }
      ]
    },
    {
      "cell_type": "code",
      "source": [
        "\"M\" in name"
      ],
      "metadata": {
        "id": "2IgLMnFCW-n9",
        "colab": {
          "base_uri": "https://localhost:8080/"
        },
        "outputId": "97cfe3cf-7e9f-4e72-dce1-0816470a5352"
      },
      "execution_count": 75,
      "outputs": [
        {
          "output_type": "execute_result",
          "data": {
            "text/plain": [
              "True"
            ]
          },
          "metadata": {},
          "execution_count": 75
        }
      ]
    },
    {
      "cell_type": "code",
      "source": [
        "name in name"
      ],
      "metadata": {
        "colab": {
          "base_uri": "https://localhost:8080/"
        },
        "id": "krvmR3JB3ieq",
        "outputId": "9ded9dde-818c-49f9-9c0e-4bcab8e1a50a"
      },
      "execution_count": 76,
      "outputs": [
        {
          "output_type": "execute_result",
          "data": {
            "text/plain": [
              "True"
            ]
          },
          "metadata": {},
          "execution_count": 76
        }
      ]
    },
    {
      "cell_type": "code",
      "source": [
        "\"Mi\" in name"
      ],
      "metadata": {
        "colab": {
          "base_uri": "https://localhost:8080/"
        },
        "id": "S9_exmZv3iho",
        "outputId": "3aa75ada-fecf-46ea-b817-98c853e01d3b"
      },
      "execution_count": 77,
      "outputs": [
        {
          "output_type": "execute_result",
          "data": {
            "text/plain": [
              "True"
            ]
          },
          "metadata": {},
          "execution_count": 77
        }
      ]
    },
    {
      "cell_type": "code",
      "source": [
        "\"Mk\" in name"
      ],
      "metadata": {
        "colab": {
          "base_uri": "https://localhost:8080/"
        },
        "id": "dpVzI99b3ilM",
        "outputId": "3dc18a62-7b8c-482c-f314-a5f945097a7d"
      },
      "execution_count": 78,
      "outputs": [
        {
          "output_type": "execute_result",
          "data": {
            "text/plain": [
              "False"
            ]
          },
          "metadata": {},
          "execution_count": 78
        }
      ]
    },
    {
      "cell_type": "markdown",
      "source": [
        "**List**"
      ],
      "metadata": {
        "id": "m5FjFQ5n3ru-"
      }
    },
    {
      "cell_type": "code",
      "source": [
        "data = [\"Mike\",\"Luke\",\"Finn\",\"Allen\",\"Sia\",\"Ria\"]"
      ],
      "metadata": {
        "id": "3z0MuEyE3ioR"
      },
      "execution_count": 79,
      "outputs": []
    },
    {
      "cell_type": "code",
      "source": [
        "data"
      ],
      "metadata": {
        "colab": {
          "base_uri": "https://localhost:8080/"
        },
        "id": "-dV2hRXL3t2B",
        "outputId": "27d36292-51a3-4a48-b31a-76807e2f9cf4"
      },
      "execution_count": 80,
      "outputs": [
        {
          "output_type": "execute_result",
          "data": {
            "text/plain": [
              "['Mike', 'Luke', 'Finn', 'Allen', 'Sia', 'Ria']"
            ]
          },
          "metadata": {},
          "execution_count": 80
        }
      ]
    },
    {
      "cell_type": "code",
      "source": [
        "data[0] in data"
      ],
      "metadata": {
        "colab": {
          "base_uri": "https://localhost:8080/"
        },
        "id": "CJ3YKACr3t5K",
        "outputId": "ca30cef7-31ef-4cc0-f246-13754feda3aa"
      },
      "execution_count": 81,
      "outputs": [
        {
          "output_type": "execute_result",
          "data": {
            "text/plain": [
              "True"
            ]
          },
          "metadata": {},
          "execution_count": 81
        }
      ]
    },
    {
      "cell_type": "code",
      "source": [
        "\"Luke\" in data"
      ],
      "metadata": {
        "colab": {
          "base_uri": "https://localhost:8080/"
        },
        "id": "wVFgyOb53t82",
        "outputId": "109a8efe-7641-4b94-e57d-86e196d5fda6"
      },
      "execution_count": 82,
      "outputs": [
        {
          "output_type": "execute_result",
          "data": {
            "text/plain": [
              "True"
            ]
          },
          "metadata": {},
          "execution_count": 82
        }
      ]
    },
    {
      "cell_type": "code",
      "source": [
        "\"Ria\" not in data"
      ],
      "metadata": {
        "colab": {
          "base_uri": "https://localhost:8080/"
        },
        "id": "u_-5-mgP36gx",
        "outputId": "03288e15-b25f-4041-affb-cf902d4ba2d2"
      },
      "execution_count": 83,
      "outputs": [
        {
          "output_type": "execute_result",
          "data": {
            "text/plain": [
              "False"
            ]
          },
          "metadata": {},
          "execution_count": 83
        }
      ]
    },
    {
      "cell_type": "code",
      "source": [
        "data[5]"
      ],
      "metadata": {
        "colab": {
          "base_uri": "https://localhost:8080/",
          "height": 35
        },
        "id": "Ji6s7vbH4CMT",
        "outputId": "ad75174a-7676-419a-c778-a8104bd469ba"
      },
      "execution_count": 84,
      "outputs": [
        {
          "output_type": "execute_result",
          "data": {
            "text/plain": [
              "'Ria'"
            ],
            "application/vnd.google.colaboratory.intrinsic+json": {
              "type": "string"
            }
          },
          "metadata": {},
          "execution_count": 84
        }
      ]
    },
    {
      "cell_type": "code",
      "source": [
        "data[5][1]"
      ],
      "metadata": {
        "colab": {
          "base_uri": "https://localhost:8080/",
          "height": 35
        },
        "id": "ZeeQnuPL4GLX",
        "outputId": "b62b46e9-6e48-4776-e6f4-8ff2e10b1a4c"
      },
      "execution_count": 85,
      "outputs": [
        {
          "output_type": "execute_result",
          "data": {
            "text/plain": [
              "'i'"
            ],
            "application/vnd.google.colaboratory.intrinsic+json": {
              "type": "string"
            }
          },
          "metadata": {},
          "execution_count": 85
        }
      ]
    },
    {
      "cell_type": "code",
      "source": [
        "data[5][1] in data[5]"
      ],
      "metadata": {
        "colab": {
          "base_uri": "https://localhost:8080/"
        },
        "id": "DgNBS0mA4KA7",
        "outputId": "62f5aca1-e1f5-4ae5-c734-4a3506d31a4e"
      },
      "execution_count": 86,
      "outputs": [
        {
          "output_type": "execute_result",
          "data": {
            "text/plain": [
              "True"
            ]
          },
          "metadata": {},
          "execution_count": 86
        }
      ]
    },
    {
      "cell_type": "code",
      "source": [
        "check = input(\"\\nEnter Check Data :\")\n",
        "print()\n",
        "if check in data :\n",
        "    print(check,\"Inside The Data.\")\n",
        "else:\n",
        "    print(check,\"Is Not Inside Data.\")"
      ],
      "metadata": {
        "id": "Z9wTbcPDW-q8",
        "colab": {
          "base_uri": "https://localhost:8080/"
        },
        "outputId": "95a7cacf-cd6d-4365-eb7e-b7b148409896"
      },
      "execution_count": 87,
      "outputs": [
        {
          "output_type": "stream",
          "name": "stdout",
          "text": [
            "\n",
            "Enter Check Data :Jenny\n",
            "\n",
            "Jenny Is Not Inside Data.\n"
          ]
        }
      ]
    },
    {
      "cell_type": "markdown",
      "source": [
        "**Identity Operator**"
      ],
      "metadata": {
        "id": "948QcCMfXBmN"
      }
    },
    {
      "cell_type": "markdown",
      "source": [
        "      => If Objects Have Similar Memory Address,\n",
        "         \n",
        "         return True, Otherwise False.\n",
        "         \n",
        "         ==> is\n",
        "         \n",
        "         ==> is not"
      ],
      "metadata": {
        "id": "US8HsTLJXGOY"
      }
    },
    {
      "cell_type": "markdown",
      "source": [
        "![image.png](data:image/png;base64,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)"
      ],
      "metadata": {
        "id": "Ib-gTB405f0Z"
      }
    },
    {
      "cell_type": "code",
      "source": [
        "name = \"Mike\""
      ],
      "metadata": {
        "id": "JazKcaNaXDJP"
      },
      "execution_count": 88,
      "outputs": []
    },
    {
      "cell_type": "code",
      "source": [
        "name"
      ],
      "metadata": {
        "id": "B-3nPCZiXLam",
        "colab": {
          "base_uri": "https://localhost:8080/",
          "height": 35
        },
        "outputId": "28f5e1e1-2ac3-4b23-cd67-d2fd7a67a45b"
      },
      "execution_count": 89,
      "outputs": [
        {
          "output_type": "execute_result",
          "data": {
            "text/plain": [
              "'Mike'"
            ],
            "application/vnd.google.colaboratory.intrinsic+json": {
              "type": "string"
            }
          },
          "metadata": {},
          "execution_count": 89
        }
      ]
    },
    {
      "cell_type": "markdown",
      "source": [
        "**Check : Memory Address**"
      ],
      "metadata": {
        "id": "06Em062k5lDI"
      }
    },
    {
      "cell_type": "code",
      "source": [
        "'''\n",
        "     Use : id()\n",
        "                  => It Is Used For Check The Memory Address\n",
        "'''\n",
        "\"\""
      ],
      "metadata": {
        "id": "whpwpnQJXLd4",
        "colab": {
          "base_uri": "https://localhost:8080/",
          "height": 35
        },
        "outputId": "17a8f16c-e603-4c77-a658-17b89a2e560b"
      },
      "execution_count": 90,
      "outputs": [
        {
          "output_type": "execute_result",
          "data": {
            "text/plain": [
              "''"
            ],
            "application/vnd.google.colaboratory.intrinsic+json": {
              "type": "string"
            }
          },
          "metadata": {},
          "execution_count": 90
        }
      ]
    },
    {
      "cell_type": "code",
      "source": [
        "id(name)"
      ],
      "metadata": {
        "id": "FsN1dbTCXLg8",
        "colab": {
          "base_uri": "https://localhost:8080/"
        },
        "outputId": "7cf173b7-7dca-46a2-b794-9dd7d4282b80"
      },
      "execution_count": 91,
      "outputs": [
        {
          "output_type": "execute_result",
          "data": {
            "text/plain": [
              "139496036201008"
            ]
          },
          "metadata": {},
          "execution_count": 91
        }
      ]
    },
    {
      "cell_type": "markdown",
      "source": [
        "![image.png](data:image/png;base64,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)"
      ],
      "metadata": {
        "id": "Gs8KBgRQ5_mU"
      }
    },
    {
      "cell_type": "code",
      "source": [
        "name = \"Mike\"\n",
        "a1 = \"Mike\""
      ],
      "metadata": {
        "id": "kZhMYElyXLj3"
      },
      "execution_count": 93,
      "outputs": []
    },
    {
      "cell_type": "code",
      "source": [
        "name"
      ],
      "metadata": {
        "id": "qVZ0U7OcXLnN",
        "colab": {
          "base_uri": "https://localhost:8080/",
          "height": 35
        },
        "outputId": "6a8eafb5-9550-4beb-e772-e39d640bd6b3"
      },
      "execution_count": 94,
      "outputs": [
        {
          "output_type": "execute_result",
          "data": {
            "text/plain": [
              "'Mike'"
            ],
            "application/vnd.google.colaboratory.intrinsic+json": {
              "type": "string"
            }
          },
          "metadata": {},
          "execution_count": 94
        }
      ]
    },
    {
      "cell_type": "code",
      "source": [
        "a1"
      ],
      "metadata": {
        "id": "HhdezgU9XLp7",
        "colab": {
          "base_uri": "https://localhost:8080/",
          "height": 35
        },
        "outputId": "eb2c4adc-f69b-4625-eb9c-4cd633449b2a"
      },
      "execution_count": 95,
      "outputs": [
        {
          "output_type": "execute_result",
          "data": {
            "text/plain": [
              "'Mike'"
            ],
            "application/vnd.google.colaboratory.intrinsic+json": {
              "type": "string"
            }
          },
          "metadata": {},
          "execution_count": 95
        }
      ]
    },
    {
      "cell_type": "markdown",
      "source": [
        "**Check The Memory Address of Both Variable**"
      ],
      "metadata": {
        "id": "otyqdM-V6IWs"
      }
    },
    {
      "cell_type": "code",
      "source": [
        "print(\"Memory Address of name Is :\",id(name))\n",
        "print(\"Memory Address of a1 Is :\",id(a1))"
      ],
      "metadata": {
        "id": "xtnZmwTeXLtU",
        "colab": {
          "base_uri": "https://localhost:8080/"
        },
        "outputId": "455ec2da-1e46-4325-918d-9911b2dcf882"
      },
      "execution_count": 97,
      "outputs": [
        {
          "output_type": "stream",
          "name": "stdout",
          "text": [
            "Memory Address of name Is : 139496036201008\n",
            "Memory Address of a1 Is : 139496036201008\n"
          ]
        }
      ]
    },
    {
      "cell_type": "code",
      "source": [
        "id(name) == id(a1)"
      ],
      "metadata": {
        "id": "cUG8lRi9XLwN",
        "colab": {
          "base_uri": "https://localhost:8080/"
        },
        "outputId": "5e15f82f-d5f9-48f7-d4ce-8551c84584f3"
      },
      "execution_count": 98,
      "outputs": [
        {
          "output_type": "execute_result",
          "data": {
            "text/plain": [
              "True"
            ]
          },
          "metadata": {},
          "execution_count": 98
        }
      ]
    },
    {
      "cell_type": "code",
      "source": [
        "name is a1"
      ],
      "metadata": {
        "id": "fxpzrqQUXLzX",
        "colab": {
          "base_uri": "https://localhost:8080/"
        },
        "outputId": "e755a246-9f62-4da3-8c71-c0c3b2a200cb"
      },
      "execution_count": 99,
      "outputs": [
        {
          "output_type": "execute_result",
          "data": {
            "text/plain": [
              "True"
            ]
          },
          "metadata": {},
          "execution_count": 99
        }
      ]
    },
    {
      "cell_type": "code",
      "source": [
        "a1 = 256\n",
        "b1 = 256\n",
        "a1 is b1"
      ],
      "metadata": {
        "id": "ojK4_GK0XL2f",
        "colab": {
          "base_uri": "https://localhost:8080/"
        },
        "outputId": "0b301d6e-f8d0-417a-accc-ed2d79e0e8a5"
      },
      "execution_count": 100,
      "outputs": [
        {
          "output_type": "execute_result",
          "data": {
            "text/plain": [
              "True"
            ]
          },
          "metadata": {},
          "execution_count": 100
        }
      ]
    },
    {
      "cell_type": "code",
      "source": [
        "a1 = 257\n",
        "b1 = 257\n",
        "a1 is b1"
      ],
      "metadata": {
        "id": "jFcBYALUXL6s",
        "colab": {
          "base_uri": "https://localhost:8080/"
        },
        "outputId": "e9692239-9f3b-4793-eccb-54b04bfed3e7"
      },
      "execution_count": 101,
      "outputs": [
        {
          "output_type": "execute_result",
          "data": {
            "text/plain": [
              "False"
            ]
          },
          "metadata": {},
          "execution_count": 101
        }
      ]
    },
    {
      "cell_type": "code",
      "source": [
        "a1 = 2.0\n",
        "b1 = 2.0\n",
        "a1 is b1"
      ],
      "metadata": {
        "colab": {
          "base_uri": "https://localhost:8080/"
        },
        "id": "NdtVqzHl6sJi",
        "outputId": "0b5ac319-be8e-4438-e09a-46b857ddb3ca"
      },
      "execution_count": 102,
      "outputs": [
        {
          "output_type": "execute_result",
          "data": {
            "text/plain": [
              "False"
            ]
          },
          "metadata": {},
          "execution_count": 102
        }
      ]
    },
    {
      "cell_type": "code",
      "source": [
        "a1,b1,c1  = 2.0 , 100 , 2.0\n",
        "print(\"a1 is b1 => \",a1 is b1)\n",
        "print(\"b1 is c1 => \",b1 is c1)\n",
        "print(\"c1 is a1 => \",c1 is a1)"
      ],
      "metadata": {
        "colab": {
          "base_uri": "https://localhost:8080/"
        },
        "id": "1uj7QWut6sMr",
        "outputId": "d6c1785c-69fa-441d-ddee-708c69a494a7"
      },
      "execution_count": 104,
      "outputs": [
        {
          "output_type": "stream",
          "name": "stdout",
          "text": [
            "a1 is b1 =>  False\n",
            "b1 is c1 =>  False\n",
            "c1 is a1 =>  True\n"
          ]
        }
      ]
    },
    {
      "cell_type": "code",
      "source": [
        "a1,b1,c1  = 2000 , 100 , 2000\n",
        "print(\"a1 is b1 => \",a1 is b1)\n",
        "print(\"b1 is c1 => \",b1 is c1)\n",
        "print(\"c1 is a1 => \",c1 is a1)"
      ],
      "metadata": {
        "colab": {
          "base_uri": "https://localhost:8080/"
        },
        "id": "eXGzmJAw6sQI",
        "outputId": "30f9ea34-9d0d-4d36-b4c8-640a5504fce5"
      },
      "execution_count": 105,
      "outputs": [
        {
          "output_type": "stream",
          "name": "stdout",
          "text": [
            "a1 is b1 =>  False\n",
            "b1 is c1 =>  False\n",
            "c1 is a1 =>  True\n"
          ]
        }
      ]
    },
    {
      "cell_type": "markdown",
      "source": [
        "**Bitwise Operator**"
      ],
      "metadata": {
        "id": "Ezwa6qPnXMbo"
      }
    },
    {
      "cell_type": "markdown",
      "source": [
        "     ## Bitwise and Operator\n",
        "     \n",
        "     ## Bitwise or Operator\n",
        "     \n",
        "     ## Bitwise not Operator\n",
        "     \n",
        "     ## Bitwise xor Operator\n",
        "\n",
        "     ==> Bitwise Shift Opeartor :\n",
        "      \n",
        "           ## Left Shift Bitwise Opeartor\n",
        "           \n",
        "           ## Right Shift Bitwise Operator"
      ],
      "metadata": {
        "id": "iJfIX6QSXREc"
      }
    },
    {
      "cell_type": "code",
      "source": [
        "# 1 Byte  = 8 Bits"
      ],
      "metadata": {
        "id": "aiPSYO3FXOZv"
      },
      "execution_count": 106,
      "outputs": []
    },
    {
      "cell_type": "code",
      "source": [
        "a1 = 100"
      ],
      "metadata": {
        "id": "ifJYVY_D8eqh"
      },
      "execution_count": 107,
      "outputs": []
    },
    {
      "cell_type": "code",
      "source": [
        "a1"
      ],
      "metadata": {
        "colab": {
          "base_uri": "https://localhost:8080/"
        },
        "id": "Gl-I1bue8pAj",
        "outputId": "18280c3d-1d15-4701-ae80-d5a6994ad7dd"
      },
      "execution_count": 108,
      "outputs": [
        {
          "output_type": "execute_result",
          "data": {
            "text/plain": [
              "100"
            ]
          },
          "metadata": {},
          "execution_count": 108
        }
      ]
    },
    {
      "cell_type": "code",
      "source": [
        "bin(a1)"
      ],
      "metadata": {
        "colab": {
          "base_uri": "https://localhost:8080/",
          "height": 35
        },
        "id": "fObvfYvE8pxM",
        "outputId": "4068cbd7-ba19-46f5-9b38-6994aa71814f"
      },
      "execution_count": 109,
      "outputs": [
        {
          "output_type": "execute_result",
          "data": {
            "text/plain": [
              "'0b1100100'"
            ],
            "application/vnd.google.colaboratory.intrinsic+json": {
              "type": "string"
            }
          },
          "metadata": {},
          "execution_count": 109
        }
      ]
    },
    {
      "cell_type": "code",
      "source": [
        "bin(25)"
      ],
      "metadata": {
        "colab": {
          "base_uri": "https://localhost:8080/",
          "height": 35
        },
        "id": "hWZsQ73Z8sQE",
        "outputId": "12e62582-8a12-46a7-d80e-5b6065e1ec0c"
      },
      "execution_count": 110,
      "outputs": [
        {
          "output_type": "execute_result",
          "data": {
            "text/plain": [
              "'0b11001'"
            ],
            "application/vnd.google.colaboratory.intrinsic+json": {
              "type": "string"
            }
          },
          "metadata": {},
          "execution_count": 110
        }
      ]
    },
    {
      "cell_type": "markdown",
      "source": [
        "**How To Get Binary of Any Number**"
      ],
      "metadata": {
        "id": "vuWbIQfh8yZb"
      }
    },
    {
      "cell_type": "code",
      "source": [
        "'''\n",
        "           2^n\n",
        "\n",
        "           => n = 0\n",
        "\n",
        "\n",
        "           Bits Assign => Right To Left\n",
        "\n",
        "\n",
        "           8     7     6     5     4     3     2      1\n",
        "\n",
        "    =>   2^7   2^6    2^5   2^4   2^3   2^2   2^1    2^0\n",
        "\n",
        "    =>   128   64     32    16    8     4      2     1\n",
        "\n",
        "    -----------------------------------------------------\n",
        "\n",
        "    Need More Memory :\n",
        "\n",
        "             ......   2^8   2^7   2^6    2^5   2^4   2^3   2^2   2^1    2^0\n",
        "\n",
        "    ---------------------------------------------------------\n",
        "\n",
        "    a1 = 100\n",
        "\n",
        "    Binary ?\n",
        "\n",
        "    ---------------------------------------------------------\n",
        "\n",
        "    Note : Bit Need =>  1\n",
        "           Bit Not Need  => 0\n",
        "\n",
        "    ---------------------------------------------------------\n",
        "      a1  = 100  (Bit)\n",
        "\n",
        "       => 100 : Break => According To Given Bits\n",
        "\n",
        "       -------------------------------------------------------\n",
        "\n",
        "         100 => 64 + 32 + 4\n",
        "\n",
        "         Use => 1\n",
        "\n",
        "         Otherwise => 0\n",
        "\n",
        "\n",
        "\n",
        "               128   64     32    16    8     4      2     1    => Bits\n",
        "\n",
        "        100 =>  0    1      1     0     0     1      0     0\n",
        "\n",
        "        ---------------------------------------------------------\n",
        "\n",
        "             1      1     0     0     1      0     0\n",
        "\n",
        "'''\n",
        "\"\""
      ],
      "metadata": {
        "colab": {
          "base_uri": "https://localhost:8080/",
          "height": 35
        },
        "id": "h0zC9CvF8ti9",
        "outputId": "8b7be3f1-a240-436d-aee5-076f7595ff39"
      },
      "execution_count": 111,
      "outputs": [
        {
          "output_type": "execute_result",
          "data": {
            "text/plain": [
              "''"
            ],
            "application/vnd.google.colaboratory.intrinsic+json": {
              "type": "string"
            }
          },
          "metadata": {},
          "execution_count": 111
        }
      ]
    },
    {
      "cell_type": "code",
      "source": [
        "265 , 565 , 75 , 125 , 25"
      ],
      "metadata": {
        "colab": {
          "base_uri": "https://localhost:8080/"
        },
        "id": "-4mkwx3M-iIa",
        "outputId": "ac3546c2-9e32-4a59-d8c7-1c31d6d3bb63"
      },
      "execution_count": 112,
      "outputs": [
        {
          "output_type": "execute_result",
          "data": {
            "text/plain": [
              "(265, 565, 75, 125, 25)"
            ]
          },
          "metadata": {},
          "execution_count": 112
        }
      ]
    },
    {
      "cell_type": "markdown",
      "source": [
        "**Bitwise And Operator**"
      ],
      "metadata": {
        "id": "G_TKC7Ly_z-u"
      }
    },
    {
      "cell_type": "markdown",
      "source": [
        "==>  Symbol  :  &\n",
        "        \n",
        "        ==>  If All Bits Are 1 , Return 1\n",
        "        \n",
        "        ==>  Otherwise , Return  0\n",
        "    \n",
        "        "
      ],
      "metadata": {
        "id": "B4N8tGL-_9BH"
      }
    },
    {
      "cell_type": "code",
      "source": [
        "10 & 25"
      ],
      "metadata": {
        "colab": {
          "base_uri": "https://localhost:8080/"
        },
        "id": "2gr2Kisq-nik",
        "outputId": "99a500c9-ab67-4cfa-dc87-d9eb04cc3572"
      },
      "execution_count": 113,
      "outputs": [
        {
          "output_type": "execute_result",
          "data": {
            "text/plain": [
              "8"
            ]
          },
          "metadata": {},
          "execution_count": 113
        }
      ]
    },
    {
      "cell_type": "code",
      "source": [
        "'''\n",
        "       10  =>     8+2\n",
        "       25  =>  16+8+1\n",
        "\n",
        "\n",
        "\n",
        "           128   64     32    16    8     4      2     1\n",
        "\n",
        "    10 =>  0     0      0     0     1     0      1     0\n",
        "\n",
        "    25 =>  0     0      0     1     1     0      0     1\n",
        "\n",
        "    -----------------------------------------------------\n",
        "\n",
        "           0     0      0     0     1     0      0     0\n",
        "\n",
        "           ----------------------------------------------\n",
        "\n",
        "             Bit On => 8 Bit\n",
        "\n",
        "             => Decimal => 8\n",
        "'''\n",
        "\"\""
      ],
      "metadata": {
        "colab": {
          "base_uri": "https://localhost:8080/",
          "height": 35
        },
        "id": "xcGLJzx-AGH2",
        "outputId": "ae8cf8e9-cdc0-4c21-d457-35ae9ffb299c"
      },
      "execution_count": 119,
      "outputs": [
        {
          "output_type": "execute_result",
          "data": {
            "text/plain": [
              "''"
            ],
            "application/vnd.google.colaboratory.intrinsic+json": {
              "type": "string"
            }
          },
          "metadata": {},
          "execution_count": 119
        }
      ]
    },
    {
      "cell_type": "code",
      "source": [
        "100 & 20 & 20"
      ],
      "metadata": {
        "colab": {
          "base_uri": "https://localhost:8080/"
        },
        "id": "laj2yjW5CBIB",
        "outputId": "18c9a078-6471-4c87-c021-615ca1986ab0"
      },
      "execution_count": 118,
      "outputs": [
        {
          "output_type": "execute_result",
          "data": {
            "text/plain": [
              "4"
            ]
          },
          "metadata": {},
          "execution_count": 118
        }
      ]
    },
    {
      "cell_type": "markdown",
      "source": [
        "**Bitwise Or Operator**"
      ],
      "metadata": {
        "id": "0MTSJ4ROAHAG"
      }
    },
    {
      "cell_type": "markdown",
      "source": [
        "        ==>  Symbol  :  |\n",
        "        \n",
        "        ==>  If One Of The All Bits Is 1 , Return 1\n",
        "        \n",
        "        ==>  Otherwise , Return  0"
      ],
      "metadata": {
        "id": "MvE1vhn6AMQu"
      }
    },
    {
      "cell_type": "code",
      "source": [
        "10 | 25"
      ],
      "metadata": {
        "colab": {
          "base_uri": "https://localhost:8080/"
        },
        "id": "YH8CzSj_ALTo",
        "outputId": "68844fc9-7985-48fb-bd92-d6a8735f4f0d"
      },
      "execution_count": 120,
      "outputs": [
        {
          "output_type": "execute_result",
          "data": {
            "text/plain": [
              "27"
            ]
          },
          "metadata": {},
          "execution_count": 120
        }
      ]
    },
    {
      "cell_type": "code",
      "source": [
        "'''\n",
        "       10  =>     8+2\n",
        "       25  =>  16+8+1\n",
        "\n",
        "\n",
        "\n",
        "           128   64     32    16    8     4      2     1\n",
        "\n",
        "    10 =>  0     0      0     0     1     0      1     0\n",
        "\n",
        "    25 =>  0     0      0     1     1     0      0     1\n",
        "\n",
        "    -----------------------------------------------------\n",
        "\n",
        "           0     0      0     1     1     0      1     1\n",
        "\n",
        "           ----------------------------------------------\n",
        "\n",
        "             Bit On => 16 + 8  + 2 + 1 => 27\n",
        "\n",
        "\n",
        "             => Decimal => 27\n",
        "'''\n",
        "\"\""
      ],
      "metadata": {
        "colab": {
          "base_uri": "https://localhost:8080/",
          "height": 35
        },
        "id": "e9mHbgR-AQlH",
        "outputId": "e6b4cc36-aa91-466b-e7ec-ef4de28662f7"
      },
      "execution_count": 121,
      "outputs": [
        {
          "output_type": "execute_result",
          "data": {
            "text/plain": [
              "''"
            ],
            "application/vnd.google.colaboratory.intrinsic+json": {
              "type": "string"
            }
          },
          "metadata": {},
          "execution_count": 121
        }
      ]
    },
    {
      "cell_type": "markdown",
      "source": [
        "**Bitwise Not Opeartor**"
      ],
      "metadata": {
        "id": "tqRK2emxASyk"
      }
    },
    {
      "cell_type": "markdown",
      "source": [
        "           ## Symbol : ~\n",
        "           \n",
        "           ==> Returns One's Complement of The Number."
      ],
      "metadata": {
        "id": "Cag1y2s_Aamm"
      }
    },
    {
      "cell_type": "code",
      "source": [
        "~25"
      ],
      "metadata": {
        "colab": {
          "base_uri": "https://localhost:8080/"
        },
        "id": "xcgprX6OAXuM",
        "outputId": "3a11d2a0-4de4-453b-eebc-8d225590a2da"
      },
      "execution_count": 122,
      "outputs": [
        {
          "output_type": "execute_result",
          "data": {
            "text/plain": [
              "-26"
            ]
          },
          "metadata": {},
          "execution_count": 122
        }
      ]
    },
    {
      "cell_type": "code",
      "source": [
        "'''\n",
        "         ~25\n",
        "\n",
        "      =>  -(25+1)\n",
        "      =>  -26\n",
        "'''\n",
        "\"\""
      ],
      "metadata": {
        "colab": {
          "base_uri": "https://localhost:8080/",
          "height": 35
        },
        "id": "KbDyER-uDYMi",
        "outputId": "106dacb5-e553-476f-e6df-34ecba0db1bf"
      },
      "execution_count": 123,
      "outputs": [
        {
          "output_type": "execute_result",
          "data": {
            "text/plain": [
              "''"
            ],
            "application/vnd.google.colaboratory.intrinsic+json": {
              "type": "string"
            }
          },
          "metadata": {},
          "execution_count": 123
        }
      ]
    },
    {
      "cell_type": "code",
      "source": [
        "~-26\n",
        "##  -(-26+1)\n",
        "##  -(-25) => 25"
      ],
      "metadata": {
        "colab": {
          "base_uri": "https://localhost:8080/"
        },
        "id": "xVDUhUsNAeWm",
        "outputId": "113c52df-d8ea-4cde-ca2e-3b2f969cafb7"
      },
      "execution_count": 124,
      "outputs": [
        {
          "output_type": "execute_result",
          "data": {
            "text/plain": [
              "25"
            ]
          },
          "metadata": {},
          "execution_count": 124
        }
      ]
    },
    {
      "cell_type": "markdown",
      "source": [
        "**Bitwise XOR Opeartor**"
      ],
      "metadata": {
        "id": "uPWVme2AAfHk"
      }
    },
    {
      "cell_type": "markdown",
      "source": [
        "      ## Symbol : ^\n",
        "      \n",
        "      ## Returns 1 If One of The Bit is 1 And Other Is 0.\n",
        "      \n",
        "      ## else Returns 0."
      ],
      "metadata": {
        "id": "sRYqbLRmAkcS"
      }
    },
    {
      "cell_type": "code",
      "source": [
        "'''\n",
        "       10  =>     8+2\n",
        "       25  =>  16+8+1\n",
        "\n",
        "\n",
        "\n",
        "           128   64     32    16    8     4      2     1\n",
        "\n",
        "    10 =>  0     0      0     0     1     0      1     0\n",
        "\n",
        "    25 =>  0     0      0     1     1     0      0     1\n",
        "\n",
        "    -----------------------------------------------------\n",
        "\n",
        "           0     0      0     1     0     0      1     1\n",
        "\n",
        "           ----------------------------------------------\n",
        "\n",
        "             Bit On => 16 + 2 + 1 => 19\n",
        "\n",
        "\n",
        "             => Decimal => 19\n",
        "'''\n",
        "\"\""
      ],
      "metadata": {
        "id": "iO41gfnYAecX"
      },
      "execution_count": null,
      "outputs": []
    },
    {
      "cell_type": "code",
      "source": [
        "10 ^ 25"
      ],
      "metadata": {
        "colab": {
          "base_uri": "https://localhost:8080/"
        },
        "id": "erQK07jSAl3h",
        "outputId": "464bb321-d22e-4d83-9076-519a7dafe4d6"
      },
      "execution_count": 125,
      "outputs": [
        {
          "output_type": "execute_result",
          "data": {
            "text/plain": [
              "19"
            ]
          },
          "metadata": {},
          "execution_count": 125
        }
      ]
    },
    {
      "cell_type": "markdown",
      "source": [
        "**Bitwise Shift Opeartor**"
      ],
      "metadata": {
        "id": "bIFy_lLQAmI5"
      }
    },
    {
      "cell_type": "markdown",
      "source": [
        "           ## Left Shift Bitwise Opeartor\n",
        "           \n",
        "           ## Right Shift Bitwise Operator"
      ],
      "metadata": {
        "id": "MZab8bFLAtMV"
      }
    },
    {
      "cell_type": "markdown",
      "source": [
        "**Left Shift Bitwise Opeartor**"
      ],
      "metadata": {
        "id": "5cwV7EdxFo3F"
      }
    },
    {
      "cell_type": "markdown",
      "source": [
        "   ==> Left --> Shift --> Bits\n",
        "   \n",
        "   ## Symbol : <<\n",
        "\n",
        "\n",
        "   a << b\n",
        "\n",
        "   Here , a => Decimal\n",
        "\n",
        "          b => Bits\n",
        "\n",
        "          a Is Left Shifted By 'b' Bits."
      ],
      "metadata": {
        "id": "pt8ucw0PFuW1"
      }
    },
    {
      "cell_type": "code",
      "source": [
        "10<<2"
      ],
      "metadata": {
        "colab": {
          "base_uri": "https://localhost:8080/"
        },
        "id": "gdNFulSVAqMd",
        "outputId": "d9b2c69d-f0a1-4924-be57-38dbe6a25ba5"
      },
      "execution_count": 126,
      "outputs": [
        {
          "output_type": "execute_result",
          "data": {
            "text/plain": [
              "40"
            ]
          },
          "metadata": {},
          "execution_count": 126
        }
      ]
    },
    {
      "cell_type": "code",
      "source": [
        "'''\n",
        "         10<<2\n",
        "\n",
        "         => Decimal : 10  => 8+2\n",
        "         => Bits    : 2\n",
        "\n",
        "         -----------------------------------------\n",
        "\n",
        "          128   64     32    16    8     4      2     1\n",
        "\n",
        "    10 =>  0    0      0     0     1     0      1     0\n",
        "\n",
        "    ---------------------------------------------------\n",
        "\n",
        "                      Bit Shift => Left Side\n",
        "\n",
        "                      Check Last Bit => ON : 8\n",
        "\n",
        "                      8 => 32\n",
        "                      4 => 16\n",
        "                      .....\n",
        "                      ....\n",
        "     --------------------------------------------------\n",
        "           0    0      1    0    1      0      0     0\n",
        "      --------------------------------------------------\n",
        "\n",
        "         Bit On => 32 + 8 => 40\n",
        "\n",
        "'''\n",
        "\"\""
      ],
      "metadata": {
        "colab": {
          "base_uri": "https://localhost:8080/",
          "height": 35
        },
        "id": "aHob-EIlF8vH",
        "outputId": "a6582fbe-ee0d-4cb3-a946-fcf82e6409b3"
      },
      "execution_count": 127,
      "outputs": [
        {
          "output_type": "execute_result",
          "data": {
            "text/plain": [
              "''"
            ],
            "application/vnd.google.colaboratory.intrinsic+json": {
              "type": "string"
            }
          },
          "metadata": {},
          "execution_count": 127
        }
      ]
    },
    {
      "cell_type": "code",
      "source": [
        "15<<4"
      ],
      "metadata": {
        "colab": {
          "base_uri": "https://localhost:8080/"
        },
        "id": "eBo8msCGGvG3",
        "outputId": "7dbb3c21-34cc-47b2-be4c-a5f759d6d5ce"
      },
      "execution_count": 128,
      "outputs": [
        {
          "output_type": "execute_result",
          "data": {
            "text/plain": [
              "240"
            ]
          },
          "metadata": {},
          "execution_count": 128
        }
      ]
    },
    {
      "cell_type": "code",
      "source": [
        "'''\n",
        "       15 =>  8 + 4 + 2 + 1\n",
        "\n",
        "       Bit => LeftShit : 4 Bit\n",
        "\n",
        "\n",
        "             128    64   32    16     8     4     2      1\n",
        "\n",
        "    10 =>    0      0    0     0      1     1     1      1\n",
        "\n",
        "             ---------------------------------------------\n",
        "\n",
        "             Left Shift : Last Bit ON : 8\n",
        "\n",
        "             ---------------------------------------------\n",
        "\n",
        "             1     1     1     1      0    0      0      0\n",
        "\n",
        "             ---------------------------------------------\n",
        "\n",
        "             Bit ON  : 128  + 64  + 32  + 16\n",
        "\n",
        "\n",
        "'''\n",
        "\"\""
      ],
      "metadata": {
        "colab": {
          "base_uri": "https://localhost:8080/",
          "height": 35
        },
        "id": "OwLDPl7mHBN8",
        "outputId": "78dc6034-279a-4225-b725-f1b8cb1ec379"
      },
      "execution_count": 129,
      "outputs": [
        {
          "output_type": "execute_result",
          "data": {
            "text/plain": [
              "''"
            ],
            "application/vnd.google.colaboratory.intrinsic+json": {
              "type": "string"
            }
          },
          "metadata": {},
          "execution_count": 129
        }
      ]
    },
    {
      "cell_type": "markdown",
      "source": [
        "**Right Shift Bitwise Operator**"
      ],
      "metadata": {
        "id": "fQYx5AhxHGtg"
      }
    },
    {
      "cell_type": "markdown",
      "source": [
        "\n",
        "        ## Symbol :  >>\n",
        "        \n",
        "        ## a >> b\n",
        "        \n",
        "        ## a  => Decimal\n",
        "        \n",
        "        ## b  => Bit\n",
        "        \n",
        "        ==> 'a' Is Right Shifted By 'b' Bits.\n",
        "        "
      ],
      "metadata": {
        "id": "cHa77RTiHLg9"
      }
    },
    {
      "cell_type": "code",
      "source": [
        "25>>4"
      ],
      "metadata": {
        "colab": {
          "base_uri": "https://localhost:8080/"
        },
        "id": "KQUoi9EcHD09",
        "outputId": "5f4d8aa3-2e46-4bc6-8835-7112c379410b"
      },
      "execution_count": 130,
      "outputs": [
        {
          "output_type": "execute_result",
          "data": {
            "text/plain": [
              "1"
            ]
          },
          "metadata": {},
          "execution_count": 130
        }
      ]
    },
    {
      "cell_type": "code",
      "source": [
        "'''\n",
        "          25 = 16 + 8 + 1\n",
        "\n",
        "          Bits => Right Shift : 4\n",
        "\n",
        "          -----------------------------------\n",
        "\n",
        "             128   64   32   16   8   4   2   1\n",
        "\n",
        "      25 =>   0    0    0    1    1   0   0   1\n",
        "\n",
        "      ------------------------------------------\n",
        "\n",
        "        4 Bits => Right Shift :  1   0   0  1  => Exit\n",
        "\n",
        "      -------------------------------------------\n",
        "\n",
        "              0    0    0    0    0    0   0   1\n",
        "\n",
        "              ----------------------------------\n",
        "\n",
        "               Bit On => 1\n",
        "'''\n",
        "\"\""
      ],
      "metadata": {
        "colab": {
          "base_uri": "https://localhost:8080/",
          "height": 35
        },
        "id": "OQbHZff8HmBk",
        "outputId": "caaa2877-e2d7-46f9-a35d-8463fca1f398"
      },
      "execution_count": 131,
      "outputs": [
        {
          "output_type": "execute_result",
          "data": {
            "text/plain": [
              "''"
            ],
            "application/vnd.google.colaboratory.intrinsic+json": {
              "type": "string"
            }
          },
          "metadata": {},
          "execution_count": 131
        }
      ]
    },
    {
      "cell_type": "code",
      "source": [
        "'''\n",
        "        ## 10>>2\n",
        "\n",
        "        => Decimal : 10 => 8 + 2\n",
        "\n",
        "        => Bits    : 2 ==> Right Shift\n",
        "\n",
        "    --------------------------------------------------------------\n",
        "\n",
        "               128     64     32      16      8     4    2     1\n",
        "\n",
        "        10 =>  0       0      0       0       1     0    1     0\n",
        "\n",
        "           ------------------------------------------------------\n",
        "             Bits => Right Shift => 2 Bits\n",
        "\n",
        "             ==> Right :  Bits => 1 And 2\n",
        "\n",
        "           -----------------------------------------------------\n",
        "\n",
        "             128   64    32    16    8    4     2     1\n",
        "\n",
        "              0    0     0     0     0    0     1     0\n",
        "\n",
        "           -----------------------------------------------------\n",
        "\n",
        "              ## Bit On : 2 Deciaml\n",
        "\n",
        "              ##  ON :  2\n",
        "\n",
        "              --------------------------\n",
        "\n",
        "                ## Note : Bit => Loose\n",
        "\n",
        "\n",
        "'''\n",
        "\"\""
      ],
      "metadata": {
        "colab": {
          "base_uri": "https://localhost:8080/",
          "height": 35
        },
        "id": "DT_Thq6dIKUS",
        "outputId": "6b113ae3-9087-4ec5-b1f0-5ebe0353626e"
      },
      "execution_count": 132,
      "outputs": [
        {
          "output_type": "execute_result",
          "data": {
            "text/plain": [
              "''"
            ],
            "application/vnd.google.colaboratory.intrinsic+json": {
              "type": "string"
            }
          },
          "metadata": {},
          "execution_count": 132
        }
      ]
    },
    {
      "cell_type": "code",
      "source": [
        "10>>2 | 10<<4 & 20"
      ],
      "metadata": {
        "colab": {
          "base_uri": "https://localhost:8080/"
        },
        "id": "PaQzBcdmIMny",
        "outputId": "dcfdf38d-1de5-4a09-9ef2-2d71cb6da1ae"
      },
      "execution_count": 133,
      "outputs": [
        {
          "output_type": "execute_result",
          "data": {
            "text/plain": [
              "2"
            ]
          },
          "metadata": {},
          "execution_count": 133
        }
      ]
    },
    {
      "cell_type": "code",
      "source": [],
      "metadata": {
        "id": "ocR25F1jITvy"
      },
      "execution_count": null,
      "outputs": []
    }
  ]
}
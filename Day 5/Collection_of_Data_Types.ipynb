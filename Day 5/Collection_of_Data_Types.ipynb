{
  "nbformat": 4,
  "nbformat_minor": 0,
  "metadata": {
    "colab": {
      "provenance": []
    },
    "kernelspec": {
      "name": "python3",
      "display_name": "Python 3"
    },
    "language_info": {
      "name": "python"
    }
  },
  "cells": [
    {
      "cell_type": "markdown",
      "source": [
        "**Data Structure**"
      ],
      "metadata": {
        "id": "O97wrtZbXh4T"
      }
    },
    {
      "cell_type": "markdown",
      "source": [
        "                         => Homogeneous\n",
        "                         \n",
        "                         => Hetrogeneous"
      ],
      "metadata": {
        "id": "51oh7GM_Xpr7"
      }
    },
    {
      "cell_type": "markdown",
      "source": [
        "**Homogeneous Data Structure**"
      ],
      "metadata": {
        "id": "0nK1DKRhX274"
      }
    },
    {
      "cell_type": "markdown",
      "source": [
        "         ==> They Are Used To Stored Multiple Data Elements In A Single,\n",
        "         \n",
        "             Variable/Object With The Similar Data Types.\n",
        "             \n",
        "             ## Like : Array\n",
        "             \n",
        "             ## Like : [\"Sean\",\"Jack\"]"
      ],
      "metadata": {
        "id": "A14KHo2XX739"
      }
    },
    {
      "cell_type": "code",
      "source": [
        "import array as ar"
      ],
      "metadata": {
        "id": "tWOesGLYXjYa"
      },
      "execution_count": 1,
      "outputs": []
    },
    {
      "cell_type": "code",
      "source": [
        "arr = ar.array('i',[2,10,25,26,-256])\n",
        "arr"
      ],
      "metadata": {
        "colab": {
          "base_uri": "https://localhost:8080/"
        },
        "id": "V3NHBgTbKZc1",
        "outputId": "8af18a94-cb09-4208-833c-a06224c5e1a9"
      },
      "execution_count": 3,
      "outputs": [
        {
          "output_type": "execute_result",
          "data": {
            "text/plain": [
              "array('i', [2, 10, 25, 26, -256])"
            ]
          },
          "metadata": {},
          "execution_count": 3
        }
      ]
    },
    {
      "cell_type": "code",
      "source": [
        "type(arr)"
      ],
      "metadata": {
        "colab": {
          "base_uri": "https://localhost:8080/"
        },
        "id": "GqhXIZhcKokn",
        "outputId": "7001d6d6-6887-4bdb-ec1b-d6ee91915909"
      },
      "execution_count": 4,
      "outputs": [
        {
          "output_type": "execute_result",
          "data": {
            "text/plain": [
              "array.array"
            ]
          },
          "metadata": {},
          "execution_count": 4
        }
      ]
    },
    {
      "cell_type": "code",
      "source": [
        "ar1 = ar.array(\"i\",[10,20,56,100,-156])"
      ],
      "metadata": {
        "id": "f6URMDMiYM9N"
      },
      "execution_count": 8,
      "outputs": []
    },
    {
      "cell_type": "code",
      "source": [
        "ar1"
      ],
      "metadata": {
        "id": "bjp5ijkmYNAD",
        "colab": {
          "base_uri": "https://localhost:8080/"
        },
        "outputId": "908d78a6-5a66-4021-f316-38073c581ad1"
      },
      "execution_count": 9,
      "outputs": [
        {
          "output_type": "execute_result",
          "data": {
            "text/plain": [
              "array('i', [10, 20, 56, 100, -156])"
            ]
          },
          "metadata": {},
          "execution_count": 9
        }
      ]
    },
    {
      "cell_type": "code",
      "source": [
        "type(ar1)"
      ],
      "metadata": {
        "id": "KGksAaRsYNDB",
        "colab": {
          "base_uri": "https://localhost:8080/"
        },
        "outputId": "5e0cb7fd-99aa-4ecf-f75b-7411405c6191"
      },
      "execution_count": 11,
      "outputs": [
        {
          "output_type": "execute_result",
          "data": {
            "text/plain": [
              "array.array"
            ]
          },
          "metadata": {},
          "execution_count": 11
        }
      ]
    },
    {
      "cell_type": "code",
      "source": [
        "ar2 = ar.array(\"i\",[10,20,56,100,-156,10.])\n",
        "ar2"
      ],
      "metadata": {
        "id": "HCpSqQW0YNFz",
        "colab": {
          "base_uri": "https://localhost:8080/",
          "height": 186
        },
        "outputId": "2629b589-aadb-4244-b203-adb890fe2254"
      },
      "execution_count": 12,
      "outputs": [
        {
          "output_type": "error",
          "ename": "TypeError",
          "evalue": "ignored",
          "traceback": [
            "\u001b[0;31m---------------------------------------------------------------------------\u001b[0m",
            "\u001b[0;31mTypeError\u001b[0m                                 Traceback (most recent call last)",
            "\u001b[0;32m<ipython-input-12-12d6c29d4dd9>\u001b[0m in \u001b[0;36m<cell line: 1>\u001b[0;34m()\u001b[0m\n\u001b[0;32m----> 1\u001b[0;31m \u001b[0mar2\u001b[0m \u001b[0;34m=\u001b[0m \u001b[0mar\u001b[0m\u001b[0;34m.\u001b[0m\u001b[0marray\u001b[0m\u001b[0;34m(\u001b[0m\u001b[0;34m\"i\"\u001b[0m\u001b[0;34m,\u001b[0m\u001b[0;34m[\u001b[0m\u001b[0;36m10\u001b[0m\u001b[0;34m,\u001b[0m\u001b[0;36m20\u001b[0m\u001b[0;34m,\u001b[0m\u001b[0;36m56\u001b[0m\u001b[0;34m,\u001b[0m\u001b[0;36m100\u001b[0m\u001b[0;34m,\u001b[0m\u001b[0;34m-\u001b[0m\u001b[0;36m156\u001b[0m\u001b[0;34m,\u001b[0m\u001b[0;36m10.\u001b[0m\u001b[0;34m]\u001b[0m\u001b[0;34m)\u001b[0m\u001b[0;34m\u001b[0m\u001b[0;34m\u001b[0m\u001b[0m\n\u001b[0m\u001b[1;32m      2\u001b[0m \u001b[0mar2\u001b[0m\u001b[0;34m\u001b[0m\u001b[0;34m\u001b[0m\u001b[0m\n",
            "\u001b[0;31mTypeError\u001b[0m: 'float' object cannot be interpreted as an integer"
          ]
        }
      ]
    },
    {
      "cell_type": "markdown",
      "source": [
        "**Note : integer argument expected, got float**"
      ],
      "metadata": {
        "id": "4r8tVAXZXpHw"
      }
    },
    {
      "cell_type": "code",
      "source": [],
      "metadata": {
        "id": "dFyEgcJxYeGv"
      },
      "execution_count": null,
      "outputs": []
    },
    {
      "cell_type": "markdown",
      "source": [
        "**Hetrogeneous Data Structure**"
      ],
      "metadata": {
        "id": "qOS9FrBsYhiH"
      }
    },
    {
      "cell_type": "markdown",
      "source": [
        "   ==> It Is Used To Store Multiple Data Elements With Different Types of Data.\n",
        "   \n",
        "   ## Like : List , Tuple , Set , Dictionary"
      ],
      "metadata": {
        "id": "HowaOYHtYls4"
      }
    },
    {
      "cell_type": "code",
      "source": [
        "l1 = [10,10.5,5+10j,True,\"Sean\"]"
      ],
      "metadata": {
        "id": "0eDEk-IhYjJZ"
      },
      "execution_count": 13,
      "outputs": []
    },
    {
      "cell_type": "code",
      "source": [
        "l1"
      ],
      "metadata": {
        "id": "kCQvzLtsYpmE",
        "colab": {
          "base_uri": "https://localhost:8080/"
        },
        "outputId": "352bd5ad-40b0-4db1-fcbe-3ea76ade9b4e"
      },
      "execution_count": 14,
      "outputs": [
        {
          "output_type": "execute_result",
          "data": {
            "text/plain": [
              "[10, 10.5, (5+10j), True, 'Sean']"
            ]
          },
          "metadata": {},
          "execution_count": 14
        }
      ]
    },
    {
      "cell_type": "code",
      "source": [
        "type(l1)"
      ],
      "metadata": {
        "colab": {
          "base_uri": "https://localhost:8080/"
        },
        "id": "7BLv4Oa5LChk",
        "outputId": "03e15331-8c60-4392-d587-2fde5f677b3f"
      },
      "execution_count": 15,
      "outputs": [
        {
          "output_type": "execute_result",
          "data": {
            "text/plain": [
              "list"
            ]
          },
          "metadata": {},
          "execution_count": 15
        }
      ]
    },
    {
      "cell_type": "code",
      "source": [
        "t1 = (10,\"Sean\",True,25.56,10j)"
      ],
      "metadata": {
        "id": "rI8ZcphvLEH1"
      },
      "execution_count": 16,
      "outputs": []
    },
    {
      "cell_type": "code",
      "source": [
        "t1"
      ],
      "metadata": {
        "colab": {
          "base_uri": "https://localhost:8080/"
        },
        "id": "FmDPFQs3LJgD",
        "outputId": "dd7f4b7c-4275-404b-88c2-ac535e0d4c2a"
      },
      "execution_count": 17,
      "outputs": [
        {
          "output_type": "execute_result",
          "data": {
            "text/plain": [
              "(10, 'Sean', True, 25.56, 10j)"
            ]
          },
          "metadata": {},
          "execution_count": 17
        }
      ]
    },
    {
      "cell_type": "code",
      "source": [
        "type(t1)"
      ],
      "metadata": {
        "colab": {
          "base_uri": "https://localhost:8080/"
        },
        "id": "I07SmziMLKQs",
        "outputId": "1b172a0d-de61-46d5-d42d-ca9c8b4bb745"
      },
      "execution_count": 18,
      "outputs": [
        {
          "output_type": "execute_result",
          "data": {
            "text/plain": [
              "tuple"
            ]
          },
          "metadata": {},
          "execution_count": 18
        }
      ]
    },
    {
      "cell_type": "code",
      "source": [
        "s1 = {25,25.56,True,56j,\"Mike\"}"
      ],
      "metadata": {
        "id": "EFvizIwoLLXL"
      },
      "execution_count": 19,
      "outputs": []
    },
    {
      "cell_type": "code",
      "source": [
        "s1"
      ],
      "metadata": {
        "colab": {
          "base_uri": "https://localhost:8080/"
        },
        "id": "tstvgrhnLREa",
        "outputId": "27e0a992-1cb5-4f70-8083-a5886c71040e"
      },
      "execution_count": 20,
      "outputs": [
        {
          "output_type": "execute_result",
          "data": {
            "text/plain": [
              "{25, 25.56, 56j, 'Mike', True}"
            ]
          },
          "metadata": {},
          "execution_count": 20
        }
      ]
    },
    {
      "cell_type": "code",
      "source": [
        "type(s1)"
      ],
      "metadata": {
        "colab": {
          "base_uri": "https://localhost:8080/"
        },
        "id": "Sbq2t8SXLSMs",
        "outputId": "f59f2ef0-97c1-4a40-846a-f9f7ca4d222e"
      },
      "execution_count": 21,
      "outputs": [
        {
          "output_type": "execute_result",
          "data": {
            "text/plain": [
              "set"
            ]
          },
          "metadata": {},
          "execution_count": 21
        }
      ]
    },
    {
      "cell_type": "code",
      "source": [
        "d1 = {\"Int\":25,\"String\":\"Mike\",\"Complex\":10+6j,\"Bool\":True,\"Float\":56.0}"
      ],
      "metadata": {
        "id": "EaFwtZkVLUbD"
      },
      "execution_count": 22,
      "outputs": []
    },
    {
      "cell_type": "code",
      "source": [
        "d1"
      ],
      "metadata": {
        "colab": {
          "base_uri": "https://localhost:8080/"
        },
        "id": "Ji5XloCSLgaK",
        "outputId": "4cac9f26-4b72-4c85-f6e0-437aa42f7286"
      },
      "execution_count": 23,
      "outputs": [
        {
          "output_type": "execute_result",
          "data": {
            "text/plain": [
              "{'Int': 25, 'String': 'Mike', 'Complex': (10+6j), 'Bool': True, 'Float': 56.0}"
            ]
          },
          "metadata": {},
          "execution_count": 23
        }
      ]
    },
    {
      "cell_type": "code",
      "source": [
        "type(d1)"
      ],
      "metadata": {
        "colab": {
          "base_uri": "https://localhost:8080/"
        },
        "id": "qdPmCFFPLhFO",
        "outputId": "bcf92cc9-d34f-48dc-b8af-ab1343622050"
      },
      "execution_count": 24,
      "outputs": [
        {
          "output_type": "execute_result",
          "data": {
            "text/plain": [
              "dict"
            ]
          },
          "metadata": {},
          "execution_count": 24
        }
      ]
    },
    {
      "cell_type": "code",
      "source": [],
      "metadata": {
        "id": "THX2aEFCLiZm"
      },
      "execution_count": null,
      "outputs": []
    }
  ]
}